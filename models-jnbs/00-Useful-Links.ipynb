{
 "cells": [
  {
   "cell_type": "markdown",
   "metadata": {},
   "source": [
    "---------\n",
    "\n",
    "## References and Useful Links While doing Experimentation with CRF\n",
    "\n",
    "---------\n",
    "\n",
    "* ner using crf, elit5\n",
    "https://www.kaggle.com/shoumikgoswami/ner-using-random-forest-and-crf\n",
    "\n",
    "* bi-lstm-crf model\n",
    "https://medium.com/@utkarsh.kumar2407/named-entity-recognition-using-bidirectional-lstm-crf-9f4942746b3c\n",
    "\n",
    "* bi-lstm, hmm, conditional markov model\n",
    "https://github.com/omerwase/Named-Entity-Recognition\n",
    "\n",
    "* HMM ner\n",
    "https://www.cs.cornell.edu/courses/cs4740/2012sp/lectures/hmm-ner-memms-4pp.pdf\n"
   ]
  },
  {
   "cell_type": "markdown",
   "metadata": {},
   "source": [
    "# to do lists\n",
    "- [ ] I used spacy `word.pos_` instead of using `word.tag_`, so it requires to setup a check to see what happens\n",
    "- [ ] Experimenting with Conditional Markov Model - MaxEntropy\n",
    "- [ ] Creating Emotional Intensity Embedding using Vader and Isomap\n",
    "- [ ] Experimenting with Emotional Embedding and XGBoost Models\n",
    "- [ ] Experimenting with Emotional Embedding and CRF, CMM models"
   ]
  },
  {
   "cell_type": "markdown",
   "metadata": {},
   "source": [
    "**Vader**"
   ]
  },
  {
   "cell_type": "code",
   "execution_count": 1,
   "metadata": {},
   "outputs": [],
   "source": [
    "from nltk.sentiment.vader import SentimentIntensityAnalyzer\n",
    "vader = SentimentIntensityAnalyzer()\n",
    "\n",
    "def sia(word):\n",
    "    return vader.polarity_scores(word)['compound']"
   ]
  },
  {
   "cell_type": "code",
   "execution_count": 24,
   "metadata": {},
   "outputs": [
    {
     "data": {
      "text/plain": [
       "(-0.5423, -0.5574, -0.1027)"
      ]
     },
     "execution_count": 24,
     "metadata": {},
     "output_type": "execute_result"
    }
   ],
   "source": [
    "sia(\"Fuck\"), sia(\"Shit\"), sia(\"Screw\")"
   ]
  },
  {
   "cell_type": "markdown",
   "metadata": {},
   "source": [
    "**Spacy Tags**"
   ]
  },
  {
   "cell_type": "markdown",
   "metadata": {},
   "source": [
    "```python\n",
    "token[index].text, token[index].pos_, token[index].tag_, token[index].ent_iob_, token[index].lemma_\n",
    "(\"'s\", 'PART', 'POS', 'O', \"'s\")\n",
    "```"
   ]
  },
  {
   "cell_type": "markdown",
   "metadata": {},
   "source": [
    "## Character-bert model\n",
    "\n",
    "https://github.com/helboukkouri/character-bert"
   ]
  },
  {
   "cell_type": "code",
   "execution_count": null,
   "metadata": {},
   "outputs": [],
   "source": []
  }
 ],
 "metadata": {
  "kernelspec": {
   "display_name": "Python 3",
   "language": "python",
   "name": "python3"
  },
  "language_info": {
   "codemirror_mode": {
    "name": "ipython",
    "version": 3
   },
   "file_extension": ".py",
   "mimetype": "text/x-python",
   "name": "python",
   "nbconvert_exporter": "python",
   "pygments_lexer": "ipython3",
   "version": "3.6.9"
  }
 },
 "nbformat": 4,
 "nbformat_minor": 2
}
