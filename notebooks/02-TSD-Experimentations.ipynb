{
  "nbformat": 4,
  "nbformat_minor": 0,
  "metadata": {
    "colab": {
      "name": "01_TSD_Experimentations.ipynb",
      "provenance": [],
      "collapsed_sections": [
        "Z3eqDO-14N0J",
        "volsFiYKeN8y",
        "Rcs07Mj04zxa"
      ],
      "toc_visible": true
    },
    "kernelspec": {
      "display_name": "Python 3",
      "name": "python3"
    },
    "widgets": {
      "application/vnd.jupyter.widget-state+json": {
        "6063374bb6264eb28c706443d8f176d3": {
          "model_module": "@jupyter-widgets/controls",
          "model_name": "HBoxModel",
          "state": {
            "_view_name": "HBoxView",
            "_dom_classes": [],
            "_model_name": "HBoxModel",
            "_view_module": "@jupyter-widgets/controls",
            "_model_module_version": "1.5.0",
            "_view_count": null,
            "_view_module_version": "1.5.0",
            "box_style": "",
            "layout": "IPY_MODEL_4f66179ea5dd4034a792253db26a045a",
            "_model_module": "@jupyter-widgets/controls",
            "children": [
              "IPY_MODEL_c2b210009cd54e3daa03c706cc8d82d5",
              "IPY_MODEL_5a7b96b241eb4688929c075d4fe7148b"
            ]
          }
        },
        "4f66179ea5dd4034a792253db26a045a": {
          "model_module": "@jupyter-widgets/base",
          "model_name": "LayoutModel",
          "state": {
            "_view_name": "LayoutView",
            "grid_template_rows": null,
            "right": null,
            "justify_content": null,
            "_view_module": "@jupyter-widgets/base",
            "overflow": null,
            "_model_module_version": "1.2.0",
            "_view_count": null,
            "flex_flow": null,
            "width": null,
            "min_width": null,
            "border": null,
            "align_items": null,
            "bottom": null,
            "_model_module": "@jupyter-widgets/base",
            "top": null,
            "grid_column": null,
            "overflow_y": null,
            "overflow_x": null,
            "grid_auto_flow": null,
            "grid_area": null,
            "grid_template_columns": null,
            "flex": null,
            "_model_name": "LayoutModel",
            "justify_items": null,
            "grid_row": null,
            "max_height": null,
            "align_content": null,
            "visibility": null,
            "align_self": null,
            "height": null,
            "min_height": null,
            "padding": null,
            "grid_auto_rows": null,
            "grid_gap": null,
            "max_width": null,
            "order": null,
            "_view_module_version": "1.2.0",
            "grid_template_areas": null,
            "object_position": null,
            "object_fit": null,
            "grid_auto_columns": null,
            "margin": null,
            "display": null,
            "left": null
          }
        },
        "c2b210009cd54e3daa03c706cc8d82d5": {
          "model_module": "@jupyter-widgets/controls",
          "model_name": "FloatProgressModel",
          "state": {
            "_view_name": "ProgressView",
            "style": "IPY_MODEL_12870564439941778da9876e37f8838b",
            "_dom_classes": [],
            "description": "Downloading: 100%",
            "_model_name": "FloatProgressModel",
            "bar_style": "success",
            "max": 898823,
            "_view_module": "@jupyter-widgets/controls",
            "_model_module_version": "1.5.0",
            "value": 898823,
            "_view_count": null,
            "_view_module_version": "1.5.0",
            "orientation": "horizontal",
            "min": 0,
            "description_tooltip": null,
            "_model_module": "@jupyter-widgets/controls",
            "layout": "IPY_MODEL_286451b6181e49d58fa7d0de060d1e47"
          }
        },
        "5a7b96b241eb4688929c075d4fe7148b": {
          "model_module": "@jupyter-widgets/controls",
          "model_name": "HTMLModel",
          "state": {
            "_view_name": "HTMLView",
            "style": "IPY_MODEL_cd8f223e359d43da93947da592dc24d6",
            "_dom_classes": [],
            "description": "",
            "_model_name": "HTMLModel",
            "placeholder": "​",
            "_view_module": "@jupyter-widgets/controls",
            "_model_module_version": "1.5.0",
            "value": " 899k/899k [00:03&lt;00:00, 285kB/s]",
            "_view_count": null,
            "_view_module_version": "1.5.0",
            "description_tooltip": null,
            "_model_module": "@jupyter-widgets/controls",
            "layout": "IPY_MODEL_f55c7bf5c5d24dd393af3ad91b918d89"
          }
        },
        "12870564439941778da9876e37f8838b": {
          "model_module": "@jupyter-widgets/controls",
          "model_name": "ProgressStyleModel",
          "state": {
            "_view_name": "StyleView",
            "_model_name": "ProgressStyleModel",
            "description_width": "initial",
            "_view_module": "@jupyter-widgets/base",
            "_model_module_version": "1.5.0",
            "_view_count": null,
            "_view_module_version": "1.2.0",
            "bar_color": null,
            "_model_module": "@jupyter-widgets/controls"
          }
        },
        "286451b6181e49d58fa7d0de060d1e47": {
          "model_module": "@jupyter-widgets/base",
          "model_name": "LayoutModel",
          "state": {
            "_view_name": "LayoutView",
            "grid_template_rows": null,
            "right": null,
            "justify_content": null,
            "_view_module": "@jupyter-widgets/base",
            "overflow": null,
            "_model_module_version": "1.2.0",
            "_view_count": null,
            "flex_flow": null,
            "width": null,
            "min_width": null,
            "border": null,
            "align_items": null,
            "bottom": null,
            "_model_module": "@jupyter-widgets/base",
            "top": null,
            "grid_column": null,
            "overflow_y": null,
            "overflow_x": null,
            "grid_auto_flow": null,
            "grid_area": null,
            "grid_template_columns": null,
            "flex": null,
            "_model_name": "LayoutModel",
            "justify_items": null,
            "grid_row": null,
            "max_height": null,
            "align_content": null,
            "visibility": null,
            "align_self": null,
            "height": null,
            "min_height": null,
            "padding": null,
            "grid_auto_rows": null,
            "grid_gap": null,
            "max_width": null,
            "order": null,
            "_view_module_version": "1.2.0",
            "grid_template_areas": null,
            "object_position": null,
            "object_fit": null,
            "grid_auto_columns": null,
            "margin": null,
            "display": null,
            "left": null
          }
        },
        "cd8f223e359d43da93947da592dc24d6": {
          "model_module": "@jupyter-widgets/controls",
          "model_name": "DescriptionStyleModel",
          "state": {
            "_view_name": "StyleView",
            "_model_name": "DescriptionStyleModel",
            "description_width": "",
            "_view_module": "@jupyter-widgets/base",
            "_model_module_version": "1.5.0",
            "_view_count": null,
            "_view_module_version": "1.2.0",
            "_model_module": "@jupyter-widgets/controls"
          }
        },
        "f55c7bf5c5d24dd393af3ad91b918d89": {
          "model_module": "@jupyter-widgets/base",
          "model_name": "LayoutModel",
          "state": {
            "_view_name": "LayoutView",
            "grid_template_rows": null,
            "right": null,
            "justify_content": null,
            "_view_module": "@jupyter-widgets/base",
            "overflow": null,
            "_model_module_version": "1.2.0",
            "_view_count": null,
            "flex_flow": null,
            "width": null,
            "min_width": null,
            "border": null,
            "align_items": null,
            "bottom": null,
            "_model_module": "@jupyter-widgets/base",
            "top": null,
            "grid_column": null,
            "overflow_y": null,
            "overflow_x": null,
            "grid_auto_flow": null,
            "grid_area": null,
            "grid_template_columns": null,
            "flex": null,
            "_model_name": "LayoutModel",
            "justify_items": null,
            "grid_row": null,
            "max_height": null,
            "align_content": null,
            "visibility": null,
            "align_self": null,
            "height": null,
            "min_height": null,
            "padding": null,
            "grid_auto_rows": null,
            "grid_gap": null,
            "max_width": null,
            "order": null,
            "_view_module_version": "1.2.0",
            "grid_template_areas": null,
            "object_position": null,
            "object_fit": null,
            "grid_auto_columns": null,
            "margin": null,
            "display": null,
            "left": null
          }
        },
        "f3968a748597461bb87d42dff14c5f18": {
          "model_module": "@jupyter-widgets/controls",
          "model_name": "HBoxModel",
          "state": {
            "_view_name": "HBoxView",
            "_dom_classes": [],
            "_model_name": "HBoxModel",
            "_view_module": "@jupyter-widgets/controls",
            "_model_module_version": "1.5.0",
            "_view_count": null,
            "_view_module_version": "1.5.0",
            "box_style": "",
            "layout": "IPY_MODEL_2f3151a9de144de2b102a6d8da38d704",
            "_model_module": "@jupyter-widgets/controls",
            "children": [
              "IPY_MODEL_7336a95e53804971988aef566097516e",
              "IPY_MODEL_c9f5aaaf11c24cf7b149c7301da137d6"
            ]
          }
        },
        "2f3151a9de144de2b102a6d8da38d704": {
          "model_module": "@jupyter-widgets/base",
          "model_name": "LayoutModel",
          "state": {
            "_view_name": "LayoutView",
            "grid_template_rows": null,
            "right": null,
            "justify_content": null,
            "_view_module": "@jupyter-widgets/base",
            "overflow": null,
            "_model_module_version": "1.2.0",
            "_view_count": null,
            "flex_flow": null,
            "width": null,
            "min_width": null,
            "border": null,
            "align_items": null,
            "bottom": null,
            "_model_module": "@jupyter-widgets/base",
            "top": null,
            "grid_column": null,
            "overflow_y": null,
            "overflow_x": null,
            "grid_auto_flow": null,
            "grid_area": null,
            "grid_template_columns": null,
            "flex": null,
            "_model_name": "LayoutModel",
            "justify_items": null,
            "grid_row": null,
            "max_height": null,
            "align_content": null,
            "visibility": null,
            "align_self": null,
            "height": null,
            "min_height": null,
            "padding": null,
            "grid_auto_rows": null,
            "grid_gap": null,
            "max_width": null,
            "order": null,
            "_view_module_version": "1.2.0",
            "grid_template_areas": null,
            "object_position": null,
            "object_fit": null,
            "grid_auto_columns": null,
            "margin": null,
            "display": null,
            "left": null
          }
        },
        "7336a95e53804971988aef566097516e": {
          "model_module": "@jupyter-widgets/controls",
          "model_name": "FloatProgressModel",
          "state": {
            "_view_name": "ProgressView",
            "style": "IPY_MODEL_33082cbb00644d1b9ab24ade0083261e",
            "_dom_classes": [],
            "description": "Downloading: 100%",
            "_model_name": "FloatProgressModel",
            "bar_style": "success",
            "max": 456318,
            "_view_module": "@jupyter-widgets/controls",
            "_model_module_version": "1.5.0",
            "value": 456318,
            "_view_count": null,
            "_view_module_version": "1.5.0",
            "orientation": "horizontal",
            "min": 0,
            "description_tooltip": null,
            "_model_module": "@jupyter-widgets/controls",
            "layout": "IPY_MODEL_36ca528687e74b4aa0399c4e8b682641"
          }
        },
        "c9f5aaaf11c24cf7b149c7301da137d6": {
          "model_module": "@jupyter-widgets/controls",
          "model_name": "HTMLModel",
          "state": {
            "_view_name": "HTMLView",
            "style": "IPY_MODEL_ea77e3440d6645448bf1a357cdb003e4",
            "_dom_classes": [],
            "description": "",
            "_model_name": "HTMLModel",
            "placeholder": "​",
            "_view_module": "@jupyter-widgets/controls",
            "_model_module_version": "1.5.0",
            "value": " 456k/456k [00:00&lt;00:00, 478kB/s]",
            "_view_count": null,
            "_view_module_version": "1.5.0",
            "description_tooltip": null,
            "_model_module": "@jupyter-widgets/controls",
            "layout": "IPY_MODEL_bdec7fa2f6ae46e6acde716ded338f99"
          }
        },
        "33082cbb00644d1b9ab24ade0083261e": {
          "model_module": "@jupyter-widgets/controls",
          "model_name": "ProgressStyleModel",
          "state": {
            "_view_name": "StyleView",
            "_model_name": "ProgressStyleModel",
            "description_width": "initial",
            "_view_module": "@jupyter-widgets/base",
            "_model_module_version": "1.5.0",
            "_view_count": null,
            "_view_module_version": "1.2.0",
            "bar_color": null,
            "_model_module": "@jupyter-widgets/controls"
          }
        },
        "36ca528687e74b4aa0399c4e8b682641": {
          "model_module": "@jupyter-widgets/base",
          "model_name": "LayoutModel",
          "state": {
            "_view_name": "LayoutView",
            "grid_template_rows": null,
            "right": null,
            "justify_content": null,
            "_view_module": "@jupyter-widgets/base",
            "overflow": null,
            "_model_module_version": "1.2.0",
            "_view_count": null,
            "flex_flow": null,
            "width": null,
            "min_width": null,
            "border": null,
            "align_items": null,
            "bottom": null,
            "_model_module": "@jupyter-widgets/base",
            "top": null,
            "grid_column": null,
            "overflow_y": null,
            "overflow_x": null,
            "grid_auto_flow": null,
            "grid_area": null,
            "grid_template_columns": null,
            "flex": null,
            "_model_name": "LayoutModel",
            "justify_items": null,
            "grid_row": null,
            "max_height": null,
            "align_content": null,
            "visibility": null,
            "align_self": null,
            "height": null,
            "min_height": null,
            "padding": null,
            "grid_auto_rows": null,
            "grid_gap": null,
            "max_width": null,
            "order": null,
            "_view_module_version": "1.2.0",
            "grid_template_areas": null,
            "object_position": null,
            "object_fit": null,
            "grid_auto_columns": null,
            "margin": null,
            "display": null,
            "left": null
          }
        },
        "ea77e3440d6645448bf1a357cdb003e4": {
          "model_module": "@jupyter-widgets/controls",
          "model_name": "DescriptionStyleModel",
          "state": {
            "_view_name": "StyleView",
            "_model_name": "DescriptionStyleModel",
            "description_width": "",
            "_view_module": "@jupyter-widgets/base",
            "_model_module_version": "1.5.0",
            "_view_count": null,
            "_view_module_version": "1.2.0",
            "_model_module": "@jupyter-widgets/controls"
          }
        },
        "bdec7fa2f6ae46e6acde716ded338f99": {
          "model_module": "@jupyter-widgets/base",
          "model_name": "LayoutModel",
          "state": {
            "_view_name": "LayoutView",
            "grid_template_rows": null,
            "right": null,
            "justify_content": null,
            "_view_module": "@jupyter-widgets/base",
            "overflow": null,
            "_model_module_version": "1.2.0",
            "_view_count": null,
            "flex_flow": null,
            "width": null,
            "min_width": null,
            "border": null,
            "align_items": null,
            "bottom": null,
            "_model_module": "@jupyter-widgets/base",
            "top": null,
            "grid_column": null,
            "overflow_y": null,
            "overflow_x": null,
            "grid_auto_flow": null,
            "grid_area": null,
            "grid_template_columns": null,
            "flex": null,
            "_model_name": "LayoutModel",
            "justify_items": null,
            "grid_row": null,
            "max_height": null,
            "align_content": null,
            "visibility": null,
            "align_self": null,
            "height": null,
            "min_height": null,
            "padding": null,
            "grid_auto_rows": null,
            "grid_gap": null,
            "max_width": null,
            "order": null,
            "_view_module_version": "1.2.0",
            "grid_template_areas": null,
            "object_position": null,
            "object_fit": null,
            "grid_auto_columns": null,
            "margin": null,
            "display": null,
            "left": null
          }
        },
        "7a92eef2c0814ebc85d885422a36d1fa": {
          "model_module": "@jupyter-widgets/controls",
          "model_name": "HBoxModel",
          "state": {
            "_view_name": "HBoxView",
            "_dom_classes": [],
            "_model_name": "HBoxModel",
            "_view_module": "@jupyter-widgets/controls",
            "_model_module_version": "1.5.0",
            "_view_count": null,
            "_view_module_version": "1.5.0",
            "box_style": "",
            "layout": "IPY_MODEL_8271de17cb514edb9d1b8b2da9f94685",
            "_model_module": "@jupyter-widgets/controls",
            "children": [
              "IPY_MODEL_b1729f8849e24dde84ceb72d481ec99a",
              "IPY_MODEL_c3b279e3beb24733b79b7ca3c1ae84f9"
            ]
          }
        },
        "8271de17cb514edb9d1b8b2da9f94685": {
          "model_module": "@jupyter-widgets/base",
          "model_name": "LayoutModel",
          "state": {
            "_view_name": "LayoutView",
            "grid_template_rows": null,
            "right": null,
            "justify_content": null,
            "_view_module": "@jupyter-widgets/base",
            "overflow": null,
            "_model_module_version": "1.2.0",
            "_view_count": null,
            "flex_flow": null,
            "width": null,
            "min_width": null,
            "border": null,
            "align_items": null,
            "bottom": null,
            "_model_module": "@jupyter-widgets/base",
            "top": null,
            "grid_column": null,
            "overflow_y": null,
            "overflow_x": null,
            "grid_auto_flow": null,
            "grid_area": null,
            "grid_template_columns": null,
            "flex": null,
            "_model_name": "LayoutModel",
            "justify_items": null,
            "grid_row": null,
            "max_height": null,
            "align_content": null,
            "visibility": null,
            "align_self": null,
            "height": null,
            "min_height": null,
            "padding": null,
            "grid_auto_rows": null,
            "grid_gap": null,
            "max_width": null,
            "order": null,
            "_view_module_version": "1.2.0",
            "grid_template_areas": null,
            "object_position": null,
            "object_fit": null,
            "grid_auto_columns": null,
            "margin": null,
            "display": null,
            "left": null
          }
        },
        "b1729f8849e24dde84ceb72d481ec99a": {
          "model_module": "@jupyter-widgets/controls",
          "model_name": "FloatProgressModel",
          "state": {
            "_view_name": "ProgressView",
            "style": "IPY_MODEL_2283cdee66dc4a079b97da9885f28038",
            "_dom_classes": [],
            "description": "Downloading: 100%",
            "_model_name": "FloatProgressModel",
            "bar_style": "success",
            "max": 481,
            "_view_module": "@jupyter-widgets/controls",
            "_model_module_version": "1.5.0",
            "value": 481,
            "_view_count": null,
            "_view_module_version": "1.5.0",
            "orientation": "horizontal",
            "min": 0,
            "description_tooltip": null,
            "_model_module": "@jupyter-widgets/controls",
            "layout": "IPY_MODEL_b1a2981005904f81b79946e7c3f279d3"
          }
        },
        "c3b279e3beb24733b79b7ca3c1ae84f9": {
          "model_module": "@jupyter-widgets/controls",
          "model_name": "HTMLModel",
          "state": {
            "_view_name": "HTMLView",
            "style": "IPY_MODEL_90fc6036530441afba1ac449a8cf229a",
            "_dom_classes": [],
            "description": "",
            "_model_name": "HTMLModel",
            "placeholder": "​",
            "_view_module": "@jupyter-widgets/controls",
            "_model_module_version": "1.5.0",
            "value": " 481/481 [00:00&lt;00:00, 499B/s]",
            "_view_count": null,
            "_view_module_version": "1.5.0",
            "description_tooltip": null,
            "_model_module": "@jupyter-widgets/controls",
            "layout": "IPY_MODEL_8ad7e125299b47d78d03986ed3138ad2"
          }
        },
        "2283cdee66dc4a079b97da9885f28038": {
          "model_module": "@jupyter-widgets/controls",
          "model_name": "ProgressStyleModel",
          "state": {
            "_view_name": "StyleView",
            "_model_name": "ProgressStyleModel",
            "description_width": "initial",
            "_view_module": "@jupyter-widgets/base",
            "_model_module_version": "1.5.0",
            "_view_count": null,
            "_view_module_version": "1.2.0",
            "bar_color": null,
            "_model_module": "@jupyter-widgets/controls"
          }
        },
        "b1a2981005904f81b79946e7c3f279d3": {
          "model_module": "@jupyter-widgets/base",
          "model_name": "LayoutModel",
          "state": {
            "_view_name": "LayoutView",
            "grid_template_rows": null,
            "right": null,
            "justify_content": null,
            "_view_module": "@jupyter-widgets/base",
            "overflow": null,
            "_model_module_version": "1.2.0",
            "_view_count": null,
            "flex_flow": null,
            "width": null,
            "min_width": null,
            "border": null,
            "align_items": null,
            "bottom": null,
            "_model_module": "@jupyter-widgets/base",
            "top": null,
            "grid_column": null,
            "overflow_y": null,
            "overflow_x": null,
            "grid_auto_flow": null,
            "grid_area": null,
            "grid_template_columns": null,
            "flex": null,
            "_model_name": "LayoutModel",
            "justify_items": null,
            "grid_row": null,
            "max_height": null,
            "align_content": null,
            "visibility": null,
            "align_self": null,
            "height": null,
            "min_height": null,
            "padding": null,
            "grid_auto_rows": null,
            "grid_gap": null,
            "max_width": null,
            "order": null,
            "_view_module_version": "1.2.0",
            "grid_template_areas": null,
            "object_position": null,
            "object_fit": null,
            "grid_auto_columns": null,
            "margin": null,
            "display": null,
            "left": null
          }
        },
        "90fc6036530441afba1ac449a8cf229a": {
          "model_module": "@jupyter-widgets/controls",
          "model_name": "DescriptionStyleModel",
          "state": {
            "_view_name": "StyleView",
            "_model_name": "DescriptionStyleModel",
            "description_width": "",
            "_view_module": "@jupyter-widgets/base",
            "_model_module_version": "1.5.0",
            "_view_count": null,
            "_view_module_version": "1.2.0",
            "_model_module": "@jupyter-widgets/controls"
          }
        },
        "8ad7e125299b47d78d03986ed3138ad2": {
          "model_module": "@jupyter-widgets/base",
          "model_name": "LayoutModel",
          "state": {
            "_view_name": "LayoutView",
            "grid_template_rows": null,
            "right": null,
            "justify_content": null,
            "_view_module": "@jupyter-widgets/base",
            "overflow": null,
            "_model_module_version": "1.2.0",
            "_view_count": null,
            "flex_flow": null,
            "width": null,
            "min_width": null,
            "border": null,
            "align_items": null,
            "bottom": null,
            "_model_module": "@jupyter-widgets/base",
            "top": null,
            "grid_column": null,
            "overflow_y": null,
            "overflow_x": null,
            "grid_auto_flow": null,
            "grid_area": null,
            "grid_template_columns": null,
            "flex": null,
            "_model_name": "LayoutModel",
            "justify_items": null,
            "grid_row": null,
            "max_height": null,
            "align_content": null,
            "visibility": null,
            "align_self": null,
            "height": null,
            "min_height": null,
            "padding": null,
            "grid_auto_rows": null,
            "grid_gap": null,
            "max_width": null,
            "order": null,
            "_view_module_version": "1.2.0",
            "grid_template_areas": null,
            "object_position": null,
            "object_fit": null,
            "grid_auto_columns": null,
            "margin": null,
            "display": null,
            "left": null
          }
        },
        "39bcd3921d2542e5ad8e7907c3404c69": {
          "model_module": "@jupyter-widgets/controls",
          "model_name": "HBoxModel",
          "state": {
            "_view_name": "HBoxView",
            "_dom_classes": [],
            "_model_name": "HBoxModel",
            "_view_module": "@jupyter-widgets/controls",
            "_model_module_version": "1.5.0",
            "_view_count": null,
            "_view_module_version": "1.5.0",
            "box_style": "",
            "layout": "IPY_MODEL_376b2533a64d4a3b90290dd98561ab00",
            "_model_module": "@jupyter-widgets/controls",
            "children": [
              "IPY_MODEL_d566d0157f3645ebb855d51b72342a1e",
              "IPY_MODEL_36e2ef24a8634046a93c678314a8d244"
            ]
          }
        },
        "376b2533a64d4a3b90290dd98561ab00": {
          "model_module": "@jupyter-widgets/base",
          "model_name": "LayoutModel",
          "state": {
            "_view_name": "LayoutView",
            "grid_template_rows": null,
            "right": null,
            "justify_content": null,
            "_view_module": "@jupyter-widgets/base",
            "overflow": null,
            "_model_module_version": "1.2.0",
            "_view_count": null,
            "flex_flow": null,
            "width": null,
            "min_width": null,
            "border": null,
            "align_items": null,
            "bottom": null,
            "_model_module": "@jupyter-widgets/base",
            "top": null,
            "grid_column": null,
            "overflow_y": null,
            "overflow_x": null,
            "grid_auto_flow": null,
            "grid_area": null,
            "grid_template_columns": null,
            "flex": null,
            "_model_name": "LayoutModel",
            "justify_items": null,
            "grid_row": null,
            "max_height": null,
            "align_content": null,
            "visibility": null,
            "align_self": null,
            "height": null,
            "min_height": null,
            "padding": null,
            "grid_auto_rows": null,
            "grid_gap": null,
            "max_width": null,
            "order": null,
            "_view_module_version": "1.2.0",
            "grid_template_areas": null,
            "object_position": null,
            "object_fit": null,
            "grid_auto_columns": null,
            "margin": null,
            "display": null,
            "left": null
          }
        },
        "d566d0157f3645ebb855d51b72342a1e": {
          "model_module": "@jupyter-widgets/controls",
          "model_name": "FloatProgressModel",
          "state": {
            "_view_name": "ProgressView",
            "style": "IPY_MODEL_0f6772bb116f43028f443d355d635fa9",
            "_dom_classes": [],
            "description": "Downloading: 100%",
            "_model_name": "FloatProgressModel",
            "bar_style": "success",
            "max": 501200538,
            "_view_module": "@jupyter-widgets/controls",
            "_model_module_version": "1.5.0",
            "value": 501200538,
            "_view_count": null,
            "_view_module_version": "1.5.0",
            "orientation": "horizontal",
            "min": 0,
            "description_tooltip": null,
            "_model_module": "@jupyter-widgets/controls",
            "layout": "IPY_MODEL_48763637e30b4770be5d697157623e6e"
          }
        },
        "36e2ef24a8634046a93c678314a8d244": {
          "model_module": "@jupyter-widgets/controls",
          "model_name": "HTMLModel",
          "state": {
            "_view_name": "HTMLView",
            "style": "IPY_MODEL_a8e8375341eb469fbf0be05d93969cdc",
            "_dom_classes": [],
            "description": "",
            "_model_name": "HTMLModel",
            "placeholder": "​",
            "_view_module": "@jupyter-widgets/controls",
            "_model_module_version": "1.5.0",
            "value": " 501M/501M [00:18&lt;00:00, 26.7MB/s]",
            "_view_count": null,
            "_view_module_version": "1.5.0",
            "description_tooltip": null,
            "_model_module": "@jupyter-widgets/controls",
            "layout": "IPY_MODEL_a500457dce3249478a216c856144f762"
          }
        },
        "0f6772bb116f43028f443d355d635fa9": {
          "model_module": "@jupyter-widgets/controls",
          "model_name": "ProgressStyleModel",
          "state": {
            "_view_name": "StyleView",
            "_model_name": "ProgressStyleModel",
            "description_width": "initial",
            "_view_module": "@jupyter-widgets/base",
            "_model_module_version": "1.5.0",
            "_view_count": null,
            "_view_module_version": "1.2.0",
            "bar_color": null,
            "_model_module": "@jupyter-widgets/controls"
          }
        },
        "48763637e30b4770be5d697157623e6e": {
          "model_module": "@jupyter-widgets/base",
          "model_name": "LayoutModel",
          "state": {
            "_view_name": "LayoutView",
            "grid_template_rows": null,
            "right": null,
            "justify_content": null,
            "_view_module": "@jupyter-widgets/base",
            "overflow": null,
            "_model_module_version": "1.2.0",
            "_view_count": null,
            "flex_flow": null,
            "width": null,
            "min_width": null,
            "border": null,
            "align_items": null,
            "bottom": null,
            "_model_module": "@jupyter-widgets/base",
            "top": null,
            "grid_column": null,
            "overflow_y": null,
            "overflow_x": null,
            "grid_auto_flow": null,
            "grid_area": null,
            "grid_template_columns": null,
            "flex": null,
            "_model_name": "LayoutModel",
            "justify_items": null,
            "grid_row": null,
            "max_height": null,
            "align_content": null,
            "visibility": null,
            "align_self": null,
            "height": null,
            "min_height": null,
            "padding": null,
            "grid_auto_rows": null,
            "grid_gap": null,
            "max_width": null,
            "order": null,
            "_view_module_version": "1.2.0",
            "grid_template_areas": null,
            "object_position": null,
            "object_fit": null,
            "grid_auto_columns": null,
            "margin": null,
            "display": null,
            "left": null
          }
        },
        "a8e8375341eb469fbf0be05d93969cdc": {
          "model_module": "@jupyter-widgets/controls",
          "model_name": "DescriptionStyleModel",
          "state": {
            "_view_name": "StyleView",
            "_model_name": "DescriptionStyleModel",
            "description_width": "",
            "_view_module": "@jupyter-widgets/base",
            "_model_module_version": "1.5.0",
            "_view_count": null,
            "_view_module_version": "1.2.0",
            "_model_module": "@jupyter-widgets/controls"
          }
        },
        "a500457dce3249478a216c856144f762": {
          "model_module": "@jupyter-widgets/base",
          "model_name": "LayoutModel",
          "state": {
            "_view_name": "LayoutView",
            "grid_template_rows": null,
            "right": null,
            "justify_content": null,
            "_view_module": "@jupyter-widgets/base",
            "overflow": null,
            "_model_module_version": "1.2.0",
            "_view_count": null,
            "flex_flow": null,
            "width": null,
            "min_width": null,
            "border": null,
            "align_items": null,
            "bottom": null,
            "_model_module": "@jupyter-widgets/base",
            "top": null,
            "grid_column": null,
            "overflow_y": null,
            "overflow_x": null,
            "grid_auto_flow": null,
            "grid_area": null,
            "grid_template_columns": null,
            "flex": null,
            "_model_name": "LayoutModel",
            "justify_items": null,
            "grid_row": null,
            "max_height": null,
            "align_content": null,
            "visibility": null,
            "align_self": null,
            "height": null,
            "min_height": null,
            "padding": null,
            "grid_auto_rows": null,
            "grid_gap": null,
            "max_width": null,
            "order": null,
            "_view_module_version": "1.2.0",
            "grid_template_areas": null,
            "object_position": null,
            "object_fit": null,
            "grid_auto_columns": null,
            "margin": null,
            "display": null,
            "left": null
          }
        },
        "eb75db505c2a4b1db02a9d87c8dbd5f8": {
          "model_module": "@jupyter-widgets/controls",
          "model_name": "HBoxModel",
          "state": {
            "_view_name": "HBoxView",
            "_dom_classes": [],
            "_model_name": "HBoxModel",
            "_view_module": "@jupyter-widgets/controls",
            "_model_module_version": "1.5.0",
            "_view_count": null,
            "_view_module_version": "1.5.0",
            "box_style": "",
            "layout": "IPY_MODEL_5c9787ca5e144d1fa9966e0b1c424c14",
            "_model_module": "@jupyter-widgets/controls",
            "children": [
              "IPY_MODEL_88d9a9b6c75547d3be8b577569ae4edb",
              "IPY_MODEL_3b6ce6c06769419ab55b89399c34d191"
            ]
          }
        },
        "5c9787ca5e144d1fa9966e0b1c424c14": {
          "model_module": "@jupyter-widgets/base",
          "model_name": "LayoutModel",
          "state": {
            "_view_name": "LayoutView",
            "grid_template_rows": null,
            "right": null,
            "justify_content": null,
            "_view_module": "@jupyter-widgets/base",
            "overflow": null,
            "_model_module_version": "1.2.0",
            "_view_count": null,
            "flex_flow": null,
            "width": null,
            "min_width": null,
            "border": null,
            "align_items": null,
            "bottom": null,
            "_model_module": "@jupyter-widgets/base",
            "top": null,
            "grid_column": null,
            "overflow_y": null,
            "overflow_x": null,
            "grid_auto_flow": null,
            "grid_area": null,
            "grid_template_columns": null,
            "flex": null,
            "_model_name": "LayoutModel",
            "justify_items": null,
            "grid_row": null,
            "max_height": null,
            "align_content": null,
            "visibility": null,
            "align_self": null,
            "height": null,
            "min_height": null,
            "padding": null,
            "grid_auto_rows": null,
            "grid_gap": null,
            "max_width": null,
            "order": null,
            "_view_module_version": "1.2.0",
            "grid_template_areas": null,
            "object_position": null,
            "object_fit": null,
            "grid_auto_columns": null,
            "margin": null,
            "display": null,
            "left": null
          }
        },
        "88d9a9b6c75547d3be8b577569ae4edb": {
          "model_module": "@jupyter-widgets/controls",
          "model_name": "FloatProgressModel",
          "state": {
            "_view_name": "ProgressView",
            "style": "IPY_MODEL_87b642b0aa114b58bf7106ab881590ab",
            "_dom_classes": [],
            "description": "Downloading: 100%",
            "_model_name": "FloatProgressModel",
            "bar_style": "success",
            "max": 1042301,
            "_view_module": "@jupyter-widgets/controls",
            "_model_module_version": "1.5.0",
            "value": 1042301,
            "_view_count": null,
            "_view_module_version": "1.5.0",
            "orientation": "horizontal",
            "min": 0,
            "description_tooltip": null,
            "_model_module": "@jupyter-widgets/controls",
            "layout": "IPY_MODEL_153cd121c2c44b9486d1b372f53c8181"
          }
        },
        "3b6ce6c06769419ab55b89399c34d191": {
          "model_module": "@jupyter-widgets/controls",
          "model_name": "HTMLModel",
          "state": {
            "_view_name": "HTMLView",
            "style": "IPY_MODEL_809c2a13ad964aa39e6fdcbee1ca6b35",
            "_dom_classes": [],
            "description": "",
            "_model_name": "HTMLModel",
            "placeholder": "​",
            "_view_module": "@jupyter-widgets/controls",
            "_model_module_version": "1.5.0",
            "value": " 1.04M/1.04M [00:02&lt;00:00, 474kB/s]",
            "_view_count": null,
            "_view_module_version": "1.5.0",
            "description_tooltip": null,
            "_model_module": "@jupyter-widgets/controls",
            "layout": "IPY_MODEL_a4ce0c29787144bc904704ce1e710777"
          }
        },
        "87b642b0aa114b58bf7106ab881590ab": {
          "model_module": "@jupyter-widgets/controls",
          "model_name": "ProgressStyleModel",
          "state": {
            "_view_name": "StyleView",
            "_model_name": "ProgressStyleModel",
            "description_width": "initial",
            "_view_module": "@jupyter-widgets/base",
            "_model_module_version": "1.5.0",
            "_view_count": null,
            "_view_module_version": "1.2.0",
            "bar_color": null,
            "_model_module": "@jupyter-widgets/controls"
          }
        },
        "153cd121c2c44b9486d1b372f53c8181": {
          "model_module": "@jupyter-widgets/base",
          "model_name": "LayoutModel",
          "state": {
            "_view_name": "LayoutView",
            "grid_template_rows": null,
            "right": null,
            "justify_content": null,
            "_view_module": "@jupyter-widgets/base",
            "overflow": null,
            "_model_module_version": "1.2.0",
            "_view_count": null,
            "flex_flow": null,
            "width": null,
            "min_width": null,
            "border": null,
            "align_items": null,
            "bottom": null,
            "_model_module": "@jupyter-widgets/base",
            "top": null,
            "grid_column": null,
            "overflow_y": null,
            "overflow_x": null,
            "grid_auto_flow": null,
            "grid_area": null,
            "grid_template_columns": null,
            "flex": null,
            "_model_name": "LayoutModel",
            "justify_items": null,
            "grid_row": null,
            "max_height": null,
            "align_content": null,
            "visibility": null,
            "align_self": null,
            "height": null,
            "min_height": null,
            "padding": null,
            "grid_auto_rows": null,
            "grid_gap": null,
            "max_width": null,
            "order": null,
            "_view_module_version": "1.2.0",
            "grid_template_areas": null,
            "object_position": null,
            "object_fit": null,
            "grid_auto_columns": null,
            "margin": null,
            "display": null,
            "left": null
          }
        },
        "809c2a13ad964aa39e6fdcbee1ca6b35": {
          "model_module": "@jupyter-widgets/controls",
          "model_name": "DescriptionStyleModel",
          "state": {
            "_view_name": "StyleView",
            "_model_name": "DescriptionStyleModel",
            "description_width": "",
            "_view_module": "@jupyter-widgets/base",
            "_model_module_version": "1.5.0",
            "_view_count": null,
            "_view_module_version": "1.2.0",
            "_model_module": "@jupyter-widgets/controls"
          }
        },
        "a4ce0c29787144bc904704ce1e710777": {
          "model_module": "@jupyter-widgets/base",
          "model_name": "LayoutModel",
          "state": {
            "_view_name": "LayoutView",
            "grid_template_rows": null,
            "right": null,
            "justify_content": null,
            "_view_module": "@jupyter-widgets/base",
            "overflow": null,
            "_model_module_version": "1.2.0",
            "_view_count": null,
            "flex_flow": null,
            "width": null,
            "min_width": null,
            "border": null,
            "align_items": null,
            "bottom": null,
            "_model_module": "@jupyter-widgets/base",
            "top": null,
            "grid_column": null,
            "overflow_y": null,
            "overflow_x": null,
            "grid_auto_flow": null,
            "grid_area": null,
            "grid_template_columns": null,
            "flex": null,
            "_model_name": "LayoutModel",
            "justify_items": null,
            "grid_row": null,
            "max_height": null,
            "align_content": null,
            "visibility": null,
            "align_self": null,
            "height": null,
            "min_height": null,
            "padding": null,
            "grid_auto_rows": null,
            "grid_gap": null,
            "max_width": null,
            "order": null,
            "_view_module_version": "1.2.0",
            "grid_template_areas": null,
            "object_position": null,
            "object_fit": null,
            "grid_auto_columns": null,
            "margin": null,
            "display": null,
            "left": null
          }
        },
        "1577a9ecec5047ac8fae543a4727bb77": {
          "model_module": "@jupyter-widgets/controls",
          "model_name": "HBoxModel",
          "state": {
            "_view_name": "HBoxView",
            "_dom_classes": [],
            "_model_name": "HBoxModel",
            "_view_module": "@jupyter-widgets/controls",
            "_model_module_version": "1.5.0",
            "_view_count": null,
            "_view_module_version": "1.5.0",
            "box_style": "",
            "layout": "IPY_MODEL_c626ebe28072482cbcf4ea6b1c27514f",
            "_model_module": "@jupyter-widgets/controls",
            "children": [
              "IPY_MODEL_6a792548e85f4fada43784060e9c21d7",
              "IPY_MODEL_d8334d0b54be4db4a5ab606c7fb849ce"
            ]
          }
        },
        "c626ebe28072482cbcf4ea6b1c27514f": {
          "model_module": "@jupyter-widgets/base",
          "model_name": "LayoutModel",
          "state": {
            "_view_name": "LayoutView",
            "grid_template_rows": null,
            "right": null,
            "justify_content": null,
            "_view_module": "@jupyter-widgets/base",
            "overflow": null,
            "_model_module_version": "1.2.0",
            "_view_count": null,
            "flex_flow": null,
            "width": null,
            "min_width": null,
            "border": null,
            "align_items": null,
            "bottom": null,
            "_model_module": "@jupyter-widgets/base",
            "top": null,
            "grid_column": null,
            "overflow_y": null,
            "overflow_x": null,
            "grid_auto_flow": null,
            "grid_area": null,
            "grid_template_columns": null,
            "flex": null,
            "_model_name": "LayoutModel",
            "justify_items": null,
            "grid_row": null,
            "max_height": null,
            "align_content": null,
            "visibility": null,
            "align_self": null,
            "height": null,
            "min_height": null,
            "padding": null,
            "grid_auto_rows": null,
            "grid_gap": null,
            "max_width": null,
            "order": null,
            "_view_module_version": "1.2.0",
            "grid_template_areas": null,
            "object_position": null,
            "object_fit": null,
            "grid_auto_columns": null,
            "margin": null,
            "display": null,
            "left": null
          }
        },
        "6a792548e85f4fada43784060e9c21d7": {
          "model_module": "@jupyter-widgets/controls",
          "model_name": "FloatProgressModel",
          "state": {
            "_view_name": "ProgressView",
            "style": "IPY_MODEL_4a8dcc4a866b4976ada326feafaf11fb",
            "_dom_classes": [],
            "description": "Downloading: 100%",
            "_model_name": "FloatProgressModel",
            "bar_style": "success",
            "max": 456318,
            "_view_module": "@jupyter-widgets/controls",
            "_model_module_version": "1.5.0",
            "value": 456318,
            "_view_count": null,
            "_view_module_version": "1.5.0",
            "orientation": "horizontal",
            "min": 0,
            "description_tooltip": null,
            "_model_module": "@jupyter-widgets/controls",
            "layout": "IPY_MODEL_5e75cde81a6c48a89124da37c52a3769"
          }
        },
        "d8334d0b54be4db4a5ab606c7fb849ce": {
          "model_module": "@jupyter-widgets/controls",
          "model_name": "HTMLModel",
          "state": {
            "_view_name": "HTMLView",
            "style": "IPY_MODEL_7e1292b5ad92426081e30fd177e7e078",
            "_dom_classes": [],
            "description": "",
            "_model_name": "HTMLModel",
            "placeholder": "​",
            "_view_module": "@jupyter-widgets/controls",
            "_model_module_version": "1.5.0",
            "value": " 456k/456k [00:00&lt;00:00, 477kB/s]",
            "_view_count": null,
            "_view_module_version": "1.5.0",
            "description_tooltip": null,
            "_model_module": "@jupyter-widgets/controls",
            "layout": "IPY_MODEL_d3a713f7e1914e8d97dd6859217c0afe"
          }
        },
        "4a8dcc4a866b4976ada326feafaf11fb": {
          "model_module": "@jupyter-widgets/controls",
          "model_name": "ProgressStyleModel",
          "state": {
            "_view_name": "StyleView",
            "_model_name": "ProgressStyleModel",
            "description_width": "initial",
            "_view_module": "@jupyter-widgets/base",
            "_model_module_version": "1.5.0",
            "_view_count": null,
            "_view_module_version": "1.2.0",
            "bar_color": null,
            "_model_module": "@jupyter-widgets/controls"
          }
        },
        "5e75cde81a6c48a89124da37c52a3769": {
          "model_module": "@jupyter-widgets/base",
          "model_name": "LayoutModel",
          "state": {
            "_view_name": "LayoutView",
            "grid_template_rows": null,
            "right": null,
            "justify_content": null,
            "_view_module": "@jupyter-widgets/base",
            "overflow": null,
            "_model_module_version": "1.2.0",
            "_view_count": null,
            "flex_flow": null,
            "width": null,
            "min_width": null,
            "border": null,
            "align_items": null,
            "bottom": null,
            "_model_module": "@jupyter-widgets/base",
            "top": null,
            "grid_column": null,
            "overflow_y": null,
            "overflow_x": null,
            "grid_auto_flow": null,
            "grid_area": null,
            "grid_template_columns": null,
            "flex": null,
            "_model_name": "LayoutModel",
            "justify_items": null,
            "grid_row": null,
            "max_height": null,
            "align_content": null,
            "visibility": null,
            "align_self": null,
            "height": null,
            "min_height": null,
            "padding": null,
            "grid_auto_rows": null,
            "grid_gap": null,
            "max_width": null,
            "order": null,
            "_view_module_version": "1.2.0",
            "grid_template_areas": null,
            "object_position": null,
            "object_fit": null,
            "grid_auto_columns": null,
            "margin": null,
            "display": null,
            "left": null
          }
        },
        "7e1292b5ad92426081e30fd177e7e078": {
          "model_module": "@jupyter-widgets/controls",
          "model_name": "DescriptionStyleModel",
          "state": {
            "_view_name": "StyleView",
            "_model_name": "DescriptionStyleModel",
            "description_width": "",
            "_view_module": "@jupyter-widgets/base",
            "_model_module_version": "1.5.0",
            "_view_count": null,
            "_view_module_version": "1.2.0",
            "_model_module": "@jupyter-widgets/controls"
          }
        },
        "d3a713f7e1914e8d97dd6859217c0afe": {
          "model_module": "@jupyter-widgets/base",
          "model_name": "LayoutModel",
          "state": {
            "_view_name": "LayoutView",
            "grid_template_rows": null,
            "right": null,
            "justify_content": null,
            "_view_module": "@jupyter-widgets/base",
            "overflow": null,
            "_model_module_version": "1.2.0",
            "_view_count": null,
            "flex_flow": null,
            "width": null,
            "min_width": null,
            "border": null,
            "align_items": null,
            "bottom": null,
            "_model_module": "@jupyter-widgets/base",
            "top": null,
            "grid_column": null,
            "overflow_y": null,
            "overflow_x": null,
            "grid_auto_flow": null,
            "grid_area": null,
            "grid_template_columns": null,
            "flex": null,
            "_model_name": "LayoutModel",
            "justify_items": null,
            "grid_row": null,
            "max_height": null,
            "align_content": null,
            "visibility": null,
            "align_self": null,
            "height": null,
            "min_height": null,
            "padding": null,
            "grid_auto_rows": null,
            "grid_gap": null,
            "max_width": null,
            "order": null,
            "_view_module_version": "1.2.0",
            "grid_template_areas": null,
            "object_position": null,
            "object_fit": null,
            "grid_auto_columns": null,
            "margin": null,
            "display": null,
            "left": null
          }
        },
        "cdce0653c6184a0b92c91c5edf541425": {
          "model_module": "@jupyter-widgets/controls",
          "model_name": "HBoxModel",
          "state": {
            "_view_name": "HBoxView",
            "_dom_classes": [],
            "_model_name": "HBoxModel",
            "_view_module": "@jupyter-widgets/controls",
            "_model_module_version": "1.5.0",
            "_view_count": null,
            "_view_module_version": "1.5.0",
            "box_style": "",
            "layout": "IPY_MODEL_dd31e18723044d0894137d20a82951bd",
            "_model_module": "@jupyter-widgets/controls",
            "children": [
              "IPY_MODEL_2a677d23e2d946668f1fac1de873b903",
              "IPY_MODEL_e9b6fd697af145728dbc2f5247053656"
            ]
          }
        },
        "dd31e18723044d0894137d20a82951bd": {
          "model_module": "@jupyter-widgets/base",
          "model_name": "LayoutModel",
          "state": {
            "_view_name": "LayoutView",
            "grid_template_rows": null,
            "right": null,
            "justify_content": null,
            "_view_module": "@jupyter-widgets/base",
            "overflow": null,
            "_model_module_version": "1.2.0",
            "_view_count": null,
            "flex_flow": null,
            "width": null,
            "min_width": null,
            "border": null,
            "align_items": null,
            "bottom": null,
            "_model_module": "@jupyter-widgets/base",
            "top": null,
            "grid_column": null,
            "overflow_y": null,
            "overflow_x": null,
            "grid_auto_flow": null,
            "grid_area": null,
            "grid_template_columns": null,
            "flex": null,
            "_model_name": "LayoutModel",
            "justify_items": null,
            "grid_row": null,
            "max_height": null,
            "align_content": null,
            "visibility": null,
            "align_self": null,
            "height": null,
            "min_height": null,
            "padding": null,
            "grid_auto_rows": null,
            "grid_gap": null,
            "max_width": null,
            "order": null,
            "_view_module_version": "1.2.0",
            "grid_template_areas": null,
            "object_position": null,
            "object_fit": null,
            "grid_auto_columns": null,
            "margin": null,
            "display": null,
            "left": null
          }
        },
        "2a677d23e2d946668f1fac1de873b903": {
          "model_module": "@jupyter-widgets/controls",
          "model_name": "FloatProgressModel",
          "state": {
            "_view_name": "ProgressView",
            "style": "IPY_MODEL_2f87486a45df4104b45632d85172a2ae",
            "_dom_classes": [],
            "description": "Downloading: 100%",
            "_model_name": "FloatProgressModel",
            "bar_style": "success",
            "max": 665,
            "_view_module": "@jupyter-widgets/controls",
            "_model_module_version": "1.5.0",
            "value": 665,
            "_view_count": null,
            "_view_module_version": "1.5.0",
            "orientation": "horizontal",
            "min": 0,
            "description_tooltip": null,
            "_model_module": "@jupyter-widgets/controls",
            "layout": "IPY_MODEL_b76337a4e7eb4ad5842c537d4beb0a4a"
          }
        },
        "e9b6fd697af145728dbc2f5247053656": {
          "model_module": "@jupyter-widgets/controls",
          "model_name": "HTMLModel",
          "state": {
            "_view_name": "HTMLView",
            "style": "IPY_MODEL_c9137f2b8cd84fbbafd4cf55519cc98b",
            "_dom_classes": [],
            "description": "",
            "_model_name": "HTMLModel",
            "placeholder": "​",
            "_view_module": "@jupyter-widgets/controls",
            "_model_module_version": "1.5.0",
            "value": " 665/665 [00:00&lt;00:00, 992B/s]",
            "_view_count": null,
            "_view_module_version": "1.5.0",
            "description_tooltip": null,
            "_model_module": "@jupyter-widgets/controls",
            "layout": "IPY_MODEL_1b5d931f9e56434d92fb0c6d4acf4450"
          }
        },
        "2f87486a45df4104b45632d85172a2ae": {
          "model_module": "@jupyter-widgets/controls",
          "model_name": "ProgressStyleModel",
          "state": {
            "_view_name": "StyleView",
            "_model_name": "ProgressStyleModel",
            "description_width": "initial",
            "_view_module": "@jupyter-widgets/base",
            "_model_module_version": "1.5.0",
            "_view_count": null,
            "_view_module_version": "1.2.0",
            "bar_color": null,
            "_model_module": "@jupyter-widgets/controls"
          }
        },
        "b76337a4e7eb4ad5842c537d4beb0a4a": {
          "model_module": "@jupyter-widgets/base",
          "model_name": "LayoutModel",
          "state": {
            "_view_name": "LayoutView",
            "grid_template_rows": null,
            "right": null,
            "justify_content": null,
            "_view_module": "@jupyter-widgets/base",
            "overflow": null,
            "_model_module_version": "1.2.0",
            "_view_count": null,
            "flex_flow": null,
            "width": null,
            "min_width": null,
            "border": null,
            "align_items": null,
            "bottom": null,
            "_model_module": "@jupyter-widgets/base",
            "top": null,
            "grid_column": null,
            "overflow_y": null,
            "overflow_x": null,
            "grid_auto_flow": null,
            "grid_area": null,
            "grid_template_columns": null,
            "flex": null,
            "_model_name": "LayoutModel",
            "justify_items": null,
            "grid_row": null,
            "max_height": null,
            "align_content": null,
            "visibility": null,
            "align_self": null,
            "height": null,
            "min_height": null,
            "padding": null,
            "grid_auto_rows": null,
            "grid_gap": null,
            "max_width": null,
            "order": null,
            "_view_module_version": "1.2.0",
            "grid_template_areas": null,
            "object_position": null,
            "object_fit": null,
            "grid_auto_columns": null,
            "margin": null,
            "display": null,
            "left": null
          }
        },
        "c9137f2b8cd84fbbafd4cf55519cc98b": {
          "model_module": "@jupyter-widgets/controls",
          "model_name": "DescriptionStyleModel",
          "state": {
            "_view_name": "StyleView",
            "_model_name": "DescriptionStyleModel",
            "description_width": "",
            "_view_module": "@jupyter-widgets/base",
            "_model_module_version": "1.5.0",
            "_view_count": null,
            "_view_module_version": "1.2.0",
            "_model_module": "@jupyter-widgets/controls"
          }
        },
        "1b5d931f9e56434d92fb0c6d4acf4450": {
          "model_module": "@jupyter-widgets/base",
          "model_name": "LayoutModel",
          "state": {
            "_view_name": "LayoutView",
            "grid_template_rows": null,
            "right": null,
            "justify_content": null,
            "_view_module": "@jupyter-widgets/base",
            "overflow": null,
            "_model_module_version": "1.2.0",
            "_view_count": null,
            "flex_flow": null,
            "width": null,
            "min_width": null,
            "border": null,
            "align_items": null,
            "bottom": null,
            "_model_module": "@jupyter-widgets/base",
            "top": null,
            "grid_column": null,
            "overflow_y": null,
            "overflow_x": null,
            "grid_auto_flow": null,
            "grid_area": null,
            "grid_template_columns": null,
            "flex": null,
            "_model_name": "LayoutModel",
            "justify_items": null,
            "grid_row": null,
            "max_height": null,
            "align_content": null,
            "visibility": null,
            "align_self": null,
            "height": null,
            "min_height": null,
            "padding": null,
            "grid_auto_rows": null,
            "grid_gap": null,
            "max_width": null,
            "order": null,
            "_view_module_version": "1.2.0",
            "grid_template_areas": null,
            "object_position": null,
            "object_fit": null,
            "grid_auto_columns": null,
            "margin": null,
            "display": null,
            "left": null
          }
        },
        "f870b5ef3fea41e28fe1dd7752f23ada": {
          "model_module": "@jupyter-widgets/controls",
          "model_name": "HBoxModel",
          "state": {
            "_view_name": "HBoxView",
            "_dom_classes": [],
            "_model_name": "HBoxModel",
            "_view_module": "@jupyter-widgets/controls",
            "_model_module_version": "1.5.0",
            "_view_count": null,
            "_view_module_version": "1.5.0",
            "box_style": "",
            "layout": "IPY_MODEL_582270d5aac14b879641fbd053ee7afe",
            "_model_module": "@jupyter-widgets/controls",
            "children": [
              "IPY_MODEL_5f097c751a4a44569a2f917670c8d16f",
              "IPY_MODEL_047aaad8ef3546df84f827ff413fb624"
            ]
          }
        },
        "582270d5aac14b879641fbd053ee7afe": {
          "model_module": "@jupyter-widgets/base",
          "model_name": "LayoutModel",
          "state": {
            "_view_name": "LayoutView",
            "grid_template_rows": null,
            "right": null,
            "justify_content": null,
            "_view_module": "@jupyter-widgets/base",
            "overflow": null,
            "_model_module_version": "1.2.0",
            "_view_count": null,
            "flex_flow": null,
            "width": null,
            "min_width": null,
            "border": null,
            "align_items": null,
            "bottom": null,
            "_model_module": "@jupyter-widgets/base",
            "top": null,
            "grid_column": null,
            "overflow_y": null,
            "overflow_x": null,
            "grid_auto_flow": null,
            "grid_area": null,
            "grid_template_columns": null,
            "flex": null,
            "_model_name": "LayoutModel",
            "justify_items": null,
            "grid_row": null,
            "max_height": null,
            "align_content": null,
            "visibility": null,
            "align_self": null,
            "height": null,
            "min_height": null,
            "padding": null,
            "grid_auto_rows": null,
            "grid_gap": null,
            "max_width": null,
            "order": null,
            "_view_module_version": "1.2.0",
            "grid_template_areas": null,
            "object_position": null,
            "object_fit": null,
            "grid_auto_columns": null,
            "margin": null,
            "display": null,
            "left": null
          }
        },
        "5f097c751a4a44569a2f917670c8d16f": {
          "model_module": "@jupyter-widgets/controls",
          "model_name": "FloatProgressModel",
          "state": {
            "_view_name": "ProgressView",
            "style": "IPY_MODEL_0905f0d1ea3941a0bc77e2fb323af67d",
            "_dom_classes": [],
            "description": "Downloading: 100%",
            "_model_name": "FloatProgressModel",
            "bar_style": "success",
            "max": 548118077,
            "_view_module": "@jupyter-widgets/controls",
            "_model_module_version": "1.5.0",
            "value": 548118077,
            "_view_count": null,
            "_view_module_version": "1.5.0",
            "orientation": "horizontal",
            "min": 0,
            "description_tooltip": null,
            "_model_module": "@jupyter-widgets/controls",
            "layout": "IPY_MODEL_84f2c045d2bd483daa8f540d5f1747a1"
          }
        },
        "047aaad8ef3546df84f827ff413fb624": {
          "model_module": "@jupyter-widgets/controls",
          "model_name": "HTMLModel",
          "state": {
            "_view_name": "HTMLView",
            "style": "IPY_MODEL_4c583f7191824b3d9db274a22d1734f8",
            "_dom_classes": [],
            "description": "",
            "_model_name": "HTMLModel",
            "placeholder": "​",
            "_view_module": "@jupyter-widgets/controls",
            "_model_module_version": "1.5.0",
            "value": " 548M/548M [00:24&lt;00:00, 22.7MB/s]",
            "_view_count": null,
            "_view_module_version": "1.5.0",
            "description_tooltip": null,
            "_model_module": "@jupyter-widgets/controls",
            "layout": "IPY_MODEL_610c6b3cee234c1fbc8e9b2f20ce4349"
          }
        },
        "0905f0d1ea3941a0bc77e2fb323af67d": {
          "model_module": "@jupyter-widgets/controls",
          "model_name": "ProgressStyleModel",
          "state": {
            "_view_name": "StyleView",
            "_model_name": "ProgressStyleModel",
            "description_width": "initial",
            "_view_module": "@jupyter-widgets/base",
            "_model_module_version": "1.5.0",
            "_view_count": null,
            "_view_module_version": "1.2.0",
            "bar_color": null,
            "_model_module": "@jupyter-widgets/controls"
          }
        },
        "84f2c045d2bd483daa8f540d5f1747a1": {
          "model_module": "@jupyter-widgets/base",
          "model_name": "LayoutModel",
          "state": {
            "_view_name": "LayoutView",
            "grid_template_rows": null,
            "right": null,
            "justify_content": null,
            "_view_module": "@jupyter-widgets/base",
            "overflow": null,
            "_model_module_version": "1.2.0",
            "_view_count": null,
            "flex_flow": null,
            "width": null,
            "min_width": null,
            "border": null,
            "align_items": null,
            "bottom": null,
            "_model_module": "@jupyter-widgets/base",
            "top": null,
            "grid_column": null,
            "overflow_y": null,
            "overflow_x": null,
            "grid_auto_flow": null,
            "grid_area": null,
            "grid_template_columns": null,
            "flex": null,
            "_model_name": "LayoutModel",
            "justify_items": null,
            "grid_row": null,
            "max_height": null,
            "align_content": null,
            "visibility": null,
            "align_self": null,
            "height": null,
            "min_height": null,
            "padding": null,
            "grid_auto_rows": null,
            "grid_gap": null,
            "max_width": null,
            "order": null,
            "_view_module_version": "1.2.0",
            "grid_template_areas": null,
            "object_position": null,
            "object_fit": null,
            "grid_auto_columns": null,
            "margin": null,
            "display": null,
            "left": null
          }
        },
        "4c583f7191824b3d9db274a22d1734f8": {
          "model_module": "@jupyter-widgets/controls",
          "model_name": "DescriptionStyleModel",
          "state": {
            "_view_name": "StyleView",
            "_model_name": "DescriptionStyleModel",
            "description_width": "",
            "_view_module": "@jupyter-widgets/base",
            "_model_module_version": "1.5.0",
            "_view_count": null,
            "_view_module_version": "1.2.0",
            "_model_module": "@jupyter-widgets/controls"
          }
        },
        "610c6b3cee234c1fbc8e9b2f20ce4349": {
          "model_module": "@jupyter-widgets/base",
          "model_name": "LayoutModel",
          "state": {
            "_view_name": "LayoutView",
            "grid_template_rows": null,
            "right": null,
            "justify_content": null,
            "_view_module": "@jupyter-widgets/base",
            "overflow": null,
            "_model_module_version": "1.2.0",
            "_view_count": null,
            "flex_flow": null,
            "width": null,
            "min_width": null,
            "border": null,
            "align_items": null,
            "bottom": null,
            "_model_module": "@jupyter-widgets/base",
            "top": null,
            "grid_column": null,
            "overflow_y": null,
            "overflow_x": null,
            "grid_auto_flow": null,
            "grid_area": null,
            "grid_template_columns": null,
            "flex": null,
            "_model_name": "LayoutModel",
            "justify_items": null,
            "grid_row": null,
            "max_height": null,
            "align_content": null,
            "visibility": null,
            "align_self": null,
            "height": null,
            "min_height": null,
            "padding": null,
            "grid_auto_rows": null,
            "grid_gap": null,
            "max_width": null,
            "order": null,
            "_view_module_version": "1.2.0",
            "grid_template_areas": null,
            "object_position": null,
            "object_fit": null,
            "grid_auto_columns": null,
            "margin": null,
            "display": null,
            "left": null
          }
        }
      }
    },
    "accelerator": "GPU"
  },
  "cells": [
    {
      "cell_type": "code",
      "metadata": {
        "colab": {
          "base_uri": "https://localhost:8080/"
        },
        "id": "HRFlfl8cPZZ-",
        "outputId": "4ead7882-8276-4bcf-dca3-e7427e55b5d9"
      },
      "source": [
        "from google.colab import drive\n",
        "drive.mount('/content/drive')"
      ],
      "execution_count": 2,
      "outputs": [
        {
          "output_type": "stream",
          "text": [
            "Mounted at /content/drive\n"
          ],
          "name": "stdout"
        }
      ]
    },
    {
      "cell_type": "markdown",
      "metadata": {
        "id": "Z3eqDO-14N0J"
      },
      "source": [
        "# 1. Download and Installations"
      ]
    },
    {
      "cell_type": "code",
      "metadata": {
        "id": "9-XLeW0MVCik"
      },
      "source": [
        "path_to_drive = \"drive/MyDrive/TSD/\""
      ],
      "execution_count": 3,
      "outputs": []
    },
    {
      "cell_type": "code",
      "metadata": {
        "id": "ebfTSoDnaxql"
      },
      "source": [
        "import nltk\n",
        "nltk.download('stopwords')\n",
        "!pip3 install transformers\n",
        "!pip install keras-self-attention"
      ],
      "execution_count": null,
      "outputs": []
    },
    {
      "cell_type": "markdown",
      "metadata": {
        "id": "q873MAqX4ijl"
      },
      "source": [
        "# 2. Loading Dataset"
      ]
    },
    {
      "cell_type": "code",
      "metadata": {
        "colab": {
          "base_uri": "https://localhost:8080/",
          "height": 838,
          "referenced_widgets": [
            "6063374bb6264eb28c706443d8f176d3",
            "4f66179ea5dd4034a792253db26a045a",
            "c2b210009cd54e3daa03c706cc8d82d5",
            "5a7b96b241eb4688929c075d4fe7148b",
            "12870564439941778da9876e37f8838b",
            "286451b6181e49d58fa7d0de060d1e47",
            "cd8f223e359d43da93947da592dc24d6",
            "f55c7bf5c5d24dd393af3ad91b918d89",
            "f3968a748597461bb87d42dff14c5f18",
            "2f3151a9de144de2b102a6d8da38d704",
            "7336a95e53804971988aef566097516e",
            "c9f5aaaf11c24cf7b149c7301da137d6",
            "33082cbb00644d1b9ab24ade0083261e",
            "36ca528687e74b4aa0399c4e8b682641",
            "ea77e3440d6645448bf1a357cdb003e4",
            "bdec7fa2f6ae46e6acde716ded338f99",
            "7a92eef2c0814ebc85d885422a36d1fa",
            "8271de17cb514edb9d1b8b2da9f94685",
            "b1729f8849e24dde84ceb72d481ec99a",
            "c3b279e3beb24733b79b7ca3c1ae84f9",
            "2283cdee66dc4a079b97da9885f28038",
            "b1a2981005904f81b79946e7c3f279d3",
            "90fc6036530441afba1ac449a8cf229a",
            "8ad7e125299b47d78d03986ed3138ad2",
            "39bcd3921d2542e5ad8e7907c3404c69",
            "376b2533a64d4a3b90290dd98561ab00",
            "d566d0157f3645ebb855d51b72342a1e",
            "36e2ef24a8634046a93c678314a8d244",
            "0f6772bb116f43028f443d355d635fa9",
            "48763637e30b4770be5d697157623e6e",
            "a8e8375341eb469fbf0be05d93969cdc",
            "a500457dce3249478a216c856144f762",
            "eb75db505c2a4b1db02a9d87c8dbd5f8",
            "5c9787ca5e144d1fa9966e0b1c424c14",
            "88d9a9b6c75547d3be8b577569ae4edb",
            "3b6ce6c06769419ab55b89399c34d191",
            "87b642b0aa114b58bf7106ab881590ab",
            "153cd121c2c44b9486d1b372f53c8181",
            "809c2a13ad964aa39e6fdcbee1ca6b35",
            "a4ce0c29787144bc904704ce1e710777",
            "1577a9ecec5047ac8fae543a4727bb77",
            "c626ebe28072482cbcf4ea6b1c27514f",
            "6a792548e85f4fada43784060e9c21d7",
            "d8334d0b54be4db4a5ab606c7fb849ce",
            "4a8dcc4a866b4976ada326feafaf11fb",
            "5e75cde81a6c48a89124da37c52a3769",
            "7e1292b5ad92426081e30fd177e7e078",
            "d3a713f7e1914e8d97dd6859217c0afe",
            "cdce0653c6184a0b92c91c5edf541425",
            "dd31e18723044d0894137d20a82951bd",
            "2a677d23e2d946668f1fac1de873b903",
            "e9b6fd697af145728dbc2f5247053656",
            "2f87486a45df4104b45632d85172a2ae",
            "b76337a4e7eb4ad5842c537d4beb0a4a",
            "c9137f2b8cd84fbbafd4cf55519cc98b",
            "1b5d931f9e56434d92fb0c6d4acf4450",
            "f870b5ef3fea41e28fe1dd7752f23ada",
            "582270d5aac14b879641fbd053ee7afe",
            "5f097c751a4a44569a2f917670c8d16f",
            "047aaad8ef3546df84f827ff413fb624",
            "0905f0d1ea3941a0bc77e2fb323af67d",
            "84f2c045d2bd483daa8f540d5f1747a1",
            "4c583f7191824b3d9db274a22d1734f8",
            "610c6b3cee234c1fbc8e9b2f20ce4349"
          ]
        },
        "id": "JKD09UJta3mr",
        "outputId": "b8d83b0f-832f-4953-ee56-20e66a668c20"
      },
      "source": [
        "import warnings\n",
        "warnings.filterwarnings(\"ignore\")\n",
        "import cross_validator as cross_validator\n",
        "import datahandler as datahandler\n",
        "from datamodel import DataModel\n",
        "import outputmaker as outputmaker\n",
        "import metrics as metrics\n",
        "from dl_utils import *\n",
        "from tqdm import tqdm\n",
        "import utils\n",
        "\n",
        "train = datahandler.load_train(path_to_drive+'tsd_train.csv', verbose=True)\n",
        "dev = datahandler.load_train(path_to_drive+'tsd_trial.csv', verbose=True)\n",
        "test = datahandler.load_train(path_to_drive+'tsd_test.csv', verbose=True)"
      ],
      "execution_count": 8,
      "outputs": [
        {
          "output_type": "display_data",
          "data": {
            "application/vnd.jupyter.widget-view+json": {
              "model_id": "6063374bb6264eb28c706443d8f176d3",
              "version_minor": 0,
              "version_major": 2
            },
            "text/plain": [
              "HBox(children=(FloatProgress(value=0.0, description='Downloading', max=898823.0, style=ProgressStyle(descripti…"
            ]
          },
          "metadata": {
            "tags": []
          }
        },
        {
          "output_type": "stream",
          "text": [
            "\n"
          ],
          "name": "stdout"
        },
        {
          "output_type": "display_data",
          "data": {
            "application/vnd.jupyter.widget-view+json": {
              "model_id": "f3968a748597461bb87d42dff14c5f18",
              "version_minor": 0,
              "version_major": 2
            },
            "text/plain": [
              "HBox(children=(FloatProgress(value=0.0, description='Downloading', max=456318.0, style=ProgressStyle(descripti…"
            ]
          },
          "metadata": {
            "tags": []
          }
        },
        {
          "output_type": "stream",
          "text": [
            "\n"
          ],
          "name": "stdout"
        },
        {
          "output_type": "display_data",
          "data": {
            "application/vnd.jupyter.widget-view+json": {
              "model_id": "7a92eef2c0814ebc85d885422a36d1fa",
              "version_minor": 0,
              "version_major": 2
            },
            "text/plain": [
              "HBox(children=(FloatProgress(value=0.0, description='Downloading', max=481.0, style=ProgressStyle(description_…"
            ]
          },
          "metadata": {
            "tags": []
          }
        },
        {
          "output_type": "stream",
          "text": [
            "\n"
          ],
          "name": "stdout"
        },
        {
          "output_type": "display_data",
          "data": {
            "application/vnd.jupyter.widget-view+json": {
              "model_id": "39bcd3921d2542e5ad8e7907c3404c69",
              "version_minor": 0,
              "version_major": 2
            },
            "text/plain": [
              "HBox(children=(FloatProgress(value=0.0, description='Downloading', max=501200538.0, style=ProgressStyle(descri…"
            ]
          },
          "metadata": {
            "tags": []
          }
        },
        {
          "output_type": "stream",
          "text": [
            "\n"
          ],
          "name": "stdout"
        },
        {
          "output_type": "display_data",
          "data": {
            "application/vnd.jupyter.widget-view+json": {
              "model_id": "eb75db505c2a4b1db02a9d87c8dbd5f8",
              "version_minor": 0,
              "version_major": 2
            },
            "text/plain": [
              "HBox(children=(FloatProgress(value=0.0, description='Downloading', max=1042301.0, style=ProgressStyle(descript…"
            ]
          },
          "metadata": {
            "tags": []
          }
        },
        {
          "output_type": "stream",
          "text": [
            "\n"
          ],
          "name": "stdout"
        },
        {
          "output_type": "display_data",
          "data": {
            "application/vnd.jupyter.widget-view+json": {
              "model_id": "1577a9ecec5047ac8fae543a4727bb77",
              "version_minor": 0,
              "version_major": 2
            },
            "text/plain": [
              "HBox(children=(FloatProgress(value=0.0, description='Downloading', max=456318.0, style=ProgressStyle(descripti…"
            ]
          },
          "metadata": {
            "tags": []
          }
        },
        {
          "output_type": "stream",
          "text": [
            "\n"
          ],
          "name": "stdout"
        },
        {
          "output_type": "display_data",
          "data": {
            "application/vnd.jupyter.widget-view+json": {
              "model_id": "cdce0653c6184a0b92c91c5edf541425",
              "version_minor": 0,
              "version_major": 2
            },
            "text/plain": [
              "HBox(children=(FloatProgress(value=0.0, description='Downloading', max=665.0, style=ProgressStyle(description_…"
            ]
          },
          "metadata": {
            "tags": []
          }
        },
        {
          "output_type": "stream",
          "text": [
            "\n"
          ],
          "name": "stdout"
        },
        {
          "output_type": "display_data",
          "data": {
            "application/vnd.jupyter.widget-view+json": {
              "model_id": "f870b5ef3fea41e28fe1dd7752f23ada",
              "version_minor": 0,
              "version_major": 2
            },
            "text/plain": [
              "HBox(children=(FloatProgress(value=0.0, description='Downloading', max=548118077.0, style=ProgressStyle(descri…"
            ]
          },
          "metadata": {
            "tags": []
          }
        },
        {
          "output_type": "stream",
          "text": [
            "\n"
          ],
          "name": "stdout"
        },
        {
          "output_type": "stream",
          "text": [
            "Some weights of GPT2Model were not initialized from the model checkpoint at gpt2 and are newly initialized: ['h.0.attn.masked_bias', 'h.1.attn.masked_bias', 'h.2.attn.masked_bias', 'h.3.attn.masked_bias', 'h.4.attn.masked_bias', 'h.5.attn.masked_bias', 'h.6.attn.masked_bias', 'h.7.attn.masked_bias', 'h.8.attn.masked_bias', 'h.9.attn.masked_bias', 'h.10.attn.masked_bias', 'h.11.attn.masked_bias']\n",
            "You should probably TRAIN this model on a down-stream task to be able to use it for predictions and inference.\n"
          ],
          "name": "stderr"
        },
        {
          "output_type": "display_data",
          "data": {
            "text/html": [
              "<div>\n",
              "<style scoped>\n",
              "    .dataframe tbody tr th:only-of-type {\n",
              "        vertical-align: middle;\n",
              "    }\n",
              "\n",
              "    .dataframe tbody tr th {\n",
              "        vertical-align: top;\n",
              "    }\n",
              "\n",
              "    .dataframe thead th {\n",
              "        text-align: right;\n",
              "    }\n",
              "</style>\n",
              "<table border=\"1\" class=\"dataframe\">\n",
              "  <thead>\n",
              "    <tr style=\"text-align: right;\">\n",
              "      <th></th>\n",
              "      <th>spans</th>\n",
              "      <th>text</th>\n",
              "    </tr>\n",
              "  </thead>\n",
              "  <tbody>\n",
              "    <tr>\n",
              "      <th>0</th>\n",
              "      <td>[8, 9, 10, 11, 12, 13, 14, 15, 16, 17, 18, 19,...</td>\n",
              "      <td>Another violent and aggressive immigrant killi...</td>\n",
              "    </tr>\n",
              "    <tr>\n",
              "      <th>1</th>\n",
              "      <td>[33, 34, 35, 36, 37, 38, 39]</td>\n",
              "      <td>I am 56 years old, I am not your fucking junio...</td>\n",
              "    </tr>\n",
              "    <tr>\n",
              "      <th>2</th>\n",
              "      <td>[0, 1, 2, 3]</td>\n",
              "      <td>Damn, a whole family. Sad indeed.</td>\n",
              "    </tr>\n",
              "  </tbody>\n",
              "</table>\n",
              "</div>"
            ],
            "text/plain": [
              "                                               spans                                               text\n",
              "0  [8, 9, 10, 11, 12, 13, 14, 15, 16, 17, 18, 19,...  Another violent and aggressive immigrant killi...\n",
              "1                       [33, 34, 35, 36, 37, 38, 39]  I am 56 years old, I am not your fucking junio...\n",
              "2                                       [0, 1, 2, 3]                  Damn, a whole family. Sad indeed."
            ]
          },
          "metadata": {
            "tags": []
          }
        },
        {
          "output_type": "display_data",
          "data": {
            "text/html": [
              "<div>\n",
              "<style scoped>\n",
              "    .dataframe tbody tr th:only-of-type {\n",
              "        vertical-align: middle;\n",
              "    }\n",
              "\n",
              "    .dataframe tbody tr th {\n",
              "        vertical-align: top;\n",
              "    }\n",
              "\n",
              "    .dataframe thead th {\n",
              "        text-align: right;\n",
              "    }\n",
              "</style>\n",
              "<table border=\"1\" class=\"dataframe\">\n",
              "  <thead>\n",
              "    <tr style=\"text-align: right;\">\n",
              "      <th></th>\n",
              "      <th>spans</th>\n",
              "      <th>text</th>\n",
              "    </tr>\n",
              "  </thead>\n",
              "  <tbody>\n",
              "    <tr>\n",
              "      <th>0</th>\n",
              "      <td>[15, 16, 17, 18, 19, 27, 28, 29, 30, 31]</td>\n",
              "      <td>Because he's a moron and a bigot. It's not any...</td>\n",
              "    </tr>\n",
              "    <tr>\n",
              "      <th>1</th>\n",
              "      <td>[29, 30, 31, 32, 33, 34]</td>\n",
              "      <td>How about we stop protecting idiots and let na...</td>\n",
              "    </tr>\n",
              "    <tr>\n",
              "      <th>2</th>\n",
              "      <td>[166, 167, 168, 169, 170, 171]</td>\n",
              "      <td>If people  were  smart, they would  Boycott th...</td>\n",
              "    </tr>\n",
              "  </tbody>\n",
              "</table>\n",
              "</div>"
            ],
            "text/plain": [
              "                                      spans                                               text\n",
              "0  [15, 16, 17, 18, 19, 27, 28, 29, 30, 31]  Because he's a moron and a bigot. It's not any...\n",
              "1                  [29, 30, 31, 32, 33, 34]  How about we stop protecting idiots and let na...\n",
              "2            [166, 167, 168, 169, 170, 171]  If people  were  smart, they would  Boycott th..."
            ]
          },
          "metadata": {
            "tags": []
          }
        },
        {
          "output_type": "display_data",
          "data": {
            "text/html": [
              "<div>\n",
              "<style scoped>\n",
              "    .dataframe tbody tr th:only-of-type {\n",
              "        vertical-align: middle;\n",
              "    }\n",
              "\n",
              "    .dataframe tbody tr th {\n",
              "        vertical-align: top;\n",
              "    }\n",
              "\n",
              "    .dataframe thead th {\n",
              "        text-align: right;\n",
              "    }\n",
              "</style>\n",
              "<table border=\"1\" class=\"dataframe\">\n",
              "  <thead>\n",
              "    <tr style=\"text-align: right;\">\n",
              "      <th></th>\n",
              "      <th>text</th>\n",
              "      <th>spans</th>\n",
              "    </tr>\n",
              "  </thead>\n",
              "  <tbody>\n",
              "    <tr>\n",
              "      <th>0</th>\n",
              "      <td>That's right. They are not normal. And I am st...</td>\n",
              "      <td>[84, 85, 86, 87, 88, 89, 90, 91, 133, 134, 135...</td>\n",
              "    </tr>\n",
              "    <tr>\n",
              "      <th>1</th>\n",
              "      <td>\"Watch people die from taking away their healt...</td>\n",
              "      <td>[81, 82, 83, 84, 85, 86]</td>\n",
              "    </tr>\n",
              "    <tr>\n",
              "      <th>2</th>\n",
              "      <td>tens years ago i contacted the PDR and suggest...</td>\n",
              "      <td>[]</td>\n",
              "    </tr>\n",
              "  </tbody>\n",
              "</table>\n",
              "</div>"
            ],
            "text/plain": [
              "                                                text                                              spans\n",
              "0  That's right. They are not normal. And I am st...  [84, 85, 86, 87, 88, 89, 90, 91, 133, 134, 135...\n",
              "1  \"Watch people die from taking away their healt...                           [81, 82, 83, 84, 85, 86]\n",
              "2  tens years ago i contacted the PDR and suggest...                                                 []"
            ]
          },
          "metadata": {
            "tags": []
          }
        }
      ]
    },
    {
      "cell_type": "code",
      "metadata": {
        "id": "MnxMyen-at1_"
      },
      "source": [
        "datamodel = DataModel(model='crf', remove_stop_words=False)\n",
        "\n",
        "output_maker = outputmaker.crf_output\n",
        "\n",
        "evaluator = metrics"
      ],
      "execution_count": 9,
      "outputs": []
    },
    {
      "cell_type": "code",
      "metadata": {
        "colab": {
          "base_uri": "https://localhost:8080/"
        },
        "id": "EAOtW9cxb_Jz",
        "outputId": "30dc2a9c-2907-4b9d-ca18-a4ad650e0a3f"
      },
      "source": [
        "X_train, y_train, train_taboo_words, train_texts = cross_validator.load_data(train, \n",
        "                                                    [i for i in range(train.shape[0])],\n",
        "                                                    datamodel, logger=True)\n",
        "\n",
        "X_dev, y_dev, dev_taboo_words, dev_texts = cross_validator.load_data(dev, \n",
        "                                                    [i for i in range(dev.shape[0])], \n",
        "                                                    datamodel, logger=True)\n",
        "\n",
        "X_test, y_test, _, test_texts = cross_validator.load_data(test, \n",
        "                                                    [i for i in range(test.shape[0])], \n",
        "                                                    datamodel, logger=True)"
      ],
      "execution_count": 10,
      "outputs": [
        {
          "output_type": "stream",
          "text": [
            "100%|██████████| 7939/7939 [05:25<00:00, 24.40it/s]\n",
            "100%|██████████| 690/690 [00:26<00:00, 25.88it/s]\n",
            "100%|██████████| 2000/2000 [01:14<00:00, 26.92it/s]\n"
          ],
          "name": "stderr"
        }
      ]
    },
    {
      "cell_type": "code",
      "metadata": {
        "colab": {
          "base_uri": "https://localhost:8080/"
        },
        "id": "aeAulj9qhN5O",
        "outputId": "31ed6ac3-8328-4fde-9bb4-8d0696f375ab"
      },
      "source": [
        "X_dev[0]"
      ],
      "execution_count": 11,
      "outputs": [
        {
          "output_type": "execute_result",
          "data": {
            "text/plain": [
              "[('Because', 'IN', 'normal', [0, 1, 2, 3, 4, 5, 6]),\n",
              " ('he', 'PRP', 'normal', [8, 9]),\n",
              " ('a', 'DT', 'normal', [13]),\n",
              " ('moron', 'NN', 'toxic', [15, 16, 17, 18, 19]),\n",
              " ('and', 'CC', 'normal', [21, 22, 23]),\n",
              " ('a', 'DT', 'normal', [25]),\n",
              " ('bigot', 'NNP', 'toxic', [27, 28, 29, 30, 31]),\n",
              " ('It', 'PRP', 'normal', [34, 35]),\n",
              " ('not', 'RB', 'normal', [39, 40, 41]),\n",
              " ('any', 'DT', 'normal', [43, 44, 45]),\n",
              " ('more', 'RBR', 'normal', [47, 48, 49, 50]),\n",
              " ('complicated', 'JJ', 'normal', [52, 53, 54, 55, 56, 57, 58, 59, 60, 61, 62]),\n",
              " ('than', 'IN', 'normal', [64, 65, 66, 67]),\n",
              " ('that', 'DT', 'normal', [69, 70, 71, 72])]"
            ]
          },
          "metadata": {
            "tags": []
          },
          "execution_count": 11
        }
      ]
    },
    {
      "cell_type": "markdown",
      "metadata": {
        "id": "volsFiYKeN8y"
      },
      "source": [
        "# 3. Preprations for modeling"
      ]
    },
    {
      "cell_type": "code",
      "metadata": {
        "colab": {
          "base_uri": "https://localhost:8080/"
        },
        "id": "0RGQA9Js3JgM",
        "outputId": "c716b65d-b388-46c7-e5b0-0538b2299992"
      },
      "source": [
        "X_train = preprocessing(X_train, clean=False)\n",
        "X_dev = preprocessing(X_dev, clean=False)\n",
        "X_test = preprocessing(X_test, clean=False)"
      ],
      "execution_count": 12,
      "outputs": [
        {
          "output_type": "stream",
          "text": [
            "100%|██████████| 7939/7939 [00:00<00:00, 17593.91it/s]\n",
            "100%|██████████| 690/690 [00:00<00:00, 53023.39it/s]\n",
            "100%|██████████| 2000/2000 [00:00<00:00, 56576.95it/s]\n"
          ],
          "name": "stderr"
        }
      ]
    },
    {
      "cell_type": "code",
      "metadata": {
        "colab": {
          "base_uri": "https://localhost:8080/"
        },
        "id": "Zw4JzY46eLsX",
        "outputId": "0abbed08-2824-4087-9781-823370bbc080"
      },
      "source": [
        "words_list = X_train + X_dev + X_test\n",
        "word2idx, idx2word, tag2idx, idx2tag, max_len, max_features, n_tags = get_indecies(words_list)"
      ],
      "execution_count": 13,
      "outputs": [
        {
          "output_type": "stream",
          "text": [
            "n_tags:2, n_words:21788\n",
            "\n",
            "max_len:215 \n",
            "word2idx['fuck']:1140,  tag2idx['normal']:2\n",
            "\n",
            "Maximum features:21790\n"
          ],
          "name": "stdout"
        }
      ]
    },
    {
      "cell_type": "code",
      "metadata": {
        "colab": {
          "base_uri": "https://localhost:8080/"
        },
        "id": "WByv5uSKeXp7",
        "outputId": "1145c02e-7eb3-419e-f2bc-4cfc94c2db72"
      },
      "source": [
        "X_train_seq, y_train_seq = padsequences(X_train, word2idx, tag2idx, max_len)\n",
        "\n",
        "X_dev_seq, y_dev_seq = padsequences(X_dev, word2idx, tag2idx, max_len)\n",
        "\n",
        "X_test_seq, y_test_seq = padsequences(X_test, word2idx, tag2idx, max_len)"
      ],
      "execution_count": 14,
      "outputs": [
        {
          "output_type": "stream",
          "text": [
            "100%|██████████| 7939/7939 [00:00<00:00, 108597.79it/s]\n",
            "100%|██████████| 690/690 [00:00<00:00, 95979.50it/s]\n",
            "100%|██████████| 2000/2000 [00:00<00:00, 108443.00it/s]\n"
          ],
          "name": "stderr"
        }
      ]
    },
    {
      "cell_type": "markdown",
      "metadata": {
        "id": "Rcs07Mj04zxa"
      },
      "source": [
        "# 4.Representations"
      ]
    },
    {
      "cell_type": "code",
      "metadata": {
        "id": "drjFb2AJHkmJ",
        "colab": {
          "base_uri": "https://localhost:8080/"
        },
        "outputId": "6c115490-a50e-45b6-d658-bed24ab8f471"
      },
      "source": [
        "glove = load_glove(path_to_drive+'glove.840B.300d.txt')\n",
        "gpt2 = load_pkl(path_to_drive+\"__vectors__gpt2__.sav\")\n",
        "roberta= load_pkl(path_to_drive+\"__vectors__roberta__.sav\")"
      ],
      "execution_count": 15,
      "outputs": [
        {
          "output_type": "stream",
          "text": [
            "2196017it [02:50, 12842.65it/s]\n"
          ],
          "name": "stderr"
        }
      ]
    },
    {
      "cell_type": "code",
      "metadata": {
        "colab": {
          "base_uri": "https://localhost:8080/"
        },
        "id": "ERpa0mRzIStJ",
        "outputId": "61d0794d-ce9a-4296-ea36-b7c2b38525dd"
      },
      "source": [
        "glove_embed_size = 300\n",
        "glove_embeddings = get_glove_features(word2idx, glove, embed_size=glove_embed_size)\n",
        "\n",
        "transformer_embed_size = 768\n",
        "gpt2_embeddings = get_gpt2_features(word2idx, gpt2, embed_size=transformer_embed_size)\n",
        "roberta_embeddings = get_roberta_features(word2idx, roberta, embed_size=transformer_embed_size)\n",
        "\n",
        "rotberta_gpt2_embed_size = 768\n",
        "rotberta_gpt2_embeddings = get_roberta_gpt2_features(word2idx, roberta, gpt2, \n",
        "                                                    embed_size=rotberta_gpt2_embed_size)\n",
        "\n",
        "glove_transformer_embed_size = 1068\n",
        "glove_gpt2_embeddings = get_glove_gpt2_features(word2idx, glove, gpt2,\n",
        "                                                embed_size=glove_transformer_embed_size)\n",
        "glove_roberta_embeddings = get_glove_roberta_features(word2idx, glove, roberta,\n",
        "                                                embed_size=glove_transformer_embed_size)\n",
        "\n",
        "ensemble_embed_size = 1068\n",
        "ensemble_embeddings = ensemble_features(word2idx, glove, gpt2, roberta, \n",
        "                                        embed_size=ensemble_embed_size)"
      ],
      "execution_count": 16,
      "outputs": [
        {
          "output_type": "stream",
          "text": [
            "100%|██████████| 21790/21790 [00:00<00:00, 28212.06it/s]\n",
            "100%|██████████| 21790/21790 [00:00<00:00, 384586.41it/s]\n",
            "  0%|          | 0/21790 [00:00<?, ?it/s]"
          ],
          "name": "stderr"
        },
        {
          "output_type": "stream",
          "text": [
            "GLOVE:::OOV:6330/21790 \n"
          ],
          "name": "stdout"
        },
        {
          "output_type": "stream",
          "text": [
            "100%|██████████| 21790/21790 [00:00<00:00, 381260.60it/s]\n",
            "100%|██████████| 21790/21790 [00:00<00:00, 244165.64it/s]\n",
            "100%|██████████| 21790/21790 [00:00<00:00, 31198.30it/s]\n",
            "100%|██████████| 21790/21790 [00:00<00:00, 31317.97it/s]\n",
            "100%|██████████| 21790/21790 [00:00<00:00, 29310.48it/s]\n"
          ],
          "name": "stderr"
        }
      ]
    },
    {
      "cell_type": "markdown",
      "metadata": {
        "id": "shZZ5zbKeYue"
      },
      "source": [
        "# 5. Modelings"
      ]
    },
    {
      "cell_type": "code",
      "metadata": {
        "id": "clvJMSjJjd3R",
        "colab": {
          "base_uri": "https://localhost:8080/"
        },
        "outputId": "40bd7917-399c-4cea-be61-682e0cc5c11d"
      },
      "source": [
        "def get_models(name, embedding, embed_size, layers = [\"lstm\", \"gru\"], random_embedding=False):\n",
        "\n",
        "    models = [ ] \n",
        "    for i in range(1, 3):\n",
        "        for layer in layers:\n",
        "            models.append(\n",
        "            {\"model\":get_model(max_len, max_features, embed_size, embedding, n_tags, \n",
        "                                number=i, layer=layer, attention=False, random_embedding=random_embedding),\n",
        "            \"name\":name+\"_bi\"+layer+\"_\"+str(i)+\"_layer\"})\n",
        "            print(\"Initialize: \", name+\"_bi\"+layer+\"_\"+str(i)+\"_layer\")\n",
        "\n",
        "            models.append(\n",
        "            {\"model\":get_model(max_len, max_features, embed_size, embedding, n_tags, \n",
        "                                number=i, layer=layer, attention=True, random_embedding=random_embedding),\n",
        "            \"name\":name+\"_bi\"+layer+\"_\"+str(i)+\"_layer_attention\"})\n",
        "            print(\"Initialize: \", name+\"_bi\"+layer+\"_\"+str(i)+\"_layer_attention\")\n",
        "    return models\n",
        "\n",
        "glove_models = get_models(\"glove\", glove_embeddings, glove_embed_size) \n",
        "gpt2_models = get_models(\"gpt2\", gpt2_embeddings, transformer_embed_size)\n",
        "roberta_models = get_models(\"roberta\", roberta_embeddings, transformer_embed_size)\n",
        "random_models = get_models(\"random\", None, transformer_embed_size, random_embedding=True)\n",
        "roberta_gpt2_models = get_models(\"roberta_gpt2\", rotberta_gpt2_embeddings, rotberta_gpt2_embed_size)\n",
        "glove_gp2_models = get_models(\"glove_gpt2\", glove_gpt2_embeddings, glove_transformer_embed_size)\n",
        "glove_roberta_models = get_models(\"glove_roberta\", glove_roberta_embeddings, glove_transformer_embed_size)\n",
        "ensemble_models = get_models(\"ensemble\", ensemble_embeddings, ensemble_embed_size)\n",
        "\n",
        "models = glove_models + gpt2_models + roberta_models + random_models \n",
        "models += roberta_gpt2_models + glove_gp2_models + glove_roberta_models + ensemble_models\n",
        "\n",
        "print(\"Number of intitialized models:\", len(models))"
      ],
      "execution_count": 14,
      "outputs": [
        {
          "output_type": "stream",
          "text": [
            "WARNING:tensorflow:From /content/dl_utils.py:193: The name tf.keras.layers.CuDNNGRU is deprecated. Please use tf.compat.v1.keras.layers.CuDNNGRU instead.\n",
            "\n",
            "WARNING:tensorflow:From /content/dl_utils.py:194: The name tf.keras.layers.CuDNNLSTM is deprecated. Please use tf.compat.v1.keras.layers.CuDNNLSTM instead.\n",
            "\n",
            "Initialize:  glove_bilstm_1_layer\n",
            "Initialize:  glove_bilstm_1_layer_attention\n",
            "Initialize:  glove_bigru_1_layer\n",
            "Initialize:  glove_bigru_1_layer_attention\n",
            "Initialize:  glove_bilstm_2_layer\n",
            "Initialize:  glove_bilstm_2_layer_attention\n",
            "Initialize:  glove_bigru_2_layer\n",
            "Initialize:  glove_bigru_2_layer_attention\n",
            "Initialize:  gpt2_bilstm_1_layer\n",
            "Initialize:  gpt2_bilstm_1_layer_attention\n",
            "Initialize:  gpt2_bigru_1_layer\n",
            "Initialize:  gpt2_bigru_1_layer_attention\n",
            "Initialize:  gpt2_bilstm_2_layer\n",
            "Initialize:  gpt2_bilstm_2_layer_attention\n",
            "Initialize:  gpt2_bigru_2_layer\n",
            "Initialize:  gpt2_bigru_2_layer_attention\n",
            "Initialize:  roberta_bilstm_1_layer\n",
            "Initialize:  roberta_bilstm_1_layer_attention\n",
            "Initialize:  roberta_bigru_1_layer\n",
            "Initialize:  roberta_bigru_1_layer_attention\n",
            "Initialize:  roberta_bilstm_2_layer\n",
            "Initialize:  roberta_bilstm_2_layer_attention\n",
            "Initialize:  roberta_bigru_2_layer\n",
            "Initialize:  roberta_bigru_2_layer_attention\n",
            "Initialize:  random_bilstm_1_layer\n",
            "Initialize:  random_bilstm_1_layer_attention\n",
            "Initialize:  random_bigru_1_layer\n",
            "Initialize:  random_bigru_1_layer_attention\n",
            "Initialize:  random_bilstm_2_layer\n",
            "Initialize:  random_bilstm_2_layer_attention\n",
            "Initialize:  random_bigru_2_layer\n",
            "Initialize:  random_bigru_2_layer_attention\n",
            "Initialize:  roberta_gpt2_bilstm_1_layer\n",
            "Initialize:  roberta_gpt2_bilstm_1_layer_attention\n",
            "Initialize:  roberta_gpt2_bigru_1_layer\n",
            "Initialize:  roberta_gpt2_bigru_1_layer_attention\n",
            "Initialize:  roberta_gpt2_bilstm_2_layer\n",
            "Initialize:  roberta_gpt2_bilstm_2_layer_attention\n",
            "Initialize:  roberta_gpt2_bigru_2_layer\n",
            "Initialize:  roberta_gpt2_bigru_2_layer_attention\n",
            "Initialize:  glove_gpt2_bilstm_1_layer\n",
            "Initialize:  glove_gpt2_bilstm_1_layer_attention\n",
            "Initialize:  glove_gpt2_bigru_1_layer\n",
            "Initialize:  glove_gpt2_bigru_1_layer_attention\n",
            "Initialize:  glove_gpt2_bilstm_2_layer\n",
            "Initialize:  glove_gpt2_bilstm_2_layer_attention\n",
            "Initialize:  glove_gpt2_bigru_2_layer\n",
            "Initialize:  glove_gpt2_bigru_2_layer_attention\n",
            "Initialize:  glove_roberta_bilstm_1_layer\n",
            "Initialize:  glove_roberta_bilstm_1_layer_attention\n",
            "Initialize:  glove_roberta_bigru_1_layer\n",
            "Initialize:  glove_roberta_bigru_1_layer_attention\n",
            "Initialize:  glove_roberta_bilstm_2_layer\n",
            "Initialize:  glove_roberta_bilstm_2_layer_attention\n",
            "Initialize:  glove_roberta_bigru_2_layer\n",
            "Initialize:  glove_roberta_bigru_2_layer_attention\n",
            "Initialize:  ensemble_bilstm_1_layer\n",
            "Initialize:  ensemble_bilstm_1_layer_attention\n",
            "Initialize:  ensemble_bigru_1_layer\n",
            "Initialize:  ensemble_bigru_1_layer_attention\n",
            "Initialize:  ensemble_bilstm_2_layer\n",
            "Initialize:  ensemble_bilstm_2_layer_attention\n",
            "Initialize:  ensemble_bigru_2_layer\n",
            "Initialize:  ensemble_bigru_2_layer_attention\n",
            "Number of intitialized models: 64\n"
          ],
          "name": "stdout"
        }
      ]
    },
    {
      "cell_type": "code",
      "metadata": {
        "colab": {
          "base_uri": "https://localhost:8080/"
        },
        "id": "mmmHKP0aqN1h",
        "outputId": "d3b7a6c2-3837-4568-ff2c-6273574fd8c6"
      },
      "source": [
        "results = []\n",
        "for model in models:\n",
        "    print(\"Working on Model:\", model['name'])\n",
        "    history = model['model'].fit(X_train_seq, y_train_seq, batch_size=32, epochs=2, \n",
        "                                 validation_data=(X_dev_seq, y_dev_seq), verbose=0)\n",
        "    \n",
        "    y_dev_predict, y_dev_proba = get_prediction_spans(model['model'].predict(X_dev_seq), \n",
        "                                                      X_dev_seq, idx2tag)\n",
        "    y_dev_predict_span = output_maker(X_dev, dev_texts, y_dev_predict)\n",
        "\n",
        "    y_test_predict, y_test_proba = get_prediction_spans(model['model'].predict(X_test_seq), \n",
        "                                                      X_test_seq, idx2tag)\n",
        "    y_test_predict_span = output_maker(X_test, test_texts, y_test_predict)\n",
        "    \n",
        "    f1, p, r = evaluator.evaluate(gold = y_dev, predictions = y_dev_predict_span)\n",
        "    model['dev-f1'], model['dev-p'], model['dev-r'] = f1, p, r\n",
        "    print(\"\\nDEV: F1:{}, \\t P:{}, \\t R:{}\".format(f1, p, r))\n",
        "\n",
        "    f1, p, r = evaluator.evaluate(gold = y_test, predictions = y_test_predict_span)\n",
        "    model['test-f1'], model['test-p'], model['test-r'] = f1, p, r\n",
        "    print(\"\\nTEST: F1:{}, \\t P:{}, \\t R:{}\".format(f1, p, r))\n",
        "    print(\"---------------------------------------------------------------\")\n",
        "    \n",
        "    model['history'] = history\n",
        "    model['config'] = model['model'].to_json()\n",
        "    \n",
        "    dev[model['name']] = y_dev_predict_span\n",
        "    test[model['name']] = y_test_predict_span\n",
        "    model.pop('model')\n",
        "    result.append(model)\n",
        "    break"
      ],
      "execution_count": null,
      "outputs": [
        {
          "output_type": "stream",
          "text": [
            "Working on Model: glove_bilstm_1_layer\n"
          ],
          "name": "stdout"
        }
      ]
    },
    {
      "cell_type": "markdown",
      "metadata": {
        "id": "Q8n8033CdQ3Z"
      },
      "source": [
        "# 5. Modeling V2"
      ]
    },
    {
      "cell_type": "code",
      "metadata": {
        "id": "Zr_HJWc8dUFR"
      },
      "source": [
        "def train_model(name, embedding, embed_size, X_train_seq, y_train_seq,\n",
        "                X_dev_seq, y_dev_seq, X_test_seq, y_test_seq, \n",
        "                dev, X_dev, y_dev, dev_texts, test, X_test, y_test, test_texts, idx2tag,\n",
        "                layers = [\"lstm\", \"gru\"], random_embedding=False, BATCH=32, EPOCH=10):\n",
        "    models = [ ] \n",
        "    for i in range(1, 3):\n",
        "        for layer in layers:\n",
        "            for attention in [False, True]:\n",
        "                if attention:\n",
        "                    run_name = name+\"_bi\"+layer+\"_\"+str(i)+\"_layer_attention\"\n",
        "                else:\n",
        "                    run_name = name+\"_bi\"+layer+\"_\"+str(i)+\"_layer\"\n",
        "                print(\"Working on: \", run_name)\n",
        "\n",
        "                model = get_model(max_len, max_features, embed_size, embedding, \n",
        "                                  n_tags, number=i, layer=layer, attention=attention, \n",
        "                                  random_embedding=random_embedding)\n",
        "\n",
        "                history = model.fit(X_train_seq, y_train_seq, batch_size=BATCH, epochs=EPOCH, \n",
        "                                    validation_data=(X_dev_seq, y_dev_seq), verbose=0)\n",
        "\n",
        "                y_dev_predict, _ = get_prediction_spans(model.predict(X_dev_seq), \n",
        "                                                        X_dev_seq, idx2tag)\n",
        "                y_dev_predict_span = output_maker(X_dev, dev_texts, y_dev_predict)\n",
        "\n",
        "                y_test_predict, _ = get_prediction_spans(model.predict(X_test_seq), \n",
        "                                                         X_test_seq, idx2tag)\n",
        "                y_test_predict_span = output_maker(X_test, test_texts, y_test_predict)\n",
        "\n",
        "                dev_f1, dev_p, dev_r = evaluator.evaluate(gold = y_dev, \n",
        "                                                          predictions = y_dev_predict_span)\n",
        "                print(\"\\nDEV: F1:{}, \\t P:{}, \\t R:{}\".format(dev_f1, dev_p, dev_r))\n",
        "                test_f1, test_p, test_r = evaluator.evaluate(gold = y_test, \n",
        "                                                             predictions = y_test_predict_span)\n",
        "                print(\"\\nTEST: F1:{}, \\t P:{}, \\t R:{}\".format(test_f1, test_p, test_r))\n",
        "                model_info = {\n",
        "                    \"name\":run_name,\n",
        "                    #\"history\":history,\n",
        "                    \"config\":model.to_json(),\n",
        "                    \"dev-result\":{ \"F1\":dev_f1, \"P\":dev_p, \"R\":dev_r },\n",
        "                    \"test-result\":{ \"F1\":test_f1, \"P\":test_p, \"R\":test_r },\n",
        "                }\n",
        "                dev[run_name] = y_dev_predict_span\n",
        "                test[run_name] = y_test_predict_span\n",
        "                print(\"---------------------------------------------------------------\")\n",
        "                models.append(model_info)\n",
        "                del model\n",
        "    return models, dev, test"
      ],
      "execution_count": 29,
      "outputs": []
    },
    {
      "cell_type": "code",
      "metadata": {
        "colab": {
          "base_uri": "https://localhost:8080/"
        },
        "id": "bX8VqLx2disM",
        "outputId": "13151e3f-65c9-4d81-d72d-b36aeb9db765"
      },
      "source": [
        "#GLOVE\n",
        "glove_models, dev, test = train_model(\"glove\", glove_embeddings, glove_embed_size, \n",
        "                        X_train_seq, y_train_seq, X_dev_seq, y_dev_seq, X_test_seq, y_test_seq, \n",
        "                        dev, X_dev, y_dev, dev_texts, test, X_test, y_test, test_texts, \n",
        "                        idx2tag, random_embedding=False)"
      ],
      "execution_count": 25,
      "outputs": [
        {
          "output_type": "stream",
          "text": [
            "Working on:  glove_bilstm_1_layer\n",
            "WARNING:tensorflow:From /content/dl_utils.py:193: The name tf.keras.layers.CuDNNGRU is deprecated. Please use tf.compat.v1.keras.layers.CuDNNGRU instead.\n",
            "\n",
            "WARNING:tensorflow:From /content/dl_utils.py:194: The name tf.keras.layers.CuDNNLSTM is deprecated. Please use tf.compat.v1.keras.layers.CuDNNLSTM instead.\n",
            "\n"
          ],
          "name": "stdout"
        },
        {
          "output_type": "stream",
          "text": [
            "100%|██████████| 690/690 [00:00<00:00, 2734.77it/s]\n",
            "100%|██████████| 2000/2000 [00:00<00:00, 2840.72it/s]\n"
          ],
          "name": "stderr"
        },
        {
          "output_type": "stream",
          "text": [
            "\n",
            "DEV: F1:0.5933439452594426, \t P:0.692727399323684, \t R:0.599064276158495\n",
            "\n",
            "TEST: F1:0.6345711717904563, \t P:0.6430424909657134, \t R:0.6818846342593257\n",
            "---------------------------------------------------------------\n",
            "Working on:  glove_bilstm_1_layer_attention\n"
          ],
          "name": "stdout"
        },
        {
          "output_type": "stream",
          "text": [
            "100%|██████████| 690/690 [00:00<00:00, 2812.88it/s]\n",
            "100%|██████████| 2000/2000 [00:00<00:00, 2864.91it/s]\n"
          ],
          "name": "stderr"
        },
        {
          "output_type": "stream",
          "text": [
            "\n",
            "DEV: F1:0.5814528228364736, \t P:0.6882275452070472, \t R:0.574615251359855\n",
            "\n",
            "TEST: F1:0.6315053308063742, \t P:0.647073983195685, \t R:0.66464784296597\n",
            "---------------------------------------------------------------\n",
            "Working on:  glove_bigru_1_layer\n"
          ],
          "name": "stdout"
        },
        {
          "output_type": "stream",
          "text": [
            "100%|██████████| 690/690 [00:00<00:00, 2870.77it/s]\n",
            "100%|██████████| 2000/2000 [00:00<00:00, 2833.86it/s]\n"
          ],
          "name": "stderr"
        },
        {
          "output_type": "stream",
          "text": [
            "\n",
            "DEV: F1:0.5972302138689289, \t P:0.710081587759217, \t R:0.587100034098996\n",
            "\n",
            "TEST: F1:0.6367934577056572, \t P:0.6549257820244244, \t R:0.6676713493517884\n",
            "---------------------------------------------------------------\n",
            "Working on:  glove_bigru_1_layer_attention\n"
          ],
          "name": "stdout"
        },
        {
          "output_type": "stream",
          "text": [
            "100%|██████████| 690/690 [00:00<00:00, 2866.29it/s]\n",
            "100%|██████████| 2000/2000 [00:00<00:00, 2791.86it/s]\n"
          ],
          "name": "stderr"
        },
        {
          "output_type": "stream",
          "text": [
            "\n",
            "DEV: F1:0.5830148816327502, \t P:0.6861673831728327, \t R:0.5758079322629717\n",
            "\n",
            "TEST: F1:0.6358106553392339, \t P:0.6505458479891837, \t R:0.6648534166464798\n",
            "---------------------------------------------------------------\n",
            "Working on:  glove_bilstm_2_layer\n"
          ],
          "name": "stdout"
        },
        {
          "output_type": "stream",
          "text": [
            "100%|██████████| 690/690 [00:00<00:00, 2931.63it/s]\n",
            "100%|██████████| 2000/2000 [00:00<00:00, 2873.13it/s]\n"
          ],
          "name": "stderr"
        },
        {
          "output_type": "stream",
          "text": [
            "\n",
            "DEV: F1:0.6197065857151682, \t P:0.7235515856212306, \t R:0.6192616606042283\n",
            "\n",
            "TEST: F1:0.6273715690491503, \t P:0.6335091323068919, \t R:0.6766209409946212\n",
            "---------------------------------------------------------------\n",
            "Working on:  glove_bilstm_2_layer_attention\n"
          ],
          "name": "stdout"
        },
        {
          "output_type": "stream",
          "text": [
            "100%|██████████| 690/690 [00:00<00:00, 2733.58it/s]\n",
            "100%|██████████| 2000/2000 [00:00<00:00, 2692.82it/s]\n"
          ],
          "name": "stderr"
        },
        {
          "output_type": "stream",
          "text": [
            "\n",
            "DEV: F1:0.581900541419565, \t P:0.7024731120847837, \t R:0.5614464748552733\n",
            "\n",
            "TEST: F1:0.6535874568591744, \t P:0.6769076345886258, \t R:0.6717023817600346\n",
            "---------------------------------------------------------------\n",
            "Working on:  glove_bigru_2_layer\n"
          ],
          "name": "stdout"
        },
        {
          "output_type": "stream",
          "text": [
            "100%|██████████| 690/690 [00:00<00:00, 2869.96it/s]\n",
            "100%|██████████| 2000/2000 [00:00<00:00, 2927.69it/s]\n"
          ],
          "name": "stderr"
        },
        {
          "output_type": "stream",
          "text": [
            "\n",
            "DEV: F1:0.5979811650352987, \t P:0.6976640874769653, \t R:0.5957042794317434\n",
            "\n",
            "TEST: F1:0.6335300780580434, \t P:0.6453141167171984, \t R:0.6730318660135038\n",
            "---------------------------------------------------------------\n",
            "Working on:  glove_bigru_2_layer_attention\n"
          ],
          "name": "stdout"
        },
        {
          "output_type": "stream",
          "text": [
            "100%|██████████| 690/690 [00:00<00:00, 2920.91it/s]\n",
            "100%|██████████| 2000/2000 [00:00<00:00, 2852.26it/s]"
          ],
          "name": "stderr"
        },
        {
          "output_type": "stream",
          "text": [
            "\n",
            "DEV: F1:0.5722379793511155, \t P:0.6819277253349778, \t R:0.5613819271973783\n",
            "\n",
            "TEST: F1:0.6392336157626282, \t P:0.6558267008938164, \t R:0.6645190897533937\n",
            "---------------------------------------------------------------\n"
          ],
          "name": "stdout"
        },
        {
          "output_type": "stream",
          "text": [
            "\n"
          ],
          "name": "stderr"
        }
      ]
    },
    {
      "cell_type": "code",
      "metadata": {
        "id": "ZcAhI5A7d5gq"
      },
      "source": [
        "dev.to_csv(path_to_drive+\"trial.csv\", index=False)\n",
        "\n",
        "test.to_csv(path_to_drive+\"test.csv\", index=False)\n",
        "\n",
        "utils.save_json(path_to_drive+\"tsd_experiments_logs_glove_models.json\", glove_models)"
      ],
      "execution_count": 32,
      "outputs": []
    },
    {
      "cell_type": "code",
      "metadata": {
        "colab": {
          "base_uri": "https://localhost:8080/"
        },
        "id": "dl0f8VGEdsug",
        "outputId": "3e9c4c13-ba56-4417-8468-227c5339b0b1"
      },
      "source": [
        "#GPT2\n",
        "gpt2_models, dev, test = train_model(\"gpt2\", gpt2_embeddings, transformer_embed_size, \n",
        "                        X_train_seq, y_train_seq, X_dev_seq, y_dev_seq, X_test_seq, y_test_seq, \n",
        "                        dev, X_dev, y_dev, dev_texts, test, X_test, y_test, test_texts, \n",
        "                        idx2tag, random_embedding=False)"
      ],
      "execution_count": 33,
      "outputs": [
        {
          "output_type": "stream",
          "text": [
            "Working on:  gpt2_bilstm_1_layer\n"
          ],
          "name": "stdout"
        },
        {
          "output_type": "stream",
          "text": [
            "100%|██████████| 690/690 [00:00<00:00, 2887.75it/s]\n",
            "100%|██████████| 2000/2000 [00:00<00:00, 2873.18it/s]\n"
          ],
          "name": "stderr"
        },
        {
          "output_type": "stream",
          "text": [
            "\n",
            "DEV: F1:0.6129786978911472, \t P:0.634555770360232, \t R:0.7232993595135786\n",
            "\n",
            "TEST: F1:0.5684156742162274, \t P:0.5166155849309709, \t R:0.7335360979978383\n",
            "---------------------------------------------------------------\n",
            "Working on:  gpt2_bilstm_1_layer_attention\n"
          ],
          "name": "stdout"
        },
        {
          "output_type": "stream",
          "text": [
            "100%|██████████| 690/690 [00:00<00:00, 2906.34it/s]\n",
            "100%|██████████| 2000/2000 [00:00<00:00, 2912.18it/s]\n"
          ],
          "name": "stderr"
        },
        {
          "output_type": "stream",
          "text": [
            "\n",
            "DEV: F1:0.610706796827132, \t P:0.7018870328766567, \t R:0.6193708758301738\n",
            "\n",
            "TEST: F1:0.6384119111811389, \t P:0.6368887796272124, \t R:0.6950900792330174\n",
            "---------------------------------------------------------------\n",
            "Working on:  gpt2_bigru_1_layer\n"
          ],
          "name": "stdout"
        },
        {
          "output_type": "stream",
          "text": [
            "100%|██████████| 690/690 [00:00<00:00, 2756.03it/s]\n",
            "100%|██████████| 2000/2000 [00:00<00:00, 2911.71it/s]\n"
          ],
          "name": "stderr"
        },
        {
          "output_type": "stream",
          "text": [
            "\n",
            "DEV: F1:0.6275726054879727, \t P:0.7526812667416897, \t R:0.6091920223793211\n",
            "\n",
            "TEST: F1:0.6663408144712348, \t P:0.682659946950568, \t R:0.6908507424605981\n",
            "---------------------------------------------------------------\n",
            "Working on:  gpt2_bigru_1_layer_attention\n"
          ],
          "name": "stdout"
        },
        {
          "output_type": "stream",
          "text": [
            "100%|██████████| 690/690 [00:00<00:00, 2970.65it/s]\n",
            "100%|██████████| 2000/2000 [00:00<00:00, 2820.97it/s]\n"
          ],
          "name": "stderr"
        },
        {
          "output_type": "stream",
          "text": [
            "\n",
            "DEV: F1:0.5319193874530503, \t P:0.6266222921721643, \t R:0.5056689381422773\n",
            "\n",
            "TEST: F1:0.6444875595302592, \t P:0.670478036900806, \t R:0.6447385633634684\n",
            "---------------------------------------------------------------\n",
            "Working on:  gpt2_bilstm_2_layer\n"
          ],
          "name": "stdout"
        },
        {
          "output_type": "stream",
          "text": [
            "100%|██████████| 690/690 [00:00<00:00, 2931.58it/s]\n",
            "100%|██████████| 2000/2000 [00:00<00:00, 2870.32it/s]\n"
          ],
          "name": "stderr"
        },
        {
          "output_type": "stream",
          "text": [
            "\n",
            "DEV: F1:0.5809183668470203, \t P:0.7027497388942402, \t R:0.550876076621364\n",
            "\n",
            "TEST: F1:0.6664560560107419, \t P:0.6982450336020191, \t R:0.6658956374681325\n",
            "---------------------------------------------------------------\n",
            "Working on:  gpt2_bilstm_2_layer_attention\n"
          ],
          "name": "stdout"
        },
        {
          "output_type": "stream",
          "text": [
            "100%|██████████| 690/690 [00:00<00:00, 2846.96it/s]\n",
            "100%|██████████| 2000/2000 [00:00<00:00, 2986.09it/s]\n"
          ],
          "name": "stderr"
        },
        {
          "output_type": "stream",
          "text": [
            "\n",
            "DEV: F1:0.6152352788272297, \t P:0.726234702261056, \t R:0.5922353760901371\n",
            "\n",
            "TEST: F1:0.6763276144842764, \t P:0.6947887938407482, \t R:0.6964228823092393\n",
            "---------------------------------------------------------------\n",
            "Working on:  gpt2_bigru_2_layer\n"
          ],
          "name": "stdout"
        },
        {
          "output_type": "stream",
          "text": [
            "100%|██████████| 690/690 [00:00<00:00, 2970.41it/s]\n",
            "100%|██████████| 2000/2000 [00:00<00:00, 3051.39it/s]\n"
          ],
          "name": "stderr"
        },
        {
          "output_type": "stream",
          "text": [
            "\n",
            "DEV: F1:0.6417727088744084, \t P:0.7410395424513354, \t R:0.6522435544014941\n",
            "\n",
            "TEST: F1:0.6235543027110854, \t P:0.6275418019742806, \t R:0.6793689533532437\n",
            "---------------------------------------------------------------\n",
            "Working on:  gpt2_bigru_2_layer_attention\n"
          ],
          "name": "stdout"
        },
        {
          "output_type": "stream",
          "text": [
            "100%|██████████| 690/690 [00:00<00:00, 2932.50it/s]\n",
            "100%|██████████| 2000/2000 [00:00<00:00, 2969.30it/s]"
          ],
          "name": "stderr"
        },
        {
          "output_type": "stream",
          "text": [
            "\n",
            "DEV: F1:0.6493665723557466, \t P:0.7722677333260862, \t R:0.6410417647652913\n",
            "\n",
            "TEST: F1:0.6596750254661106, \t P:0.6650714605074182, \t R:0.70350163240807\n",
            "---------------------------------------------------------------\n"
          ],
          "name": "stdout"
        },
        {
          "output_type": "stream",
          "text": [
            "\n"
          ],
          "name": "stderr"
        }
      ]
    },
    {
      "cell_type": "code",
      "metadata": {
        "id": "gcl-cmMeivQA"
      },
      "source": [
        "dev.to_csv(path_to_drive+\"trial.csv\", index=False)\n",
        "\n",
        "test.to_csv(path_to_drive+\"test.csv\", index=False)\n",
        "\n",
        "utils.save_json(path_to_drive+\"tsd_experiments_logs_gpt2_models.json\", gpt2_models)"
      ],
      "execution_count": 34,
      "outputs": []
    },
    {
      "cell_type": "code",
      "metadata": {
        "colab": {
          "base_uri": "https://localhost:8080/"
        },
        "id": "aHL7zpDJmcDa",
        "outputId": "98f6bbe6-7379-4a58-bac1-632d2f50785e"
      },
      "source": [
        "#roberta\n",
        "roberta_models, dev, test = train_model(\"roberta\", roberta_embeddings, transformer_embed_size, \n",
        "                        X_train_seq, y_train_seq, X_dev_seq, y_dev_seq, X_test_seq, y_test_seq, \n",
        "                        dev, X_dev, y_dev, dev_texts, test, X_test, y_test, test_texts, \n",
        "                        idx2tag, random_embedding=False)"
      ],
      "execution_count": 36,
      "outputs": [
        {
          "output_type": "stream",
          "text": [
            "Working on:  roberta_bilstm_1_layer\n"
          ],
          "name": "stdout"
        },
        {
          "output_type": "stream",
          "text": [
            "100%|██████████| 690/690 [00:00<00:00, 2893.68it/s]\n",
            "100%|██████████| 2000/2000 [00:00<00:00, 2765.88it/s]\n"
          ],
          "name": "stderr"
        },
        {
          "output_type": "stream",
          "text": [
            "\n",
            "DEV: F1:0.5643525813518603, \t P:0.6709752767361463, \t R:0.5342818558322118\n",
            "\n",
            "TEST: F1:0.6530989181969675, \t P:0.6850516763765989, \t R:0.6502567062283988\n",
            "---------------------------------------------------------------\n",
            "Working on:  roberta_bilstm_1_layer_attention\n"
          ],
          "name": "stdout"
        },
        {
          "output_type": "stream",
          "text": [
            "100%|██████████| 690/690 [00:00<00:00, 2870.97it/s]\n",
            "100%|██████████| 2000/2000 [00:00<00:00, 2863.66it/s]\n"
          ],
          "name": "stderr"
        },
        {
          "output_type": "stream",
          "text": [
            "\n",
            "DEV: F1:0.5989069245850228, \t P:0.6977010360378916, \t R:0.5791791422706808\n",
            "\n",
            "TEST: F1:0.6635659869772619, \t P:0.6816547318078886, \t R:0.6822285517930211\n",
            "---------------------------------------------------------------\n",
            "Working on:  roberta_bigru_1_layer\n"
          ],
          "name": "stdout"
        },
        {
          "output_type": "stream",
          "text": [
            "100%|██████████| 690/690 [00:00<00:00, 2866.75it/s]\n",
            "100%|██████████| 2000/2000 [00:00<00:00, 2908.81it/s]\n"
          ],
          "name": "stderr"
        },
        {
          "output_type": "stream",
          "text": [
            "\n",
            "DEV: F1:0.6231009357806271, \t P:0.7492952895830134, \t R:0.6017767162335637\n",
            "\n",
            "TEST: F1:0.6558538705280195, \t P:0.6722550279106855, \t R:0.6808614339071145\n",
            "---------------------------------------------------------------\n",
            "Working on:  roberta_bigru_1_layer_attention\n"
          ],
          "name": "stdout"
        },
        {
          "output_type": "stream",
          "text": [
            "100%|██████████| 690/690 [00:00<00:00, 2903.24it/s]\n",
            "100%|██████████| 2000/2000 [00:00<00:00, 2908.83it/s]\n"
          ],
          "name": "stderr"
        },
        {
          "output_type": "stream",
          "text": [
            "\n",
            "DEV: F1:0.5980688885101494, \t P:0.7074978828340348, \t R:0.583177618644805\n",
            "\n",
            "TEST: F1:0.6487549056407632, \t P:0.6642392749123845, \t R:0.6759552590689601\n",
            "---------------------------------------------------------------\n",
            "Working on:  roberta_bilstm_2_layer\n"
          ],
          "name": "stdout"
        },
        {
          "output_type": "stream",
          "text": [
            "100%|██████████| 690/690 [00:00<00:00, 2706.66it/s]\n",
            "100%|██████████| 2000/2000 [00:00<00:00, 2875.16it/s]\n"
          ],
          "name": "stderr"
        },
        {
          "output_type": "stream",
          "text": [
            "\n",
            "DEV: F1:0.6346915234909445, \t P:0.7532097440581083, \t R:0.6175604048154371\n",
            "\n",
            "TEST: F1:0.6631168422608287, \t P:0.6819535864233276, \t R:0.6868471488278752\n",
            "---------------------------------------------------------------\n",
            "Working on:  roberta_bilstm_2_layer_attention\n"
          ],
          "name": "stdout"
        },
        {
          "output_type": "stream",
          "text": [
            "100%|██████████| 690/690 [00:00<00:00, 2991.85it/s]\n",
            "100%|██████████| 2000/2000 [00:00<00:00, 2858.49it/s]\n"
          ],
          "name": "stderr"
        },
        {
          "output_type": "stream",
          "text": [
            "\n",
            "DEV: F1:0.620858543612296, \t P:0.733420765227495, \t R:0.6032213392760811\n",
            "\n",
            "TEST: F1:0.657848464380668, \t P:0.6710835881424306, \t R:0.6875699258439912\n",
            "---------------------------------------------------------------\n",
            "Working on:  roberta_bigru_2_layer\n"
          ],
          "name": "stdout"
        },
        {
          "output_type": "stream",
          "text": [
            "100%|██████████| 690/690 [00:00<00:00, 2941.34it/s]\n",
            "100%|██████████| 2000/2000 [00:00<00:00, 3010.57it/s]\n"
          ],
          "name": "stderr"
        },
        {
          "output_type": "stream",
          "text": [
            "\n",
            "DEV: F1:0.6217469378906093, \t P:0.7540050817115361, \t R:0.6008991721044757\n",
            "\n",
            "TEST: F1:0.6602743298977589, \t P:0.6847569477913314, \t R:0.6762607781875901\n",
            "---------------------------------------------------------------\n",
            "Working on:  roberta_bigru_2_layer_attention\n"
          ],
          "name": "stdout"
        },
        {
          "output_type": "stream",
          "text": [
            "100%|██████████| 690/690 [00:00<00:00, 2964.80it/s]\n",
            "100%|██████████| 2000/2000 [00:00<00:00, 2906.58it/s]\n"
          ],
          "name": "stderr"
        },
        {
          "output_type": "stream",
          "text": [
            "\n",
            "DEV: F1:0.5624295552423878, \t P:0.6851106606285635, \t R:0.5284446561901651\n",
            "\n",
            "TEST: F1:0.6447894607736772, \t P:0.6866542233394399, \t R:0.6348004281497527\n",
            "---------------------------------------------------------------\n"
          ],
          "name": "stdout"
        }
      ]
    },
    {
      "cell_type": "code",
      "metadata": {
        "id": "s_trGXsbmkN_"
      },
      "source": [
        "dev.to_csv(path_to_drive+\"trial.csv\", index=False)\n",
        "\n",
        "test.to_csv(path_to_drive+\"test.csv\", index=False)\n",
        "\n",
        "utils.save_json(path_to_drive+\"tsd_experiments_logs_roberta_models.json\", roberta_models)"
      ],
      "execution_count": 37,
      "outputs": []
    },
    {
      "cell_type": "code",
      "metadata": {
        "colab": {
          "base_uri": "https://localhost:8080/"
        },
        "id": "F1vUo3nWqtrC",
        "outputId": "6f9dfb21-cab3-4dc2-c3c5-cb8b83f2a14e"
      },
      "source": [
        "#RANDOM\n",
        "random_models, dev, test = train_model(\"random\", None, glove_embed_size,  \n",
        "                        X_train_seq, y_train_seq, X_dev_seq, y_dev_seq, X_test_seq, y_test_seq, \n",
        "                        dev, X_dev, y_dev, dev_texts, test, X_test, y_test, test_texts, \n",
        "                        idx2tag, random_embedding=True)"
      ],
      "execution_count": 39,
      "outputs": [
        {
          "output_type": "stream",
          "text": [
            "Working on:  random_bilstm_1_layer\n"
          ],
          "name": "stdout"
        },
        {
          "output_type": "stream",
          "text": [
            "100%|██████████| 690/690 [00:00<00:00, 2895.26it/s]\n",
            "100%|██████████| 2000/2000 [00:00<00:00, 2900.86it/s]\n"
          ],
          "name": "stderr"
        },
        {
          "output_type": "stream",
          "text": [
            "\n",
            "DEV: F1:0.6013717564646831, \t P:0.6634583577599503, \t R:0.6700118666005247\n",
            "\n",
            "TEST: F1:0.6155133257814981, \t P:0.6008382240555085, \t R:0.7177588162074627\n",
            "---------------------------------------------------------------\n",
            "Working on:  random_bilstm_1_layer_attention\n"
          ],
          "name": "stdout"
        },
        {
          "output_type": "stream",
          "text": [
            "100%|██████████| 690/690 [00:00<00:00, 2917.73it/s]\n",
            "100%|██████████| 2000/2000 [00:00<00:00, 2832.13it/s]\n"
          ],
          "name": "stderr"
        },
        {
          "output_type": "stream",
          "text": [
            "\n",
            "DEV: F1:0.5811606453173995, \t P:0.6332848679150577, \t R:0.6660810047293568\n",
            "\n",
            "TEST: F1:0.5880881217634297, \t P:0.5704739406074326, \t R:0.7150433123011998\n",
            "---------------------------------------------------------------\n",
            "Working on:  random_bigru_1_layer\n"
          ],
          "name": "stdout"
        },
        {
          "output_type": "stream",
          "text": [
            "100%|██████████| 690/690 [00:00<00:00, 2963.73it/s]\n",
            "100%|██████████| 2000/2000 [00:00<00:00, 2758.56it/s]\n"
          ],
          "name": "stderr"
        },
        {
          "output_type": "stream",
          "text": [
            "\n",
            "DEV: F1:0.6208821917068859, \t P:0.7010064027657411, \t R:0.666148906405102\n",
            "\n",
            "TEST: F1:0.6274281397093672, \t P:0.6153008629622507, \t R:0.7162663738902473\n",
            "---------------------------------------------------------------\n",
            "Working on:  random_bigru_1_layer_attention\n"
          ],
          "name": "stdout"
        },
        {
          "output_type": "stream",
          "text": [
            "100%|██████████| 690/690 [00:00<00:00, 2950.40it/s]\n",
            "100%|██████████| 2000/2000 [00:00<00:00, 2936.55it/s]\n"
          ],
          "name": "stderr"
        },
        {
          "output_type": "stream",
          "text": [
            "\n",
            "DEV: F1:0.5944789442487421, \t P:0.6466767099035533, \t R:0.6700392830897283\n",
            "\n",
            "TEST: F1:0.5907812328401563, \t P:0.5688237540151606, \t R:0.7191891198563527\n",
            "---------------------------------------------------------------\n",
            "Working on:  random_bilstm_2_layer\n"
          ],
          "name": "stdout"
        },
        {
          "output_type": "stream",
          "text": [
            "100%|██████████| 690/690 [00:00<00:00, 2850.79it/s]\n",
            "100%|██████████| 2000/2000 [00:00<00:00, 2877.56it/s]\n"
          ],
          "name": "stderr"
        },
        {
          "output_type": "stream",
          "text": [
            "\n",
            "DEV: F1:0.5922643517308351, \t P:0.6971977012989709, \t R:0.5993314884917729\n",
            "\n",
            "TEST: F1:0.640723956477637, \t P:0.6525108402828925, \t R:0.6856466533855373\n",
            "---------------------------------------------------------------\n",
            "Working on:  random_bilstm_2_layer_attention\n"
          ],
          "name": "stdout"
        },
        {
          "output_type": "stream",
          "text": [
            "100%|██████████| 690/690 [00:00<00:00, 2942.02it/s]\n",
            "100%|██████████| 2000/2000 [00:00<00:00, 2899.22it/s]\n"
          ],
          "name": "stderr"
        },
        {
          "output_type": "stream",
          "text": [
            "\n",
            "DEV: F1:0.6063446196518567, \t P:0.6705867101983531, \t R:0.6727388738763372\n",
            "\n",
            "TEST: F1:0.6043180318998752, \t P:0.588736369523075, \t R:0.7086446832790266\n",
            "---------------------------------------------------------------\n",
            "Working on:  random_bigru_2_layer\n"
          ],
          "name": "stdout"
        },
        {
          "output_type": "stream",
          "text": [
            "100%|██████████| 690/690 [00:00<00:00, 2891.64it/s]\n",
            "100%|██████████| 2000/2000 [00:00<00:00, 2905.53it/s]\n"
          ],
          "name": "stderr"
        },
        {
          "output_type": "stream",
          "text": [
            "\n",
            "DEV: F1:0.540634672429913, \t P:0.605961730803107, \t R:0.5955924486621861\n",
            "\n",
            "TEST: F1:0.563312021216984, \t P:0.564082812443873, \t R:0.645032303970318\n",
            "---------------------------------------------------------------\n",
            "Working on:  random_bigru_2_layer_attention\n"
          ],
          "name": "stdout"
        },
        {
          "output_type": "stream",
          "text": [
            "100%|██████████| 690/690 [00:00<00:00, 2990.92it/s]\n",
            "100%|██████████| 2000/2000 [00:00<00:00, 2861.75it/s]\n"
          ],
          "name": "stderr"
        },
        {
          "output_type": "stream",
          "text": [
            "\n",
            "DEV: F1:0.608753414696813, \t P:0.680828434027895, \t R:0.6441736616719723\n",
            "\n",
            "TEST: F1:0.6263297001486408, \t P:0.6209543204511783, \t R:0.708628389078898\n",
            "---------------------------------------------------------------\n"
          ],
          "name": "stdout"
        }
      ]
    },
    {
      "cell_type": "code",
      "metadata": {
        "id": "qkfTfAhSrFN3"
      },
      "source": [
        "dev.to_csv(path_to_drive+\"trial.csv\", index=False)\n",
        "\n",
        "test.to_csv(path_to_drive+\"test.csv\", index=False)\n",
        "\n",
        "utils.save_json(path_to_drive+\"tsd_experiments_logs_random_models.json\", random_models)"
      ],
      "execution_count": 40,
      "outputs": []
    },
    {
      "cell_type": "code",
      "metadata": {
        "colab": {
          "base_uri": "https://localhost:8080/"
        },
        "id": "kSd-W_Iyypmz",
        "outputId": "deb3e7c6-2c1d-4865-83ee-fb7694ce86e9"
      },
      "source": [
        "#roberta_gpt2\n",
        "roberta_gpt2_models, dev, test = train_model(\"roberta_gpt2\", rotberta_gpt2_embeddings, rotberta_gpt2_embed_size, \n",
        "                        X_train_seq, y_train_seq, X_dev_seq, y_dev_seq, X_test_seq, y_test_seq, \n",
        "                        dev, X_dev, y_dev, dev_texts, test, X_test, y_test, test_texts, \n",
        "                        idx2tag, random_embedding=False)"
      ],
      "execution_count": 41,
      "outputs": [
        {
          "output_type": "stream",
          "text": [
            "Working on:  roberta_gpt2_bilstm_1_layer\n"
          ],
          "name": "stdout"
        },
        {
          "output_type": "stream",
          "text": [
            "100%|██████████| 690/690 [00:00<00:00, 2912.97it/s]\n",
            "100%|██████████| 2000/2000 [00:00<00:00, 2779.69it/s]\n"
          ],
          "name": "stderr"
        },
        {
          "output_type": "stream",
          "text": [
            "\n",
            "DEV: F1:0.631488781883551, \t P:0.7472863570530754, \t R:0.6255773280603533\n",
            "\n",
            "TEST: F1:0.6637994215828757, \t P:0.6710445507004218, \t R:0.7004173664137382\n",
            "---------------------------------------------------------------\n",
            "Working on:  roberta_gpt2_bilstm_1_layer_attention\n"
          ],
          "name": "stdout"
        },
        {
          "output_type": "stream",
          "text": [
            "100%|██████████| 690/690 [00:00<00:00, 2903.49it/s]\n",
            "100%|██████████| 2000/2000 [00:00<00:00, 2925.50it/s]\n"
          ],
          "name": "stderr"
        },
        {
          "output_type": "stream",
          "text": [
            "\n",
            "DEV: F1:0.5905574795274336, \t P:0.6954844340211558, \t R:0.575959276573947\n",
            "\n",
            "TEST: F1:0.6636002377258563, \t P:0.6766465871071105, \t R:0.6876995062097072\n",
            "---------------------------------------------------------------\n",
            "Working on:  roberta_gpt2_bigru_1_layer\n"
          ],
          "name": "stdout"
        },
        {
          "output_type": "stream",
          "text": [
            "100%|██████████| 690/690 [00:00<00:00, 2874.33it/s]\n",
            "100%|██████████| 2000/2000 [00:00<00:00, 2772.81it/s]\n"
          ],
          "name": "stderr"
        },
        {
          "output_type": "stream",
          "text": [
            "\n",
            "DEV: F1:0.6146003557729858, \t P:0.7388208324781215, \t R:0.5862388415602382\n",
            "\n",
            "TEST: F1:0.6617172559582825, \t P:0.6861071914558126, \t R:0.6731205087663018\n",
            "---------------------------------------------------------------\n",
            "Working on:  roberta_gpt2_bigru_1_layer_attention\n"
          ],
          "name": "stdout"
        },
        {
          "output_type": "stream",
          "text": [
            "100%|██████████| 690/690 [00:00<00:00, 2866.82it/s]\n",
            "100%|██████████| 2000/2000 [00:00<00:00, 2865.17it/s]\n"
          ],
          "name": "stderr"
        },
        {
          "output_type": "stream",
          "text": [
            "\n",
            "DEV: F1:0.5044463591565815, \t P:0.5906083302886371, \t R:0.4812898929445265\n",
            "\n",
            "TEST: F1:0.619750079373198, \t P:0.6441201715724937, \t R:0.6194790452288078\n",
            "---------------------------------------------------------------\n",
            "Working on:  roberta_gpt2_bilstm_2_layer\n"
          ],
          "name": "stdout"
        },
        {
          "output_type": "stream",
          "text": [
            "100%|██████████| 690/690 [00:00<00:00, 2843.72it/s]\n",
            "100%|██████████| 2000/2000 [00:00<00:00, 2932.75it/s]\n"
          ],
          "name": "stderr"
        },
        {
          "output_type": "stream",
          "text": [
            "\n",
            "DEV: F1:0.6475611745179829, \t P:0.7816843131742588, \t R:0.6306496479427095\n",
            "\n",
            "TEST: F1:0.6698440918328271, \t P:0.6865544859272991, \t R:0.6975326507132534\n",
            "---------------------------------------------------------------\n",
            "Working on:  roberta_gpt2_bilstm_2_layer_attention\n"
          ],
          "name": "stdout"
        },
        {
          "output_type": "stream",
          "text": [
            "100%|██████████| 690/690 [00:00<00:00, 2864.46it/s]\n",
            "100%|██████████| 2000/2000 [00:00<00:00, 2893.69it/s]\n"
          ],
          "name": "stderr"
        },
        {
          "output_type": "stream",
          "text": [
            "\n",
            "DEV: F1:0.6385462863193058, \t P:0.6848430609804754, \t R:0.7093600705270132\n",
            "\n",
            "TEST: F1:0.6009698638637146, \t P:0.5654262293226843, \t R:0.7326543436139791\n",
            "---------------------------------------------------------------\n",
            "Working on:  roberta_gpt2_bigru_2_layer\n"
          ],
          "name": "stdout"
        },
        {
          "output_type": "stream",
          "text": [
            "100%|██████████| 690/690 [00:00<00:00, 2821.54it/s]\n",
            "100%|██████████| 2000/2000 [00:00<00:00, 2967.37it/s]\n"
          ],
          "name": "stderr"
        },
        {
          "output_type": "stream",
          "text": [
            "\n",
            "DEV: F1:0.6645191403512173, \t P:0.7849396313006827, \t R:0.6569312032532001\n",
            "\n",
            "TEST: F1:0.6621193009798484, \t P:0.6673837192718405, \t R:0.7059530533971161\n",
            "---------------------------------------------------------------\n",
            "Working on:  roberta_gpt2_bigru_2_layer_attention\n"
          ],
          "name": "stdout"
        },
        {
          "output_type": "stream",
          "text": [
            "100%|██████████| 690/690 [00:00<00:00, 2887.20it/s]\n",
            "100%|██████████| 2000/2000 [00:00<00:00, 2882.18it/s]"
          ],
          "name": "stderr"
        },
        {
          "output_type": "stream",
          "text": [
            "\n",
            "DEV: F1:0.521628977451789, \t P:0.620969111403894, \t R:0.49392825915085303\n",
            "\n",
            "TEST: F1:0.6272428058629365, \t P:0.6600237316454615, \t R:0.6206681070864288\n",
            "---------------------------------------------------------------\n"
          ],
          "name": "stdout"
        },
        {
          "output_type": "stream",
          "text": [
            "\n"
          ],
          "name": "stderr"
        }
      ]
    },
    {
      "cell_type": "code",
      "metadata": {
        "id": "4YB8rfpqysNc"
      },
      "source": [
        "dev.to_csv(path_to_drive+\"trial.csv\", index=False)\n",
        "\n",
        "test.to_csv(path_to_drive+\"test.csv\", index=False)\n",
        "\n",
        "utils.save_json(path_to_drive+\"tsd_experiments_logs_roberta_gpt2_models.json\", \n",
        "                roberta_gpt2_models)"
      ],
      "execution_count": 42,
      "outputs": []
    },
    {
      "cell_type": "code",
      "metadata": {
        "colab": {
          "base_uri": "https://localhost:8080/"
        },
        "id": "fcYpp2ic3N3m",
        "outputId": "47117ec4-b602-4d60-e917-b228626e601d"
      },
      "source": [
        "#glove_gpt2\n",
        "glove_gp2_models, dev, test = train_model(\"glove_gpt2\", glove_gpt2_embeddings, glove_transformer_embed_size, \n",
        "                        X_train_seq, y_train_seq, X_dev_seq, y_dev_seq, X_test_seq, y_test_seq, \n",
        "                        dev, X_dev, y_dev, dev_texts, test, X_test, y_test, test_texts, \n",
        "                        idx2tag, random_embedding=False)"
      ],
      "execution_count": 44,
      "outputs": [
        {
          "output_type": "stream",
          "text": [
            "Working on:  glove_gpt2_bilstm_1_layer\n"
          ],
          "name": "stdout"
        },
        {
          "output_type": "stream",
          "text": [
            "100%|██████████| 690/690 [00:00<00:00, 2970.24it/s]\n",
            "100%|██████████| 2000/2000 [00:00<00:00, 2985.75it/s]\n"
          ],
          "name": "stderr"
        },
        {
          "output_type": "stream",
          "text": [
            "\n",
            "DEV: F1:0.6184718936728081, \t P:0.7408866948281574, \t R:0.5978379883104998\n",
            "\n",
            "TEST: F1:0.6696737556670149, \t P:0.6910007993945712, \t R:0.6888428321287376\n",
            "---------------------------------------------------------------\n",
            "Working on:  glove_gpt2_bilstm_1_layer_attention\n"
          ],
          "name": "stdout"
        },
        {
          "output_type": "stream",
          "text": [
            "100%|██████████| 690/690 [00:00<00:00, 2886.55it/s]\n",
            "100%|██████████| 2000/2000 [00:00<00:00, 2874.21it/s]\n"
          ],
          "name": "stderr"
        },
        {
          "output_type": "stream",
          "text": [
            "\n",
            "DEV: F1:0.5838968879301514, \t P:0.698979489364444, \t R:0.5604632558230043\n",
            "\n",
            "TEST: F1:0.6654267506408075, \t P:0.6875329025622638, \t R:0.677541515859361\n",
            "---------------------------------------------------------------\n",
            "Working on:  glove_gpt2_bigru_1_layer\n"
          ],
          "name": "stdout"
        },
        {
          "output_type": "stream",
          "text": [
            "100%|██████████| 690/690 [00:00<00:00, 2654.47it/s]\n",
            "100%|██████████| 2000/2000 [00:00<00:00, 2826.57it/s]\n"
          ],
          "name": "stderr"
        },
        {
          "output_type": "stream",
          "text": [
            "\n",
            "DEV: F1:0.6308329971746417, \t P:0.7462226524612806, \t R:0.615962176146779\n",
            "\n",
            "TEST: F1:0.6720722142243908, \t P:0.6835938520414102, \t R:0.7046564706388133\n",
            "---------------------------------------------------------------\n",
            "Working on:  glove_gpt2_bigru_1_layer_attention\n"
          ],
          "name": "stdout"
        },
        {
          "output_type": "stream",
          "text": [
            "100%|██████████| 690/690 [00:00<00:00, 2862.29it/s]\n",
            "100%|██████████| 2000/2000 [00:00<00:00, 2825.71it/s]\n"
          ],
          "name": "stderr"
        },
        {
          "output_type": "stream",
          "text": [
            "\n",
            "DEV: F1:0.6250234603027549, \t P:0.7360197084422593, \t R:0.609149056710365\n",
            "\n",
            "TEST: F1:0.671749877468053, \t P:0.683985098241168, \t R:0.6996171115574712\n",
            "---------------------------------------------------------------\n",
            "Working on:  glove_gpt2_bilstm_2_layer\n"
          ],
          "name": "stdout"
        },
        {
          "output_type": "stream",
          "text": [
            "100%|██████████| 690/690 [00:00<00:00, 2851.38it/s]\n",
            "100%|██████████| 2000/2000 [00:00<00:00, 2907.13it/s]\n"
          ],
          "name": "stderr"
        },
        {
          "output_type": "stream",
          "text": [
            "\n",
            "DEV: F1:0.6210443619596104, \t P:0.7584329730782821, \t R:0.5941349418910411\n",
            "\n",
            "TEST: F1:0.6803264191125593, \t P:0.7078257015645173, \t R:0.6939166618691822\n",
            "---------------------------------------------------------------\n",
            "Working on:  glove_gpt2_bilstm_2_layer_attention\n"
          ],
          "name": "stdout"
        },
        {
          "output_type": "stream",
          "text": [
            "100%|██████████| 690/690 [00:00<00:00, 2886.39it/s]\n",
            "100%|██████████| 2000/2000 [00:00<00:00, 2937.89it/s]\n"
          ],
          "name": "stderr"
        },
        {
          "output_type": "stream",
          "text": [
            "\n",
            "DEV: F1:0.4452463473166817, \t P:0.5198731468872133, \t R:0.4265537222935052\n",
            "\n",
            "TEST: F1:0.5598765168514392, \t P:0.5812383706979296, \t R:0.5560138237219746\n",
            "---------------------------------------------------------------\n",
            "Working on:  glove_gpt2_bigru_2_layer\n"
          ],
          "name": "stdout"
        },
        {
          "output_type": "stream",
          "text": [
            "100%|██████████| 690/690 [00:00<00:00, 2842.34it/s]\n",
            "100%|██████████| 2000/2000 [00:00<00:00, 2985.59it/s]\n"
          ],
          "name": "stderr"
        },
        {
          "output_type": "stream",
          "text": [
            "\n",
            "DEV: F1:0.6682348029467542, \t P:0.7974511645083054, \t R:0.6507761619943305\n",
            "\n",
            "TEST: F1:0.6708107144545831, \t P:0.6852103716515099, \t R:0.7006069489623742\n",
            "---------------------------------------------------------------\n",
            "Working on:  glove_gpt2_bigru_2_layer_attention\n"
          ],
          "name": "stdout"
        },
        {
          "output_type": "stream",
          "text": [
            "100%|██████████| 690/690 [00:00<00:00, 2873.44it/s]\n",
            "100%|██████████| 2000/2000 [00:00<00:00, 2814.88it/s]"
          ],
          "name": "stderr"
        },
        {
          "output_type": "stream",
          "text": [
            "\n",
            "DEV: F1:0.6015751387822573, \t P:0.7395809267122699, \t R:0.567556975399314\n",
            "\n",
            "TEST: F1:0.6783873722305627, \t P:0.7104342753200531, \t R:0.6807853899511399\n",
            "---------------------------------------------------------------\n"
          ],
          "name": "stdout"
        },
        {
          "output_type": "stream",
          "text": [
            "\n"
          ],
          "name": "stderr"
        }
      ]
    },
    {
      "cell_type": "code",
      "metadata": {
        "id": "9_v9lx553drZ"
      },
      "source": [
        "dev.to_csv(path_to_drive+\"trial.csv\", index=False)\n",
        "\n",
        "test.to_csv(path_to_drive+\"test.csv\", index=False)\n",
        "\n",
        "utils.save_json(path_to_drive+\"tsd_experiments_logs_glove_gp2_models.json\", \n",
        "                glove_gp2_models)"
      ],
      "execution_count": 45,
      "outputs": []
    },
    {
      "cell_type": "code",
      "metadata": {
        "colab": {
          "base_uri": "https://localhost:8080/"
        },
        "id": "BzHP3x7_8g0R",
        "outputId": "8398d345-b69d-4552-ed8d-77dee8bd9476"
      },
      "source": [
        "#glove_roberta\n",
        "glove_roberta_models, dev, test = train_model(\"glove_roberta\", glove_roberta_embeddings, glove_transformer_embed_size,\n",
        "                        X_train_seq, y_train_seq, X_dev_seq, y_dev_seq, X_test_seq, y_test_seq, \n",
        "                        dev, X_dev, y_dev, dev_texts, test, X_test, y_test, test_texts, \n",
        "                        idx2tag, random_embedding=False)"
      ],
      "execution_count": 46,
      "outputs": [
        {
          "output_type": "stream",
          "text": [
            "Working on:  glove_roberta_bilstm_1_layer\n"
          ],
          "name": "stdout"
        },
        {
          "output_type": "stream",
          "text": [
            "100%|██████████| 690/690 [00:00<00:00, 2831.06it/s]\n",
            "100%|██████████| 2000/2000 [00:00<00:00, 3008.96it/s]\n"
          ],
          "name": "stderr"
        },
        {
          "output_type": "stream",
          "text": [
            "\n",
            "DEV: F1:0.6362389357257152, \t P:0.747415567326646, \t R:0.6247832793583947\n",
            "\n",
            "TEST: F1:0.6793253621460283, \t P:0.6890665947792657, \t R:0.7130175487567275\n",
            "---------------------------------------------------------------\n",
            "Working on:  glove_roberta_bilstm_1_layer_attention\n"
          ],
          "name": "stdout"
        },
        {
          "output_type": "stream",
          "text": [
            "100%|██████████| 690/690 [00:00<00:00, 2769.80it/s]\n",
            "100%|██████████| 2000/2000 [00:00<00:00, 2892.52it/s]\n"
          ],
          "name": "stderr"
        },
        {
          "output_type": "stream",
          "text": [
            "\n",
            "DEV: F1:0.6202944804947842, \t P:0.733944462618241, \t R:0.6010933407866489\n",
            "\n",
            "TEST: F1:0.666222554021518, \t P:0.6785412122615266, \t R:0.6960622952630842\n",
            "---------------------------------------------------------------\n",
            "Working on:  glove_roberta_bigru_1_layer\n"
          ],
          "name": "stdout"
        },
        {
          "output_type": "stream",
          "text": [
            "100%|██████████| 690/690 [00:00<00:00, 2875.11it/s]\n",
            "100%|██████████| 2000/2000 [00:00<00:00, 2918.89it/s]\n"
          ],
          "name": "stderr"
        },
        {
          "output_type": "stream",
          "text": [
            "\n",
            "DEV: F1:0.6141545754485086, \t P:0.7366470961177548, \t R:0.595354674797701\n",
            "\n",
            "TEST: F1:0.6679378948301259, \t P:0.6929830387966597, \t R:0.682614698881249\n",
            "---------------------------------------------------------------\n",
            "Working on:  glove_roberta_bigru_1_layer_attention\n"
          ],
          "name": "stdout"
        },
        {
          "output_type": "stream",
          "text": [
            "100%|██████████| 690/690 [00:00<00:00, 2962.56it/s]\n",
            "100%|██████████| 2000/2000 [00:00<00:00, 2821.24it/s]\n"
          ],
          "name": "stderr"
        },
        {
          "output_type": "stream",
          "text": [
            "\n",
            "DEV: F1:0.6518681618956499, \t P:0.7561071017097308, \t R:0.6484801354091416\n",
            "\n",
            "TEST: F1:0.663894652854571, \t P:0.6651278197485453, \t R:0.712947168752404\n",
            "---------------------------------------------------------------\n",
            "Working on:  glove_roberta_bilstm_2_layer\n"
          ],
          "name": "stdout"
        },
        {
          "output_type": "stream",
          "text": [
            "100%|██████████| 690/690 [00:00<00:00, 2786.93it/s]\n",
            "100%|██████████| 2000/2000 [00:00<00:00, 2933.82it/s]\n"
          ],
          "name": "stderr"
        },
        {
          "output_type": "stream",
          "text": [
            "\n",
            "DEV: F1:0.6290712788936781, \t P:0.7583650385644386, \t R:0.6067324870615713\n",
            "\n",
            "TEST: F1:0.668090338186739, \t P:0.6850128409447866, \t R:0.6932566975338847\n",
            "---------------------------------------------------------------\n",
            "Working on:  glove_roberta_bilstm_2_layer_attention\n"
          ],
          "name": "stdout"
        },
        {
          "output_type": "stream",
          "text": [
            "100%|██████████| 690/690 [00:00<00:00, 2891.85it/s]\n",
            "100%|██████████| 2000/2000 [00:00<00:00, 2923.47it/s]\n"
          ],
          "name": "stderr"
        },
        {
          "output_type": "stream",
          "text": [
            "\n",
            "DEV: F1:0.632944430057987, \t P:0.6715569427250456, \t R:0.7171007358094837\n",
            "\n",
            "TEST: F1:0.6006739973544634, \t P:0.5650225751465827, \t R:0.7410764692891235\n",
            "---------------------------------------------------------------\n",
            "Working on:  glove_roberta_bigru_2_layer\n"
          ],
          "name": "stdout"
        },
        {
          "output_type": "stream",
          "text": [
            "100%|██████████| 690/690 [00:00<00:00, 2957.08it/s]\n",
            "100%|██████████| 2000/2000 [00:00<00:00, 2775.20it/s]\n"
          ],
          "name": "stderr"
        },
        {
          "output_type": "stream",
          "text": [
            "\n",
            "DEV: F1:0.6405921717881434, \t P:0.7598120991683865, \t R:0.6225781288644798\n",
            "\n",
            "TEST: F1:0.6632798356207191, \t P:0.6819519234647975, \t R:0.6876261032825572\n",
            "---------------------------------------------------------------\n",
            "Working on:  glove_roberta_bigru_2_layer_attention\n"
          ],
          "name": "stdout"
        },
        {
          "output_type": "stream",
          "text": [
            "100%|██████████| 690/690 [00:00<00:00, 2834.15it/s]\n",
            "100%|██████████| 2000/2000 [00:00<00:00, 2973.39it/s]"
          ],
          "name": "stderr"
        },
        {
          "output_type": "stream",
          "text": [
            "\n",
            "DEV: F1:0.06231884057971015, \t P:0.06231884057971015, \t R:0.06231884057971015\n",
            "\n",
            "TEST: F1:0.197, \t P:0.197, \t R:0.197\n",
            "---------------------------------------------------------------\n"
          ],
          "name": "stdout"
        },
        {
          "output_type": "stream",
          "text": [
            "\n"
          ],
          "name": "stderr"
        }
      ]
    },
    {
      "cell_type": "code",
      "metadata": {
        "id": "NgcPCckU8o-i"
      },
      "source": [
        "dev.to_csv(path_to_drive+\"trial.csv\", index=False)\n",
        "\n",
        "test.to_csv(path_to_drive+\"test.csv\", index=False)\n",
        "\n",
        "utils.save_json(path_to_drive+\"tsd_experiments_logs_glove_roberta_models.json\", \n",
        "                glove_roberta_models)"
      ],
      "execution_count": 47,
      "outputs": []
    },
    {
      "cell_type": "code",
      "metadata": {
        "colab": {
          "base_uri": "https://localhost:8080/"
        },
        "id": "J2xPSSoVB2_Y",
        "outputId": "550807d7-16b1-48fc-d438-717dfe6c38a7"
      },
      "source": [
        "#ensemble_10\n",
        "ensemble_10_models, dev, test = train_model(\"ensemble_10\", ensemble_embeddings, ensemble_embed_size, \n",
        "                        X_train_seq, y_train_seq, X_dev_seq, y_dev_seq, X_test_seq, y_test_seq, \n",
        "                        dev, X_dev, y_dev, dev_texts, test, X_test, y_test, test_texts, \n",
        "                        idx2tag, random_embedding=False, EPOCH=10)"
      ],
      "execution_count": 48,
      "outputs": [
        {
          "output_type": "stream",
          "text": [
            "Working on:  ensemble_10_bilstm_1_layer\n"
          ],
          "name": "stdout"
        },
        {
          "output_type": "stream",
          "text": [
            "100%|██████████| 690/690 [00:00<00:00, 2824.84it/s]\n",
            "100%|██████████| 2000/2000 [00:00<00:00, 2882.73it/s]\n"
          ],
          "name": "stderr"
        },
        {
          "output_type": "stream",
          "text": [
            "\n",
            "DEV: F1:0.6103977347735874, \t P:0.7394568018915452, \t R:0.5850066986557365\n",
            "\n",
            "TEST: F1:0.6712893510888553, \t P:0.6977682842764462, \t R:0.6852374336927287\n",
            "---------------------------------------------------------------\n",
            "Working on:  ensemble_10_bilstm_1_layer_attention\n"
          ],
          "name": "stdout"
        },
        {
          "output_type": "stream",
          "text": [
            "100%|██████████| 690/690 [00:00<00:00, 2767.94it/s]\n",
            "100%|██████████| 2000/2000 [00:00<00:00, 2877.21it/s]\n"
          ],
          "name": "stderr"
        },
        {
          "output_type": "stream",
          "text": [
            "\n",
            "DEV: F1:0.5834704756924469, \t P:0.6850243768871781, \t R:0.563494686858369\n",
            "\n",
            "TEST: F1:0.6675900832583967, \t P:0.6842633097501425, \t R:0.6869184690709336\n",
            "---------------------------------------------------------------\n",
            "Working on:  ensemble_10_bigru_1_layer\n"
          ],
          "name": "stdout"
        },
        {
          "output_type": "stream",
          "text": [
            "100%|██████████| 690/690 [00:00<00:00, 2806.93it/s]\n",
            "100%|██████████| 2000/2000 [00:00<00:00, 2755.41it/s]\n"
          ],
          "name": "stderr"
        },
        {
          "output_type": "stream",
          "text": [
            "\n",
            "DEV: F1:0.6250300555000856, \t P:0.7392829844757879, \t R:0.6047333939933109\n",
            "\n",
            "TEST: F1:0.6779403230452427, \t P:0.6972050086261344, \t R:0.6991003095933686\n",
            "---------------------------------------------------------------\n",
            "Working on:  ensemble_10_bigru_1_layer_attention\n"
          ],
          "name": "stdout"
        },
        {
          "output_type": "stream",
          "text": [
            "100%|██████████| 690/690 [00:00<00:00, 2934.32it/s]\n",
            "100%|██████████| 2000/2000 [00:00<00:00, 2620.69it/s]\n"
          ],
          "name": "stderr"
        },
        {
          "output_type": "stream",
          "text": [
            "\n",
            "DEV: F1:0.6648016933918148, \t P:0.735614958459142, \t R:0.6988030870786256\n",
            "\n",
            "TEST: F1:0.6353516238379219, \t P:0.6123529236382269, \t R:0.7344203337971429\n",
            "---------------------------------------------------------------\n",
            "Working on:  ensemble_10_bilstm_2_layer\n"
          ],
          "name": "stdout"
        },
        {
          "output_type": "stream",
          "text": [
            "100%|██████████| 690/690 [00:00<00:00, 2876.41it/s]\n",
            "100%|██████████| 2000/2000 [00:00<00:00, 2901.81it/s]\n"
          ],
          "name": "stderr"
        },
        {
          "output_type": "stream",
          "text": [
            "\n",
            "DEV: F1:0.5913184420864849, \t P:0.7045462865309149, \t R:0.5669872107512398\n",
            "\n",
            "TEST: F1:0.6631920206530177, \t P:0.693103771205145, \t R:0.668686034816907\n",
            "---------------------------------------------------------------\n",
            "Working on:  ensemble_10_bilstm_2_layer_attention\n"
          ],
          "name": "stdout"
        },
        {
          "output_type": "stream",
          "text": [
            "100%|██████████| 690/690 [00:00<00:00, 2881.42it/s]\n",
            "100%|██████████| 2000/2000 [00:00<00:00, 2756.14it/s]\n"
          ],
          "name": "stderr"
        },
        {
          "output_type": "stream",
          "text": [
            "\n",
            "DEV: F1:0.5358897559038032, \t P:0.6469333001941696, \t R:0.5068348772199864\n",
            "\n",
            "TEST: F1:0.6460531747257343, \t P:0.6799446821818532, \t R:0.6394404326623537\n",
            "---------------------------------------------------------------\n",
            "Working on:  ensemble_10_bigru_2_layer\n"
          ],
          "name": "stdout"
        },
        {
          "output_type": "stream",
          "text": [
            "100%|██████████| 690/690 [00:00<00:00, 3016.44it/s]\n",
            "100%|██████████| 2000/2000 [00:00<00:00, 2904.20it/s]\n"
          ],
          "name": "stderr"
        },
        {
          "output_type": "stream",
          "text": [
            "\n",
            "DEV: F1:0.6435485066722026, \t P:0.7782033486896186, \t R:0.6199967840788086\n",
            "\n",
            "TEST: F1:0.6807786611811747, \t P:0.703421283913136, \t R:0.6984812820127856\n",
            "---------------------------------------------------------------\n",
            "Working on:  ensemble_10_bigru_2_layer_attention\n"
          ],
          "name": "stdout"
        },
        {
          "output_type": "stream",
          "text": [
            "100%|██████████| 690/690 [00:00<00:00, 2938.90it/s]\n",
            "100%|██████████| 2000/2000 [00:00<00:00, 2884.28it/s]"
          ],
          "name": "stderr"
        },
        {
          "output_type": "stream",
          "text": [
            "\n",
            "DEV: F1:0.6681107350075528, \t P:0.7770345488416512, \t R:0.6662403061236831\n",
            "\n",
            "TEST: F1:0.6649351164190219, \t P:0.6663665541692753, \t R:0.713789784880434\n",
            "---------------------------------------------------------------\n"
          ],
          "name": "stdout"
        },
        {
          "output_type": "stream",
          "text": [
            "\n"
          ],
          "name": "stderr"
        }
      ]
    },
    {
      "cell_type": "code",
      "metadata": {
        "id": "gjmqTHXkCBp6"
      },
      "source": [
        "dev.to_csv(path_to_drive+\"trial.csv\", index=False)\n",
        "\n",
        "test.to_csv(path_to_drive+\"test.csv\", index=False)\n",
        "\n",
        "utils.save_json(path_to_drive+\"tsd_experiments_logs_ensemble_10_models.json\", \n",
        "                ensemble_10_models)"
      ],
      "execution_count": 49,
      "outputs": []
    },
    {
      "cell_type": "code",
      "metadata": {
        "colab": {
          "base_uri": "https://localhost:8080/"
        },
        "id": "1Pp-Pgy-CBkp",
        "outputId": "5928fafe-d57d-440c-8e68-69de3baec874"
      },
      "source": [
        "#ensemble_20\n",
        "ensemble_20_models, dev, test = train_model(\"ensemble_20\", ensemble_embeddings, ensemble_embed_size, \n",
        "                        X_train_seq, y_train_seq, X_dev_seq, y_dev_seq, X_test_seq, y_test_seq, \n",
        "                        dev, X_dev, y_dev, dev_texts, test, X_test, y_test, test_texts, \n",
        "                        idx2tag, random_embedding=False, EPOCH=20)"
      ],
      "execution_count": 50,
      "outputs": [
        {
          "output_type": "stream",
          "text": [
            "Working on:  ensemble_20_bilstm_1_layer\n"
          ],
          "name": "stdout"
        },
        {
          "output_type": "stream",
          "text": [
            "100%|██████████| 690/690 [00:00<00:00, 2841.29it/s]\n",
            "100%|██████████| 2000/2000 [00:00<00:00, 2930.15it/s]\n"
          ],
          "name": "stderr"
        },
        {
          "output_type": "stream",
          "text": [
            "\n",
            "DEV: F1:0.6305000951066612, \t P:0.7527759820913573, \t R:0.6123807676081293\n",
            "\n",
            "TEST: F1:0.6626822997127131, \t P:0.6775839469029826, \t R:0.6901171399677951\n",
            "---------------------------------------------------------------\n",
            "Working on:  ensemble_20_bilstm_1_layer_attention\n"
          ],
          "name": "stdout"
        },
        {
          "output_type": "stream",
          "text": [
            "100%|██████████| 690/690 [00:00<00:00, 2854.95it/s]\n",
            "100%|██████████| 2000/2000 [00:00<00:00, 2906.30it/s]\n"
          ],
          "name": "stderr"
        },
        {
          "output_type": "stream",
          "text": [
            "\n",
            "DEV: F1:0.6585486731307924, \t P:0.7511341001006716, \t R:0.671652175706575\n",
            "\n",
            "TEST: F1:0.6505622681080995, \t P:0.638060842223474, \t R:0.7255686154724711\n",
            "---------------------------------------------------------------\n",
            "Working on:  ensemble_20_bigru_1_layer\n"
          ],
          "name": "stdout"
        },
        {
          "output_type": "stream",
          "text": [
            "100%|██████████| 690/690 [00:00<00:00, 2954.69it/s]\n",
            "100%|██████████| 2000/2000 [00:00<00:00, 2906.11it/s]\n"
          ],
          "name": "stderr"
        },
        {
          "output_type": "stream",
          "text": [
            "\n",
            "DEV: F1:0.5736981810714368, \t P:0.6811982026870527, \t R:0.5563711776827944\n",
            "\n",
            "TEST: F1:0.6483560224732705, \t P:0.6762556440574047, \t R:0.6570318248896422\n",
            "---------------------------------------------------------------\n",
            "Working on:  ensemble_20_bigru_1_layer_attention\n"
          ],
          "name": "stdout"
        },
        {
          "output_type": "stream",
          "text": [
            "100%|██████████| 690/690 [00:00<00:00, 3015.75it/s]\n",
            "100%|██████████| 2000/2000 [00:00<00:00, 2883.59it/s]\n"
          ],
          "name": "stderr"
        },
        {
          "output_type": "stream",
          "text": [
            "\n",
            "DEV: F1:0.20244481927678787, \t P:0.23234613384115455, \t R:0.2189759275118681\n",
            "\n",
            "TEST: F1:0.2860059794792835, \t P:0.28926278536908406, \t R:0.3045540131581974\n",
            "---------------------------------------------------------------\n",
            "Working on:  ensemble_20_bilstm_2_layer\n"
          ],
          "name": "stdout"
        },
        {
          "output_type": "stream",
          "text": [
            "100%|██████████| 690/690 [00:00<00:00, 2830.05it/s]\n",
            "100%|██████████| 2000/2000 [00:00<00:00, 2812.12it/s]\n"
          ],
          "name": "stderr"
        },
        {
          "output_type": "stream",
          "text": [
            "\n",
            "DEV: F1:0.6478208045435551, \t P:0.7728137989786046, \t R:0.629108681330389\n",
            "\n",
            "TEST: F1:0.6740150736507468, \t P:0.6869543334347031, \t R:0.70514902098976\n",
            "---------------------------------------------------------------\n",
            "Working on:  ensemble_20_bilstm_2_layer_attention\n"
          ],
          "name": "stdout"
        },
        {
          "output_type": "stream",
          "text": [
            "100%|██████████| 690/690 [00:00<00:00, 2720.37it/s]\n",
            "100%|██████████| 2000/2000 [00:00<00:00, 2913.19it/s]\n"
          ],
          "name": "stderr"
        },
        {
          "output_type": "stream",
          "text": [
            "\n",
            "DEV: F1:0.6632448282464961, \t P:0.7292925827548673, \t R:0.701679687745869\n",
            "\n",
            "TEST: F1:0.6335142111367086, \t P:0.609457959096431, \t R:0.7291280986138869\n",
            "---------------------------------------------------------------\n",
            "Working on:  ensemble_20_bigru_2_layer\n"
          ],
          "name": "stdout"
        },
        {
          "output_type": "stream",
          "text": [
            "100%|██████████| 690/690 [00:00<00:00, 2989.07it/s]\n",
            "100%|██████████| 2000/2000 [00:00<00:00, 2952.36it/s]\n"
          ],
          "name": "stderr"
        },
        {
          "output_type": "stream",
          "text": [
            "\n",
            "DEV: F1:0.589161771523194, \t P:0.6113223945335668, \t R:0.711010320584953\n",
            "\n",
            "TEST: F1:0.5630028579709272, \t P:0.5279794347184847, \t R:0.7322080193719273\n",
            "---------------------------------------------------------------\n",
            "Working on:  ensemble_20_bigru_2_layer_attention\n"
          ],
          "name": "stdout"
        },
        {
          "output_type": "stream",
          "text": [
            "100%|██████████| 690/690 [00:00<00:00, 2857.26it/s]\n",
            "100%|██████████| 2000/2000 [00:00<00:00, 2988.27it/s]"
          ],
          "name": "stderr"
        },
        {
          "output_type": "stream",
          "text": [
            "\n",
            "DEV: F1:0.6408746930523095, \t P:0.7536154178399306, \t R:0.633735947034072\n",
            "\n",
            "TEST: F1:0.6552343729976636, \t P:0.6694752406197387, \t R:0.6928270615024656\n",
            "---------------------------------------------------------------\n"
          ],
          "name": "stdout"
        },
        {
          "output_type": "stream",
          "text": [
            "\n"
          ],
          "name": "stderr"
        }
      ]
    },
    {
      "cell_type": "code",
      "metadata": {
        "id": "rtowRy2kGkGg"
      },
      "source": [
        "dev.to_csv(path_to_drive+\"trial.csv\", index=False)\n",
        "\n",
        "test.to_csv(path_to_drive+\"test.csv\", index=False)\n",
        "\n",
        "utils.save_json(path_to_drive+\"tsd_experiments_logs_ensemble_20_models.json\", \n",
        "                ensemble_20_models)"
      ],
      "execution_count": 51,
      "outputs": []
    },
    {
      "cell_type": "code",
      "metadata": {
        "colab": {
          "base_uri": "https://localhost:8080/"
        },
        "id": "4HDwI6l2OWEH",
        "outputId": "1ab24590-1361-4ec3-b5a6-5c70247c188d"
      },
      "source": [
        "#ensemble_15\n",
        "ensemble_15_models_v2, dev, test = train_model(\"ensemble_15_v2\", ensemble_embeddings, ensemble_embed_size, \n",
        "                        X_train_seq, y_train_seq, X_dev_seq, y_dev_seq, X_test_seq, y_test_seq, \n",
        "                        dev, X_dev, y_dev, dev_texts, test, X_test, y_test, test_texts, \n",
        "                        idx2tag, random_embedding=False, EPOCH=15)"
      ],
      "execution_count": 54,
      "outputs": [
        {
          "output_type": "stream",
          "text": [
            "Working on:  ensemble_15_v2_bilstm_1_layer\n"
          ],
          "name": "stdout"
        },
        {
          "output_type": "stream",
          "text": [
            "100%|██████████| 690/690 [00:00<00:00, 3007.29it/s]\n",
            "100%|██████████| 2000/2000 [00:00<00:00, 2986.90it/s]\n"
          ],
          "name": "stderr"
        },
        {
          "output_type": "stream",
          "text": [
            "\n",
            "DEV: F1:0.5969921148862494, \t P:0.7091840065791136, \t R:0.5758235204630973\n",
            "\n",
            "TEST: F1:0.6633812955840966, \t P:0.6872548671808928, \t R:0.6772436036996925\n",
            "---------------------------------------------------------------\n",
            "Working on:  ensemble_15_v2_bilstm_1_layer_attention\n"
          ],
          "name": "stdout"
        },
        {
          "output_type": "stream",
          "text": [
            "100%|██████████| 690/690 [00:00<00:00, 2854.80it/s]\n",
            "100%|██████████| 2000/2000 [00:00<00:00, 3062.21it/s]\n"
          ],
          "name": "stderr"
        },
        {
          "output_type": "stream",
          "text": [
            "\n",
            "DEV: F1:0.623805817525997, \t P:0.7347619959374206, \t R:0.6125891856664127\n",
            "\n",
            "TEST: F1:0.6620342940507341, \t P:0.6727632854071592, \t R:0.692799967131245\n",
            "---------------------------------------------------------------\n",
            "Working on:  ensemble_15_v2_bigru_1_layer\n"
          ],
          "name": "stdout"
        },
        {
          "output_type": "stream",
          "text": [
            "100%|██████████| 690/690 [00:00<00:00, 2966.26it/s]\n",
            "100%|██████████| 2000/2000 [00:00<00:00, 2863.77it/s]\n"
          ],
          "name": "stderr"
        },
        {
          "output_type": "stream",
          "text": [
            "\n",
            "DEV: F1:0.6007417700661449, \t P:0.7209835958293399, \t R:0.5783854927697626\n",
            "\n",
            "TEST: F1:0.6608941496601585, \t P:0.6826885504250987, \t R:0.6770372448035679\n",
            "---------------------------------------------------------------\n",
            "Working on:  ensemble_15_v2_bigru_1_layer_attention\n"
          ],
          "name": "stdout"
        },
        {
          "output_type": "stream",
          "text": [
            "100%|██████████| 690/690 [00:00<00:00, 2665.63it/s]\n",
            "100%|██████████| 2000/2000 [00:00<00:00, 2900.91it/s]\n"
          ],
          "name": "stderr"
        },
        {
          "output_type": "stream",
          "text": [
            "\n",
            "DEV: F1:0.6134667655629947, \t P:0.6469132121797675, \t R:0.740385695977053\n",
            "\n",
            "TEST: F1:0.5862466919909318, \t P:0.5521876641164782, \t R:0.7424872160719803\n",
            "---------------------------------------------------------------\n",
            "Working on:  ensemble_15_v2_bilstm_2_layer\n"
          ],
          "name": "stdout"
        },
        {
          "output_type": "stream",
          "text": [
            "100%|██████████| 690/690 [00:00<00:00, 3083.05it/s]\n",
            "100%|██████████| 2000/2000 [00:00<00:00, 2900.76it/s]\n"
          ],
          "name": "stderr"
        },
        {
          "output_type": "stream",
          "text": [
            "\n",
            "DEV: F1:0.6554016694812248, \t P:0.7795788749209493, \t R:0.6381764326989934\n",
            "\n",
            "TEST: F1:0.673033918035414, \t P:0.6854588720043725, \t R:0.7050260833008255\n",
            "---------------------------------------------------------------\n",
            "Working on:  ensemble_15_v2_bilstm_2_layer_attention\n"
          ],
          "name": "stdout"
        },
        {
          "output_type": "stream",
          "text": [
            "100%|██████████| 690/690 [00:00<00:00, 2810.46it/s]\n",
            "100%|██████████| 2000/2000 [00:00<00:00, 2950.84it/s]\n"
          ],
          "name": "stderr"
        },
        {
          "output_type": "stream",
          "text": [
            "\n",
            "DEV: F1:0.5996224634256755, \t P:0.7086970509689562, \t R:0.5698404408475237\n",
            "\n",
            "TEST: F1:0.6605324353581248, \t P:0.6900665894430348, \t R:0.6626661568334793\n",
            "---------------------------------------------------------------\n",
            "Working on:  ensemble_15_v2_bigru_2_layer\n"
          ],
          "name": "stdout"
        },
        {
          "output_type": "stream",
          "text": [
            "100%|██████████| 690/690 [00:00<00:00, 2842.74it/s]\n",
            "100%|██████████| 2000/2000 [00:00<00:00, 2903.65it/s]\n"
          ],
          "name": "stderr"
        },
        {
          "output_type": "stream",
          "text": [
            "\n",
            "DEV: F1:0.625367411452429, \t P:0.7403570085857989, \t R:0.612833720055414\n",
            "\n",
            "TEST: F1:0.657054878516765, \t P:0.6728541685958365, \t R:0.6862945916586228\n",
            "---------------------------------------------------------------\n",
            "Working on:  ensemble_15_v2_bigru_2_layer_attention\n"
          ],
          "name": "stdout"
        },
        {
          "output_type": "stream",
          "text": [
            "100%|██████████| 690/690 [00:00<00:00, 2898.75it/s]\n",
            "100%|██████████| 2000/2000 [00:00<00:00, 2937.33it/s]"
          ],
          "name": "stderr"
        },
        {
          "output_type": "stream",
          "text": [
            "\n",
            "DEV: F1:0.6653563617890089, \t P:0.7299043659723132, \t R:0.7133133169357954\n",
            "\n",
            "TEST: F1:0.6321012808185017, \t P:0.6124051007438133, \t R:0.7275604320824361\n",
            "---------------------------------------------------------------\n"
          ],
          "name": "stdout"
        },
        {
          "output_type": "stream",
          "text": [
            "\n"
          ],
          "name": "stderr"
        }
      ]
    },
    {
      "cell_type": "code",
      "metadata": {
        "id": "JTxA-fNAOcTC"
      },
      "source": [
        "dev.to_csv(path_to_drive+\"trial.csv\", index=False)\n",
        "\n",
        "test.to_csv(path_to_drive+\"test.csv\", index=False)\n",
        "\n",
        "utils.save_json(path_to_drive+\"tsd_experiments_logs_ensemble_15_models_v2.json\", \n",
        "                ensemble_15_models_v2)"
      ],
      "execution_count": 55,
      "outputs": []
    },
    {
      "cell_type": "markdown",
      "metadata": {
        "id": "jjtAEvCq25MV"
      },
      "source": [
        "# 6. Store Results"
      ]
    },
    {
      "cell_type": "code",
      "metadata": {
        "id": "GjKavJUCjEDA"
      },
      "source": [
        "dev.to_csv(path_to_drive+\"trial_experiments.csv\", index=False)\n",
        "\n",
        "test.to_csv(path_to_drive+\"test_experiments.csv\", index=False)\n",
        "\n",
        "utils.save_json(path_to_drive+\"tsd_experiments_logs.json\", result)"
      ],
      "execution_count": null,
      "outputs": []
    },
    {
      "cell_type": "code",
      "metadata": {
        "id": "w8escj8ZifdD"
      },
      "source": [
        ""
      ],
      "execution_count": null,
      "outputs": []
    }
  ]
}