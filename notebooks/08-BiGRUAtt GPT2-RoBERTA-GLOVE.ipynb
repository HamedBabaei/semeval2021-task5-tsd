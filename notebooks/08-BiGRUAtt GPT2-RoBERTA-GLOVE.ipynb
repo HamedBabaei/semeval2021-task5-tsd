{
 "cells": [
  {
   "cell_type": "markdown",
   "metadata": {
    "id": "Z3eqDO-14N0J"
   },
   "source": [
    "# 1. Download and Installations"
   ]
  },
  {
   "cell_type": "code",
   "execution_count": null,
   "metadata": {
    "id": "9tKuedbq9nEF"
   },
   "outputs": [],
   "source": [
    "#!wget http://nlp.stanford.edu/data/glove.840B.300d.zip\n",
    "\n",
    "#!unzip \"glove.840B.300d.zip\""
   ]
  },
  {
   "cell_type": "code",
   "execution_count": null,
   "metadata": {
    "id": "9-XLeW0MVCik"
   },
   "outputs": [],
   "source": [
    "path_to_drive = \"drive/MyDrive/TSD/\""
   ]
  },
  {
   "cell_type": "code",
   "execution_count": null,
   "metadata": {
    "id": "ebfTSoDnaxql"
   },
   "outputs": [],
   "source": [
    "import nltk\n",
    "nltk.download('stopwords')\n",
    "!pip3 install transformers\n",
    "!pip install keras-self-attention\n",
    "#!pip3 install keras-multi-head"
   ]
  },
  {
   "cell_type": "markdown",
   "metadata": {
    "id": "aCwv0V7G4SJn"
   },
   "source": [
    "# 2. Load GPT2 and Roberta and define feature representations"
   ]
  },
  {
   "cell_type": "code",
   "execution_count": null,
   "metadata": {
    "colab": {
     "base_uri": "https://localhost:8080/",
     "height": 463,
     "referenced_widgets": [
      "0626b3c00ae2458dacf7fe5c70077c04",
      "ca931c56e32c4961905cd12deb64b609",
      "5a46d65384c74b419f27cea6e1d062e1",
      "4e6673a801e64c63a11adafa170c0457",
      "b0805b651bd44bf580d9360a751aedcc",
      "2f19fe98f77946869afe453cd1f48d5a",
      "288fbe10819c466495c33d00f78bb48b",
      "4147e7afa6c84f9bb0c16fcb2f6febea",
      "e2b6a2a86c3044e689a1a1fc07aa4d0a",
      "abc0d01e747342a6a615abea4d8a85cb",
      "e05071da56124c90918ef1836b480280",
      "26416bce94ba44b9bf239f939ddc4285",
      "64b916d3b1a04fdeb3ec09a4741cbe4b",
      "f4c93f5f86c04bffb4ff049d17153f96",
      "de727ea99c8549599b1e7bb0a0dffb48",
      "1f90afa0d087483b8d395a22d5518bf7",
      "1f520ba5ee8044f791d8500b9235ec33",
      "a31a4319ce11401982bbedbfcff689f4",
      "8b2148829ba4457f8b4bf803f9512e92",
      "0ce6309824724ce8a330507eda5e43c8",
      "e9a9a54b96fd4c44a46e589229308015",
      "b75bf20845d340f0b6e4f440c321851a",
      "1fef8ac1fcbb4b28b91eb884514290ed",
      "80608508b3844a35bc132a5485736bb6",
      "4d965d0562944a10b54c2b97a3fa924c",
      "15e9c8ec8e014f53ba87552b39498577",
      "d11b3239bdfa4e19b8f391df588a516d",
      "2f8b86a97a634ff4ae639a36fe4014a0",
      "8450926ab69448989ba7d340de2da7e5",
      "11fbf5f248f94a22aa856ecb422f1c0e",
      "ab685786b96b42ac98298431c7130a42",
      "f5d42a930afd412a8d07c0de05ac6748",
      "ddd9e08188864343ac026a4ff3e278ae",
      "67137866e3fb41658ecfc5fc3fb00d31",
      "92262326a20c413fac50d597bfb5036d",
      "8a50317f361f4d14bef816a5398d861d",
      "db8099add1e546f082e3a40bd7c10a86",
      "c2b1ce255ef94be7a043a4fcdaf34318",
      "80c61633347b49928b77c062a8f38add",
      "eb83b038e0ff4f2a9a01cc8223d0fe6d",
      "9865ca63588648a6a7756fdac2351d1c",
      "60bce3fdb7f74a298e9c050345080d75",
      "db23c5f8d31d4231b27a94980011037b",
      "bc03ec2aeb824711b65d6e32678d5a37",
      "ca7f1102b4fe49118384f6d7d2775261",
      "0193b780c11b4b62af341c6eb2da0d7d",
      "f3809ece7898444db71a03d329963aed",
      "5512a5ade6d34906aa6f63730ca40b48",
      "e4b9944ee5a044fb9672e1e7b7114eeb",
      "a977999188c6407ea2dd11196868b684",
      "da5b45ced8b646bbbb4f8be7d34fe292",
      "baa67b45425d4ac4a4340832b76da1dd",
      "ddef0c6bbe2543c9a83d4d9fbc9c1435",
      "d5f3adf99a3e49dbae9be3507f0facfd",
      "52e6bc4cb35a4cfeac063246113f925c",
      "44923abf52754671b7490be4bf22cfff",
      "ac23b0a1b0b74d359ee25da60b242e74",
      "ff8b8d547c9e484a8aea2f1c624c42c4",
      "b76e663a7a61495cbe18ddec36a28b48",
      "4c30de6b0a9f4bc0b1f6687817b8f84b",
      "e89c4f9710434bbc8f24cc669c0e6f54",
      "f62ecffcc3d043f1a5badb4091704dfa",
      "32d639bb014f4d28b225d556164b00a2",
      "9db828b722ad4dd596af0343f22692e2"
     ]
    },
    "id": "uqOHQqtKe9PG",
    "outputId": "de6db483-45c7-4d4d-d087-6156ac35d12b"
   },
   "outputs": [
    {
     "data": {
      "application/vnd.jupyter.widget-view+json": {
       "model_id": "0626b3c00ae2458dacf7fe5c70077c04",
       "version_major": 2,
       "version_minor": 0
      },
      "text/plain": [
       "HBox(children=(FloatProgress(value=0.0, description='Downloading', max=1042301.0, style=ProgressStyle(descript…"
      ]
     },
     "metadata": {
      "tags": []
     },
     "output_type": "display_data"
    },
    {
     "name": "stdout",
     "output_type": "stream",
     "text": [
      "\n"
     ]
    },
    {
     "data": {
      "application/vnd.jupyter.widget-view+json": {
       "model_id": "e2b6a2a86c3044e689a1a1fc07aa4d0a",
       "version_major": 2,
       "version_minor": 0
      },
      "text/plain": [
       "HBox(children=(FloatProgress(value=0.0, description='Downloading', max=456318.0, style=ProgressStyle(descripti…"
      ]
     },
     "metadata": {
      "tags": []
     },
     "output_type": "display_data"
    },
    {
     "name": "stdout",
     "output_type": "stream",
     "text": [
      "\n"
     ]
    },
    {
     "data": {
      "application/vnd.jupyter.widget-view+json": {
       "model_id": "1f520ba5ee8044f791d8500b9235ec33",
       "version_major": 2,
       "version_minor": 0
      },
      "text/plain": [
       "HBox(children=(FloatProgress(value=0.0, description='Downloading', max=665.0, style=ProgressStyle(description_…"
      ]
     },
     "metadata": {
      "tags": []
     },
     "output_type": "display_data"
    },
    {
     "name": "stdout",
     "output_type": "stream",
     "text": [
      "\n"
     ]
    },
    {
     "data": {
      "application/vnd.jupyter.widget-view+json": {
       "model_id": "4d965d0562944a10b54c2b97a3fa924c",
       "version_major": 2,
       "version_minor": 0
      },
      "text/plain": [
       "HBox(children=(FloatProgress(value=0.0, description='Downloading', max=548118077.0, style=ProgressStyle(descri…"
      ]
     },
     "metadata": {
      "tags": []
     },
     "output_type": "display_data"
    },
    {
     "name": "stdout",
     "output_type": "stream",
     "text": [
      "\n"
     ]
    },
    {
     "name": "stderr",
     "output_type": "stream",
     "text": [
      "Some weights of GPT2Model were not initialized from the model checkpoint at gpt2 and are newly initialized: ['h.0.attn.masked_bias', 'h.1.attn.masked_bias', 'h.2.attn.masked_bias', 'h.3.attn.masked_bias', 'h.4.attn.masked_bias', 'h.5.attn.masked_bias', 'h.6.attn.masked_bias', 'h.7.attn.masked_bias', 'h.8.attn.masked_bias', 'h.9.attn.masked_bias', 'h.10.attn.masked_bias', 'h.11.attn.masked_bias']\n",
      "You should probably TRAIN this model on a down-stream task to be able to use it for predictions and inference.\n"
     ]
    },
    {
     "data": {
      "application/vnd.jupyter.widget-view+json": {
       "model_id": "ddd9e08188864343ac026a4ff3e278ae",
       "version_major": 2,
       "version_minor": 0
      },
      "text/plain": [
       "HBox(children=(FloatProgress(value=0.0, description='Downloading', max=898823.0, style=ProgressStyle(descripti…"
      ]
     },
     "metadata": {
      "tags": []
     },
     "output_type": "display_data"
    },
    {
     "name": "stdout",
     "output_type": "stream",
     "text": [
      "\n"
     ]
    },
    {
     "data": {
      "application/vnd.jupyter.widget-view+json": {
       "model_id": "9865ca63588648a6a7756fdac2351d1c",
       "version_major": 2,
       "version_minor": 0
      },
      "text/plain": [
       "HBox(children=(FloatProgress(value=0.0, description='Downloading', max=456318.0, style=ProgressStyle(descripti…"
      ]
     },
     "metadata": {
      "tags": []
     },
     "output_type": "display_data"
    },
    {
     "name": "stdout",
     "output_type": "stream",
     "text": [
      "\n"
     ]
    },
    {
     "data": {
      "application/vnd.jupyter.widget-view+json": {
       "model_id": "e4b9944ee5a044fb9672e1e7b7114eeb",
       "version_major": 2,
       "version_minor": 0
      },
      "text/plain": [
       "HBox(children=(FloatProgress(value=0.0, description='Downloading', max=481.0, style=ProgressStyle(description_…"
      ]
     },
     "metadata": {
      "tags": []
     },
     "output_type": "display_data"
    },
    {
     "name": "stdout",
     "output_type": "stream",
     "text": [
      "\n"
     ]
    },
    {
     "data": {
      "application/vnd.jupyter.widget-view+json": {
       "model_id": "ac23b0a1b0b74d359ee25da60b242e74",
       "version_major": 2,
       "version_minor": 0
      },
      "text/plain": [
       "HBox(children=(FloatProgress(value=0.0, description='Downloading', max=501200538.0, style=ProgressStyle(descri…"
      ]
     },
     "metadata": {
      "tags": []
     },
     "output_type": "display_data"
    },
    {
     "name": "stdout",
     "output_type": "stream",
     "text": [
      "\n"
     ]
    }
   ],
   "source": [
    "from transformers import GPT2Tokenizer, GPT2Model, RobertaTokenizer, RobertaModel\n",
    "from tqdm import tqdm\n",
    "import numpy as np\n",
    "\n",
    "GPT2_tokenizer = GPT2Tokenizer.from_pretrained('gpt2')\n",
    "GPT2_model = GPT2Model.from_pretrained('gpt2')\n",
    "\n",
    "roberta_tokenizer = RobertaTokenizer.from_pretrained('roberta-base')\n",
    "roberta_model = RobertaModel.from_pretrained('roberta-base')\n",
    "\n",
    "__vectors__gpt2__ = {}\n",
    "__vectors__roberta__ = {}\n",
    "\n",
    "def get_roberta_vec(X):\n",
    "    try:\n",
    "        vec = __vectors__roberta__[X]\n",
    "        return vec\n",
    "    except:\n",
    "        inputs = roberta_tokenizer(X, return_tensors=\"pt\")\n",
    "        outputs = roberta_model(**inputs)\n",
    "        vec = np.mean(outputs[0].detach().numpy(),  axis=1)[0]\n",
    "        __vectors__roberta__[X] = vec\n",
    "        return vec\n",
    "\n",
    "def get_gpt2_vector(word):\n",
    "    try:\n",
    "        vec = __vectors__gpt2__[word]\n",
    "        return vec\n",
    "    except:\n",
    "        inputs = GPT2_tokenizer(word, return_tensors=\"pt\")\n",
    "        outputs = GPT2_model(**inputs)\n",
    "        #outputs = model(**inputs)[0][0]\n",
    "        #vec = sum(outputs.detach().numpy())/outputs.shape[0]\n",
    "        vec = np.average(outputs[0].detach().numpy(), axis=1)[0]\n",
    "        __vectors__gpt2__[word] = vec\n",
    "        return vec"
   ]
  },
  {
   "cell_type": "code",
   "execution_count": null,
   "metadata": {
    "id": "zyHN5cIHfQS_"
   },
   "outputs": [],
   "source": [
    "import numpy as np\n",
    "from tqdm import tqdm\n",
    "from nltk.stem.porter import *\n",
    "stemmer = PorterStemmer()\n",
    "\n",
    "special_chars = ['O', '4', '͞', 'ü', '😞', '»', '”', '\\x7f', '\"', '7', '*', '8', ')',\n",
    "      '😂', '💀', '{', '0', 'ʻ', '💨', '•', '#', '_', '😊', '😜', 'ó', '😅', \n",
    "      '¬', '☠', '🙄', '😉', '😆', '―','(', '.', '?', '😵', '💥', ':', '🆘',\n",
    "      '$', '=', '+', ';', '🔥', '😁','`', 'ï', '2', 'ê', 'é', '3', '-', '🤥',\n",
    "      '⚽', 'É', '️', '!', '5', '✭', '9', '😈', 'ˈ', '😬', '@', '«', '/', '▀', '’',\n",
    "      '😡', '1', '%', ',', '&', '6', '\\\\', ']', \"'\", '[', '^', '}', '⚾', '\\u200b',\n",
    "       '☭', '☹', '<', 'l', '™', '👎']\n",
    " \n",
    " \n",
    "F_cleaner = lambda x: stemmer.stem(''.join([w for w in x if w not in special_chars ]).lower())\n",
    " \n",
    "\n",
    "def make_vecs(embeddings_index, embed_size, word_index):\n",
    "    embedding_matrix = np.zeros((len(word_index), embed_size))\n",
    "    existed_w = 0\n",
    "    for word, i in tqdm(word_index.items()):\n",
    "        embedding_vector_glove = embeddings_index.get(F_cleaner(word))\n",
    "        embedding_vector_gpt2 = get_gpt2_vector(word)\n",
    "        embedding_vector_roberta = get_roberta_vec(word)\n",
    "        if embedding_vector_glove is None:\n",
    "            embedding_vector_glove = np.zeros(300)\n",
    "        \n",
    "        embedding_matrix[i] = np.concatenate([embedding_vector_gpt2+embedding_vector_roberta, \n",
    "                                              embedding_vector_glove])\n",
    "    return embedding_matrix"
   ]
  },
  {
   "cell_type": "markdown",
   "metadata": {
    "id": "q873MAqX4ijl"
   },
   "source": [
    "# 3. Loading Dataset"
   ]
  },
  {
   "cell_type": "code",
   "execution_count": null,
   "metadata": {
    "id": "MMay2cBnbNHc"
   },
   "outputs": [],
   "source": [
    "import warnings\n",
    "warnings.filterwarnings(\"ignore\")"
   ]
  },
  {
   "cell_type": "code",
   "execution_count": null,
   "metadata": {
    "colab": {
     "base_uri": "https://localhost:8080/",
     "height": 392
    },
    "id": "JKD09UJta3mr",
    "outputId": "c7c5d2ec-1c5d-4ea1-d1ec-5c4b310fd58b"
   },
   "outputs": [
    {
     "data": {
      "text/html": [
       "<div>\n",
       "<style scoped>\n",
       "    .dataframe tbody tr th:only-of-type {\n",
       "        vertical-align: middle;\n",
       "    }\n",
       "\n",
       "    .dataframe tbody tr th {\n",
       "        vertical-align: top;\n",
       "    }\n",
       "\n",
       "    .dataframe thead th {\n",
       "        text-align: right;\n",
       "    }\n",
       "</style>\n",
       "<table border=\"1\" class=\"dataframe\">\n",
       "  <thead>\n",
       "    <tr style=\"text-align: right;\">\n",
       "      <th></th>\n",
       "      <th>spans</th>\n",
       "      <th>text</th>\n",
       "    </tr>\n",
       "  </thead>\n",
       "  <tbody>\n",
       "    <tr>\n",
       "      <th>0</th>\n",
       "      <td>[15, 16, 17, 18, 19, 27, 28, 29, 30, 31]</td>\n",
       "      <td>Because he's a moron and a bigot. It's not any...</td>\n",
       "    </tr>\n",
       "    <tr>\n",
       "      <th>1</th>\n",
       "      <td>[29, 30, 31, 32, 33, 34]</td>\n",
       "      <td>How about we stop protecting idiots and let na...</td>\n",
       "    </tr>\n",
       "    <tr>\n",
       "      <th>2</th>\n",
       "      <td>[166, 167, 168, 169, 170, 171]</td>\n",
       "      <td>If people  were  smart, they would  Boycott th...</td>\n",
       "    </tr>\n",
       "  </tbody>\n",
       "</table>\n",
       "</div>"
      ],
      "text/plain": [
       "                                      spans                                               text\n",
       "0  [15, 16, 17, 18, 19, 27, 28, 29, 30, 31]  Because he's a moron and a bigot. It's not any...\n",
       "1                  [29, 30, 31, 32, 33, 34]  How about we stop protecting idiots and let na...\n",
       "2            [166, 167, 168, 169, 170, 171]  If people  were  smart, they would  Boycott th..."
      ]
     },
     "metadata": {
      "tags": []
     },
     "output_type": "display_data"
    },
    {
     "data": {
      "text/html": [
       "<div>\n",
       "<style scoped>\n",
       "    .dataframe tbody tr th:only-of-type {\n",
       "        vertical-align: middle;\n",
       "    }\n",
       "\n",
       "    .dataframe tbody tr th {\n",
       "        vertical-align: top;\n",
       "    }\n",
       "\n",
       "    .dataframe thead th {\n",
       "        text-align: right;\n",
       "    }\n",
       "</style>\n",
       "<table border=\"1\" class=\"dataframe\">\n",
       "  <thead>\n",
       "    <tr style=\"text-align: right;\">\n",
       "      <th></th>\n",
       "      <th>spans</th>\n",
       "      <th>text</th>\n",
       "    </tr>\n",
       "  </thead>\n",
       "  <tbody>\n",
       "    <tr>\n",
       "      <th>0</th>\n",
       "      <td>[8, 9, 10, 11, 12, 13, 14, 15, 16, 17, 18, 19,...</td>\n",
       "      <td>Another violent and aggressive immigrant killi...</td>\n",
       "    </tr>\n",
       "    <tr>\n",
       "      <th>1</th>\n",
       "      <td>[33, 34, 35, 36, 37, 38, 39]</td>\n",
       "      <td>I am 56 years old, I am not your fucking junio...</td>\n",
       "    </tr>\n",
       "    <tr>\n",
       "      <th>2</th>\n",
       "      <td>[0, 1, 2, 3]</td>\n",
       "      <td>Damn, a whole family. Sad indeed.</td>\n",
       "    </tr>\n",
       "  </tbody>\n",
       "</table>\n",
       "</div>"
      ],
      "text/plain": [
       "                                               spans                                               text\n",
       "0  [8, 9, 10, 11, 12, 13, 14, 15, 16, 17, 18, 19,...  Another violent and aggressive immigrant killi...\n",
       "1                       [33, 34, 35, 36, 37, 38, 39]  I am 56 years old, I am not your fucking junio...\n",
       "2                                       [0, 1, 2, 3]                  Damn, a whole family. Sad indeed."
      ]
     },
     "metadata": {
      "tags": []
     },
     "output_type": "display_data"
    },
    {
     "data": {
      "text/html": [
       "<div>\n",
       "<style scoped>\n",
       "    .dataframe tbody tr th:only-of-type {\n",
       "        vertical-align: middle;\n",
       "    }\n",
       "\n",
       "    .dataframe tbody tr th {\n",
       "        vertical-align: top;\n",
       "    }\n",
       "\n",
       "    .dataframe thead th {\n",
       "        text-align: right;\n",
       "    }\n",
       "</style>\n",
       "<table border=\"1\" class=\"dataframe\">\n",
       "  <thead>\n",
       "    <tr style=\"text-align: right;\">\n",
       "      <th></th>\n",
       "      <th>text</th>\n",
       "      <th>spans</th>\n",
       "    </tr>\n",
       "  </thead>\n",
       "  <tbody>\n",
       "    <tr>\n",
       "      <th>0</th>\n",
       "      <td>That's right. They are not normal. And I am st...</td>\n",
       "      <td>[]</td>\n",
       "    </tr>\n",
       "    <tr>\n",
       "      <th>1</th>\n",
       "      <td>\"Watch people die from taking away their healt...</td>\n",
       "      <td>[]</td>\n",
       "    </tr>\n",
       "    <tr>\n",
       "      <th>2</th>\n",
       "      <td>tens years ago i contacted the PDR and suggest...</td>\n",
       "      <td>[]</td>\n",
       "    </tr>\n",
       "  </tbody>\n",
       "</table>\n",
       "</div>"
      ],
      "text/plain": [
       "                                                text spans\n",
       "0  That's right. They are not normal. And I am st...    []\n",
       "1  \"Watch people die from taking away their healt...    []\n",
       "2  tens years ago i contacted the PDR and suggest...    []"
      ]
     },
     "metadata": {
      "tags": []
     },
     "output_type": "display_data"
    }
   ],
   "source": [
    "import cross_validator as cross_validator\n",
    "import datahandler as datahandler\n",
    "from datamodel import DataModel\n",
    "import outputmaker as outputmaker\n",
    "import metrics as metrics\n",
    "\n",
    "trial = datahandler.load_train(path_to_drive+'tsd_trial.csv', verbose=True)\n",
    "train = datahandler.load_train(path_to_drive+'tsd_train.csv', verbose=True)\n",
    "test = datahandler.load_train(path_to_drive+'tsd_test.csv', verbose=True)"
   ]
  },
  {
   "cell_type": "code",
   "execution_count": null,
   "metadata": {
    "id": "MnxMyen-at1_"
   },
   "outputs": [],
   "source": [
    "datamodel = DataModel(model='crf', remove_stop_words=False)\n",
    "\n",
    "output_maker = outputmaker.crf_output\n",
    "\n",
    "evaluator = metrics"
   ]
  },
  {
   "cell_type": "code",
   "execution_count": null,
   "metadata": {
    "colab": {
     "base_uri": "https://localhost:8080/"
    },
    "id": "EAOtW9cxb_Jz",
    "outputId": "31274ce1-566d-4350-82c4-12fb06b8e8f5"
   },
   "outputs": [
    {
     "name": "stderr",
     "output_type": "stream",
     "text": [
      "100%|██████████| 7939/7939 [05:33<00:00, 23.82it/s]\n",
      "100%|██████████| 690/690 [00:27<00:00, 25.28it/s]\n",
      "100%|██████████| 2000/2000 [01:15<00:00, 26.47it/s]\n"
     ]
    }
   ],
   "source": [
    "X_train, y_train, train_taboo_words, train_texts = cross_validator.load_data(train, \n",
    "                                                    [i for i in range(train.shape[0])],\n",
    "                                                    datamodel, logger=True)\n",
    "\n",
    "X_test, y_test, test_taboo_words, test_texts = cross_validator.load_data(trial, \n",
    "                                                    [i for i in range(trial.shape[0])], \n",
    "                                                    datamodel, logger=True)\n",
    "\n",
    "X_test_fn, y_test_fn, _, test_texts_fn = cross_validator.load_data(test, \n",
    "                                                    [i for i in range(test.shape[0])], \n",
    "                                                    datamodel, logger=True)"
   ]
  },
  {
   "cell_type": "code",
   "execution_count": null,
   "metadata": {
    "colab": {
     "base_uri": "https://localhost:8080/"
    },
    "id": "aeAulj9qhN5O",
    "outputId": "0bc896dc-a66f-4b3f-d91d-bce5a3d6d301"
   },
   "outputs": [
    {
     "data": {
      "text/plain": [
       "[('Because', 'IN', 'normal', [0, 1, 2, 3, 4, 5, 6]),\n",
       " ('he', 'PRP', 'normal', [8, 9]),\n",
       " ('a', 'DT', 'normal', [13]),\n",
       " ('moron', 'NN', 'toxic', [15, 16, 17, 18, 19]),\n",
       " ('and', 'CC', 'normal', [21, 22, 23]),\n",
       " ('a', 'DT', 'normal', [25]),\n",
       " ('bigot', 'NNP', 'toxic', [27, 28, 29, 30, 31]),\n",
       " ('It', 'PRP', 'normal', [34, 35]),\n",
       " ('not', 'RB', 'normal', [39, 40, 41]),\n",
       " ('any', 'DT', 'normal', [43, 44, 45]),\n",
       " ('more', 'RBR', 'normal', [47, 48, 49, 50]),\n",
       " ('complicated', 'JJ', 'normal', [52, 53, 54, 55, 56, 57, 58, 59, 60, 61, 62]),\n",
       " ('than', 'IN', 'normal', [64, 65, 66, 67]),\n",
       " ('that', 'DT', 'normal', [69, 70, 71, 72])]"
      ]
     },
     "execution_count": 40,
     "metadata": {
      "tags": []
     },
     "output_type": "execute_result"
    }
   ],
   "source": [
    "X_test[0]"
   ]
  },
  {
   "cell_type": "markdown",
   "metadata": {
    "id": "YsM7HzP3dht3"
   },
   "source": [
    "# 4. Preprocessing\n"
   ]
  },
  {
   "cell_type": "code",
   "execution_count": null,
   "metadata": {
    "id": "KkXY1j-xcO0p"
   },
   "outputs": [],
   "source": [
    "from tqdm import tqdm \n",
    "from nltk.stem.porter import *\n",
    "stemmer = PorterStemmer()\n",
    "\n",
    "special_chars = ['O', '4', '͞', 'ü', '😞', '»', '”', '\\x7f', '\"', '7', '*', '8', ')',\n",
    "      '😂', '💀', '{', '0', 'ʻ', '💨', '•', '#', '_', '😊', '😜', 'ó', '😅', \n",
    "      '¬', '☠', '🙄', '😉', '😆', '―','(', '.', '?', '😵', '💥', ':', '🆘',\n",
    "      '$', '=', '+', ';', '🔥', '😁','`', 'ï', '2', 'ê', 'é', '3', '-', '🤥',\n",
    "      '⚽', 'É', '️', '!', '5', '✭', '9', '😈', 'ˈ', '😬', '@', '«', '/', '▀', '’',\n",
    "      '😡', '1', '%', ',', '&', '6', '\\\\', ']', \"'\", '[', '^', '}', '⚾', '\\u200b',\n",
    "       '☭', '☹', '<', 'l', '™', '👎']\n",
    " \n",
    " \n",
    "F_cleaner = lambda x: ''.join([w for w in x if w not in special_chars ]).lower()\n",
    " \n",
    "     \n",
    "def cleaning(X, clean=True):\n",
    "    cleaned_x = []\n",
    "    for words in tqdm(X):\n",
    "        cleaned_words = []\n",
    "        for word in words :\n",
    "            w, pos, tag, span = word\n",
    "            if clean:\n",
    "                cleaned_w = F_cleaner(w)\n",
    "            else:\n",
    "                cleaned_w = w.lower()\n",
    "            if len(cleaned_w) != 0:\n",
    "                cleaned_words.append((cleaned_w, pos, tag, span))\n",
    "                #cleaned_words.append((stemmer.stem(cleaned_w), pos, tag, span) )\n",
    "        cleaned_x.append(cleaned_words)\n",
    "    return cleaned_x"
   ]
  },
  {
   "cell_type": "code",
   "execution_count": null,
   "metadata": {
    "colab": {
     "base_uri": "https://localhost:8080/"
    },
    "id": "iKsJ_fckeKf9",
    "outputId": "c8c3c996-f083-48b6-9683-ec3594ff426a"
   },
   "outputs": [
    {
     "name": "stderr",
     "output_type": "stream",
     "text": [
      "100%|██████████| 7939/7939 [00:00<00:00, 20714.18it/s]\n",
      "100%|██████████| 690/690 [00:00<00:00, 49592.50it/s]\n",
      "100%|██████████| 2000/2000 [00:00<00:00, 60180.41it/s]\n"
     ]
    }
   ],
   "source": [
    "X_train = cleaning(X_train, clean=False)\n",
    "X_test_clean = cleaning(X_test, clean=False)\n",
    "X_test_fn = cleaning(X_test_fn, clean=False)"
   ]
  },
  {
   "cell_type": "markdown",
   "metadata": {
    "id": "volsFiYKeN8y"
   },
   "source": [
    "# 5. Preprations for modeling"
   ]
  },
  {
   "cell_type": "code",
   "execution_count": null,
   "metadata": {
    "colab": {
     "base_uri": "https://localhost:8080/"
    },
    "id": "Zw4JzY46eLsX",
    "outputId": "d0650873-24dc-44d1-c173-866865215908"
   },
   "outputs": [
    {
     "name": "stdout",
     "output_type": "stream",
     "text": [
      "n_tags:2, n_words:21788\n",
      "\n",
      "max_len:215 \n",
      "word2idx['fuck']:17710,  tag2idx['normal']:1\n",
      "\n"
     ]
    }
   ],
   "source": [
    "words = set([w for x in X_train + X_test_clean+X_test_fn for w, tag, label, span in x])\n",
    "tags = set([tag for x in X_train for w, pos, tag, span in x])\n",
    " \n",
    "n_tags = len(tags)\n",
    "n_words = len(words)\n",
    " \n",
    "print(\"n_tags:{}, n_words:{}\\n\".format(n_tags, n_words))\n",
    " \n",
    "max_len = max([len(x) for x in X_train+X_test_clean+X_test_fn])\n",
    "print(\"max_len:{} \".format(max_len))\n",
    " \n",
    "word2idx = {w: i + 2 for i, w in enumerate(words)}\n",
    "word2idx[\"UNK\"] = 1\n",
    "word2idx[\"PAD\"] = 0\n",
    " \n",
    "idx2word = {i: w for w, i in word2idx.items()}\n",
    " \n",
    "tag2idx = {t: i + 1 for i, t in enumerate(tags)}\n",
    "tag2idx[\"PAD\"] = 0\n",
    "idx2tag = {i: w for w, i in tag2idx.items()}\n",
    " \n",
    "print(\"word2idx['fuck']:{},  tag2idx['normal']:{}\\n\".format(word2idx[\"fuck\"], tag2idx[\"normal\"]))"
   ]
  },
  {
   "cell_type": "code",
   "execution_count": null,
   "metadata": {
    "colab": {
     "base_uri": "https://localhost:8080/"
    },
    "id": "WByv5uSKeXp7",
    "outputId": "647f3184-9330-4f6f-f0d1-5d280b92daf0"
   },
   "outputs": [
    {
     "name": "stderr",
     "output_type": "stream",
     "text": [
      "100%|██████████| 7939/7939 [00:00<00:00, 145844.90it/s]\n"
     ]
    },
    {
     "name": "stdout",
     "output_type": "stream",
     "text": [
      "len(y):,  7939\n"
     ]
    }
   ],
   "source": [
    "from keras.preprocessing.sequence import pad_sequences\n",
    "import numpy as np\n",
    "from keras.utils import to_categorical\n",
    " \n",
    "X_word = [[word2idx[w[0]] for w in s] for s in tqdm(X_train)]\n",
    "X_word = pad_sequences(maxlen=max_len, sequences=X_word, \n",
    "                       value=word2idx[\"PAD\"], padding='post', truncating='post')\n",
    " \n",
    " \n",
    "y_ = [[tag2idx[w[2]] for w in s] for s in X_train]\n",
    " \n",
    "print(\"len(y):, \", len(y_))\n",
    " \n",
    "y_ = pad_sequences(maxlen=max_len, sequences=y_, \n",
    "                  value=tag2idx[\"PAD\"], padding='post', truncating='post')\n",
    " \n",
    "y = [to_categorical(i, num_classes=n_tags+1) for i in y_]"
   ]
  },
  {
   "cell_type": "code",
   "execution_count": null,
   "metadata": {
    "id": "mhjYBvSgebPy"
   },
   "outputs": [],
   "source": [
    "X_word_tr, y_tr = X_word, y"
   ]
  },
  {
   "cell_type": "markdown",
   "metadata": {
    "id": "Rcs07Mj04zxa"
   },
   "source": [
    "# 6. Multi-Feature Representation"
   ]
  },
  {
   "cell_type": "code",
   "execution_count": null,
   "metadata": {
    "colab": {
     "base_uri": "https://localhost:8080/"
    },
    "id": "rKfG8BthjDyN",
    "outputId": "f4da72b8-29ed-4c40-f68e-6f821c0e2c61"
   },
   "outputs": [
    {
     "data": {
      "text/plain": [
       "21790"
      ]
     },
     "execution_count": 45,
     "metadata": {
      "tags": []
     },
     "output_type": "execute_result"
    }
   ],
   "source": [
    "max_features = len(word2idx)\n",
    "max_features"
   ]
  },
  {
   "cell_type": "code",
   "execution_count": null,
   "metadata": {
    "colab": {
     "base_uri": "https://localhost:8080/"
    },
    "id": "drjFb2AJHkmJ",
    "outputId": "ed1be366-270d-436c-97b2-75bb89ea5543"
   },
   "outputs": [
    {
     "name": "stderr",
     "output_type": "stream",
     "text": [
      "2196017it [02:44, 13346.56it/s]\n"
     ]
    }
   ],
   "source": [
    "embeddings_index = {}\n",
    "f = open(path_to_drive+'glove.840B.300d.txt')\n",
    "for line in tqdm(f):\n",
    "    values = line.split()\n",
    "    word = ' '.join(values[:-300])\n",
    "    coefs = np.asarray(values[-300:], dtype='float32')\n",
    "    embeddings_index[word] = coefs.reshape(-1)\n",
    "f.close()"
   ]
  },
  {
   "cell_type": "code",
   "execution_count": null,
   "metadata": {
    "id": "3uttSaIGImtO"
   },
   "outputs": [],
   "source": [
    "#comment this block if you dont have preloaded vectors - next cell will create it\n",
    "import pickle \n",
    "\n",
    "def load_pkl(path):\n",
    "    '''load pickle data from specified path'''\n",
    "    with open(path, \"rb\") as f:\n",
    "        pkl = pickle.load(f)\n",
    "    return pkl\n",
    "\n",
    "__vectors__gpt2__ = load_pkl(path_to_drive+\"__vectors__gpt2__.sav\")\n",
    "__vectors__roberta__ = load_pkl(path_to_drive+\"__vectors__roberta__.sav\")"
   ]
  },
  {
   "cell_type": "code",
   "execution_count": null,
   "metadata": {
    "colab": {
     "base_uri": "https://localhost:8080/"
    },
    "id": "ERpa0mRzIStJ",
    "outputId": "bf839be8-7b0d-4d5e-b1c9-9b0db588bd24"
   },
   "outputs": [
    {
     "name": "stderr",
     "output_type": "stream",
     "text": [
      "100%|██████████| 21790/21790 [00:00<00:00, 59093.73it/s]\n"
     ]
    }
   ],
   "source": [
    "embed_size = 768 +300\n",
    "\n",
    "embedding_vector = make_vecs(embeddings_index, embed_size, word2idx)"
   ]
  },
  {
   "cell_type": "markdown",
   "metadata": {
    "id": "shZZ5zbKeYue"
   },
   "source": [
    "# 7. Modeling"
   ]
  },
  {
   "cell_type": "code",
   "execution_count": null,
   "metadata": {
    "colab": {
     "base_uri": "https://localhost:8080/"
    },
    "id": "JjRHrZVhehhW",
    "outputId": "622b214a-4461-4051-ce85-fe8926119860"
   },
   "outputs": [
    {
     "name": "stdout",
     "output_type": "stream",
     "text": [
      "Keras: 2.4.3\n",
      "tf: 2.4.0\n"
     ]
    }
   ],
   "source": [
    "from keras.models import Model, Input\n",
    "from keras.layers import LSTM, Embedding, Dense, TimeDistributed, Dropout, Conv1D, GRU, SimpleRNN, SpatialDropout1D\n",
    "from keras.layers import Bidirectional, concatenate, SpatialDropout1D, GlobalMaxPooling1D, GlobalMaxPool1D, Activation\n",
    "import matplotlib.pyplot as plt\n",
    "import pandas as pd \n",
    "from sklearn.metrics import classification_report\n",
    "import tensorflow_addons as tfa\n",
    "from keras_self_attention import SeqSelfAttention\n",
    "\n",
    "import keras\n",
    "print(\"Keras:\", keras.__version__)\n",
    "import tensorflow as tf\n",
    "print(\"tf:\",tf.__version__)"
   ]
  },
  {
   "cell_type": "code",
   "execution_count": null,
   "metadata": {
    "id": "clvJMSjJjd3R"
   },
   "outputs": [],
   "source": [
    "word_in = Input(shape=(max_len,))\n",
    "emb_word = Embedding(max_features, embed_size, weights=[embedding_vector], trainable=False)(word_in)\n",
    "\n",
    "x = Bidirectional(tf.compat.v1.keras.layers.CuDNNGRU(units=100, return_sequences=True))(x)\n",
    "x = Bidirectional(tf.compat.v1.keras.layers.CuDNNGRU(units=100, return_sequences=True))(x)\n",
    "\n",
    "x = SeqSelfAttention(attention_type=SeqSelfAttention.ATTENTION_TYPE_MUL,\n",
    "                       kernel_regularizer=tf.keras.regularizers.l2(1e-4),\n",
    "                       bias_regularizer=tf.keras.regularizers.l1(1e-4),\n",
    "                       attention_regularizer_weight=1e-4,\n",
    "                       name='Attention')(x)\n",
    "\n",
    "x = TimeDistributed(Dense(50, activation=\"tanh\"))(x)\n",
    "\n",
    "out = TimeDistributed(Dense(n_tags + 1, activation=\"sigmoid\"))(x)\n",
    "\n",
    "model = Model(word_in, out)\n",
    " \n",
    "model.compile(optimizer='rmsprop', loss='sparse_categorical_crossentropy', metrics=['accuracy'])"
   ]
  },
  {
   "cell_type": "code",
   "execution_count": null,
   "metadata": {
    "colab": {
     "base_uri": "https://localhost:8080/"
    },
    "id": "sFy_xmY9j0FX",
    "outputId": "702dc6b0-96d5-4fbd-de51-3a7f3b8ddff2"
   },
   "outputs": [
    {
     "name": "stdout",
     "output_type": "stream",
     "text": [
      "Model: \"model_9\"\n",
      "_________________________________________________________________\n",
      "Layer (type)                 Output Shape              Param #   \n",
      "=================================================================\n",
      "input_11 (InputLayer)        [(None, 215)]             0         \n",
      "_________________________________________________________________\n",
      "embedding_10 (Embedding)     (None, 215, 1068)         23271720  \n",
      "_________________________________________________________________\n",
      "conv1d_18 (Conv1D)           (None, 215, 50)           267050    \n",
      "_________________________________________________________________\n",
      "bidirectional_19 (Bidirectio (None, 215, 200)          91200     \n",
      "_________________________________________________________________\n",
      "Attention (SeqSelfAttention) (None, 215, 200)          40001     \n",
      "_________________________________________________________________\n",
      "time_distributed_18 (TimeDis (None, 215, 50)           10050     \n",
      "_________________________________________________________________\n",
      "time_distributed_19 (TimeDis (None, 215, 3)            153       \n",
      "=================================================================\n",
      "Total params: 23,680,174\n",
      "Trainable params: 408,454\n",
      "Non-trainable params: 23,271,720\n",
      "_________________________________________________________________\n"
     ]
    }
   ],
   "source": [
    "model.summary()"
   ]
  },
  {
   "cell_type": "code",
   "execution_count": null,
   "metadata": {
    "colab": {
     "base_uri": "https://localhost:8080/"
    },
    "id": "mmmHKP0aqN1h",
    "outputId": "dba61e55-1f33-47f0-f0e6-9d588d07c1cf"
   },
   "outputs": [
    {
     "name": "stdout",
     "output_type": "stream",
     "text": [
      "Epoch 1/5\n",
      "244/244 [==============================] - 15s 49ms/step - loss: 0.3752 - accuracy: 0.8934 - val_loss: 0.1029 - val_accuracy: 0.9804\n",
      "Epoch 2/5\n",
      "244/244 [==============================] - 8s 35ms/step - loss: 0.1076 - accuracy: 0.9840 - val_loss: 0.0760 - val_accuracy: 0.9865\n",
      "Epoch 3/5\n",
      "244/244 [==============================] - 8s 35ms/step - loss: 0.0719 - accuracy: 0.9869 - val_loss: 0.0638 - val_accuracy: 0.9872\n",
      "Epoch 4/5\n",
      "244/244 [==============================] - 9s 35ms/step - loss: 0.0612 - accuracy: 0.9883 - val_loss: 0.0592 - val_accuracy: 0.9892\n",
      "Epoch 5/5\n",
      "244/244 [==============================] - 8s 35ms/step - loss: 0.0605 - accuracy: 0.9885 - val_loss: 0.0559 - val_accuracy: 0.9894\n"
     ]
    }
   ],
   "source": [
    "history = model.fit(X_word_tr, np.array(y_), batch_size=32, epochs=10, validation_split=0.02, verbose=1)"
   ]
  },
  {
   "cell_type": "code",
   "execution_count": null,
   "metadata": {
    "colab": {
     "base_uri": "https://localhost:8080/",
     "height": 320
    },
    "id": "tB2CjbfIQryE",
    "outputId": "6277c52c-4520-4d8c-d919-9ef0dc77eb97"
   },
   "outputs": [
    {
     "data": {
      "image/png": "[encoded data removed]",
      "text/plain": [
       "<Figure size 360x360 with 1 Axes>"
      ]
     },
     "metadata": {
      "tags": []
     },
     "output_type": "display_data"
    }
   ],
   "source": [
    "hist = pd.DataFrame(history.history)\n",
    "\n",
    "plt.style.use(\"ggplot\")\n",
    "plt.figure(figsize=(5,5))\n",
    "#plt.plot(hist[\"acc\"])\n",
    "#plt.plot(hist[\"val_acc\"])\n",
    "plt.plot(hist[\"loss\"])\n",
    "plt.plot(hist[\"val_loss\"])\n",
    "plt.show()"
   ]
  },
  {
   "cell_type": "code",
   "execution_count": null,
   "metadata": {
    "colab": {
     "base_uri": "https://localhost:8080/",
     "height": 320
    },
    "id": "gEE20Nf7QsPs",
    "outputId": "64164278-3d67-4f17-c870-129b5f20ae59"
   },
   "outputs": [
    {
     "data": {
      "image/png": "[encoded data removed]",
      "text/plain": [
       "<Figure size 360x360 with 1 Axes>"
      ]
     },
     "metadata": {
      "tags": []
     },
     "output_type": "display_data"
    }
   ],
   "source": [
    "plt.style.use(\"ggplot\")\n",
    "plt.figure(figsize=(5,5))\n",
    "plt.plot(hist[\"accuracy\"])\n",
    "plt.plot(hist[\"val_accuracy\"])\n",
    "plt.show()"
   ]
  },
  {
   "cell_type": "markdown",
   "metadata": {
    "id": "zaKnLLfD5YKG"
   },
   "source": [
    "# 8. Prediction over Validation"
   ]
  },
  {
   "cell_type": "code",
   "execution_count": null,
   "metadata": {
    "colab": {
     "base_uri": "https://localhost:8080/"
    },
    "id": "PvBY3IKZQwMx",
    "outputId": "324cabc2-194f-4062-e978-3165617829dd"
   },
   "outputs": [
    {
     "data": {
      "text/plain": [
       "[('because', 'IN', 'normal', [0, 1, 2, 3, 4, 5, 6]),\n",
       " ('he', 'PRP', 'normal', [8, 9]),\n",
       " ('a', 'DT', 'normal', [13]),\n",
       " ('moron', 'NN', 'toxic', [15, 16, 17, 18, 19]),\n",
       " ('and', 'CC', 'normal', [21, 22, 23]),\n",
       " ('a', 'DT', 'normal', [25]),\n",
       " ('bigot', 'NNP', 'toxic', [27, 28, 29, 30, 31]),\n",
       " ('it', 'PRP', 'normal', [34, 35]),\n",
       " ('not', 'RB', 'normal', [39, 40, 41]),\n",
       " ('any', 'DT', 'normal', [43, 44, 45]),\n",
       " ('more', 'RBR', 'normal', [47, 48, 49, 50]),\n",
       " ('complicated', 'JJ', 'normal', [52, 53, 54, 55, 56, 57, 58, 59, 60, 61, 62]),\n",
       " ('than', 'IN', 'normal', [64, 65, 66, 67]),\n",
       " ('that', 'DT', 'normal', [69, 70, 71, 72])]"
      ]
     },
     "execution_count": 82,
     "metadata": {
      "tags": []
     },
     "output_type": "execute_result"
    }
   ],
   "source": [
    "X_test_clean[0]"
   ]
  },
  {
   "cell_type": "code",
   "execution_count": null,
   "metadata": {
    "colab": {
     "base_uri": "https://localhost:8080/"
    },
    "id": "ZEqCGLMXQwDi",
    "outputId": "78778d71-6dc7-47c5-cf51-6f5e718c389e"
   },
   "outputs": [
    {
     "name": "stderr",
     "output_type": "stream",
     "text": [
      "100%|██████████| 690/690 [00:00<00:00, 79568.62it/s]"
     ]
    },
    {
     "name": "stdout",
     "output_type": "stream",
     "text": [
      "not in word2idx:0, length of X_word_test:690\n"
     ]
    },
    {
     "name": "stderr",
     "output_type": "stream",
     "text": [
      "\n"
     ]
    }
   ],
   "source": [
    "no = []\n",
    "for s in X_test_clean:\n",
    "    x_s = []\n",
    "    for w in s:\n",
    "        try:\n",
    "            x_s.append(word2idx[w[0]])\n",
    "        except:\n",
    "            no.append(w)\n",
    "\n",
    "X_word_test = [[word2idx[w[0]] if w[0] in word2idx else word2idx[\"UNK\"] for w in s] for s in tqdm(X_test_clean)]\n",
    "\n",
    "print(\"not in word2idx:{}, length of X_word_test:{}\".format(len(no), len(X_word_test)))\n",
    "\n",
    "X_word_test = pad_sequences(maxlen=max_len, sequences=X_word_test, \n",
    "                            value=word2idx[\"PAD\"], padding='post', truncating='post')"
   ]
  },
  {
   "cell_type": "code",
   "execution_count": null,
   "metadata": {
    "id": "UGVzE-JHQvkR"
   },
   "outputs": [],
   "source": [
    "y_pred_test = model.predict(X_word_test)"
   ]
  },
  {
   "cell_type": "code",
   "execution_count": null,
   "metadata": {
    "colab": {
     "base_uri": "https://localhost:8080/"
    },
    "id": "6vcbQ4MERIpM",
    "outputId": "82f86bf8-4d5b-4cf9-98bf-f253c8b8301f"
   },
   "outputs": [
    {
     "name": "stderr",
     "output_type": "stream",
     "text": [
      "100%|██████████| 690/690 [00:00<00:00, 2679.18it/s]"
     ]
    },
    {
     "name": "stdout",
     "output_type": "stream",
     "text": [
      "predicted test size: 690\n",
      "F1:0.6383529150114166, \t P:0.7356519921450859, \t R:0.6441146133732796\n"
     ]
    },
    {
     "name": "stderr",
     "output_type": "stream",
     "text": [
      "\n"
     ]
    }
   ],
   "source": [
    "y_test_preds, probas = [], []\n",
    "for i in tqdm(range(y_pred_test.shape[0])):\n",
    "    p = np.argmax(y_pred_test[i], axis=-1)\n",
    "    preds, proba = [],[]\n",
    "    lenght = 0\n",
    "    for w, pred in zip(X_word_test[i], p):\n",
    "        if w != 0:\n",
    "            preds.append(idx2tag[pred])\n",
    "            lenght+=1\n",
    "    y_test_preds.append(preds)\n",
    "    probas.append(y_pred_test[i][:lenght])\n",
    "\n",
    "print(\"predicted test size:\", len(y_test_preds))\n",
    "\n",
    "predictions = output_maker(X_test, test_texts, y_test_preds)\n",
    "\n",
    "f1, p, r = evaluator.evaluate(gold = y_test, predictions = predictions)\n",
    "\n",
    "print(\"F1:{}, \\t P:{}, \\t R:{}\".format(f1, p, r))"
   ]
  },
  {
   "cell_type": "markdown",
   "metadata": {
    "id": "gXIDQ6KC4ul7"
   },
   "source": [
    "# 9. Prediction on Test"
   ]
  },
  {
   "cell_type": "code",
   "execution_count": null,
   "metadata": {
    "colab": {
     "base_uri": "https://localhost:8080/"
    },
    "id": "iJzjoJWr6CYY",
    "outputId": "edab1092-7ed0-4117-909b-cce3464e055a"
   },
   "outputs": [
    {
     "data": {
      "text/plain": [
       "[('thank', 'VBP', 'normal', [0, 1, 2, 3, 4]),\n",
       " ('you', 'PRP', 'normal', [6, 7, 8]),\n",
       " ('i', 'PRP', 'normal', [11]),\n",
       " ('so', 'RB', 'normal', [15, 16]),\n",
       " ('sick', 'JJ', 'normal', [18, 19, 20, 21]),\n",
       " ('and', 'CC', 'normal', [23, 24, 25]),\n",
       " ('tired', 'JJ', 'normal', [27, 28, 29, 30, 31]),\n",
       " ('of', 'IN', 'normal', [33, 34]),\n",
       " ('people', 'NNS', 'normal', [36, 37, 38, 39, 40, 41]),\n",
       " ('acting', 'VBG', 'normal', [43, 44, 45, 46, 47, 48]),\n",
       " ('like', 'IN', 'normal', [50, 51, 52, 53]),\n",
       " ('the', 'DT', 'normal', [55, 56, 57]),\n",
       " ('military', 'NN', 'normal', [59, 60, 61, 62, 63, 64, 65, 66]),\n",
       " ('is', 'VBZ', 'normal', [68, 69]),\n",
       " ('filled', 'VBN', 'normal', [71, 72, 73, 74, 75, 76]),\n",
       " ('with', 'IN', 'normal', [78, 79, 80, 81]),\n",
       " ('precious', 'JJ', 'normal', [83, 84, 85, 86, 87, 88, 89, 90]),\n",
       " ('snowflakes', 'NNS', 'normal', [92, 93, 94, 95, 96, 97, 98, 99, 100, 101]),\n",
       " ('that', 'WDT', 'normal', [103, 104, 105, 106]),\n",
       " ('will', 'MD', 'normal', [108, 109, 110, 111]),\n",
       " ('be', 'VB', 'normal', [113, 114]),\n",
       " ('oh', 'UH', 'normal', [116, 117]),\n",
       " ('so', 'RB', 'normal', [119, 120]),\n",
       " ('very', 'RB', 'normal', [122, 123, 124, 125]),\n",
       " ('#', 'NN', 'normal', [127]),\n",
       " ('triggered', 'VBN', 'normal', [128, 129, 130, 131, 132, 133, 134, 135, 136]),\n",
       " ('the', 'DT', 'normal', [138, 139, 140]),\n",
       " ('minute', 'NN', 'normal', [142, 143, 144, 145, 146, 147]),\n",
       " ('that', 'WDT', 'normal', [149, 150, 151, 152]),\n",
       " ('someone', 'NN', 'normal', [154, 155, 156, 157, 158, 159, 160]),\n",
       " ('is', 'VBZ', 'normal', [162, 163]),\n",
       " ('genuflecting',\n",
       "  'VBG',\n",
       "  'normal',\n",
       "  [168, 169, 170, 171, 172, 173, 174, 175, 176, 177, 178, 179]),\n",
       " ('before', 'IN', 'normal', [181, 182, 183, 184, 185, 186]),\n",
       " ('the', 'DT', 'normal', [188, 189, 190]),\n",
       " ('flag', 'NN', 'normal', [192, 193, 194, 195]),\n",
       " ('the', 'DT', 'normal', [198, 199, 200]),\n",
       " ('anthem', 'NNP', 'normal', [202, 203, 204, 205, 206, 207]),\n",
       " ('or', 'CC', 'normal', [210, 211]),\n",
       " ('the', 'DT', 'normal', [213, 214, 215]),\n",
       " ('notion', 'NN', 'normal', [217, 218, 219, 220, 221, 222]),\n",
       " ('of', 'IN', 'normal', [224, 225]),\n",
       " ('invading', 'VBG', 'normal', [227, 228, 229, 230, 231, 232, 233, 234]),\n",
       " ('yet', 'RB', 'normal', [236, 237, 238]),\n",
       " ('another', 'DT', 'normal', [240, 241, 242, 243, 244, 245, 246]),\n",
       " ('country', 'NN', 'normal', [248, 249, 250, 251, 252, 253, 254]),\n",
       " ('for', 'IN', 'normal', [256, 257, 258]),\n",
       " ('capitalist',\n",
       "  'JJ',\n",
       "  'normal',\n",
       "  [260, 261, 262, 263, 264, 265, 266, 267, 268, 269]),\n",
       " ('interests', 'NNS', 'normal', [271, 272, 273, 274, 275, 276, 277, 278, 279]),\n",
       " ('how', 'WRB', 'normal', [284, 285, 286]),\n",
       " ('on', 'IN', 'normal', [288, 289]),\n",
       " ('earth', 'NNP', 'normal', [291, 292, 293, 294, 295]),\n",
       " ('did', 'VBD', 'normal', [297, 298, 299]),\n",
       " ('this', 'DT', 'normal', [301, 302, 303, 304]),\n",
       " ('dumb', 'JJ', 'normal', [306, 307, 308, 309]),\n",
       " ('association',\n",
       "  'NN',\n",
       "  'normal',\n",
       "  [311, 312, 313, 314, 315, 316, 317, 318, 319, 320, 321]),\n",
       " ('get', 'VBP', 'normal', [323, 324, 325]),\n",
       " ('made', 'VBN', 'normal', [327, 328, 329, 330]),\n",
       " ('between', 'IN', 'normal', [332, 333, 334, 335, 336, 337, 338]),\n",
       " ('such', 'JJ', 'normal', [340, 341, 342, 343]),\n",
       " ('pageantry', 'NN', 'normal', [345, 346, 347, 348, 349, 350, 351, 352, 353]),\n",
       " ('and', 'CC', 'normal', [355, 356, 357]),\n",
       " ('people', 'NNS', 'normal', [359, 360, 361, 362, 363, 364]),\n",
       " ('in', 'IN', 'normal', [366, 367]),\n",
       " ('the', 'DT', 'normal', [369, 370, 371]),\n",
       " ('military', 'NN', 'normal', [373, 374, 375, 376, 377, 378, 379, 380]),\n",
       " ('without', 'IN', 'normal', [382, 383, 384, 385, 386, 387, 388]),\n",
       " ('it', 'PRP', 'normal', [390, 391]),\n",
       " ('getting', 'VBG', 'normal', [393, 394, 395, 396, 397, 398, 399]),\n",
       " ('laughed', 'VBN', 'normal', [401, 402, 403, 404, 405, 406, 407]),\n",
       " ('out', 'IN', 'normal', [409, 410, 411]),\n",
       " ('of', 'IN', 'normal', [413, 414]),\n",
       " ('the', 'DT', 'normal', [416, 417, 418]),\n",
       " ('room', 'NN', 'normal', [420, 421, 422, 423]),\n",
       " ('on', 'IN', 'normal', [425, 426]),\n",
       " ('the', 'DT', 'normal', [428, 429, 430]),\n",
       " ('first', 'JJ', 'normal', [432, 433, 434, 435, 436]),\n",
       " ('day', 'NN', 'normal', [438, 439, 440]),\n",
       " ('it', 'PRP', 'normal', [443, 444]),\n",
       " ('does', 'VBZ', 'normal', [446, 447, 448, 449]),\n",
       " ('even', 'RB', 'normal', [454, 455, 456, 457]),\n",
       " ('pass', 'VB', 'normal', [459, 460, 461, 462]),\n",
       " ('the', 'DT', 'normal', [464, 465, 466]),\n",
       " ('laugh', 'NN', 'normal', [468, 469, 470, 471, 472]),\n",
       " ('test', 'NN', 'normal', [474, 475, 476, 477]),\n",
       " ('the', 'DT', 'normal', [482, 483, 484]),\n",
       " ('idea', 'NN', 'normal', [486, 487, 488, 489]),\n",
       " ('that', 'WDT', 'normal', [491, 492, 493, 494]),\n",
       " ('because', 'IN', 'normal', [496, 497, 498, 499, 500, 501, 502]),\n",
       " ('someone', 'NN', 'normal', [504, 505, 506, 507, 508, 509, 510]),\n",
       " ('at', 'IN', 'normal', [512, 513]),\n",
       " ('some', 'DT', 'normal', [515, 516, 517, 518]),\n",
       " ('event', 'NN', 'normal', [520, 521, 522, 523, 524]),\n",
       " ('involving', 'VBG', 'normal', [526, 527, 528, 529, 530, 531, 532, 533, 534]),\n",
       " ('entertainment',\n",
       "  'NNP',\n",
       "  'normal',\n",
       "  [536, 537, 538, 539, 540, 541, 542, 543, 544, 545, 546, 547, 548]),\n",
       " ('does', 'VBZ', 'normal', [550, 551, 552, 553]),\n",
       " ('do', 'VB', 'normal', [558, 559]),\n",
       " ('the', 'DT', 'normal', [561, 562, 563]),\n",
       " ('proper', 'JJ', 'normal', [565, 566, 567, 568, 569, 570]),\n",
       " ('rituals', 'NNS', 'normal', [572, 573, 574, 575, 576, 577, 578]),\n",
       " ('at', 'IN', 'normal', [580, 581]),\n",
       " ('the', 'DT', 'normal', [583, 584, 585]),\n",
       " ('proper', 'JJ', 'normal', [587, 588, 589, 590, 591, 592]),\n",
       " ('time', 'NN', 'normal', [594, 595, 596, 597]),\n",
       " ('would', 'MD', 'normal', [599, 600, 601, 602, 603]),\n",
       " ('be', 'VB', 'normal', [605, 606]),\n",
       " ('insulting', 'JJ', 'normal', [608, 609, 610, 611, 612, 613, 614, 615, 616]),\n",
       " ('to', 'IN', 'normal', [618, 619]),\n",
       " ('those', 'DT', 'normal', [621, 622, 623, 624, 625]),\n",
       " ('in', 'IN', 'normal', [627, 628]),\n",
       " ('the', 'DT', 'normal', [630, 631, 632]),\n",
       " ('military', 'NN', 'normal', [634, 635, 636, 637, 638, 639, 640, 641]),\n",
       " ('ridiculous',\n",
       "  'JJ',\n",
       "  'normal',\n",
       "  [644, 645, 646, 647, 648, 649, 650, 651, 652, 653])]"
      ]
     },
     "execution_count": 70,
     "metadata": {
      "tags": []
     },
     "output_type": "execute_result"
    }
   ],
   "source": [
    "X_test_fn[49]"
   ]
  },
  {
   "cell_type": "code",
   "execution_count": null,
   "metadata": {
    "colab": {
     "base_uri": "https://localhost:8080/"
    },
    "id": "9hAUcEeP5Gu_",
    "outputId": "8aa6e974-4111-415d-a7ba-ec38625e4c5c"
   },
   "outputs": [
    {
     "name": "stderr",
     "output_type": "stream",
     "text": [
      "100%|██████████| 2000/2000 [00:00<00:00, 74210.51it/s]"
     ]
    },
    {
     "name": "stdout",
     "output_type": "stream",
     "text": [
      "\n",
      "not in word2idx:0, length of X_word_test:2000\n"
     ]
    },
    {
     "name": "stderr",
     "output_type": "stream",
     "text": [
      "\n"
     ]
    }
   ],
   "source": [
    "no = []\n",
    "for s in X_test_fn:\n",
    "    x_s = []\n",
    "    for w in s:\n",
    "        try:\n",
    "            x_s.append(word2idx[w[0]])\n",
    "        except:\n",
    "            no.append(w)\n",
    "\n",
    "X_word_test_fn = [[word2idx[w[0]] if w[0] in word2idx else word2idx[\"UNK\"] for w in s] for s in tqdm(X_test_fn)]\n",
    "\n",
    "print(\"\\nnot in word2idx:{}, length of X_word_test:{}\".format(len(no), len(X_word_test_fn)))\n",
    "\n",
    "X_word_test_fn = pad_sequences(maxlen=max_len, sequences=X_word_test_fn, \n",
    "                            value=word2idx[\"PAD\"], padding='post', truncating='post')"
   ]
  },
  {
   "cell_type": "code",
   "execution_count": null,
   "metadata": {
    "id": "yz0-GQT95qXs"
   },
   "outputs": [],
   "source": [
    "y_pred_test_fn = model.predict(X_word_test_fn)"
   ]
  },
  {
   "cell_type": "code",
   "execution_count": null,
   "metadata": {
    "colab": {
     "base_uri": "https://localhost:8080/"
    },
    "id": "yIjNGRVV5oli",
    "outputId": "ee821628-a386-4ec1-ec5a-8ccc7e9b6197"
   },
   "outputs": [
    {
     "name": "stderr",
     "output_type": "stream",
     "text": [
      "100%|██████████| 2000/2000 [00:00<00:00, 2662.39it/s]"
     ]
    },
    {
     "name": "stdout",
     "output_type": "stream",
     "text": [
      "predicted test size: 2000\n"
     ]
    },
    {
     "name": "stderr",
     "output_type": "stream",
     "text": [
      "\n"
     ]
    }
   ],
   "source": [
    "y_test_preds_fn, probas_fn = [], []\n",
    "for i in tqdm(range(y_pred_test_fn.shape[0])):\n",
    "    p = np.argmax(y_pred_test_fn[i], axis=-1)\n",
    "    preds, proba = [],[]\n",
    "    lenght = 0\n",
    "    for w, pred in zip(X_word_test_fn[i], p):\n",
    "        if w != 0:\n",
    "            preds.append(idx2tag[pred])\n",
    "            lenght+=1\n",
    "    y_test_preds_fn.append(preds)\n",
    "    probas_fn.append(y_pred_test_fn[i][:lenght])\n",
    "\n",
    "print(\"predicted test size:\", len(y_test_preds_fn))\n",
    "\n",
    "predictions_fn = output_maker(X_test_fn, test_texts_fn, y_test_preds_fn)"
   ]
  },
  {
   "cell_type": "code",
   "execution_count": null,
   "metadata": {
    "colab": {
     "base_uri": "https://localhost:8080/"
    },
    "id": "KjBPWq_m7UdP",
    "outputId": "f52eba9e-9fb8-4f6a-e111-e963d65436bd"
   },
   "outputs": [
    {
     "data": {
      "text/plain": [
       "[413, 414, 415, 416, 417, 418, 419, 420]"
      ]
     },
     "execution_count": 111,
     "metadata": {
      "tags": []
     },
     "output_type": "execute_result"
    }
   ],
   "source": [
    "predictions_fn[3]"
   ]
  },
  {
   "cell_type": "code",
   "execution_count": null,
   "metadata": {
    "id": "4v6DJco78opt"
   },
   "outputs": [],
   "source": [
    "ids = [i for i in range(0, test.shape[0])]"
   ]
  },
  {
   "cell_type": "code",
   "execution_count": null,
   "metadata": {
    "id": "zP0QMu0t8d5j"
   },
   "outputs": [],
   "source": [
    "with open(\"spans-pred.txt\", \"w\") as out:\n",
    "    for uid, text_scores in zip(ids, predictions_fn):\n",
    "        out.write(f\"{str(uid)}\\t{str(text_scores)}\\n\")"
   ]
  },
  {
   "cell_type": "code",
   "execution_count": null,
   "metadata": {
    "id": "PyCYaDtX8nC8"
   },
   "outputs": [],
   "source": []
  }
 ],
 "metadata": {
  "accelerator": "GPU",
  "colab": {
   "collapsed_sections": [
    "aCwv0V7G4SJn",
    "q873MAqX4ijl",
    "YsM7HzP3dht3",
    "volsFiYKeN8y"
   ],
   "name": "06-Bi-GRU-GPT2-GLOVE-ROBERTA",
   "provenance": [],
   "toc_visible": true
  },
  "kernelspec": {
   "display_name": "Python 3",
   "language": "python",
   "name": "python3"
  },
  "language_info": {
   "codemirror_mode": {
    "name": "ipython",
    "version": 3
   },
   "file_extension": ".py",
   "mimetype": "text/x-python",
   "name": "python",
   "nbconvert_exporter": "python",
   "pygments_lexer": "ipython3",
   "version": "3.6.9"
  },
  "widgets": {
   "application/vnd.jupyter.widget-state+json": {
    "0193b780c11b4b62af341c6eb2da0d7d": {
     "model_module": "@jupyter-widgets/base",
     "model_name": "LayoutModel",
     "state": {
      "_model_module": "@jupyter-widgets/base",
      "_model_module_version": "1.2.0",
      "_model_name": "LayoutModel",
      "_view_count": null,
      "_view_module": "@jupyter-widgets/base",
      "_view_module_version": "1.2.0",
      "_view_name": "LayoutView",
      "align_content": null,
      "align_items": null,
      "align_self": null,
      "border": null,
      "bottom": null,
      "display": null,
      "flex": null,
      "flex_flow": null,
      "grid_area": null,
      "grid_auto_columns": null,
      "grid_auto_flow": null,
      "grid_auto_rows": null,
      "grid_column": null,
      "grid_gap": null,
      "grid_row": null,
      "grid_template_areas": null,
      "grid_template_columns": null,
      "grid_template_rows": null,
      "height": null,
      "justify_content": null,
      "justify_items": null,
      "left": null,
      "margin": null,
      "max_height": null,
      "max_width": null,
      "min_height": null,
      "min_width": null,
      "object_fit": null,
      "object_position": null,
      "order": null,
      "overflow": null,
      "overflow_x": null,
      "overflow_y": null,
      "padding": null,
      "right": null,
      "top": null,
      "visibility": null,
      "width": null
     }
    },
    "0626b3c00ae2458dacf7fe5c70077c04": {
     "model_module": "@jupyter-widgets/controls",
     "model_name": "HBoxModel",
     "state": {
      "_dom_classes": [],
      "_model_module": "@jupyter-widgets/controls",
      "_model_module_version": "1.5.0",
      "_model_name": "HBoxModel",
      "_view_count": null,
      "_view_module": "@jupyter-widgets/controls",
      "_view_module_version": "1.5.0",
      "_view_name": "HBoxView",
      "box_style": "",
      "children": [
       "IPY_MODEL_5a46d65384c74b419f27cea6e1d062e1",
       "IPY_MODEL_4e6673a801e64c63a11adafa170c0457"
      ],
      "layout": "IPY_MODEL_ca931c56e32c4961905cd12deb64b609"
     }
    },
    "0ce6309824724ce8a330507eda5e43c8": {
     "model_module": "@jupyter-widgets/controls",
     "model_name": "HTMLModel",
     "state": {
      "_dom_classes": [],
      "_model_module": "@jupyter-widgets/controls",
      "_model_module_version": "1.5.0",
      "_model_name": "HTMLModel",
      "_view_count": null,
      "_view_module": "@jupyter-widgets/controls",
      "_view_module_version": "1.5.0",
      "_view_name": "HTMLView",
      "description": "",
      "description_tooltip": null,
      "layout": "IPY_MODEL_80608508b3844a35bc132a5485736bb6",
      "placeholder": "​",
      "style": "IPY_MODEL_1fef8ac1fcbb4b28b91eb884514290ed",
      "value": " 665/665 [00:19&lt;00:00, 34.9B/s]"
     }
    },
    "11fbf5f248f94a22aa856ecb422f1c0e": {
     "model_module": "@jupyter-widgets/base",
     "model_name": "LayoutModel",
     "state": {
      "_model_module": "@jupyter-widgets/base",
      "_model_module_version": "1.2.0",
      "_model_name": "LayoutModel",
      "_view_count": null,
      "_view_module": "@jupyter-widgets/base",
      "_view_module_version": "1.2.0",
      "_view_name": "LayoutView",
      "align_content": null,
      "align_items": null,
      "align_self": null,
      "border": null,
      "bottom": null,
      "display": null,
      "flex": null,
      "flex_flow": null,
      "grid_area": null,
      "grid_auto_columns": null,
      "grid_auto_flow": null,
      "grid_auto_rows": null,
      "grid_column": null,
      "grid_gap": null,
      "grid_row": null,
      "grid_template_areas": null,
      "grid_template_columns": null,
      "grid_template_rows": null,
      "height": null,
      "justify_content": null,
      "justify_items": null,
      "left": null,
      "margin": null,
      "max_height": null,
      "max_width": null,
      "min_height": null,
      "min_width": null,
      "object_fit": null,
      "object_position": null,
      "order": null,
      "overflow": null,
      "overflow_x": null,
      "overflow_y": null,
      "padding": null,
      "right": null,
      "top": null,
      "visibility": null,
      "width": null
     }
    },
    "15e9c8ec8e014f53ba87552b39498577": {
     "model_module": "@jupyter-widgets/base",
     "model_name": "LayoutModel",
     "state": {
      "_model_module": "@jupyter-widgets/base",
      "_model_module_version": "1.2.0",
      "_model_name": "LayoutModel",
      "_view_count": null,
      "_view_module": "@jupyter-widgets/base",
      "_view_module_version": "1.2.0",
      "_view_name": "LayoutView",
      "align_content": null,
      "align_items": null,
      "align_self": null,
      "border": null,
      "bottom": null,
      "display": null,
      "flex": null,
      "flex_flow": null,
      "grid_area": null,
      "grid_auto_columns": null,
      "grid_auto_flow": null,
      "grid_auto_rows": null,
      "grid_column": null,
      "grid_gap": null,
      "grid_row": null,
      "grid_template_areas": null,
      "grid_template_columns": null,
      "grid_template_rows": null,
      "height": null,
      "justify_content": null,
      "justify_items": null,
      "left": null,
      "margin": null,
      "max_height": null,
      "max_width": null,
      "min_height": null,
      "min_width": null,
      "object_fit": null,
      "object_position": null,
      "order": null,
      "overflow": null,
      "overflow_x": null,
      "overflow_y": null,
      "padding": null,
      "right": null,
      "top": null,
      "visibility": null,
      "width": null
     }
    },
    "1f520ba5ee8044f791d8500b9235ec33": {
     "model_module": "@jupyter-widgets/controls",
     "model_name": "HBoxModel",
     "state": {
      "_dom_classes": [],
      "_model_module": "@jupyter-widgets/controls",
      "_model_module_version": "1.5.0",
      "_model_name": "HBoxModel",
      "_view_count": null,
      "_view_module": "@jupyter-widgets/controls",
      "_view_module_version": "1.5.0",
      "_view_name": "HBoxView",
      "box_style": "",
      "children": [
       "IPY_MODEL_8b2148829ba4457f8b4bf803f9512e92",
       "IPY_MODEL_0ce6309824724ce8a330507eda5e43c8"
      ],
      "layout": "IPY_MODEL_a31a4319ce11401982bbedbfcff689f4"
     }
    },
    "1f90afa0d087483b8d395a22d5518bf7": {
     "model_module": "@jupyter-widgets/base",
     "model_name": "LayoutModel",
     "state": {
      "_model_module": "@jupyter-widgets/base",
      "_model_module_version": "1.2.0",
      "_model_name": "LayoutModel",
      "_view_count": null,
      "_view_module": "@jupyter-widgets/base",
      "_view_module_version": "1.2.0",
      "_view_name": "LayoutView",
      "align_content": null,
      "align_items": null,
      "align_self": null,
      "border": null,
      "bottom": null,
      "display": null,
      "flex": null,
      "flex_flow": null,
      "grid_area": null,
      "grid_auto_columns": null,
      "grid_auto_flow": null,
      "grid_auto_rows": null,
      "grid_column": null,
      "grid_gap": null,
      "grid_row": null,
      "grid_template_areas": null,
      "grid_template_columns": null,
      "grid_template_rows": null,
      "height": null,
      "justify_content": null,
      "justify_items": null,
      "left": null,
      "margin": null,
      "max_height": null,
      "max_width": null,
      "min_height": null,
      "min_width": null,
      "object_fit": null,
      "object_position": null,
      "order": null,
      "overflow": null,
      "overflow_x": null,
      "overflow_y": null,
      "padding": null,
      "right": null,
      "top": null,
      "visibility": null,
      "width": null
     }
    },
    "1fef8ac1fcbb4b28b91eb884514290ed": {
     "model_module": "@jupyter-widgets/controls",
     "model_name": "DescriptionStyleModel",
     "state": {
      "_model_module": "@jupyter-widgets/controls",
      "_model_module_version": "1.5.0",
      "_model_name": "DescriptionStyleModel",
      "_view_count": null,
      "_view_module": "@jupyter-widgets/base",
      "_view_module_version": "1.2.0",
      "_view_name": "StyleView",
      "description_width": ""
     }
    },
    "26416bce94ba44b9bf239f939ddc4285": {
     "model_module": "@jupyter-widgets/controls",
     "model_name": "HTMLModel",
     "state": {
      "_dom_classes": [],
      "_model_module": "@jupyter-widgets/controls",
      "_model_module_version": "1.5.0",
      "_model_name": "HTMLModel",
      "_view_count": null,
      "_view_module": "@jupyter-widgets/controls",
      "_view_module_version": "1.5.0",
      "_view_name": "HTMLView",
      "description": "",
      "description_tooltip": null,
      "layout": "IPY_MODEL_1f90afa0d087483b8d395a22d5518bf7",
      "placeholder": "​",
      "style": "IPY_MODEL_de727ea99c8549599b1e7bb0a0dffb48",
      "value": " 456k/456k [00:00&lt;00:00, 1.25MB/s]"
     }
    },
    "288fbe10819c466495c33d00f78bb48b": {
     "model_module": "@jupyter-widgets/controls",
     "model_name": "DescriptionStyleModel",
     "state": {
      "_model_module": "@jupyter-widgets/controls",
      "_model_module_version": "1.5.0",
      "_model_name": "DescriptionStyleModel",
      "_view_count": null,
      "_view_module": "@jupyter-widgets/base",
      "_view_module_version": "1.2.0",
      "_view_name": "StyleView",
      "description_width": ""
     }
    },
    "2f19fe98f77946869afe453cd1f48d5a": {
     "model_module": "@jupyter-widgets/base",
     "model_name": "LayoutModel",
     "state": {
      "_model_module": "@jupyter-widgets/base",
      "_model_module_version": "1.2.0",
      "_model_name": "LayoutModel",
      "_view_count": null,
      "_view_module": "@jupyter-widgets/base",
      "_view_module_version": "1.2.0",
      "_view_name": "LayoutView",
      "align_content": null,
      "align_items": null,
      "align_self": null,
      "border": null,
      "bottom": null,
      "display": null,
      "flex": null,
      "flex_flow": null,
      "grid_area": null,
      "grid_auto_columns": null,
      "grid_auto_flow": null,
      "grid_auto_rows": null,
      "grid_column": null,
      "grid_gap": null,
      "grid_row": null,
      "grid_template_areas": null,
      "grid_template_columns": null,
      "grid_template_rows": null,
      "height": null,
      "justify_content": null,
      "justify_items": null,
      "left": null,
      "margin": null,
      "max_height": null,
      "max_width": null,
      "min_height": null,
      "min_width": null,
      "object_fit": null,
      "object_position": null,
      "order": null,
      "overflow": null,
      "overflow_x": null,
      "overflow_y": null,
      "padding": null,
      "right": null,
      "top": null,
      "visibility": null,
      "width": null
     }
    },
    "2f8b86a97a634ff4ae639a36fe4014a0": {
     "model_module": "@jupyter-widgets/controls",
     "model_name": "HTMLModel",
     "state": {
      "_dom_classes": [],
      "_model_module": "@jupyter-widgets/controls",
      "_model_module_version": "1.5.0",
      "_model_name": "HTMLModel",
      "_view_count": null,
      "_view_module": "@jupyter-widgets/controls",
      "_view_module_version": "1.5.0",
      "_view_name": "HTMLView",
      "description": "",
      "description_tooltip": null,
      "layout": "IPY_MODEL_f5d42a930afd412a8d07c0de05ac6748",
      "placeholder": "​",
      "style": "IPY_MODEL_ab685786b96b42ac98298431c7130a42",
      "value": " 548M/548M [00:18&lt;00:00, 30.0MB/s]"
     }
    },
    "32d639bb014f4d28b225d556164b00a2": {
     "model_module": "@jupyter-widgets/controls",
     "model_name": "DescriptionStyleModel",
     "state": {
      "_model_module": "@jupyter-widgets/controls",
      "_model_module_version": "1.5.0",
      "_model_name": "DescriptionStyleModel",
      "_view_count": null,
      "_view_module": "@jupyter-widgets/base",
      "_view_module_version": "1.2.0",
      "_view_name": "StyleView",
      "description_width": ""
     }
    },
    "4147e7afa6c84f9bb0c16fcb2f6febea": {
     "model_module": "@jupyter-widgets/base",
     "model_name": "LayoutModel",
     "state": {
      "_model_module": "@jupyter-widgets/base",
      "_model_module_version": "1.2.0",
      "_model_name": "LayoutModel",
      "_view_count": null,
      "_view_module": "@jupyter-widgets/base",
      "_view_module_version": "1.2.0",
      "_view_name": "LayoutView",
      "align_content": null,
      "align_items": null,
      "align_self": null,
      "border": null,
      "bottom": null,
      "display": null,
      "flex": null,
      "flex_flow": null,
      "grid_area": null,
      "grid_auto_columns": null,
      "grid_auto_flow": null,
      "grid_auto_rows": null,
      "grid_column": null,
      "grid_gap": null,
      "grid_row": null,
      "grid_template_areas": null,
      "grid_template_columns": null,
      "grid_template_rows": null,
      "height": null,
      "justify_content": null,
      "justify_items": null,
      "left": null,
      "margin": null,
      "max_height": null,
      "max_width": null,
      "min_height": null,
      "min_width": null,
      "object_fit": null,
      "object_position": null,
      "order": null,
      "overflow": null,
      "overflow_x": null,
      "overflow_y": null,
      "padding": null,
      "right": null,
      "top": null,
      "visibility": null,
      "width": null
     }
    },
    "44923abf52754671b7490be4bf22cfff": {
     "model_module": "@jupyter-widgets/base",
     "model_name": "LayoutModel",
     "state": {
      "_model_module": "@jupyter-widgets/base",
      "_model_module_version": "1.2.0",
      "_model_name": "LayoutModel",
      "_view_count": null,
      "_view_module": "@jupyter-widgets/base",
      "_view_module_version": "1.2.0",
      "_view_name": "LayoutView",
      "align_content": null,
      "align_items": null,
      "align_self": null,
      "border": null,
      "bottom": null,
      "display": null,
      "flex": null,
      "flex_flow": null,
      "grid_area": null,
      "grid_auto_columns": null,
      "grid_auto_flow": null,
      "grid_auto_rows": null,
      "grid_column": null,
      "grid_gap": null,
      "grid_row": null,
      "grid_template_areas": null,
      "grid_template_columns": null,
      "grid_template_rows": null,
      "height": null,
      "justify_content": null,
      "justify_items": null,
      "left": null,
      "margin": null,
      "max_height": null,
      "max_width": null,
      "min_height": null,
      "min_width": null,
      "object_fit": null,
      "object_position": null,
      "order": null,
      "overflow": null,
      "overflow_x": null,
      "overflow_y": null,
      "padding": null,
      "right": null,
      "top": null,
      "visibility": null,
      "width": null
     }
    },
    "4c30de6b0a9f4bc0b1f6687817b8f84b": {
     "model_module": "@jupyter-widgets/controls",
     "model_name": "HTMLModel",
     "state": {
      "_dom_classes": [],
      "_model_module": "@jupyter-widgets/controls",
      "_model_module_version": "1.5.0",
      "_model_name": "HTMLModel",
      "_view_count": null,
      "_view_module": "@jupyter-widgets/controls",
      "_view_module_version": "1.5.0",
      "_view_name": "HTMLView",
      "description": "",
      "description_tooltip": null,
      "layout": "IPY_MODEL_9db828b722ad4dd596af0343f22692e2",
      "placeholder": "​",
      "style": "IPY_MODEL_32d639bb014f4d28b225d556164b00a2",
      "value": " 501M/501M [00:20&lt;00:00, 24.2MB/s]"
     }
    },
    "4d965d0562944a10b54c2b97a3fa924c": {
     "model_module": "@jupyter-widgets/controls",
     "model_name": "HBoxModel",
     "state": {
      "_dom_classes": [],
      "_model_module": "@jupyter-widgets/controls",
      "_model_module_version": "1.5.0",
      "_model_name": "HBoxModel",
      "_view_count": null,
      "_view_module": "@jupyter-widgets/controls",
      "_view_module_version": "1.5.0",
      "_view_name": "HBoxView",
      "box_style": "",
      "children": [
       "IPY_MODEL_d11b3239bdfa4e19b8f391df588a516d",
       "IPY_MODEL_2f8b86a97a634ff4ae639a36fe4014a0"
      ],
      "layout": "IPY_MODEL_15e9c8ec8e014f53ba87552b39498577"
     }
    },
    "4e6673a801e64c63a11adafa170c0457": {
     "model_module": "@jupyter-widgets/controls",
     "model_name": "HTMLModel",
     "state": {
      "_dom_classes": [],
      "_model_module": "@jupyter-widgets/controls",
      "_model_module_version": "1.5.0",
      "_model_name": "HTMLModel",
      "_view_count": null,
      "_view_module": "@jupyter-widgets/controls",
      "_view_module_version": "1.5.0",
      "_view_name": "HTMLView",
      "description": "",
      "description_tooltip": null,
      "layout": "IPY_MODEL_4147e7afa6c84f9bb0c16fcb2f6febea",
      "placeholder": "​",
      "style": "IPY_MODEL_288fbe10819c466495c33d00f78bb48b",
      "value": " 1.04M/1.04M [00:01&lt;00:00, 888kB/s]"
     }
    },
    "52e6bc4cb35a4cfeac063246113f925c": {
     "model_module": "@jupyter-widgets/controls",
     "model_name": "DescriptionStyleModel",
     "state": {
      "_model_module": "@jupyter-widgets/controls",
      "_model_module_version": "1.5.0",
      "_model_name": "DescriptionStyleModel",
      "_view_count": null,
      "_view_module": "@jupyter-widgets/base",
      "_view_module_version": "1.2.0",
      "_view_name": "StyleView",
      "description_width": ""
     }
    },
    "5512a5ade6d34906aa6f63730ca40b48": {
     "model_module": "@jupyter-widgets/base",
     "model_name": "LayoutModel",
     "state": {
      "_model_module": "@jupyter-widgets/base",
      "_model_module_version": "1.2.0",
      "_model_name": "LayoutModel",
      "_view_count": null,
      "_view_module": "@jupyter-widgets/base",
      "_view_module_version": "1.2.0",
      "_view_name": "LayoutView",
      "align_content": null,
      "align_items": null,
      "align_self": null,
      "border": null,
      "bottom": null,
      "display": null,
      "flex": null,
      "flex_flow": null,
      "grid_area": null,
      "grid_auto_columns": null,
      "grid_auto_flow": null,
      "grid_auto_rows": null,
      "grid_column": null,
      "grid_gap": null,
      "grid_row": null,
      "grid_template_areas": null,
      "grid_template_columns": null,
      "grid_template_rows": null,
      "height": null,
      "justify_content": null,
      "justify_items": null,
      "left": null,
      "margin": null,
      "max_height": null,
      "max_width": null,
      "min_height": null,
      "min_width": null,
      "object_fit": null,
      "object_position": null,
      "order": null,
      "overflow": null,
      "overflow_x": null,
      "overflow_y": null,
      "padding": null,
      "right": null,
      "top": null,
      "visibility": null,
      "width": null
     }
    },
    "5a46d65384c74b419f27cea6e1d062e1": {
     "model_module": "@jupyter-widgets/controls",
     "model_name": "FloatProgressModel",
     "state": {
      "_dom_classes": [],
      "_model_module": "@jupyter-widgets/controls",
      "_model_module_version": "1.5.0",
      "_model_name": "FloatProgressModel",
      "_view_count": null,
      "_view_module": "@jupyter-widgets/controls",
      "_view_module_version": "1.5.0",
      "_view_name": "ProgressView",
      "bar_style": "success",
      "description": "Downloading: 100%",
      "description_tooltip": null,
      "layout": "IPY_MODEL_2f19fe98f77946869afe453cd1f48d5a",
      "max": 1042301,
      "min": 0,
      "orientation": "horizontal",
      "style": "IPY_MODEL_b0805b651bd44bf580d9360a751aedcc",
      "value": 1042301
     }
    },
    "60bce3fdb7f74a298e9c050345080d75": {
     "model_module": "@jupyter-widgets/base",
     "model_name": "LayoutModel",
     "state": {
      "_model_module": "@jupyter-widgets/base",
      "_model_module_version": "1.2.0",
      "_model_name": "LayoutModel",
      "_view_count": null,
      "_view_module": "@jupyter-widgets/base",
      "_view_module_version": "1.2.0",
      "_view_name": "LayoutView",
      "align_content": null,
      "align_items": null,
      "align_self": null,
      "border": null,
      "bottom": null,
      "display": null,
      "flex": null,
      "flex_flow": null,
      "grid_area": null,
      "grid_auto_columns": null,
      "grid_auto_flow": null,
      "grid_auto_rows": null,
      "grid_column": null,
      "grid_gap": null,
      "grid_row": null,
      "grid_template_areas": null,
      "grid_template_columns": null,
      "grid_template_rows": null,
      "height": null,
      "justify_content": null,
      "justify_items": null,
      "left": null,
      "margin": null,
      "max_height": null,
      "max_width": null,
      "min_height": null,
      "min_width": null,
      "object_fit": null,
      "object_position": null,
      "order": null,
      "overflow": null,
      "overflow_x": null,
      "overflow_y": null,
      "padding": null,
      "right": null,
      "top": null,
      "visibility": null,
      "width": null
     }
    },
    "64b916d3b1a04fdeb3ec09a4741cbe4b": {
     "model_module": "@jupyter-widgets/controls",
     "model_name": "ProgressStyleModel",
     "state": {
      "_model_module": "@jupyter-widgets/controls",
      "_model_module_version": "1.5.0",
      "_model_name": "ProgressStyleModel",
      "_view_count": null,
      "_view_module": "@jupyter-widgets/base",
      "_view_module_version": "1.2.0",
      "_view_name": "StyleView",
      "bar_color": null,
      "description_width": "initial"
     }
    },
    "67137866e3fb41658ecfc5fc3fb00d31": {
     "model_module": "@jupyter-widgets/base",
     "model_name": "LayoutModel",
     "state": {
      "_model_module": "@jupyter-widgets/base",
      "_model_module_version": "1.2.0",
      "_model_name": "LayoutModel",
      "_view_count": null,
      "_view_module": "@jupyter-widgets/base",
      "_view_module_version": "1.2.0",
      "_view_name": "LayoutView",
      "align_content": null,
      "align_items": null,
      "align_self": null,
      "border": null,
      "bottom": null,
      "display": null,
      "flex": null,
      "flex_flow": null,
      "grid_area": null,
      "grid_auto_columns": null,
      "grid_auto_flow": null,
      "grid_auto_rows": null,
      "grid_column": null,
      "grid_gap": null,
      "grid_row": null,
      "grid_template_areas": null,
      "grid_template_columns": null,
      "grid_template_rows": null,
      "height": null,
      "justify_content": null,
      "justify_items": null,
      "left": null,
      "margin": null,
      "max_height": null,
      "max_width": null,
      "min_height": null,
      "min_width": null,
      "object_fit": null,
      "object_position": null,
      "order": null,
      "overflow": null,
      "overflow_x": null,
      "overflow_y": null,
      "padding": null,
      "right": null,
      "top": null,
      "visibility": null,
      "width": null
     }
    },
    "80608508b3844a35bc132a5485736bb6": {
     "model_module": "@jupyter-widgets/base",
     "model_name": "LayoutModel",
     "state": {
      "_model_module": "@jupyter-widgets/base",
      "_model_module_version": "1.2.0",
      "_model_name": "LayoutModel",
      "_view_count": null,
      "_view_module": "@jupyter-widgets/base",
      "_view_module_version": "1.2.0",
      "_view_name": "LayoutView",
      "align_content": null,
      "align_items": null,
      "align_self": null,
      "border": null,
      "bottom": null,
      "display": null,
      "flex": null,
      "flex_flow": null,
      "grid_area": null,
      "grid_auto_columns": null,
      "grid_auto_flow": null,
      "grid_auto_rows": null,
      "grid_column": null,
      "grid_gap": null,
      "grid_row": null,
      "grid_template_areas": null,
      "grid_template_columns": null,
      "grid_template_rows": null,
      "height": null,
      "justify_content": null,
      "justify_items": null,
      "left": null,
      "margin": null,
      "max_height": null,
      "max_width": null,
      "min_height": null,
      "min_width": null,
      "object_fit": null,
      "object_position": null,
      "order": null,
      "overflow": null,
      "overflow_x": null,
      "overflow_y": null,
      "padding": null,
      "right": null,
      "top": null,
      "visibility": null,
      "width": null
     }
    },
    "80c61633347b49928b77c062a8f38add": {
     "model_module": "@jupyter-widgets/controls",
     "model_name": "DescriptionStyleModel",
     "state": {
      "_model_module": "@jupyter-widgets/controls",
      "_model_module_version": "1.5.0",
      "_model_name": "DescriptionStyleModel",
      "_view_count": null,
      "_view_module": "@jupyter-widgets/base",
      "_view_module_version": "1.2.0",
      "_view_name": "StyleView",
      "description_width": ""
     }
    },
    "8450926ab69448989ba7d340de2da7e5": {
     "model_module": "@jupyter-widgets/controls",
     "model_name": "ProgressStyleModel",
     "state": {
      "_model_module": "@jupyter-widgets/controls",
      "_model_module_version": "1.5.0",
      "_model_name": "ProgressStyleModel",
      "_view_count": null,
      "_view_module": "@jupyter-widgets/base",
      "_view_module_version": "1.2.0",
      "_view_name": "StyleView",
      "bar_color": null,
      "description_width": "initial"
     }
    },
    "8a50317f361f4d14bef816a5398d861d": {
     "model_module": "@jupyter-widgets/controls",
     "model_name": "HTMLModel",
     "state": {
      "_dom_classes": [],
      "_model_module": "@jupyter-widgets/controls",
      "_model_module_version": "1.5.0",
      "_model_name": "HTMLModel",
      "_view_count": null,
      "_view_module": "@jupyter-widgets/controls",
      "_view_module_version": "1.5.0",
      "_view_name": "HTMLView",
      "description": "",
      "description_tooltip": null,
      "layout": "IPY_MODEL_eb83b038e0ff4f2a9a01cc8223d0fe6d",
      "placeholder": "​",
      "style": "IPY_MODEL_80c61633347b49928b77c062a8f38add",
      "value": " 899k/899k [00:01&lt;00:00, 751kB/s]"
     }
    },
    "8b2148829ba4457f8b4bf803f9512e92": {
     "model_module": "@jupyter-widgets/controls",
     "model_name": "FloatProgressModel",
     "state": {
      "_dom_classes": [],
      "_model_module": "@jupyter-widgets/controls",
      "_model_module_version": "1.5.0",
      "_model_name": "FloatProgressModel",
      "_view_count": null,
      "_view_module": "@jupyter-widgets/controls",
      "_view_module_version": "1.5.0",
      "_view_name": "ProgressView",
      "bar_style": "success",
      "description": "Downloading: 100%",
      "description_tooltip": null,
      "layout": "IPY_MODEL_b75bf20845d340f0b6e4f440c321851a",
      "max": 665,
      "min": 0,
      "orientation": "horizontal",
      "style": "IPY_MODEL_e9a9a54b96fd4c44a46e589229308015",
      "value": 665
     }
    },
    "92262326a20c413fac50d597bfb5036d": {
     "model_module": "@jupyter-widgets/controls",
     "model_name": "FloatProgressModel",
     "state": {
      "_dom_classes": [],
      "_model_module": "@jupyter-widgets/controls",
      "_model_module_version": "1.5.0",
      "_model_name": "FloatProgressModel",
      "_view_count": null,
      "_view_module": "@jupyter-widgets/controls",
      "_view_module_version": "1.5.0",
      "_view_name": "ProgressView",
      "bar_style": "success",
      "description": "Downloading: 100%",
      "description_tooltip": null,
      "layout": "IPY_MODEL_c2b1ce255ef94be7a043a4fcdaf34318",
      "max": 898823,
      "min": 0,
      "orientation": "horizontal",
      "style": "IPY_MODEL_db8099add1e546f082e3a40bd7c10a86",
      "value": 898823
     }
    },
    "9865ca63588648a6a7756fdac2351d1c": {
     "model_module": "@jupyter-widgets/controls",
     "model_name": "HBoxModel",
     "state": {
      "_dom_classes": [],
      "_model_module": "@jupyter-widgets/controls",
      "_model_module_version": "1.5.0",
      "_model_name": "HBoxModel",
      "_view_count": null,
      "_view_module": "@jupyter-widgets/controls",
      "_view_module_version": "1.5.0",
      "_view_name": "HBoxView",
      "box_style": "",
      "children": [
       "IPY_MODEL_db23c5f8d31d4231b27a94980011037b",
       "IPY_MODEL_bc03ec2aeb824711b65d6e32678d5a37"
      ],
      "layout": "IPY_MODEL_60bce3fdb7f74a298e9c050345080d75"
     }
    },
    "9db828b722ad4dd596af0343f22692e2": {
     "model_module": "@jupyter-widgets/base",
     "model_name": "LayoutModel",
     "state": {
      "_model_module": "@jupyter-widgets/base",
      "_model_module_version": "1.2.0",
      "_model_name": "LayoutModel",
      "_view_count": null,
      "_view_module": "@jupyter-widgets/base",
      "_view_module_version": "1.2.0",
      "_view_name": "LayoutView",
      "align_content": null,
      "align_items": null,
      "align_self": null,
      "border": null,
      "bottom": null,
      "display": null,
      "flex": null,
      "flex_flow": null,
      "grid_area": null,
      "grid_auto_columns": null,
      "grid_auto_flow": null,
      "grid_auto_rows": null,
      "grid_column": null,
      "grid_gap": null,
      "grid_row": null,
      "grid_template_areas": null,
      "grid_template_columns": null,
      "grid_template_rows": null,
      "height": null,
      "justify_content": null,
      "justify_items": null,
      "left": null,
      "margin": null,
      "max_height": null,
      "max_width": null,
      "min_height": null,
      "min_width": null,
      "object_fit": null,
      "object_position": null,
      "order": null,
      "overflow": null,
      "overflow_x": null,
      "overflow_y": null,
      "padding": null,
      "right": null,
      "top": null,
      "visibility": null,
      "width": null
     }
    },
    "a31a4319ce11401982bbedbfcff689f4": {
     "model_module": "@jupyter-widgets/base",
     "model_name": "LayoutModel",
     "state": {
      "_model_module": "@jupyter-widgets/base",
      "_model_module_version": "1.2.0",
      "_model_name": "LayoutModel",
      "_view_count": null,
      "_view_module": "@jupyter-widgets/base",
      "_view_module_version": "1.2.0",
      "_view_name": "LayoutView",
      "align_content": null,
      "align_items": null,
      "align_self": null,
      "border": null,
      "bottom": null,
      "display": null,
      "flex": null,
      "flex_flow": null,
      "grid_area": null,
      "grid_auto_columns": null,
      "grid_auto_flow": null,
      "grid_auto_rows": null,
      "grid_column": null,
      "grid_gap": null,
      "grid_row": null,
      "grid_template_areas": null,
      "grid_template_columns": null,
      "grid_template_rows": null,
      "height": null,
      "justify_content": null,
      "justify_items": null,
      "left": null,
      "margin": null,
      "max_height": null,
      "max_width": null,
      "min_height": null,
      "min_width": null,
      "object_fit": null,
      "object_position": null,
      "order": null,
      "overflow": null,
      "overflow_x": null,
      "overflow_y": null,
      "padding": null,
      "right": null,
      "top": null,
      "visibility": null,
      "width": null
     }
    },
    "a977999188c6407ea2dd11196868b684": {
     "model_module": "@jupyter-widgets/base",
     "model_name": "LayoutModel",
     "state": {
      "_model_module": "@jupyter-widgets/base",
      "_model_module_version": "1.2.0",
      "_model_name": "LayoutModel",
      "_view_count": null,
      "_view_module": "@jupyter-widgets/base",
      "_view_module_version": "1.2.0",
      "_view_name": "LayoutView",
      "align_content": null,
      "align_items": null,
      "align_self": null,
      "border": null,
      "bottom": null,
      "display": null,
      "flex": null,
      "flex_flow": null,
      "grid_area": null,
      "grid_auto_columns": null,
      "grid_auto_flow": null,
      "grid_auto_rows": null,
      "grid_column": null,
      "grid_gap": null,
      "grid_row": null,
      "grid_template_areas": null,
      "grid_template_columns": null,
      "grid_template_rows": null,
      "height": null,
      "justify_content": null,
      "justify_items": null,
      "left": null,
      "margin": null,
      "max_height": null,
      "max_width": null,
      "min_height": null,
      "min_width": null,
      "object_fit": null,
      "object_position": null,
      "order": null,
      "overflow": null,
      "overflow_x": null,
      "overflow_y": null,
      "padding": null,
      "right": null,
      "top": null,
      "visibility": null,
      "width": null
     }
    },
    "ab685786b96b42ac98298431c7130a42": {
     "model_module": "@jupyter-widgets/controls",
     "model_name": "DescriptionStyleModel",
     "state": {
      "_model_module": "@jupyter-widgets/controls",
      "_model_module_version": "1.5.0",
      "_model_name": "DescriptionStyleModel",
      "_view_count": null,
      "_view_module": "@jupyter-widgets/base",
      "_view_module_version": "1.2.0",
      "_view_name": "StyleView",
      "description_width": ""
     }
    },
    "abc0d01e747342a6a615abea4d8a85cb": {
     "model_module": "@jupyter-widgets/base",
     "model_name": "LayoutModel",
     "state": {
      "_model_module": "@jupyter-widgets/base",
      "_model_module_version": "1.2.0",
      "_model_name": "LayoutModel",
      "_view_count": null,
      "_view_module": "@jupyter-widgets/base",
      "_view_module_version": "1.2.0",
      "_view_name": "LayoutView",
      "align_content": null,
      "align_items": null,
      "align_self": null,
      "border": null,
      "bottom": null,
      "display": null,
      "flex": null,
      "flex_flow": null,
      "grid_area": null,
      "grid_auto_columns": null,
      "grid_auto_flow": null,
      "grid_auto_rows": null,
      "grid_column": null,
      "grid_gap": null,
      "grid_row": null,
      "grid_template_areas": null,
      "grid_template_columns": null,
      "grid_template_rows": null,
      "height": null,
      "justify_content": null,
      "justify_items": null,
      "left": null,
      "margin": null,
      "max_height": null,
      "max_width": null,
      "min_height": null,
      "min_width": null,
      "object_fit": null,
      "object_position": null,
      "order": null,
      "overflow": null,
      "overflow_x": null,
      "overflow_y": null,
      "padding": null,
      "right": null,
      "top": null,
      "visibility": null,
      "width": null
     }
    },
    "ac23b0a1b0b74d359ee25da60b242e74": {
     "model_module": "@jupyter-widgets/controls",
     "model_name": "HBoxModel",
     "state": {
      "_dom_classes": [],
      "_model_module": "@jupyter-widgets/controls",
      "_model_module_version": "1.5.0",
      "_model_name": "HBoxModel",
      "_view_count": null,
      "_view_module": "@jupyter-widgets/controls",
      "_view_module_version": "1.5.0",
      "_view_name": "HBoxView",
      "box_style": "",
      "children": [
       "IPY_MODEL_b76e663a7a61495cbe18ddec36a28b48",
       "IPY_MODEL_4c30de6b0a9f4bc0b1f6687817b8f84b"
      ],
      "layout": "IPY_MODEL_ff8b8d547c9e484a8aea2f1c624c42c4"
     }
    },
    "b0805b651bd44bf580d9360a751aedcc": {
     "model_module": "@jupyter-widgets/controls",
     "model_name": "ProgressStyleModel",
     "state": {
      "_model_module": "@jupyter-widgets/controls",
      "_model_module_version": "1.5.0",
      "_model_name": "ProgressStyleModel",
      "_view_count": null,
      "_view_module": "@jupyter-widgets/base",
      "_view_module_version": "1.2.0",
      "_view_name": "StyleView",
      "bar_color": null,
      "description_width": "initial"
     }
    },
    "b75bf20845d340f0b6e4f440c321851a": {
     "model_module": "@jupyter-widgets/base",
     "model_name": "LayoutModel",
     "state": {
      "_model_module": "@jupyter-widgets/base",
      "_model_module_version": "1.2.0",
      "_model_name": "LayoutModel",
      "_view_count": null,
      "_view_module": "@jupyter-widgets/base",
      "_view_module_version": "1.2.0",
      "_view_name": "LayoutView",
      "align_content": null,
      "align_items": null,
      "align_self": null,
      "border": null,
      "bottom": null,
      "display": null,
      "flex": null,
      "flex_flow": null,
      "grid_area": null,
      "grid_auto_columns": null,
      "grid_auto_flow": null,
      "grid_auto_rows": null,
      "grid_column": null,
      "grid_gap": null,
      "grid_row": null,
      "grid_template_areas": null,
      "grid_template_columns": null,
      "grid_template_rows": null,
      "height": null,
      "justify_content": null,
      "justify_items": null,
      "left": null,
      "margin": null,
      "max_height": null,
      "max_width": null,
      "min_height": null,
      "min_width": null,
      "object_fit": null,
      "object_position": null,
      "order": null,
      "overflow": null,
      "overflow_x": null,
      "overflow_y": null,
      "padding": null,
      "right": null,
      "top": null,
      "visibility": null,
      "width": null
     }
    },
    "b76e663a7a61495cbe18ddec36a28b48": {
     "model_module": "@jupyter-widgets/controls",
     "model_name": "FloatProgressModel",
     "state": {
      "_dom_classes": [],
      "_model_module": "@jupyter-widgets/controls",
      "_model_module_version": "1.5.0",
      "_model_name": "FloatProgressModel",
      "_view_count": null,
      "_view_module": "@jupyter-widgets/controls",
      "_view_module_version": "1.5.0",
      "_view_name": "ProgressView",
      "bar_style": "success",
      "description": "Downloading: 100%",
      "description_tooltip": null,
      "layout": "IPY_MODEL_f62ecffcc3d043f1a5badb4091704dfa",
      "max": 501200538,
      "min": 0,
      "orientation": "horizontal",
      "style": "IPY_MODEL_e89c4f9710434bbc8f24cc669c0e6f54",
      "value": 501200538
     }
    },
    "baa67b45425d4ac4a4340832b76da1dd": {
     "model_module": "@jupyter-widgets/controls",
     "model_name": "HTMLModel",
     "state": {
      "_dom_classes": [],
      "_model_module": "@jupyter-widgets/controls",
      "_model_module_version": "1.5.0",
      "_model_name": "HTMLModel",
      "_view_count": null,
      "_view_module": "@jupyter-widgets/controls",
      "_view_module_version": "1.5.0",
      "_view_name": "HTMLView",
      "description": "",
      "description_tooltip": null,
      "layout": "IPY_MODEL_44923abf52754671b7490be4bf22cfff",
      "placeholder": "​",
      "style": "IPY_MODEL_52e6bc4cb35a4cfeac063246113f925c",
      "value": " 481/481 [01:38&lt;00:00, 4.88B/s]"
     }
    },
    "bc03ec2aeb824711b65d6e32678d5a37": {
     "model_module": "@jupyter-widgets/controls",
     "model_name": "HTMLModel",
     "state": {
      "_dom_classes": [],
      "_model_module": "@jupyter-widgets/controls",
      "_model_module_version": "1.5.0",
      "_model_name": "HTMLModel",
      "_view_count": null,
      "_view_module": "@jupyter-widgets/controls",
      "_view_module_version": "1.5.0",
      "_view_name": "HTMLView",
      "description": "",
      "description_tooltip": null,
      "layout": "IPY_MODEL_5512a5ade6d34906aa6f63730ca40b48",
      "placeholder": "​",
      "style": "IPY_MODEL_f3809ece7898444db71a03d329963aed",
      "value": " 456k/456k [00:00&lt;00:00, 1.22MB/s]"
     }
    },
    "c2b1ce255ef94be7a043a4fcdaf34318": {
     "model_module": "@jupyter-widgets/base",
     "model_name": "LayoutModel",
     "state": {
      "_model_module": "@jupyter-widgets/base",
      "_model_module_version": "1.2.0",
      "_model_name": "LayoutModel",
      "_view_count": null,
      "_view_module": "@jupyter-widgets/base",
      "_view_module_version": "1.2.0",
      "_view_name": "LayoutView",
      "align_content": null,
      "align_items": null,
      "align_self": null,
      "border": null,
      "bottom": null,
      "display": null,
      "flex": null,
      "flex_flow": null,
      "grid_area": null,
      "grid_auto_columns": null,
      "grid_auto_flow": null,
      "grid_auto_rows": null,
      "grid_column": null,
      "grid_gap": null,
      "grid_row": null,
      "grid_template_areas": null,
      "grid_template_columns": null,
      "grid_template_rows": null,
      "height": null,
      "justify_content": null,
      "justify_items": null,
      "left": null,
      "margin": null,
      "max_height": null,
      "max_width": null,
      "min_height": null,
      "min_width": null,
      "object_fit": null,
      "object_position": null,
      "order": null,
      "overflow": null,
      "overflow_x": null,
      "overflow_y": null,
      "padding": null,
      "right": null,
      "top": null,
      "visibility": null,
      "width": null
     }
    },
    "ca7f1102b4fe49118384f6d7d2775261": {
     "model_module": "@jupyter-widgets/controls",
     "model_name": "ProgressStyleModel",
     "state": {
      "_model_module": "@jupyter-widgets/controls",
      "_model_module_version": "1.5.0",
      "_model_name": "ProgressStyleModel",
      "_view_count": null,
      "_view_module": "@jupyter-widgets/base",
      "_view_module_version": "1.2.0",
      "_view_name": "StyleView",
      "bar_color": null,
      "description_width": "initial"
     }
    },
    "ca931c56e32c4961905cd12deb64b609": {
     "model_module": "@jupyter-widgets/base",
     "model_name": "LayoutModel",
     "state": {
      "_model_module": "@jupyter-widgets/base",
      "_model_module_version": "1.2.0",
      "_model_name": "LayoutModel",
      "_view_count": null,
      "_view_module": "@jupyter-widgets/base",
      "_view_module_version": "1.2.0",
      "_view_name": "LayoutView",
      "align_content": null,
      "align_items": null,
      "align_self": null,
      "border": null,
      "bottom": null,
      "display": null,
      "flex": null,
      "flex_flow": null,
      "grid_area": null,
      "grid_auto_columns": null,
      "grid_auto_flow": null,
      "grid_auto_rows": null,
      "grid_column": null,
      "grid_gap": null,
      "grid_row": null,
      "grid_template_areas": null,
      "grid_template_columns": null,
      "grid_template_rows": null,
      "height": null,
      "justify_content": null,
      "justify_items": null,
      "left": null,
      "margin": null,
      "max_height": null,
      "max_width": null,
      "min_height": null,
      "min_width": null,
      "object_fit": null,
      "object_position": null,
      "order": null,
      "overflow": null,
      "overflow_x": null,
      "overflow_y": null,
      "padding": null,
      "right": null,
      "top": null,
      "visibility": null,
      "width": null
     }
    },
    "d11b3239bdfa4e19b8f391df588a516d": {
     "model_module": "@jupyter-widgets/controls",
     "model_name": "FloatProgressModel",
     "state": {
      "_dom_classes": [],
      "_model_module": "@jupyter-widgets/controls",
      "_model_module_version": "1.5.0",
      "_model_name": "FloatProgressModel",
      "_view_count": null,
      "_view_module": "@jupyter-widgets/controls",
      "_view_module_version": "1.5.0",
      "_view_name": "ProgressView",
      "bar_style": "success",
      "description": "Downloading: 100%",
      "description_tooltip": null,
      "layout": "IPY_MODEL_11fbf5f248f94a22aa856ecb422f1c0e",
      "max": 548118077,
      "min": 0,
      "orientation": "horizontal",
      "style": "IPY_MODEL_8450926ab69448989ba7d340de2da7e5",
      "value": 548118077
     }
    },
    "d5f3adf99a3e49dbae9be3507f0facfd": {
     "model_module": "@jupyter-widgets/base",
     "model_name": "LayoutModel",
     "state": {
      "_model_module": "@jupyter-widgets/base",
      "_model_module_version": "1.2.0",
      "_model_name": "LayoutModel",
      "_view_count": null,
      "_view_module": "@jupyter-widgets/base",
      "_view_module_version": "1.2.0",
      "_view_name": "LayoutView",
      "align_content": null,
      "align_items": null,
      "align_self": null,
      "border": null,
      "bottom": null,
      "display": null,
      "flex": null,
      "flex_flow": null,
      "grid_area": null,
      "grid_auto_columns": null,
      "grid_auto_flow": null,
      "grid_auto_rows": null,
      "grid_column": null,
      "grid_gap": null,
      "grid_row": null,
      "grid_template_areas": null,
      "grid_template_columns": null,
      "grid_template_rows": null,
      "height": null,
      "justify_content": null,
      "justify_items": null,
      "left": null,
      "margin": null,
      "max_height": null,
      "max_width": null,
      "min_height": null,
      "min_width": null,
      "object_fit": null,
      "object_position": null,
      "order": null,
      "overflow": null,
      "overflow_x": null,
      "overflow_y": null,
      "padding": null,
      "right": null,
      "top": null,
      "visibility": null,
      "width": null
     }
    },
    "da5b45ced8b646bbbb4f8be7d34fe292": {
     "model_module": "@jupyter-widgets/controls",
     "model_name": "FloatProgressModel",
     "state": {
      "_dom_classes": [],
      "_model_module": "@jupyter-widgets/controls",
      "_model_module_version": "1.5.0",
      "_model_name": "FloatProgressModel",
      "_view_count": null,
      "_view_module": "@jupyter-widgets/controls",
      "_view_module_version": "1.5.0",
      "_view_name": "ProgressView",
      "bar_style": "success",
      "description": "Downloading: 100%",
      "description_tooltip": null,
      "layout": "IPY_MODEL_d5f3adf99a3e49dbae9be3507f0facfd",
      "max": 481,
      "min": 0,
      "orientation": "horizontal",
      "style": "IPY_MODEL_ddef0c6bbe2543c9a83d4d9fbc9c1435",
      "value": 481
     }
    },
    "db23c5f8d31d4231b27a94980011037b": {
     "model_module": "@jupyter-widgets/controls",
     "model_name": "FloatProgressModel",
     "state": {
      "_dom_classes": [],
      "_model_module": "@jupyter-widgets/controls",
      "_model_module_version": "1.5.0",
      "_model_name": "FloatProgressModel",
      "_view_count": null,
      "_view_module": "@jupyter-widgets/controls",
      "_view_module_version": "1.5.0",
      "_view_name": "ProgressView",
      "bar_style": "success",
      "description": "Downloading: 100%",
      "description_tooltip": null,
      "layout": "IPY_MODEL_0193b780c11b4b62af341c6eb2da0d7d",
      "max": 456318,
      "min": 0,
      "orientation": "horizontal",
      "style": "IPY_MODEL_ca7f1102b4fe49118384f6d7d2775261",
      "value": 456318
     }
    },
    "db8099add1e546f082e3a40bd7c10a86": {
     "model_module": "@jupyter-widgets/controls",
     "model_name": "ProgressStyleModel",
     "state": {
      "_model_module": "@jupyter-widgets/controls",
      "_model_module_version": "1.5.0",
      "_model_name": "ProgressStyleModel",
      "_view_count": null,
      "_view_module": "@jupyter-widgets/base",
      "_view_module_version": "1.2.0",
      "_view_name": "StyleView",
      "bar_color": null,
      "description_width": "initial"
     }
    },
    "ddd9e08188864343ac026a4ff3e278ae": {
     "model_module": "@jupyter-widgets/controls",
     "model_name": "HBoxModel",
     "state": {
      "_dom_classes": [],
      "_model_module": "@jupyter-widgets/controls",
      "_model_module_version": "1.5.0",
      "_model_name": "HBoxModel",
      "_view_count": null,
      "_view_module": "@jupyter-widgets/controls",
      "_view_module_version": "1.5.0",
      "_view_name": "HBoxView",
      "box_style": "",
      "children": [
       "IPY_MODEL_92262326a20c413fac50d597bfb5036d",
       "IPY_MODEL_8a50317f361f4d14bef816a5398d861d"
      ],
      "layout": "IPY_MODEL_67137866e3fb41658ecfc5fc3fb00d31"
     }
    },
    "ddef0c6bbe2543c9a83d4d9fbc9c1435": {
     "model_module": "@jupyter-widgets/controls",
     "model_name": "ProgressStyleModel",
     "state": {
      "_model_module": "@jupyter-widgets/controls",
      "_model_module_version": "1.5.0",
      "_model_name": "ProgressStyleModel",
      "_view_count": null,
      "_view_module": "@jupyter-widgets/base",
      "_view_module_version": "1.2.0",
      "_view_name": "StyleView",
      "bar_color": null,
      "description_width": "initial"
     }
    },
    "de727ea99c8549599b1e7bb0a0dffb48": {
     "model_module": "@jupyter-widgets/controls",
     "model_name": "DescriptionStyleModel",
     "state": {
      "_model_module": "@jupyter-widgets/controls",
      "_model_module_version": "1.5.0",
      "_model_name": "DescriptionStyleModel",
      "_view_count": null,
      "_view_module": "@jupyter-widgets/base",
      "_view_module_version": "1.2.0",
      "_view_name": "StyleView",
      "description_width": ""
     }
    },
    "e05071da56124c90918ef1836b480280": {
     "model_module": "@jupyter-widgets/controls",
     "model_name": "FloatProgressModel",
     "state": {
      "_dom_classes": [],
      "_model_module": "@jupyter-widgets/controls",
      "_model_module_version": "1.5.0",
      "_model_name": "FloatProgressModel",
      "_view_count": null,
      "_view_module": "@jupyter-widgets/controls",
      "_view_module_version": "1.5.0",
      "_view_name": "ProgressView",
      "bar_style": "success",
      "description": "Downloading: 100%",
      "description_tooltip": null,
      "layout": "IPY_MODEL_f4c93f5f86c04bffb4ff049d17153f96",
      "max": 456318,
      "min": 0,
      "orientation": "horizontal",
      "style": "IPY_MODEL_64b916d3b1a04fdeb3ec09a4741cbe4b",
      "value": 456318
     }
    },
    "e2b6a2a86c3044e689a1a1fc07aa4d0a": {
     "model_module": "@jupyter-widgets/controls",
     "model_name": "HBoxModel",
     "state": {
      "_dom_classes": [],
      "_model_module": "@jupyter-widgets/controls",
      "_model_module_version": "1.5.0",
      "_model_name": "HBoxModel",
      "_view_count": null,
      "_view_module": "@jupyter-widgets/controls",
      "_view_module_version": "1.5.0",
      "_view_name": "HBoxView",
      "box_style": "",
      "children": [
       "IPY_MODEL_e05071da56124c90918ef1836b480280",
       "IPY_MODEL_26416bce94ba44b9bf239f939ddc4285"
      ],
      "layout": "IPY_MODEL_abc0d01e747342a6a615abea4d8a85cb"
     }
    },
    "e4b9944ee5a044fb9672e1e7b7114eeb": {
     "model_module": "@jupyter-widgets/controls",
     "model_name": "HBoxModel",
     "state": {
      "_dom_classes": [],
      "_model_module": "@jupyter-widgets/controls",
      "_model_module_version": "1.5.0",
      "_model_name": "HBoxModel",
      "_view_count": null,
      "_view_module": "@jupyter-widgets/controls",
      "_view_module_version": "1.5.0",
      "_view_name": "HBoxView",
      "box_style": "",
      "children": [
       "IPY_MODEL_da5b45ced8b646bbbb4f8be7d34fe292",
       "IPY_MODEL_baa67b45425d4ac4a4340832b76da1dd"
      ],
      "layout": "IPY_MODEL_a977999188c6407ea2dd11196868b684"
     }
    },
    "e89c4f9710434bbc8f24cc669c0e6f54": {
     "model_module": "@jupyter-widgets/controls",
     "model_name": "ProgressStyleModel",
     "state": {
      "_model_module": "@jupyter-widgets/controls",
      "_model_module_version": "1.5.0",
      "_model_name": "ProgressStyleModel",
      "_view_count": null,
      "_view_module": "@jupyter-widgets/base",
      "_view_module_version": "1.2.0",
      "_view_name": "StyleView",
      "bar_color": null,
      "description_width": "initial"
     }
    },
    "e9a9a54b96fd4c44a46e589229308015": {
     "model_module": "@jupyter-widgets/controls",
     "model_name": "ProgressStyleModel",
     "state": {
      "_model_module": "@jupyter-widgets/controls",
      "_model_module_version": "1.5.0",
      "_model_name": "ProgressStyleModel",
      "_view_count": null,
      "_view_module": "@jupyter-widgets/base",
      "_view_module_version": "1.2.0",
      "_view_name": "StyleView",
      "bar_color": null,
      "description_width": "initial"
     }
    },
    "eb83b038e0ff4f2a9a01cc8223d0fe6d": {
     "model_module": "@jupyter-widgets/base",
     "model_name": "LayoutModel",
     "state": {
      "_model_module": "@jupyter-widgets/base",
      "_model_module_version": "1.2.0",
      "_model_name": "LayoutModel",
      "_view_count": null,
      "_view_module": "@jupyter-widgets/base",
      "_view_module_version": "1.2.0",
      "_view_name": "LayoutView",
      "align_content": null,
      "align_items": null,
      "align_self": null,
      "border": null,
      "bottom": null,
      "display": null,
      "flex": null,
      "flex_flow": null,
      "grid_area": null,
      "grid_auto_columns": null,
      "grid_auto_flow": null,
      "grid_auto_rows": null,
      "grid_column": null,
      "grid_gap": null,
      "grid_row": null,
      "grid_template_areas": null,
      "grid_template_columns": null,
      "grid_template_rows": null,
      "height": null,
      "justify_content": null,
      "justify_items": null,
      "left": null,
      "margin": null,
      "max_height": null,
      "max_width": null,
      "min_height": null,
      "min_width": null,
      "object_fit": null,
      "object_position": null,
      "order": null,
      "overflow": null,
      "overflow_x": null,
      "overflow_y": null,
      "padding": null,
      "right": null,
      "top": null,
      "visibility": null,
      "width": null
     }
    },
    "f3809ece7898444db71a03d329963aed": {
     "model_module": "@jupyter-widgets/controls",
     "model_name": "DescriptionStyleModel",
     "state": {
      "_model_module": "@jupyter-widgets/controls",
      "_model_module_version": "1.5.0",
      "_model_name": "DescriptionStyleModel",
      "_view_count": null,
      "_view_module": "@jupyter-widgets/base",
      "_view_module_version": "1.2.0",
      "_view_name": "StyleView",
      "description_width": ""
     }
    },
    "f4c93f5f86c04bffb4ff049d17153f96": {
     "model_module": "@jupyter-widgets/base",
     "model_name": "LayoutModel",
     "state": {
      "_model_module": "@jupyter-widgets/base",
      "_model_module_version": "1.2.0",
      "_model_name": "LayoutModel",
      "_view_count": null,
      "_view_module": "@jupyter-widgets/base",
      "_view_module_version": "1.2.0",
      "_view_name": "LayoutView",
      "align_content": null,
      "align_items": null,
      "align_self": null,
      "border": null,
      "bottom": null,
      "display": null,
      "flex": null,
      "flex_flow": null,
      "grid_area": null,
      "grid_auto_columns": null,
      "grid_auto_flow": null,
      "grid_auto_rows": null,
      "grid_column": null,
      "grid_gap": null,
      "grid_row": null,
      "grid_template_areas": null,
      "grid_template_columns": null,
      "grid_template_rows": null,
      "height": null,
      "justify_content": null,
      "justify_items": null,
      "left": null,
      "margin": null,
      "max_height": null,
      "max_width": null,
      "min_height": null,
      "min_width": null,
      "object_fit": null,
      "object_position": null,
      "order": null,
      "overflow": null,
      "overflow_x": null,
      "overflow_y": null,
      "padding": null,
      "right": null,
      "top": null,
      "visibility": null,
      "width": null
     }
    },
    "f5d42a930afd412a8d07c0de05ac6748": {
     "model_module": "@jupyter-widgets/base",
     "model_name": "LayoutModel",
     "state": {
      "_model_module": "@jupyter-widgets/base",
      "_model_module_version": "1.2.0",
      "_model_name": "LayoutModel",
      "_view_count": null,
      "_view_module": "@jupyter-widgets/base",
      "_view_module_version": "1.2.0",
      "_view_name": "LayoutView",
      "align_content": null,
      "align_items": null,
      "align_self": null,
      "border": null,
      "bottom": null,
      "display": null,
      "flex": null,
      "flex_flow": null,
      "grid_area": null,
      "grid_auto_columns": null,
      "grid_auto_flow": null,
      "grid_auto_rows": null,
      "grid_column": null,
      "grid_gap": null,
      "grid_row": null,
      "grid_template_areas": null,
      "grid_template_columns": null,
      "grid_template_rows": null,
      "height": null,
      "justify_content": null,
      "justify_items": null,
      "left": null,
      "margin": null,
      "max_height": null,
      "max_width": null,
      "min_height": null,
      "min_width": null,
      "object_fit": null,
      "object_position": null,
      "order": null,
      "overflow": null,
      "overflow_x": null,
      "overflow_y": null,
      "padding": null,
      "right": null,
      "top": null,
      "visibility": null,
      "width": null
     }
    },
    "f62ecffcc3d043f1a5badb4091704dfa": {
     "model_module": "@jupyter-widgets/base",
     "model_name": "LayoutModel",
     "state": {
      "_model_module": "@jupyter-widgets/base",
      "_model_module_version": "1.2.0",
      "_model_name": "LayoutModel",
      "_view_count": null,
      "_view_module": "@jupyter-widgets/base",
      "_view_module_version": "1.2.0",
      "_view_name": "LayoutView",
      "align_content": null,
      "align_items": null,
      "align_self": null,
      "border": null,
      "bottom": null,
      "display": null,
      "flex": null,
      "flex_flow": null,
      "grid_area": null,
      "grid_auto_columns": null,
      "grid_auto_flow": null,
      "grid_auto_rows": null,
      "grid_column": null,
      "grid_gap": null,
      "grid_row": null,
      "grid_template_areas": null,
      "grid_template_columns": null,
      "grid_template_rows": null,
      "height": null,
      "justify_content": null,
      "justify_items": null,
      "left": null,
      "margin": null,
      "max_height": null,
      "max_width": null,
      "min_height": null,
      "min_width": null,
      "object_fit": null,
      "object_position": null,
      "order": null,
      "overflow": null,
      "overflow_x": null,
      "overflow_y": null,
      "padding": null,
      "right": null,
      "top": null,
      "visibility": null,
      "width": null
     }
    },
    "ff8b8d547c9e484a8aea2f1c624c42c4": {
     "model_module": "@jupyter-widgets/base",
     "model_name": "LayoutModel",
     "state": {
      "_model_module": "@jupyter-widgets/base",
      "_model_module_version": "1.2.0",
      "_model_name": "LayoutModel",
      "_view_count": null,
      "_view_module": "@jupyter-widgets/base",
      "_view_module_version": "1.2.0",
      "_view_name": "LayoutView",
      "align_content": null,
      "align_items": null,
      "align_self": null,
      "border": null,
      "bottom": null,
      "display": null,
      "flex": null,
      "flex_flow": null,
      "grid_area": null,
      "grid_auto_columns": null,
      "grid_auto_flow": null,
      "grid_auto_rows": null,
      "grid_column": null,
      "grid_gap": null,
      "grid_row": null,
      "grid_template_areas": null,
      "grid_template_columns": null,
      "grid_template_rows": null,
      "height": null,
      "justify_content": null,
      "justify_items": null,
      "left": null,
      "margin": null,
      "max_height": null,
      "max_width": null,
      "min_height": null,
      "min_width": null,
      "object_fit": null,
      "object_position": null,
      "order": null,
      "overflow": null,
      "overflow_x": null,
      "overflow_y": null,
      "padding": null,
      "right": null,
      "top": null,
      "visibility": null,
      "width": null
     }
    }
   }
  }
 },
 "nbformat": 4,
 "nbformat_minor": 1
}
