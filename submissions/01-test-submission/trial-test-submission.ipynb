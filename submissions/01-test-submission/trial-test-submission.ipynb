{
 "cells": [
  {
   "cell_type": "code",
   "execution_count": 1,
   "metadata": {},
   "outputs": [
    {
     "name": "stdout",
     "output_type": "stream",
     "text": [
      "data  datavisualizer  evaluator  papers  README.md  submissions\r\n"
     ]
    }
   ],
   "source": [
    "!ls .."
   ]
  },
  {
   "cell_type": "code",
   "execution_count": 2,
   "metadata": {},
   "outputs": [
    {
     "name": "stdout",
     "output_type": "stream",
     "text": [
      "tsd_train.csv  tsd_trial.csv\r\n"
     ]
    }
   ],
   "source": [
    "!ls ../data/dataset"
   ]
  },
  {
   "cell_type": "code",
   "execution_count": 1,
   "metadata": {},
   "outputs": [
    {
     "name": "stdout",
     "output_type": "stream",
     "text": [
      "the shape of trial set is: (690, 2)\n"
     ]
    },
    {
     "data": {
      "text/html": [
       "<div>\n",
       "<style scoped>\n",
       "    .dataframe tbody tr th:only-of-type {\n",
       "        vertical-align: middle;\n",
       "    }\n",
       "\n",
       "    .dataframe tbody tr th {\n",
       "        vertical-align: top;\n",
       "    }\n",
       "\n",
       "    .dataframe thead th {\n",
       "        text-align: right;\n",
       "    }\n",
       "</style>\n",
       "<table border=\"1\" class=\"dataframe\">\n",
       "  <thead>\n",
       "    <tr style=\"text-align: right;\">\n",
       "      <th></th>\n",
       "      <th>spans</th>\n",
       "      <th>text</th>\n",
       "    </tr>\n",
       "  </thead>\n",
       "  <tbody>\n",
       "    <tr>\n",
       "      <th>0</th>\n",
       "      <td>[15, 16, 17, 18, 19, 27, 28, 29, 30, 31]</td>\n",
       "      <td>Because he's a moron and a bigot. It's not any...</td>\n",
       "    </tr>\n",
       "    <tr>\n",
       "      <th>1</th>\n",
       "      <td>[29, 30, 31, 32, 33, 34]</td>\n",
       "      <td>How about we stop protecting idiots and let na...</td>\n",
       "    </tr>\n",
       "  </tbody>\n",
       "</table>\n",
       "</div>"
      ],
      "text/plain": [
       "                                      spans  \\\n",
       "0  [15, 16, 17, 18, 19, 27, 28, 29, 30, 31]   \n",
       "1                  [29, 30, 31, 32, 33, 34]   \n",
       "\n",
       "                                                text  \n",
       "0  Because he's a moron and a bigot. It's not any...  \n",
       "1  How about we stop protecting idiots and let na...  "
      ]
     },
     "metadata": {},
     "output_type": "display_data"
    }
   ],
   "source": [
    "import __init__\n",
    "import pandas as pd\n",
    "from ast import literal_eval\n",
    "\n",
    "trial = pd.read_csv(\"../data/dataset/tsd_trial.csv\")\n",
    "trial[\"spans\"] = trial.spans.apply(literal_eval)\n",
    "print(\"the shape of trial set is:\", trial.shape)\n",
    "display(trial.head(2))"
   ]
  },
  {
   "cell_type": "code",
   "execution_count": 2,
   "metadata": {},
   "outputs": [
    {
     "name": "stdout",
     "output_type": "stream",
     "text": [
      "Gold\t\t: [10, 11, 12, 13, 14, 15, 16]\n",
      "Predicted\t: [3, 4, 5, 7, 8, 9, 12, 13, 14, 17, 19, 21, 24, 25]\n"
     ]
    }
   ],
   "source": [
    "import random\n",
    "\n",
    "# make an example with a taboo word\n",
    "taboo_word = \"fucking\"\n",
    "template = f\"This is a {taboo_word} example.\"\n",
    "\n",
    "# build a random baseline (yields offsets at random)\n",
    "random_baseline = lambda text: [i for i, char in enumerate(text) if random.random()>0.5]\n",
    "predictions = random_baseline(template)\n",
    "\n",
    "# find the ground truth indices and print\n",
    "gold = list(range(template.index(taboo_word), template.index(taboo_word)+len(taboo_word)))\n",
    "\n",
    "print(f\"Gold\\t\\t: {gold}\")\n",
    "print(f\"Predicted\\t: {predictions}\")"
   ]
  },
  {
   "cell_type": "code",
   "execution_count": 18,
   "metadata": {
    "scrolled": true
   },
   "outputs": [
    {
     "data": {
      "text/html": [
       "<div>\n",
       "<style scoped>\n",
       "    .dataframe tbody tr th:only-of-type {\n",
       "        vertical-align: middle;\n",
       "    }\n",
       "\n",
       "    .dataframe tbody tr th {\n",
       "        vertical-align: top;\n",
       "    }\n",
       "\n",
       "    .dataframe thead th {\n",
       "        text-align: right;\n",
       "    }\n",
       "</style>\n",
       "<table border=\"1\" class=\"dataframe\">\n",
       "  <thead>\n",
       "    <tr style=\"text-align: right;\">\n",
       "      <th></th>\n",
       "      <th>spans</th>\n",
       "      <th>text</th>\n",
       "      <th>random_predictions</th>\n",
       "      <th>f1_scores</th>\n",
       "      <th>recall</th>\n",
       "      <th>precision</th>\n",
       "    </tr>\n",
       "  </thead>\n",
       "  <tbody>\n",
       "    <tr>\n",
       "      <th>0</th>\n",
       "      <td>[15, 16, 17, 18, 19, 27, 28, 29, 30, 31]</td>\n",
       "      <td>Because he's a moron and a bigot. It's not any...</td>\n",
       "      <td>[1, 3, 4, 7, 10, 12, 14, 16, 17, 18, 19, 20, 2...</td>\n",
       "      <td>0.296296</td>\n",
       "      <td>0.800000</td>\n",
       "      <td>0.181818</td>\n",
       "    </tr>\n",
       "    <tr>\n",
       "      <th>1</th>\n",
       "      <td>[29, 30, 31, 32, 33, 34]</td>\n",
       "      <td>How about we stop protecting idiots and let na...</td>\n",
       "      <td>[0, 2, 4, 6, 7, 8, 9, 12, 16, 19, 21, 22, 25, ...</td>\n",
       "      <td>0.106667</td>\n",
       "      <td>0.666667</td>\n",
       "      <td>0.057971</td>\n",
       "    </tr>\n",
       "    <tr>\n",
       "      <th>2</th>\n",
       "      <td>[166, 167, 168, 169, 170, 171]</td>\n",
       "      <td>If people  were  smart, they would  Boycott th...</td>\n",
       "      <td>[0, 1, 3, 4, 7, 9, 12, 13, 15, 16, 17, 18, 20,...</td>\n",
       "      <td>0.060606</td>\n",
       "      <td>0.500000</td>\n",
       "      <td>0.032258</td>\n",
       "    </tr>\n",
       "    <tr>\n",
       "      <th>3</th>\n",
       "      <td>[87, 88, 89, 90, 91, 92]</td>\n",
       "      <td>Trump Claimed that Russia will never invade th...</td>\n",
       "      <td>[0, 5, 6, 7, 9, 12, 15, 18, 19, 25, 26, 28, 31...</td>\n",
       "      <td>0.101695</td>\n",
       "      <td>0.500000</td>\n",
       "      <td>0.056604</td>\n",
       "    </tr>\n",
       "    <tr>\n",
       "      <th>4</th>\n",
       "      <td>[]</td>\n",
       "      <td>As long as your willing to pay a lot more for ...</td>\n",
       "      <td>[0, 1, 4, 6, 7, 8, 10, 11, 12, 13, 14, 16, 18,...</td>\n",
       "      <td>0.000000</td>\n",
       "      <td>0.000000</td>\n",
       "      <td>0.000000</td>\n",
       "    </tr>\n",
       "  </tbody>\n",
       "</table>\n",
       "</div>"
      ],
      "text/plain": [
       "                                      spans  \\\n",
       "0  [15, 16, 17, 18, 19, 27, 28, 29, 30, 31]   \n",
       "1                  [29, 30, 31, 32, 33, 34]   \n",
       "2            [166, 167, 168, 169, 170, 171]   \n",
       "3                  [87, 88, 89, 90, 91, 92]   \n",
       "4                                        []   \n",
       "\n",
       "                                                text  \\\n",
       "0  Because he's a moron and a bigot. It's not any...   \n",
       "1  How about we stop protecting idiots and let na...   \n",
       "2  If people  were  smart, they would  Boycott th...   \n",
       "3  Trump Claimed that Russia will never invade th...   \n",
       "4  As long as your willing to pay a lot more for ...   \n",
       "\n",
       "                                  random_predictions  f1_scores    recall  \\\n",
       "0  [1, 3, 4, 7, 10, 12, 14, 16, 17, 18, 19, 20, 2...   0.296296  0.800000   \n",
       "1  [0, 2, 4, 6, 7, 8, 9, 12, 16, 19, 21, 22, 25, ...   0.106667  0.666667   \n",
       "2  [0, 1, 3, 4, 7, 9, 12, 13, 15, 16, 17, 18, 20,...   0.060606  0.500000   \n",
       "3  [0, 5, 6, 7, 9, 12, 15, 18, 19, 25, 26, 28, 31...   0.101695  0.500000   \n",
       "4  [0, 1, 4, 6, 7, 8, 10, 11, 12, 13, 14, 16, 18,...   0.000000  0.000000   \n",
       "\n",
       "   precision  \n",
       "0   0.181818  \n",
       "1   0.057971  \n",
       "2   0.032258  \n",
       "3   0.056604  \n",
       "4   0.000000  "
      ]
     },
     "execution_count": 18,
     "metadata": {},
     "output_type": "execute_result"
    }
   ],
   "source": [
    "#%tb\n",
    "from evaluator.metrics import f1_score, evaluate, recall, precision\n",
    "\n",
    "random.seed(3)\n",
    "\n",
    "trial[\"random_predictions\"] = trial.text.apply(random_baseline)\n",
    "trial[\"f1_scores\"] = trial.apply(lambda row: f1_score(row.spans, row.random_predictions), axis=1)\n",
    "trial[\"recall\"] = trial.apply(lambda row: recall(row.spans, row.random_predictions), axis=1)\n",
    "trial[\"precision\"] = trial.apply(lambda row: precision(row.spans, row.random_predictions), axis=1)\n",
    "\n",
    "trial.head()"
   ]
  },
  {
   "cell_type": "code",
   "execution_count": 19,
   "metadata": {},
   "outputs": [
    {
     "name": "stdout",
     "output_type": "stream",
     "text": [
      "F1 = 0.18 ± 0.01\n",
      "R = 0.47 ± 0.01\n",
      "P = 0.14 ± 0.01\n"
     ]
    },
    {
     "data": {
      "image/png": "[encoded data removed]",
      "text/plain": [
       "<Figure size 432x288 with 1 Axes>"
      ]
     },
     "metadata": {
      "needs_background": "light"
     },
     "output_type": "display_data"
    }
   ],
   "source": [
    "from scipy.stats import sem\n",
    "\n",
    "_ = trial.f1_scores.plot(kind=\"box\")\n",
    "\n",
    "print (f\"F1 = {trial.f1_scores.mean():.2f} ± {sem(trial.f1_scores):.2f}\")\n",
    "print (f\"R = {trial.recall.mean():.2f} ± {sem(trial.recall):.2f}\")\n",
    "print (f\"P = {trial.precision.mean():.2f} ± {sem(trial.precision):.2f}\")"
   ]
  },
  {
   "cell_type": "code",
   "execution_count": 17,
   "metadata": {},
   "outputs": [
    {
     "name": "stdout",
     "output_type": "stream",
     "text": [
      "F1-Score : 0.17558205140514688\n",
      "Precision: 0.14355952186030216\n",
      "Recall   : 0.46936102424581644\n"
     ]
    }
   ],
   "source": [
    "f1, p, r = evaluate(trial.spans.tolist(), trial.random_predictions.tolist())\n",
    "print(\"F1-Score :\", f1 )\n",
    "print(\"Precision:\", p)\n",
    "print(\"Recall   :\", r)"
   ]
  },
  {
   "cell_type": "code",
   "execution_count": 10,
   "metadata": {},
   "outputs": [],
   "source": [
    "predictions = trial.random_predictions.to_list()\n",
    "ids = trial.index.to_list()\n",
    "\n",
    "with open(\"spans-pred.txt\", \"w\") as out:\n",
    "    for uid, text_scores in zip(ids, predictions):\n",
    "        out.write(f\"{str(uid)}\\t{str(text_scores)}\\n\")"
   ]
  },
  {
   "cell_type": "code",
   "execution_count": 11,
   "metadata": {},
   "outputs": [
    {
     "name": "stdout",
     "output_type": "stream",
     "text": [
      "  adding: spans-pred.txt (deflated 77%)\n"
     ]
    }
   ],
   "source": [
    "!zip -r random_predictions.zip ./spans-pred.*"
   ]
  },
  {
   "cell_type": "code",
   "execution_count": 12,
   "metadata": {},
   "outputs": [
    {
     "name": "stdout",
     "output_type": "stream",
     "text": [
      "Archive:  random_predictions.zip\r\n",
      "  inflating: spans-pred.txt          \r\n"
     ]
    }
   ],
   "source": [
    "! rm spans-pred.txt\n",
    "! unzip random_predictions.zip"
   ]
  },
  {
   "cell_type": "code",
   "execution_count": null,
   "metadata": {},
   "outputs": [],
   "source": []
  }
 ],
 "metadata": {
  "kernelspec": {
   "display_name": "Python 3",
   "language": "python",
   "name": "python3"
  },
  "language_info": {
   "codemirror_mode": {
    "name": "ipython",
    "version": 3
   },
   "file_extension": ".py",
   "mimetype": "text/x-python",
   "name": "python",
   "nbconvert_exporter": "python",
   "pygments_lexer": "ipython3",
   "version": "3.6.9"
  }
 },
 "nbformat": 4,
 "nbformat_minor": 2
}
