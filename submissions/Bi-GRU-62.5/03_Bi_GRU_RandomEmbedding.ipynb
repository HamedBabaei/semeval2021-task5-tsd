{
  "nbformat": 4,
  "nbformat_minor": 0,
  "metadata": {
    "colab": {
      "name": "03-Bi-GRU-RandomEmbedding",
      "provenance": [],
      "collapsed_sections": [
        "gmbJ80f0cAAr"
      ],
      "toc_visible": true
    },
    "kernelspec": {
      "name": "python3",
      "display_name": "Python 3"
    },
    "accelerator": "GPU"
  },
  "cells": [
    {
      "cell_type": "markdown",
      "metadata": {
        "id": "pHV2a6yKdmsP"
      },
      "source": [
        "# 1. Install and imports"
      ]
    },
    {
      "cell_type": "code",
      "metadata": {
        "colab": {
          "base_uri": "https://localhost:8080/"
        },
        "id": "ebfTSoDnaxql",
        "outputId": "c54ca5f5-7d40-47a6-8879-a2300b440a2b"
      },
      "source": [
        "!sudo pip install git+https://www.github.com/keras-team/keras-contrib.git\n",
        "import nltk\n",
        "nltk.download('stopwords')"
      ],
      "execution_count": null,
      "outputs": [
        {
          "output_type": "stream",
          "text": [
            "Collecting git+https://www.github.com/keras-team/keras-contrib.git\n",
            "  Cloning https://www.github.com/keras-team/keras-contrib.git to /tmp/pip-req-build-969t_4bc\n",
            "  Running command git clone -q https://www.github.com/keras-team/keras-contrib.git /tmp/pip-req-build-969t_4bc\n",
            "Requirement already satisfied: keras in /usr/local/lib/python3.6/dist-packages (from keras-contrib==2.0.8) (2.4.3)\n",
            "Requirement already satisfied: numpy>=1.9.1 in /usr/local/lib/python3.6/dist-packages (from keras->keras-contrib==2.0.8) (1.19.4)\n",
            "Requirement already satisfied: pyyaml in /usr/local/lib/python3.6/dist-packages (from keras->keras-contrib==2.0.8) (3.13)\n",
            "Requirement already satisfied: h5py in /usr/local/lib/python3.6/dist-packages (from keras->keras-contrib==2.0.8) (2.10.0)\n",
            "Requirement already satisfied: scipy>=0.14 in /usr/local/lib/python3.6/dist-packages (from keras->keras-contrib==2.0.8) (1.4.1)\n",
            "Requirement already satisfied: six in /usr/local/lib/python3.6/dist-packages (from h5py->keras->keras-contrib==2.0.8) (1.15.0)\n",
            "Building wheels for collected packages: keras-contrib\n",
            "  Building wheel for keras-contrib (setup.py) ... \u001b[?25l\u001b[?25hdone\n",
            "  Created wheel for keras-contrib: filename=keras_contrib-2.0.8-cp36-none-any.whl size=101066 sha256=4d8752ccc83184f865b6ddc7252b6877d869624654094ce1fab0072644854876\n",
            "  Stored in directory: /tmp/pip-ephem-wheel-cache-dsy_p0e2/wheels/11/27/c8/4ed56de7b55f4f61244e2dc6ef3cdbaff2692527a2ce6502ba\n",
            "Successfully built keras-contrib\n",
            "Installing collected packages: keras-contrib\n",
            "Successfully installed keras-contrib-2.0.8\n",
            "[nltk_data] Downloading package stopwords to /root/nltk_data...\n",
            "[nltk_data]   Unzipping corpora/stopwords.zip.\n"
          ],
          "name": "stdout"
        },
        {
          "output_type": "execute_result",
          "data": {
            "text/plain": [
              "True"
            ]
          },
          "metadata": {
            "tags": []
          },
          "execution_count": 1
        }
      ]
    },
    {
      "cell_type": "code",
      "metadata": {
        "id": "MMay2cBnbNHc"
      },
      "source": [
        "import warnings\n",
        "warnings.filterwarnings(\"ignore\")"
      ],
      "execution_count": null,
      "outputs": []
    },
    {
      "cell_type": "code",
      "metadata": {
        "id": "orQRPfW8ZwK1"
      },
      "source": [
        "from keras_contrib.layers import CRF"
      ],
      "execution_count": null,
      "outputs": []
    },
    {
      "cell_type": "code",
      "metadata": {
        "colab": {
          "base_uri": "https://localhost:8080/",
          "height": 267
        },
        "id": "JKD09UJta3mr",
        "outputId": "15c8c935-b521-43d5-8b7e-512c3884d423"
      },
      "source": [
        "import cross_validator as cross_validator\n",
        "import datahandler as datahandler\n",
        "from datamodel import DataModel\n",
        "import outputmaker as outputmaker\n",
        "import metrics as metrics\n",
        "\n",
        "trial = datahandler.load_train('tsd_trial.csv', verbose=True)\n",
        "train = datahandler.load_train('tsd_train.csv', verbose=True)"
      ],
      "execution_count": null,
      "outputs": [
        {
          "output_type": "display_data",
          "data": {
            "text/html": [
              "<div>\n",
              "<style scoped>\n",
              "    .dataframe tbody tr th:only-of-type {\n",
              "        vertical-align: middle;\n",
              "    }\n",
              "\n",
              "    .dataframe tbody tr th {\n",
              "        vertical-align: top;\n",
              "    }\n",
              "\n",
              "    .dataframe thead th {\n",
              "        text-align: right;\n",
              "    }\n",
              "</style>\n",
              "<table border=\"1\" class=\"dataframe\">\n",
              "  <thead>\n",
              "    <tr style=\"text-align: right;\">\n",
              "      <th></th>\n",
              "      <th>spans</th>\n",
              "      <th>text</th>\n",
              "    </tr>\n",
              "  </thead>\n",
              "  <tbody>\n",
              "    <tr>\n",
              "      <th>0</th>\n",
              "      <td>[15, 16, 17, 18, 19, 27, 28, 29, 30, 31]</td>\n",
              "      <td>Because he's a moron and a bigot. It's not any...</td>\n",
              "    </tr>\n",
              "    <tr>\n",
              "      <th>1</th>\n",
              "      <td>[29, 30, 31, 32, 33, 34]</td>\n",
              "      <td>How about we stop protecting idiots and let na...</td>\n",
              "    </tr>\n",
              "    <tr>\n",
              "      <th>2</th>\n",
              "      <td>[166, 167, 168, 169, 170, 171]</td>\n",
              "      <td>If people  were  smart, they would  Boycott th...</td>\n",
              "    </tr>\n",
              "  </tbody>\n",
              "</table>\n",
              "</div>"
            ],
            "text/plain": [
              "                                      spans                                               text\n",
              "0  [15, 16, 17, 18, 19, 27, 28, 29, 30, 31]  Because he's a moron and a bigot. It's not any...\n",
              "1                  [29, 30, 31, 32, 33, 34]  How about we stop protecting idiots and let na...\n",
              "2            [166, 167, 168, 169, 170, 171]  If people  were  smart, they would  Boycott th..."
            ]
          },
          "metadata": {
            "tags": []
          }
        },
        {
          "output_type": "display_data",
          "data": {
            "text/html": [
              "<div>\n",
              "<style scoped>\n",
              "    .dataframe tbody tr th:only-of-type {\n",
              "        vertical-align: middle;\n",
              "    }\n",
              "\n",
              "    .dataframe tbody tr th {\n",
              "        vertical-align: top;\n",
              "    }\n",
              "\n",
              "    .dataframe thead th {\n",
              "        text-align: right;\n",
              "    }\n",
              "</style>\n",
              "<table border=\"1\" class=\"dataframe\">\n",
              "  <thead>\n",
              "    <tr style=\"text-align: right;\">\n",
              "      <th></th>\n",
              "      <th>spans</th>\n",
              "      <th>text</th>\n",
              "    </tr>\n",
              "  </thead>\n",
              "  <tbody>\n",
              "    <tr>\n",
              "      <th>0</th>\n",
              "      <td>[8, 9, 10, 11, 12, 13, 14, 15, 16, 17, 18, 19,...</td>\n",
              "      <td>Another violent and aggressive immigrant killi...</td>\n",
              "    </tr>\n",
              "    <tr>\n",
              "      <th>1</th>\n",
              "      <td>[33, 34, 35, 36, 37, 38, 39]</td>\n",
              "      <td>I am 56 years old, I am not your fucking junio...</td>\n",
              "    </tr>\n",
              "    <tr>\n",
              "      <th>2</th>\n",
              "      <td>[0, 1, 2, 3]</td>\n",
              "      <td>Damn, a whole family. Sad indeed.</td>\n",
              "    </tr>\n",
              "  </tbody>\n",
              "</table>\n",
              "</div>"
            ],
            "text/plain": [
              "                                               spans                                               text\n",
              "0  [8, 9, 10, 11, 12, 13, 14, 15, 16, 17, 18, 19,...  Another violent and aggressive immigrant killi...\n",
              "1                       [33, 34, 35, 36, 37, 38, 39]  I am 56 years old, I am not your fucking junio...\n",
              "2                                       [0, 1, 2, 3]                  Damn, a whole family. Sad indeed."
            ]
          },
          "metadata": {
            "tags": []
          }
        }
      ]
    },
    {
      "cell_type": "markdown",
      "metadata": {
        "id": "3HIHv8sedwYU"
      },
      "source": [
        "# 2.Load"
      ]
    },
    {
      "cell_type": "code",
      "metadata": {
        "id": "MnxMyen-at1_"
      },
      "source": [
        "datamodel = DataModel(model='crf', remove_stop_words=False)\n",
        "\n",
        "output_maker = outputmaker.crf_output\n",
        "\n",
        "evaluator = metrics"
      ],
      "execution_count": null,
      "outputs": []
    },
    {
      "cell_type": "code",
      "metadata": {
        "colab": {
          "base_uri": "https://localhost:8080/"
        },
        "id": "EAOtW9cxb_Jz",
        "outputId": "65323adc-bc31-421e-ac23-0ae43e6b2324"
      },
      "source": [
        "X_train, y_train, train_taboo_words, train_texts = cross_validator.load_data(train, [i for i in range(train.shape[0])],\n",
        "                                                                             datamodel, logger=True)\n",
        "\n",
        "X_test, y_test, test_taboo_words, test_texts = cross_validator.load_data(trial, [i for i in range(trial.shape[0])], \n",
        "                                                                   datamodel, logger=True)"
      ],
      "execution_count": null,
      "outputs": [
        {
          "output_type": "stream",
          "text": [
            "100%|██████████| 7939/7939 [06:02<00:00, 21.89it/s]\n",
            "100%|██████████| 690/690 [00:30<00:00, 22.53it/s]\n"
          ],
          "name": "stderr"
        }
      ]
    },
    {
      "cell_type": "code",
      "metadata": {
        "colab": {
          "base_uri": "https://localhost:8080/"
        },
        "id": "aeAulj9qhN5O",
        "outputId": "8dff7293-1bfa-4de6-a0e7-d1edcb20b5a1"
      },
      "source": [
        "X_test[0]"
      ],
      "execution_count": null,
      "outputs": [
        {
          "output_type": "execute_result",
          "data": {
            "text/plain": [
              "[('Because', 'IN', 'normal', [0, 1, 2, 3, 4, 5, 6]),\n",
              " ('he', 'PRP', 'normal', [8, 9]),\n",
              " ('a', 'DT', 'normal', [13]),\n",
              " ('moron', 'NN', 'toxic', [15, 16, 17, 18, 19]),\n",
              " ('and', 'CC', 'normal', [21, 22, 23]),\n",
              " ('a', 'DT', 'normal', [25]),\n",
              " ('bigot', 'NNP', 'toxic', [27, 28, 29, 30, 31]),\n",
              " ('It', 'PRP', 'normal', [34, 35]),\n",
              " ('not', 'RB', 'normal', [39, 40, 41]),\n",
              " ('any', 'DT', 'normal', [43, 44, 45]),\n",
              " ('more', 'RBR', 'normal', [47, 48, 49, 50]),\n",
              " ('complicated', 'JJ', 'normal', [52, 53, 54, 55, 56, 57, 58, 59, 60, 61, 62]),\n",
              " ('than', 'IN', 'normal', [64, 65, 66, 67]),\n",
              " ('that', 'DT', 'normal', [69, 70, 71, 72])]"
            ]
          },
          "metadata": {
            "tags": []
          },
          "execution_count": 9
        }
      ]
    },
    {
      "cell_type": "markdown",
      "metadata": {
        "id": "YsM7HzP3dht3"
      },
      "source": [
        "# 3. Preprocessing\n"
      ]
    },
    {
      "cell_type": "code",
      "metadata": {
        "id": "KkXY1j-xcO0p"
      },
      "source": [
        "from tqdm import tqdm \n",
        "#from nltk.stem.porter import *\n",
        "#stemmer = PorterStemmer()\n",
        "\n",
        "\n",
        "special_chars = ['O', '4', '͞', 'ü', '😞', '»', '”', '\\x7f', '\"', '7', '*', '8', ')',\n",
        "      '😂', '💀', '{', '0', 'ʻ', '💨', '•', '#', '_', '😊', '😜', 'ó', '😅', \n",
        "      '¬', '☠', '🙄', '😉', '😆', '―','(', '.', '?', '😵', '💥', ':', '🆘',\n",
        "      '$', '=', '+', ';', '🔥', '😁','`', 'ï', '2', 'ê', 'é', '3', '-', '🤥',\n",
        "      '⚽', 'É', '️', '!', '5', '✭', '9', '😈', 'ˈ', '😬', '@', '«', '/', '▀', '’',\n",
        "      '😡', '1', '%', ',', '&', '6', '\\\\', ']', \"'\", '[', '^', '}', '⚾', '\\u200b',\n",
        "       '☭', '☹', '<', 'l', '™', '👎']\n",
        "\n",
        "\n",
        "F_cleaner = lambda x: ''.join([w for w in x if w not in special_chars ]).lower()\n",
        "\n",
        "     \n",
        "def cleaning(X):\n",
        "    cleaned_x = []\n",
        "    for words in tqdm(X):\n",
        "        cleaned_words = []\n",
        "        for word in words :\n",
        "            w, pos, tag, span = word\n",
        "            cleaned_w = F_cleaner(w)\n",
        "            if len(cleaned_w) != 0:\n",
        "                cleaned_words.append((cleaned_w, pos, tag, span))\n",
        "                #cleaned_words.append((stemmer.stem(cleaned_w), pos, tag) )\n",
        "        cleaned_x.append(cleaned_words)\n",
        "    return cleaned_x"
      ],
      "execution_count": null,
      "outputs": []
    },
    {
      "cell_type": "code",
      "metadata": {
        "colab": {
          "base_uri": "https://localhost:8080/"
        },
        "id": "iKsJ_fckeKf9",
        "outputId": "e6fa017f-12ce-4197-c67c-fe4e2b107bf1"
      },
      "source": [
        "X_train = cleaning(X_train)\n",
        "X_test_clean = cleaning(X_test)"
      ],
      "execution_count": null,
      "outputs": [
        {
          "output_type": "stream",
          "text": [
            "100%|██████████| 7939/7939 [00:01<00:00, 4175.42it/s]\n",
            "100%|██████████| 690/690 [00:00<00:00, 1840.47it/s]\n"
          ],
          "name": "stderr"
        }
      ]
    },
    {
      "cell_type": "markdown",
      "metadata": {
        "id": "volsFiYKeN8y"
      },
      "source": [
        "# 4. Preprations for modeling"
      ]
    },
    {
      "cell_type": "code",
      "metadata": {
        "colab": {
          "base_uri": "https://localhost:8080/"
        },
        "id": "Zw4JzY46eLsX",
        "outputId": "de4b8ff5-5420-4894-832b-6ca032e27716"
      },
      "source": [
        "words = set([w for x in X_train + X_test_clean for w, tag, label, span in x])\n",
        "tags = set([tag for x in X_train for w, pos, tag, span in x])\n",
        "\n",
        "n_tags = len(tags)\n",
        "n_words = len(words)\n",
        "\n",
        "print(\"n_tags:{}, n_words:{}\\n\".format(n_tags, n_words))\n",
        "\n",
        "max_len = max([len(x) for x in X_train+X_test_clean])\n",
        "print(\"max_len:{} \".format(max_len))\n",
        "\n",
        "word2idx = {w: i + 2 for i, w in enumerate(words)}\n",
        "word2idx[\"UNK\"] = 1\n",
        "word2idx[\"PAD\"] = 0\n",
        "\n",
        "idx2word = {i: w for w, i in word2idx.items()}\n",
        "\n",
        "tag2idx = {t: i + 1 for i, t in enumerate(tags)}\n",
        "tag2idx[\"PAD\"] = 0\n",
        "idx2tag = {i: w for w, i in tag2idx.items()}\n",
        "\n",
        "print(\"word2idx['fuck']:{},  tag2idx['normal']:{}\\n\".format(word2idx[\"fuck\"], tag2idx[\"normal\"]))"
      ],
      "execution_count": null,
      "outputs": [
        {
          "output_type": "stream",
          "text": [
            "n_tags:2, n_words:19666\n",
            "\n",
            "max_len:191 \n",
            "word2idx['fuck']:12943,  tag2idx['normal']:1\n",
            "\n"
          ],
          "name": "stdout"
        }
      ]
    },
    {
      "cell_type": "code",
      "metadata": {
        "colab": {
          "base_uri": "https://localhost:8080/"
        },
        "id": "WByv5uSKeXp7",
        "outputId": "58a09c8a-85cf-4030-ee71-fff1bf112c6f"
      },
      "source": [
        "from keras.preprocessing.sequence import pad_sequences\n",
        "import numpy as np\n",
        "from keras.utils import to_categorical\n",
        "\n",
        "X_word = [[word2idx[w[0]] for w in s] for s in tqdm(X_train)]\n",
        "X_word = pad_sequences(maxlen=max_len, sequences=X_word, \n",
        "                       value=word2idx[\"PAD\"], padding='post', truncating='post')\n",
        "\n",
        "\n",
        "y_ = [[tag2idx[w[2]] for w in s] for s in X_train]\n",
        "\n",
        "print(\"len(y):, \", len(y_))\n",
        "\n",
        "y_ = pad_sequences(maxlen=max_len, sequences=y_, \n",
        "                  value=tag2idx[\"PAD\"], padding='post', truncating='post')\n",
        "\n",
        "y = [to_categorical(i, num_classes=n_tags+1) for i in y_]"
      ],
      "execution_count": null,
      "outputs": [
        {
          "output_type": "stream",
          "text": [
            "100%|██████████| 7939/7939 [00:00<00:00, 114843.28it/s]\n"
          ],
          "name": "stderr"
        },
        {
          "output_type": "stream",
          "text": [
            "len(y):,  7939\n"
          ],
          "name": "stdout"
        }
      ]
    },
    {
      "cell_type": "code",
      "metadata": {
        "id": "mhjYBvSgebPy"
      },
      "source": [
        "X_word_tr, y_tr = X_word, y"
      ],
      "execution_count": null,
      "outputs": []
    },
    {
      "cell_type": "markdown",
      "metadata": {
        "id": "gmbJ80f0cAAr"
      },
      "source": [
        "# 4.5 Attention"
      ]
    },
    {
      "cell_type": "code",
      "metadata": {
        "id": "XctBFa5KcC7G"
      },
      "source": [
        "from keras.engine.topology import Layer\n",
        "from keras import initializers, regularizers, constraints\n",
        "\n",
        "class Attention(Layer):\n",
        "    def __init__(self, step_dim,\n",
        "                 W_regularizer=None, b_regularizer=None,\n",
        "                 W_constraint=None, b_constraint=None,\n",
        "                 bias=True, **kwargs):\n",
        "        self.supports_masking = True\n",
        "        self.init = initializers.get('glorot_uniform')\n",
        "\n",
        "        self.W_regularizer = regularizers.get(W_regularizer)\n",
        "        self.b_regularizer = regularizers.get(b_regularizer)\n",
        "\n",
        "        self.W_constraint = constraints.get(W_constraint)\n",
        "        self.b_constraint = constraints.get(b_constraint)\n",
        "\n",
        "        self.bias = bias\n",
        "        self.step_dim = step_dim\n",
        "        self.features_dim = 0\n",
        "        super(Attention, self).__init__(**kwargs)\n",
        "\n",
        "    def build(self, input_shape):\n",
        "        assert len(input_shape) == 3\n",
        "\n",
        "        self.W = self.add_weight((input_shape[-1],),\n",
        "                                 initializer=self.init,\n",
        "                                 name='{}_W'.format(self.name),\n",
        "                                 regularizer=self.W_regularizer,\n",
        "                                 constraint=self.W_constraint)\n",
        "        self.features_dim = input_shape[-1]\n",
        "\n",
        "        if self.bias:\n",
        "            self.b = self.add_weight((input_shape[1],),\n",
        "                                     initializer='zero',\n",
        "                                     name='{}_b'.format(self.name),\n",
        "                                     regularizer=self.b_regularizer,\n",
        "                                     constraint=self.b_constraint)\n",
        "        else:\n",
        "            self.b = None\n",
        "\n",
        "        self.built = True\n",
        "\n",
        "    def compute_mask(self, input, input_mask=None):\n",
        "        return None\n",
        "\n",
        "    def call(self, x, mask=None):\n",
        "        features_dim = self.features_dim\n",
        "        step_dim = self.step_dim\n",
        "\n",
        "        eij = K.reshape(K.dot(K.reshape(x, (-1, features_dim)),\n",
        "                        K.reshape(self.W, (features_dim, 1))), (-1, step_dim))\n",
        "\n",
        "        if self.bias:\n",
        "            eij += self.b\n",
        "\n",
        "        eij = K.tanh(eij)\n",
        "\n",
        "        a = K.exp(eij)\n",
        "\n",
        "        if mask is not None:\n",
        "            a *= K.cast(mask, K.floatx())\n",
        "\n",
        "        a /= K.cast(K.sum(a, axis=1, keepdims=True) + K.epsilon(), K.floatx())\n",
        "\n",
        "        a = K.expand_dims(a)\n",
        "        weighted_input = x * a\n",
        "        return K.sum(weighted_input, axis=1)\n",
        "\n",
        "    def compute_output_shape(self, input_shape):\n",
        "        return input_shape[0],  self.features_dim"
      ],
      "execution_count": null,
      "outputs": []
    },
    {
      "cell_type": "markdown",
      "metadata": {
        "id": "shZZ5zbKeYue"
      },
      "source": [
        "# 5. Modeling"
      ]
    },
    {
      "cell_type": "code",
      "metadata": {
        "colab": {
          "base_uri": "https://localhost:8080/"
        },
        "id": "JjRHrZVhehhW",
        "outputId": "8aec98b4-9517-436e-b253-d88a69c1936d"
      },
      "source": [
        "from keras.models import Model, Input\n",
        "from keras.layers import LSTM, Embedding, Dense, TimeDistributed, Dropout, Conv1D, GRU\n",
        "from keras.layers import Bidirectional, concatenate, SpatialDropout1D, GlobalMaxPooling1D\n",
        "import matplotlib.pyplot as plt\n",
        "import pandas as pd \n",
        "from sklearn.metrics import classification_report\n",
        "\n",
        "from keras_contrib.layers import CRF\n",
        "import keras\n",
        "print(\"Keras:\", keras.__version__)\n",
        "import tensorflow\n",
        "print(\"tf:\",tensorflow.__version__)\n"
      ],
      "execution_count": null,
      "outputs": [
        {
          "output_type": "stream",
          "text": [
            "Keras: 2.4.3\n",
            "tf: 2.4.0\n"
          ],
          "name": "stdout"
        }
      ]
    },
    {
      "cell_type": "code",
      "metadata": {
        "id": "E2mvtNwDrcZU"
      },
      "source": [
        "import tensorflow_addons as tfa"
      ],
      "execution_count": null,
      "outputs": []
    },
    {
      "cell_type": "code",
      "metadata": {
        "id": "EmJOV6hBpEPz"
      },
      "source": [
        "def frobenius_norm(m):\n",
        "    \"\"\"This function is to calculate the frobenius norm of the matrix of all\n",
        "    layer's weight.\n",
        "  \n",
        "    Args:\n",
        "        m: is a list of weights param for each layers.\n",
        "    \"\"\"\n",
        "    total_reduce_sum = 0\n",
        "    for i in range(len(m)):\n",
        "        total_reduce_sum = total_reduce_sum + tf.math.reduce_sum(m[i]**2)\n",
        "    norm = total_reduce_sum**0.5\n",
        "    return norm"
      ],
      "execution_count": null,
      "outputs": []
    },
    {
      "cell_type": "code",
      "metadata": {
        "id": "dVdvAU72sall"
      },
      "source": [
        "\n",
        "CG_frobenius_norm_of_weight = []\n",
        "CG_get_weight_norm = tf.keras.callbacks.LambdaCallback(\n",
        "    on_epoch_end=lambda batch, logs: CG_frobenius_norm_of_weight.append(\n",
        "        frobenius_norm(model_1.trainable_weights).numpy()))"
      ],
      "execution_count": null,
      "outputs": []
    },
    {
      "cell_type": "code",
      "metadata": {
        "id": "clvJMSjJjd3R",
        "colab": {
          "base_uri": "https://localhost:8080/"
        },
        "outputId": "28fbb1b8-61df-4aa7-b5ea-c933c72cabf9"
      },
      "source": [
        "# input and embedding for words\n",
        "word_in = Input(shape=(max_len,))\n",
        "\n",
        "emb_word = Embedding(input_dim=n_words + 2, output_dim=50,\n",
        "                     input_length=max_len, mask_zero=True)(word_in)\n",
        "\n",
        "x = Bidirectional(GRU(units=50, return_sequences=True,\n",
        "                               recurrent_dropout=0.4))(emb_word)\n",
        "#x = Bidirectional(LSTM(units=50, return_sequences=True,\n",
        "#                               recurrent_dropout=0.4))(emb_word)\n",
        "\n",
        "#x = TimeDistributed(Attention(max_len))(x)\n",
        "#x = TimeDistributed(Dense(100, activation=\"relu\"))(x)\n",
        "\n",
        "out = TimeDistributed(Dense(n_tags + 1, activation=\"sigmoid\"))(x)\n",
        "\n",
        "#out = TimeDistributed(Dense(50, activation=\"tanh\"))(x)  # a dense layer as suggested by neuralNer\n",
        "\n",
        "#crf = CRF(n_tags + 1)  # CRF layer, n_tags+1(PAD)\n",
        "#out = crf(x)  # output\n",
        "\n",
        "model = Model(word_in, out)\n",
        "model.compile(optimizer=tfa.optimizers.ConditionalGradient(\n",
        "        learning_rate=0.99949, lambda_=203), \n",
        "        loss='sparse_categorical_crossentropy',  metrics=['accuracy'])\n",
        "#\"sparse_categorical_crossentropy\"\n",
        "              "
      ],
      "execution_count": null,
      "outputs": [
        {
          "output_type": "stream",
          "text": [
            "WARNING:tensorflow:Layer gru will not use cuDNN kernel since it doesn't meet the cuDNN kernel criteria. It will use generic GPU kernel as fallback when running on GPU\n",
            "WARNING:tensorflow:Layer gru will not use cuDNN kernel since it doesn't meet the cuDNN kernel criteria. It will use generic GPU kernel as fallback when running on GPU\n",
            "WARNING:tensorflow:Layer gru will not use cuDNN kernel since it doesn't meet the cuDNN kernel criteria. It will use generic GPU kernel as fallback when running on GPU\n"
          ],
          "name": "stdout"
        }
      ]
    },
    {
      "cell_type": "code",
      "metadata": {
        "colab": {
          "base_uri": "https://localhost:8080/"
        },
        "id": "sFy_xmY9j0FX",
        "outputId": "fb5dae81-35b3-4e92-9bc0-d59760fbd980"
      },
      "source": [
        "model.summary()"
      ],
      "execution_count": null,
      "outputs": [
        {
          "output_type": "stream",
          "text": [
            "Model: \"model_8\"\n",
            "_________________________________________________________________\n",
            "Layer (type)                 Output Shape              Param #   \n",
            "=================================================================\n",
            "input_11 (InputLayer)        [(None, 191)]             0         \n",
            "_________________________________________________________________\n",
            "embedding_10 (Embedding)     (None, 191, 50)           983400    \n",
            "_________________________________________________________________\n",
            "bidirectional_8 (Bidirection (None, 191, 100)          30600     \n",
            "_________________________________________________________________\n",
            "time_distributed_8 (TimeDist (None, 191, 3)            303       \n",
            "=================================================================\n",
            "Total params: 1,014,303\n",
            "Trainable params: 1,014,303\n",
            "Non-trainable params: 0\n",
            "_________________________________________________________________\n"
          ],
          "name": "stdout"
        }
      ]
    },
    {
      "cell_type": "code",
      "metadata": {
        "id": "mmmHKP0aqN1h",
        "colab": {
          "base_uri": "https://localhost:8080/"
        },
        "outputId": "f05b2163-5f10-40bb-ce80-85070a2716e5"
      },
      "source": [
        "history = model.fit(X_word_tr, np.array(y_), batch_size=32, epochs=5, validation_split=0.1, verbose=1)"
      ],
      "execution_count": null,
      "outputs": [
        {
          "output_type": "stream",
          "text": [
            "Epoch 1/10\n",
            "224/224 [==============================] - 281s 1s/step - loss: 0.0653 - accuracy: 0.9056 - val_loss: 0.0393 - val_accuracy: 0.9416\n",
            "Epoch 2/10\n",
            "224/224 [==============================] - 278s 1s/step - loss: 0.0436 - accuracy: 0.9313 - val_loss: 0.0373 - val_accuracy: 0.9419\n",
            "Epoch 3/10\n",
            "224/224 [==============================] - 277s 1s/step - loss: 0.0429 - accuracy: 0.9338 - val_loss: 0.0382 - val_accuracy: 0.9415\n",
            "Epoch 4/10\n",
            "224/224 [==============================] - 282s 1s/step - loss: 0.0413 - accuracy: 0.9331 - val_loss: 0.0363 - val_accuracy: 0.9434\n",
            "Epoch 5/10\n",
            "224/224 [==============================] - 279s 1s/step - loss: 0.0403 - accuracy: 0.9353 - val_loss: 0.0356 - val_accuracy: 0.9430\n",
            "Epoch 6/10\n",
            "224/224 [==============================] - 289s 1s/step - loss: 0.0370 - accuracy: 0.9362 - val_loss: 0.0365 - val_accuracy: 0.9428\n",
            "Epoch 7/10\n",
            "224/224 [==============================] - 290s 1s/step - loss: 0.0353 - accuracy: 0.9382 - val_loss: 0.0363 - val_accuracy: 0.9431\n",
            "Epoch 8/10\n",
            "224/224 [==============================] - 286s 1s/step - loss: 0.0340 - accuracy: 0.9393 - val_loss: 0.0375 - val_accuracy: 0.9370\n",
            "Epoch 9/10\n",
            "224/224 [==============================] - 289s 1s/step - loss: 0.0339 - accuracy: 0.9364 - val_loss: 0.0386 - val_accuracy: 0.9418\n",
            "Epoch 10/10\n",
            "224/224 [==============================] - 290s 1s/step - loss: 0.0306 - accuracy: 0.9401 - val_loss: 0.0385 - val_accuracy: 0.9381\n"
          ],
          "name": "stdout"
        }
      ]
    },
    {
      "cell_type": "code",
      "metadata": {
        "colab": {
          "base_uri": "https://localhost:8080/",
          "height": 320
        },
        "id": "tB2CjbfIQryE",
        "outputId": "001f1507-eeab-41ea-c45d-803925591649"
      },
      "source": [
        "hist = pd.DataFrame(history.history)\n",
        "\n",
        "plt.style.use(\"ggplot\")\n",
        "plt.figure(figsize=(5,5))\n",
        "#plt.plot(hist[\"acc\"])\n",
        "#plt.plot(hist[\"val_acc\"])\n",
        "plt.plot(hist[\"loss\"])\n",
        "plt.plot(hist[\"val_loss\"])\n",
        "plt.show()\n"
      ],
      "execution_count": null,
      "outputs": [
        {
          "output_type": "display_data",
          "data": {
            "image/png": "[encoded data removed]",
            "text/plain": [
              "<Figure size 360x360 with 1 Axes>"
            ]
          },
          "metadata": {
            "tags": []
          }
        }
      ]
    },
    {
      "cell_type": "code",
      "metadata": {
        "colab": {
          "base_uri": "https://localhost:8080/",
          "height": 320
        },
        "id": "gEE20Nf7QsPs",
        "outputId": "79bad854-558a-4081-f2c2-e2c09d0908db"
      },
      "source": [
        "\n",
        "plt.style.use(\"ggplot\")\n",
        "plt.figure(figsize=(5,5))\n",
        "plt.plot(hist[\"accuracy\"])\n",
        "plt.plot(hist[\"val_accuracy\"])\n",
        "\n",
        "plt.show()"
      ],
      "execution_count": null,
      "outputs": [
        {
          "output_type": "display_data",
          "data": {
            "image/png": "[encoded data removed]",
            "text/plain": [
              "<Figure size 360x360 with 1 Axes>"
            ]
          },
          "metadata": {
            "tags": []
          }
        }
      ]
    },
    {
      "cell_type": "code",
      "metadata": {
        "colab": {
          "base_uri": "https://localhost:8080/"
        },
        "id": "PvBY3IKZQwMx",
        "outputId": "aa03abe1-eaae-4618-ab3d-84568f51309e"
      },
      "source": [
        "X_test_clean[0]"
      ],
      "execution_count": null,
      "outputs": [
        {
          "output_type": "execute_result",
          "data": {
            "text/plain": [
              "[('because', 'IN', 'normal', [0, 1, 2, 3, 4, 5, 6]),\n",
              " ('he', 'PRP', 'normal', [8, 9]),\n",
              " ('a', 'DT', 'normal', [13]),\n",
              " ('moron', 'NN', 'toxic', [15, 16, 17, 18, 19]),\n",
              " ('and', 'CC', 'normal', [21, 22, 23]),\n",
              " ('a', 'DT', 'normal', [25]),\n",
              " ('bigot', 'NNP', 'toxic', [27, 28, 29, 30, 31]),\n",
              " ('it', 'PRP', 'normal', [34, 35]),\n",
              " ('not', 'RB', 'normal', [39, 40, 41]),\n",
              " ('any', 'DT', 'normal', [43, 44, 45]),\n",
              " ('more', 'RBR', 'normal', [47, 48, 49, 50]),\n",
              " ('compicated', 'JJ', 'normal', [52, 53, 54, 55, 56, 57, 58, 59, 60, 61, 62]),\n",
              " ('than', 'IN', 'normal', [64, 65, 66, 67]),\n",
              " ('that', 'DT', 'normal', [69, 70, 71, 72])]"
            ]
          },
          "metadata": {
            "tags": []
          },
          "execution_count": 45
        }
      ]
    },
    {
      "cell_type": "code",
      "metadata": {
        "colab": {
          "base_uri": "https://localhost:8080/"
        },
        "id": "ZEqCGLMXQwDi",
        "outputId": "15472905-7037-4130-a99e-5f30b871edc6"
      },
      "source": [
        "X_word_test = []\n",
        "no = []\n",
        "for s in X_test_clean:\n",
        "    x_s = []\n",
        "    for w in s:\n",
        "        try:\n",
        "            x_s.append(word2idx[w[0]])\n",
        "        except:\n",
        "            no.append(w)\n",
        "    X_word_test.append(x_s)\n",
        "\n",
        "X_word_test = [[word2idx[w[0]] if w[0] in word2idx else word2idx[\"UNK\"] for w in s] for s in tqdm(X_test_clean)]\n",
        "\n",
        "print(\"not in word2idx:{}, length of X_word_test:{}\".format(len(no), len(X_word_test)))\n",
        "\n",
        "X_word_test = pad_sequences(maxlen=max_len, sequences=X_word_test, \n",
        "                            value=word2idx[\"PAD\"], padding='post', truncating='post')"
      ],
      "execution_count": null,
      "outputs": [
        {
          "output_type": "stream",
          "text": [
            "100%|██████████| 690/690 [00:00<00:00, 72986.73it/s]"
          ],
          "name": "stderr"
        },
        {
          "output_type": "stream",
          "text": [
            "not in word2idx:0, length of X_word_test:690\n"
          ],
          "name": "stdout"
        },
        {
          "output_type": "stream",
          "text": [
            "\n"
          ],
          "name": "stderr"
        }
      ]
    },
    {
      "cell_type": "code",
      "metadata": {
        "id": "UGVzE-JHQvkR"
      },
      "source": [
        "y_pred_test = model.predict(X_word_test)"
      ],
      "execution_count": null,
      "outputs": []
    },
    {
      "cell_type": "code",
      "metadata": {
        "colab": {
          "base_uri": "https://localhost:8080/"
        },
        "id": "6vcbQ4MERIpM",
        "outputId": "1d0103c5-9bcc-41b5-aa44-b69a5f7649ed"
      },
      "source": [
        "y_test_preds, probas = [], []\n",
        "for i in tqdm(range(y_pred_test.shape[0])):\n",
        "    p = np.argmax(y_pred_test[i], axis=-1)\n",
        "    preds, proba = [],[]\n",
        "    lenght = 0\n",
        "    for w, pred in zip(X_word_test[i], p):\n",
        "        if w != 0:\n",
        "            preds.append(idx2tag[pred])\n",
        "            lenght+=1\n",
        "    y_test_preds.append(preds)\n",
        "    probas.append(y_pred_test[i][:lenght])\n",
        "\n",
        "print(\"predicted test size:\", len(y_test_preds))\n",
        "\n",
        "predictions = output_maker(X_test, test_texts, y_test_preds)\n",
        "\n",
        "f1, p, r = evaluator.evaluate(gold = y_test, predictions = predictions)\n",
        "\n",
        "print(\"F1:{}, \\t P:{}, \\t R:{}\".format(f1, p, r))"
      ],
      "execution_count": null,
      "outputs": [
        {
          "output_type": "stream",
          "text": [
            "100%|██████████| 690/690 [00:00<00:00, 2668.66it/s]"
          ],
          "name": "stderr"
        },
        {
          "output_type": "stream",
          "text": [
            "predicted test size: 690\n",
            "F1:0.6253375069018557, \t P:0.7107548096216852, \t R:0.6422807436447145\n"
          ],
          "name": "stdout"
        },
        {
          "output_type": "stream",
          "text": [
            "\n"
          ],
          "name": "stderr"
        }
      ]
    },
    {
      "cell_type": "code",
      "metadata": {
        "id": "VP_dAqwvRIm6"
      },
      "source": [
        "ids = [ i for i in range(len(predictions))]\n",
        "\n",
        "with open(\"spans-pred.txt\", \"w\") as out:\n",
        "    for uid, text_scores in zip(ids, predictions):\n",
        "        out.write(f\"{str(uid)}\\t{str(text_scores)}\\n\")"
      ],
      "execution_count": null,
      "outputs": []
    },
    {
      "cell_type": "code",
      "metadata": {
        "id": "bddVKamuqV1t"
      },
      "source": [
        "https://www.kaggle.com/hamedbabaeigiglou/thesiswork-word-and-char-based-bi-lstm#3.-Preprocessing\n",
        "\n",
        "https://github.com/BrambleXu/aspect-term-extraction/blob/master/notebooks/bi-lstm-crf-embedding.ipynb"
      ],
      "execution_count": null,
      "outputs": []
    }
  ]
}