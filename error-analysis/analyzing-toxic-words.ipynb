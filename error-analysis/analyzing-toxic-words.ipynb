{
 "cells": [
  {
   "cell_type": "markdown",
   "metadata": {},
   "source": [
    "* taboo word: `25236`\n",
    "* overall: `309542`\n",
    "\n",
    "unique: \n",
    "* taboo: `5511`\n",
    "* overall: `36995`"
   ]
  },
  {
   "cell_type": "code",
   "execution_count": 3,
   "metadata": {},
   "outputs": [
    {
     "name": "stdout",
     "output_type": "stream",
     "text": [
      "Size of df: 5511\n"
     ]
    },
    {
     "data": {
      "text/html": [
       "<div>\n",
       "<style scoped>\n",
       "    .dataframe tbody tr th:only-of-type {\n",
       "        vertical-align: middle;\n",
       "    }\n",
       "\n",
       "    .dataframe tbody tr th {\n",
       "        vertical-align: top;\n",
       "    }\n",
       "\n",
       "    .dataframe thead th {\n",
       "        text-align: right;\n",
       "    }\n",
       "</style>\n",
       "<table border=\"1\" class=\"dataframe\">\n",
       "  <thead>\n",
       "    <tr style=\"text-align: right;\">\n",
       "      <th></th>\n",
       "      <th>unique-toxic-words</th>\n",
       "      <th>is-toxic-word</th>\n",
       "    </tr>\n",
       "  </thead>\n",
       "  <tbody>\n",
       "    <tr>\n",
       "      <th>0</th>\n",
       "      <td>lazeelink</td>\n",
       "      <td>1</td>\n",
       "    </tr>\n",
       "    <tr>\n",
       "      <th>1</th>\n",
       "      <td>power</td>\n",
       "      <td>0</td>\n",
       "    </tr>\n",
       "    <tr>\n",
       "      <th>2</th>\n",
       "      <td>yes,i</td>\n",
       "      <td>0</td>\n",
       "    </tr>\n",
       "    <tr>\n",
       "      <th>3</th>\n",
       "      <td>shooting:</td>\n",
       "      <td>1</td>\n",
       "    </tr>\n",
       "    <tr>\n",
       "      <th>4</th>\n",
       "      <td>always</td>\n",
       "      <td>0</td>\n",
       "    </tr>\n",
       "  </tbody>\n",
       "</table>\n",
       "</div>"
      ],
      "text/plain": [
       "  unique-toxic-words  is-toxic-word\n",
       "0          lazeelink              1\n",
       "1              power              0\n",
       "2              yes,i              0\n",
       "3          shooting:              1\n",
       "4             always              0"
      ]
     },
     "execution_count": 3,
     "metadata": {},
     "output_type": "execute_result"
    }
   ],
   "source": [
    "import pandas as pd\n",
    "\n",
    "df = pd.read_csv(\"../data/error-analysis/toxic-words/toxic-words.csv\")\n",
    "\n",
    "print(\"Size of df:\", df.shape[0])\n",
    "\n",
    "df.head()"
   ]
  },
  {
   "cell_type": "code",
   "execution_count": 10,
   "metadata": {},
   "outputs": [
    {
     "name": "stdout",
     "output_type": "stream",
     "text": [
      "Non Toxic words in 1k sample:  202\n",
      "-------------------------------------------------Detected None Toxic Words--------------------------------\n",
      "['power', 'yes,i', 'always', 'allow', 'position,', 'freedom', 'department', 'president,', 'stand', 'students.', 'appears', 'lunch', 'height', '(which', 'l', 'fails', 'present', 'funded', 'half', 'community;', 'save', 'idea.', 'mean,', 'collect', 'kills', 'accounts', 'became', 'back', 'all,\"', '$15.1', 'our', 'right?', 'services', 'happen', 'sessions', 'plane', 'reminder', 'art', 'complete', 'world,', 'hello', 'students', 'workers', '(clinton,', 'plan', 'relationship', 'absolutely', \"american's\", 'paint', 'true', 'hawaii', 'making?', 'perhaps', 'from', 'actively', 'done.', 'makes', 'surprising.', 'people!', 'country', 'expect', 'audio', 'play', 'expensive', 'previous', 'personal', 'etc.', 'speech', 'eyes', 'solution', 'interesting.', '=’s', 'have', 'thanks', 'love', 'held', 'egypt', 'markets,', 'didn’t', 'asking,', 'joke,', 'comment,', 'objects', 'imagine', 'notice', 'get.', 'actual', 'column', 'fact', 'must', 'stats', 'takes', 'pray', 'all', 'enter', 'person', 'democrats', 'been', 'citizens', \"else's\", 'you!', 'papers.', 'americans', 'canada', 'why', 'unemployed', 'concert', 'you', \"don't\", 'devices', 'officer,', 'world.', 'thing', 'point', 'again', 'earth', 'from.', 'says:', 'canada,', 'write', 'attempt', 'n', 'answer', 'time.', 'about,', 'wait', 'rule', 'surprised,', 'both', 'everytime', 'interesting', 'when.', 'right', 'even', 'female', 'stay', 'social', 'ask', 'activity', 'total', 'leave', 'her,', 'removed.', \",you're\", 'anything,', 'learned', 'studies', 'do.', 'wind', 'answers', 'problem', 'because,', 'meaning,', 'create', 'problems', 'since', 'human', 'someone', 'keep', \"america's\", 'choose', '–', 'hey,', 'used', 'color', 'learn', 'glad', 'talk', \"it's\", 'en', 'bags', 'lives', 'these', 'comments,', 'an', 'year', '\"who\"', 'otherwise.', 'sky', 'your', 'news,', 'interview,', 'take', 'jobs', 'being', 'million', 'very', 'using', 'important', 'others', 'recently!', \"'its\", '(either', 'convinced.', 'need', 'then', 'two', 'himself', 'notes', 'bank', \"church's\", 'gender']\n"
     ]
    }
   ],
   "source": [
    "print(\"Non Toxic words in 1k sample: \", df[df['is-toxic-word']==0].shape[0])\n",
    "\n",
    "print(\"-------------------------------------------------Detected None Toxic Words--------------------------------\")\n",
    "\n",
    "print(df[df['is-toxic-word']==0]['unique-toxic-words'].tolist())"
   ]
  },
  {
   "cell_type": "code",
   "execution_count": null,
   "metadata": {},
   "outputs": [],
   "source": []
  },
  {
   "cell_type": "code",
   "execution_count": null,
   "metadata": {},
   "outputs": [],
   "source": []
  },
  {
   "cell_type": "code",
   "execution_count": null,
   "metadata": {},
   "outputs": [],
   "source": []
  }
 ],
 "metadata": {
  "kernelspec": {
   "display_name": "Python 3",
   "language": "python",
   "name": "python3"
  },
  "language_info": {
   "codemirror_mode": {
    "name": "ipython",
    "version": 3
   },
   "file_extension": ".py",
   "mimetype": "text/x-python",
   "name": "python",
   "nbconvert_exporter": "python",
   "pygments_lexer": "ipython3",
   "version": "3.6.9"
  }
 },
 "nbformat": 4,
 "nbformat_minor": 2
}
