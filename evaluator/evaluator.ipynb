{
 "cells": [
  {
   "cell_type": "code",
   "execution_count": 1,
   "metadata": {},
   "outputs": [
    {
     "name": "stdout",
     "output_type": "stream",
     "text": [
      "test.csv  trial.csv\r\n"
     ]
    }
   ],
   "source": [
    "ls ../data/model-predictions"
   ]
  },
  {
   "cell_type": "code",
   "execution_count": 87,
   "metadata": {},
   "outputs": [],
   "source": [
    "import __init__\n",
    "from models import utils\n",
    "from ast import literal_eval\n",
    "from metrics import f1_score\n",
    "\n",
    "dev = utils.load_df(\"../data/model-predictions/trial.csv\")\n",
    "test = utils.load_df(\"../data/model-predictions/test.csv\")\n",
    "\n",
    "\n",
    "models = [model for model in dev.columns \n",
    "          if '_1_' not in model \n",
    "              and 'random' not in model \n",
    "              and 'text' not in model\n",
    "              and 'spans' not in model]\n",
    "\n",
    "def make_spans(df, col):\n",
    "    df[col] = df[col].apply(literal_eval)\n",
    "    return df[col]\n",
    "\n",
    "for model in models:\n",
    "    dev[model] = dev[model].apply(literal_eval)\n",
    "    test[model] = test[model].apply(literal_eval)\n",
    "\n",
    "dev_gold = dev['spans'].apply(literal_eval)\n",
    "test_gold = test['spans'].apply(literal_eval)"
   ]
  },
  {
   "cell_type": "code",
   "execution_count": 88,
   "metadata": {},
   "outputs": [
    {
     "data": {
      "text/plain": [
       "[15, 16, 17, 18, 19, 27, 28, 29, 30, 31]"
      ]
     },
     "execution_count": 88,
     "metadata": {},
     "output_type": "execute_result"
    }
   ],
   "source": [
    "dev_gold[0]"
   ]
  },
  {
   "cell_type": "code",
   "execution_count": null,
   "metadata": {},
   "outputs": [],
   "source": []
  },
  {
   "cell_type": "code",
   "execution_count": 94,
   "metadata": {
    "scrolled": true
   },
   "outputs": [
    {
     "name": "stdout",
     "output_type": "stream",
     "text": [
      "glove_bigru_2_layer F1 = 0.60 ± 0.02\n"
     ]
    },
    {
     "data": {
      "image/png": "[encoded data removed]",
      "text/plain": [
       "<Figure size 432x288 with 1 Axes>"
      ]
     },
     "metadata": {
      "needs_background": "light"
     },
     "output_type": "display_data"
    }
   ],
   "source": [
    "from scipy.stats import sem\n",
    "\n",
    "for model in models[2:]:\n",
    "    gold = dev_gold\n",
    "    predictions = dev[model].tolist()\n",
    "    f1_scores = [f1_score(gold[i], predictions[i]) for i in range(len(gold))]\n",
    "    dev[model+\"_f1\"] = f1_scores\n",
    "    #_ = dev[model+'_f1'].plot(kind=\"box\")\n",
    "    print (model, f\"F1 = {dev[model+'_f1'].mean():.2f} ± {sem(dev[model+'_f1']):.2f}\",)\n",
    "    \n"
   ]
  },
  {
   "cell_type": "code",
   "execution_count": 92,
   "metadata": {
    "scrolled": true
   },
   "outputs": [
    {
     "name": "stdout",
     "output_type": "stream",
     "text": [
      "glove_bilstm_2_layer F1 = 0.63 ± 0.01\n"
     ]
    },
    {
     "data": {
      "image/png": "[encoded data removed]",
      "text/plain": [
       "<Figure size 432x288 with 1 Axes>"
      ]
     },
     "metadata": {
      "needs_background": "light"
     },
     "output_type": "display_data"
    }
   ],
   "source": [
    "from scipy.stats import sem\n",
    "\n",
    "for model in models:\n",
    "    gold = test_gold\n",
    "    predictions = test[model].tolist()\n",
    "    f1_scores = [f1_score(gold[i], predictions[i]) for i in range(len(gold))]\n",
    "    test[model+\"_f1\"] = f1_scores\n",
    "    _ = dev[model+'_f1'].plot(kind=\"box\")\n",
    "    print (model, f\"F1 = {test[model+'_f1'].mean():.2f} ± {sem(test[model+'_f1']):.2f}\")\n",
    "    break\n"
   ]
  },
  {
   "cell_type": "code",
   "execution_count": null,
   "metadata": {},
   "outputs": [],
   "source": []
  }
 ],
 "metadata": {
  "kernelspec": {
   "display_name": "Python 3",
   "language": "python",
   "name": "python3"
  },
  "language_info": {
   "codemirror_mode": {
    "name": "ipython",
    "version": 3
   },
   "file_extension": ".py",
   "mimetype": "text/x-python",
   "name": "python",
   "nbconvert_exporter": "python",
   "pygments_lexer": "ipython3",
   "version": "3.6.9"
  }
 },
 "nbformat": 4,
 "nbformat_minor": 2
}
