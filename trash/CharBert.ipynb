{
 "cells": [
  {
   "cell_type": "markdown",
   "metadata": {},
   "source": [
    "# CharBert"
   ]
  },
  {
   "cell_type": "code",
   "execution_count": 1,
   "metadata": {},
   "outputs": [],
   "source": [
    "import __init__"
   ]
  },
  {
   "cell_type": "code",
   "execution_count": 17,
   "metadata": {},
   "outputs": [
    {
     "name": "stdout",
     "output_type": "stream",
     "text": [
      ">>> wordpiece embeddings whith shape of: Embedding(30522, 768, padding_idx=0)\n",
      ">>> wordpieces are replaced with a CharacterCNN with followint architecture\n",
      ": CharacterCNN(\n",
      "  (char_conv_0): Conv1d(16, 32, kernel_size=(1,), stride=(1,))\n",
      "  (char_conv_1): Conv1d(16, 32, kernel_size=(2,), stride=(1,))\n",
      "  (char_conv_2): Conv1d(16, 64, kernel_size=(3,), stride=(1,))\n",
      "  (char_conv_3): Conv1d(16, 128, kernel_size=(4,), stride=(1,))\n",
      "  (char_conv_4): Conv1d(16, 256, kernel_size=(5,), stride=(1,))\n",
      "  (char_conv_5): Conv1d(16, 512, kernel_size=(6,), stride=(1,))\n",
      "  (char_conv_6): Conv1d(16, 1024, kernel_size=(7,), stride=(1,))\n",
      "  (_highways): Highway(\n",
      "    (_layers): ModuleList(\n",
      "      (0): Linear(in_features=2048, out_features=4096, bias=True)\n",
      "      (1): Linear(in_features=2048, out_features=4096, bias=True)\n",
      "    )\n",
      "  )\n",
      "  (_projection): Linear(in_features=2048, out_features=768, bias=True)\n",
      ")\n"
     ]
    }
   ],
   "source": [
    "from transformers import BertForSequenceClassification, BertConfig\n",
    "from models.charbert.character_bert import CharacterBertModel\n",
    "from transformers import BertTokenizer\n",
    "from models.charbert.utils.character_cnn import CharacterIndexer\n",
    "import numpy as np\n",
    "\n",
    "config = BertConfig.from_pretrained('bert-base-uncased', num_labels=2)\n",
    "bert_word_tokenizer = BertTokenizer.from_pretrained('bert-base-uncased')\n",
    "bertmodel = BertForSequenceClassification(config=config)\n",
    "\n",
    "print(\">>> wordpiece embeddings whith shape of:\", bertmodel.bert.embeddings.word_embeddings)\n",
    "\n",
    "character_bert_model = CharacterBertModel.from_pretrained('../pretrained-models/general_character_bert/')\n",
    "bertmodel.bert = character_bert_model\n",
    "char_indexer = CharacterIndexer()  # This converts each token into a list of character indices\n",
    "\n",
    "print(\">>> wordpieces are replaced with a CharacterCNN with followint architecture\\n:\",\n",
    "      bertmodel.bert.embeddings.word_embeddings)   \n",
    "\n",
    "\n",
    "def get_bert_features(text, word_by_word=False):\n",
    "    F_len = lambda X:np.array([len(x) for x in X])\n",
    "    if text.isspace():\n",
    "        return np.zeros((1,768))[0]\n",
    "    tokenized_text = bert_word_tokenizer.basic_tokenizer.tokenize(text) #this is NOT wordpiece tokenization\n",
    "    input_tensor = char_indexer.as_padded_tensor([tokenized_text])  # we build a batch of only one sequence\n",
    "    #input_tensor.shape >>> torch.Size([1, 8, 50]) # (batch_size, sequence_length, character_embedding_dim)\n",
    "    output = bertmodel.bert(input_tensor)[0][0]\n",
    "    \n",
    "    if word_by_word:\n",
    "        return output\n",
    "    else:\n",
    "        vec = output.detach().numpy()#/F_len(tokenized_text).reshape(-1,1)\n",
    "        return  sum(vec)/vec.shape[0]"
   ]
  },
  {
   "cell_type": "code",
   "execution_count": 18,
   "metadata": {},
   "outputs": [
    {
     "name": "stdout",
     "output_type": "stream",
     "text": [
      "the shape: (768,)\n"
     ]
    }
   ],
   "source": [
    "text = \"Fuck you\"\n",
    "\n",
    "vec = get_bert_features(text, word_by_word=False)\n",
    "\n",
    "print(\"the shape:\", vec.shape)\n"
   ]
  },
  {
   "cell_type": "code",
   "execution_count": 22,
   "metadata": {},
   "outputs": [
    {
     "data": {
      "text/plain": [
       "(768,)"
      ]
     },
     "execution_count": 22,
     "metadata": {},
     "output_type": "execute_result"
    }
   ],
   "source": [
    "vec.shape"
   ]
  },
  {
   "cell_type": "code",
   "execution_count": null,
   "metadata": {},
   "outputs": [],
   "source": []
  },
  {
   "cell_type": "code",
   "execution_count": null,
   "metadata": {},
   "outputs": [],
   "source": []
  },
  {
   "cell_type": "code",
   "execution_count": null,
   "metadata": {},
   "outputs": [],
   "source": []
  }
 ],
 "metadata": {
  "kernelspec": {
   "display_name": "Python 3",
   "language": "python",
   "name": "python3"
  },
  "language_info": {
   "codemirror_mode": {
    "name": "ipython",
    "version": 3
   },
   "file_extension": ".py",
   "mimetype": "text/x-python",
   "name": "python",
   "nbconvert_exporter": "python",
   "pygments_lexer": "ipython3",
   "version": "3.6.9"
  }
 },
 "nbformat": 4,
 "nbformat_minor": 2
}
