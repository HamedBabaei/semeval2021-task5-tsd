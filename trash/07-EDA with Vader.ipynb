{
 "cells": [
  {
   "cell_type": "markdown",
   "metadata": {},
   "source": [
    "# EDA with Vader\n",
    "-------------"
   ]
  },
  {
   "cell_type": "markdown",
   "metadata": {},
   "source": [
    "Loading data and models for CRF cross validations"
   ]
  },
  {
   "cell_type": "code",
   "execution_count": 1,
   "metadata": {},
   "outputs": [
    {
     "name": "stderr",
     "output_type": "stream",
     "text": [
      "/home/hb/.local/lib/python3.6/site-packages/spacy/util.py:275: UserWarning: [W031] Model 'en_core_web_sm' (2.2.5) requires spaCy v2.2 and is incompatible with the current spaCy version (2.3.2). This may lead to unexpected results or runtime errors. To resolve this, download a newer compatible model or retrain your custom model with the current spaCy version. For more details and available updates, run: python -m spacy validate\n",
      "  warnings.warn(warn_msg)\n"
     ]
    },
    {
     "data": {
      "text/html": [
       "<div>\n",
       "<style scoped>\n",
       "    .dataframe tbody tr th:only-of-type {\n",
       "        vertical-align: middle;\n",
       "    }\n",
       "\n",
       "    .dataframe tbody tr th {\n",
       "        vertical-align: top;\n",
       "    }\n",
       "\n",
       "    .dataframe thead th {\n",
       "        text-align: right;\n",
       "    }\n",
       "</style>\n",
       "<table border=\"1\" class=\"dataframe\">\n",
       "  <thead>\n",
       "    <tr style=\"text-align: right;\">\n",
       "      <th></th>\n",
       "      <th>spans</th>\n",
       "      <th>text</th>\n",
       "    </tr>\n",
       "  </thead>\n",
       "  <tbody>\n",
       "    <tr>\n",
       "      <th>0</th>\n",
       "      <td>[15, 16, 17, 18, 19, 27, 28, 29, 30, 31]</td>\n",
       "      <td>Because he's a moron and a bigot. It's not any...</td>\n",
       "    </tr>\n",
       "    <tr>\n",
       "      <th>1</th>\n",
       "      <td>[29, 30, 31, 32, 33, 34]</td>\n",
       "      <td>How about we stop protecting idiots and let na...</td>\n",
       "    </tr>\n",
       "    <tr>\n",
       "      <th>2</th>\n",
       "      <td>[166, 167, 168, 169, 170, 171]</td>\n",
       "      <td>If people  were  smart, they would  Boycott th...</td>\n",
       "    </tr>\n",
       "  </tbody>\n",
       "</table>\n",
       "</div>"
      ],
      "text/plain": [
       "                                      spans  \\\n",
       "0  [15, 16, 17, 18, 19, 27, 28, 29, 30, 31]   \n",
       "1                  [29, 30, 31, 32, 33, 34]   \n",
       "2            [166, 167, 168, 169, 170, 171]   \n",
       "\n",
       "                                                text  \n",
       "0  Because he's a moron and a bigot. It's not any...  \n",
       "1  How about we stop protecting idiots and let na...  \n",
       "2  If people  were  smart, they would  Boycott th...  "
      ]
     },
     "metadata": {},
     "output_type": "display_data"
    },
    {
     "data": {
      "text/html": [
       "<div>\n",
       "<style scoped>\n",
       "    .dataframe tbody tr th:only-of-type {\n",
       "        vertical-align: middle;\n",
       "    }\n",
       "\n",
       "    .dataframe tbody tr th {\n",
       "        vertical-align: top;\n",
       "    }\n",
       "\n",
       "    .dataframe thead th {\n",
       "        text-align: right;\n",
       "    }\n",
       "</style>\n",
       "<table border=\"1\" class=\"dataframe\">\n",
       "  <thead>\n",
       "    <tr style=\"text-align: right;\">\n",
       "      <th></th>\n",
       "      <th>spans</th>\n",
       "      <th>text</th>\n",
       "    </tr>\n",
       "  </thead>\n",
       "  <tbody>\n",
       "    <tr>\n",
       "      <th>0</th>\n",
       "      <td>[8, 9, 10, 11, 12, 13, 14, 15, 16, 17, 18, 19,...</td>\n",
       "      <td>Another violent and aggressive immigrant killi...</td>\n",
       "    </tr>\n",
       "    <tr>\n",
       "      <th>1</th>\n",
       "      <td>[33, 34, 35, 36, 37, 38, 39]</td>\n",
       "      <td>I am 56 years old, I am not your fucking junio...</td>\n",
       "    </tr>\n",
       "    <tr>\n",
       "      <th>2</th>\n",
       "      <td>[0, 1, 2, 3]</td>\n",
       "      <td>Damn, a whole family. Sad indeed.</td>\n",
       "    </tr>\n",
       "  </tbody>\n",
       "</table>\n",
       "</div>"
      ],
      "text/plain": [
       "                                               spans  \\\n",
       "0  [8, 9, 10, 11, 12, 13, 14, 15, 16, 17, 18, 19,...   \n",
       "1                       [33, 34, 35, 36, 37, 38, 39]   \n",
       "2                                       [0, 1, 2, 3]   \n",
       "\n",
       "                                                text  \n",
       "0  Another violent and aggressive immigrant killi...  \n",
       "1  I am 56 years old, I am not your fucking junio...  \n",
       "2                  Damn, a whole family. Sad indeed.  "
      ]
     },
     "metadata": {},
     "output_type": "display_data"
    }
   ],
   "source": [
    "import __init__\n",
    "import models.crf as crf\n",
    "import models.cross_validator as cross_validator\n",
    "import models.datahandler as datahandler\n",
    "from models.datamodel import DataModel\n",
    "import models.outputmaker as outputmaker\n",
    "import evaluator.metrics as metrics\n",
    "\n",
    "trial = datahandler.load_train('../data/dataset/tsd_trial.csv', verbose=True)\n",
    "train = datahandler.load_train('../data/dataset/tsd_train.csv', verbose=True)"
   ]
  },
  {
   "cell_type": "markdown",
   "metadata": {},
   "source": [
    "Initialize `CRF Model` Methods"
   ]
  },
  {
   "cell_type": "markdown",
   "metadata": {},
   "source": [
    "### Train on train data, test on trial data"
   ]
  },
  {
   "cell_type": "code",
   "execution_count": 3,
   "metadata": {},
   "outputs": [],
   "source": [
    "model = crf.CRF()\n",
    "\n",
    "datamodel = DataModel(model='crf')\n",
    "\n",
    "output_maker = outputmaker.crf_output\n",
    "\n",
    "evaluator = metrics"
   ]
  },
  {
   "cell_type": "code",
   "execution_count": 28,
   "metadata": {},
   "outputs": [
    {
     "name": "stderr",
     "output_type": "stream",
     "text": [
      "100%|██████████| 7939/7939 [02:12<00:00, 59.84it/s]\n",
      "100%|██████████| 690/690 [00:10<00:00, 63.81it/s]\n"
     ]
    }
   ],
   "source": [
    "X_train, y_train , taboo_words_train, _ = cross_validator.load_data(train, [i for i in range(train.shape[0])], \n",
    "                                                    datamodel, logger=True)\n",
    "\n",
    "X_test, y_test , taboo_words_test, test_texts = cross_validator.load_data(trial, [i for i in range(trial.shape[0])], \n",
    "                                                           datamodel, logger=True)"
   ]
  },
  {
   "cell_type": "code",
   "execution_count": 75,
   "metadata": {
    "scrolled": true
   },
   "outputs": [],
   "source": [
    "from nltk.sentiment.vader import SentimentIntensityAnalyzer\n",
    "import seaborn as sns\n",
    "\n",
    "vader = SentimentIntensityAnalyzer()\n",
    "\n",
    "def get_tabo_words_si(taboo_words):\n",
    "    words = [ word.split()  for word in taboo_words if word != '']\n",
    "    words = [w for word in words for w in word]\n",
    "    \n",
    "    scores = [vader.polarity_scores(word)['compound'] for word in words]\n",
    "    return scores\n",
    "\n",
    "def get_sent_si(sents):\n",
    "    scores = [vader.polarity_scores(sent.replace(\"-\",\" \").replace(\"/\", \" \"))['compound'] for sent in sents]\n",
    "    return scores\n",
    "\n",
    "def stats(data):\n",
    "    ax = sns.boxplot(x=data)\n",
    "    print(\"Total:\", len(data))\n",
    "    print(\"Mean:\", np.mean(data))\n",
    "    print(\"STD :\", np.std(data))\n",
    "    print(\"Max:\", np.max(data))\n",
    "    print(\"Min:\", np.min(data))\n",
    "    print(\"Zero values:\", sum((np.array(data) == 0).astype(int)))\n",
    "    print(\"+ values:\", sum((np.array(data) > 0).astype(int)))\n",
    "    print(\"- values:\", sum((np.array(data) < 0).astype(int)))\n",
    "    print(\"None-Zero values:\", len(data) - sum((np.array(data) == 0).astype(int)))\n",
    "    print(\"Mean without Zero values:\", np.mean(np.array([d for d in data if d!=0])))\n",
    "    #print(\"STD without Zero values:\", np.std(np.array([d for d in data if d!=0])))\n",
    "    print(\"Mean of + values:\", np.mean(np.array([d for d in data if d > 0])))\n",
    "    print(\"Mean of - values:\", np.mean(np.array([d for d in data if d < 0])))"
   ]
  },
  {
   "cell_type": "code",
   "execution_count": 76,
   "metadata": {},
   "outputs": [],
   "source": [
    "scores_train = get_tabo_words_si(taboo_words_train)\n",
    "scores_test = get_tabo_words_si(taboo_words_test)"
   ]
  },
  {
   "cell_type": "code",
   "execution_count": 77,
   "metadata": {},
   "outputs": [
    {
     "name": "stdout",
     "output_type": "stream",
     "text": [
      "STATS on Train set:\n",
      "Total: 23511\n",
      "Mean: -0.1428722640466165\n",
      "STD : 0.24330729469411938\n",
      "Max: 0.6369\n",
      "Min: -0.7096\n",
      "Zero values: 15428\n",
      "+ values: 636\n",
      "- values: 7447\n",
      "None-Zero values: 8083\n",
      "Mean without Zero values: -0.4155721638005691\n",
      "Mean of + values: 0.3269441823899371\n",
      "Mean of - values: -0.4789856720827179\n"
     ]
    },
    {
     "data": {
      "image/png": "[encoded data removed]",
      "text/plain": [
       "<Figure size 432x288 with 1 Axes>"
      ]
     },
     "metadata": {
      "needs_background": "light"
     },
     "output_type": "display_data"
    }
   ],
   "source": [
    "print(\"STATS on Train set:\")\n",
    "stats(scores_train)"
   ]
  },
  {
   "cell_type": "code",
   "execution_count": 78,
   "metadata": {},
   "outputs": [
    {
     "name": "stdout",
     "output_type": "stream",
     "text": [
      "----------------------\n",
      "STATS on test set:\n",
      "Total: 1725\n",
      "Mean: -0.1675662028985507\n",
      "STD : 0.2521099608948318\n",
      "Max: 0.6369\n",
      "Min: -0.7096\n",
      "Zero values: 1046\n",
      "+ values: 46\n",
      "- values: 633\n",
      "None-Zero values: 679\n",
      "Mean without Zero values: -0.42570206185567006\n",
      "Mean of + values: 0.3254043478260869\n",
      "Mean of - values: -0.48028483412322276\n"
     ]
    },
    {
     "data": {
      "image/png": "[encoded data removed]",
      "text/plain": [
       "<Figure size 432x288 with 1 Axes>"
      ]
     },
     "metadata": {
      "needs_background": "light"
     },
     "output_type": "display_data"
    }
   ],
   "source": [
    "print(\"----------------------\")\n",
    "print(\"STATS on test set:\")\n",
    "stats(scores_test)"
   ]
  },
  {
   "cell_type": "code",
   "execution_count": 79,
   "metadata": {},
   "outputs": [],
   "source": [
    "train_sent_si = get_sent_si(_)\n",
    "test_sent_si = get_sent_si(test_texts)"
   ]
  },
  {
   "cell_type": "code",
   "execution_count": 80,
   "metadata": {},
   "outputs": [
    {
     "name": "stdout",
     "output_type": "stream",
     "text": [
      "STATS on train set:\n",
      "Total: 7939\n",
      "Mean: -0.32919685098878954\n",
      "STD : 0.5261966048260901\n",
      "Max: 0.9938\n",
      "Min: -0.9956\n",
      "Zero values: 516\n",
      "+ values: 1805\n",
      "- values: 5618\n",
      "None-Zero values: 7423\n",
      "Mean without Zero values: -0.35208053347703083\n",
      "Mean of + values: 0.483375567867036\n",
      "Mean of - values: -0.6205031505873977\n"
     ]
    },
    {
     "data": {
      "image/png": "[encoded data removed]",
      "text/plain": [
       "<Figure size 432x288 with 1 Axes>"
      ]
     },
     "metadata": {
      "needs_background": "light"
     },
     "output_type": "display_data"
    }
   ],
   "source": [
    "print(\"STATS on train set:\")\n",
    "stats(train_sent_si)"
   ]
  },
  {
   "cell_type": "code",
   "execution_count": 81,
   "metadata": {},
   "outputs": [
    {
     "name": "stdout",
     "output_type": "stream",
     "text": [
      "STATS on test set:\n",
      "Total: 690\n",
      "Mean: -0.34489681159420293\n",
      "STD : 0.518202163886355\n",
      "Max: 0.9552\n",
      "Min: -0.9879\n",
      "Zero values: 41\n",
      "+ values: 146\n",
      "- values: 503\n",
      "None-Zero values: 649\n",
      "Mean without Zero values: -0.3666853620955316\n",
      "Mean of + values: 0.4939534246575342\n",
      "Mean of - values: -0.6164930417495029\n"
     ]
    },
    {
     "data": {
      "image/png": "[encoded data removed]",
      "text/plain": [
       "<Figure size 432x288 with 1 Axes>"
      ]
     },
     "metadata": {
      "needs_background": "light"
     },
     "output_type": "display_data"
    }
   ],
   "source": [
    "print(\"STATS on test set:\")\n",
    "stats(test_sent_si)"
   ]
  },
  {
   "cell_type": "code",
   "execution_count": null,
   "metadata": {},
   "outputs": [],
   "source": []
  }
 ],
 "metadata": {
  "kernelspec": {
   "display_name": "Python 3",
   "language": "python",
   "name": "python3"
  },
  "language_info": {
   "codemirror_mode": {
    "name": "ipython",
    "version": 3
   },
   "file_extension": ".py",
   "mimetype": "text/x-python",
   "name": "python",
   "nbconvert_exporter": "python",
   "pygments_lexer": "ipython3",
   "version": "3.6.9"
  }
 },
 "nbformat": 4,
 "nbformat_minor": 2
}
