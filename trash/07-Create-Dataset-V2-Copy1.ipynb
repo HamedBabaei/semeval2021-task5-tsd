{
 "cells": [
  {
   "cell_type": "code",
   "execution_count": 1,
   "metadata": {},
   "outputs": [
    {
     "name": "stderr",
     "output_type": "stream",
     "text": [
      "/home/hb/.local/lib/python3.6/site-packages/spacy/util.py:275: UserWarning: [W031] Model 'en_core_web_sm' (2.2.5) requires spaCy v2.2 and is incompatible with the current spaCy version (2.3.2). This may lead to unexpected results or runtime errors. To resolve this, download a newer compatible model or retrain your custom model with the current spaCy version. For more details and available updates, run: python -m spacy validate\n",
      "  warnings.warn(warn_msg)\n"
     ]
    },
    {
     "data": {
      "text/html": [
       "<div>\n",
       "<style scoped>\n",
       "    .dataframe tbody tr th:only-of-type {\n",
       "        vertical-align: middle;\n",
       "    }\n",
       "\n",
       "    .dataframe tbody tr th {\n",
       "        vertical-align: top;\n",
       "    }\n",
       "\n",
       "    .dataframe thead th {\n",
       "        text-align: right;\n",
       "    }\n",
       "</style>\n",
       "<table border=\"1\" class=\"dataframe\">\n",
       "  <thead>\n",
       "    <tr style=\"text-align: right;\">\n",
       "      <th></th>\n",
       "      <th>spans</th>\n",
       "      <th>text</th>\n",
       "    </tr>\n",
       "  </thead>\n",
       "  <tbody>\n",
       "    <tr>\n",
       "      <th>0</th>\n",
       "      <td>[15, 16, 17, 18, 19, 27, 28, 29, 30, 31]</td>\n",
       "      <td>Because he's a moron and a bigot. It's not any...</td>\n",
       "    </tr>\n",
       "    <tr>\n",
       "      <th>1</th>\n",
       "      <td>[29, 30, 31, 32, 33, 34]</td>\n",
       "      <td>How about we stop protecting idiots and let na...</td>\n",
       "    </tr>\n",
       "    <tr>\n",
       "      <th>2</th>\n",
       "      <td>[166, 167, 168, 169, 170, 171]</td>\n",
       "      <td>If people  were  smart, they would  Boycott th...</td>\n",
       "    </tr>\n",
       "  </tbody>\n",
       "</table>\n",
       "</div>"
      ],
      "text/plain": [
       "                                      spans  \\\n",
       "0  [15, 16, 17, 18, 19, 27, 28, 29, 30, 31]   \n",
       "1                  [29, 30, 31, 32, 33, 34]   \n",
       "2            [166, 167, 168, 169, 170, 171]   \n",
       "\n",
       "                                                text  \n",
       "0  Because he's a moron and a bigot. It's not any...  \n",
       "1  How about we stop protecting idiots and let na...  \n",
       "2  If people  were  smart, they would  Boycott th...  "
      ]
     },
     "metadata": {},
     "output_type": "display_data"
    },
    {
     "data": {
      "text/html": [
       "<div>\n",
       "<style scoped>\n",
       "    .dataframe tbody tr th:only-of-type {\n",
       "        vertical-align: middle;\n",
       "    }\n",
       "\n",
       "    .dataframe tbody tr th {\n",
       "        vertical-align: top;\n",
       "    }\n",
       "\n",
       "    .dataframe thead th {\n",
       "        text-align: right;\n",
       "    }\n",
       "</style>\n",
       "<table border=\"1\" class=\"dataframe\">\n",
       "  <thead>\n",
       "    <tr style=\"text-align: right;\">\n",
       "      <th></th>\n",
       "      <th>spans</th>\n",
       "      <th>text</th>\n",
       "    </tr>\n",
       "  </thead>\n",
       "  <tbody>\n",
       "    <tr>\n",
       "      <th>0</th>\n",
       "      <td>[8, 9, 10, 11, 12, 13, 14, 15, 16, 17, 18, 19,...</td>\n",
       "      <td>Another violent and aggressive immigrant killi...</td>\n",
       "    </tr>\n",
       "    <tr>\n",
       "      <th>1</th>\n",
       "      <td>[33, 34, 35, 36, 37, 38, 39]</td>\n",
       "      <td>I am 56 years old, I am not your fucking junio...</td>\n",
       "    </tr>\n",
       "    <tr>\n",
       "      <th>2</th>\n",
       "      <td>[0, 1, 2, 3]</td>\n",
       "      <td>Damn, a whole family. Sad indeed.</td>\n",
       "    </tr>\n",
       "  </tbody>\n",
       "</table>\n",
       "</div>"
      ],
      "text/plain": [
       "                                               spans  \\\n",
       "0  [8, 9, 10, 11, 12, 13, 14, 15, 16, 17, 18, 19,...   \n",
       "1                       [33, 34, 35, 36, 37, 38, 39]   \n",
       "2                                       [0, 1, 2, 3]   \n",
       "\n",
       "                                                text  \n",
       "0  Another violent and aggressive immigrant killi...  \n",
       "1  I am 56 years old, I am not your fucking junio...  \n",
       "2                  Damn, a whole family. Sad indeed.  "
      ]
     },
     "metadata": {},
     "output_type": "display_data"
    }
   ],
   "source": [
    "import __init__\n",
    "import models.cross_validator as cross_validator\n",
    "import models.datahandler as datahandler\n",
    "from models.datamodel import DataModel\n",
    "\n",
    "trial = datahandler.load_train('../data/dataset/tsd_trial.csv', verbose=True)\n",
    "train = datahandler.load_train('../data/dataset/tsd_train.csv', verbose=True)\n",
    "\n",
    "datamodel = DataModel(model='cmm', split_toxics=True)"
   ]
  },
  {
   "cell_type": "code",
   "execution_count": 2,
   "metadata": {},
   "outputs": [
    {
     "name": "stderr",
     "output_type": "stream",
     "text": [
      "100%|██████████| 690/690 [00:11<00:00, 58.79it/s]\n"
     ]
    }
   ],
   "source": [
    "#X_train, y_train, train_taboo_words, train_texts = cross_validator.load_data(train, \n",
    "#                                                                            [i for i in range(train.shape[0])], \n",
    "#                                                                            datamodel, logger=True)\n",
    "\n",
    "X_test, y_test, test_taboo_words, test_texts = cross_validator.load_data(trial, \n",
    "                                                                         [i for i in range(trial.shape[0])], \n",
    "                                                                         datamodel, logger=True)"
   ]
  },
  {
   "cell_type": "code",
   "execution_count": 3,
   "metadata": {},
   "outputs": [],
   "source": [
    "def create_json(X, Y, texts, taboo_words):\n",
    "    jsn = {}\n",
    "    for index in range(len(X)):\n",
    "        jsn[index]={\n",
    "            'text':texts[index],\n",
    "            'truth-spans':Y[index],\n",
    "            'x-test':X[index],\n",
    "            'taboo-words':taboo_words[index]\n",
    "        }\n",
    "    return jsn"
   ]
  },
  {
   "cell_type": "code",
   "execution_count": 30,
   "metadata": {},
   "outputs": [],
   "source": [
    "def create_df(X, Y, texts, taboo_words):\n",
    "    data= []\n",
    "    for index in range(len(X)):\n",
    "        tokens, spans, text, taboo_word = X[index], Y[index], texts[index], taboo_words[index]\n",
    "        for item in tokens:\n",
    "            token, tag, iob, label = item\n",
    "        "
   ]
  },
  {
   "cell_type": "code",
   "execution_count": 31,
   "metadata": {},
   "outputs": [
    {
     "data": {
      "text/plain": [
       "('Because', 'IN', 'O', 'normal')"
      ]
     },
     "execution_count": 31,
     "metadata": {},
     "output_type": "execute_result"
    }
   ],
   "source": [
    "create_df(X_test, y_test, test_taboo_words, test_texts)"
   ]
  },
  {
   "cell_type": "code",
   "execution_count": 83,
   "metadata": {},
   "outputs": [
    {
     "data": {
      "text/plain": [
       "[('Only', 'RB', 'O', 'normal'),\n",
       " ('an', 'DT', 'O', 'normal'),\n",
       " ('idiot', 'NN', 'O', 'toxic'),\n",
       " ('would', 'MD', 'O', 'normal'),\n",
       " ('use', 'VB', 'O', 'normal'),\n",
       " ('and', 'CC', 'O', 'normal'),\n",
       " ('believe', 'VB', 'O', 'normal'),\n",
       " ('anything', 'NN', 'O', 'normal'),\n",
       " ('this', 'DT', 'O', 'normal'),\n",
       " ('This', 'DT', 'O', 'normal'),\n",
       " ('Republican', 'JJ', 'B', 'normal'),\n",
       " ('propaganda', 'NN', 'O', 'normal'),\n",
       " ('machine', 'NN', 'O', 'normal'),\n",
       " ('publishes', 'VBZ', 'O', 'normal'),\n",
       " ('www.realclearpolitics.com', 'ADD', 'O', 'normal')]"
      ]
     },
     "execution_count": 83,
     "metadata": {},
     "output_type": "execute_result"
    }
   ],
   "source": [
    "X_test[5]"
   ]
  },
  {
   "cell_type": "code",
   "execution_count": 5,
   "metadata": {},
   "outputs": [
    {
     "data": {
      "text/plain": [
       "('How about we stop protecting idiots and let nature add some bleach to the gene pool. We can always submit their names for the Darwin awards.',\n",
       " 140)"
      ]
     },
     "execution_count": 5,
     "metadata": {},
     "output_type": "execute_result"
    }
   ],
   "source": [
    "index = 1\n",
    "test_texts[index], len(test_texts[index])"
   ]
  },
  {
   "cell_type": "code",
   "execution_count": 80,
   "metadata": {
    "scrolled": false
   },
   "outputs": [
    {
     "name": "stdout",
     "output_type": "stream",
     "text": [
      "[166, 167, 168, 169, 170, 171]\n",
      "188 \t If people  were  smart, they would  Boycott this  inept  airline,  but   they  are  not  smart,  so   rogue  businesses  like  this  one,   still thrive   taking the idiots  for  a ride...\n",
      "0|I 1|f 2 \tIf|2 \n",
      "3|p 4|e 5|o 6|p 7|l 8|e 9 \tpeople|6 \n",
      "10 \t|0 \n",
      "11|w 12|e 13|r 14|e 15 \twere|4 \n",
      "16 \t|0 \n",
      "17|s 18|m 19|a 20|r 21|t 22|, 23 \tsmart,|6 \n",
      "24|t 25|h 26|e 27|y 28 \tthey|4 \n",
      "29|w 30|o 31|u 32|l 33|d 34 \twould|5 \n",
      "35 \t|0 \n",
      "36|B 37|o 38|y 39|c 40|o 41|t 42|t 43 \tBoycott|7 \n",
      "44|t 45|h 46|i 47|s 48 \tthis|4 \n",
      "49 \t|0 \n",
      "50|i 51|n 52|e 53|p 54|t 55 \tinept|5 \n",
      "56 \t|0 \n",
      "57|a 58|i 59|r 60|l 61|i 62|n 63|e 64|, 65 \tairline,|8 \n",
      "66 \t|0 \n",
      "67|b 68|u 69|t 70 \tbut|3 \n",
      "71 \t|0 \n",
      "72 \t|0 \n",
      "73|t 74|h 75|e 76|y 77 \tthey|4 \n",
      "78 \t|0 \n",
      "79|a 80|r 81|e 82 \tare|3 \n",
      "83 \t|0 \n",
      "84|n 85|o 86|t 87 \tnot|3 \n",
      "88 \t|0 \n",
      "89|s 90|m 91|a 92|r 93|t 94|, 95 \tsmart,|6 \n",
      "96 \t|0 \n",
      "97|s 98|o 99 \tso|2 \n",
      "100 \t|0 \n",
      "101 \t|0 \n",
      "102|r 103|o 104|g 105|u 106|e 107 \trogue|5 \n",
      "108 \t|0 \n",
      "109|b 110|u 111|s 112|i 113|n 114|e 115|s 116|s 117|e 118|s 119 \tbusinesses|10 \n",
      "120 \t|0 \n",
      "121|l 122|i 123|k 124|e 125 \tlike|4 \n",
      "126 \t|0 \n",
      "127|t 128|h 129|i 130|s 131 \tthis|4 \n",
      "132 \t|0 \n",
      "133|o 134|n 135|e 136|, 137 \tone,|4 \n",
      "138 \t|0 \n",
      "139 \t|0 \n",
      "140|s 141|t 142|i 143|l 144|l 145 \tstill|5 \n",
      "146|t 147|h 148|r 149|i 150|v 151|e 152 \tthrive|6 \n",
      "153 \t|0 \n",
      "154 \t|0 \n",
      "155|t 156|a 157|k 158|i 159|n 160|g 161 \ttaking|6 \n",
      "162|t 163|h 164|e 165 \tthe|3 \n",
      "166|i 167|d 168|i 169|o 170|t 171|s 172 \tidiots|6 \n",
      "173 \t|0 \n",
      "174|f 175|o 176|r 177 \tfor|3 \n",
      "178 \t|0 \n",
      "179|a 180 \ta|1 \n",
      "181|r 182|i 183|d 184|e 185|. 186|. 187|.    ride...\n"
     ]
    }
   ],
   "source": [
    "index = 2\n",
    "print(y_test[index])\n",
    "print(len(test_texts[index]), '\\t', test_texts[index].replace('\\n','*'))\n",
    "story = ''\n",
    "word = ''\n",
    "for i, w in enumerate(test_texts[index].replace('\\n',' ')):\n",
    "    if w == ' ':\n",
    "        story += str(i)+w+'\\t'+word+'|'+str(len(word))+' \\n'\n",
    "        word = ''\n",
    "    else:\n",
    "        story += str(i)+'|'+w + ' '\n",
    "        word += w\n",
    "\n",
    "story += '   '+word\n",
    "print(story)"
   ]
  },
  {
   "cell_type": "code",
   "execution_count": null,
   "metadata": {},
   "outputs": [],
   "source": []
  },
  {
   "cell_type": "code",
   "execution_count": 79,
   "metadata": {},
   "outputs": [
    {
     "name": "stdout",
     "output_type": "stream",
     "text": [
      "[185, 186, 187, 188, 189, 190, 191, 192, 193]\n",
      "\n",
      "what \t [0, 1, 2, 3]\n",
      "is \t [5, 6]\n",
      "too \t [8, 9, 10]\n",
      "pathetic \t [12, 13, 14, 15, 16, 17, 18, 19]\n",
      "is \t [21, 22]\n",
      "the \t [24, 25, 26]\n",
      "lie \t [28, 29, 30]\n",
      "you \t [32, 33, 34]\n",
      "just \t [36, 37, 38, 39]\n",
      "fell \t [41, 42, 43, 44]\n",
      "for, \t [46, 47, 48, 49]\n",
      "no \t [51, 52]\n",
      "one \t [54, 55, 56]\n",
      "will \t [58, 59, 60, 61]\n",
      "loose \t [63, 64, 65, 66, 67]\n",
      "health \t [69, 70, 71, 72, 73, 74]\n",
      "care \t [76, 77, 78, 79]\n",
      "loser, \t [81, 82, 83, 84, 85, 86]\n",
      "there \t [88, 89, 90, 91, 92]\n",
      "is \t [94, 95]\n",
      "to \t [97, 98]\n",
      "be \t [100, 101]\n",
      "a \t [103]\n",
      "national \t [105, 106, 107, 108, 109, 110, 111, 112]\n",
      "fund \t [114, 115, 116, 117]\n",
      "to \t [119, 120]\n",
      "ensure \t [122, 123, 124, 125, 126, 127]\n",
      "that,,, \t [129, 130, 131, 132, 133, 134, 135]\n",
      "You \t [138, 139, 140]\n",
      "are \t [142, 143, 144]\n",
      "the \t [146, 147, 148]\n",
      "far \t [150, 151, 152]\n",
      "nut \t [154, 155, 156]\n",
      "job \t [158, 159, 160]\n",
      "lunatic \t [162, 163, 164, 165, 166, 167, 168]\n",
      "left \t [170, 171, 172, 173]\n",
      "fringe \t [175, 176, 177, 178, 179, 180]\n",
      "of \t [182, 183]\n",
      "stupidity \t [185, 186, 187, 188, 189, 190, 191, 192, 193]\n"
     ]
    }
   ],
   "source": [
    "import re\n",
    "index = 50\n",
    "print(y_test[index])\n",
    "print()\n",
    "indecis = [(m.start(), m.end()-1) for m in re.finditer(r'\\S+', test_texts[index].replace('\\n',' '))]\n",
    "\n",
    "for c in indecis:\n",
    "    print(test_texts[index].replace('\\n',' ')[c[0]: c[1]+1], '\\t', [i for i in range(c[0], c[1]+1)])"
   ]
  },
  {
   "cell_type": "code",
   "execution_count": 74,
   "metadata": {},
   "outputs": [
    {
     "data": {
      "text/plain": [
       "False"
      ]
     },
     "execution_count": 74,
     "metadata": {},
     "output_type": "execute_result"
    }
   ],
   "source": [
    "(0, 3) in (-10,10)"
   ]
  },
  {
   "cell_type": "code",
   "execution_count": null,
   "metadata": {},
   "outputs": [],
   "source": []
  }
 ],
 "metadata": {
  "kernelspec": {
   "display_name": "Python 3",
   "language": "python",
   "name": "python3"
  },
  "language_info": {
   "codemirror_mode": {
    "name": "ipython",
    "version": 3
   },
   "file_extension": ".py",
   "mimetype": "text/x-python",
   "name": "python",
   "nbconvert_exporter": "python",
   "pygments_lexer": "ipython3",
   "version": "3.6.9"
  }
 },
 "nbformat": 4,
 "nbformat_minor": 2
}
