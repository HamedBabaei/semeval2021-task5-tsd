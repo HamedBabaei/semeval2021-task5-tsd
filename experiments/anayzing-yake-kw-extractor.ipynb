{
 "cells": [
  {
   "cell_type": "code",
   "execution_count": 1,
   "metadata": {},
   "outputs": [
    {
     "name": "stderr",
     "output_type": "stream",
     "text": [
      "/home/hb/.local/lib/python3.6/site-packages/spacy/util.py:275: UserWarning: [W031] Model 'en_core_web_sm' (2.2.5) requires spaCy v2.2 and is incompatible with the current spaCy version (2.3.2). This may lead to unexpected results or runtime errors. To resolve this, download a newer compatible model or retrain your custom model with the current spaCy version. For more details and available updates, run: python -m spacy validate\n",
      "  warnings.warn(warn_msg)\n"
     ]
    },
    {
     "data": {
      "text/html": [
       "<div>\n",
       "<style scoped>\n",
       "    .dataframe tbody tr th:only-of-type {\n",
       "        vertical-align: middle;\n",
       "    }\n",
       "\n",
       "    .dataframe tbody tr th {\n",
       "        vertical-align: top;\n",
       "    }\n",
       "\n",
       "    .dataframe thead th {\n",
       "        text-align: right;\n",
       "    }\n",
       "</style>\n",
       "<table border=\"1\" class=\"dataframe\">\n",
       "  <thead>\n",
       "    <tr style=\"text-align: right;\">\n",
       "      <th></th>\n",
       "      <th>spans</th>\n",
       "      <th>text</th>\n",
       "    </tr>\n",
       "  </thead>\n",
       "  <tbody>\n",
       "    <tr>\n",
       "      <th>0</th>\n",
       "      <td>[15, 16, 17, 18, 19, 27, 28, 29, 30, 31]</td>\n",
       "      <td>Because he's a moron and a bigot. It's not any...</td>\n",
       "    </tr>\n",
       "    <tr>\n",
       "      <th>1</th>\n",
       "      <td>[29, 30, 31, 32, 33, 34]</td>\n",
       "      <td>How about we stop protecting idiots and let na...</td>\n",
       "    </tr>\n",
       "    <tr>\n",
       "      <th>2</th>\n",
       "      <td>[166, 167, 168, 169, 170, 171]</td>\n",
       "      <td>If people  were  smart, they would  Boycott th...</td>\n",
       "    </tr>\n",
       "  </tbody>\n",
       "</table>\n",
       "</div>"
      ],
      "text/plain": [
       "                                      spans  \\\n",
       "0  [15, 16, 17, 18, 19, 27, 28, 29, 30, 31]   \n",
       "1                  [29, 30, 31, 32, 33, 34]   \n",
       "2            [166, 167, 168, 169, 170, 171]   \n",
       "\n",
       "                                                text  \n",
       "0  Because he's a moron and a bigot. It's not any...  \n",
       "1  How about we stop protecting idiots and let na...  \n",
       "2  If people  were  smart, they would  Boycott th...  "
      ]
     },
     "metadata": {},
     "output_type": "display_data"
    },
    {
     "data": {
      "text/html": [
       "<div>\n",
       "<style scoped>\n",
       "    .dataframe tbody tr th:only-of-type {\n",
       "        vertical-align: middle;\n",
       "    }\n",
       "\n",
       "    .dataframe tbody tr th {\n",
       "        vertical-align: top;\n",
       "    }\n",
       "\n",
       "    .dataframe thead th {\n",
       "        text-align: right;\n",
       "    }\n",
       "</style>\n",
       "<table border=\"1\" class=\"dataframe\">\n",
       "  <thead>\n",
       "    <tr style=\"text-align: right;\">\n",
       "      <th></th>\n",
       "      <th>spans</th>\n",
       "      <th>text</th>\n",
       "    </tr>\n",
       "  </thead>\n",
       "  <tbody>\n",
       "    <tr>\n",
       "      <th>0</th>\n",
       "      <td>[8, 9, 10, 11, 12, 13, 14, 15, 16, 17, 18, 19,...</td>\n",
       "      <td>Another violent and aggressive immigrant killi...</td>\n",
       "    </tr>\n",
       "    <tr>\n",
       "      <th>1</th>\n",
       "      <td>[33, 34, 35, 36, 37, 38, 39]</td>\n",
       "      <td>I am 56 years old, I am not your fucking junio...</td>\n",
       "    </tr>\n",
       "    <tr>\n",
       "      <th>2</th>\n",
       "      <td>[0, 1, 2, 3]</td>\n",
       "      <td>Damn, a whole family. Sad indeed.</td>\n",
       "    </tr>\n",
       "  </tbody>\n",
       "</table>\n",
       "</div>"
      ],
      "text/plain": [
       "                                               spans  \\\n",
       "0  [8, 9, 10, 11, 12, 13, 14, 15, 16, 17, 18, 19,...   \n",
       "1                       [33, 34, 35, 36, 37, 38, 39]   \n",
       "2                                       [0, 1, 2, 3]   \n",
       "\n",
       "                                                text  \n",
       "0  Another violent and aggressive immigrant killi...  \n",
       "1  I am 56 years old, I am not your fucking junio...  \n",
       "2                  Damn, a whole family. Sad indeed.  "
      ]
     },
     "metadata": {},
     "output_type": "display_data"
    }
   ],
   "source": [
    "import __init__\n",
    "import models.cross_validator as cross_validator\n",
    "import models.datahandler as datahandler\n",
    "from models.datamodel import DataModel\n",
    "import models.outputmaker as outputmaker\n",
    "import evaluator.metrics as metrics\n",
    "\n",
    "trial = datahandler.load_train('../data/dataset/tsd_trial.csv', verbose=True)\n",
    "train = datahandler.load_train('../data/dataset/tsd_train.csv', verbose=True)"
   ]
  },
  {
   "cell_type": "markdown",
   "metadata": {},
   "source": [
    "Initialize `CRF Model` Methods"
   ]
  },
  {
   "cell_type": "code",
   "execution_count": 2,
   "metadata": {},
   "outputs": [],
   "source": [
    "\n",
    "datamodel = DataModel(model='crf')\n",
    "\n",
    "output_maker = outputmaker.crf_output\n",
    "\n",
    "evaluator = metrics"
   ]
  },
  {
   "cell_type": "markdown",
   "metadata": {},
   "source": [
    "### Cross Validations"
   ]
  },
  {
   "cell_type": "code",
   "execution_count": 3,
   "metadata": {},
   "outputs": [
    {
     "name": "stderr",
     "output_type": "stream",
     "text": [
      "100%|██████████| 690/690 [00:11<00:00, 59.83it/s]\n"
     ]
    }
   ],
   "source": [
    "#X_train, y_train , train_taboo, train_texts = cross_validator.load_data(train, [i for i in range(train.shape[0])], \n",
    "#                                                    datamodel, logger=True)\n",
    "\n",
    "X_test, y_test , test_taboo, test_texts = cross_validator.load_data(trial, [i for i in range(trial.shape[0])], \n",
    "                                                           datamodel, logger=True)"
   ]
  },
  {
   "cell_type": "code",
   "execution_count": 17,
   "metadata": {},
   "outputs": [],
   "source": [
    "from yake.highlight import TextHighlighter\n",
    "import yake \n",
    "from IPython.core.display import HTML, display\n",
    "import re\n",
    "\n",
    "\n",
    "\n",
    "def displayer(X, taboo, index, max_ngram_size=1, th=0):\n",
    "    print(\"TABO words:\", taboo[index])\n",
    "    \n",
    "    text = X[index]\n",
    "    print(len(text.split()), '  ' ,text)\n",
    "    text = re.sub(r'^https?:\\/\\/.*[\\r\\n]*', '', text, flags=re.MULTILINE)\n",
    "    kw_extractor = yake.KeywordExtractor(n=max_ngram_size)\n",
    "    keywords = kw_extractor.extract_keywords(text)\n",
    "    keywords = [kw for kw in keywords if kw[1] >= th]\n",
    "    th = TextHighlighter(max_ngram_size = max_ngram_size, highlight_pre = \"<span style='color:red;' >[\", highlight_post= \"]</span>\")\n",
    "    display(HTML(th.highlight(text, keywords)))\n",
    "    #return\n",
    "    print(len(set([w[0] for w in keywords])) ,\"KWS:\", set([w[0] for w in keywords]))\n",
    "    print(\"Keywords:\", len(keywords))\n",
    "    #print(keywords)\n",
    "    #print(\"\\n\", [kw for kw in keywords if kw[1] >= 0.1])"
   ]
  },
  {
   "cell_type": "code",
   "execution_count": 20,
   "metadata": {},
   "outputs": [
    {
     "name": "stdout",
     "output_type": "stream",
     "text": [
      "TABO words:  stupid\n",
      "19    Trump Claimed that Russia will never invade the Ukraine, when Russia already has - how stupid can people be?\n"
     ]
    },
    {
     "data": {
      "text/html": [
       "<span style='color:red;' >[trump claimed]</span> that <span style='color:red;' >[russia]</span> will never <span style='color:red;' >[invade the ukraine]</span>, when <span style='color:red;' >[russia]</span> already has - how <span style='color:red;' >[stupid can people]</span> be?"
      ],
      "text/plain": [
       "<IPython.core.display.HTML object>"
      ]
     },
     "metadata": {},
     "output_type": "display_data"
    },
    {
     "name": "stdout",
     "output_type": "stream",
     "text": [
      "11 KWS: {'stupid can people', 'invade', 'claimed', 'trump claimed', 'trump', 'invade the ukraine', 'russia', 'people', 'stupid', 'ukraine', 'claimed that russia'}\n"
     ]
    }
   ],
   "source": [
    "i=3\n",
    "\n",
    "displayer(test_texts, test_taboo , index=i, max_ngram_size=3, th=0)"
   ]
  },
  {
   "cell_type": "code",
   "execution_count": 28,
   "metadata": {
    "scrolled": true
   },
   "outputs": [
    {
     "name": "stdout",
     "output_type": "stream",
     "text": [
      "0\n",
      "TABO words:  moron bigot\n",
      "14    Because he's a moron and a bigot. It's not any more complicated than that.\n"
     ]
    },
    {
     "data": {
      "text/html": [
       "Because he's a <span style='color:red;' >[moron]</span> and a <span style='color:red;' >[bigot]</span>. It's not any more <span style='color:red;' >[complicated]</span> than that."
      ],
      "text/plain": [
       "<IPython.core.display.HTML object>"
      ]
     },
     "metadata": {},
     "output_type": "display_data"
    },
    {
     "name": "stdout",
     "output_type": "stream",
     "text": [
      "3 KWS: {'moron', 'complicated', 'bigot'}\n",
      "*********************************************\n",
      "1\n",
      "TABO words:  idiots\n",
      "26    How about we stop protecting idiots and let nature add some bleach to the gene pool. We can always submit their names for the Darwin awards.\n"
     ]
    },
    {
     "data": {
      "text/html": [
       "How about we <span style='color:red;' >[stop protecting]</span> <span style='color:red;' >[idiots]</span> and let <span style='color:red;' >[nature add]</span> some <span style='color:red;' >[bleach]</span> to the <span style='color:red;' >[gene pool]</span>. We can always <span style='color:red;' >[submit]</span> their names for the <span style='color:red;' >[darwin awards]</span>."
      ],
      "text/plain": [
       "<IPython.core.display.HTML object>"
      ]
     },
     "metadata": {},
     "output_type": "display_data"
    },
    {
     "name": "stdout",
     "output_type": "stream",
     "text": [
      "16 KWS: {'darwin', 'darwin awards', 'nature add', 'submit', 'pool', 'nature', 'idiots', 'protecting idiots', 'gene pool', 'stop', 'bleach', 'stop protecting', 'gene', 'add', 'awards', 'protecting'}\n",
      "*********************************************\n",
      "2\n",
      "TABO words:  idiots\n",
      "29    If people  were  smart, they would  Boycott this  inept  airline,  but   they  are  not  smart,  so   rogue  businesses  like  this  one,   still thrive   taking the idiots  for  a ride...\n"
     ]
    },
    {
     "data": {
      "text/html": [
       "If <span style='color:red;' >[people]</span>  were  <span style='color:red;' >[smart]</span>, they would  <span style='color:red;' >[boycott]</span> this  <span style='color:red;' >[inept]</span>  <span style='color:red;' >[airline]</span>,  but   they  are  not  <span style='color:red;' >[smart]</span>,  so   <span style='color:red;' >[rogue]</span>  <span style='color:red;' >[businesses]</span>  like  this  one,   still <span style='color:red;' >[thrive]</span>   <span style='color:red;' >[taking]</span> the <span style='color:red;' >[idiots]</span>  for  a <span style='color:red;' >[ride]</span>..."
      ],
      "text/plain": [
       "<IPython.core.display.HTML object>"
      ]
     },
     "metadata": {},
     "output_type": "display_data"
    },
    {
     "name": "stdout",
     "output_type": "stream",
     "text": [
      "14 KWS: {'businesses', 'inept airline', 'ride', 'rogue businesses', 'airline', 'taking', 'rogue', 'smart', 'thrive', 'idiots', 'people', 'inept', 'boycott', 'thrive taking'}\n",
      "*********************************************\n",
      "3\n",
      "TABO words:  stupid\n",
      "19    Trump Claimed that Russia will never invade the Ukraine, when Russia already has - how stupid can people be?\n"
     ]
    },
    {
     "data": {
      "text/html": [
       "<span style='color:red;' >[trump claimed]</span> that <span style='color:red;' >[russia]</span> will never <span style='color:red;' >[invade]</span> the <span style='color:red;' >[ukraine]</span>, when <span style='color:red;' >[russia]</span> already has - how <span style='color:red;' >[stupid]</span> can <span style='color:red;' >[people]</span> be?"
      ],
      "text/plain": [
       "<IPython.core.display.HTML object>"
      ]
     },
     "metadata": {},
     "output_type": "display_data"
    },
    {
     "name": "stdout",
     "output_type": "stream",
     "text": [
      "8 KWS: {'invade', 'claimed', 'trump claimed', 'trump', 'russia', 'people', 'stupid', 'ukraine'}\n",
      "*********************************************\n",
      "4\n",
      "TABO words: \n",
      "42    As long as your willing to pay a lot more for products you buy, then fine.\n",
      "But you better not be going to Costco and Walmart to buy stuff because it's cheaper.\n",
      "If so, we get to call you a hypocritical wanker.\n"
     ]
    },
    {
     "data": {
      "text/html": [
       "As <span style='color:red;' >[long]</span> as your willing to <span style='color:red;' >[pay]</span> a <span style='color:red;' >[lot]</span> more for <span style='color:red;' >[products]</span> you <span style='color:red;' >[buy]</span>, then <span style='color:red;' >[fine]</span>. But you better not be going to <span style='color:red;' >[costco]</span> and <span style='color:red;' >[walmart]</span> to <span style='color:red;' >[buy stuff]</span> because it's <span style='color:red;' >[cheaper]</span>. If so, we get to <span style='color:red;' >[call]</span> you a <span style='color:red;' >[hypocritical wanker]</span>."
      ],
      "text/plain": [
       "<IPython.core.display.HTML object>"
      ]
     },
     "metadata": {},
     "output_type": "display_data"
    },
    {
     "name": "stdout",
     "output_type": "stream",
     "text": [
      "15 KWS: {'stuff', 'walmart', 'hypocritical', 'buy', 'buy stuff', 'cheaper', 'hypocritical wanker', 'pay', 'call', 'costco', 'wanker', 'fine', 'lot', 'products', 'long'}\n",
      "*********************************************\n",
      "5\n",
      "TABO words:  idiot\n",
      "15    Only an idiot would use and believe anything this This Republican propaganda machine publishes: www.realclearpolitics.com\n"
     ]
    },
    {
     "data": {
      "text/html": [
       "Only an <span style='color:red;' >[idiot]</span> would use and believe anything this This <span style='color:red;' >[republican propaganda]</span> <span style='color:red;' >[machine publishes]</span>: www.realclearpolitics.com"
      ],
      "text/plain": [
       "<IPython.core.display.HTML object>"
      ]
     },
     "metadata": {},
     "output_type": "display_data"
    },
    {
     "name": "stdout",
     "output_type": "stream",
     "text": [
      "8 KWS: {'idiot', 'republican', 'publishes', 'propaganda', 'machine publishes', 'propaganda machine', 'machine', 'republican propaganda'}\n",
      "*********************************************\n",
      "6\n",
      "TABO words:  o try to turn Salem into some kind of new-stupid-fucking-asshole-topia. This will drive up the price of housing and displace  people down here. Having lived in San Clemente for a time myself I think you're dumb as shit to have moved up here. The fuck\n",
      "111    Thanks a lot douchebag. You're the reason the Portland buttfuckers are getting pushed out and moving down south to the Wilsonville area and beyond. Because of you all the stupid fucking assholes that made Portland a place full of stupid fucking assholes are going to try to turn Salem into some kind of new-stupid-fucking-asshole-topia. This will drive up the price of housing and displace  people down here. Having lived in San Clemente for a time myself I think you're dumb as shit to have moved up here. The fucks wrong with you outsider. I hope bums shit in your yard everyday and never let you walk by without demanding spare  change.\n"
     ]
    },
    {
     "data": {
      "text/html": [
       "Thanks a <span style='color:red;' >[lot douchebag]</span>. You're the reason the <span style='color:red;' >[portland buttfuckers]</span> are getting pushed out and moving down south to the <span style='color:red;' >[wilsonville area]</span> and beyond. Because of you all the <span style='color:red;' >[stupid fucking]</span> <span style='color:red;' >[assholes]</span> that made <span style='color:red;' >[portland]</span> a <span style='color:red;' >[place full]</span> of <span style='color:red;' >[stupid fucking]</span> <span style='color:red;' >[assholes]</span> are going to try to <span style='color:red;' >[turn salem]</span> into some kind of new-stupid-fucking-asshole-topia. This will drive up the price of housing and displace  people down here. Having lived in <span style='color:red;' >[san clemente]</span> for a time myself I think you're dumb as <span style='color:red;' >[shit]</span> to have moved up here. The fucks wrong with you outsider. I hope bums <span style='color:red;' >[shit]</span> in your yard everyday and never let you walk by without demanding spare  change."
      ],
      "text/plain": [
       "<IPython.core.display.HTML object>"
      ]
     },
     "metadata": {},
     "output_type": "display_data"
    },
    {
     "name": "stdout",
     "output_type": "stream",
     "text": [
      "20 KWS: {'shit', 'lot douchebag', 'san clemente', 'turn salem', 'san', 'made portland', 'assholes', 'wilsonville', 'portland buttfuckers', 'stupid fucking', 'clemente', 'wilsonville area', 'douchebag', 'fucking assholes', 'portland', 'salem', 'fucking', 'place full', 'stupid', 'lot'}\n",
      "*********************************************\n",
      "7\n",
      "TABO words: \n",
      "15    kick all the non human criminal illegals out of PA and plenty of room; \n",
      "\n",
      "Fools!\n"
     ]
    },
    {
     "data": {
      "text/html": [
       "<span style='color:red;' >[kick]</span> all the non <span style='color:red;' >[human criminal]</span> <span style='color:red;' >[illegals]</span> out of PA and <span style='color:red;' >[plenty]</span> of <span style='color:red;' >[room]</span>;   <span style='color:red;' >[fools]</span>!"
      ],
      "text/plain": [
       "<IPython.core.display.HTML object>"
      ]
     },
     "metadata": {},
     "output_type": "display_data"
    },
    {
     "name": "stdout",
     "output_type": "stream",
     "text": [
      "9 KWS: {'criminal illegals', 'room', 'human', 'plenty', 'fools', 'human criminal', 'criminal', 'illegals', 'kick'}\n",
      "*********************************************\n",
      "8\n",
      "TABO words:  stupid\n",
      "10    Because driving under Ontario laws is stupid enough in Ontario.\n"
     ]
    },
    {
     "data": {
      "text/html": [
       "Because <span style='color:red;' >[driving]</span> under <span style='color:red;' >[ontario laws]</span> is <span style='color:red;' >[stupid]</span> enough in <span style='color:red;' >[ontario]</span>."
      ],
      "text/plain": [
       "<IPython.core.display.HTML object>"
      ]
     },
     "metadata": {},
     "output_type": "display_data"
    },
    {
     "name": "stdout",
     "output_type": "stream",
     "text": [
      "5 KWS: {'laws', 'ontario laws', 'ontario', 'driving', 'stupid'}\n",
      "*********************************************\n",
      "9\n",
      "TABO words:  Don't make ignorant statements\n",
      "50    You're wrong.  The delay between retirement and lobbying is nowhere near 7 years.  This law is specifically aimed at the SECDEF job.  The purpose of this separation is to ensure firm CIVILIAN leadership of the military.  Read the article.\n",
      "\n",
      "You have no idea where I've worked.  Don't make ignorant statements.\n"
     ]
    },
    {
     "data": {
      "text/html": [
       "You're <span style='color:red;' >[wrong]</span>.  The <span style='color:red;' >[delay]</span> between <span style='color:red;' >[retirement]</span> and <span style='color:red;' >[lobbying]</span> is nowhere near 7 <span style='color:red;' >[years]</span>.  This <span style='color:red;' >[law]</span> is <span style='color:red;' >[specifically aimed]</span> at the <span style='color:red;' >[secdef job]</span>.  The purpose of this separation is to ensure <span style='color:red;' >[firm civilian]</span> leadership of the <span style='color:red;' >[military]</span>.  <span style='color:red;' >[read]</span> the <span style='color:red;' >[article]</span>.  You have no idea where I've worked.  Don't make <span style='color:red;' >[ignorant statements]</span>."
      ],
      "text/plain": [
       "<IPython.core.display.HTML object>"
      ]
     },
     "metadata": {},
     "output_type": "display_data"
    },
    {
     "name": "stdout",
     "output_type": "stream",
     "text": [
      "20 KWS: {'lobbying', 'wrong', 'secdef', 'delay', 'ensure firm', 'retirement', 'ignorant statements', 'law', 'job', 'firm civilian', 'specifically', 'civilian leadership', 'aimed', 'read', 'specifically aimed', 'years', 'article', 'civilian', 'military', 'secdef job'}\n",
      "*********************************************\n",
      "10\n",
      "TABO words:  idiot\n",
      "147    Billy, are you a complete idiot, being thick headed or just not reading what people have been trying to tell you in response to your soapbox blathering.  A) Poor people without insurance need health care too. B) Planned Parenthood provides women's health care for free to anyone.  PP does these thru donations and grants from the States and Fed and Charity Foundations.  No Federal money is allow to be spent on abortions.  The people protesting Planned Parenthood know this, but have decided that a zygote is a person.  These same people believe that Corporations are persons too.  Once again, POOR women get help with birth control via Planned Parenthood.  POOR people mostly do not have insurance, and less will have insurance as soon as the GOP gets done gutting ACA.  POOR women cannot afford to go to Dr for prescription birth control, therefore Planned Parenthood is necessary.\n"
     ]
    },
    {
     "data": {
      "text/html": [
       "<span style='color:red;' >[billy]</span>, are you a <span style='color:red;' >[complete idiot]</span>, being <span style='color:red;' >[thick headed]</span> or just not reading what <span style='color:red;' >[people]</span> have been trying to tell you in response to your <span style='color:red;' >[soapbox blathering]</span>.  A) <span style='color:red;' >[poor]</span> <span style='color:red;' >[people]</span> without <span style='color:red;' >[insurance]</span> need <span style='color:red;' >[health care]</span> too. B) <span style='color:red;' >[planned parenthood]</span> provides women's <span style='color:red;' >[health care]</span> for free to anyone.  PP does these thru donations and grants from the States and Fed and <span style='color:red;' >[charity foundations]</span>.  No Federal money is allow to be spent on abortions.  The <span style='color:red;' >[people]</span> protesting <span style='color:red;' >[planned parenthood]</span> know this, but have decided that a zygote is a person.  These same <span style='color:red;' >[people]</span> believe that Corporations are persons too.  Once again, <span style='color:red;' >[poor]</span> <span style='color:red;' >[women]</span> get help with birth control via <span style='color:red;' >[planned parenthood]</span>.  <span style='color:red;' >[poor]</span> <span style='color:red;' >[people]</span> mostly do not have <span style='color:red;' >[insurance]</span>, and less will have <span style='color:red;' >[insurance]</span> as soon as the GOP gets done gutting ACA.  <span style='color:red;' >[poor]</span> <span style='color:red;' >[women]</span> cannot afford to go to Dr for prescription birth control, therefore <span style='color:red;' >[planned parenthood]</span> is necessary."
      ],
      "text/plain": [
       "<IPython.core.display.HTML object>"
      ]
     },
     "metadata": {},
     "output_type": "display_data"
    },
    {
     "name": "stdout",
     "output_type": "stream",
     "text": [
      "20 KWS: {'idiot', 'poor people', 'soapbox blathering', 'women', 'billy', 'care', 'poor', 'poor women', 'planned parenthood', 'planned', 'complete', 'parenthood', 'thick headed', 'health', 'charity foundations', 'complete idiot', 'people', 'insurance', 'health care', 'blathering'}\n",
      "*********************************************\n",
      "11\n",
      "TABO words:  Mexicans rapists drug dealers\n",
      "13    Trump said, IN AS MANY WORDS, that Mexicans were rapists and drug dealers.\n"
     ]
    },
    {
     "data": {
      "text/html": [
       "<span style='color:red;' >[trump]</span> said, IN AS MANY <span style='color:red;' >[words]</span>, that <span style='color:red;' >[mexicans]</span> were <span style='color:red;' >[rapists]</span> and <span style='color:red;' >[drug dealers]</span>."
      ],
      "text/plain": [
       "<IPython.core.display.HTML object>"
      ]
     },
     "metadata": {},
     "output_type": "display_data"
    },
    {
     "name": "stdout",
     "output_type": "stream",
     "text": [
      "7 KWS: {'drug', 'trump', 'dealers', 'rapists', 'mexicans', 'words', 'drug dealers'}\n",
      "*********************************************\n",
      "12\n",
      "TABO words:  psychopath\n",
      "3    He's a psychopath.\n"
     ]
    },
    {
     "data": {
      "text/html": [
       "He's a <span style='color:red;' >[psychopath]</span>."
      ],
      "text/plain": [
       "<IPython.core.display.HTML object>"
      ]
     },
     "metadata": {},
     "output_type": "display_data"
    },
    {
     "name": "stdout",
     "output_type": "stream",
     "text": [
      "1 KWS: {'psychopath'}\n",
      "*********************************************\n",
      "13\n",
      "TABO words: \n",
      "104    Clinton should be the last person to say anything about anyone. She is such a lying scum bag. I can't handle just hearing her voice. It would be a lot worse if she was President than we are with the crazy Trump. She would have her husband (AKA: as the cigar rapist) as her guide. He should have been arrested for doing that to that young girl, the starred eye Monica. How can anyone blame her but I certainly wouldn't have let him stick a cigar in me. It is the Media's fault because they keep going to get her big lying mouth going.\n"
     ]
    },
    {
     "data": {
      "text/html": [
       "<span style='color:red;' >[clinton]</span> should be the last <span style='color:red;' >[person]</span> to say anything about anyone. She is such a <span style='color:red;' >[lying]</span> <span style='color:red;' >[scum bag]</span>. I can't handle just hearing her <span style='color:red;' >[voice]</span>. It would be a <span style='color:red;' >[lot worse]</span> if she was <span style='color:red;' >[president]</span> than we are with the <span style='color:red;' >[crazy trump]</span>. She would have her husband (<span style='color:red;' >[aka]</span>: as the <span style='color:red;' >[cigar]</span> rapist) as her guide. He should have been arrested for doing that to that <span style='color:red;' >[young girl]</span>, the starred <span style='color:red;' >[eye monica]</span>. How can anyone blame her but I certainly wouldn't have let him stick a <span style='color:red;' >[cigar]</span> in me. It is the Media's fault because they keep going to get her big <span style='color:red;' >[lying]</span> mouth going."
      ],
      "text/plain": [
       "<IPython.core.display.HTML object>"
      ]
     },
     "metadata": {},
     "output_type": "display_data"
    },
    {
     "name": "stdout",
     "output_type": "stream",
     "text": [
      "20 KWS: {'aka', 'cigar rapist', 'young girl', 'eye monica', 'cigar', 'trump', 'scum bag', 'media', 'scum', 'president', 'voice', 'lying scum', 'lot worse', 'person', 'bag', 'clinton', 'lying', 'media fault', 'crazy trump', 'monica'}\n",
      "*********************************************\n",
      "14\n",
      "TABO words:  dumb\n",
      "8    People insist on being dumb. No other explanation.\n"
     ]
    },
    {
     "data": {
      "text/html": [
       "<span style='color:red;' >[people insist]</span> on being <span style='color:red;' >[dumb]</span>. No other <span style='color:red;' >[explanation]</span>."
      ],
      "text/plain": [
       "<IPython.core.display.HTML object>"
      ]
     },
     "metadata": {},
     "output_type": "display_data"
    },
    {
     "name": "stdout",
     "output_type": "stream",
     "text": [
      "5 KWS: {'explanation', 'people insist', 'people', 'insist', 'dumb'}\n",
      "*********************************************\n",
      "15\n",
      "TABO words: \n",
      "87    Canadians killed by Islamic extremists? The immediate result should be Canada cleaning up the Islamic world from one end to the other so that there are no more terrorists to be found in it, nor any more people who discriminate against members of non-Muslim minorities, nor anyone who prepares for war against Israel.\n",
      "\n",
      "Those of the Muslim faith who are willing to live in peace, on the other hand, will now be able to do so.\n",
      "\n",
      "That will send the right message: Don't mess with Canadians. Ever.\n"
     ]
    },
    {
     "data": {
      "text/html": [
       "<span style='color:red;' >[canadians killed]</span> by <span style='color:red;' >[islamic extremists]</span>? The immediate <span style='color:red;' >[result]</span> should be <span style='color:red;' >[canada cleaning]</span> up the <span style='color:red;' >[islamic world]</span> from one <span style='color:red;' >[end]</span> to the other so that there are no more <span style='color:red;' >[terrorists]</span> to be <span style='color:red;' >[found]</span> in it, nor any more people who discriminate against members of <span style='color:red;' >[non-muslim minorities]</span>, nor anyone who prepares for war against <span style='color:red;' >[israel]</span>.  Those of the <span style='color:red;' >[muslim faith]</span> who are willing to live in peace, on the other hand, will now be able to do so.  That will send the right message: Don't mess with <span style='color:red;' >[canadians]</span>. Ever."
      ],
      "text/plain": [
       "<IPython.core.display.HTML object>"
      ]
     },
     "metadata": {},
     "output_type": "display_data"
    },
    {
     "name": "stdout",
     "output_type": "stream",
     "text": [
      "20 KWS: {'cleaning', 'terrorists', 'result', 'islamic world', 'canadians killed', 'extremists', 'canadians', 'muslim', 'found', 'end', 'muslim faith', 'israel', 'islamic extremists', 'world', 'non-muslim minorities', 'islamic', 'canada cleaning', 'killed', 'canada', 'minorities'}\n",
      "*********************************************\n",
      "16\n",
      "TABO words:  hypocrite\n",
      "13    So next year if you apply for yours, then you're a hypocrite, Mike.\n"
     ]
    },
    {
     "data": {
      "text/html": [
       "So next <span style='color:red;' >[year]</span> if you <span style='color:red;' >[apply]</span> for yours, then you're a <span style='color:red;' >[hypocrite]</span>, <span style='color:red;' >[mike]</span>."
      ],
      "text/plain": [
       "<IPython.core.display.HTML object>"
      ]
     },
     "metadata": {},
     "output_type": "display_data"
    },
    {
     "name": "stdout",
     "output_type": "stream",
     "text": [
      "4 KWS: {'year', 'apply', 'hypocrite', 'mike'}\n",
      "*********************************************\n",
      "17\n",
      "TABO words:  ridiculous\n",
      "29    This new has made the A/P, CNBC, Bloomberg,  etc.\n",
      "\n",
      "The PM is an international embarrassment, and looks ridiculous..\n",
      "\n",
      "Harper has to GO! NOW!\n",
      ".\n",
      ".\n",
      ".\n",
      ".\n",
      "\n",
      "\n",
      "\n",
      "\n",
      "oh, wait...\n"
     ]
    },
    {
     "data": {
      "text/html": [
       "This new has <span style='color:red;' >[made]</span> the A/P, <span style='color:red;' >[cnbc]</span>, <span style='color:red;' >[bloomberg]</span>,  etc.  The PM is an <span style='color:red;' >[international embarrassment]</span>, and looks ridiculous..  <span style='color:red;' >[harper]</span> has to GO! NOW! . . . .     oh, <span style='color:red;' >[wait]</span>..."
      ],
      "text/plain": [
       "<IPython.core.display.HTML object>"
      ]
     },
     "metadata": {},
     "output_type": "display_data"
    },
    {
     "name": "stdout",
     "output_type": "stream",
     "text": [
      "9 KWS: {'international embarrassment', 'ridiculous.', 'wait', 'international', 'made', 'cnbc', 'embarrassment', 'harper', 'bloomberg'}\n",
      "*********************************************\n",
      "18\n",
      "TABO words:  morons\n",
      "6    Ride those trailer brakes, you morons!\n"
     ]
    },
    {
     "data": {
      "text/html": [
       "<span style='color:red;' >[ride]</span> those <span style='color:red;' >[trailer brakes]</span>, you <span style='color:red;' >[morons]</span>!"
      ],
      "text/plain": [
       "<IPython.core.display.HTML object>"
      ]
     },
     "metadata": {},
     "output_type": "display_data"
    },
    {
     "name": "stdout",
     "output_type": "stream",
     "text": [
      "5 KWS: {'brakes', 'trailer', 'ride', 'trailer brakes', 'morons'}\n",
      "*********************************************\n",
      "19\n",
      "TABO words:  hypocrisy stupidity\n",
      "26    Of course you cannot defend your own hypocrisy...I see you are starting of 2017 on the same losing track as always...oh, well, no cure for stupidity.\n"
     ]
    },
    {
     "data": {
      "text/html": [
       "Of course you cannot <span style='color:red;' >[defend]</span> your own hypocrisy...I see you are <span style='color:red;' >[starting]</span> of 2017 on the same <span style='color:red;' >[losing track]</span> as always...oh, well, no <span style='color:red;' >[cure]</span> for <span style='color:red;' >[stupidity]</span>."
      ],
      "text/plain": [
       "<IPython.core.display.HTML object>"
      ]
     },
     "metadata": {},
     "output_type": "display_data"
    },
    {
     "name": "stdout",
     "output_type": "stream",
     "text": [
      "8 KWS: {'losing track', 'starting', 'cure', 'losing', 'hypocrisy', 'defend', 'track', 'stupidity'}\n",
      "*********************************************\n",
      "20\n",
      "TABO words:  stupid\n",
      "16    another comment proving yet again how completely brain washed stupid the likes of you have become\n"
     ]
    },
    {
     "data": {
      "text/html": [
       "another <span style='color:red;' >[comment proving]</span> yet again how <span style='color:red;' >[completely brain]</span> <span style='color:red;' >[washed stupid]</span> the likes of you have become"
      ],
      "text/plain": [
       "<IPython.core.display.HTML object>"
      ]
     },
     "metadata": {},
     "output_type": "display_data"
    },
    {
     "name": "stdout",
     "output_type": "stream",
     "text": [
      "10 KWS: {'washed stupid', 'comment', 'completely brain', 'brain washed', 'completely', 'brain', 'proving', 'washed', 'stupid', 'comment proving'}\n",
      "*********************************************\n",
      "21\n",
      "TABO words:  idiot\n",
      "12    It didn't take much rope for the village idiot to hang himself.\n"
     ]
    },
    {
     "data": {
      "text/html": [
       "It didn't take much <span style='color:red;' >[rope]</span> for the <span style='color:red;' >[village idiot]</span> to <span style='color:red;' >[hang]</span> himself."
      ],
      "text/plain": [
       "<IPython.core.display.HTML object>"
      ]
     },
     "metadata": {},
     "output_type": "display_data"
    },
    {
     "name": "stdout",
     "output_type": "stream",
     "text": [
      "5 KWS: {'village idiot', 'village', 'idiot', 'rope', 'hang'}\n",
      "*********************************************\n",
      "22\n",
      "TABO words:  r cho\n",
      "109    Clinton signed that Joint Fundraising agreement in August 2015. It was reported on then; why is it an issue now? And there wasn't anything illegal about it, so it's not a crime. Oh, and the Sanders campaign signed the same agreement with the DNC in Oct 2015. Somehow that's overlooked. Though granted, Sanders later chose to raise money on his own, not thru the Fund. No, Clinton hasn't gotten away with \"so many crimes,\" because she hasn't committed them. \"It boggles the mind that after all these revelations, people would want a liar and a crook to be our president,\" clearly refers to Trump; a liar and a crook.\n"
     ]
    },
    {
     "data": {
      "text/html": [
       "<span style='color:red;' >[clinton]</span> <span style='color:red;' >[signed]</span> that <span style='color:red;' >[joint fundraising]</span> <span style='color:red;' >[agreement]</span> in <span style='color:red;' >[august]</span> 2015. It was <span style='color:red;' >[reported]</span> on then; why is it an <span style='color:red;' >[issue]</span> now? And there wasn't anything illegal about it, so it's not a crime. Oh, and the <span style='color:red;' >[sanders]</span> campaign <span style='color:red;' >[signed]</span> the same <span style='color:red;' >[agreement]</span> with the <span style='color:red;' >[dnc]</span> in <span style='color:red;' >[oct]</span> 2015. Somehow that's overlooked. Though granted, <span style='color:red;' >[sanders]</span> later chose to raise money on his own, not thru the <span style='color:red;' >[fund]</span>. No, <span style='color:red;' >[clinton]</span> hasn't gotten away with \"so many crimes,\" because she hasn't committed them. \"It boggles the mind that after all these revelations, people would want a <span style='color:red;' >[liar]</span> and a <span style='color:red;' >[crook]</span> to be our president,\" clearly refers to <span style='color:red;' >[trump]</span>; a <span style='color:red;' >[liar]</span> and a <span style='color:red;' >[crook]</span>."
      ],
      "text/plain": [
       "<IPython.core.display.HTML object>"
      ]
     },
     "metadata": {},
     "output_type": "display_data"
    },
    {
     "name": "stdout",
     "output_type": "stream",
     "text": [
      "20 KWS: {'joint', 'crook', 'oct', 'clinton signed', 'signed', 'reported', 'dnc', 'fundraising agreement', 'liar', 'campaign signed', 'fund', 'joint fundraising', 'sanders campaign', 'trump', 'issue', 'august', 'sanders', 'clinton', 'agreement', 'fundraising'}\n",
      "*********************************************\n",
      "23\n",
      "TABO words:  stupid\n",
      "10    Move to Europe if you want to live with stupid.\n"
     ]
    },
    {
     "data": {
      "text/html": [
       "<span style='color:red;' >[move]</span> to <span style='color:red;' >[europe]</span> if you want to <span style='color:red;' >[live]</span> with <span style='color:red;' >[stupid]</span>."
      ],
      "text/plain": [
       "<IPython.core.display.HTML object>"
      ]
     },
     "metadata": {},
     "output_type": "display_data"
    },
    {
     "name": "stdout",
     "output_type": "stream",
     "text": [
      "4 KWS: {'stupid', 'move', 'live', 'europe'}\n",
      "*********************************************\n",
      "24\n",
      "TABO words:  Nanakuli ignorant\n",
      "16    This guy must be from Nanakuli.  Are all the people there so ignorant and gross?  Yuk!\n"
     ]
    },
    {
     "data": {
      "text/html": [
       "This <span style='color:red;' >[guy]</span> must be from <span style='color:red;' >[nanakuli]</span>.  Are all the <span style='color:red;' >[people]</span> there so <span style='color:red;' >[ignorant]</span> and <span style='color:red;' >[gross]</span>?  <span style='color:red;' >[yuk]</span>!"
      ],
      "text/plain": [
       "<IPython.core.display.HTML object>"
      ]
     },
     "metadata": {},
     "output_type": "display_data"
    },
    {
     "name": "stdout",
     "output_type": "stream",
     "text": [
      "6 KWS: {'yuk', 'ignorant', 'nanakuli', 'gross', 'people', 'guy'}\n",
      "*********************************************\n",
      "25\n",
      "TABO words:  ridiculous\n",
      "89    465 million is chump change to Mylan.  Their profits are so ridiculous that it won't even make a dent for them to pay this penalty.  They are still more than eager to deprive hard working people of life saving drugs in order to keep those billions coming in.  How long are Americans going to put up with this blatant and unashamed profiteering?  Maybe when enough folks die because they get stung by a bee or eat shellfish and can't afford to carry their EpiPen for emergency life saving epinephrine.\n"
     ]
    },
    {
     "data": {
      "text/html": [
       "465 <span style='color:red;' >[million]</span> is <span style='color:red;' >[chump change]</span> to <span style='color:red;' >[mylan]</span>.  Their <span style='color:red;' >[profits]</span> are so <span style='color:red;' >[ridiculous]</span> that it won't even make a dent for them to pay this <span style='color:red;' >[penalty]</span>.  They are still more than eager to <span style='color:red;' >[deprive hard]</span> <span style='color:red;' >[working people]</span> of <span style='color:red;' >[life saving]</span> drugs in order to keep those <span style='color:red;' >[billions coming]</span> in.  How long are <span style='color:red;' >[americans]</span> going to put up with this blatant and <span style='color:red;' >[unashamed profiteering]</span>?  Maybe when enough folks die because they get stung by a bee or eat shellfish and can't afford to carry their EpiPen for emergency <span style='color:red;' >[life saving]</span> epinephrine."
      ],
      "text/plain": [
       "<IPython.core.display.HTML object>"
      ]
     },
     "metadata": {},
     "output_type": "display_data"
    },
    {
     "name": "stdout",
     "output_type": "stream",
     "text": [
      "20 KWS: {'saving epinephrine', 'chump change', 'deprive hard', 'million', 'life saving', 'life', 'saving', 'saving drugs', 'emergency life', 'billions coming', 'unashamed profiteering', 'profits', 'americans', 'hard working', 'ridiculous', 'chump', 'working people', 'change', 'mylan', 'penalty'}\n",
      "*********************************************\n",
      "26\n",
      "TABO words:  useless\n",
      "35    so in effect the petty childish nature of the DEMS played out by the most useless president of modern times! , well trump will easily be making any memory of Nobama be history very shortly\n"
     ]
    },
    {
     "data": {
      "text/html": [
       "so in <span style='color:red;' >[effect]</span> the <span style='color:red;' >[petty childish]</span> <span style='color:red;' >[nature]</span> of the <span style='color:red;' >[dems played]</span> out by the most <span style='color:red;' >[useless president]</span> of <span style='color:red;' >[modern times]</span>! , well <span style='color:red;' >[trump]</span> will <span style='color:red;' >[easily]</span> be <span style='color:red;' >[making]</span> any memory of <span style='color:red;' >[nobama]</span> be history very <span style='color:red;' >[shortly]</span>"
      ],
      "text/plain": [
       "<IPython.core.display.HTML object>"
      ]
     },
     "metadata": {},
     "output_type": "display_data"
    },
    {
     "name": "stdout",
     "output_type": "stream",
     "text": [
      "20 KWS: {'nobama', 'modern times', 'childish nature', 'easily', 'childish', 'nature', 'modern', 'trump', 'petty', 'shortly', 'making', 'effect', 'petty childish', 'useless president', 'useless', 'president', 'dems', 'played', 'dems played', 'times'}\n",
      "*********************************************\n",
      "27\n",
      "TABO words:  illegal immigrants, crime , social parasites and welfare refugees Duterte is right killing druggies Islamism and a fascist dictator\n",
      "77    People are tired of seeing their countries overrun with illegal immigrants, crime , social parasites and welfare refugees and I applaud Hungary, Eastern Europe to protect their citizens and approve of  LePen. Duterte is right killing druggies , but should be taken to court and sentenced to death if he had political enemies killed - unless they favored unpunished drug use.\n",
      ". And Turkey is a case of Islamism and a fascist dictator persecuting his own countrymen.\n"
     ]
    },
    {
     "data": {
      "text/html": [
       "<span style='color:red;' >[people]</span> are <span style='color:red;' >[tired]</span> of seeing their <span style='color:red;' >[countries overrun]</span> with <span style='color:red;' >[illegal immigrants]</span>, <span style='color:red;' >[crime]</span> , <span style='color:red;' >[social parasites]</span> and <span style='color:red;' >[welfare refugees]</span> and I <span style='color:red;' >[applaud hungary]</span>, <span style='color:red;' >[eastern europe]</span> to protect their citizens and approve of  <span style='color:red;' >[lepen]</span>. Duterte is right <span style='color:red;' >[killing druggies]</span> , but should be taken to court and sentenced to death if he had political <span style='color:red;' >[enemies killed]</span> - unless they <span style='color:red;' >[favored unpunished]</span> drug use. . And Turkey is a case of Islamism and a fascist dictator persecuting his own countrymen."
      ],
      "text/plain": [
       "<IPython.core.display.HTML object>"
      ]
     },
     "metadata": {},
     "output_type": "display_data"
    },
    {
     "name": "stdout",
     "output_type": "stream",
     "text": [
      "20 KWS: {'hungary', 'social parasites', 'eastern europe', 'killing druggies', 'political enemies', 'unpunished drug', 'illegal immigrants', 'tired', 'eastern', 'welfare refugees', 'lepen', 'crime', 'social', 'europe', 'applaud hungary', 'people', 'favored unpunished', 'countries overrun', 'enemies killed', 'immigrants'}\n",
      "*********************************************\n",
      "28\n",
      "TABO words: \n",
      "34    Trying the education route is best but you face a huge problem in that the average person today is\n",
      "dumber than a doughnut.  Stupid, maybe you can do something but dumb, dumb is forever.\n"
     ]
    },
    {
     "data": {
      "text/html": [
       "Trying the <span style='color:red;' >[education route]</span> is best but you <span style='color:red;' >[face]</span> a <span style='color:red;' >[huge problem]</span> in that the <span style='color:red;' >[average person]</span> <span style='color:red;' >[today]</span> is <span style='color:red;' >[dumber]</span> than a <span style='color:red;' >[doughnut]</span>.  <span style='color:red;' >[stupid]</span>, maybe you can do something but <span style='color:red;' >[dumb]</span>, <span style='color:red;' >[dumb]</span> is <span style='color:red;' >[forever]</span>."
      ],
      "text/plain": [
       "<IPython.core.display.HTML object>"
      ]
     },
     "metadata": {},
     "output_type": "display_data"
    },
    {
     "name": "stdout",
     "output_type": "stream",
     "text": [
      "17 KWS: {'education route', 'problem', 'education', 'average person', 'huge problem', 'dumber', 'average', 'person today', 'face', 'forever', 'route', 'doughnut', 'today', 'person', 'huge', 'stupid', 'dumb'}\n",
      "*********************************************\n",
      "29\n",
      "TABO words:  idiots\n",
      "26    Maybe this a$$hat can hook up with rosalyn clueless, our very special anchorage driver of the day. What a cute couple these two idiots would make.\n"
     ]
    },
    {
     "data": {
      "text/html": [
       "Maybe this a$$hat can <span style='color:red;' >[hook]</span> up with <span style='color:red;' >[rosalyn clueless]</span>, our very <span style='color:red;' >[special anchorage]</span> <span style='color:red;' >[driver]</span> of the <span style='color:red;' >[day]</span>. What a <span style='color:red;' >[cute couple]</span> these two <span style='color:red;' >[idiots]</span> would <span style='color:red;' >[make]</span>."
      ],
      "text/plain": [
       "<IPython.core.display.HTML object>"
      ]
     },
     "metadata": {},
     "output_type": "display_data"
    },
    {
     "name": "stdout",
     "output_type": "stream",
     "text": [
      "16 KWS: {'special anchorage', 'special', 'anchorage', 'hook', 'cute', 'hat', 'idiots', 'rosalyn clueless', 'couple', 'clueless', 'anchorage driver', 'make', 'day', 'driver', 'rosalyn', 'cute couple'}\n",
      "*********************************************\n",
      "30\n",
      "TABO words:  the sock puppet\n",
      "12    the sock puppet will do whatever PM Butts tell him to do.\n"
     ]
    },
    {
     "data": {
      "text/html": [
       "the <span style='color:red;' >[sock puppet]</span> will do whatever PM <span style='color:red;' >[butts]</span> tell him to do."
      ],
      "text/plain": [
       "<IPython.core.display.HTML object>"
      ]
     },
     "metadata": {},
     "output_type": "display_data"
    },
    {
     "name": "stdout",
     "output_type": "stream",
     "text": [
      "4 KWS: {'butts', 'puppet', 'sock puppet', 'sock'}\n",
      "*********************************************\n",
      "31\n",
      "TABO words:  idiot\n",
      "2    Another idiot!\n"
     ]
    },
    {
     "data": {
      "text/html": [
       "Another <span style='color:red;' >[idiot]</span>!"
      ],
      "text/plain": [
       "<IPython.core.display.HTML object>"
      ]
     },
     "metadata": {},
     "output_type": "display_data"
    },
    {
     "name": "stdout",
     "output_type": "stream",
     "text": [
      "1 KWS: {'idiot'}\n",
      "*********************************************\n",
      "32\n",
      "TABO words:  put this pathetic rapists Let him rot with stale meals and a saggy cot\n",
      "26    Invoke a leap year April Fools and put this pathetic rapists away for life without parole.  Let him rot with stale meals and a saggy cot.\n"
     ]
    },
    {
     "data": {
      "text/html": [
       "<span style='color:red;' >[invoke]</span> a <span style='color:red;' >[leap]</span> <span style='color:red;' >[year]</span> <span style='color:red;' >[april fools]</span> and <span style='color:red;' >[put]</span> this <span style='color:red;' >[pathetic rapists]</span> away for <span style='color:red;' >[life]</span> without <span style='color:red;' >[parole]</span>.  Let him <span style='color:red;' >[rot]</span> with <span style='color:red;' >[stale meals]</span> and a <span style='color:red;' >[saggy cot]</span>."
      ],
      "text/plain": [
       "<IPython.core.display.HTML object>"
      ]
     },
     "metadata": {},
     "output_type": "display_data"
    },
    {
     "name": "stdout",
     "output_type": "stream",
     "text": [
      "20 KWS: {'saggy cot', 'pathetic rapists', 'year april', 'leap year', 'leap', 'pathetic', 'parole', 'life', 'rot', 'invoke', 'fools', 'stale meals', 'april fools', 'put', 'meals', 'rapists', 'stale', 'april', 'cot', 'year'}\n",
      "*********************************************\n",
      "33\n",
      "TABO words: \n",
      "87    These freaking donkeys all need to be removed from office. I'm so sick and tired of these lifelong politicians who all seem clueless and could never run their own business.\n",
      "\n",
      " For all you people who marched against our president how about we all March to Honolulu hale and demand rail be stopped. Oh that's right you only like complaining against the president of the United States and do nothing against all the useless politicians in your own backyard. \n",
      "Such hypocrites. Keep voting for those donkeys you fools\n"
     ]
    },
    {
     "data": {
      "text/html": [
       "These <span style='color:red;' >[freaking donkeys]</span> all need to be <span style='color:red;' >[removed]</span> from <span style='color:red;' >[office]</span>. I'm so <span style='color:red;' >[sick]</span> and <span style='color:red;' >[tired]</span> of these <span style='color:red;' >[lifelong]</span> <span style='color:red;' >[politicians]</span> who all seem clueless and could never run their own <span style='color:red;' >[business]</span>.   For all you people who marched against our <span style='color:red;' >[president]</span> how about we all <span style='color:red;' >[march]</span> to <span style='color:red;' >[honolulu hale]</span> and <span style='color:red;' >[demand rail]</span> be stopped. Oh that's right you only like complaining against the <span style='color:red;' >[president]</span> of the <span style='color:red;' >[united states]</span> and do nothing against all the useless <span style='color:red;' >[politicians]</span> in your own backyard.  Such hypocrites. Keep voting for those <span style='color:red;' >[donkeys]</span> you fools"
      ],
      "text/plain": [
       "<IPython.core.display.HTML object>"
      ]
     },
     "metadata": {},
     "output_type": "display_data"
    },
    {
     "name": "stdout",
     "output_type": "stream",
     "text": [
      "20 KWS: {'business', 'demand rail', 'freaking donkeys', 'march', 'sick', 'honolulu', 'tired', 'donkeys', 'office', 'lifelong', 'honolulu hale', 'removed', 'president', 'useless politicians', 'united states', 'united', 'states', 'lifelong politicians', 'freaking', 'politicians'}\n",
      "*********************************************\n",
      "34\n",
      "TABO words:  Liberalism leads to stupidity laziness largassitis\n",
      "8    Liberalism leads to stupidity and laziness, leading largassitis.\n"
     ]
    },
    {
     "data": {
      "text/html": [
       "<span style='color:red;' >[liberalism leads]</span> to <span style='color:red;' >[stupidity]</span> and <span style='color:red;' >[laziness]</span>, <span style='color:red;' >[leading largassitis]</span>."
      ],
      "text/plain": [
       "<IPython.core.display.HTML object>"
      ]
     },
     "metadata": {},
     "output_type": "display_data"
    },
    {
     "name": "stdout",
     "output_type": "stream",
     "text": [
      "8 KWS: {'liberalism', 'leading', 'leads', 'leading largassitis', 'stupidity', 'liberalism leads', 'laziness', 'largassitis'}\n",
      "*********************************************\n",
      "35\n",
      "TABO words:  idiocy\n",
      "9    Yes, remember the idiocy, 'hydrogen would make petroleum obsolete'.\n"
     ]
    },
    {
     "data": {
      "text/html": [
       "Yes, <span style='color:red;' >[remember]</span> the <span style='color:red;' >[idiocy]</span>, <span style='color:red;' >[hydrogen]</span> would <span style='color:red;' >[make]</span> <span style='color:red;' >[petroleum obsolete]</span>'."
      ],
      "text/plain": [
       "<IPython.core.display.HTML object>"
      ]
     },
     "metadata": {},
     "output_type": "display_data"
    },
    {
     "name": "stdout",
     "output_type": "stream",
     "text": [
      "8 KWS: {'idiocy', 'petroleum', 'make', 'petroleum obsolete', 'remember', 'make petroleum', 'obsolete', 'hydrogen'}\n",
      "*********************************************\n",
      "36\n",
      "TABO words:  stupid blind white\n",
      "22    Beijing millionaires and wanna be Beijing millionairesses who squeeze money from the rest of us! And stupid blind white men with blinders!\n"
     ]
    },
    {
     "data": {
      "text/html": [
       "<span style='color:red;' >[beijing millionaires]</span> and <span style='color:red;' >[wanna]</span> be <span style='color:red;' >[beijing millionairesses]</span> who <span style='color:red;' >[squeeze money]</span> from the <span style='color:red;' >[rest]</span> of us! And <span style='color:red;' >[stupid blind]</span> <span style='color:red;' >[white men]</span> with <span style='color:red;' >[blinders]</span>!"
      ],
      "text/plain": [
       "<IPython.core.display.HTML object>"
      ]
     },
     "metadata": {},
     "output_type": "display_data"
    },
    {
     "name": "stdout",
     "output_type": "stream",
     "text": [
      "18 KWS: {'blind white', 'beijing millionaires', 'millionairesses', 'rest', 'white men', 'money', 'blinders', 'blind', 'millionaires', 'wanna', 'white', 'beijing millionairesses', 'stupid blind', 'beijing', 'squeeze money', 'stupid', 'squeeze', 'men'}\n",
      "*********************************************\n",
      "37\n",
      "TABO words:  stupid\n",
      "89    Are u stupid... did you not read article small amount of Marijuana...... massive amounts of meth and herion .... yep blame it on weed.... you obviously  never smoked any. If so you would realize a \"reffer\" head would have been to lazy and hungry to steal a boat.. as a matter of fact. I guarantee  alcohol  which is legal same as Marijuana  played huge part in this... not defending the meth heads or tweakers out there,  but really your simple minded antics are what is wrong with our community...\n"
     ]
    },
    {
     "data": {
      "text/html": [
       "Are u <span style='color:red;' >[stupid]</span>... did you not <span style='color:red;' >[read article]</span> <span style='color:red;' >[small amount]</span> of <span style='color:red;' >[marijuana]</span>...... <span style='color:red;' >[massive amounts]</span> of <span style='color:red;' >[meth]</span> and <span style='color:red;' >[herion]</span> .... <span style='color:red;' >[yep]</span> blame it on <span style='color:red;' >[weed]</span>.... you obviously  never smoked any. If so you would realize a \"<span style='color:red;' >[reffer]</span>\" head would have been to lazy and hungry to steal a boat.. as a matter of fact. I guarantee  alcohol  which is legal same as <span style='color:red;' >[marijuana]</span>  played huge part in this... not defending the <span style='color:red;' >[meth]</span> heads or tweakers out there,  but really your simple minded antics are what is wrong with our community..."
      ],
      "text/plain": [
       "<IPython.core.display.HTML object>"
      ]
     },
     "metadata": {},
     "output_type": "display_data"
    },
    {
     "name": "stdout",
     "output_type": "stream",
     "text": [
      "20 KWS: {'reffer', 'boat.', 'yep blame', 'marijuana', 'meth', 'article small', 'article', 'weed', 'small', 'yep', 'massive amounts', 'small amount', 'read article', 'marijuana played', 'herion', 'stupid', 'read', 'massive', 'amount', 'amounts'}\n",
      "*********************************************\n",
      "38\n",
      "TABO words:  idiot\n",
      "14    This clearly is why \"Junior\" is not qualified to be PM........he's an idiot !\n"
     ]
    },
    {
     "data": {
      "text/html": [
       "This clearly is why \"<span style='color:red;' >[junior]</span>\" is not <span style='color:red;' >[qualified]</span> to be PM........he's an <span style='color:red;' >[idiot]</span> !"
      ],
      "text/plain": [
       "<IPython.core.display.HTML object>"
      ]
     },
     "metadata": {},
     "output_type": "display_data"
    },
    {
     "name": "stdout",
     "output_type": "stream",
     "text": [
      "3 KWS: {'idiot', 'junior', 'qualified'}\n",
      "*********************************************\n",
      "39\n",
      "TABO words:  sexual acts with animals\n",
      "15    Section 160 should also be amended to include sexual acts with animals not involving penetration.\n"
     ]
    },
    {
     "data": {
      "text/html": [
       "<span style='color:red;' >[section]</span> 160 should also be <span style='color:red;' >[amended]</span> to <span style='color:red;' >[include sexual]</span> <span style='color:red;' >[acts]</span> with <span style='color:red;' >[animals]</span> not <span style='color:red;' >[involving penetration]</span>."
      ],
      "text/plain": [
       "<IPython.core.display.HTML object>"
      ]
     },
     "metadata": {},
     "output_type": "display_data"
    },
    {
     "name": "stdout",
     "output_type": "stream",
     "text": [
      "11 KWS: {'sexual acts', 'amended', 'animals', 'sexual', 'section', 'involving penetration', 'involving', 'penetration', 'acts', 'include sexual', 'include'}\n",
      "*********************************************\n",
      "40\n",
      "TABO words:  Stupid is as stupid does\n",
      "116    \"Wythe thinks Republican members of the House should settle their differences in caucus meetings — which are private.\"  That statement should scare the h*ll out of  any voter.  Another advocate for a state government functioning  behind closed doors is exactly who we do not need in the Alaska Legislature.  The  system she apparently adores (the secretive standing caucus system)has just about pounded this state into the ground.  Also, does she understand caucus membership is all about crushing any minority view and has little to do with party platforms and everything to do with the quid pro quo of trading toady behavior for spending in deals that are done behind closed doors?  Stupid is as stupid does..........\n"
     ]
    },
    {
     "data": {
      "text/html": [
       "\"<span style='color:red;' >[wythe]</span> thinks <span style='color:red;' >[republican members]</span> of the <span style='color:red;' >[house]</span> should <span style='color:red;' >[settle]</span> their <span style='color:red;' >[differences]</span> in <span style='color:red;' >[caucus meetings]</span> — which are <span style='color:red;' >[private]</span>.\"  That statement should scare the h*ll out of  any voter.  Another advocate for a <span style='color:red;' >[state]</span> government functioning  behind <span style='color:red;' >[closed doors]</span> is exactly who we do not need in the <span style='color:red;' >[alaska legislature]</span>.  The  <span style='color:red;' >[system]</span> she apparently adores (the secretive standing <span style='color:red;' >[caucus]</span> system)has just about pounded this <span style='color:red;' >[state]</span> into the ground.  Also, does she understand <span style='color:red;' >[caucus]</span> membership is all about crushing any minority view and has little to do with party platforms and everything to do with the quid pro quo of trading toady behavior for spending in deals that are done behind <span style='color:red;' >[closed doors]</span>?  <span style='color:red;' >[stupid]</span> is as <span style='color:red;' >[stupid]</span> does.........."
      ],
      "text/plain": [
       "<IPython.core.display.HTML object>"
      ]
     },
     "metadata": {},
     "output_type": "display_data"
    },
    {
     "name": "stdout",
     "output_type": "stream",
     "text": [
      "20 KWS: {'caucus meetings', 'republican', 'alaska', 'differences', 'private', 'closed doors', 'legislature', 'house', 'meetings', 'alaska legislature', 'members', 'closed', 'caucus', 'wythe', 'republican members', 'settle', 'system', 'doors', 'stupid', 'state'}\n",
      "*********************************************\n",
      "41\n",
      "TABO words: \n",
      "80    Brilliant reply. Kept me in suspense throughout. It would probably be cheaper to just offer a bounty on low-hanging britches tho'. When you see them, just yank them down and when the twit turns to strike you just push him backwards and take his pic. Post it online and get a $25 reward. If enough of these morons get shamed it might beautify the community more than \"art\" which is more subjective. Everybody enjoys seeing a fool take a fall.\n"
     ]
    },
    {
     "data": {
      "text/html": [
       "<span style='color:red;' >[brilliant reply]</span>. Kept me in <span style='color:red;' >[suspense]</span> throughout. It would probably be <span style='color:red;' >[cheaper]</span> to just <span style='color:red;' >[offer]</span> a <span style='color:red;' >[bounty]</span> on <span style='color:red;' >[low-hanging]</span> <span style='color:red;' >[britches tho]</span>'. When you see them, just <span style='color:red;' >[yank]</span> them down and when the <span style='color:red;' >[twit turns]</span> to strike you just push him backwards and take his <span style='color:red;' >[pic]</span>. <span style='color:red;' >[post]</span> it online and get a $25 <span style='color:red;' >[reward]</span>. If enough of these morons get shamed it might beautify the community more than \"<span style='color:red;' >[art]</span>\" which is more <span style='color:red;' >[subjective]</span>. Everybody enjoys seeing a fool take a <span style='color:red;' >[fall]</span>."
      ],
      "text/plain": [
       "<IPython.core.display.HTML object>"
      ]
     },
     "metadata": {},
     "output_type": "display_data"
    },
    {
     "name": "stdout",
     "output_type": "stream",
     "text": [
      "20 KWS: {'art', 'fall', 'yank', 'britches tho', 'tho', 'brilliant reply', 'pic', 'low-hanging britches', 'reply', 'twit turns', 'cheaper', 'suspense', 'post', 'britches', 'offer', 'subjective', 'reward', 'low-hanging', 'brilliant', 'bounty'}\n",
      "*********************************************\n",
      "42\n",
      "TABO words:  nuts pathetic\n",
      "25    Trump and right wing nuts are is such huge hypocrites. They're really pathetic. \n",
      "\n",
      "Trump Was Fine With Ted Nugent Joking About Killing The President http://www.huffingtonpost.com/entry/trump-ted-nugent-donald-trump_us_592f1ec9e4b09ec37c31577e?k8l\n"
     ]
    },
    {
     "data": {
      "text/html": [
       "<span style='color:red;' >[trump]</span> and right <span style='color:red;' >[wing nuts]</span> are is such <span style='color:red;' >[huge hypocrites]</span>. They're really <span style='color:red;' >[pathetic]</span>.   <span style='color:red;' >[trump]</span> Was <span style='color:red;' >[fine]</span> With <span style='color:red;' >[ted nugent]</span> <span style='color:red;' >[joking]</span> About <span style='color:red;' >[killing]</span> The <span style='color:red;' >[president]</span> http://www.huffingtonpost.com/entry/trump-ted-nugent-donald-trump_us_592f1ec9e4b09ec37c31577e?k8l"
      ],
      "text/plain": [
       "<IPython.core.display.HTML object>"
      ]
     },
     "metadata": {},
     "output_type": "display_data"
    },
    {
     "name": "stdout",
     "output_type": "stream",
     "text": [
      "16 KWS: {'pathetic', 'wing nuts', 'killing', 'trump', 'nugent joking', 'wing', 'nuts', 'joking', 'nugent', 'huge hypocrites', 'president', 'fine', 'ted nugent', 'ted', 'huge', 'hypocrites'}\n",
      "*********************************************\n",
      "43\n",
      "TABO words:  drug addicts prostitutes\n",
      "84    \"Santa Barbara feel.\" You mean walkable, well kept sidewalks. Livable, nice even. Not the dumping ground for homeless drug addicts and prostitutes that it looks like now. The Ammo Can has enough parking. I never see that lot full. I do see all the snow from that lot pushed in the way of any one on a bike or walking.\n",
      "\n",
      "People in Anchorage need to get off their butts and walk to a business. Their doctors will be happier, and they will be healthier.\n"
     ]
    },
    {
     "data": {
      "text/html": [
       "\"<span style='color:red;' >[santa barbara]</span> <span style='color:red;' >[feel]</span>.\" You mean <span style='color:red;' >[walkable]</span>, well kept <span style='color:red;' >[sidewalks]</span>. <span style='color:red;' >[livable]</span>, <span style='color:red;' >[nice]</span> even. Not the <span style='color:red;' >[dumping ground]</span> for <span style='color:red;' >[homeless drug]</span> addicts and prostitutes that it looks like now. The <span style='color:red;' >[ammo]</span> Can has enough <span style='color:red;' >[parking]</span>. I never see that <span style='color:red;' >[lot]</span> <span style='color:red;' >[full]</span>. I do see all the snow from that <span style='color:red;' >[lot]</span> pushed in the way of any one on a bike or <span style='color:red;' >[walking]</span>.  People in <span style='color:red;' >[anchorage]</span> need to get off their butts and walk to a business. Their doctors will be happier, and they will be healthier."
      ],
      "text/plain": [
       "<IPython.core.display.HTML object>"
      ]
     },
     "metadata": {},
     "output_type": "display_data"
    },
    {
     "name": "stdout",
     "output_type": "stream",
     "text": [
      "20 KWS: {'nice', 'parking', 'dumping ground', 'anchorage', 'barbara feel', 'santa', 'walking', 'sidewalks', 'walkable', 'homeless drug', 'lot full', 'lot pushed', 'barbara', 'ammo', 'drug addicts', 'full', 'feel', 'lot', 'santa barbara', 'livable'}\n",
      "*********************************************\n",
      "44\n",
      "TABO words:  Trumpniks ridiculous moron ridiculous\n",
      "33    It's hilarious watching the Trumpniks tying themselves into ridiculous knots in order to support this moron no matter what.\n",
      "\n",
      "\n",
      "\n",
      "I wonder if they have any /idea/ how ridiculous they look to normal people.\n"
     ]
    },
    {
     "data": {
      "text/html": [
       "It's <span style='color:red;' >[hilarious watching]</span> the <span style='color:red;' >[trumpniks tying]</span> themselves into <span style='color:red;' >[ridiculous knots]</span> in <span style='color:red;' >[order]</span> to <span style='color:red;' >[support]</span> this <span style='color:red;' >[moron]</span> no <span style='color:red;' >[matter]</span> what.    I wonder if they have any /idea/ how <span style='color:red;' >[ridiculous]</span> they look to <span style='color:red;' >[normal people]</span>."
      ],
      "text/plain": [
       "<IPython.core.display.HTML object>"
      ]
     },
     "metadata": {},
     "output_type": "display_data"
    },
    {
     "name": "stdout",
     "output_type": "stream",
     "text": [
      "17 KWS: {'matter', 'trumpniks tying', 'moron', 'hilarious', 'trumpniks', 'tying', 'knots', 'order', 'ridiculous knots', 'support', 'ridiculous', 'watching', 'normal people', 'hilarious watching', 'people', 'normal', 'idea'}\n",
      "*********************************************\n",
      "45\n",
      "TABO words:  stupid\n",
      "5    Is T-rump really this naive/stupid?\n"
     ]
    },
    {
     "data": {
      "text/html": [
       "Is <span style='color:red;' >[t-rump]</span> really this naive/stupid?"
      ],
      "text/plain": [
       "<IPython.core.display.HTML object>"
      ]
     },
     "metadata": {},
     "output_type": "display_data"
    },
    {
     "name": "stdout",
     "output_type": "stream",
     "text": [
      "3 KWS: {'t-rump', 'stupid', 'naive'}\n",
      "*********************************************\n",
      "46\n",
      "TABO words:  stupid\n",
      "66    We aren't California or New York .    You obviously don't pay the ever rising taxes, but I do and the personal  incomes in this town  don't support them and I'm sick of them being raised on a yearly basis to support the freeloaders and things like stupid and unneeded roundabouts so the current mayor can have some sort of legacy after he's booted out of office.\n"
     ]
    },
    {
     "data": {
      "text/html": [
       "We aren't <span style='color:red;' >[california]</span> or New <span style='color:red;' >[york]</span> .    You obviously don't <span style='color:red;' >[pay]</span> the ever <span style='color:red;' >[rising taxes]</span>, but I do and the <span style='color:red;' >[personal]</span>  <span style='color:red;' >[incomes]</span> in this <span style='color:red;' >[town]</span>  don't <span style='color:red;' >[support]</span> them and I'm <span style='color:red;' >[sick]</span> of them being <span style='color:red;' >[raised]</span> on a <span style='color:red;' >[yearly basis]</span> to <span style='color:red;' >[support]</span> the <span style='color:red;' >[freeloaders]</span> and things like stupid and <span style='color:red;' >[unneeded roundabouts]</span> so the <span style='color:red;' >[current mayor]</span> can have some sort of legacy after he's booted out of <span style='color:red;' >[office]</span>."
      ],
      "text/plain": [
       "<IPython.core.display.HTML object>"
      ]
     },
     "metadata": {},
     "output_type": "display_data"
    },
    {
     "name": "stdout",
     "output_type": "stream",
     "text": [
      "20 KWS: {'california', 'sick', 'freeloaders', 'york', 'office', 'unneeded roundabouts', 'yearly basis', 'basis', 'personal incomes', 'support', 'pay', 'raised', 'rising', 'incomes', 'personal', 'yearly', 'rising taxes', 'town', 'current mayor', 'taxes'}\n",
      "*********************************************\n",
      "47\n",
      "TABO words:  idiots\n",
      "7    Try the number 5 million, you idiots.\n"
     ]
    },
    {
     "data": {
      "text/html": [
       "Try the <span style='color:red;' >[number]</span> 5 <span style='color:red;' >[million]</span>, you <span style='color:red;' >[idiots]</span>."
      ],
      "text/plain": [
       "<IPython.core.display.HTML object>"
      ]
     },
     "metadata": {},
     "output_type": "display_data"
    },
    {
     "name": "stdout",
     "output_type": "stream",
     "text": [
      "3 KWS: {'idiots', 'number', 'million'}\n",
      "*********************************************\n",
      "48\n",
      "TABO words:  jack ass ****hole\n",
      "61    Hay good going jack ass. It's Jonny come latelys like your self that can't appreciate a place for what it is. \n",
      "So you have to share it with everyone else instead of keeping the majesty of the place for those who would find it on there own. And actually deserve it. \n",
      "Good job ****hole. \n",
      "Hope I don't see you up there.\n"
     ]
    },
    {
     "data": {
      "text/html": [
       "<span style='color:red;' >[hay good]</span> going <span style='color:red;' >[jack ass]</span>. It's <span style='color:red;' >[jonny]</span> come latelys like your self that can't appreciate a <span style='color:red;' >[place]</span> for what it is.  So you have to <span style='color:red;' >[share]</span> it with everyone else instead of <span style='color:red;' >[keeping]</span> the <span style='color:red;' >[majesty]</span> of the <span style='color:red;' >[place]</span> for those who would <span style='color:red;' >[find]</span> it on there own. And actually <span style='color:red;' >[deserve]</span> it.  <span style='color:red;' >[good]</span> <span style='color:red;' >[job]</span> ****hole.  <span style='color:red;' >[hope]</span> I don't see you up there."
      ],
      "text/plain": [
       "<IPython.core.display.HTML object>"
      ]
     },
     "metadata": {},
     "output_type": "display_data"
    },
    {
     "name": "stdout",
     "output_type": "stream",
     "text": [
      "17 KWS: {'jack', 'hay', 'hole', 'ass', 'good job', 'job', 'hay good', 'jonny', 'keeping', 'find', 'majesty', 'deserve', 'good', 'share', 'jack ass', 'hope', 'place'}\n",
      "*********************************************\n",
      "49\n",
      "TABO words:  cheeto-face, sphincter-lipped lying\n",
      "77    Life was so much easier (and fun) just a few months ago for the GOP and Trump chumps could just sit back and blame everything on President Obama and chant \"Lock her up!\" at their brown shirt rallies. \n",
      "Now that they control the Oval Office and both houses of Congress, they have no alternative to turn on each other for the historic failures of their cheeto-face, sphincter-lipped lying con man-in-chief, and the Putin henchmen in his Administration.\n"
     ]
    },
    {
     "data": {
      "text/html": [
       "<span style='color:red;' >[life]</span> was so much <span style='color:red;' >[easier]</span> (and <span style='color:red;' >[fun]</span>) just a few <span style='color:red;' >[months ago]</span> for the <span style='color:red;' >[gop]</span> and <span style='color:red;' >[trump chumps]</span> could just <span style='color:red;' >[sit back]</span> and blame everything on <span style='color:red;' >[president obama]</span> and <span style='color:red;' >[chant]</span> \"<span style='color:red;' >[lock]</span> her up!\" at their brown <span style='color:red;' >[shirt rallies]</span>.  Now that they control the <span style='color:red;' >[oval office]</span> and both houses of Congress, they have no alternative to turn on each other for the historic failures of their cheeto-face, <span style='color:red;' >[sphincter-lipped lying]</span> con man-in-chief, and the <span style='color:red;' >[putin henchmen]</span> in his Administration."
      ],
      "text/plain": [
       "<IPython.core.display.HTML object>"
      ]
     },
     "metadata": {},
     "output_type": "display_data"
    },
    {
     "name": "stdout",
     "output_type": "stream",
     "text": [
      "20 KWS: {'sit back', 'obama', 'lock', 'trump chumps', 'life', 'easier', 'rallies', 'shirt rallies', 'months ago', 'lying con', 'trump', 'fun', 'chant', 'president', 'sphincter-lipped lying', 'putin henchmen', 'oval office', 'president obama', 'brown shirt', 'gop'}\n",
      "*********************************************\n",
      "50\n",
      "TABO words:  stupidity\n",
      "39    what is too pathetic is the lie you just fell for, no one will loose health care loser, there is to be a national fund to ensure that,,, \n",
      "You are the far nut job lunatic left fringe of stupidity\n"
     ]
    },
    {
     "data": {
      "text/html": [
       "what is too <span style='color:red;' >[pathetic]</span> is the <span style='color:red;' >[lie]</span> you just <span style='color:red;' >[fell]</span> for, no one will <span style='color:red;' >[loose health]</span> <span style='color:red;' >[care loser]</span>, there is to be a <span style='color:red;' >[national fund]</span> to <span style='color:red;' >[ensure]</span> that,,,  You are the far <span style='color:red;' >[nut job]</span> <span style='color:red;' >[lunatic left]</span> fringe of <span style='color:red;' >[stupidity]</span>"
      ],
      "text/plain": [
       "<IPython.core.display.HTML object>"
      ]
     },
     "metadata": {},
     "output_type": "display_data"
    },
    {
     "name": "stdout",
     "output_type": "stream",
     "text": [
      "20 KWS: {'lunatic left', 'national', 'care loser', 'loser', 'pathetic', 'left fringe', 'care', 'job lunatic', 'fell', 'loose', 'fund', 'nut', 'stupidity', 'lie', 'national fund', 'health', 'health care', 'ensure', 'loose health', 'nut job'}\n",
      "*********************************************\n",
      "51\n",
      "TABO words:  shit bullshit\n",
      "24    Bull shit. Did I spell that right? Or is it one word: bullshit. Jeff Bezos: do you tremble at the prospect of President Clinton?\n"
     ]
    },
    {
     "data": {
      "text/html": [
       "<span style='color:red;' >[bull shit]</span>. Did I <span style='color:red;' >[spell]</span> that right? Or is it one <span style='color:red;' >[word]</span>: <span style='color:red;' >[bullshit]</span>. <span style='color:red;' >[jeff bezos]</span>: do you <span style='color:red;' >[tremble]</span> at the <span style='color:red;' >[prospect]</span> of <span style='color:red;' >[president clinton]</span>?"
      ],
      "text/plain": [
       "<IPython.core.display.HTML object>"
      ]
     },
     "metadata": {},
     "output_type": "display_data"
    },
    {
     "name": "stdout",
     "output_type": "stream",
     "text": [
      "14 KWS: {'shit', 'spell', 'jeff bezos', 'bull', 'president clinton', 'tremble', 'bullshit', 'president', 'word', 'prospect', 'clinton', 'jeff', 'bezos', 'bull shit'}\n",
      "*********************************************\n",
      "52\n",
      "TABO words:  stupidity\n",
      "33    So if I were to say that Islam is being used to create terrorists, which it is, would that be hatred towards Muslims? \n",
      "The gray area on this stupidity is wide and deep.\n"
     ]
    },
    {
     "data": {
      "text/html": [
       "So if I were to say that <span style='color:red;' >[islam]</span> is being used to <span style='color:red;' >[create terrorists]</span>, which it is, would that be <span style='color:red;' >[hatred]</span> towards <span style='color:red;' >[muslims]</span>?  The <span style='color:red;' >[gray area]</span> on this <span style='color:red;' >[stupidity]</span> is <span style='color:red;' >[wide]</span> and <span style='color:red;' >[deep]</span>."
      ],
      "text/plain": [
       "<IPython.core.display.HTML object>"
      ]
     },
     "metadata": {},
     "output_type": "display_data"
    },
    {
     "name": "stdout",
     "output_type": "stream",
     "text": [
      "12 KWS: {'islam', 'terrorists', 'gray area', 'muslims', 'wide', 'area', 'create', 'create terrorists', 'gray', 'hatred', 'deep', 'stupidity'}\n",
      "*********************************************\n",
      "53\n",
      "TABO words: \n",
      "16    Trudeau and cabinet are the racist scum.\n",
      "Throw them all into the volcano, ashes to\n",
      "ashes.\n"
     ]
    },
    {
     "data": {
      "text/html": [
       "<span style='color:red;' >[trudeau]</span> and <span style='color:red;' >[cabinet]</span> are the <span style='color:red;' >[racist scum]</span>. <span style='color:red;' >[throw]</span> them all into the <span style='color:red;' >[volcano]</span>, <span style='color:red;' >[ashes]</span> to <span style='color:red;' >[ashes]</span>."
      ],
      "text/plain": [
       "<IPython.core.display.HTML object>"
      ]
     },
     "metadata": {},
     "output_type": "display_data"
    },
    {
     "name": "stdout",
     "output_type": "stream",
     "text": [
      "8 KWS: {'trudeau', 'ashes', 'throw', 'volcano', 'cabinet', 'racist scum', 'racist', 'scum'}\n",
      "*********************************************\n",
      "54\n",
      "TABO words:  stupid unfit\n",
      "24    Trump's comments are stupid, reckless and very dangerous. He is temperamentally and intellectually unfit to be the person responsible for the lives of millions.\n"
     ]
    },
    {
     "data": {
      "text/html": [
       "Trump's <span style='color:red;' >[comments]</span> are <span style='color:red;' >[stupid]</span>, <span style='color:red;' >[reckless]</span> and very <span style='color:red;' >[dangerous]</span>. He is <span style='color:red;' >[temperamentally]</span> and <span style='color:red;' >[intellectually unfit]</span> to be the <span style='color:red;' >[person responsible]</span> for the <span style='color:red;' >[lives]</span> of <span style='color:red;' >[millions]</span>."
      ],
      "text/plain": [
       "<IPython.core.display.HTML object>"
      ]
     },
     "metadata": {},
     "output_type": "display_data"
    },
    {
     "name": "stdout",
     "output_type": "stream",
     "text": [
      "15 KWS: {'comments', 'dangerous', 'person responsible', 'lives', 'temperamentally', 'millions', 'intellectually', 'reckless', 'person', 'responsible', 'trump', 'trump comments', 'intellectually unfit', 'stupid', 'unfit'}\n",
      "*********************************************\n",
      "55\n",
      "TABO words:  kick ass\n",
      "4    Alaska girls kick ass!\n"
     ]
    },
    {
     "data": {
      "text/html": [
       "<span style='color:red;' >[alaska girls]</span> <span style='color:red;' >[kick ass]</span>!"
      ],
      "text/plain": [
       "<IPython.core.display.HTML object>"
      ]
     },
     "metadata": {},
     "output_type": "display_data"
    },
    {
     "name": "stdout",
     "output_type": "stream",
     "text": [
      "7 KWS: {'ass', 'alaska', 'girls kick', 'girls', 'kick ass', 'alaska girls', 'kick'}\n",
      "*********************************************\n",
      "56\n",
      "TABO words:  idiots\n",
      "16    How about disturbing the peace??  Hope he gets at least ten years without parole.  Freaking idiots.\n"
     ]
    },
    {
     "data": {
      "text/html": [
       "How about <span style='color:red;' >[disturbing]</span> the <span style='color:red;' >[peace]</span>??  <span style='color:red;' >[hope]</span> he gets at least <span style='color:red;' >[ten]</span> <span style='color:red;' >[years]</span> without <span style='color:red;' >[parole]</span>.  <span style='color:red;' >[freaking idiots]</span>."
      ],
      "text/plain": [
       "<IPython.core.display.HTML object>"
      ]
     },
     "metadata": {},
     "output_type": "display_data"
    },
    {
     "name": "stdout",
     "output_type": "stream",
     "text": [
      "10 KWS: {'parole', 'ten years', 'disturbing', 'peace', 'idiots', 'ten', 'freaking idiots', 'years', 'hope', 'freaking'}\n",
      "*********************************************\n",
      "57\n",
      "TABO words:  POTUS\n",
      "59    The only thing Trump is going to win is a place in the Guinnes Book of Records as the biggest lying and most inept POTUS in US history. Regarding your other comments, the MSM and the DNC don't have to \"manufacture\" anything as long your beloved Twitter-in Chief continues making a fool of himself whenever he speaks or tweets.\n"
     ]
    },
    {
     "data": {
      "text/html": [
       "The only <span style='color:red;' >[thing trump]</span> is going to <span style='color:red;' >[win]</span> is a <span style='color:red;' >[place]</span> in the <span style='color:red;' >[guinnes book]</span> of <span style='color:red;' >[records]</span> as the <span style='color:red;' >[biggest lying]</span> and most <span style='color:red;' >[inept potus]</span> in US <span style='color:red;' >[history]</span>. Regarding your other comments, the MSM and the DNC don't have to \"manufacture\" anything as long your beloved <span style='color:red;' >[twitter-in chief]</span> <span style='color:red;' >[continues making]</span> a fool of himself whenever he speaks or tweets."
      ],
      "text/plain": [
       "<IPython.core.display.HTML object>"
      ]
     },
     "metadata": {},
     "output_type": "display_data"
    },
    {
     "name": "stdout",
     "output_type": "stream",
     "text": [
      "20 KWS: {'book', 'biggest', 'thing trump', 'thing', 'inept', 'biggest lying', 'guinnes book', 'guinnes', 'history', 'trump', 'win', 'twitter-in chief', 'potus', 'continues making', 'records', 'beloved twitter-in', 'place', 'inept potus', 'lying', 'chief continues'}\n",
      "*********************************************\n",
      "58\n",
      "TABO words:  stop pulling us into this crap\n",
      "7    NO, stop pulling us into this crap.\n"
     ]
    },
    {
     "data": {
      "text/html": [
       "NO, <span style='color:red;' >[stop pulling]</span> us into this <span style='color:red;' >[crap]</span>."
      ],
      "text/plain": [
       "<IPython.core.display.HTML object>"
      ]
     },
     "metadata": {},
     "output_type": "display_data"
    },
    {
     "name": "stdout",
     "output_type": "stream",
     "text": [
      "4 KWS: {'stop', 'stop pulling', 'pulling', 'crap'}\n",
      "*********************************************\n",
      "59\n",
      "TABO words:  fools\n",
      "62    False equivalency. Obama was born in the US. It is irrelevant what fools believed. And he won both his elections with sizable EC counts AND very strong majorities in the national popular vote.\n",
      "\n",
      "Legal is not the same as legitimate. DT is not viewed as earning the trust and confidence of the majority when he can't win a majority of the votes.\n"
     ]
    },
    {
     "data": {
      "text/html": [
       "<span style='color:red;' >[false equivalency]</span>. <span style='color:red;' >[obama]</span> was <span style='color:red;' >[born]</span> in the US. It is <span style='color:red;' >[irrelevant]</span> what <span style='color:red;' >[fools believed]</span>. And he <span style='color:red;' >[won]</span> both his <span style='color:red;' >[elections]</span> with <span style='color:red;' >[sizable]</span> EC counts AND very <span style='color:red;' >[strong majorities]</span> in the national <span style='color:red;' >[popular vote]</span>.  <span style='color:red;' >[legal]</span> is not the same as <span style='color:red;' >[legitimate]</span>. DT is not viewed as earning the trust and confidence of the <span style='color:red;' >[majority]</span> when he can't win a <span style='color:red;' >[majority]</span> of the <span style='color:red;' >[votes]</span>."
      ],
      "text/plain": [
       "<IPython.core.display.HTML object>"
      ]
     },
     "metadata": {},
     "output_type": "display_data"
    },
    {
     "name": "stdout",
     "output_type": "stream",
     "text": [
      "20 KWS: {'popular vote', 'won', 'fools believed', 'born', 'sizable', 'votes', 'fools', 'false equivalency', 'legal', 'elections', 'believed', 'vote', 'majority', 'national popular', 'irrelevant', 'legitimate', 'false', 'equivalency', 'obama', 'strong majorities'}\n",
      "*********************************************\n",
      "60\n",
      "TABO words:  Ridiculous coward\n",
      "39    In history Englandmen hated to be listed together even with Scots or French, let alone with Irish, Italian, Eastern central European, Russian .... now they want to enlist them to be \"white nationalist\" with them? \n",
      "Ridiculous and coward bunch.\n"
     ]
    },
    {
     "data": {
      "text/html": [
       "In <span style='color:red;' >[history englandmen]</span> <span style='color:red;' >[hated]</span> to be <span style='color:red;' >[listed]</span> together even with <span style='color:red;' >[scots]</span> or <span style='color:red;' >[french]</span>, let alone with <span style='color:red;' >[irish]</span>, <span style='color:red;' >[italian]</span>, <span style='color:red;' >[eastern central]</span> <span style='color:red;' >[european]</span>, <span style='color:red;' >[russian]</span> .... now they want to enlist them to be \"<span style='color:red;' >[white nationalist]</span>\" with them?  Ridiculous and <span style='color:red;' >[coward bunch]</span>."
      ],
      "text/plain": [
       "<IPython.core.display.HTML object>"
      ]
     },
     "metadata": {},
     "output_type": "display_data"
    },
    {
     "name": "stdout",
     "output_type": "stream",
     "text": [
      "20 KWS: {'listed', 'central european', 'eastern', 'nationalist', 'italian', 'history', 'scots', 'hated', 'history englandmen', 'eastern central', 'irish', 'white nationalist', 'central', 'coward bunch', 'european', 'russian', 'french', 'white', 'englandmen', 'englandmen hated'}\n",
      "*********************************************\n",
      "61\n",
      "TABO words:  stupid\n",
      "104    Having been on Hagemeister and seeing first hand the devastation, the only word in your diatribe that is accurate is 'stupid'. Another example of this man made ecological disaster is at the south end of Umnak Island where feral cattle and sheep have disturbed an archaeological site that is considered the oldest in the Aleutians. I've been there and helped rebury remains that were exposed from the animal caused erosion. To see literally hundreds of remains, exposed hearths and middens was deeply disturbing.\n",
      "\n",
      "These animals have no value other than to a bored crabber and should be removed. They are no better than rats.\n"
     ]
    },
    {
     "data": {
      "text/html": [
       "Having been on <span style='color:red;' >[hagemeister]</span> and seeing first <span style='color:red;' >[hand]</span> the <span style='color:red;' >[devastation]</span>, the only <span style='color:red;' >[word]</span> in your <span style='color:red;' >[diatribe]</span> that is <span style='color:red;' >[accurate]</span> is <span style='color:red;' >[stupid]</span>'. Another example of this <span style='color:red;' >[man made]</span> <span style='color:red;' >[ecological disaster]</span> is at the <span style='color:red;' >[south end]</span> of <span style='color:red;' >[umnak island]</span> where <span style='color:red;' >[feral cattle]</span> and sheep have disturbed an <span style='color:red;' >[archaeological site]</span> that is considered the oldest in the <span style='color:red;' >[aleutians]</span>. I've been there and helped rebury <span style='color:red;' >[remains]</span> that were <span style='color:red;' >[exposed]</span> from the animal <span style='color:red;' >[caused erosion]</span>. To see literally hundreds of <span style='color:red;' >[remains]</span>, <span style='color:red;' >[exposed]</span> hearths and middens was deeply disturbing.  These animals have no value other than to a bored crabber and should be removed. They are no better than rats."
      ],
      "text/plain": [
       "<IPython.core.display.HTML object>"
      ]
     },
     "metadata": {},
     "output_type": "display_data"
    },
    {
     "name": "stdout",
     "output_type": "stream",
     "text": [
      "20 KWS: {'hagemeister', 'umnak', 'diatribe', 'ecological disaster', 'archaeological site', 'exposed', 'hand', 'accurate', 'island', 'man made', 'made ecological', 'devastation', 'word', 'aleutians', 'umnak island', 'stupid', 'remains', 'caused erosion', 'south end', 'feral cattle'}\n",
      "*********************************************\n",
      "62\n",
      "TABO words:  Idiot\n",
      "26    See what happens when you don't have an education. Guess he figured the device just helps the guards know when he goes to the bathroom. Idiot.\n"
     ]
    },
    {
     "data": {
      "text/html": [
       "See what happens when you don't have an <span style='color:red;' >[education]</span>. <span style='color:red;' >[guess]</span> he <span style='color:red;' >[figured]</span> the <span style='color:red;' >[device]</span> just helps the <span style='color:red;' >[guards]</span> know when he goes to the <span style='color:red;' >[bathroom]</span>. <span style='color:red;' >[idiot]</span>."
      ],
      "text/plain": [
       "<IPython.core.display.HTML object>"
      ]
     },
     "metadata": {},
     "output_type": "display_data"
    },
    {
     "name": "stdout",
     "output_type": "stream",
     "text": [
      "7 KWS: {'device', 'idiot', 'figured', 'education', 'bathroom', 'guards', 'guess'}\n",
      "*********************************************\n",
      "63\n",
      "TABO words:  moron\n",
      "15    You mean other than it being a race-based theocracy with a moron at the helm?\n"
     ]
    },
    {
     "data": {
      "text/html": [
       "You mean other than it being a <span style='color:red;' >[race-based theocracy]</span> with a <span style='color:red;' >[moron]</span> at the <span style='color:red;' >[helm]</span>?"
      ],
      "text/plain": [
       "<IPython.core.display.HTML object>"
      ]
     },
     "metadata": {},
     "output_type": "display_data"
    },
    {
     "name": "stdout",
     "output_type": "stream",
     "text": [
      "5 KWS: {'moron', 'helm', 'race-based theocracy', 'race-based', 'theocracy'}\n",
      "*********************************************\n",
      "64\n",
      "TABO words:  evil\n",
      "5    Good!  White Christians are evil.\n"
     ]
    },
    {
     "data": {
      "text/html": [
       "<span style='color:red;' >[good]</span>!  <span style='color:red;' >[white christians]</span> are <span style='color:red;' >[evil]</span>."
      ],
      "text/plain": [
       "<IPython.core.display.HTML object>"
      ]
     },
     "metadata": {},
     "output_type": "display_data"
    },
    {
     "name": "stdout",
     "output_type": "stream",
     "text": [
      "5 KWS: {'christians', 'white christians', 'evil', 'white', 'good'}\n",
      "*********************************************\n",
      "65\n",
      "TABO words:  misguided/ignorant\n",
      "90    What an incredibly weak argument. Canada has a long history of where one region or province has disproportionality benefited from another. It structurally exists with equalization payments. That's Canada.\n",
      "\n",
      "If British Columbians are now truly terrified of an marine disaster, then hire a Risk Management Consulting firm to model the different scenarios, probabilities and consequences based on facts. It's time for some myth busting.\n",
      "\n",
      "I guarantee you, it will be far cheaper, honest, effective and educational than what you will ever get from any law firm, NGO, or misguided/ignorant government.\n"
     ]
    },
    {
     "data": {
      "text/html": [
       "What an <span style='color:red;' >[incredibly]</span> <span style='color:red;' >[weak argument]</span>. <span style='color:red;' >[canada]</span> has a <span style='color:red;' >[long history]</span> of where one region or province has <span style='color:red;' >[disproportionality benefited]</span> from another. It structurally exists with <span style='color:red;' >[equalization payments]</span>. That's <span style='color:red;' >[canada]</span>.  If <span style='color:red;' >[british columbians]</span> are now truly terrified of an marine disaster, then hire a <span style='color:red;' >[risk management]</span> <span style='color:red;' >[consulting]</span> <span style='color:red;' >[firm]</span> to model the different scenarios, probabilities and consequences based on facts. It's time for some myth busting.  I guarantee you, it will be far cheaper, honest, effective and educational than what you will ever get from any law <span style='color:red;' >[firm]</span>, <span style='color:red;' >[ngo]</span>, or misguided/ignorant government."
      ],
      "text/plain": [
       "<IPython.core.display.HTML object>"
      ]
     },
     "metadata": {},
     "output_type": "display_data"
    },
    {
     "name": "stdout",
     "output_type": "stream",
     "text": [
      "20 KWS: {'british', 'columbians', 'management consulting', 'incredibly', 'consulting', 'british columbians', 'weak', 'risk management', 'incredibly weak', 'long history', 'disproportionality benefited', 'consulting firm', 'argument', 'ngo', 'management', 'risk', 'weak argument', 'firm', 'equalization payments', 'canada'}\n",
      "*********************************************\n",
      "66\n",
      "TABO words:  crooked ass\n",
      "19    He cancelled because bprder security is bad for the cartels that fund his crooked ass! Nice try though, WaPoDN!\n"
     ]
    },
    {
     "data": {
      "text/html": [
       "He <span style='color:red;' >[cancelled]</span> because <span style='color:red;' >[bprder security]</span> is <span style='color:red;' >[bad]</span> for the <span style='color:red;' >[cartels]</span> that <span style='color:red;' >[fund]</span> his <span style='color:red;' >[crooked ass]</span>! <span style='color:red;' >[nice]</span> try though, <span style='color:red;' >[wapodn]</span>!"
      ],
      "text/plain": [
       "<IPython.core.display.HTML object>"
      ]
     },
     "metadata": {},
     "output_type": "display_data"
    },
    {
     "name": "stdout",
     "output_type": "stream",
     "text": [
      "12 KWS: {'crooked', 'nice', 'cancelled', 'ass', 'crooked ass', 'bprder', 'fund', 'cartels', 'bad', 'security', 'bprder security', 'wapodn'}\n",
      "*********************************************\n",
      "67\n",
      "TABO words:  idiots\n",
      "9    Rebuke convicts idiots, the simple will learn to obey.\n"
     ]
    },
    {
     "data": {
      "text/html": [
       "<span style='color:red;' >[rebuke convicts]</span> <span style='color:red;' >[idiots]</span>, the <span style='color:red;' >[simple]</span> will <span style='color:red;' >[learn]</span> to <span style='color:red;' >[obey]</span>."
      ],
      "text/plain": [
       "<IPython.core.display.HTML object>"
      ]
     },
     "metadata": {},
     "output_type": "display_data"
    },
    {
     "name": "stdout",
     "output_type": "stream",
     "text": [
      "8 KWS: {'learn', 'simple', 'obey', 'idiots', 'convicts idiots', 'rebuke convicts', 'convicts', 'rebuke'}\n",
      "*********************************************\n",
      "68\n",
      "TABO words:  idiot\n",
      "4    Geez, what an idiot.\n"
     ]
    },
    {
     "data": {
      "text/html": [
       "<span style='color:red;' >[geez]</span>, what an <span style='color:red;' >[idiot]</span>."
      ],
      "text/plain": [
       "<IPython.core.display.HTML object>"
      ]
     },
     "metadata": {},
     "output_type": "display_data"
    },
    {
     "name": "stdout",
     "output_type": "stream",
     "text": [
      "2 KWS: {'idiot', 'geez'}\n",
      "*********************************************\n",
      "69\n",
      "TABO words: \n",
      "57    Oh my here we go again.....Another day in the lives of hysterical hypocrite liberals and their Russian Boogey Man conspiracies. Democrats obvisiously  so butthurt over Trumps win that all they have left is impeachment nonsense and verbal attacks to distract the public from their own gross ignorance and anti America, un American direction of their political party.\n"
     ]
    },
    {
     "data": {
      "text/html": [
       "Oh my here we go again.....Another <span style='color:red;' >[day]</span> in the <span style='color:red;' >[lives]</span> of <span style='color:red;' >[hysterical hypocrite]</span> <span style='color:red;' >[liberals]</span> and their <span style='color:red;' >[russian boogey]</span> <span style='color:red;' >[man conspiracies]</span>. <span style='color:red;' >[democrats obvisiously]</span>  so butthurt over <span style='color:red;' >[trumps win]</span> that all they have left is <span style='color:red;' >[impeachment nonsense]</span> and verbal attacks to distract the public from their own gross ignorance and <span style='color:red;' >[anti america]</span>, un <span style='color:red;' >[american direction]</span> of their <span style='color:red;' >[political party]</span>."
      ],
      "text/plain": [
       "<IPython.core.display.HTML object>"
      ]
     },
     "metadata": {},
     "output_type": "display_data"
    },
    {
     "name": "stdout",
     "output_type": "stream",
     "text": [
      "20 KWS: {'liberals', 'conspiracies', 'hysterical', 'lives', 'hypocrite', 'impeachment nonsense', 'man', 'russian boogey', 'democrats obvisiously', 'russian', 'american direction', 'political party', 'man conspiracies', 'hysterical hypocrite', 'boogey', 'day', 'trumps win', 'anti america', 'boogey man', 'hypocrite liberals'}\n",
      "*********************************************\n",
      "70\n",
      "TABO words:  dumb liar\n",
      "35    If you're dumb enough to believe him on this, then I've got a bridge in Brooklyn I will sell you...\n",
      ".\n",
      "The guy is a pathological liar.  Don't believe anything he says.  It's all lies.\n"
     ]
    },
    {
     "data": {
      "text/html": [
       "If you're <span style='color:red;' >[dumb]</span> enough to believe him on this, then I've got a <span style='color:red;' >[bridge]</span> in <span style='color:red;' >[brooklyn]</span> I will <span style='color:red;' >[sell]</span> you... . The <span style='color:red;' >[guy]</span> is a <span style='color:red;' >[pathological liar]</span>.  Don't believe anything he says.  It's all <span style='color:red;' >[lies]</span>."
      ],
      "text/plain": [
       "<IPython.core.display.HTML object>"
      ]
     },
     "metadata": {},
     "output_type": "display_data"
    },
    {
     "name": "stdout",
     "output_type": "stream",
     "text": [
      "9 KWS: {'lies', 'pathological', 'bridge', 'liar', 'sell', 'brooklyn', 'pathological liar', 'guy', 'dumb'}\n",
      "*********************************************\n",
      "71\n",
      "TABO words:  damn it\n",
      "11    I know it....but, damn it.....he's really good at it.  regards, Gary\n"
     ]
    },
    {
     "data": {
      "text/html": [
       "I know it....but, <span style='color:red;' >[damn]</span> it.....he's really <span style='color:red;' >[good]</span> at it.  regards, <span style='color:red;' >[gary]</span>"
      ],
      "text/plain": [
       "<IPython.core.display.HTML object>"
      ]
     },
     "metadata": {},
     "output_type": "display_data"
    },
    {
     "name": "stdout",
     "output_type": "stream",
     "text": [
      "3 KWS: {'damn', 'gary', 'good'}\n",
      "*********************************************\n",
      "72\n",
      "TABO words:  stupid\n",
      "5    Really?  Are you that stupid?\n"
     ]
    },
    {
     "data": {
      "text/html": [
       "Really?  Are you that <span style='color:red;' >[stupid]</span>?"
      ],
      "text/plain": [
       "<IPython.core.display.HTML object>"
      ]
     },
     "metadata": {},
     "output_type": "display_data"
    },
    {
     "name": "stdout",
     "output_type": "stream",
     "text": [
      "1 KWS: {'stupid'}\n",
      "*********************************************\n",
      "73\n",
      "TABO words:  bloody Stupid\n",
      "24    WE have had alternative energy for 3 GENERATIONS, are you all so bloody Stupid? You think threatening BC is a good thing to do?\n"
     ]
    },
    {
     "data": {
      "text/html": [
       "WE have had <span style='color:red;' >[alternative energy]</span> for 3 <span style='color:red;' >[generations]</span>, are you all so <span style='color:red;' >[bloody stupid]</span>? You think <span style='color:red;' >[threatening]</span> BC is a <span style='color:red;' >[good thing]</span> to do?"
      ],
      "text/plain": [
       "<IPython.core.display.HTML object>"
      ]
     },
     "metadata": {},
     "output_type": "display_data"
    },
    {
     "name": "stdout",
     "output_type": "stream",
     "text": [
      "11 KWS: {'bloody stupid', 'energy', 'thing', 'alternative energy', 'bloody', 'alternative', 'generations', 'threatening', 'good', 'stupid', 'good thing'}\n",
      "*********************************************\n",
      "74\n",
      "TABO words:  crap pages\n",
      "95    What a piece of crap.  He has a record 2 pages long on court view, yet he was free, and able to kill a dog that was a better person than he ever hoped to be.  Rest in hell you creepy criminal, death was too good for you, too bad you took out someone that was superior to your white trash human life while being just the average criminal trash that you were born to be.\n",
      "\n",
      "Alaska is lucky to be one less trashy criminal, but is sad to have lost a noble canine life.\n"
     ]
    },
    {
     "data": {
      "text/html": [
       "What a <span style='color:red;' >[piece]</span> of <span style='color:red;' >[crap]</span>.  He has a <span style='color:red;' >[record]</span> 2 <span style='color:red;' >[pages long]</span> on <span style='color:red;' >[court view]</span>, yet he was <span style='color:red;' >[free]</span>, and able to kill a dog that was a better person than he ever hoped to be.  Rest in hell you creepy <span style='color:red;' >[criminal]</span>, death was too good for you, too bad you took out someone that was superior to your white <span style='color:red;' >[trash]</span> human <span style='color:red;' >[life]</span> while being just the average <span style='color:red;' >[criminal]</span> <span style='color:red;' >[trash]</span> that you were born to be.  Alaska is lucky to be one less trashy <span style='color:red;' >[criminal]</span>, but is sad to have lost a noble canine <span style='color:red;' >[life]</span>."
      ],
      "text/plain": [
       "<IPython.core.display.HTML object>"
      ]
     },
     "metadata": {},
     "output_type": "display_data"
    },
    {
     "name": "stdout",
     "output_type": "stream",
     "text": [
      "20 KWS: {'criminal trash', 'view', 'life', 'white trash', 'trash human', 'canine life', 'pages long', 'pages', 'free', 'record', 'criminal', 'trashy criminal', 'court view', 'crap', 'creepy criminal', 'average criminal', 'long', 'human life', 'trash', 'piece'}\n",
      "*********************************************\n",
      "75\n",
      "TABO words:  mediocr\n",
      "11    CBC doesn't worry about competition that's why the are so mediocre.\n"
     ]
    },
    {
     "data": {
      "text/html": [
       "<span style='color:red;' >[cbc]</span> doesn't <span style='color:red;' >[worry]</span> about <span style='color:red;' >[competition]</span> that's why the are so <span style='color:red;' >[mediocre]</span>."
      ],
      "text/plain": [
       "<IPython.core.display.HTML object>"
      ]
     },
     "metadata": {},
     "output_type": "display_data"
    },
    {
     "name": "stdout",
     "output_type": "stream",
     "text": [
      "4 KWS: {'worry', 'mediocre', 'competition', 'cbc'}\n",
      "*********************************************\n",
      "76\n",
      "TABO words:  dumb\n",
      "16    Trump either thinks he is untouchable as president or is dumb as a bag of rocks.\n"
     ]
    },
    {
     "data": {
      "text/html": [
       "<span style='color:red;' >[trump]</span> either thinks he is <span style='color:red;' >[untouchable]</span> as <span style='color:red;' >[president]</span> or is <span style='color:red;' >[dumb]</span> as a <span style='color:red;' >[bag]</span> of <span style='color:red;' >[rocks]</span>."
      ],
      "text/plain": [
       "<IPython.core.display.HTML object>"
      ]
     },
     "metadata": {},
     "output_type": "display_data"
    },
    {
     "name": "stdout",
     "output_type": "stream",
     "text": [
      "6 KWS: {'bag', 'trump', 'rocks', 'president', 'untouchable', 'dumb'}\n",
      "*********************************************\n",
      "77\n",
      "TABO words:  dumb fakin\n",
      "17    where do you think billyhilly got her money? are you that dumb or just fakin us out.\n"
     ]
    },
    {
     "data": {
      "text/html": [
       "where do you think <span style='color:red;' >[billyhilly]</span> got her <span style='color:red;' >[money]</span>? are you that <span style='color:red;' >[dumb]</span> or just <span style='color:red;' >[fakin]</span> us out."
      ],
      "text/plain": [
       "<IPython.core.display.HTML object>"
      ]
     },
     "metadata": {},
     "output_type": "display_data"
    },
    {
     "name": "stdout",
     "output_type": "stream",
     "text": [
      "4 KWS: {'money', 'billyhilly', 'fakin', 'dumb'}\n",
      "*********************************************\n",
      "78\n",
      "TABO words:  silly Clowns Killer clowns\n",
      "14    Stop with the silly suggestions.  We all know what it is.\n",
      "\n",
      "Clowns... Killer clowns...\n"
     ]
    },
    {
     "data": {
      "text/html": [
       "<span style='color:red;' >[stop]</span> with the <span style='color:red;' >[silly suggestions]</span>.  We all know what it is.  <span style='color:red;' >[clowns]</span>... <span style='color:red;' >[killer]</span> <span style='color:red;' >[clowns]</span>..."
      ],
      "text/plain": [
       "<IPython.core.display.HTML object>"
      ]
     },
     "metadata": {},
     "output_type": "display_data"
    },
    {
     "name": "stdout",
     "output_type": "stream",
     "text": [
      "7 KWS: {'silly suggestions', 'silly', 'killer clowns', 'suggestions', 'stop', 'clowns', 'killer'}\n",
      "*********************************************\n",
      "79\n",
      "TABO words:  stupid stupid\n",
      "7    stupid is as stupid does.....and trump is.........\n"
     ]
    },
    {
     "data": {
      "text/html": [
       "<span style='color:red;' >[stupid]</span> is as <span style='color:red;' >[stupid]</span> does.....and <span style='color:red;' >[trump]</span> is........."
      ],
      "text/plain": [
       "<IPython.core.display.HTML object>"
      ]
     },
     "metadata": {},
     "output_type": "display_data"
    },
    {
     "name": "stdout",
     "output_type": "stream",
     "text": [
      "2 KWS: {'stupid', 'trump'}\n",
      "*********************************************\n",
      "80\n",
      "TABO words:  long bitch\n",
      "23    Hey Dickie, as long as it crushes that smug holier-than-thou attitude held by 90% of Canadians, I'm ok with it.\n",
      "Shadenfreude's a bitch.\n"
     ]
    },
    {
     "data": {
      "text/html": [
       "<span style='color:red;' >[hey dickie]</span>, as <span style='color:red;' >[long]</span> as it <span style='color:red;' >[crushes]</span> that <span style='color:red;' >[smug]</span> holier-than-thou <span style='color:red;' >[attitude held]</span> by 90% of <span style='color:red;' >[canadians]</span>, I'm ok with it. Shadenfreude's a <span style='color:red;' >[bitch]</span>."
      ],
      "text/plain": [
       "<IPython.core.display.HTML object>"
      ]
     },
     "metadata": {},
     "output_type": "display_data"
    },
    {
     "name": "stdout",
     "output_type": "stream",
     "text": [
      "12 KWS: {'hey dickie', 'hey', 'crushes', 'dickie', 'shadenfreude', 'bitch', 'canadians', 'held', 'smug', 'attitude held', 'attitude', 'long'}\n",
      "*********************************************\n",
      "81\n",
      "TABO words: \n",
      "24    F@#k all you libtards. Go move to California so when NKorea nukes it, a  good chunk of you dumba$$es will be gone for good.\n"
     ]
    },
    {
     "data": {
      "text/html": [
       "F@#k all you <span style='color:red;' >[libtards]</span>. Go <span style='color:red;' >[move]</span> to <span style='color:red;' >[california]</span> so when <span style='color:red;' >[nkorea nukes]</span> it, a  <span style='color:red;' >[good]</span> <span style='color:red;' >[chunk]</span> of you dumba$$es will be gone for <span style='color:red;' >[good]</span>."
      ],
      "text/plain": [
       "<IPython.core.display.HTML object>"
      ]
     },
     "metadata": {},
     "output_type": "display_data"
    },
    {
     "name": "stdout",
     "output_type": "stream",
     "text": [
      "10 KWS: {'california', 'chunk', 'dumba', 'good chunk', 'nukes', 'libtards', 'good', 'move', 'nkorea nukes', 'nkorea'}\n",
      "*********************************************\n",
      "82\n",
      "TABO words:  stupid\n",
      "85    Morons are people who take a misstatement and spin it to mean something stupid like saying Trump does not know he is President of the Virgin Island.  He knows.    I remember a candidate for president once saying he had campaigned in 57 states.  I also remember that same person, as President, in a Memorial Day speech honoring military personnel who died in service to their country commenting about how nice it was to have so many of them in the audience.   Moron?  If you wish.\n"
     ]
    },
    {
     "data": {
      "text/html": [
       "<span style='color:red;' >[morons]</span> are <span style='color:red;' >[people]</span> who take a <span style='color:red;' >[misstatement]</span> and <span style='color:red;' >[spin]</span> it to mean something <span style='color:red;' >[stupid]</span> like saying <span style='color:red;' >[trump]</span> does not know he is <span style='color:red;' >[president]</span> of the <span style='color:red;' >[virgin island]</span>.  He knows.    I <span style='color:red;' >[remember]</span> a <span style='color:red;' >[candidate]</span> for <span style='color:red;' >[president]</span> once saying he had campaigned in 57 <span style='color:red;' >[states]</span>.  I also <span style='color:red;' >[remember]</span> that same <span style='color:red;' >[person]</span>, as <span style='color:red;' >[president]</span>, in a <span style='color:red;' >[memorial day]</span> speech honoring military personnel who died in service to their country commenting about how nice it was to have so many of them in the <span style='color:red;' >[audience]</span>.   <span style='color:red;' >[moron]</span>?  If you wish."
      ],
      "text/plain": [
       "<IPython.core.display.HTML object>"
      ]
     },
     "metadata": {},
     "output_type": "display_data"
    },
    {
     "name": "stdout",
     "output_type": "stream",
     "text": [
      "20 KWS: {'spin', 'virgin', 'moron', 'person', 'island', 'memorial', 'morons', 'virgin island', 'trump', 'memorial day', 'day speech', 'candidate', 'states', 'audience', 'president', 'misstatement', 'day', 'people', 'stupid', 'remember'}\n",
      "*********************************************\n",
      "83\n",
      "TABO words:  ld beg\n",
      "5    Muslims would beg to disagree\n"
     ]
    },
    {
     "data": {
      "text/html": [
       "<span style='color:red;' >[muslims]</span> would <span style='color:red;' >[beg]</span> to <span style='color:red;' >[disagree]</span>"
      ],
      "text/plain": [
       "<IPython.core.display.HTML object>"
      ]
     },
     "metadata": {},
     "output_type": "display_data"
    },
    {
     "name": "stdout",
     "output_type": "stream",
     "text": [
      "3 KWS: {'disagree', 'muslims', 'beg'}\n",
      "*********************************************\n",
      "84\n",
      "TABO words:  ridiculous\n",
      "81    This ridiculous nonsense needs to stop.  It's abusive, has cost me well over $1MM and has destroyed my life.   (By the way, there is no hidden message in my comment.   The situation is exactly what I am saying.)\n",
      "\n",
      "And yet another idiot is sitting in the parking lot at Carlaw and Colgate Avenue shining lights at my windows.   The gangstalking and harassment endorsed by the Globe and Mail and the individuals and organizations who run this forum needs to stop pronto.\n"
     ]
    },
    {
     "data": {
      "text/html": [
       "This <span style='color:red;' >[ridiculous nonsense]</span> needs to <span style='color:red;' >[stop]</span>.  It's <span style='color:red;' >[abusive]</span>, has <span style='color:red;' >[cost]</span> me well over $1MM and has <span style='color:red;' >[destroyed]</span> my <span style='color:red;' >[life]</span>.   (By the way, there is no <span style='color:red;' >[hidden message]</span> in my comment.   The situation is exactly what I am saying.)  And yet another idiot is sitting in the <span style='color:red;' >[parking lot]</span> at <span style='color:red;' >[carlaw]</span> and <span style='color:red;' >[colgate avenue]</span> <span style='color:red;' >[shining lights]</span> at my windows.   The gangstalking and <span style='color:red;' >[harassment endorsed]</span> by the <span style='color:red;' >[globe]</span> and <span style='color:red;' >[mail]</span> and the individuals and organizations who run this forum needs to <span style='color:red;' >[stop]</span> pronto."
      ],
      "text/plain": [
       "<IPython.core.display.HTML object>"
      ]
     },
     "metadata": {},
     "output_type": "display_data"
    },
    {
     "name": "stdout",
     "output_type": "stream",
     "text": [
      "20 KWS: {'colgate avenue', 'colgate', 'cost', 'harassment endorsed', 'ridiculous nonsense', 'life', 'globe', 'abusive', 'carlaw', 'nonsense', 'mail', 'parking lot', 'destroyed', 'stop', 'avenue', 'ridiculous', 'hidden message', 'shining lights', 'avenue shining', 'stop pronto'}\n",
      "*********************************************\n",
      "85\n",
      "TABO words:  You suck\n",
      "2    You suck\n"
     ]
    },
    {
     "data": {
      "text/html": [
       "You <span style='color:red;' >[suck]</span>"
      ],
      "text/plain": [
       "<IPython.core.display.HTML object>"
      ]
     },
     "metadata": {},
     "output_type": "display_data"
    },
    {
     "name": "stdout",
     "output_type": "stream",
     "text": [
      "1 KWS: {'suck'}\n",
      "*********************************************\n",
      "86\n",
      "TABO words:  weak blood Loser\n",
      "31    Survival of the fittest would not have produced you. You are alive because your weak blood is supported by welfare and food stamps. Please don't reference Darwin in your icon. Loser.\n"
     ]
    },
    {
     "data": {
      "text/html": [
       "<span style='color:red;' >[survival]</span> of the <span style='color:red;' >[fittest]</span> would not have <span style='color:red;' >[produced]</span> you. You are <span style='color:red;' >[alive]</span> because your <span style='color:red;' >[weak blood]</span> is <span style='color:red;' >[supported]</span> by <span style='color:red;' >[welfare]</span> and <span style='color:red;' >[food stamps]</span>. Please don't <span style='color:red;' >[reference darwin]</span> in your <span style='color:red;' >[icon]</span>. <span style='color:red;' >[loser]</span>."
      ],
      "text/plain": [
       "<IPython.core.display.HTML object>"
      ]
     },
     "metadata": {},
     "output_type": "display_data"
    },
    {
     "name": "stdout",
     "output_type": "stream",
     "text": [
      "17 KWS: {'welfare', 'food', 'food stamps', 'weak blood', 'darwin', 'loser', 'weak', 'stamps', 'blood', 'survival', 'reference', 'produced', 'reference darwin', 'alive', 'supported', 'fittest', 'icon'}\n",
      "*********************************************\n",
      "87\n",
      "TABO words: \n",
      "32    RE agents are some of the most manipulative narcissist's around.  They lie, lie, lie, cheat, cheat, cheat for breakfast, lunch and dinner. \n",
      "-\n",
      "How do you teach someone to sell their soul?\n"
     ]
    },
    {
     "data": {
      "text/html": [
       "RE <span style='color:red;' >[agents]</span> are some of the most <span style='color:red;' >[manipulative]</span> narcissist's around.  They <span style='color:red;' >[lie]</span>, <span style='color:red;' >[lie]</span>, <span style='color:red;' >[lie]</span>, <span style='color:red;' >[cheat]</span>, <span style='color:red;' >[cheat]</span>, <span style='color:red;' >[cheat]</span> for <span style='color:red;' >[breakfast]</span>, <span style='color:red;' >[lunch]</span> and <span style='color:red;' >[dinner]</span>.  - How do you <span style='color:red;' >[teach]</span> someone to <span style='color:red;' >[sell]</span> their <span style='color:red;' >[soul]</span>?"
      ],
      "text/plain": [
       "<IPython.core.display.HTML object>"
      ]
     },
     "metadata": {},
     "output_type": "display_data"
    },
    {
     "name": "stdout",
     "output_type": "stream",
     "text": [
      "12 KWS: {'agents', 'cheat', 'manipulative', 'narcissist', 'dinner', 'soul', 'teach', 'lie', 'lunch', 'sell', 'manipulative narcissist', 'breakfast'}\n",
      "*********************************************\n",
      "88\n",
      "TABO words:  racist silly hypocrites\n",
      "147    That's contradicted by the facts. First of all, Democrats have acknowledged the past and the party evolved to the anti-racist side, which prompted southern racists who used to constitute the Solid South for the party to migrate to the GOP, where the South now pretty much votes solidly for Republicans due to the GOP's adoption of the racist polices the Democrats used to push. If there are any remaining racists in the Democratic Party, the members will marginalize and push them out.\n",
      "\n",
      "The Democratic Party of the 1800s, though, was the conservative party. They were not \"leftist\" at all.\n",
      "\n",
      "Entitlements are not \"slavery.\" That's just a silly remark, pre-packaged propaganda to demonize people who need help. Look at Ben Carson -- on public assistance and loans and public housing all his life until he made it on his own, and now he demonizes welfare. Bunch of hypocrites.\n"
     ]
    },
    {
     "data": {
      "text/html": [
       "That's <span style='color:red;' >[contradicted]</span> by the <span style='color:red;' >[facts]</span>. First of all, <span style='color:red;' >[democrats]</span> have acknowledged the past and the <span style='color:red;' >[party]</span> evolved to the <span style='color:red;' >[anti-racist side]</span>, which prompted <span style='color:red;' >[southern racists]</span> who used to constitute the <span style='color:red;' >[solid south]</span> for the <span style='color:red;' >[party]</span> to migrate to the <span style='color:red;' >[gop]</span>, where the <span style='color:red;' >[south]</span> now pretty much votes solidly for <span style='color:red;' >[republicans due]</span> to the GOP's adoption of the <span style='color:red;' >[racist polices]</span> the <span style='color:red;' >[democrats]</span> used to <span style='color:red;' >[push]</span>. If there are any remaining <span style='color:red;' >[racists]</span> in the <span style='color:red;' >[democratic party]</span>, the members will marginalize and <span style='color:red;' >[push]</span> them out.  The <span style='color:red;' >[democratic party]</span> of the 1800s, though, was the conservative <span style='color:red;' >[party]</span>. They were not \"leftist\" at all.  Entitlements are not \"slavery.\" That's just a silly remark, pre-packaged propaganda to demonize people who need help. Look at <span style='color:red;' >[ben carson]</span> -- on public assistance and loans and public housing all his life until he made it on his own, and now he demonizes welfare. Bunch of hypocrites."
      ],
      "text/plain": [
       "<IPython.core.display.HTML object>"
      ]
     },
     "metadata": {},
     "output_type": "display_data"
    },
    {
     "name": "stdout",
     "output_type": "stream",
     "text": [
      "20 KWS: {'anti-racist side', 'democratic party', 'southern racists', 'racist polices', 'facts', 'contradicted', 'republicans due', 'push', 'party', 'conservative party', 'racists', 'ben carson', 'gop adoption', 'remaining racists', 'party evolved', 'solid south', 'democrats', 'south', 'gop', 'democratic'}\n",
      "*********************************************\n",
      "89\n",
      "TABO words:  piece of dung\n",
      "26    Ha ha ha. What a friggin joke. Trudeau couldn't evaluate a terrorist. He gave him 10 million. Trudeau you are such a useless piece of dung\n"
     ]
    },
    {
     "data": {
      "text/html": [
       "Ha ha ha. What a <span style='color:red;' >[friggin joke]</span>. <span style='color:red;' >[trudeau]</span> couldn't <span style='color:red;' >[evaluate]</span> a <span style='color:red;' >[terrorist]</span>. He <span style='color:red;' >[gave]</span> him 10 <span style='color:red;' >[million]</span>. <span style='color:red;' >[trudeau]</span> you are such a <span style='color:red;' >[useless]</span> <span style='color:red;' >[piece]</span> of <span style='color:red;' >[dung]</span>"
      ],
      "text/plain": [
       "<IPython.core.display.HTML object>"
      ]
     },
     "metadata": {},
     "output_type": "display_data"
    },
    {
     "name": "stdout",
     "output_type": "stream",
     "text": [
      "12 KWS: {'joke', 'evaluate', 'million', 'friggin joke', 'dung', 'trudeau', 'useless piece', 'gave', 'useless', 'terrorist', 'friggin', 'piece'}\n",
      "*********************************************\n",
      "90\n",
      "TABO words:  idiots\n",
      "24    What scam are they running now? Watch idiots jump on wagon and toot Walkers horn. I guess PFD is the guarantee for this lie.\n"
     ]
    },
    {
     "data": {
      "text/html": [
       "What <span style='color:red;' >[scam]</span> are they <span style='color:red;' >[running]</span> now? <span style='color:red;' >[watch]</span> <span style='color:red;' >[idiots]</span> <span style='color:red;' >[jump]</span> on <span style='color:red;' >[wagon]</span> and <span style='color:red;' >[toot]</span> <span style='color:red;' >[walkers horn]</span>. I <span style='color:red;' >[guess]</span> <span style='color:red;' >[pfd]</span> is the <span style='color:red;' >[guarantee]</span> for this <span style='color:red;' >[lie]</span>."
      ],
      "text/plain": [
       "<IPython.core.display.HTML object>"
      ]
     },
     "metadata": {},
     "output_type": "display_data"
    },
    {
     "name": "stdout",
     "output_type": "stream",
     "text": [
      "18 KWS: {'walkers', 'watch', 'wagon', 'toot walkers', 'guess', 'jump', 'horn', 'pfd', 'toot', 'guarantee', 'guess pfd', 'idiots', 'idiots jump', 'watch idiots', 'lie', 'running', 'scam', 'walkers horn'}\n",
      "*********************************************\n",
      "91\n",
      "TABO words:  stuff\n",
      "174    You must not have read the part where I said \"on a lighter note \" .To a person who just turned on a TV it would look like something out of a crazy comedy movie .  No real hockey fan would want to attend a UAA hockey game and watch that goofball stuff.   You don't see Aces crowds , NHL crowds , or even other college hockey teams fans acting like they all just escaped a trailer park. There's a reason so few attend UAA hockey games----and showing those fans acting loonie tunes is one of the reasons. I was offering advice to help with UAA's pathetic attendance problems---saying don't show stuff like that on TV if you want real hockey fans to attend. I couldn't care in the least if you consider my comments credible or not. The bottom line is :  if UAA wants to draw more fans to games---they'll stop showing crowd shots of craziness .  Fans want to watch the game----not see tons of kids bouncing off the walls .\n"
     ]
    },
    {
     "data": {
      "text/html": [
       "You must not have read the part where I said \"on a <span style='color:red;' >[lighter note]</span> \" .To a person who just turned on a TV it would look like something out of a crazy <span style='color:red;' >[comedy movie]</span> .  No real <span style='color:red;' >[hockey]</span> fan would want to <span style='color:red;' >[attend]</span> a <span style='color:red;' >[uaa hockey]</span> game and watch that <span style='color:red;' >[goofball stuff]</span>.   You don't see <span style='color:red;' >[aces crowds]</span> , <span style='color:red;' >[nhl crowds]</span> , or even other college <span style='color:red;' >[hockey]</span> teams <span style='color:red;' >[fans]</span> acting like they all just escaped a trailer park. There's a reason so few <span style='color:red;' >[attend]</span> <span style='color:red;' >[uaa hockey]</span> games----and showing those <span style='color:red;' >[fans]</span> acting loonie tunes is one of the reasons. I was offering advice to help with UAA's pathetic attendance problems---saying don't show stuff like that on TV if you want real <span style='color:red;' >[hockey]</span> <span style='color:red;' >[fans]</span> to <span style='color:red;' >[attend]</span>. I couldn't care in the least if you consider my comments credible or not. The bottom line is :  if <span style='color:red;' >[uaa]</span> wants to draw more <span style='color:red;' >[fans]</span> to games---they'll stop showing crowd shots of craziness .  <span style='color:red;' >[fans]</span> want to watch the game----not see tons of kids bouncing off the walls ."
      ],
      "text/plain": [
       "<IPython.core.display.HTML object>"
      ]
     },
     "metadata": {},
     "output_type": "display_data"
    },
    {
     "name": "stdout",
     "output_type": "stream",
     "text": [
      "20 KWS: {'hockey', 'fans acting', 'attend uaa', 'aces crowds', 'hockey fan', 'note', 'fans', 'movie', 'nhl', 'uaa', 'lighter note', 'goofball stuff', 'college hockey', 'nhl crowds', 'hockey game', 'crazy comedy', 'real hockey', 'comedy movie', 'attend', 'uaa hockey'}\n",
      "*********************************************\n",
      "92\n",
      "TABO words:  stupid\n",
      "19    There's a difference between saying the choice is a mistake and inferring a user is stupid. Nothing personal \"friend\".\n"
     ]
    },
    {
     "data": {
      "text/html": [
       "There's a <span style='color:red;' >[difference]</span> between saying the <span style='color:red;' >[choice]</span> is a <span style='color:red;' >[mistake]</span> and <span style='color:red;' >[inferring]</span> a <span style='color:red;' >[user]</span> is <span style='color:red;' >[stupid]</span>. Nothing <span style='color:red;' >[personal]</span> \"<span style='color:red;' >[friend]</span>\"."
      ],
      "text/plain": [
       "<IPython.core.display.HTML object>"
      ]
     },
     "metadata": {},
     "output_type": "display_data"
    },
    {
     "name": "stdout",
     "output_type": "stream",
     "text": [
      "8 KWS: {'friend', 'inferring', 'user', 'choice', 'difference', 'stupid', 'mistake', 'personal'}\n",
      "*********************************************\n",
      "93\n",
      "TABO words: \n",
      "56    Clinton lost because she's an unlikable incompetent hack who has  a long history of corruption, bribe-taking, lawbreaking, graft, greed, and who purposely handled classified documents on an illegal and vulnerable private server in her bathroom.  She didn't lose because of the Russians. She lost because of 30 years of lying, cheating, corrupt behavior and arrogant stupidity.\n"
     ]
    },
    {
     "data": {
      "text/html": [
       "<span style='color:red;' >[clinton lost]</span> because she's an <span style='color:red;' >[unlikable incompetent]</span> <span style='color:red;' >[hack]</span> who has  a <span style='color:red;' >[long history]</span> of <span style='color:red;' >[corruption]</span>, <span style='color:red;' >[bribe-taking]</span>, <span style='color:red;' >[lawbreaking]</span>, <span style='color:red;' >[graft]</span>, <span style='color:red;' >[greed]</span>, and who <span style='color:red;' >[purposely handled]</span> <span style='color:red;' >[classified documents]</span> on an illegal and <span style='color:red;' >[vulnerable private]</span> server in her <span style='color:red;' >[bathroom]</span>.  She didn't lose because of the Russians. She <span style='color:red;' >[lost]</span> because of 30 years of lying, cheating, corrupt behavior and arrogant stupidity."
      ],
      "text/plain": [
       "<IPython.core.display.HTML object>"
      ]
     },
     "metadata": {},
     "output_type": "display_data"
    },
    {
     "name": "stdout",
     "output_type": "stream",
     "text": [
      "20 KWS: {'clinton', 'clinton lost', 'unlikable incompetent', 'bathroom', 'graft', 'incompetent', 'corruption', 'private server', 'lawbreaking', 'hack', 'handled classified', 'classified documents', 'lost', 'unlikable', 'purposely handled', 'bribe-taking', 'vulnerable private', 'incompetent hack', 'greed', 'long history'}\n",
      "*********************************************\n",
      "94\n",
      "TABO words:  black racist crap sh*t\n",
      "135    Why is this black racist crap still on the G&M website?\n",
      "\n",
      "I stopped talking to black people long ago because I was afraid for my life!!!!!\n",
      "Since 80%-90% of all crime is by black people it kinda makes sense doesn't it.\n",
      "Oh wait thats profiling or is it driving while black? \n",
      "I don't know you LEFTIST MARXISTS and  BLM nutjobs change the names so fast no one can keep up.\n",
      "So what do we do when the facts speak like this?\n",
      "Wash it all away by letting identity Marxists spew their racist hatred of white people?\n",
      "I think not.\n",
      "So because you commit most of the crimes in the world why the why the F would we give you the time of day?\n",
      "Clean up your sh*t first. \n",
      "You people are the problem...\n",
      "Own it\n"
     ]
    },
    {
     "data": {
      "text/html": [
       "Why is this <span style='color:red;' >[black]</span> <span style='color:red;' >[racist crap]</span> still on the G&M <span style='color:red;' >[website]</span>?  I <span style='color:red;' >[stopped talking]</span> to <span style='color:red;' >[black]</span> <span style='color:red;' >[people]</span> <span style='color:red;' >[long ago]</span> because I was afraid for my <span style='color:red;' >[life]</span>!!!!! Since 80%-90% of all crime is by <span style='color:red;' >[black]</span> <span style='color:red;' >[people]</span> it <span style='color:red;' >[kinda makes]</span> sense doesn't it. Oh wait thats profiling or is it driving while <span style='color:red;' >[black]</span>?  I don't know you <span style='color:red;' >[leftist marxists]</span> and  <span style='color:red;' >[blm nutjobs]</span> change the names so fast no one can keep up. So what do we do when the facts speak like this? Wash it all away by letting identity <span style='color:red;' >[marxists]</span> spew their <span style='color:red;' >[racist]</span> hatred of white <span style='color:red;' >[people]</span>? I think not. So because you commit most of the crimes in the world why the why the F would we give you the time of day? Clean up your sh*t first.  You <span style='color:red;' >[people]</span> are the problem... Own it"
      ],
      "text/plain": [
       "<IPython.core.display.HTML object>"
      ]
     },
     "metadata": {},
     "output_type": "display_data"
    },
    {
     "name": "stdout",
     "output_type": "stream",
     "text": [
      "20 KWS: {'kinda makes', 'marxists', 'stopped talking', 'racist crap', 'life', 'blm nutjobs', 'blm', 'leftist marxists', 'black', 'racist', 'leftist', 'marxists spew', 'crap', 'people long', 'identity marxists', 'people', 'black racist', 'long ago', 'black people', 'website'}\n",
      "*********************************************\n",
      "95\n",
      "TABO words:  hateful windbag presidency\n",
      "21    Because donald trump is a hateful windbag with old family money; Obama earned his way into the presidency within the law.\n"
     ]
    },
    {
     "data": {
      "text/html": [
       "Because <span style='color:red;' >[donald trump]</span> is a <span style='color:red;' >[hateful windbag]</span> with old <span style='color:red;' >[family money]</span>; <span style='color:red;' >[obama earned]</span> his way into the <span style='color:red;' >[presidency]</span> within the <span style='color:red;' >[law]</span>."
      ],
      "text/plain": [
       "<IPython.core.display.HTML object>"
      ]
     },
     "metadata": {},
     "output_type": "display_data"
    },
    {
     "name": "stdout",
     "output_type": "stream",
     "text": [
      "14 KWS: {'donald', 'family', 'family money', 'presidency', 'money', 'donald trump', 'law', 'windbag', 'earned', 'trump', 'hateful windbag', 'obama earned', 'hateful', 'obama'}\n",
      "*********************************************\n",
      "96\n",
      "TABO words:  troglodytes\n",
      "182    I love how fellow troglodytes vote in agreement with you despite your falsehoods.   Let me see our middle class taxes were lowered and this also benefits the wealthy (but yes they did rise for those making over $200k - boo hoo).  Our corporate taxes are already in the 10-15% range and have been for a long time.   So where are these tax increased under Wynne or Trudeau, name them???   \n",
      "\n",
      "You believe Trump can get rid of half (just a guess) of federal revenue and it will benefit society?  You think that is how it works?  Do tell.   How does the fact that within the next 20 years we will ALL lose another 10-20% of jobs due to technology?  Tell me how that factors in for you?  What about the fact that globally we are adding about 80 million more people a year but require less labour?  How does that factor in, let me tell you?  Should we always just let the .01% reap the benefits of technology none of them have invented?   Simple minded answers are for the far right among us.\n"
     ]
    },
    {
     "data": {
      "text/html": [
       "I <span style='color:red;' >[love]</span> how <span style='color:red;' >[fellow troglodytes]</span> <span style='color:red;' >[vote]</span> in <span style='color:red;' >[agreement]</span> with you despite your <span style='color:red;' >[falsehoods]</span>.   Let me see our middle <span style='color:red;' >[class taxes]</span> were lowered and this also <span style='color:red;' >[benefits]</span> the wealthy (but yes they did rise for those making over $200k - <span style='color:red;' >[boo hoo]</span>).  Our corporate <span style='color:red;' >[taxes]</span> are already in the 10-15% range and have been for a <span style='color:red;' >[long time]</span>.   So where are these tax increased under <span style='color:red;' >[wynne]</span> or <span style='color:red;' >[trudeau]</span>, name them???     You believe <span style='color:red;' >[trump]</span> can get rid of half (just a guess) of federal revenue and it will benefit society?  You think that is how it works?  Do tell.   How does the <span style='color:red;' >[fact]</span> that within the next 20 years we will ALL lose another 10-20% of jobs due to <span style='color:red;' >[technology]</span>?  Tell me how that factors in for you?  What about the <span style='color:red;' >[fact]</span> that globally we are adding about 80 million more people a year but require less labour?  How does that factor in, let me tell you?  Should we always just let the .01% reap the <span style='color:red;' >[benefits]</span> of <span style='color:red;' >[technology]</span> none of them have invented?   Simple minded answers are for the far right among us."
      ],
      "text/plain": [
       "<IPython.core.display.HTML object>"
      ]
     },
     "metadata": {},
     "output_type": "display_data"
    },
    {
     "name": "stdout",
     "output_type": "stream",
     "text": [
      "20 KWS: {'troglodytes vote', 'fellow troglodytes', 'boo hoo', 'benefits', 'class taxes', 'long time', 'love', 'fellow', 'troglodytes', 'trudeau', 'trump', 'technology', 'corporate taxes', 'vote', 'fact', 'wynne', 'middle class', 'falsehoods', 'taxes', 'agreement'}\n",
      "*********************************************\n",
      "97\n",
      "TABO words:  Kuffirphobia religious nutjobs Islam crazy nonsense\n",
      "49    it's a made-up word to hide Islam's paranoid hatred of non-believers, it really is Kuffirphobia, fear of infidels that is driven into the very heart of muslims. We must not allow any religious nutjobs Islam or otherwise to impose their crazy nonsense on others via pain of the law.\n"
     ]
    },
    {
     "data": {
      "text/html": [
       "it's a <span style='color:red;' >[made-up word]</span> to <span style='color:red;' >[hide]</span> Islam's <span style='color:red;' >[paranoid hatred]</span> of <span style='color:red;' >[non-believers]</span>, it really is <span style='color:red;' >[kuffirphobia]</span>, <span style='color:red;' >[fear]</span> of <span style='color:red;' >[infidels]</span> that is <span style='color:red;' >[driven]</span> into the very <span style='color:red;' >[heart]</span> of <span style='color:red;' >[muslims]</span>. We must not allow any religious <span style='color:red;' >[nutjobs islam]</span> or otherwise to impose their <span style='color:red;' >[crazy nonsense]</span> on others via pain of the law."
      ],
      "text/plain": [
       "<IPython.core.display.HTML object>"
      ]
     },
     "metadata": {},
     "output_type": "display_data"
    },
    {
     "name": "stdout",
     "output_type": "stream",
     "text": [
      "20 KWS: {'kuffirphobia', 'islam', 'made-up', 'paranoid', 'muslims', 'nutjobs islam', 'heart', 'crazy nonsense', 'islam paranoid', 'made-up word', 'religious nutjobs', 'hide', 'fear', 'driven', 'hatred', 'paranoid hatred', 'word', 'non-believers', 'infidels', 'hide islam'}\n",
      "*********************************************\n",
      "98\n",
      "TABO words:  bitch\n",
      "6    Reality is a bitch, isn't it?\n"
     ]
    },
    {
     "data": {
      "text/html": [
       "<span style='color:red;' >[reality]</span> is a <span style='color:red;' >[bitch]</span>, isn't it?"
      ],
      "text/plain": [
       "<IPython.core.display.HTML object>"
      ]
     },
     "metadata": {},
     "output_type": "display_data"
    },
    {
     "name": "stdout",
     "output_type": "stream",
     "text": [
      "2 KWS: {'reality', 'bitch'}\n",
      "*********************************************\n",
      "99\n",
      "TABO words:  Traitors\n",
      "26    Trump's Traitors™ need to be purged from any and all government positions NOW.\n",
      "The GOP congress needs to find their spines and stop defending these criminals.\n"
     ]
    },
    {
     "data": {
      "text/html": [
       "Trump's Traitors™ need to be <span style='color:red;' >[purged]</span> from any and all <span style='color:red;' >[government positions]</span> NOW. The <span style='color:red;' >[gop congress]</span> needs to <span style='color:red;' >[find]</span> their <span style='color:red;' >[spines]</span> and <span style='color:red;' >[stop defending]</span> these <span style='color:red;' >[criminals]</span>."
      ],
      "text/plain": [
       "<IPython.core.display.HTML object>"
      ]
     },
     "metadata": {},
     "output_type": "display_data"
    },
    {
     "name": "stdout",
     "output_type": "stream",
     "text": [
      "16 KWS: {'government', 'defending', 'traitors', 'gop congress', 'criminals', 'trump traitors', 'trump', 'purged', 'positions', 'find', 'spines', 'stop', 'stop defending', 'congress', 'government positions', 'gop'}\n",
      "*********************************************\n",
      "100\n",
      "TABO words:  troll\n",
      "2    Trump troll!\n"
     ]
    },
    {
     "data": {
      "text/html": [
       "<span style='color:red;' >[trump troll]</span>!"
      ],
      "text/plain": [
       "<IPython.core.display.HTML object>"
      ]
     },
     "metadata": {},
     "output_type": "display_data"
    },
    {
     "name": "stdout",
     "output_type": "stream",
     "text": [
      "3 KWS: {'trump troll', 'troll', 'trump'}\n",
      "*********************************************\n",
      "101\n",
      "TABO words:  Fuck\n",
      "9    They are being persecuted? GOOD! Fuck those fucking Cunts.\n"
     ]
    },
    {
     "data": {
      "text/html": [
       "They are being <span style='color:red;' >[persecuted]</span>? <span style='color:red;' >[good]</span>! <span style='color:red;' >[fuck]</span> those <span style='color:red;' >[fucking]</span> <span style='color:red;' >[cunts]</span>."
      ],
      "text/plain": [
       "<IPython.core.display.HTML object>"
      ]
     },
     "metadata": {},
     "output_type": "display_data"
    },
    {
     "name": "stdout",
     "output_type": "stream",
     "text": [
      "6 KWS: {'fuck', 'persecuted', 'cunts', 'fucking', 'good', 'fucking cunts'}\n",
      "*********************************************\n",
      "102\n",
      "TABO words:  fascist supremacist traitor\n",
      "16    Trump is definitely a worthless stain on America.\n",
      "He's definitely a sick, fascist, white supremacist traitor.\n"
     ]
    },
    {
     "data": {
      "text/html": [
       "<span style='color:red;' >[trump]</span> is definitely a <span style='color:red;' >[worthless stain]</span> on <span style='color:red;' >[america]</span>. He's definitely a <span style='color:red;' >[sick]</span>, <span style='color:red;' >[fascist]</span>, <span style='color:red;' >[white supremacist]</span> <span style='color:red;' >[traitor]</span>."
      ],
      "text/plain": [
       "<IPython.core.display.HTML object>"
      ]
     },
     "metadata": {},
     "output_type": "display_data"
    },
    {
     "name": "stdout",
     "output_type": "stream",
     "text": [
      "12 KWS: {'supremacist', 'worthless stain', 'sick', 'fascist', 'worthless', 'traitor', 'trump', 'white supremacist', 'america', 'white', 'supremacist traitor', 'stain'}\n",
      "*********************************************\n",
      "103\n",
      "TABO words:  bigots idiots morons\n",
      "48    It's really bizarre the way the Leftists always seem to show up with paraphernalia condemning people who don't share their dogma, for being 'racists', 'bigots', 'idiots', 'morons', 'intolerant', 'close-minded', 'cruel', 'murderers',  or the catch-all: 'haters'....\n",
      "\n",
      "...is that an 800-pound Oxymoron I see sitting over there in the corner?\n"
     ]
    },
    {
     "data": {
      "text/html": [
       "It's really <span style='color:red;' >[bizarre]</span> the way the <span style='color:red;' >[leftists]</span> always seem to <span style='color:red;' >[show]</span> up with <span style='color:red;' >[paraphernalia condemning]</span> <span style='color:red;' >[people]</span> who don't <span style='color:red;' >[share]</span> their <span style='color:red;' >[dogma]</span>, for being <span style='color:red;' >[racists]</span>', <span style='color:red;' >[bigots]</span>', <span style='color:red;' >[idiots]</span>', <span style='color:red;' >[morons]</span>', <span style='color:red;' >[intolerant]</span>', <span style='color:red;' >[close-minded]</span>', <span style='color:red;' >[cruel]</span>', <span style='color:red;' >[murderers]</span>',  or the <span style='color:red;' >[catch-all]</span>: <span style='color:red;' >[haters]</span>'....  ...is that an 800-pound Oxymoron I see sitting over there in the corner?"
      ],
      "text/plain": [
       "<IPython.core.display.HTML object>"
      ]
     },
     "metadata": {},
     "output_type": "display_data"
    },
    {
     "name": "stdout",
     "output_type": "stream",
     "text": [
      "20 KWS: {'condemning people', 'murderers', 'bigots', 'paraphernalia', 'morons', 'condemning', 'intolerant', 'racists', 'idiots', 'close-minded', 'cruel', 'leftists', 'dogma', 'catch-all', 'share', 'people', 'bizarre', 'paraphernalia condemning', 'show', 'haters'}\n",
      "*********************************************\n",
      "104\n",
      "TABO words:  Trash\n",
      "13    I'm surprised to find such a tone-deaf article in the Denver Post. Trash.\n"
     ]
    },
    {
     "data": {
      "text/html": [
       "I'm <span style='color:red;' >[surprised]</span> to <span style='color:red;' >[find]</span> such a <span style='color:red;' >[tone-deaf article]</span> in the <span style='color:red;' >[denver post]</span>. <span style='color:red;' >[trash]</span>."
      ],
      "text/plain": [
       "<IPython.core.display.HTML object>"
      ]
     },
     "metadata": {},
     "output_type": "display_data"
    },
    {
     "name": "stdout",
     "output_type": "stream",
     "text": [
      "9 KWS: {'denver', 'tone-deaf article', 'denver post', 'post', 'find', 'tone-deaf', 'surprised', 'article', 'trash'}\n",
      "*********************************************\n",
      "105\n",
      "TABO words: \n",
      "28    ahhh, the same comey you thought was soooooooo great a while back. that comey, right? total hypocrite liar you are. fact. who pays you to post lies anyway.\n"
     ]
    },
    {
     "data": {
      "text/html": [
       "<span style='color:red;' >[ahhh]</span>, the same <span style='color:red;' >[comey]</span> you <span style='color:red;' >[thought]</span> was <span style='color:red;' >[soooooooo great]</span> a while back. that <span style='color:red;' >[comey]</span>, right? <span style='color:red;' >[total hypocrite]</span> <span style='color:red;' >[liar]</span> you <span style='color:red;' >[are. fact]</span>. who <span style='color:red;' >[pays]</span> you to <span style='color:red;' >[post lies]</span> anyway."
      ],
      "text/plain": [
       "<IPython.core.display.HTML object>"
      ]
     },
     "metadata": {},
     "output_type": "display_data"
    },
    {
     "name": "stdout",
     "output_type": "stream",
     "text": [
      "19 KWS: {'are.', 'lies', 'total hypocrite', 'soooooooo', 'hypocrite', 'ahhh', 'liar', 'are. fact', 'great', 'post', 'fact', 'total', 'post lies', 'hypocrite liar', 'comey', 'pays', 'soooooooo great', 'thought', 'back.'}\n",
      "*********************************************\n",
      "106\n",
      "TABO words:  Ignorant stupid\n",
      "19    Ignorant, selfish, racist, misogynistic snowflakes were THE major part of Trump gaining enough electoral votes.  You can't fix stupid.\n"
     ]
    },
    {
     "data": {
      "text/html": [
       "<span style='color:red;' >[ignorant]</span>, <span style='color:red;' >[selfish]</span>, <span style='color:red;' >[racist]</span>, <span style='color:red;' >[misogynistic snowflakes]</span> were THE <span style='color:red;' >[major part]</span> of <span style='color:red;' >[trump gaining]</span> enough <span style='color:red;' >[electoral votes]</span>.  You can't <span style='color:red;' >[fix stupid]</span>."
      ],
      "text/plain": [
       "<IPython.core.display.HTML object>"
      ]
     },
     "metadata": {},
     "output_type": "display_data"
    },
    {
     "name": "stdout",
     "output_type": "stream",
     "text": [
      "18 KWS: {'misogynistic snowflakes', 'fix', 'misogynistic', 'ignorant', 'votes', 'electoral', 'gaining', 'trump', 'selfish', 'snowflakes', 'trump gaining', 'electoral votes', 'part', 'major part', 'fix stupid', 'racist', 'major', 'stupid'}\n",
      "*********************************************\n",
      "107\n",
      "TABO words:  Silly Canadians\n",
      "47    Justin Trudeau is too busy with his pay for access Chinese friends and getting advice from and giving taxpayers money to the billionaire Islamic spiritual leader the Aga Khan than worry about the fact that Canadians can't afford to live in their own cities anymore. \n",
      "\n",
      "Silly Canadians.\n"
     ]
    },
    {
     "data": {
      "text/html": [
       "<span style='color:red;' >[justin trudeau]</span> is too <span style='color:red;' >[busy]</span> with his pay for <span style='color:red;' >[access chinese]</span> friends and getting advice from and <span style='color:red;' >[giving taxpayers]</span> money to the <span style='color:red;' >[billionaire islamic]</span> <span style='color:red;' >[spiritual leader]</span> the <span style='color:red;' >[aga khan]</span> than worry about the fact that <span style='color:red;' >[canadians]</span> can't afford to live in their own <span style='color:red;' >[cities anymore]</span>.   <span style='color:red;' >[silly canadians]</span>."
      ],
      "text/plain": [
       "<IPython.core.display.HTML object>"
      ]
     },
     "metadata": {},
     "output_type": "display_data"
    },
    {
     "name": "stdout",
     "output_type": "stream",
     "text": [
      "20 KWS: {'anymore', 'aga khan', 'aga', 'chinese', 'chinese friends', 'giving taxpayers', 'cities anymore', 'canadians', 'trudeau', 'spiritual leader', 'justin trudeau', 'islamic spiritual', 'justin', 'access chinese', 'taxpayers money', 'busy', 'islamic', 'billionaire islamic', 'khan', 'silly canadians'}\n",
      "*********************************************\n",
      "108\n",
      "TABO words:  idiots\n",
      "55    All you said is true. However, we as viewers aren't the ones responsible for programming. I'm not sure how shows, like  the shows you've listed, or \"Amish Mafia,\" \"Mermaids\" and the like, fared in focus groups, or who previewed these shows before airing, but clearly, the Cable network thinks we're all a bunch of idiots.\n"
     ]
    },
    {
     "data": {
      "text/html": [
       "All you said is <span style='color:red;' >[true]</span>. However, we as <span style='color:red;' >[viewers]</span> aren't the ones <span style='color:red;' >[responsible]</span> for <span style='color:red;' >[programming]</span>. I'm not sure how <span style='color:red;' >[shows]</span>, like  the <span style='color:red;' >[shows]</span> you've <span style='color:red;' >[listed]</span>, or \"<span style='color:red;' >[amish mafia]</span>,\" \"<span style='color:red;' >[mermaids]</span>\" and the like, <span style='color:red;' >[fared]</span> in <span style='color:red;' >[focus groups]</span>, or who <span style='color:red;' >[previewed]</span> these <span style='color:red;' >[shows]</span> before <span style='color:red;' >[airing]</span>, but clearly, the <span style='color:red;' >[cable network]</span> thinks we're all a bunch of <span style='color:red;' >[idiots]</span>."
      ],
      "text/plain": [
       "<IPython.core.display.HTML object>"
      ]
     },
     "metadata": {},
     "output_type": "display_data"
    },
    {
     "name": "stdout",
     "output_type": "stream",
     "text": [
      "20 KWS: {'cable', 'true', 'viewers', 'listed', 'focus', 'responsible', 'amish mafia', 'amish', 'fared', 'groups', 'cable network', 'idiots', 'network', 'programming', 'focus groups', 'shows', 'airing', 'previewed', 'mermaids', 'mafia'}\n",
      "*********************************************\n",
      "109\n",
      "TABO words:  crazy\n",
      "18    Because that's your name, which I know since you told me long ago. Take your crazy pill, Don.\n"
     ]
    },
    {
     "data": {
      "text/html": [
       "Because that's your name, which I know since you <span style='color:red;' >[told]</span> me <span style='color:red;' >[long ago]</span>. Take your <span style='color:red;' >[crazy pill]</span>, <span style='color:red;' >[don]</span>."
      ],
      "text/plain": [
       "<IPython.core.display.HTML object>"
      ]
     },
     "metadata": {},
     "output_type": "display_data"
    },
    {
     "name": "stdout",
     "output_type": "stream",
     "text": [
      "8 KWS: {'told', 'crazy pill', 'don', 'pill', 'long ago', 'ago', 'crazy', 'long'}\n",
      "*********************************************\n",
      "110\n",
      "TABO words:  loser\n",
      "46    Right on! The only reason he came out with these ludicrous statements, and attempted to deflect the hacking argument away from the Russians, was  his  ego. He was scared Sh....Less that his election would be over-turned and we know that Trump never loses. What a loser!!!\n"
     ]
    },
    {
     "data": {
      "text/html": [
       "Right on! The only <span style='color:red;' >[reason]</span> he came out with these <span style='color:red;' >[ludicrous statements]</span>, and <span style='color:red;' >[attempted]</span> to <span style='color:red;' >[deflect]</span> the <span style='color:red;' >[hacking argument]</span> away from the <span style='color:red;' >[russians]</span>, was  his  <span style='color:red;' >[ego]</span>. He was <span style='color:red;' >[scared]</span> Sh....Less that his <span style='color:red;' >[election]</span> would be <span style='color:red;' >[over-turned]</span> and we know that <span style='color:red;' >[trump]</span> never <span style='color:red;' >[loses]</span>. What a <span style='color:red;' >[loser]</span>!!!"
      ],
      "text/plain": [
       "<IPython.core.display.HTML object>"
      ]
     },
     "metadata": {},
     "output_type": "display_data"
    },
    {
     "name": "stdout",
     "output_type": "stream",
     "text": [
      "17 KWS: {'hacking', 'scared', 'loser', 'reason', 'loses', 'over-turned', 'russians', 'deflect', 'election', 'hacking argument', 'trump', 'argument', 'statements', 'ego', 'ludicrous', 'attempted', 'ludicrous statements'}\n",
      "*********************************************\n",
      "111\n",
      "TABO words:  Barefoot ignorant\n",
      "9    Barefoot, pregnant and ignorant.  The three  R's per Dunleavy.\n"
     ]
    },
    {
     "data": {
      "text/html": [
       "<span style='color:red;' >[barefoot]</span>, <span style='color:red;' >[pregnant]</span> and <span style='color:red;' >[ignorant]</span>.  The three  R's per <span style='color:red;' >[dunleavy]</span>."
      ],
      "text/plain": [
       "<IPython.core.display.HTML object>"
      ]
     },
     "metadata": {},
     "output_type": "display_data"
    },
    {
     "name": "stdout",
     "output_type": "stream",
     "text": [
      "4 KWS: {'barefoot', 'pregnant', 'ignorant', 'dunleavy'}\n",
      "*********************************************\n",
      "112\n",
      "TABO words:  ignorant\n",
      "62    It was ignorant.  You don't know me.  You don't know what I do or how often I buy cars.  I could be a fleet buyer.  You don't know--that's ignorance.\n",
      "\n",
      "And it was snark.  You made a snide remark that was derogatory or mocking about how often I purchase cars.  A snide remark is snark.\n",
      "\n",
      "Anything else you'd like to be taught today?\n"
     ]
    },
    {
     "data": {
      "text/html": [
       "It was <span style='color:red;' >[ignorant]</span>.  You don't know me.  You don't know what I do or how often I <span style='color:red;' >[buy]</span> <span style='color:red;' >[cars]</span>.  I could be a <span style='color:red;' >[fleet buyer]</span>.  You don't know--that's <span style='color:red;' >[ignorance]</span>.  And it was <span style='color:red;' >[snark]</span>.  You <span style='color:red;' >[made]</span> a <span style='color:red;' >[snide remark]</span> that was <span style='color:red;' >[derogatory]</span> or <span style='color:red;' >[mocking]</span> about how often I <span style='color:red;' >[purchase]</span> <span style='color:red;' >[cars]</span>.  A <span style='color:red;' >[snide remark]</span> is <span style='color:red;' >[snark]</span>.  Anything else you'd like to be <span style='color:red;' >[taught]</span> <span style='color:red;' >[today]</span>?"
      ],
      "text/plain": [
       "<IPython.core.display.HTML object>"
      ]
     },
     "metadata": {},
     "output_type": "display_data"
    },
    {
     "name": "stdout",
     "output_type": "stream",
     "text": [
      "20 KWS: {'ignorance', 'cars', 'purchase', 'buy cars', 'fleet', 'derogatory', 'buy', 'today', 'ignorant', 'taught today', 'snide remark', 'fleet buyer', 'buyer', 'taught', 'snide', 'mocking', 'purchase cars', 'snark', 'made', 'remark'}\n",
      "*********************************************\n",
      "113\n",
      "TABO words:  Thieves\n",
      "1    Thieves!\n"
     ]
    },
    {
     "data": {
      "text/html": [
       "<span style='color:red;' >[thieves]</span>!"
      ],
      "text/plain": [
       "<IPython.core.display.HTML object>"
      ]
     },
     "metadata": {},
     "output_type": "display_data"
    },
    {
     "name": "stdout",
     "output_type": "stream",
     "text": [
      "1 KWS: {'thieves'}\n",
      "*********************************************\n",
      "114\n",
      "TABO words:  stupid\n",
      "78    Trump is too stupid to understand that in provoking China, he is not dealing with a defenseless country like Iraq or Libya. Besides its significant economic power, China is also a nuclear power, and can put together an army ten times the size that Americans can if necessary. Talking big is one thing. Backing it up is another thing entirely. Hopefully the generals and diplomats will be able to straighten Trump out before he does any serious damage.\n"
     ]
    },
    {
     "data": {
      "text/html": [
       "<span style='color:red;' >[trump]</span> is too <span style='color:red;' >[stupid]</span> to <span style='color:red;' >[understand]</span> that in <span style='color:red;' >[provoking china]</span>, he is not <span style='color:red;' >[dealing]</span> with a <span style='color:red;' >[defenseless country]</span> like <span style='color:red;' >[iraq]</span> or <span style='color:red;' >[libya]</span>. Besides its significant <span style='color:red;' >[economic power]</span>, <span style='color:red;' >[china]</span> is also a <span style='color:red;' >[nuclear power]</span>, and can put together an <span style='color:red;' >[army ten]</span> times the size that <span style='color:red;' >[americans]</span> can if necessary. Talking big is one <span style='color:red;' >[thing]</span>. Backing it up is another <span style='color:red;' >[thing]</span> entirely. Hopefully the generals and diplomats will be able to straighten <span style='color:red;' >[trump]</span> out before he does any serious damage."
      ],
      "text/plain": [
       "<IPython.core.display.HTML object>"
      ]
     },
     "metadata": {},
     "output_type": "display_data"
    },
    {
     "name": "stdout",
     "output_type": "stream",
     "text": [
      "20 KWS: {'country', 'defenseless', 'army ten', 'thing', 'libya', 'economic power', 'trump', 'significant economic', 'iraq', 'understand', 'provoking', 'defenseless country', 'americans', 'nuclear power', 'power', 'china', 'provoking china', 'ten times', 'stupid', 'dealing'}\n",
      "*********************************************\n",
      "115\n",
      "TABO words:  stupid\n",
      "32    Yes, he is as stupid as he is portrayed.  I don't hope, I just wish he wasn't a lying, and in his own words, a ***** grabber.  But to each his own.\n"
     ]
    },
    {
     "data": {
      "text/html": [
       "Yes, he is as <span style='color:red;' >[stupid]</span> as he is <span style='color:red;' >[portrayed]</span>.  I don't <span style='color:red;' >[hope]</span>, I just wish he wasn't a <span style='color:red;' >[lying]</span>, and in his own <span style='color:red;' >[words]</span>, a ***** <span style='color:red;' >[grabber]</span>.  But to each his own."
      ],
      "text/plain": [
       "<IPython.core.display.HTML object>"
      ]
     },
     "metadata": {},
     "output_type": "display_data"
    },
    {
     "name": "stdout",
     "output_type": "stream",
     "text": [
      "6 KWS: {'grabber', 'portrayed', 'words', 'stupid', 'hope', 'lying'}\n",
      "*********************************************\n",
      "116\n",
      "TABO words:  inhuman rabid animal Islamist terrorists are cowards\n",
      "77    Hamas and Fatah teach their kids that there is no two-state solution, they perpetuate suffering and violence and reward inhuman cowards for stabbing pregnant women in grocery stores. To describe Bin Laden's cowardly attack on the US as \"brilliant\" only further reveals an opinion void of credibility, integrity, or rational thought - Bin Laden was a rabid animal and he was put down accordingly. Islamist terrorists are cowards by nature, a quality evidently shared by their sympathizers.\n"
     ]
    },
    {
     "data": {
      "text/html": [
       "<span style='color:red;' >[hamas]</span> and <span style='color:red;' >[fatah teach]</span> their <span style='color:red;' >[kids]</span> that there is no <span style='color:red;' >[two-state solution]</span>, they <span style='color:red;' >[perpetuate suffering]</span> and violence and <span style='color:red;' >[reward inhuman]</span> cowards for <span style='color:red;' >[stabbing pregnant]</span> women in <span style='color:red;' >[grocery stores]</span>. To <span style='color:red;' >[describe bin]</span> Laden's cowardly attack on the US as \"brilliant\" only further reveals an opinion void of credibility, integrity, or <span style='color:red;' >[rational thought]</span> - <span style='color:red;' >[bin laden]</span> was a rabid animal and he was put down accordingly. Islamist terrorists are cowards by nature, a quality evidently shared by their sympathizers."
      ],
      "text/plain": [
       "<IPython.core.display.HTML object>"
      ]
     },
     "metadata": {},
     "output_type": "display_data"
    },
    {
     "name": "stdout",
     "output_type": "stream",
     "text": [
      "20 KWS: {'solution', 'fatah', 'stores', 'two-state solution', 'bin laden', 'grocery stores', 'bin', 'fatah teach', 'inhuman cowards', 'hamas', 'reward inhuman', 'laden', 'teach', 'stabbing pregnant', 'pregnant women', 'laden cowardly', 'perpetuate suffering', 'kids', 'describe bin', 'rational thought'}\n",
      "*********************************************\n",
      "117\n",
      "TABO words:  idiot dufus stupid dumpy\n",
      "18    what describes you - idiot, dufus, stupid, dumpy, etc.  not name calling just describing your behavior and thinking\n"
     ]
    },
    {
     "data": {
      "text/html": [
       "what <span style='color:red;' >[describes]</span> you - <span style='color:red;' >[idiot]</span>, <span style='color:red;' >[dufus]</span>, <span style='color:red;' >[stupid]</span>, <span style='color:red;' >[dumpy]</span>, etc.  not name <span style='color:red;' >[calling]</span> just <span style='color:red;' >[describing]</span> your <span style='color:red;' >[behavior]</span> and <span style='color:red;' >[thinking]</span>"
      ],
      "text/plain": [
       "<IPython.core.display.HTML object>"
      ]
     },
     "metadata": {},
     "output_type": "display_data"
    },
    {
     "name": "stdout",
     "output_type": "stream",
     "text": [
      "9 KWS: {'idiot', 'thinking', 'describes', 'describing', 'calling', 'dumpy', 'stupid', 'dufus', 'behavior'}\n",
      "*********************************************\n",
      "118\n",
      "TABO words:  UR pathetic\n",
      "2    UR pathetic.\n"
     ]
    },
    {
     "data": {
      "text/html": [
       "UR <span style='color:red;' >[pathetic]</span>."
      ],
      "text/plain": [
       "<IPython.core.display.HTML object>"
      ]
     },
     "metadata": {},
     "output_type": "display_data"
    },
    {
     "name": "stdout",
     "output_type": "stream",
     "text": [
      "1 KWS: {'pathetic'}\n",
      "*********************************************\n",
      "119\n",
      "TABO words:  shite\n",
      "24    What Walker has done took balls, and I'm not a \"state employee\", nor an \"ADN columnist\", so basically your statement is full of shite....\n"
     ]
    },
    {
     "data": {
      "text/html": [
       "What <span style='color:red;' >[walker]</span> has done took <span style='color:red;' >[balls]</span>, and I'm not a \"<span style='color:red;' >[state employee]</span>\", nor an \"<span style='color:red;' >[adn columnist]</span>\", so <span style='color:red;' >[basically]</span> your <span style='color:red;' >[statement]</span> is <span style='color:red;' >[full]</span> of <span style='color:red;' >[shite]</span>...."
      ],
      "text/plain": [
       "<IPython.core.display.HTML object>"
      ]
     },
     "metadata": {},
     "output_type": "display_data"
    },
    {
     "name": "stdout",
     "output_type": "stream",
     "text": [
      "12 KWS: {'state employee', 'columnist', 'basically', 'adn columnist', 'shite', 'statement', 'balls', 'full', 'employee', 'adn', 'state', 'walker'}\n",
      "*********************************************\n",
      "120\n",
      "TABO words:  Bullet between the eyes\n",
      "4    Bullet between the eyes\n"
     ]
    },
    {
     "data": {
      "text/html": [
       "<span style='color:red;' >[bullet]</span> between the <span style='color:red;' >[eyes]</span>"
      ],
      "text/plain": [
       "<IPython.core.display.HTML object>"
      ]
     },
     "metadata": {},
     "output_type": "display_data"
    },
    {
     "name": "stdout",
     "output_type": "stream",
     "text": [
      "2 KWS: {'bullet', 'eyes'}\n",
      "*********************************************\n",
      "121\n",
      "TABO words:  stupid\n",
      "20    i wanted to know your reaction if he did that to your kid stupid DOOOn  SAAD Fuck you son bitch\n"
     ]
    },
    {
     "data": {
      "text/html": [
       "i <span style='color:red;' >[wanted]</span> to know your <span style='color:red;' >[reaction]</span> if he did that to your <span style='color:red;' >[kid stupid]</span> <span style='color:red;' >[dooon]</span>  <span style='color:red;' >[saad fuck]</span> you <span style='color:red;' >[son bitch]</span>"
      ],
      "text/plain": [
       "<IPython.core.display.HTML object>"
      ]
     },
     "metadata": {},
     "output_type": "display_data"
    },
    {
     "name": "stdout",
     "output_type": "stream",
     "text": [
      "14 KWS: {'son', 'fuck', 'kid stupid', 'bitch', 'kid', 'wanted', 'stupid dooon', 'saad', 'dooon', 'saad fuck', 'reaction', 'son bitch', 'stupid', 'dooon saad'}\n",
      "*********************************************\n",
      "122\n",
      "TABO words: \n",
      "50    O'reilly, like trump and roger ailes, is an over-sexed lunatic.  They all, apparently, believe they can do anything they want because they possess power over others.  Pathetic!  Wonder why trump felt he is a good candidate to defend o'reilly?  Oh, yeah, he is a narcissistic child who never learned appropriateness.\n"
     ]
    },
    {
     "data": {
      "text/html": [
       "<span style='color:red;' >[o'reilly]</span>, like <span style='color:red;' >[trump]</span> and <span style='color:red;' >[roger ailes]</span>, is an <span style='color:red;' >[over-sexed lunatic]</span>.  They all, <span style='color:red;' >[apparently]</span>, believe they can do anything they want because they <span style='color:red;' >[possess power]</span> over others.  <span style='color:red;' >[pathetic]</span>!  Wonder why <span style='color:red;' >[trump]</span> <span style='color:red;' >[felt]</span> he is a <span style='color:red;' >[good candidate]</span> to defend <span style='color:red;' >[o'reilly]</span>?  Oh, <span style='color:red;' >[yeah]</span>, he is a narcissistic child who never <span style='color:red;' >[learned appropriateness]</span>."
      ],
      "text/plain": [
       "<IPython.core.display.HTML object>"
      ]
     },
     "metadata": {},
     "output_type": "display_data"
    },
    {
     "name": "stdout",
     "output_type": "stream",
     "text": [
      "20 KWS: {'over-sexed lunatic', 'possess', 'learned appropriateness', 'pathetic', 'trump felt', 'over-sexed', 'roger ailes', 'ailes', 'trump', 'lunatic', 'apparently', \"o'reilly\", 'possess power', 'yeah', \"defend o'reilly\", 'felt', 'power', 'good candidate', 'appropriateness', 'roger'}\n",
      "*********************************************\n",
      "123\n",
      "TABO words:  Most\n",
      "117    Apparently this nation isn't ready for a woman as president yet, even a highly qualified and intelligent woman with a lot of international diplomatic experience; but it's equally apparent this nation will accept an ignorant man with no governing, diplomatic or military experience, who fobs his business debts of on banks, partners and contractors, lies nonstop, tweets inanely at the wee hours, and has less attention span than a fruit fly.\n",
      "\n",
      "A college education, as you know, doesn't even guarantee literacy. Most of those voters probably had business degrees, which means, social and economic conservative mixed with social pretenses, bigotry toward working people, and a distrust or disrespect toward women. This election was an eye-opener for me.\n"
     ]
    },
    {
     "data": {
      "text/html": [
       "<span style='color:red;' >[apparently]</span> this <span style='color:red;' >[nation]</span> isn't ready for a <span style='color:red;' >[woman]</span> as president yet, even a <span style='color:red;' >[highly qualified]</span> and <span style='color:red;' >[intelligent woman]</span> with a lot of international <span style='color:red;' >[diplomatic experience]</span>; but it's <span style='color:red;' >[equally apparent]</span> this <span style='color:red;' >[nation]</span> will accept an <span style='color:red;' >[ignorant man]</span> with no <span style='color:red;' >[governing]</span>, <span style='color:red;' >[diplomatic]</span> or <span style='color:red;' >[military experience]</span>, who fobs his <span style='color:red;' >[business debts]</span> of on <span style='color:red;' >[banks]</span>, partners and contractors, <span style='color:red;' >[lies nonstop]</span>, <span style='color:red;' >[tweets inanely]</span> at the <span style='color:red;' >[wee hours]</span>, and has less <span style='color:red;' >[attention span]</span> than a <span style='color:red;' >[fruit fly]</span>.  A college education, as you know, doesn't even guarantee literacy. Most of those voters probably had business degrees, which means, social and economic conservative mixed with social pretenses, bigotry toward working people, and a distrust or disrespect toward women. This election was an eye-opener for me."
      ],
      "text/plain": [
       "<IPython.core.display.HTML object>"
      ]
     },
     "metadata": {},
     "output_type": "display_data"
    },
    {
     "name": "stdout",
     "output_type": "stream",
     "text": [
      "20 KWS: {'international diplomatic', 'diplomatic experience', 'banks', 'diplomatic', 'woman', 'ignorant man', 'experience', 'equally apparent', 'lies nonstop', 'tweets inanely', 'military experience', 'business debts', 'apparently', 'governing', 'attention span', 'highly qualified', 'intelligent woman', 'fruit fly', 'wee hours', 'nation'}\n",
      "*********************************************\n",
      "124\n",
      "TABO words:  He's disgusting\n",
      "2    He's disgusting.\n"
     ]
    },
    {
     "data": {
      "text/html": [
       "He's <span style='color:red;' >[disgusting]</span>."
      ],
      "text/plain": [
       "<IPython.core.display.HTML object>"
      ]
     },
     "metadata": {},
     "output_type": "display_data"
    },
    {
     "name": "stdout",
     "output_type": "stream",
     "text": [
      "1 KWS: {'disgusting'}\n",
      "*********************************************\n",
      "125\n",
      "TABO words: \n",
      "21    Am I just taking your troll bait or do you have evidence to support your claim that the reporter is vile?\n"
     ]
    },
    {
     "data": {
      "text/html": [
       "Am I just <span style='color:red;' >[taking]</span> your <span style='color:red;' >[troll bait]</span> or do you have <span style='color:red;' >[evidence]</span> to <span style='color:red;' >[support]</span> your <span style='color:red;' >[claim]</span> that the <span style='color:red;' >[reporter]</span> is <span style='color:red;' >[vile]</span>?"
      ],
      "text/plain": [
       "<IPython.core.display.HTML object>"
      ]
     },
     "metadata": {},
     "output_type": "display_data"
    },
    {
     "name": "stdout",
     "output_type": "stream",
     "text": [
      "9 KWS: {'evidence', 'bait', 'troll', 'vile', 'reporter', 'claim', 'support', 'troll bait', 'taking'}\n",
      "*********************************************\n",
      "126\n",
      "TABO words:  losers\n",
      "41    If you were being pimped out by your husband and beaten while he was sitting on his ass probably playing video games than who and what.. would you feel sorry for. It's time to not give these losers a break ok!!\n"
     ]
    },
    {
     "data": {
      "text/html": [
       "If you were being <span style='color:red;' >[pimped]</span> out by your <span style='color:red;' >[husband]</span> and <span style='color:red;' >[beaten]</span> while he was <span style='color:red;' >[sitting]</span> on his <span style='color:red;' >[ass]</span> probably <span style='color:red;' >[playing video]</span> <span style='color:red;' >[games]</span> than who and what.. would you <span style='color:red;' >[feel]</span> sorry for. It's <span style='color:red;' >[time]</span> to not <span style='color:red;' >[give]</span> these <span style='color:red;' >[losers]</span> a <span style='color:red;' >[break]</span> ok!!"
      ],
      "text/plain": [
       "<IPython.core.display.HTML object>"
      ]
     },
     "metadata": {},
     "output_type": "display_data"
    },
    {
     "name": "stdout",
     "output_type": "stream",
     "text": [
      "16 KWS: {'ass', 'break', 'video', 'beaten', 'what.', 'games', 'sitting', 'playing video', 'playing', 'feel', 'video games', 'losers', 'give', 'time', 'pimped', 'husband'}\n",
      "*********************************************\n",
      "127\n",
      "TABO words:  y.  Bigo jerk\n",
      "4    Go away.  Bigoted jerk!\n"
     ]
    },
    {
     "data": {
      "text/html": [
       "Go away.  <span style='color:red;' >[bigoted jerk]</span>!"
      ],
      "text/plain": [
       "<IPython.core.display.HTML object>"
      ]
     },
     "metadata": {},
     "output_type": "display_data"
    },
    {
     "name": "stdout",
     "output_type": "stream",
     "text": [
      "3 KWS: {'bigoted', 'bigoted jerk', 'jerk'}\n",
      "*********************************************\n",
      "128\n",
      "TABO words:  loser stupid\n",
      "33    What a loser.\n",
      "\n",
      "Someone has to start teaching these stupid kids that ascension to the lofty ranks of College Football Player does not absolve them of the responsibility to act like human beings.\n"
     ]
    },
    {
     "data": {
      "text/html": [
       "What a <span style='color:red;' >[loser]</span>.  Someone has to <span style='color:red;' >[start teaching]</span> these <span style='color:red;' >[stupid kids]</span> that <span style='color:red;' >[ascension]</span> to the <span style='color:red;' >[lofty ranks]</span> of <span style='color:red;' >[college football]</span> <span style='color:red;' >[player]</span> does not <span style='color:red;' >[absolve]</span> them of the <span style='color:red;' >[responsibility]</span> to <span style='color:red;' >[act]</span> like <span style='color:red;' >[human]</span> beings."
      ],
      "text/plain": [
       "<IPython.core.display.HTML object>"
      ]
     },
     "metadata": {},
     "output_type": "display_data"
    },
    {
     "name": "stdout",
     "output_type": "stream",
     "text": [
      "20 KWS: {'stupid kids', 'football player', 'start', 'lofty ranks', 'ascension', 'start teaching', 'loser', 'ranks', 'responsibility', 'act', 'player', 'human', 'teaching', 'kids', 'football', 'absolve', 'stupid', 'lofty', 'college football', 'college'}\n",
      "*********************************************\n",
      "129\n",
      "TABO words:  pathetic weak\n",
      "10    Your defence of the indefencible is sad, pathetic and weak.\n"
     ]
    },
    {
     "data": {
      "text/html": [
       "Your <span style='color:red;' >[defence]</span> of the <span style='color:red;' >[indefencible]</span> is <span style='color:red;' >[sad]</span>, <span style='color:red;' >[pathetic]</span> and <span style='color:red;' >[weak]</span>."
      ],
      "text/plain": [
       "<IPython.core.display.HTML object>"
      ]
     },
     "metadata": {},
     "output_type": "display_data"
    },
    {
     "name": "stdout",
     "output_type": "stream",
     "text": [
      "5 KWS: {'defence', 'sad', 'pathetic', 'weak', 'indefencible'}\n",
      "*********************************************\n",
      "130\n",
      "TABO words:  Hypocrite\n",
      "6    Pot calling the kettle black. Hypocrite.\n"
     ]
    },
    {
     "data": {
      "text/html": [
       "<span style='color:red;' >[pot calling]</span> the <span style='color:red;' >[kettle black]</span>. <span style='color:red;' >[hypocrite]</span>."
      ],
      "text/plain": [
       "<IPython.core.display.HTML object>"
      ]
     },
     "metadata": {},
     "output_type": "display_data"
    },
    {
     "name": "stdout",
     "output_type": "stream",
     "text": [
      "7 KWS: {'kettle', 'hypocrite', 'calling', 'pot calling', 'black', 'kettle black', 'pot'}\n",
      "*********************************************\n",
      "131\n",
      "TABO words:  Trump's\n",
      "28    \"This news source has been on Trump's side most of the way?\"  HA! HA! HA! HA! Where do these Bozos come from?  Sooo many idiots, sooo little time.\n"
     ]
    },
    {
     "data": {
      "text/html": [
       "\"This news <span style='color:red;' >[source]</span> has been on Trump's <span style='color:red;' >[side]</span> most of the way?\"  HA! HA! HA! HA! Where do these <span style='color:red;' >[bozos]</span> come from?  <span style='color:red;' >[sooo]</span> many <span style='color:red;' >[idiots]</span>, <span style='color:red;' >[sooo]</span> little <span style='color:red;' >[time]</span>."
      ],
      "text/plain": [
       "<IPython.core.display.HTML object>"
      ]
     },
     "metadata": {},
     "output_type": "display_data"
    },
    {
     "name": "stdout",
     "output_type": "stream",
     "text": [
      "8 KWS: {'sooo', 'trump', 'idiots', 'side', 'source', 'trump side', 'bozos', 'time'}\n",
      "*********************************************\n",
      "132\n",
      "TABO words:  idiot Weaver's\n",
      "35    You're an idiot.  Go to the court house and read Mr. Weaver's and his attorney's admissions. They admit that everything that I've said is true.  But, I have heard that the RG Kool-Aid is delicious.\n"
     ]
    },
    {
     "data": {
      "text/html": [
       "You're an <span style='color:red;' >[idiot]</span>.  Go to the <span style='color:red;' >[court house]</span> and <span style='color:red;' >[read]</span> Mr. Weaver's and his attorney's <span style='color:red;' >[admissions]</span>. They <span style='color:red;' >[admit]</span> that everything that I've said is <span style='color:red;' >[true]</span>.  But, I have <span style='color:red;' >[heard]</span> that the RG <span style='color:red;' >[kool-aid]</span> is <span style='color:red;' >[delicious]</span>."
      ],
      "text/plain": [
       "<IPython.core.display.HTML object>"
      ]
     },
     "metadata": {},
     "output_type": "display_data"
    },
    {
     "name": "stdout",
     "output_type": "stream",
     "text": [
      "14 KWS: {'court', 'idiot', 'true', 'admissions', 'attorney admissions', 'house', 'admit', 'read', 'court house', 'delicious', 'weaver', 'kool-aid', 'heard', 'attorney'}\n",
      "*********************************************\n",
      "133\n",
      "TABO words:  hypocrisy\n",
      "11    You don't inherit, hypocrisy, Farce.  Back to high school for you.\n"
     ]
    },
    {
     "data": {
      "text/html": [
       "You don't <span style='color:red;' >[inherit]</span>, <span style='color:red;' >[hypocrisy]</span>, <span style='color:red;' >[farce]</span>.  <span style='color:red;' >[back]</span> to <span style='color:red;' >[high school]</span> for you."
      ],
      "text/plain": [
       "<IPython.core.display.HTML object>"
      ]
     },
     "metadata": {},
     "output_type": "display_data"
    },
    {
     "name": "stdout",
     "output_type": "stream",
     "text": [
      "7 KWS: {'farce', 'school', 'high', 'high school', 'hypocrisy', 'back', 'inherit'}\n",
      "*********************************************\n",
      "134\n",
      "TABO words:  idiot\n",
      "60    Trying to determine what the Trump administration will do is impossible. A discussion with Trump is more like organizing an intervention with a psychotic.\n",
      "We stand our ground and let the chips fall. We'll be just fine.\n",
      "As the saying goes, Never argue with an idiot. They will only bring you down to their level and beat you with experience.\n"
     ]
    },
    {
     "data": {
      "text/html": [
       "Trying to <span style='color:red;' >[determine]</span> what the <span style='color:red;' >[trump administration]</span> will do is <span style='color:red;' >[impossible]</span>. A <span style='color:red;' >[discussion]</span> with <span style='color:red;' >[trump]</span> is more like <span style='color:red;' >[organizing]</span> an <span style='color:red;' >[intervention]</span> with a <span style='color:red;' >[psychotic]</span>. We <span style='color:red;' >[stand]</span> our <span style='color:red;' >[ground]</span> and let the <span style='color:red;' >[chips fall]</span>. We'll be just <span style='color:red;' >[fine]</span>. As the saying goes, Never <span style='color:red;' >[argue]</span> with an <span style='color:red;' >[idiot]</span>. They will only <span style='color:red;' >[bring]</span> you down to their <span style='color:red;' >[level]</span> and beat you with <span style='color:red;' >[experience]</span>."
      ],
      "text/plain": [
       "<IPython.core.display.HTML object>"
      ]
     },
     "metadata": {},
     "output_type": "display_data"
    },
    {
     "name": "stdout",
     "output_type": "stream",
     "text": [
      "20 KWS: {'discussion', 'stand', 'impossible', 'fall', 'idiot', 'level', 'chips fall', 'ground', 'organizing', 'intervention', 'chips', 'experience', 'trump', 'argue', 'administration', 'trump administration', 'fine', 'bring', 'determine', 'psychotic'}\n",
      "*********************************************\n",
      "135\n",
      "TABO words:  morons\n",
      "14    I know its exactly the same with the morons who conflate footballers and football.\n"
     ]
    },
    {
     "data": {
      "text/html": [
       "I know its exactly the same with the <span style='color:red;' >[morons]</span> who <span style='color:red;' >[conflate footballers]</span> and <span style='color:red;' >[football]</span>."
      ],
      "text/plain": [
       "<IPython.core.display.HTML object>"
      ]
     },
     "metadata": {},
     "output_type": "display_data"
    },
    {
     "name": "stdout",
     "output_type": "stream",
     "text": [
      "5 KWS: {'conflate', 'footballers', 'morons', 'football', 'conflate footballers'}\n",
      "*********************************************\n",
      "136\n",
      "TABO words:  idiots\n",
      "21    Republicans are the cause of the degraded condition of our roads, not bicycles.  We need to tax the clueless, irresponsible idiots.\n"
     ]
    },
    {
     "data": {
      "text/html": [
       "<span style='color:red;' >[republicans]</span> are the cause of the <span style='color:red;' >[degraded condition]</span> of our <span style='color:red;' >[roads]</span>, not <span style='color:red;' >[bicycles]</span>.  We need to <span style='color:red;' >[tax]</span> the <span style='color:red;' >[clueless]</span>, <span style='color:red;' >[irresponsible idiots]</span>."
      ],
      "text/plain": [
       "<IPython.core.display.HTML object>"
      ]
     },
     "metadata": {},
     "output_type": "display_data"
    },
    {
     "name": "stdout",
     "output_type": "stream",
     "text": [
      "11 KWS: {'degraded', 'irresponsible idiots', 'irresponsible', 'idiots', 'tax', 'bicycles', 'republicans', 'clueless', 'degraded condition', 'roads', 'condition'}\n",
      "*********************************************\n",
      "137\n",
      "TABO words: \n",
      "35    If you weren't an ignorant, vicious troll you would be aware that Kim is threatening to murder hundreds of millions of innocent people + moronic trolls like yourself.\n",
      "\n",
      "But you are what you are troll.\n"
     ]
    },
    {
     "data": {
      "text/html": [
       "If you weren't an <span style='color:red;' >[ignorant]</span>, <span style='color:red;' >[vicious troll]</span> you would be <span style='color:red;' >[aware]</span> that <span style='color:red;' >[kim]</span> is <span style='color:red;' >[threatening]</span> to <span style='color:red;' >[murder hundreds]</span> of <span style='color:red;' >[millions]</span> of <span style='color:red;' >[innocent people]</span> + <span style='color:red;' >[moronic trolls]</span> like yourself.  But you are what you are <span style='color:red;' >[troll]</span>."
      ],
      "text/plain": [
       "<IPython.core.display.HTML object>"
      ]
     },
     "metadata": {},
     "output_type": "display_data"
    },
    {
     "name": "stdout",
     "output_type": "stream",
     "text": [
      "17 KWS: {'troll', 'vicious', 'vicious troll', 'millions', 'ignorant', 'innocent', 'trolls', 'murder hundreds', 'moronic trolls', 'kim', 'innocent people', 'moronic', 'people', 'threatening', 'aware', 'murder', 'hundreds'}\n",
      "*********************************************\n",
      "138\n",
      "TABO words: \n",
      "69    What he did was very stupid but visitor bans are worthless. There's alot of people that go through there every day. It would be impossible to stop him if he were to go back. I wouldn't be surprised if he put on a fake mustache or otherwise changed his appearance and went back next week-end. If he doesn't do any other stupid things he'd probably get away with it.\n"
     ]
    },
    {
     "data": {
      "text/html": [
       "What he did was very <span style='color:red;' >[stupid]</span> but <span style='color:red;' >[visitor bans]</span> are <span style='color:red;' >[worthless]</span>. There's <span style='color:red;' >[alot]</span> of <span style='color:red;' >[people]</span> that go through there every <span style='color:red;' >[day]</span>. It would be <span style='color:red;' >[impossible]</span> to <span style='color:red;' >[stop]</span> him if he were to go <span style='color:red;' >[back]</span>. I wouldn't be <span style='color:red;' >[surprised]</span> if he <span style='color:red;' >[put]</span> on a <span style='color:red;' >[fake mustache]</span> or otherwise <span style='color:red;' >[changed]</span> his <span style='color:red;' >[appearance]</span> and went <span style='color:red;' >[back]</span> next <span style='color:red;' >[week-end]</span>. If he doesn't do any other <span style='color:red;' >[stupid]</span> things he'd probably get away with it."
      ],
      "text/plain": [
       "<IPython.core.display.HTML object>"
      ]
     },
     "metadata": {},
     "output_type": "display_data"
    },
    {
     "name": "stdout",
     "output_type": "stream",
     "text": [
      "20 KWS: {'bans', 'impossible', 'fake', 'worthless', 'stupid things', 'mustache', 'changed', 'put', 'appearance', 'fake mustache', 'visitor bans', 'stop', 'alot', 'day', 'people', 'stupid', 'back', 'surprised', 'week-end', 'visitor'}\n",
      "*********************************************\n",
      "139\n",
      "TABO words:  The Chinese are thieves\n",
      "10    Doufus is putting it mildly.\n",
      "The Chinese are thieves, actually.\n"
     ]
    },
    {
     "data": {
      "text/html": [
       "<span style='color:red;' >[doufus]</span> is <span style='color:red;' >[putting]</span> it <span style='color:red;' >[mildly]</span>. The <span style='color:red;' >[chinese]</span> are <span style='color:red;' >[thieves]</span>, actually."
      ],
      "text/plain": [
       "<IPython.core.display.HTML object>"
      ]
     },
     "metadata": {},
     "output_type": "display_data"
    },
    {
     "name": "stdout",
     "output_type": "stream",
     "text": [
      "5 KWS: {'chinese', 'doufus', 'mildly', 'thieves', 'putting'}\n",
      "*********************************************\n",
      "140\n",
      "TABO words:  either dumb stupid\n",
      "70    This is either dumb or stupid.\n",
      "\n",
      "The issue most folks have is not with the size of the PFD, but the fact that we are giving up any of our PFD while we throw money at wealthy oil companies in the form of tax deductions.\n",
      "\n",
      "If the Senate will pass the Wilson-Seaton oil tax bill, am sure the house will get behind the senate PFD bill. It is called compromise.\n"
     ]
    },
    {
     "data": {
      "text/html": [
       "This is either <span style='color:red;' >[dumb]</span> or <span style='color:red;' >[stupid]</span>.  The <span style='color:red;' >[issue]</span> most <span style='color:red;' >[folks]</span> have is not with the size of the <span style='color:red;' >[pfd]</span>, but the fact that we are giving up any of our <span style='color:red;' >[pfd]</span> while we <span style='color:red;' >[throw money]</span> at <span style='color:red;' >[wealthy oil]</span> companies in the form of <span style='color:red;' >[tax deductions]</span>.  If the <span style='color:red;' >[senate]</span> will pass the Wilson-Seaton <span style='color:red;' >[oil]</span> <span style='color:red;' >[tax bill]</span>, am sure the house will get behind the <span style='color:red;' >[senate pfd]</span> <span style='color:red;' >[bill]</span>. It is <span style='color:red;' >[called compromise]</span>."
      ],
      "text/plain": [
       "<IPython.core.display.HTML object>"
      ]
     },
     "metadata": {},
     "output_type": "display_data"
    },
    {
     "name": "stdout",
     "output_type": "stream",
     "text": [
      "20 KWS: {'wealthy oil', 'wilson-seaton oil', 'tax bill', 'senate pfd', 'issue', 'pfd', 'tax deductions', 'throw money', 'called compromise', 'deductions', 'folks', 'tax', 'bill', 'senate', 'oil', 'pfd bill', 'stupid', 'oil tax', 'oil companies', 'dumb'}\n",
      "*********************************************\n",
      "141\n",
      "TABO words:  Good luck with acquiring support in Canada for that hapless buffoon\n",
      "75    There is no bill. The 2% figure is a guideline. Numerous other countries are below Canada in their contributions and Canada spends a great deal of money on defense related activities that don't qualify for NATO, but do contribute to NATO. Coast Guard, for example. \n",
      "\n",
      "In other words, you're whining is misplaced. You've admitted you are an American and no doubt a Trump supporter. Good luck with acquiring support in Canada for that hapless buffoon.\n"
     ]
    },
    {
     "data": {
      "text/html": [
       "There is no <span style='color:red;' >[bill]</span>. The 2% <span style='color:red;' >[figure]</span> is a <span style='color:red;' >[guideline]</span>. <span style='color:red;' >[numerous]</span> other <span style='color:red;' >[countries]</span> are below <span style='color:red;' >[canada]</span> in their contributions and <span style='color:red;' >[canada]</span> spends a <span style='color:red;' >[great deal]</span> of money on <span style='color:red;' >[defense related]</span> activities that don't qualify for <span style='color:red;' >[nato]</span>, but do contribute to <span style='color:red;' >[nato]</span>. <span style='color:red;' >[coast guard]</span>, for example.   In other <span style='color:red;' >[words]</span>, you're whining is <span style='color:red;' >[misplaced]</span>. You've admitted you are an <span style='color:red;' >[american]</span> and no doubt a <span style='color:red;' >[trump supporter]</span>. Good luck with acquiring support in <span style='color:red;' >[canada]</span> for that hapless buffoon."
      ],
      "text/plain": [
       "<IPython.core.display.HTML object>"
      ]
     },
     "metadata": {},
     "output_type": "display_data"
    },
    {
     "name": "stdout",
     "output_type": "stream",
     "text": [
      "20 KWS: {'great deal', 'canada spends', 'words', 'coast', 'guard', 'related activities', 'trump supporter', 'figure', 'guideline', 'numerous', 'misplaced', 'trump', 'defense related', 'countries', 'bill', 'american', 'nato', 'supporter', 'canada', 'coast guard'}\n",
      "*********************************************\n",
      "142\n",
      "TABO words:  racist clown\n",
      "28    So what if Donald is a liar; he has other good qualities, like being a pu**y grabbin racist.  Lol.  Obstruction, collusion & stupidity.  The clown is going down!\n"
     ]
    },
    {
     "data": {
      "text/html": [
       "So what if <span style='color:red;' >[donald]</span> is a <span style='color:red;' >[liar]</span>; he has other <span style='color:red;' >[good qualities]</span>, like being a pu**y <span style='color:red;' >[grabbin racist]</span>.  <span style='color:red;' >[lol]</span>.  <span style='color:red;' >[obstruction]</span>, <span style='color:red;' >[collusion]</span> & <span style='color:red;' >[stupidity]</span>.  The <span style='color:red;' >[clown]</span> is going down!"
      ],
      "text/plain": [
       "<IPython.core.display.HTML object>"
      ]
     },
     "metadata": {},
     "output_type": "display_data"
    },
    {
     "name": "stdout",
     "output_type": "stream",
     "text": [
      "13 KWS: {'lol', 'donald', 'grabbin racist', 'grabbin', 'liar', 'clown', 'collusion', 'qualities', 'good', 'obstruction', 'good qualities', 'racist', 'stupidity'}\n",
      "*********************************************\n",
      "143\n",
      "TABO words:  stupid\n",
      "45    you are a delusional lib troll of stupid, canada  is not doing squat in the world other than paying for access with justin... here we laugh at his bs and lack of any sense of what an economy is, thats not hate loser, thats reality\n"
     ]
    },
    {
     "data": {
      "text/html": [
       "you are a <span style='color:red;' >[delusional lib]</span> <span style='color:red;' >[troll]</span> of <span style='color:red;' >[stupid]</span>, <span style='color:red;' >[canada]</span>  is not doing <span style='color:red;' >[squat]</span> in the <span style='color:red;' >[world]</span> other than <span style='color:red;' >[paying]</span> for <span style='color:red;' >[access]</span> with <span style='color:red;' >[justin]</span>... here we <span style='color:red;' >[laugh]</span> at his bs and <span style='color:red;' >[lack]</span> of any <span style='color:red;' >[sense]</span> of what an <span style='color:red;' >[economy]</span> is, thats not <span style='color:red;' >[hate loser]</span>, thats <span style='color:red;' >[reality]</span>"
      ],
      "text/plain": [
       "<IPython.core.display.HTML object>"
      ]
     },
     "metadata": {},
     "output_type": "display_data"
    },
    {
     "name": "stdout",
     "output_type": "stream",
     "text": [
      "20 KWS: {'paying', 'access', 'delusional lib', 'troll', 'reality', 'loser', 'lack', 'delusional', 'economy', 'lib', 'world', 'justin', 'lib troll', 'hate loser', 'squat', 'sense', 'stupid', 'hate', 'canada', 'laugh'}\n",
      "*********************************************\n",
      "144\n",
      "TABO words:  idiot\n",
      "91    Trump is an idiot.\n",
      "\n",
      "Also, the Generals are showing their vast limitations.  Asserting military options, threatening to \"destroy\" a country unless it obeys you.  That's all big gun international relations, with a finesse deficiency that has the US on the brink of catastrophic war.\n",
      "\n",
      "The US didn't have to move to that sort of Trump doctrine, and now that it has, the question for the rest of the world is, \"Who's the next target?\"  \"WHO will next become threatened with destruction of their country if they don't do what \"Trump\" wants?\"\n"
     ]
    },
    {
     "data": {
      "text/html": [
       "<span style='color:red;' >[trump]</span> is an <span style='color:red;' >[idiot]</span>.  Also, the <span style='color:red;' >[generals]</span> are <span style='color:red;' >[showing]</span> their <span style='color:red;' >[vast limitations]</span>.  <span style='color:red;' >[asserting military]</span> <span style='color:red;' >[options]</span>, <span style='color:red;' >[threatening]</span> to \"<span style='color:red;' >[destroy]</span>\" a <span style='color:red;' >[country]</span> unless it obeys you.  That's all <span style='color:red;' >[big gun]</span> <span style='color:red;' >[international relations]</span>, with a <span style='color:red;' >[finesse deficiency]</span> that has the US on the brink of <span style='color:red;' >[catastrophic war]</span>.  The US didn't have to move to that sort of <span style='color:red;' >[trump]</span> doctrine, and now that it has, the question for the rest of the world is, \"Who's the next target?\"  \"WHO will next become threatened with destruction of their <span style='color:red;' >[country]</span> if they don't do what \"<span style='color:red;' >[trump]</span>\" wants?\""
      ],
      "text/plain": [
       "<IPython.core.display.HTML object>"
      ]
     },
     "metadata": {},
     "output_type": "display_data"
    },
    {
     "name": "stdout",
     "output_type": "stream",
     "text": [
      "20 KWS: {'options', 'vast limitations', 'idiot', 'country', 'asserting military', 'military options', 'finesse deficiency', 'trump doctrine', 'international relations', 'vast', 'gun international', 'destroy', 'asserting', 'trump', 'big gun', 'limitations', 'showing', 'threatening', 'generals', 'catastrophic war'}\n",
      "*********************************************\n",
      "145\n",
      "TABO words:  dotard\n",
      "11    Maybe the \"dotard\" should learn to keep his big mouth shut.\n"
     ]
    },
    {
     "data": {
      "text/html": [
       "Maybe the \"<span style='color:red;' >[dotard]</span>\" should <span style='color:red;' >[learn]</span> to keep his <span style='color:red;' >[big]</span> <span style='color:red;' >[mouth shut]</span>."
      ],
      "text/plain": [
       "<IPython.core.display.HTML object>"
      ]
     },
     "metadata": {},
     "output_type": "display_data"
    },
    {
     "name": "stdout",
     "output_type": "stream",
     "text": [
      "7 KWS: {'dotard', 'learn', 'mouth', 'mouth shut', 'big', 'big mouth', 'shut'}\n",
      "*********************************************\n",
      "146\n",
      "TABO words:  stupidity\n",
      "17    Every day will have stuff like this. Detritus of the cyclone of stupidity that is Donald Trump.\n"
     ]
    },
    {
     "data": {
      "text/html": [
       "Every <span style='color:red;' >[day]</span> will have <span style='color:red;' >[stuff]</span> like this. <span style='color:red;' >[detritus]</span> of the <span style='color:red;' >[cyclone]</span> of <span style='color:red;' >[stupidity]</span> that is <span style='color:red;' >[donald trump]</span>."
      ],
      "text/plain": [
       "<IPython.core.display.HTML object>"
      ]
     },
     "metadata": {},
     "output_type": "display_data"
    },
    {
     "name": "stdout",
     "output_type": "stream",
     "text": [
      "8 KWS: {'stuff', 'donald', 'donald trump', 'trump', 'cyclone', 'detritus', 'day', 'stupidity'}\n",
      "*********************************************\n",
      "147\n",
      "TABO words:  stupid\n",
      "9    You can't fix stupid.\n",
      "But you can fight it.\n"
     ]
    },
    {
     "data": {
      "text/html": [
       "You can't <span style='color:red;' >[fix stupid]</span>. But you can <span style='color:red;' >[fight]</span> it."
      ],
      "text/plain": [
       "<IPython.core.display.HTML object>"
      ]
     },
     "metadata": {},
     "output_type": "display_data"
    },
    {
     "name": "stdout",
     "output_type": "stream",
     "text": [
      "4 KWS: {'stupid', 'fight', 'fix', 'fix stupid'}\n",
      "*********************************************\n",
      "148\n",
      "TABO words:  Fuck you\n",
      "3    Fuck you, Wavemaker.\n"
     ]
    },
    {
     "data": {
      "text/html": [
       "<span style='color:red;' >[fuck]</span> you, <span style='color:red;' >[wavemaker]</span>."
      ],
      "text/plain": [
       "<IPython.core.display.HTML object>"
      ]
     },
     "metadata": {},
     "output_type": "display_data"
    },
    {
     "name": "stdout",
     "output_type": "stream",
     "text": [
      "2 KWS: {'fuck', 'wavemaker'}\n",
      "*********************************************\n",
      "149\n",
      "TABO words:  ou hit th idiot\n",
      "29    You hit the nail on the head.  Republicans should be denouncing idiot Trump en masse.  Instead they are defending him (at worst) or looking the other way and humming.\n"
     ]
    },
    {
     "data": {
      "text/html": [
       "You <span style='color:red;' >[hit]</span> the <span style='color:red;' >[nail]</span> on the <span style='color:red;' >[head]</span>.  <span style='color:red;' >[republicans]</span> should be <span style='color:red;' >[denouncing]</span> <span style='color:red;' >[idiot trump]</span> en <span style='color:red;' >[masse]</span>.  Instead they are <span style='color:red;' >[defending]</span> him (at <span style='color:red;' >[worst]</span>) or looking the other way and <span style='color:red;' >[humming]</span>."
      ],
      "text/plain": [
       "<IPython.core.display.HTML object>"
      ]
     },
     "metadata": {},
     "output_type": "display_data"
    },
    {
     "name": "stdout",
     "output_type": "stream",
     "text": [
      "13 KWS: {'defending', 'idiot', 'worst', 'denouncing', 'trump', 'head', 'denouncing idiot', 'masse', 'humming', 'republicans', 'hit', 'idiot trump', 'nail'}\n",
      "*********************************************\n",
      "150\n",
      "TABO words: \n",
      "29    \"I fly all the time around the world.\"\n",
      "\n",
      "No, you do not. You're not an independently wealthy jet setter, and you're not a pilot. You're a retired garbage man.\n"
     ]
    },
    {
     "data": {
      "text/html": [
       "\"I <span style='color:red;' >[fly]</span> all the <span style='color:red;' >[time]</span> around the <span style='color:red;' >[world]</span>.\"  No, you do not. You're not an <span style='color:red;' >[independently wealthy]</span> <span style='color:red;' >[jet setter]</span>, and you're not a <span style='color:red;' >[pilot]</span>. You're a <span style='color:red;' >[retired]</span> <span style='color:red;' >[garbage man]</span>."
      ],
      "text/plain": [
       "<IPython.core.display.HTML object>"
      ]
     },
     "metadata": {},
     "output_type": "display_data"
    },
    {
     "name": "stdout",
     "output_type": "stream",
     "text": [
      "16 KWS: {'garbage man', 'independently wealthy', 'wealthy jet', 'retired garbage', 'setter', 'man', 'retired', 'garbage', 'fly', 'world', 'jet setter', 'pilot', 'wealthy', 'jet', 'independently', 'time'}\n",
      "*********************************************\n",
      "151\n",
      "TABO words:  jerk Politically motivated and tax payer funded garbage\n",
      "70    What a circle jerk for all to see in living color . Politically motivated and tax payer funded garbage ! As if we do not have serious crimes to actually look at with Lynch and Comey as well as Hillary and A. Weiner.  Disgusting what these elites get away with and is covered up as SOP .\n",
      "\n",
      "We all live in many illusions created for us to control us. \n",
      "http://www.downtoearththinking.com/the-war-for-our-minds-.html\n"
     ]
    },
    {
     "data": {
      "text/html": [
       "What a <span style='color:red;' >[circle jerk]</span> for all to see in <span style='color:red;' >[living color]</span> . <span style='color:red;' >[politically motivated]</span> and <span style='color:red;' >[tax payer]</span> <span style='color:red;' >[funded garbage]</span> ! As if we do not have serious crimes to actually look at with <span style='color:red;' >[lynch]</span> and <span style='color:red;' >[comey]</span> as well as <span style='color:red;' >[hillary]</span> and A. <span style='color:red;' >[weiner]</span>.  Disgusting what these elites get away with and is covered up as SOP .  We all live in many <span style='color:red;' >[illusions created]</span> for us to control us.  "
      ],
      "text/plain": [
       "<IPython.core.display.HTML object>"
      ]
     },
     "metadata": {},
     "output_type": "display_data"
    },
    {
     "name": "stdout",
     "output_type": "stream",
     "text": [
      "20 KWS: {'funded garbage', 'circle jerk', 'payer', 'jerk', 'color', 'motivated', 'illusions created', 'tax payer', 'politically', 'lynch', 'payer funded', 'garbage', 'living', 'tax', 'living color', 'politically motivated', 'hillary', 'circle', 'comey', 'weiner'}\n",
      "*********************************************\n",
      "152\n",
      "TABO words:  damn threatening\n",
      "18    We all know what pulling out does,\n",
      "Bout damn time someone stood up to the globalists threatening humanity\n"
     ]
    },
    {
     "data": {
      "text/html": [
       "We all know what <span style='color:red;' >[pulling]</span> out does, <span style='color:red;' >[bout damn]</span> <span style='color:red;' >[time]</span> someone <span style='color:red;' >[stood]</span> up to the <span style='color:red;' >[globalists]</span> <span style='color:red;' >[threatening humanity]</span>"
      ],
      "text/plain": [
       "<IPython.core.display.HTML object>"
      ]
     },
     "metadata": {},
     "output_type": "display_data"
    },
    {
     "name": "stdout",
     "output_type": "stream",
     "text": [
      "12 KWS: {'threatening humanity', 'damn time', 'globalists', 'humanity', 'bout damn', 'pulling', 'damn', 'bout', 'threatening', 'stood', 'time', 'globalists threatening'}\n",
      "*********************************************\n",
      "153\n",
      "TABO words:  stupid stupider Bush communities\n",
      "132    You have to wonder how stupid you have to be to put your opinion on social media and not expect to to catch some heat when you bad mouth people.  Its is even stupider when you are in business dealing with the people you are bad mouthing.  Some folks thing it is ok to bad mouth people and not expect some heat claiming that it all someone else fault ie PC police.  The reality of is that his words will not change what gets shipped to the Bush communities but his words have cost him financially and may cost him even more in the future.  What few negative comments can do for something that is really not the pilots concern, if you don't want to deal with locals go back to Texas.\n"
     ]
    },
    {
     "data": {
      "text/html": [
       "You have to wonder how <span style='color:red;' >[stupid]</span> you have to be to <span style='color:red;' >[put]</span> your <span style='color:red;' >[opinion]</span> on <span style='color:red;' >[social media]</span> and not <span style='color:red;' >[expect]</span> to to <span style='color:red;' >[catch]</span> some <span style='color:red;' >[heat]</span> when you <span style='color:red;' >[bad mouth]</span> <span style='color:red;' >[people]</span>.  Its is even stupider when you are in <span style='color:red;' >[business dealing]</span> with the <span style='color:red;' >[people]</span> you are <span style='color:red;' >[bad]</span> mouthing.  Some folks thing it is ok to <span style='color:red;' >[bad mouth]</span> <span style='color:red;' >[people]</span> and not <span style='color:red;' >[expect]</span> some <span style='color:red;' >[heat]</span> claiming that it all someone else fault ie PC police.  The reality of is that his <span style='color:red;' >[words]</span> will not change what gets shipped to the <span style='color:red;' >[bush communities]</span> but his <span style='color:red;' >[words]</span> have <span style='color:red;' >[cost]</span> him financially and may <span style='color:red;' >[cost]</span> him even more in the future.  What few negative comments can do for something that is really not the pilots concern, if you don't want to deal with locals go back to Texas."
      ],
      "text/plain": [
       "<IPython.core.display.HTML object>"
      ]
     },
     "metadata": {},
     "output_type": "display_data"
    },
    {
     "name": "stdout",
     "output_type": "stream",
     "text": [
      "20 KWS: {'social media', 'opinion', 'business dealing', 'cost', 'mouth', 'expect', 'bad mouth', 'heat claiming', 'social', 'media', 'bush communities', 'catch', 'mouth people', 'bad', 'words', 'people', 'stupid', 'heat', 'put', 'bad mouthing'}\n",
      "*********************************************\n",
      "154\n",
      "TABO words:  fool folks\n",
      "28    If, as you say \"only a fool would vote for Socialists\" what kind of person would vote for Christy Clark's Liberal Party?  Don't tell me they're smart folks!!\n"
     ]
    },
    {
     "data": {
      "text/html": [
       "If, as you say \"only a <span style='color:red;' >[fool]</span> would <span style='color:red;' >[vote]</span> for <span style='color:red;' >[socialists]</span>\" what <span style='color:red;' >[kind]</span> of <span style='color:red;' >[person]</span> would <span style='color:red;' >[vote]</span> for <span style='color:red;' >[christy]</span> Clark's <span style='color:red;' >[liberal party]</span>?  Don't tell me they're <span style='color:red;' >[smart folks]</span>!!"
      ],
      "text/plain": [
       "<IPython.core.display.HTML object>"
      ]
     },
     "metadata": {},
     "output_type": "display_data"
    },
    {
     "name": "stdout",
     "output_type": "stream",
     "text": [
      "15 KWS: {'clark', 'smart folks', 'fool', 'smart', 'party', 'folks', 'vote', 'socialists', 'liberal party', 'christy', 'kind', 'person', 'christy clark', 'liberal', 'clark liberal'}\n",
      "*********************************************\n",
      "155\n",
      "TABO words:  idiot\n",
      "19    Uh...hate to break it to you, but the USA is currently being run by an idiot from New York.\n"
     ]
    },
    {
     "data": {
      "text/html": [
       "Uh...hate to <span style='color:red;' >[break]</span> it to you, but the <span style='color:red;' >[usa]</span> is currently being <span style='color:red;' >[run]</span> by an <span style='color:red;' >[idiot]</span> from New <span style='color:red;' >[york]</span>."
      ],
      "text/plain": [
       "<IPython.core.display.HTML object>"
      ]
     },
     "metadata": {},
     "output_type": "display_data"
    },
    {
     "name": "stdout",
     "output_type": "stream",
     "text": [
      "6 KWS: {'idiot', 'break', 'york', 'run', 'hate', 'usa'}\n",
      "*********************************************\n",
      "156\n",
      "TABO words:  Damn\n",
      "18    Go ahead do it...just pay their fare/hotel to Alaska....anything to look good on the oil field. Damn State.\n"
     ]
    },
    {
     "data": {
      "text/html": [
       "Go <span style='color:red;' >[ahead]</span> do it...just <span style='color:red;' >[pay]</span> their fare/hotel to Alaska....anything to look <span style='color:red;' >[good]</span> on the <span style='color:red;' >[oil field]</span>. <span style='color:red;' >[damn state]</span>."
      ],
      "text/plain": [
       "<IPython.core.display.HTML object>"
      ]
     },
     "metadata": {},
     "output_type": "display_data"
    },
    {
     "name": "stdout",
     "output_type": "stream",
     "text": [
      "12 KWS: {'alaska', 'oil field', 'damn state', 'fare', 'hotel', 'damn', 'pay', 'ahead', 'oil', 'good', 'state', 'field'}\n",
      "*********************************************\n",
      "157\n",
      "TABO words:  ugly traitorous\n",
      "11    h3ll3ry, h3ll3ry--please go away and zip your ugly lying traitorous mug.\n"
     ]
    },
    {
     "data": {
      "text/html": [
       "h3ll3ry, h3ll3ry--please go away and <span style='color:red;' >[zip]</span> your <span style='color:red;' >[ugly lying]</span> <span style='color:red;' >[traitorous mug]</span>."
      ],
      "text/plain": [
       "<IPython.core.display.HTML object>"
      ]
     },
     "metadata": {},
     "output_type": "display_data"
    },
    {
     "name": "stdout",
     "output_type": "stream",
     "text": [
      "8 KWS: {'zip', 'traitorous', 'traitorous mug', 'ugly', 'ugly lying', 'mug', 'lying traitorous', 'lying'}\n",
      "*********************************************\n",
      "158\n",
      "TABO words:  idiots\n",
      "118    http://www.politicususa.com/2016/09/02/trump-craven-maniacal-david-bossie-clinton-character-assassin.html\n",
      "\n",
      "New Trump Hire Proves Hillary Clinton’s Vast Right Wing Conspiracy is Real\n",
      "Trump's new Deputy Campaign Manager, Citizens United President David Bossie, \"has devoted his career ever since to trying to tear down Hillary Clinton\"\n",
      "\n",
      "There is no disguising the truth: Bossie will be assisting Kellyanne Conway as an anti-Clinton character assassin, and Hillary for America Chair John Podesta released the following statement:\n",
      "\n",
      "“David Bossie is so craven and maniacal that in the heyday of the overreaching, Gingrich-era Congress, the top Whitewater conspiracy theorist in the House had to fire him for doctoring evidence. He has devoted his career ever since to trying to tear down Hillary Clinton\n",
      "\n",
      "Another liar just like Trump. I think only idiots..............\n"
     ]
    },
    {
     "data": {
      "text/html": [
       "New Trump <span style='color:red;' >[hire proves]</span> <span style='color:red;' >[hillary]</span> Clinton’s Vast Right <span style='color:red;' >[wing conspiracy]</span> is <span style='color:red;' >[real]</span> Trump's new Deputy <span style='color:red;' >[campaign manager]</span>, <span style='color:red;' >[citizens united]</span> President <span style='color:red;' >[david bossie]</span>, \"has devoted his career ever since to trying to tear down <span style='color:red;' >[hillary clinton]</span>\"  There is no disguising the truth: Bossie will be assisting <span style='color:red;' >[kellyanne conway]</span> as an anti-Clinton character assassin, and <span style='color:red;' >[hillary]</span> for <span style='color:red;' >[america chair]</span> <span style='color:red;' >[john podesta]</span> released the following statement:  “David Bossie is so craven and maniacal that in the heyday of the overreaching, <span style='color:red;' >[gingrich-era congress]</span>, the top <span style='color:red;' >[whitewater conspiracy]</span> theorist in the House had to fire him for doctoring evidence. He has devoted his career ever since to trying to tear down <span style='color:red;' >[hillary clinton]</span>  Another liar just like Trump. I think only idiots.............."
      ],
      "text/plain": [
       "<IPython.core.display.HTML object>"
      ]
     },
     "metadata": {},
     "output_type": "display_data"
    },
    {
     "name": "stdout",
     "output_type": "stream",
     "text": [
      "20 KWS: {'hillary clinton', 'president david', 'john podesta', 'clinton', 'america chair', 'whitewater conspiracy', 'kellyanne conway', 'trump hire', 'citizens united', 'deputy campaign', 'chair john', 'wing conspiracy', 'united president', 'hillary', 'proves hillary', 'campaign manager', 'gingrich-era congress', 'real', 'hire proves', 'david bossie'}\n",
      "*********************************************\n",
      "159\n",
      "TABO words:  ? utterly absurd and stupid\n",
      "14    why would citizens who demand the truth go on trial? utterly absurd and stupid.\n"
     ]
    },
    {
     "data": {
      "text/html": [
       "why would <span style='color:red;' >[citizens]</span> who <span style='color:red;' >[demand]</span> the <span style='color:red;' >[truth]</span> go on <span style='color:red;' >[trial]</span>? <span style='color:red;' >[utterly absurd]</span> and <span style='color:red;' >[stupid]</span>."
      ],
      "text/plain": [
       "<IPython.core.display.HTML object>"
      ]
     },
     "metadata": {},
     "output_type": "display_data"
    },
    {
     "name": "stdout",
     "output_type": "stream",
     "text": [
      "8 KWS: {'trial', 'absurd', 'demand', 'utterly absurd', 'citizens', 'truth', 'stupid', 'utterly'}\n",
      "*********************************************\n",
      "160\n",
      "TABO words:  wanker\n",
      "22    what would you know about sport or  scienceÉ stay in your room doing what you do best.. wash your hands after, wanker.\n"
     ]
    },
    {
     "data": {
      "text/html": [
       "what would you know about <span style='color:red;' >[sport]</span> or  <span style='color:red;' >[scienceé stay]</span> in your <span style='color:red;' >[room]</span> doing what you do best.. <span style='color:red;' >[wash]</span> your <span style='color:red;' >[hands]</span> after, <span style='color:red;' >[wanker]</span>."
      ],
      "text/plain": [
       "<IPython.core.display.HTML object>"
      ]
     },
     "metadata": {},
     "output_type": "display_data"
    },
    {
     "name": "stdout",
     "output_type": "stream",
     "text": [
      "9 KWS: {'room', 'stay', 'sport', 'scienceé stay', 'wash', 'wanker', 'hands', 'scienceé', 'best.'}\n",
      "*********************************************\n",
      "161\n",
      "TABO words:  usefull idiot\n",
      "12    You're actually so sad it's laughable and define the term \"usefull idiot\".\n"
     ]
    },
    {
     "data": {
      "text/html": [
       "You're actually so <span style='color:red;' >[sad]</span> it's <span style='color:red;' >[laughable]</span> and <span style='color:red;' >[define]</span> the <span style='color:red;' >[term]</span> \"<span style='color:red;' >[usefull idiot]</span>\"."
      ],
      "text/plain": [
       "<IPython.core.display.HTML object>"
      ]
     },
     "metadata": {},
     "output_type": "display_data"
    },
    {
     "name": "stdout",
     "output_type": "stream",
     "text": [
      "7 KWS: {'idiot', 'sad', 'laughable', 'usefull idiot', 'term', 'usefull', 'define'}\n",
      "*********************************************\n",
      "162\n",
      "TABO words:  ugly\n",
      "5    You are an ugly American.\n"
     ]
    },
    {
     "data": {
      "text/html": [
       "You are an <span style='color:red;' >[ugly american]</span>."
      ],
      "text/plain": [
       "<IPython.core.display.HTML object>"
      ]
     },
     "metadata": {},
     "output_type": "display_data"
    },
    {
     "name": "stdout",
     "output_type": "stream",
     "text": [
      "3 KWS: {'ugly', 'ugly american', 'american'}\n",
      "*********************************************\n",
      "163\n",
      "TABO words:  shit idiot\n",
      "37    No shit,  Sherlock.   The military is always locked and loaded.   Had you been a man and served when called upon instead of being a draft dodging coward,  you'd know this. \n",
      "\n",
      "Someone put a muzzle on this idiot.\n"
     ]
    },
    {
     "data": {
      "text/html": [
       "No <span style='color:red;' >[shit]</span>,  <span style='color:red;' >[sherlock]</span>.   The <span style='color:red;' >[military]</span> is always <span style='color:red;' >[locked]</span> and <span style='color:red;' >[loaded]</span>.   Had you been a <span style='color:red;' >[man]</span> and <span style='color:red;' >[served]</span> when <span style='color:red;' >[called]</span> upon instead of being a <span style='color:red;' >[draft]</span> <span style='color:red;' >[dodging coward]</span>,  you'd know this.   Someone <span style='color:red;' >[put]</span> a <span style='color:red;' >[muzzle]</span> on this <span style='color:red;' >[idiot]</span>."
      ],
      "text/plain": [
       "<IPython.core.display.HTML object>"
      ]
     },
     "metadata": {},
     "output_type": "display_data"
    },
    {
     "name": "stdout",
     "output_type": "stream",
     "text": [
      "16 KWS: {'shit', 'coward', 'idiot', 'called', 'locked', 'served', 'muzzle', 'man', 'loaded', 'draft', 'draft dodging', 'dodging', 'dodging coward', 'sherlock', 'put', 'military'}\n",
      "*********************************************\n",
      "164\n",
      "TABO words:  loser\n",
      "19    Why does she keep coming back?  Wasn't she 1/2 of the infamous love caucus with some loser from Ketchikan.\n"
     ]
    },
    {
     "data": {
      "text/html": [
       "Why does she keep <span style='color:red;' >[coming back]</span>?  Wasn't she 1/2 of the <span style='color:red;' >[infamous love]</span> <span style='color:red;' >[caucus]</span> with some <span style='color:red;' >[loser]</span> from <span style='color:red;' >[ketchikan]</span>."
      ],
      "text/plain": [
       "<IPython.core.display.HTML object>"
      ]
     },
     "metadata": {},
     "output_type": "display_data"
    },
    {
     "name": "stdout",
     "output_type": "stream",
     "text": [
      "10 KWS: {'loser', 'love', 'infamous love', 'infamous', 'caucus', 'love caucus', 'back', 'coming', 'coming back', 'ketchikan'}\n",
      "*********************************************\n",
      "165\n",
      "TABO words:  friggn racists RACIST LIBTARDS\n",
      "72    Lebrun James is disgusting! I used to like him but he stumped for HRC the biggest most corrupt politician to EVER run and called blacks SUPER OREDATORS and he trashes Trump?? I quit watching NBA because of him and the Seattle Seahawks version of the NBA-GS Warriors! They're friggn racists and I'm DONE! Only college football for me until......let's unite and boycott the NFL/NBA!!! ESPN is dying too thank the lord.....RACIST LIBTARDS\n"
     ]
    },
    {
     "data": {
      "text/html": [
       "<span style='color:red;' >[lebrun james]</span> is <span style='color:red;' >[disgusting]</span>! I used to like him but he stumped for <span style='color:red;' >[hrc]</span> the biggest most <span style='color:red;' >[corrupt politician]</span> to EVER run and called blacks <span style='color:red;' >[super oredators]</span> and he <span style='color:red;' >[trashes trump]</span>?? I quit watching <span style='color:red;' >[nba]</span> because of him and the <span style='color:red;' >[seattle seahawks]</span> version of the <span style='color:red;' >[nba-gs warriors]</span>! They're friggn racists and I'm DONE! Only college football for me until......let's unite and boycott the NFL/NBA!!! ESPN is dying too thank the lord.....RACIST LIBTARDS"
      ],
      "text/plain": [
       "<IPython.core.display.HTML object>"
      ]
     },
     "metadata": {},
     "output_type": "display_data"
    },
    {
     "name": "stdout",
     "output_type": "stream",
     "text": [
      "20 KWS: {'corrupt politician', 'disgusting', 'super', 'seahawks version', 'called blacks', 'blacks super', 'trump', 'nba-gs warriors', 'watching nba', 'james', 'lebrun james', 'trashes trump', 'racist libtards', 'oredators', 'warriors', 'super oredators', 'lebrun', 'seattle seahawks', 'hrc', 'nba'}\n",
      "*********************************************\n",
      "166\n",
      "TABO words:  go fuck yourself fuck\n",
      "45    Shut the fuck up. This man was my father. You have no clue what the cause of this nor the situation. \"Truckers should really slow down in these areas\" go fuck yourself. A man died and that's what you have to say. Go fuck yourself\n"
     ]
    },
    {
     "data": {
      "text/html": [
       "<span style='color:red;' >[shut]</span> the <span style='color:red;' >[fuck]</span> up. This <span style='color:red;' >[man]</span> was my <span style='color:red;' >[father]</span>. You have no <span style='color:red;' >[clue]</span> what the cause of this nor the <span style='color:red;' >[situation]</span>. \"<span style='color:red;' >[truckers]</span> should really <span style='color:red;' >[slow]</span> down in these <span style='color:red;' >[areas]</span>\" go <span style='color:red;' >[fuck]</span> yourself. A <span style='color:red;' >[man]</span> <span style='color:red;' >[died]</span> and that's what you have to say. Go <span style='color:red;' >[fuck]</span> yourself"
      ],
      "text/plain": [
       "<IPython.core.display.HTML object>"
      ]
     },
     "metadata": {},
     "output_type": "display_data"
    },
    {
     "name": "stdout",
     "output_type": "stream",
     "text": [
      "11 KWS: {'fuck', 'clue', 'truckers', 'man', 'died', 'father', 'situation', 'man died', 'areas', 'slow', 'shut'}\n",
      "*********************************************\n",
      "167\n",
      "TABO words:  moron\n",
      "5    Trump is such a moron.\n"
     ]
    },
    {
     "data": {
      "text/html": [
       "<span style='color:red;' >[trump]</span> is such a <span style='color:red;' >[moron]</span>."
      ],
      "text/plain": [
       "<IPython.core.display.HTML object>"
      ]
     },
     "metadata": {},
     "output_type": "display_data"
    },
    {
     "name": "stdout",
     "output_type": "stream",
     "text": [
      "2 KWS: {'moron', 'trump'}\n",
      "*********************************************\n",
      "168\n",
      "TABO words:  fraudster completely nuts\n",
      "85    Great commentary. How did the Party of Lincoln deteriorate into the fraudster Party of Trump? How can a man who pretty much shamelessly lies every time he opens his mouth claim Hillary is untruthful (yes she occasionally lies too). How can a man born rich who markets himself as a rich elitist and a reputation sticking it to contractors and investors, claim to represent the middle class? How can a schoolyard bully claim to be a great negotiator?  Trump supporters, have you gone completely nuts?\n"
     ]
    },
    {
     "data": {
      "text/html": [
       "<span style='color:red;' >[great commentary]</span>. How did the <span style='color:red;' >[party]</span> of <span style='color:red;' >[lincoln deteriorate]</span> into the <span style='color:red;' >[fraudster party]</span> of <span style='color:red;' >[trump]</span>? How can a <span style='color:red;' >[man]</span> who pretty much shamelessly <span style='color:red;' >[lies]</span> every time he opens his mouth <span style='color:red;' >[claim]</span> <span style='color:red;' >[hillary]</span> is untruthful (yes she occasionally <span style='color:red;' >[lies]</span> too). How can a <span style='color:red;' >[man]</span> born <span style='color:red;' >[rich]</span> who markets himself as a <span style='color:red;' >[rich]</span> elitist and a reputation sticking it to contractors and investors, <span style='color:red;' >[claim]</span> to represent the middle class? How can a schoolyard bully <span style='color:red;' >[claim]</span> to be a <span style='color:red;' >[great]</span> negotiator?  <span style='color:red;' >[trump]</span> supporters, have you gone completely nuts?"
      ],
      "text/plain": [
       "<IPython.core.display.HTML object>"
      ]
     },
     "metadata": {},
     "output_type": "display_data"
    },
    {
     "name": "stdout",
     "output_type": "stream",
     "text": [
      "20 KWS: {'mouth claim', 'lincoln deteriorate', 'shamelessly lies', 'lies', 'occasionally lies', 'man', 'great', 'fraudster party', 'rich', 'party', 'trump', 'claim', 'trump supporters', 'great negotiator', 'man born', 'hillary', 'commentary', 'lincoln', 'great commentary', 'claim hillary'}\n",
      "*********************************************\n",
      "169\n",
      "TABO words:  ignorant\n",
      "28    time for you to get help for your delusions,, the us people understand this scam for what it is, too bad your blind ignorant brain washing does not.\n"
     ]
    },
    {
     "data": {
      "text/html": [
       "<span style='color:red;' >[time]</span> for you to get help for your <span style='color:red;' >[delusions]</span>,, the us <span style='color:red;' >[people understand]</span> this <span style='color:red;' >[scam]</span> for what it is, too <span style='color:red;' >[bad]</span> your <span style='color:red;' >[blind ignorant]</span> <span style='color:red;' >[brain washing]</span> does not."
      ],
      "text/plain": [
       "<IPython.core.display.HTML object>"
      ]
     },
     "metadata": {},
     "output_type": "display_data"
    },
    {
     "name": "stdout",
     "output_type": "stream",
     "text": [
      "14 KWS: {'blind', 'brain washing', 'blind ignorant', 'ignorant brain', 'ignorant', 'delusions', 'brain', 'understand', 'bad', 'people', 'scam', 'washing', 'people understand', 'time'}\n",
      "*********************************************\n",
      "170\n",
      "TABO words:  Damn\n",
      "14    Sorry. Damn spell checker and my gross reliance on it! My humblest apologies :-)\n"
     ]
    },
    {
     "data": {
      "text/html": [
       "Sorry. <span style='color:red;' >[damn spell]</span> <span style='color:red;' >[checker]</span> and my <span style='color:red;' >[gross reliance]</span> on it! My <span style='color:red;' >[humblest apologies]</span> :-)"
      ],
      "text/plain": [
       "<IPython.core.display.HTML object>"
      ]
     },
     "metadata": {},
     "output_type": "display_data"
    },
    {
     "name": "stdout",
     "output_type": "stream",
     "text": [
      "11 KWS: {'spell checker', 'spell', 'reliance', 'damn spell', 'humblest apologies', 'humblest', 'gross reliance', 'apologies', 'checker', 'damn', 'gross'}\n",
      "*********************************************\n",
      "171\n",
      "TABO words:  ridiculous stupid\n",
      "18    What a ridiculous strategy.  Bye, bye South Korea.  I can't believe that even Trump would be that stupid.\n"
     ]
    },
    {
     "data": {
      "text/html": [
       "What a <span style='color:red;' >[ridiculous strategy]</span>.  <span style='color:red;' >[bye]</span>, <span style='color:red;' >[bye]</span> <span style='color:red;' >[south korea]</span>.  I can't believe that even <span style='color:red;' >[trump]</span> would be that <span style='color:red;' >[stupid]</span>."
      ],
      "text/plain": [
       "<IPython.core.display.HTML object>"
      ]
     },
     "metadata": {},
     "output_type": "display_data"
    },
    {
     "name": "stdout",
     "output_type": "stream",
     "text": [
      "10 KWS: {'bye south', 'bye', 'south korea', 'korea', 'trump', 'ridiculous strategy', 'ridiculous', 'stupid', 'strategy', 'south'}\n",
      "*********************************************\n",
      "172\n",
      "TABO words:  Muslims Muslims are the problems\n",
      "67    99% of all attacks on Jews in Europe  are  by Muslims. . Bataclan had been under threats and attacked by violence for years from  Muslims who hated the Jewish owners of the club.  Kosher stores across France are regularly  ransacked  by Muslim gangs.  Bars, cafes  and restaurants are openly ransacked and patrons attacked by Muslin gangs for sell non halal foods and alcohol, Muslims are the problems.\n"
     ]
    },
    {
     "data": {
      "text/html": [
       "99% of all <span style='color:red;' >[attacks]</span> on <span style='color:red;' >[jews]</span> in <span style='color:red;' >[europe]</span>  are  by <span style='color:red;' >[muslims]</span>. . <span style='color:red;' >[bataclan]</span> had been under threats and <span style='color:red;' >[attacked]</span> by violence for years from  <span style='color:red;' >[muslims]</span> who hated the <span style='color:red;' >[jewish owners]</span> of the <span style='color:red;' >[club]</span>.  <span style='color:red;' >[kosher stores]</span> across <span style='color:red;' >[france]</span> are regularly  <span style='color:red;' >[ransacked]</span>  by <span style='color:red;' >[muslim gangs]</span>.  <span style='color:red;' >[bars]</span>, <span style='color:red;' >[cafes]</span>  and restaurants are openly <span style='color:red;' >[ransacked]</span> and patrons <span style='color:red;' >[attacked]</span> by <span style='color:red;' >[muslin]</span> <span style='color:red;' >[gangs]</span> for sell non halal foods and alcohol, <span style='color:red;' >[muslims]</span> are the problems."
      ],
      "text/plain": [
       "<IPython.core.display.HTML object>"
      ]
     },
     "metadata": {},
     "output_type": "display_data"
    },
    {
     "name": "stdout",
     "output_type": "stream",
     "text": [
      "20 KWS: {'bars', 'attacks', 'muslims', 'jewish owners', 'attacked', 'france', 'club', 'muslin', 'kosher stores', 'ransacked', 'europe', 'kosher', 'cafes', 'jews', 'patrons attacked', 'muslim', 'bataclan', 'muslim gangs', 'jewish', 'gangs'}\n",
      "*********************************************\n",
      "173\n",
      "TABO words:  ignorant\n",
      "25    I don't get it. What's wrong with having a lying, ignorant, unethical incompetent with the attention span and emotional immaturity of a child for president?\n"
     ]
    },
    {
     "data": {
      "text/html": [
       "I don't get it. What's <span style='color:red;' >[wrong]</span> with having a <span style='color:red;' >[lying]</span>, <span style='color:red;' >[ignorant]</span>, <span style='color:red;' >[unethical incompetent]</span> with the <span style='color:red;' >[attention span]</span> and <span style='color:red;' >[emotional immaturity]</span> of a <span style='color:red;' >[child]</span> for <span style='color:red;' >[president]</span>?"
      ],
      "text/plain": [
       "<IPython.core.display.HTML object>"
      ]
     },
     "metadata": {},
     "output_type": "display_data"
    },
    {
     "name": "stdout",
     "output_type": "stream",
     "text": [
      "14 KWS: {'wrong', 'unethical incompetent', 'ignorant', 'incompetent', 'emotional', 'attention', 'emotional immaturity', 'unethical', 'president', 'immaturity', 'child', 'attention span', 'span', 'lying'}\n",
      "*********************************************\n",
      "174\n",
      "TABO words:  burn the village\n",
      "12    Sometimes you have to burn the village in order to save it.\n"
     ]
    },
    {
     "data": {
      "text/html": [
       "Sometimes you have to <span style='color:red;' >[burn]</span> the <span style='color:red;' >[village]</span> in <span style='color:red;' >[order]</span> to <span style='color:red;' >[save]</span> it."
      ],
      "text/plain": [
       "<IPython.core.display.HTML object>"
      ]
     },
     "metadata": {},
     "output_type": "display_data"
    },
    {
     "name": "stdout",
     "output_type": "stream",
     "text": [
      "4 KWS: {'order', 'village', 'burn', 'save'}\n",
      "*********************************************\n",
      "175\n",
      "TABO words:  damn\n",
      "43    This is absolutely disgusting. Of course this garbage has an attached emergency clause. Kate Brown and her liberal cronies who proposed this nonsense need to be deported along with all the damn illegals who they want to support with our money. Screw them!\n"
     ]
    },
    {
     "data": {
      "text/html": [
       "This is <span style='color:red;' >[absolutely disgusting]</span>. Of course this <span style='color:red;' >[garbage]</span> has an <span style='color:red;' >[attached]</span> <span style='color:red;' >[emergency clause]</span>. <span style='color:red;' >[kate brown]</span> and her <span style='color:red;' >[liberal cronies]</span> who <span style='color:red;' >[proposed]</span> this <span style='color:red;' >[nonsense]</span> need to be deported along with all the <span style='color:red;' >[damn illegals]</span> who they want to support with our <span style='color:red;' >[money]</span>. <span style='color:red;' >[screw]</span> them!"
      ],
      "text/plain": [
       "<IPython.core.display.HTML object>"
      ]
     },
     "metadata": {},
     "output_type": "display_data"
    },
    {
     "name": "stdout",
     "output_type": "stream",
     "text": [
      "20 KWS: {'absolutely', 'clause', 'disgusting', 'brown', 'money', 'screw', 'kate', 'absolutely disgusting', 'cronies', 'liberal cronies', 'proposed', 'garbage', 'emergency', 'kate brown', 'attached', 'nonsense', 'emergency clause', 'damn illegals', 'attached emergency', 'liberal'}\n",
      "*********************************************\n",
      "176\n",
      "TABO words:  suck\n",
      "11    But he will be, I promise you...so suck it up lib!\n"
     ]
    },
    {
     "data": {
      "text/html": [
       "But he will be, I <span style='color:red;' >[promise]</span> you...so <span style='color:red;' >[suck]</span> it up <span style='color:red;' >[lib]</span>!"
      ],
      "text/plain": [
       "<IPython.core.display.HTML object>"
      ]
     },
     "metadata": {},
     "output_type": "display_data"
    },
    {
     "name": "stdout",
     "output_type": "stream",
     "text": [
      "3 KWS: {'lib', 'suck', 'promise'}\n",
      "*********************************************\n",
      "177\n",
      "TABO words:  stupid idiots\n",
      "50    Race is a social construction -- zero out skin color and some people will just find new and equally stupid reasons to hate.  See, for instance, sectarian violence in Northern Ireland, genocide in Rwanda, etc., for cases where idiots rose above common skin color to express their needs for bigotry.\n"
     ]
    },
    {
     "data": {
      "text/html": [
       "<span style='color:red;' >[race]</span> is a <span style='color:red;' >[social construction]</span> -- zero out <span style='color:red;' >[skin color]</span> and some <span style='color:red;' >[people]</span> will just <span style='color:red;' >[find]</span> new and <span style='color:red;' >[equally stupid]</span> <span style='color:red;' >[reasons]</span> to <span style='color:red;' >[hate]</span>.  See, for instance, <span style='color:red;' >[sectarian violence]</span> in <span style='color:red;' >[northern ireland]</span>, genocide in <span style='color:red;' >[rwanda]</span>, etc., for cases where idiots rose above common <span style='color:red;' >[skin color]</span> to express their needs for bigotry."
      ],
      "text/plain": [
       "<IPython.core.display.HTML object>"
      ]
     },
     "metadata": {},
     "output_type": "display_data"
    },
    {
     "name": "stdout",
     "output_type": "stream",
     "text": [
      "20 KWS: {'stupid reasons', 'skin', 'equally', 'equally stupid', 'construction', 'color', 'race', 'common skin', 'reasons', 'social', 'find', 'skin color', 'northern ireland', 'hate', 'social construction', 'people', 'stupid', 'rwanda', 'ireland', 'sectarian violence'}\n",
      "*********************************************\n",
      "178\n",
      "TABO words:  Stupid\n",
      "37    Stupid.  Should expect these ideas from Republicans now, they aren't even trying to hide their buffoonry.  The Beatles wrote about 'tax your shoes'.  Think of all the ladies out there with HUNDREDS of pairs of shoes ...\n"
     ]
    },
    {
     "data": {
      "text/html": [
       "<span style='color:red;' >[stupid]</span>.  Should <span style='color:red;' >[expect]</span> these <span style='color:red;' >[ideas]</span> from <span style='color:red;' >[republicans]</span> now, they aren't even trying to <span style='color:red;' >[hide]</span> their <span style='color:red;' >[buffoonry]</span>.  The <span style='color:red;' >[beatles wrote]</span> about <span style='color:red;' >[tax]</span> your <span style='color:red;' >[shoes]</span>'.  Think of all the <span style='color:red;' >[ladies]</span> out there with <span style='color:red;' >[hundreds]</span> of <span style='color:red;' >[pairs]</span> of <span style='color:red;' >[shoes]</span> ..."
      ],
      "text/plain": [
       "<IPython.core.display.HTML object>"
      ]
     },
     "metadata": {},
     "output_type": "display_data"
    },
    {
     "name": "stdout",
     "output_type": "stream",
     "text": [
      "14 KWS: {'wrote', 'expect', 'ladies', 'beatles', 'pairs', 'beatles wrote', 'ideas', 'buffoonry', 'tax', 'hide', 'republicans', 'hundreds', 'stupid', 'shoes'}\n",
      "*********************************************\n",
      "179\n",
      "TABO words:  stupid\n",
      "20    let's hope people aren't quite that stupid again, to forget that governments of any kind can't function without their consent\n"
     ]
    },
    {
     "data": {
      "text/html": [
       "let's <span style='color:red;' >[hope people]</span> aren't quite that <span style='color:red;' >[stupid]</span> again, to <span style='color:red;' >[forget]</span> that <span style='color:red;' >[governments]</span> of any <span style='color:red;' >[kind]</span> can't <span style='color:red;' >[function]</span> without their <span style='color:red;' >[consent]</span>"
      ],
      "text/plain": [
       "<IPython.core.display.HTML object>"
      ]
     },
     "metadata": {},
     "output_type": "display_data"
    },
    {
     "name": "stdout",
     "output_type": "stream",
     "text": [
      "9 KWS: {'forget', 'consent', 'function', 'hope people', 'kind', 'governments', 'people', 'stupid', 'hope'}\n",
      "*********************************************\n",
      "180\n",
      "TABO words:  DO you think we are all stupid?] If they're like you, yes\n",
      "12    [DO you think we are all stupid?] If they're like you, yes.\n"
     ]
    },
    {
     "data": {
      "text/html": [
       "[DO you think we are all stupid?] If they're like you, yes."
      ],
      "text/plain": [
       "<IPython.core.display.HTML object>"
      ]
     },
     "metadata": {},
     "output_type": "display_data"
    },
    {
     "name": "stdout",
     "output_type": "stream",
     "text": [
      "1 KWS: {'stupid'}\n",
      "*********************************************\n",
      "181\n",
      "TABO words:  morons\n",
      "12    He actually makes morons look great.  How much longer before he's impeached?\n"
     ]
    },
    {
     "data": {
      "text/html": [
       "He actually <span style='color:red;' >[makes morons]</span> look <span style='color:red;' >[great]</span>.  How much <span style='color:red;' >[longer]</span> before he's <span style='color:red;' >[impeached]</span>?"
      ],
      "text/plain": [
       "<IPython.core.display.HTML object>"
      ]
     },
     "metadata": {},
     "output_type": "display_data"
    },
    {
     "name": "stdout",
     "output_type": "stream",
     "text": [
      "6 KWS: {'makes morons', 'great', 'morons', 'makes', 'longer', 'impeached'}\n",
      "*********************************************\n",
      "182\n",
      "TABO words:  idiot\n",
      "70    He's a useful idiot - a counterweight to similar out of touch characters such as Maddow and Matthews, who have done their fair share of conspiracy theorizing and conjecture over the last 6 months (most of which have fallen flat - like Maddow's cringe worthy tax return coverage). Difference is, a fringe group within the right follow Jones. Maddow and Matthews on the other hand, are \"journalists\" on major networks.\n"
     ]
    },
    {
     "data": {
      "text/html": [
       "He's a useful <span style='color:red;' >[idiot]</span> - a <span style='color:red;' >[counterweight]</span> to <span style='color:red;' >[similar]</span> out of <span style='color:red;' >[touch characters]</span> such as <span style='color:red;' >[maddow]</span> and <span style='color:red;' >[matthews]</span>, who have done their <span style='color:red;' >[fair share]</span> of <span style='color:red;' >[conspiracy theorizing]</span> and conjecture over the last 6 <span style='color:red;' >[months]</span> (most of which have <span style='color:red;' >[fallen flat]</span> - like Maddow's <span style='color:red;' >[cringe worthy]</span> tax <span style='color:red;' >[return coverage]</span>). Difference is, a fringe group within the right <span style='color:red;' >[follow jones]</span>. <span style='color:red;' >[maddow]</span> and <span style='color:red;' >[matthews]</span> on the other hand, are \"journalists\" on major networks."
      ],
      "text/plain": [
       "<IPython.core.display.HTML object>"
      ]
     },
     "metadata": {},
     "output_type": "display_data"
    },
    {
     "name": "stdout",
     "output_type": "stream",
     "text": [
      "20 KWS: {'fair share', 'matthews', 'idiot', 'flat', 'tax return', 'conspiracy theorizing', 'return coverage', 'follow jones', 'jones', 'coverage', 'similar', 'cringe worthy', 'touch', 'maddow', 'worthy tax', 'months', 'maddow cringe', 'fallen flat', 'touch characters', 'counterweight'}\n",
      "*********************************************\n",
      "183\n",
      "TABO words:  pieces of crap poorly\n",
      "44    Are these some of those Russian pieces of crap that they seem to be building all over Alaska. People don't buy that poorly built Russian houses. You will regret it down the road. Good luck getting them to fix there slapped together houses to.\n"
     ]
    },
    {
     "data": {
      "text/html": [
       "Are these some of those <span style='color:red;' >[russian pieces]</span> of <span style='color:red;' >[crap]</span> that they seem to be <span style='color:red;' >[building]</span> all over <span style='color:red;' >[alaska]</span>. <span style='color:red;' >[people]</span> don't <span style='color:red;' >[buy]</span> that <span style='color:red;' >[poorly]</span> <span style='color:red;' >[built]</span> <span style='color:red;' >[russian]</span> <span style='color:red;' >[houses]</span>. You will <span style='color:red;' >[regret]</span> it down the <span style='color:red;' >[road]</span>. <span style='color:red;' >[good luck]</span> getting them to <span style='color:red;' >[fix]</span> there slapped together <span style='color:red;' >[houses]</span> to."
      ],
      "text/plain": [
       "<IPython.core.display.HTML object>"
      ]
     },
     "metadata": {},
     "output_type": "display_data"
    },
    {
     "name": "stdout",
     "output_type": "stream",
     "text": [
      "20 KWS: {'regret', 'road', 'fix', 'alaska', 'russian pieces', 'buy', 'building', 'poorly', 'pieces', 'luck', 'russian houses', 'crap', 'houses', 'people', 'poorly built', 'russian', 'good luck', 'built russian', 'good', 'built'}\n",
      "*********************************************\n",
      "184\n",
      "TABO words:  silly\n",
      "11    Nurnie/Saullie: and you're back with your foolishness and another silly handle.\n"
     ]
    },
    {
     "data": {
      "text/html": [
       "Nurnie/Saullie: and you're <span style='color:red;' >[back]</span> with your <span style='color:red;' >[foolishness]</span> and another <span style='color:red;' >[silly handle]</span>."
      ],
      "text/plain": [
       "<IPython.core.display.HTML object>"
      ]
     },
     "metadata": {},
     "output_type": "display_data"
    },
    {
     "name": "stdout",
     "output_type": "stream",
     "text": [
      "7 KWS: {'saullie', 'nurnie', 'silly handle', 'foolishness', 'silly', 'handle', 'back'}\n",
      "*********************************************\n",
      "185\n",
      "TABO words: \n",
      "143    Like I said you can't grasp it. We have to put up with intolerant people here because  they were born here. Is it that hard of a concept. We do not let in those who are intolerant and give them Canadian rights. Your kids will have zero tolerance until your kids grow up and start living in the real world, start paying exhorbitant taxes, exhorbitant prices for homes, food, water, bills, etc. Doesn't mean they'll be racist. Just means they'll learn about debts and how we cannot afford to help every poor soul. It is a numbers game and if you haven't noticed our number is at a trillion and Liberals have been projected at an added 1.5 trillion of debt.  Wake your dumb a$$ up. I studied the charter in school way back when and knew it was for CANADIANS not immigrants.\n"
     ]
    },
    {
     "data": {
      "text/html": [
       "Like I said you can't <span style='color:red;' >[grasp]</span> it. We have to <span style='color:red;' >[put]</span> up with <span style='color:red;' >[intolerant]</span> <span style='color:red;' >[people]</span> here because  they were <span style='color:red;' >[born]</span> here. Is it that hard of a <span style='color:red;' >[concept]</span>. We do not let in those who are <span style='color:red;' >[intolerant]</span> and give them <span style='color:red;' >[canadian]</span> rights. Your <span style='color:red;' >[kids]</span> will have zero tolerance until your <span style='color:red;' >[kids]</span> grow up and <span style='color:red;' >[start]</span> living in the <span style='color:red;' >[real world]</span>, <span style='color:red;' >[start]</span> paying <span style='color:red;' >[exhorbitant]</span> taxes, <span style='color:red;' >[exhorbitant]</span> prices for homes, <span style='color:red;' >[food]</span>, <span style='color:red;' >[water]</span>, <span style='color:red;' >[bills]</span>, etc. Doesn't mean they'll be racist. Just means they'll learn about debts and how we cannot afford to help every poor soul. It is a numbers game and if you haven't noticed our number is at a <span style='color:red;' >[trillion]</span> and <span style='color:red;' >[liberals]</span> have been projected at an added 1.5 <span style='color:red;' >[trillion]</span> of debt.  Wake your dumb a$$ up. I studied the charter in school way back when and knew it was for <span style='color:red;' >[canadians]</span> not immigrants."
      ],
      "text/plain": [
       "<IPython.core.display.HTML object>"
      ]
     },
     "metadata": {},
     "output_type": "display_data"
    },
    {
     "name": "stdout",
     "output_type": "stream",
     "text": [
      "20 KWS: {'liberals', 'food', 'start', 'concept', 'born', 'real world', 'canadian', 'canadians', 'water', 'put', 'intolerant', 'intolerant people', 'kids grow', 'kids', 'exhorbitant taxes', 'bills', 'people', 'exhorbitant', 'trillion', 'grasp'}\n",
      "*********************************************\n",
      "186\n",
      "TABO words:  loser\n",
      "56    Yup he is a pathological liar just like your Queen Hillary and Bill Clinton.  Man you need to move on in life.  If you let this loss eat you alive you will probably be jumping off a bridge soon.  get on with your life and accept the results.  I have never seen such a sore loser.\n"
     ]
    },
    {
     "data": {
      "text/html": [
       "<span style='color:red;' >[yup]</span> he is a <span style='color:red;' >[pathological liar]</span> just like your <span style='color:red;' >[queen hillary]</span> and <span style='color:red;' >[bill clinton]</span>.  <span style='color:red;' >[man]</span> you need to <span style='color:red;' >[move]</span> on in <span style='color:red;' >[life]</span>.  If you let this <span style='color:red;' >[loss eat]</span> you <span style='color:red;' >[alive]</span> you will probably be jumping off a bridge soon.  get on with your <span style='color:red;' >[life]</span> and accept the <span style='color:red;' >[results]</span>.  I have never seen such a <span style='color:red;' >[sore loser]</span>."
      ],
      "text/plain": [
       "<IPython.core.display.HTML object>"
      ]
     },
     "metadata": {},
     "output_type": "display_data"
    },
    {
     "name": "stdout",
     "output_type": "stream",
     "text": [
      "20 KWS: {'loss', 'pathological', 'bill clinton', 'life', 'loser', 'man', 'yup', 'queen', 'liar', 'loss eat', 'results', 'queen hillary', 'eat', 'hillary', 'pathological liar', 'bill', 'move', 'alive', 'clinton', 'sore loser'}\n",
      "*********************************************\n",
      "187\n",
      "TABO words:  idiot\n",
      "21    It explains why he is a billionaire and married to a supermodel and you're just a random idiot on the internet.\n"
     ]
    },
    {
     "data": {
      "text/html": [
       "It <span style='color:red;' >[explains]</span> why he is a <span style='color:red;' >[billionaire]</span> and <span style='color:red;' >[married]</span> to a <span style='color:red;' >[supermodel]</span> and you're just a <span style='color:red;' >[random idiot]</span> on the <span style='color:red;' >[internet]</span>."
      ],
      "text/plain": [
       "<IPython.core.display.HTML object>"
      ]
     },
     "metadata": {},
     "output_type": "display_data"
    },
    {
     "name": "stdout",
     "output_type": "stream",
     "text": [
      "8 KWS: {'married', 'explains', 'supermodel', 'random', 'idiot', 'billionaire', 'internet', 'random idiot'}\n",
      "*********************************************\n",
      "188\n",
      "TABO words:  moronski\n",
      "5    Chin is a complete moronski.\n"
     ]
    },
    {
     "data": {
      "text/html": [
       "<span style='color:red;' >[chin]</span> is a <span style='color:red;' >[complete moronski]</span>."
      ],
      "text/plain": [
       "<IPython.core.display.HTML object>"
      ]
     },
     "metadata": {},
     "output_type": "display_data"
    },
    {
     "name": "stdout",
     "output_type": "stream",
     "text": [
      "4 KWS: {'complete', 'moronski', 'chin', 'complete moronski'}\n",
      "*********************************************\n",
      "189\n",
      "TABO words:  darn\n",
      "6    Except the darn population keeps rising.\n"
     ]
    },
    {
     "data": {
      "text/html": [
       "Except the <span style='color:red;' >[darn population]</span> keeps <span style='color:red;' >[rising]</span>."
      ],
      "text/plain": [
       "<IPython.core.display.HTML object>"
      ]
     },
     "metadata": {},
     "output_type": "display_data"
    },
    {
     "name": "stdout",
     "output_type": "stream",
     "text": [
      "4 KWS: {'population', 'darn', 'darn population', 'rising'}\n",
      "*********************************************\n",
      "190\n",
      "TABO words:  Awful\n",
      "2    Awful comment\n"
     ]
    },
    {
     "data": {
      "text/html": [
       "<span style='color:red;' >[awful comment]</span>"
      ],
      "text/plain": [
       "<IPython.core.display.HTML object>"
      ]
     },
     "metadata": {},
     "output_type": "display_data"
    },
    {
     "name": "stdout",
     "output_type": "stream",
     "text": [
      "3 KWS: {'awful comment', 'comment', 'awful'}\n",
      "*********************************************\n",
      "191\n",
      "TABO words:  nations of hypocrites\n",
      "52    When will natives clean up their act and stop using the creations of whiteman?   They don't think they have to. They think it is their moral right to tell us everything they don't like about us.   Until they give up  tshirts,  jeans, pizza, cars, trucks and beer they are  nations of hypocrites.\n"
     ]
    },
    {
     "data": {
      "text/html": [
       "When will <span style='color:red;' >[natives clean]</span> up their <span style='color:red;' >[act]</span> and <span style='color:red;' >[stop]</span> using the <span style='color:red;' >[creations]</span> of <span style='color:red;' >[whiteman]</span>?   They don't think they have to. They think it is their <span style='color:red;' >[moral]</span> right to tell us everything they don't like about us.   Until they <span style='color:red;' >[give]</span> up  <span style='color:red;' >[tshirts]</span>,  <span style='color:red;' >[jeans]</span>, <span style='color:red;' >[pizza]</span>, <span style='color:red;' >[cars]</span>, <span style='color:red;' >[trucks]</span> and <span style='color:red;' >[beer]</span> they are  <span style='color:red;' >[nations]</span> of <span style='color:red;' >[hypocrites]</span>."
      ],
      "text/plain": [
       "<IPython.core.display.HTML object>"
      ]
     },
     "metadata": {},
     "output_type": "display_data"
    },
    {
     "name": "stdout",
     "output_type": "stream",
     "text": [
      "17 KWS: {'creations', 'cars', 'pizza', 'moral', 'tshirts', 'whiteman', 'natives clean', 'clean', 'jeans', 'trucks', 'stop', 'natives', 'nations', 'beer', 'give', 'hypocrites', 'act'}\n",
      "*********************************************\n",
      "192\n",
      "TABO words:  muchsmarterthan morons\n",
      "30    These union as---oles don't care about the animals -why are they unionized anyways....th job requires zero educaton, much like most public jobs - the animals are muchsmarterthan these 400 morons\n"
     ]
    },
    {
     "data": {
      "text/html": [
       "These <span style='color:red;' >[union]</span> as---oles don't <span style='color:red;' >[care]</span> about the <span style='color:red;' >[animals]</span> -why are they <span style='color:red;' >[unionized]</span> anyways....th <span style='color:red;' >[job requires]</span> zero <span style='color:red;' >[educaton]</span>, much like most <span style='color:red;' >[public jobs]</span> - the <span style='color:red;' >[animals]</span> are <span style='color:red;' >[muchsmarterthan]</span> these 400 <span style='color:red;' >[morons]</span>"
      ],
      "text/plain": [
       "<IPython.core.display.HTML object>"
      ]
     },
     "metadata": {},
     "output_type": "display_data"
    },
    {
     "name": "stdout",
     "output_type": "stream",
     "text": [
      "14 KWS: {'care', 'muchsmarterthan', 'public jobs', 'job requires', 'morons', 'union', 'job', 'public', 'oles', 'jobs', 'requires', 'animals', 'unionized', 'educaton'}\n",
      "*********************************************\n",
      "193\n",
      "TABO words:  negligent, reckless, idiot\n",
      "105    This is the kind of negligent, reckless, idiot gun owner that gives responsible gun owners a bad name. Puh-leeeze....you don't fire a gun at a someone OUTSIDE  who is trying to steal THINGS. You call 911 and stay indoors (with your gun enabled to protect your life or family members if someone has actually broken into your house).  This is about as much a \"fluke\" as someone \"accidently\" getting stone-blind drunk and going for a drive and not expecting to hit anything or anyone. This dude shouldn't be allowed to own a gun anymore than a drunk should be allowed to have a driver's license.\n"
     ]
    },
    {
     "data": {
      "text/html": [
       "This is the <span style='color:red;' >[kind]</span> of <span style='color:red;' >[negligent]</span>, <span style='color:red;' >[reckless]</span>, <span style='color:red;' >[idiot]</span> <span style='color:red;' >[gun owner]</span> that gives <span style='color:red;' >[responsible]</span> <span style='color:red;' >[gun owners]</span> a <span style='color:red;' >[bad]</span> name. Puh-leeeze....you don't fire a <span style='color:red;' >[gun]</span> at a someone OUTSIDE  who is trying to <span style='color:red;' >[steal things]</span>. You call 911 and <span style='color:red;' >[stay indoors]</span> (with your <span style='color:red;' >[gun]</span> enabled to protect your life or family members if someone has actually broken into your house).  This is about as much a \"fluke\" as someone \"accidently\" getting stone-blind <span style='color:red;' >[drunk]</span> and going for a drive and not expecting to hit anything or anyone. This dude shouldn't be <span style='color:red;' >[allowed]</span> to own a <span style='color:red;' >[gun]</span> anymore than a <span style='color:red;' >[drunk]</span> should be <span style='color:red;' >[allowed]</span> to have a driver's license."
      ],
      "text/plain": [
       "<IPython.core.display.HTML object>"
      ]
     },
     "metadata": {},
     "output_type": "display_data"
    },
    {
     "name": "stdout",
     "output_type": "stream",
     "text": [
      "20 KWS: {'owner', 'negligent', 'responsible gun', 'idiot', 'allowed', 'responsible', 'reckless', 'things', 'gun owners', 'owners', 'steal things', 'gun anymore', 'bad', 'gun owner', 'drunk', 'kind', 'idiot gun', 'stay indoors', 'gun enabled', 'gun'}\n",
      "*********************************************\n",
      "194\n",
      "TABO words:  sh*t\n",
      "33    It's still B.S. that non - natives have to import Reindeer if they want to raise them. That law is a big crock of sh*t. I would like to raise my own food.\n"
     ]
    },
    {
     "data": {
      "text/html": [
       "It's still B.S. that non - <span style='color:red;' >[natives]</span> have to <span style='color:red;' >[import reindeer]</span> if they want to <span style='color:red;' >[raise]</span> them. That <span style='color:red;' >[law]</span> is a <span style='color:red;' >[big crock]</span> of sh*t. I would like to <span style='color:red;' >[raise]</span> my own <span style='color:red;' >[food]</span>."
      ],
      "text/plain": [
       "<IPython.core.display.HTML object>"
      ]
     },
     "metadata": {},
     "output_type": "display_data"
    },
    {
     "name": "stdout",
     "output_type": "stream",
     "text": [
      "10 KWS: {'import reindeer', 'food', 'law', 'import', 'crock', 'big crock', 'reindeer', 'raise', 'natives', 'big'}\n",
      "*********************************************\n",
      "195\n",
      "TABO words:  shooter\n",
      "127    This was an active shooter who already killed. I'm not sure this is someone we would ever want back out on the street. Only time will tell. Can't save them all. Personally, I think anyone who shoots 6 year olds should die. I'm not interested in giving killers on a shooting spree second chances. Killing his parent, ok, lots of reasons, he could have been abused, or acting in self-defense. We don't know at this point. But a shooting rampage at an elementary school? Never any kind of reason, it was cold blooded attempted murder. To make it worse, now these victims will have to go through a trial and relive this experience over and over for the next few years. I wish they killed the shooter.\n"
     ]
    },
    {
     "data": {
      "text/html": [
       "This was an <span style='color:red;' >[active shooter]</span> who already <span style='color:red;' >[killed]</span>. I'm not sure this is someone we would ever want <span style='color:red;' >[back]</span> out on the <span style='color:red;' >[street]</span>. Only <span style='color:red;' >[time]</span> will tell. Can't save them all. <span style='color:red;' >[personally]</span>, I think anyone who <span style='color:red;' >[shoots]</span> 6 year olds should <span style='color:red;' >[die]</span>. I'm not interested in giving killers on a <span style='color:red;' >[shooting]</span> spree second <span style='color:red;' >[chances]</span>. <span style='color:red;' >[killing]</span> his <span style='color:red;' >[parent]</span>, ok, <span style='color:red;' >[lots]</span> of <span style='color:red;' >[reasons]</span>, he could have been <span style='color:red;' >[abused]</span>, or acting in <span style='color:red;' >[self-defense]</span>. We don't know at this <span style='color:red;' >[point]</span>. But a <span style='color:red;' >[shooting]</span> rampage at an elementary school? Never any kind of <span style='color:red;' >[reason]</span>, it was cold blooded attempted murder. To make it worse, now these victims will have to go through a trial and relive this experience over and over for the next few years. I wish they <span style='color:red;' >[killed]</span> the <span style='color:red;' >[shooter]</span>."
      ],
      "text/plain": [
       "<IPython.core.display.HTML object>"
      ]
     },
     "metadata": {},
     "output_type": "display_data"
    },
    {
     "name": "stdout",
     "output_type": "stream",
     "text": [
      "20 KWS: {'shooter', 'self-defense', 'reason', 'time', 'parent', 'die', 'killing', 'street', 'reasons', 'abused', 'shoots', 'chances', 'point', 'back', 'active shooter', 'active', 'shooting', 'killed', 'personally', 'lots'}\n",
      "*********************************************\n",
      "196\n",
      "TABO words:  moron\n",
      "33    Another Obama failure,  I remember being sick to my stomach when the story first came out.  Time magazine had done a featured article on the men who had died looking for this moron.\n"
     ]
    },
    {
     "data": {
      "text/html": [
       "Another <span style='color:red;' >[obama failure]</span>,  I <span style='color:red;' >[remember]</span> being <span style='color:red;' >[sick]</span> to my <span style='color:red;' >[stomach]</span> when the <span style='color:red;' >[story]</span> first came out.  <span style='color:red;' >[time magazine]</span> had done a <span style='color:red;' >[featured article]</span> on the <span style='color:red;' >[men]</span> who had <span style='color:red;' >[died]</span> looking for this <span style='color:red;' >[moron]</span>."
      ],
      "text/plain": [
       "<IPython.core.display.HTML object>"
      ]
     },
     "metadata": {},
     "output_type": "display_data"
    },
    {
     "name": "stdout",
     "output_type": "stream",
     "text": [
      "16 KWS: {'magazine', 'time magazine', 'moron', 'stomach', 'sick', 'obama failure', 'featured', 'failure', 'featured article', 'story', 'died', 'article', 'remember', 'time', 'obama', 'men'}\n",
      "*********************************************\n",
      "197\n",
      "TABO words:  lynching Heck white folks\n",
      "38    Black folks built this nation and got lynching for the work. Heck, white folks can be so mean that when they lost their slaves they invited illegal Mexican immigrants to do the work black slaves use to do.\n"
     ]
    },
    {
     "data": {
      "text/html": [
       "<span style='color:red;' >[black]</span> <span style='color:red;' >[folks built]</span> this <span style='color:red;' >[nation]</span> and got <span style='color:red;' >[lynching]</span> for the <span style='color:red;' >[work]</span>. <span style='color:red;' >[heck]</span>, <span style='color:red;' >[white]</span> <span style='color:red;' >[folks]</span> can be so mean that when they <span style='color:red;' >[lost]</span> their <span style='color:red;' >[slaves]</span> they <span style='color:red;' >[invited]</span> <span style='color:red;' >[illegal mexican]</span> immigrants to do the <span style='color:red;' >[work]</span> <span style='color:red;' >[black]</span> <span style='color:red;' >[slaves]</span> use to do."
      ],
      "text/plain": [
       "<IPython.core.display.HTML object>"
      ]
     },
     "metadata": {},
     "output_type": "display_data"
    },
    {
     "name": "stdout",
     "output_type": "stream",
     "text": [
      "20 KWS: {'illegal mexican', 'white folks', 'black slaves', 'slaves', 'invited', 'mexican immigrants', 'nation', 'heck', 'black folks', 'black', 'folks', 'lynching', 'white', 'invited illegal', 'lost', 'work black', 'work', 'mexican', 'folks built', 'built'}\n",
      "*********************************************\n",
      "198\n",
      "TABO words:  Hang them high\n",
      "7    Send them to Gitmo!  Hang them high.\n"
     ]
    },
    {
     "data": {
      "text/html": [
       "<span style='color:red;' >[send]</span> them to <span style='color:red;' >[gitmo]</span>!  <span style='color:red;' >[hang]</span> them <span style='color:red;' >[high]</span>."
      ],
      "text/plain": [
       "<IPython.core.display.HTML object>"
      ]
     },
     "metadata": {},
     "output_type": "display_data"
    },
    {
     "name": "stdout",
     "output_type": "stream",
     "text": [
      "4 KWS: {'gitmo', 'hang', 'send', 'high'}\n",
      "*********************************************\n",
      "199\n",
      "TABO words: \n",
      "30    Are Republicans willing to open this violent turn to get the WH? Sounds like a dictator. America is at risk of imploding on the bumper crop of greedy stupid politician's.\n"
     ]
    },
    {
     "data": {
      "text/html": [
       "Are <span style='color:red;' >[republicans]</span> willing to <span style='color:red;' >[open]</span> this <span style='color:red;' >[violent turn]</span> to get the WH? <span style='color:red;' >[sounds]</span> like a <span style='color:red;' >[dictator]</span>. <span style='color:red;' >[america]</span> is at <span style='color:red;' >[risk]</span> of <span style='color:red;' >[imploding]</span> on the <span style='color:red;' >[bumper crop]</span> of <span style='color:red;' >[greedy stupid]</span> politician's."
      ],
      "text/plain": [
       "<IPython.core.display.HTML object>"
      ]
     },
     "metadata": {},
     "output_type": "display_data"
    },
    {
     "name": "stdout",
     "output_type": "stream",
     "text": [
      "18 KWS: {'politician', 'violent', 'stupid politician', 'crop', 'dictator', 'sounds', 'violent turn', 'america', 'bumper crop', 'risk', 'open', 'turn', 'republicans', 'bumper', 'stupid', 'greedy', 'greedy stupid', 'imploding'}\n",
      "*********************************************\n",
      "200\n",
      "TABO words:  Nazi little dirty cowardly\n",
      "41    When was Nazi Germany part of Canada Brissy?\n",
      "\n",
      "The sad little fact is that sometimes, sometimes, evil needs to be met on its own turf.\n",
      "\n",
      "Luckily for some, other courageous people often offer to do the dirty work for the cowardly.\n"
     ]
    },
    {
     "data": {
      "text/html": [
       "When was <span style='color:red;' >[nazi germany]</span> <span style='color:red;' >[part]</span> of <span style='color:red;' >[canada brissy]</span>?  The <span style='color:red;' >[sad]</span> little <span style='color:red;' >[fact]</span> is that sometimes, sometimes, <span style='color:red;' >[evil]</span> needs to be <span style='color:red;' >[met]</span> on its own <span style='color:red;' >[turf]</span>.  <span style='color:red;' >[luckily]</span> for some, other <span style='color:red;' >[courageous people]</span> often <span style='color:red;' >[offer]</span> to do the <span style='color:red;' >[dirty work]</span> for the <span style='color:red;' >[cowardly]</span>."
      ],
      "text/plain": [
       "<IPython.core.display.HTML object>"
      ]
     },
     "metadata": {},
     "output_type": "display_data"
    },
    {
     "name": "stdout",
     "output_type": "stream",
     "text": [
      "20 KWS: {'sad', 'brissy', 'germany part', 'nazi germany', 'evil', 'luckily', 'courageous people', 'dirty work', 'part', 'offer', 'cowardly', 'germany', 'fact', 'turf', 'courageous', 'people', 'met', 'canada brissy', 'nazi', 'canada'}\n",
      "*********************************************\n",
      "201\n",
      "TABO words:  Stupid idiotic\n",
      "14    Stupid idiotic environmental alarmist.  News to you obviously.  One of hundreds of posts.   \n",
      "http://www.salon.com/2006/03/22/peakoil/\n"
     ]
    },
    {
     "data": {
      "text/html": [
       "<span style='color:red;' >[stupid idiotic]</span> <span style='color:red;' >[environmental alarmist]</span>.  News to you obviously.  One of <span style='color:red;' >[hundreds]</span> of <span style='color:red;' >[posts]</span>.    "
      ],
      "text/plain": [
       "<IPython.core.display.HTML object>"
      ]
     },
     "metadata": {},
     "output_type": "display_data"
    },
    {
     "name": "stdout",
     "output_type": "stream",
     "text": [
      "9 KWS: {'environmental alarmist', 'environmental', 'idiotic', 'stupid idiotic', 'idiotic environmental', 'alarmist', 'posts', 'hundreds', 'stupid'}\n",
      "*********************************************\n",
      "202\n",
      "TABO words:  sucker shooting sucker\n",
      "86    Less than six months into his presidency, it's clear that Trump is unfit for office.\n",
      "\n",
      "“There is a sucker born every minute\n",
      "Each time the second hand sweeps to the top\n",
      "Like dandelions up they pop,\n",
      "Their ears so big, their eyes so wide.\n",
      "And though I feed ‘em bona fide baloney\n",
      "With no truth in it\n",
      "Why you can bet I’ll find some rube to buy my corn.\n",
      "‘Cause there’s a sure-as-shooting sucker born a minute,\n",
      "And I’m referrin’ to the minute you were born.”\n"
     ]
    },
    {
     "data": {
      "text/html": [
       "Less than six <span style='color:red;' >[months]</span> into his <span style='color:red;' >[presidency]</span>, it's <span style='color:red;' >[clear]</span> that <span style='color:red;' >[trump]</span> is <span style='color:red;' >[unfit]</span> for <span style='color:red;' >[office]</span>.  “There is a <span style='color:red;' >[sucker]</span> <span style='color:red;' >[born]</span> every <span style='color:red;' >[minute]</span> Each <span style='color:red;' >[time]</span> the second <span style='color:red;' >[hand]</span> <span style='color:red;' >[sweeps]</span> to the <span style='color:red;' >[top]</span> Like dandelions up they <span style='color:red;' >[pop]</span>, Their ears so <span style='color:red;' >[big]</span>, their eyes so <span style='color:red;' >[wide]</span>. And though I <span style='color:red;' >[feed]</span> ‘em bona fide <span style='color:red;' >[baloney]</span> With no truth in it Why you can bet I’ll find some rube to buy my <span style='color:red;' >[corn]</span>. ‘Cause there’s a sure-as-shooting <span style='color:red;' >[sucker]</span> <span style='color:red;' >[born]</span> a <span style='color:red;' >[minute]</span>, And I’m referrin’ to the <span style='color:red;' >[minute]</span> you were born.”"
      ],
      "text/plain": [
       "<IPython.core.display.HTML object>"
      ]
     },
     "metadata": {},
     "output_type": "display_data"
    },
    {
     "name": "stdout",
     "output_type": "stream",
     "text": [
      "20 KWS: {'feed', 'presidency', 'wide', 'born', 'hand', 'office', 'sucker born', 'clear', 'sucker', 'trump', 'baloney', 'top', 'pop', 'big', 'sweeps', 'months', 'minute', 'corn', 'time', 'unfit'}\n",
      "*********************************************\n",
      "203\n",
      "TABO words:  idiot\n",
      "15    Mr. Keller: \n",
      "Excellent Sir, its called keeping your Powder Dry. \n",
      "\n",
      "PS: Mulcair, is an idiot.\n"
     ]
    },
    {
     "data": {
      "text/html": [
       "Mr. <span style='color:red;' >[keller]</span>:  <span style='color:red;' >[excellent sir]</span>, its <span style='color:red;' >[called keeping]</span> your <span style='color:red;' >[powder dry]</span>.   PS: <span style='color:red;' >[mulcair]</span>, is an <span style='color:red;' >[idiot]</span>."
      ],
      "text/plain": [
       "<IPython.core.display.HTML object>"
      ]
     },
     "metadata": {},
     "output_type": "display_data"
    },
    {
     "name": "stdout",
     "output_type": "stream",
     "text": [
      "12 KWS: {'excellent sir', 'powder dry', 'dry', 'called', 'idiot', 'mulcair', 'called keeping', 'keeping', 'powder', 'sir', 'excellent', 'keller'}\n",
      "*********************************************\n",
      "204\n",
      "TABO words:  to hate the poor rascal\n",
      "18    I love Edith and \"love to hate\" Archie, even if I'm not able to hate the poor rascal.\n"
     ]
    },
    {
     "data": {
      "text/html": [
       "I <span style='color:red;' >[love edith]</span> and \"<span style='color:red;' >[love]</span> to <span style='color:red;' >[hate]</span>\" <span style='color:red;' >[archie]</span>, even if I'm not able to <span style='color:red;' >[hate]</span> the <span style='color:red;' >[poor rascal]</span>."
      ],
      "text/plain": [
       "<IPython.core.display.HTML object>"
      ]
     },
     "metadata": {},
     "output_type": "display_data"
    },
    {
     "name": "stdout",
     "output_type": "stream",
     "text": [
      "8 KWS: {'archie', 'love edith', 'poor', 'love', 'rascal', 'hate', 'edith', 'poor rascal'}\n",
      "*********************************************\n",
      "205\n",
      "TABO words:  clueless\n",
      "9    More headline-grabbing non-action without substance by the clueless one.\n"
     ]
    },
    {
     "data": {
      "text/html": [
       "More <span style='color:red;' >[headline-grabbing non-action]</span> without <span style='color:red;' >[substance]</span> by the <span style='color:red;' >[clueless]</span> one."
      ],
      "text/plain": [
       "<IPython.core.display.HTML object>"
      ]
     },
     "metadata": {},
     "output_type": "display_data"
    },
    {
     "name": "stdout",
     "output_type": "stream",
     "text": [
      "5 KWS: {'headline-grabbing', 'substance', 'clueless', 'headline-grabbing non-action', 'non-action'}\n",
      "*********************************************\n",
      "206\n",
      "TABO words:  Gays restraint\n",
      "58    True, but Gays and Lesbians should show a little restraint in their behavior.  Kissing and making out in front of children is taking it too far.  I read that this is what happened in front of the shooter's little 3 year old boy and that is what set him off.  That kind of behavior by Gays is extremism.\n"
     ]
    },
    {
     "data": {
      "text/html": [
       "<span style='color:red;' >[true]</span>, but <span style='color:red;' >[gays]</span> and <span style='color:red;' >[lesbians]</span> should <span style='color:red;' >[show]</span> a little <span style='color:red;' >[restraint]</span> in their <span style='color:red;' >[behavior]</span>.  <span style='color:red;' >[kissing]</span> and <span style='color:red;' >[making]</span> out in <span style='color:red;' >[front]</span> of <span style='color:red;' >[children]</span> is <span style='color:red;' >[taking]</span> it too far.  I <span style='color:red;' >[read]</span> that this is what <span style='color:red;' >[happened]</span> in <span style='color:red;' >[front]</span> of the shooter's little 3 <span style='color:red;' >[year]</span> old <span style='color:red;' >[boy]</span> and that is what <span style='color:red;' >[set]</span> him off.  That <span style='color:red;' >[kind]</span> of <span style='color:red;' >[behavior]</span> by <span style='color:red;' >[gays]</span> is <span style='color:red;' >[extremism]</span>."
      ],
      "text/plain": [
       "<IPython.core.display.HTML object>"
      ]
     },
     "metadata": {},
     "output_type": "display_data"
    },
    {
     "name": "stdout",
     "output_type": "stream",
     "text": [
      "19 KWS: {'gays', 'happened', 'true', 'shooter', 'boy', 'restraint', 'children', 'kind', 'front', 'extremism', 'lesbians', 'making', 'kissing', 'read', 'set', 'year', 'show', 'taking', 'behavior'}\n",
      "*********************************************\n",
      "207\n",
      "TABO words:  idiotic\n",
      "58    The billion+ citizens of emerging ecomomies like China and India have a thirst for our conveneiences but can't afford electric cars.\n",
      "\n",
      "They will easily fill the void of anyone who's foolish enough to buy an electric car once we run out of money subsidizing the 1%er's who already could afford these hyper-expensive vehicles even without these idiotic subsidies.\n"
     ]
    },
    {
     "data": {
      "text/html": [
       "The billion+ <span style='color:red;' >[citizens]</span> of <span style='color:red;' >[emerging ecomomies]</span> like <span style='color:red;' >[china]</span> and <span style='color:red;' >[india]</span> have a <span style='color:red;' >[thirst]</span> for our <span style='color:red;' >[conveneiences]</span> but can't <span style='color:red;' >[afford]</span> <span style='color:red;' >[electric cars]</span>.  They will <span style='color:red;' >[easily fill]</span> the void of anyone who's foolish enough to buy an <span style='color:red;' >[electric]</span> <span style='color:red;' >[car]</span> once we run out of <span style='color:red;' >[money subsidizing]</span> the 1%er's who already could <span style='color:red;' >[afford]</span> these <span style='color:red;' >[hyper-expensive vehicles]</span> even without these <span style='color:red;' >[idiotic subsidies]</span>."
      ],
      "text/plain": [
       "<IPython.core.display.HTML object>"
      ]
     },
     "metadata": {},
     "output_type": "display_data"
    },
    {
     "name": "stdout",
     "output_type": "stream",
     "text": [
      "20 KWS: {'billion', 'cars', 'car', 'easily fill', 'emerging ecomomies', 'conveneiences', 'ecomomies', 'money subsidizing', 'subsidies', 'electric cars', 'afford', 'thirst', 'citizens', 'idiotic subsidies', 'emerging', 'hyper-expensive vehicles', 'afford electric', 'china', 'india', 'electric'}\n",
      "*********************************************\n",
      "208\n",
      "TABO words:  stupid\n",
      "11    Berkie and the dead beats get paid to do stupid stuff.\n"
     ]
    },
    {
     "data": {
      "text/html": [
       "<span style='color:red;' >[berkie]</span> and the <span style='color:red;' >[dead beats]</span> get <span style='color:red;' >[paid]</span> to do <span style='color:red;' >[stupid stuff]</span>."
      ],
      "text/plain": [
       "<IPython.core.display.HTML object>"
      ]
     },
     "metadata": {},
     "output_type": "display_data"
    },
    {
     "name": "stdout",
     "output_type": "stream",
     "text": [
      "8 KWS: {'stuff', 'beats', 'dead', 'paid', 'berkie', 'dead beats', 'stupid', 'stupid stuff'}\n",
      "*********************************************\n",
      "209\n",
      "TABO words:  dumb\n",
      "11    Yeah, it gets so dumb it almost reaches the far right.\n"
     ]
    },
    {
     "data": {
      "text/html": [
       "<span style='color:red;' >[yeah]</span>, it gets so <span style='color:red;' >[dumb]</span> it almost <span style='color:red;' >[reaches]</span> the far right."
      ],
      "text/plain": [
       "<IPython.core.display.HTML object>"
      ]
     },
     "metadata": {},
     "output_type": "display_data"
    },
    {
     "name": "stdout",
     "output_type": "stream",
     "text": [
      "3 KWS: {'yeah', 'reaches', 'dumb'}\n",
      "*********************************************\n",
      "210\n",
      "TABO words:  bitch pussy\n",
      "20    gay probably poor also otherwise he could of moved on her like a bitch and grabbed her by the pussy\n"
     ]
    },
    {
     "data": {
      "text/html": [
       "<span style='color:red;' >[gay]</span> probably <span style='color:red;' >[poor]</span> also otherwise he could of <span style='color:red;' >[moved]</span> on her like a <span style='color:red;' >[bitch]</span> and <span style='color:red;' >[grabbed]</span> her by the <span style='color:red;' >[pussy]</span>"
      ],
      "text/plain": [
       "<IPython.core.display.HTML object>"
      ]
     },
     "metadata": {},
     "output_type": "display_data"
    },
    {
     "name": "stdout",
     "output_type": "stream",
     "text": [
      "6 KWS: {'bitch', 'poor', 'pussy', 'moved', 'grabbed', 'gay'}\n",
      "*********************************************\n",
      "211\n",
      "TABO words:  Typical liberal\n",
      "13    Same old crap yell racism when he is losing the argument. Typical liberal.\n"
     ]
    },
    {
     "data": {
      "text/html": [
       "Same old <span style='color:red;' >[crap yell]</span> <span style='color:red;' >[racism]</span> when he is <span style='color:red;' >[losing]</span> the <span style='color:red;' >[argument]</span>. <span style='color:red;' >[typical liberal]</span>."
      ],
      "text/plain": [
       "<IPython.core.display.HTML object>"
      ]
     },
     "metadata": {},
     "output_type": "display_data"
    },
    {
     "name": "stdout",
     "output_type": "stream",
     "text": [
      "10 KWS: {'liberal', 'yell', 'typical', 'yell racism', 'argument', 'racism', 'losing', 'crap', 'typical liberal', 'crap yell'}\n",
      "*********************************************\n",
      "212\n",
      "TABO words:  liar hypocrite Hypocrites\n",
      "106    Amy Demboski is a liar and a hypocrite. She was on welfare as a single mom (Denali kid care), and now condemns the practice as \"socialism\". I am all for social programs to help those in need; It keeps people off the streets, reduces criminal activity, and keeps me safer and with a much better community outlook. Remove these programs and EVERYONE'S lives suffer. I have worked hard all my life, have a  great job with a good income, and I am HAPPY to pay taxes to support these programs. Hypocrites like Demboski are working for their own advancement and are putting your lifestyle in jeapordy.\n"
     ]
    },
    {
     "data": {
      "text/html": [
       "<span style='color:red;' >[amy demboski]</span> is a <span style='color:red;' >[liar]</span> and a hypocrite. She was on <span style='color:red;' >[welfare]</span> as a <span style='color:red;' >[single mom]</span> (<span style='color:red;' >[denali kid]</span> <span style='color:red;' >[care]</span>), and now condemns the practice as \"<span style='color:red;' >[socialism]</span>\". I am all for social <span style='color:red;' >[programs]</span> to help those in need; It keeps people off the streets, <span style='color:red;' >[reduces criminal]</span> activity, and keeps me safer and with a much better <span style='color:red;' >[community outlook]</span>. Remove these <span style='color:red;' >[programs]</span> and EVERYONE'S <span style='color:red;' >[lives suffer]</span>. I have worked hard all my life, have a  great job with a good income, and I am <span style='color:red;' >[happy]</span> to pay taxes to support these <span style='color:red;' >[programs]</span>. Hypocrites like <span style='color:red;' >[demboski]</span> are working for their own advancement and are putting your lifestyle in jeapordy."
      ],
      "text/plain": [
       "<IPython.core.display.HTML object>"
      ]
     },
     "metadata": {},
     "output_type": "display_data"
    },
    {
     "name": "stdout",
     "output_type": "stream",
     "text": [
      "20 KWS: {'welfare', 'happy', 'kid care', 'denali', 'criminal activity', 'socialism', 'liar', 'care', 'single mom', 'reduces criminal', 'denali kid', 'community outlook', 'mom', 'lives suffer', 'social programs', 'demboski', 'amy demboski', 'programs', 'amy', 'single'}\n",
      "*********************************************\n",
      "213\n",
      "TABO words:  moron stupid\n",
      "129    Honestly Gary you are a moron. Is Trudeau with his bloodline somehow inherently more qualified? Gary, you are the definition of exactly what the entire US media, bowing to Hillary and actually working for her while pretending to be impartial, is also clearly true of the Canadian media. Grow up, stop being a completely out of touch elitist. There is a Canadian running to be a head of a party that cares about the future of this country and who has made it in this world creating jobs and employing people - that does not make him inherently stupid, out of touch, and Trump like - it makes him a caring Canadian that wants to help. I seriously can't stand people like yourself that offer nothing but hot air.\n"
     ]
    },
    {
     "data": {
      "text/html": [
       "<span style='color:red;' >[honestly gary]</span> you are a <span style='color:red;' >[moron]</span>. Is <span style='color:red;' >[trudeau]</span> with his <span style='color:red;' >[bloodline]</span> somehow <span style='color:red;' >[inherently]</span> more <span style='color:red;' >[qualified]</span>? <span style='color:red;' >[gary]</span>, you are the definition of exactly what the entire US <span style='color:red;' >[media]</span>, <span style='color:red;' >[bowing]</span> to <span style='color:red;' >[hillary]</span> and actually working for her while pretending to be impartial, is also clearly true of the <span style='color:red;' >[canadian]</span> <span style='color:red;' >[media]</span>. Grow up, stop being a completely out of <span style='color:red;' >[touch]</span> elitist. There is a <span style='color:red;' >[canadian]</span> running to be a head of a party that cares about the future of this country and who has made it in this world creating jobs and employing <span style='color:red;' >[people]</span> - that does not make him <span style='color:red;' >[inherently]</span> stupid, out of <span style='color:red;' >[touch]</span>, and <span style='color:red;' >[trump]</span> like - it makes him a caring <span style='color:red;' >[canadian]</span> that wants to help. I seriously can't stand <span style='color:red;' >[people]</span> like yourself that offer nothing but hot air."
      ],
      "text/plain": [
       "<IPython.core.display.HTML object>"
      ]
     },
     "metadata": {},
     "output_type": "display_data"
    },
    {
     "name": "stdout",
     "output_type": "stream",
     "text": [
      "20 KWS: {'moron', 'gary', 'bowing', 'inherently stupid', 'touch elitist', 'canadian', 'bloodline', 'trudeau', 'touch', 'trump', 'media', 'inherently', 'canadian running', 'caring canadian', 'hillary', 'people', 'honestly gary', 'canadian media', 'honestly', 'qualified'}\n",
      "*********************************************\n",
      "214\n",
      "TABO words:  shut up\n",
      "22    Let us know when you actually have any evidence.\n",
      "\n",
      "We've been waiting for over a year now.\n",
      "\n",
      "Put up or shut up.\n"
     ]
    },
    {
     "data": {
      "text/html": [
       "Let us know when you actually have any <span style='color:red;' >[evidence]</span>.  We've been <span style='color:red;' >[waiting]</span> for over a <span style='color:red;' >[year]</span> now.  <span style='color:red;' >[put]</span> up or <span style='color:red;' >[shut]</span> up."
      ],
      "text/plain": [
       "<IPython.core.display.HTML object>"
      ]
     },
     "metadata": {},
     "output_type": "display_data"
    },
    {
     "name": "stdout",
     "output_type": "stream",
     "text": [
      "5 KWS: {'evidence', 'put', 'waiting', 'year', 'shut'}\n",
      "*********************************************\n",
      "215\n",
      "TABO words:  hypocrites\n",
      "29    You are so correct SKL - the left makes such a big deal about so called \"bullying\" yet it's perfectly fine if they do it.  They're such disgraceful hypocrites.\n"
     ]
    },
    {
     "data": {
      "text/html": [
       "You are so <span style='color:red;' >[correct skl]</span> - the <span style='color:red;' >[left makes]</span> such a <span style='color:red;' >[big deal]</span> about so <span style='color:red;' >[called]</span> \"<span style='color:red;' >[bullying]</span>\" yet it's <span style='color:red;' >[perfectly fine]</span> if they do it.  They're such <span style='color:red;' >[disgraceful hypocrites]</span>."
      ],
      "text/plain": [
       "<IPython.core.display.HTML object>"
      ]
     },
     "metadata": {},
     "output_type": "display_data"
    },
    {
     "name": "stdout",
     "output_type": "stream",
     "text": [
      "17 KWS: {'left', 'bullying', 'hypocrites', 'big deal', 'called', 'disgraceful', 'skl', 'disgraceful hypocrites', 'makes', 'correct skl', 'correct', 'big', 'deal', 'fine', 'perfectly fine', 'left makes', 'perfectly'}\n",
      "*********************************************\n",
      "216\n",
      "TABO words:  stupid\n",
      "37    I am a firm believer that stupid individuals cause much more harm than malicious individuals.\n",
      "\n",
      "This has very strong support in academic research. See the following paper:\n",
      "\n",
      "_The Basic Laws of Human Stupidity_ at\n",
      "\n",
      "https://trusttheneighbors.files.wordpress.com/2016/05/blhs.pdf\n",
      "\n",
      "-- Paul\n"
     ]
    },
    {
     "data": {
      "text/html": [
       "I am a <span style='color:red;' >[firm believer]</span> that <span style='color:red;' >[stupid individuals]</span> cause much more <span style='color:red;' >[harm]</span> than <span style='color:red;' >[malicious individuals]</span>.  This has very <span style='color:red;' >[strong support]</span> in <span style='color:red;' >[academic research]</span>. See the following <span style='color:red;' >[paper]</span>:  _The <span style='color:red;' >[basic laws]</span> of <span style='color:red;' >[human]</span> Stupidity_ at  -- <span style='color:red;' >[paul]</span>"
      ],
      "text/plain": [
       "<IPython.core.display.HTML object>"
      ]
     },
     "metadata": {},
     "output_type": "display_data"
    },
    {
     "name": "stdout",
     "output_type": "stream",
     "text": [
      "20 KWS: {'paul', 'human', 'basic', 'paper', 'malicious individuals', 'firm believer', 'laws', 'stupid individuals', 'basic laws', 'malicious', 'harm', 'academic research', 'research', 'firm', 'believer', 'stupid', 'strong support', 'individuals', 'human stupidity', 'stupidity'}\n",
      "*********************************************\n",
      "217\n",
      "TABO words:  stupidest\n",
      "40    151 years ago economist, philosopher and Liberal Member of Parliament John Stuart Mill famously referred to the (British) Conservative Party as \"the stupidest party\".\n",
      "\n",
      "And for almost that long conservative parties around the world have strived to prove him right.\n"
     ]
    },
    {
     "data": {
      "text/html": [
       "151 <span style='color:red;' >[years ago]</span> economist, philosopher and <span style='color:red;' >[liberal member]</span> of <span style='color:red;' >[parliament john]</span> <span style='color:red;' >[stuart mill]</span> <span style='color:red;' >[famously referred]</span> to the (<span style='color:red;' >[british]</span>) <span style='color:red;' >[conservative party]</span> as \"the <span style='color:red;' >[stupidest party]</span>\".  And for almost that <span style='color:red;' >[long conservative]</span> parties around the world have strived to prove him right."
      ],
      "text/plain": [
       "<IPython.core.display.HTML object>"
      ]
     },
     "metadata": {},
     "output_type": "display_data"
    },
    {
     "name": "stdout",
     "output_type": "stream",
     "text": [
      "20 KWS: {'stupidest party', 'british', 'parliament john', 'john stuart', 'mill famously', 'parliament', 'conservative parties', 'member', 'years ago', 'conservative party', 'party', 'mill', 'john', 'long conservative', 'liberal member', 'stuart', 'famously referred', 'stuart mill', 'ago economist', 'liberal'}\n",
      "*********************************************\n",
      "218\n",
      "TABO words:  sucks\n",
      "52    Avoiding \"iffy\" weather is not a solution.  Weather changes fast.  Pilots must be equipped and possess the skills to deal with it.  Regulators would do well to acknowledge this and stop with all the cowboy vs choir-boy talk.  And giving Medallion more money is not going to help either, because Medallion sucks.\n"
     ]
    },
    {
     "data": {
      "text/html": [
       "<span style='color:red;' >[avoiding]</span> \"<span style='color:red;' >[iffy]</span>\" <span style='color:red;' >[weather]</span> is not a <span style='color:red;' >[solution]</span>.  <span style='color:red;' >[weather]</span> changes <span style='color:red;' >[fast]</span>.  <span style='color:red;' >[pilots]</span> must be <span style='color:red;' >[equipped]</span> and <span style='color:red;' >[possess]</span> the <span style='color:red;' >[skills]</span> to <span style='color:red;' >[deal]</span> with it.  <span style='color:red;' >[regulators]</span> would do well to <span style='color:red;' >[acknowledge]</span> this and <span style='color:red;' >[stop]</span> with all the <span style='color:red;' >[cowboy]</span> vs <span style='color:red;' >[choir-boy talk]</span>.  And giving <span style='color:red;' >[medallion]</span> more money is not going to help either, because <span style='color:red;' >[medallion]</span> <span style='color:red;' >[sucks]</span>."
      ],
      "text/plain": [
       "<IPython.core.display.HTML object>"
      ]
     },
     "metadata": {},
     "output_type": "display_data"
    },
    {
     "name": "stdout",
     "output_type": "stream",
     "text": [
      "20 KWS: {'solution', 'fast', 'talk', 'medallion sucks', 'medallion', 'possess', 'avoiding', 'skills', 'pilots', 'equipped', 'deal', 'weather', 'stop', 'regulators', 'cowboy', 'iffy', 'giving medallion', 'acknowledge', 'choir-boy talk', 'sucks'}\n",
      "*********************************************\n",
      "219\n",
      "TABO words: \n",
      "12    Insured through Eskom , will honour anything for that corrupt fucker .\n"
     ]
    },
    {
     "data": {
      "text/html": [
       "<span style='color:red;' >[insured]</span> through <span style='color:red;' >[eskom]</span> , will <span style='color:red;' >[honour]</span> anything for that <span style='color:red;' >[corrupt fucker]</span> ."
      ],
      "text/plain": [
       "<IPython.core.display.HTML object>"
      ]
     },
     "metadata": {},
     "output_type": "display_data"
    },
    {
     "name": "stdout",
     "output_type": "stream",
     "text": [
      "6 KWS: {'eskom', 'corrupt fucker', 'honour', 'corrupt', 'fucker', 'insured'}\n",
      "*********************************************\n",
      "220\n",
      "TABO words:  And guess what Dick the pervert Weinstein is the face of your pathetic party\n",
      "91    The people \"in on this big conspiracy\" are Weinstein's actual victims, whose cries over the last several decades are now finally being addressed.\n",
      "\n",
      "And guess what Dick, it's liberals who have been exposing the \"big conspiracy\"-\n",
      "https://www.thewrap.com/media-enablers-harvey-weinstein-new-york-times/amp/\n",
      "https://www.newyorker.com/news/news-desk/from-aggressive-overtures-to-sexual-assault-harvey-weinsteins-accusers-tell-their-stories\n",
      "\n",
      "It's predictable though that you would continue to try and deflect this blockbuster Dem scandal- from Weinstein being a huge Dem fundraiser, to the leftists in Hollywood and the media covering and enabling the pervert- and twist this into being a Republican problem.\n",
      "\n",
      "Weinstein is the face of your pathetic party.\n",
      "\n",
      "Own him.\n"
     ]
    },
    {
     "data": {
      "text/html": [
       "The <span style='color:red;' >[people]</span> \"in on this <span style='color:red;' >[big conspiracy]</span>\" are Weinstein's <span style='color:red;' >[actual victims]</span>, whose <span style='color:red;' >[cries]</span> over the last several <span style='color:red;' >[decades]</span> are now <span style='color:red;' >[finally]</span> being <span style='color:red;' >[addressed]</span>.  And guess what <span style='color:red;' >[dick]</span>, it's liberals who have been exposing the \"<span style='color:red;' >[big]</span> conspiracy\"- It's predictable though that you would continue to try and deflect this blockbuster <span style='color:red;' >[dem]</span> scandal- from <span style='color:red;' >[weinstein]</span> being a huge <span style='color:red;' >[dem fundraiser]</span>, to the leftists in Hollywood and the media covering and enabling the pervert- and twist this into being a <span style='color:red;' >[republican problem]</span>.  <span style='color:red;' >[weinstein]</span> is the face of your pathetic party.  Own him."
      ],
      "text/plain": [
       "<IPython.core.display.HTML object>"
      ]
     },
     "metadata": {},
     "output_type": "display_data"
    },
    {
     "name": "stdout",
     "output_type": "stream",
     "text": [
      "20 KWS: {'actual victims', 'victims', 'addressed', 'dem', 'weinstein', 'conspiracy', 'big conspiracy', 'blockbuster dem', 'cries', 'dick', 'decades', 'big', 'republican problem', 'people', 'actual', 'dem fundraiser', 'dem scandal', 'huge dem', 'finally', 'weinstein actual'}\n",
      "*********************************************\n",
      "221\n",
      "TABO words:  garbage\n",
      "17    Utter garbage.\n",
      "Oil companies AREN'T subsidized, and the taxes collected keep Quebec solvent.\n",
      "Stop lying, and whining.\n"
     ]
    },
    {
     "data": {
      "text/html": [
       "<span style='color:red;' >[utter garbage]</span>. <span style='color:red;' >[oil companies]</span> AREN'T <span style='color:red;' >[subsidized]</span>, and the <span style='color:red;' >[taxes collected]</span> keep <span style='color:red;' >[quebec solvent]</span>. <span style='color:red;' >[stop lying]</span>, and <span style='color:red;' >[whining]</span>."
      ],
      "text/plain": [
       "<IPython.core.display.HTML object>"
      ]
     },
     "metadata": {},
     "output_type": "display_data"
    },
    {
     "name": "stdout",
     "output_type": "stream",
     "text": [
      "17 KWS: {'stop lying', 'companies', 'taxes collected', 'quebec', 'subsidized', 'utter garbage', 'garbage', 'quebec solvent', 'stop', 'solvent', 'oil', 'whining', 'taxes', 'collected', 'lying', 'oil companies', 'utter'}\n",
      "*********************************************\n",
      "222\n",
      "TABO words:  fool\n",
      "16    Never argue with a fool. Onlookers may not be able to tell the difference!\n",
      "\n",
      "Mark Twain\n"
     ]
    },
    {
     "data": {
      "text/html": [
       "Never <span style='color:red;' >[argue]</span> with a <span style='color:red;' >[fool]</span>. <span style='color:red;' >[onlookers]</span> may not be able to tell the <span style='color:red;' >[difference]</span>!  <span style='color:red;' >[mark twain]</span>"
      ],
      "text/plain": [
       "<IPython.core.display.HTML object>"
      ]
     },
     "metadata": {},
     "output_type": "display_data"
    },
    {
     "name": "stdout",
     "output_type": "stream",
     "text": [
      "7 KWS: {'onlookers', 'fool', 'twain', 'difference', 'argue', 'mark', 'mark twain'}\n",
      "*********************************************\n",
      "223\n",
      "TABO words:  bait trolls\n",
      "10    Oh Willy!!  You took his bait!  Ignore trolls like that.\n"
     ]
    },
    {
     "data": {
      "text/html": [
       "Oh <span style='color:red;' >[willy]</span>!!  You took his <span style='color:red;' >[bait]</span>!  <span style='color:red;' >[ignore]</span> <span style='color:red;' >[trolls]</span> like that."
      ],
      "text/plain": [
       "<IPython.core.display.HTML object>"
      ]
     },
     "metadata": {},
     "output_type": "display_data"
    },
    {
     "name": "stdout",
     "output_type": "stream",
     "text": [
      "5 KWS: {'ignore trolls', 'bait', 'trolls', 'willy', 'ignore'}\n",
      "*********************************************\n",
      "224\n",
      "TABO words:  Idiot\n",
      "1    Idiot!\n"
     ]
    },
    {
     "data": {
      "text/html": [
       "<span style='color:red;' >[idiot]</span>!"
      ],
      "text/plain": [
       "<IPython.core.display.HTML object>"
      ]
     },
     "metadata": {},
     "output_type": "display_data"
    },
    {
     "name": "stdout",
     "output_type": "stream",
     "text": [
      "1 KWS: {'idiot'}\n",
      "*********************************************\n",
      "225\n",
      "TABO words:  Black men\n",
      "92    \"Black men are primarily responsible for that.\" This part of your statement is true. This country would not exist were it not for millions of black slaves. The colonies from Maryland south would never have joined the \"Revolution\" without protections for race based slavery. We would be more like Canada without race based slavery.  In 1860, 80% of the wealth of the nation was from slaves, slave labor, and the products that labor produced. The violence today is a product of our history. The rest of your statement is just fake news.\n"
     ]
    },
    {
     "data": {
      "text/html": [
       "\"<span style='color:red;' >[black men]</span> are <span style='color:red;' >[primarily responsible]</span> for that.\" This part of your <span style='color:red;' >[statement]</span> is <span style='color:red;' >[true]</span>. This country would not exist were it not for millions of <span style='color:red;' >[black]</span> <span style='color:red;' >[slaves]</span>. The colonies from <span style='color:red;' >[maryland south]</span> would never have joined the \"<span style='color:red;' >[revolution]</span>\" without protections for <span style='color:red;' >[race]</span> <span style='color:red;' >[based slavery]</span>. We would be more like <span style='color:red;' >[canada]</span> without <span style='color:red;' >[race]</span> <span style='color:red;' >[based slavery]</span>.  In 1860, 80% of the wealth of the nation was from <span style='color:red;' >[slaves]</span>, slave <span style='color:red;' >[labor]</span>, and the products that <span style='color:red;' >[labor]</span> produced. The violence today is a product of our history. The rest of your <span style='color:red;' >[statement]</span> is just fake news."
      ],
      "text/plain": [
       "<IPython.core.display.HTML object>"
      ]
     },
     "metadata": {},
     "output_type": "display_data"
    },
    {
     "name": "stdout",
     "output_type": "stream",
     "text": [
      "20 KWS: {'based slavery', 'primarily', 'black slaves', 'based', 'maryland south', 'slaves', 'responsible', 'slavery', 'true', 'race', 'black', 'labor', 'statement', 'primarily responsible', 'revolution', 'maryland', 'race based', 'canada', 'black men', 'men'}\n",
      "*********************************************\n",
      "226\n",
      "TABO words:  Ridiculous\n",
      "82    Ridiculous.  And this is a grown man writing.  Toni Morrison and most of the other \"well known artists\" are multi-millionaires, among the 1%, the main beneficiaries of capitalism.  The dirty 1930s saw desperate men hopping on trains trying to find work and were chronicled in works of art like The Grapes of Wrath - zero parallel with the lifestyle enjoyed by today's \"activists\".  Caplan is not a millennial, he would have learned the history of that time so he should know better.\n"
     ]
    },
    {
     "data": {
      "text/html": [
       "<span style='color:red;' >[ridiculous]</span>.  And this is a <span style='color:red;' >[grown]</span> <span style='color:red;' >[man writing]</span>.  <span style='color:red;' >[toni morrison]</span> and most of the other \"well known <span style='color:red;' >[artists]</span>\" are <span style='color:red;' >[multi-millionaires]</span>, among the 1%, the <span style='color:red;' >[main beneficiaries]</span> of <span style='color:red;' >[capitalism]</span>.  The dirty 1930s saw <span style='color:red;' >[desperate men]</span> hopping on trains trying to <span style='color:red;' >[find work]</span> and were chronicled in works of art like The <span style='color:red;' >[grapes]</span> of <span style='color:red;' >[wrath]</span> - zero parallel with the <span style='color:red;' >[lifestyle enjoyed]</span> by today's \"<span style='color:red;' >[activists]</span>\".  Caplan is not a millennial, he would have learned the history of that time so he should know better."
      ],
      "text/plain": [
       "<IPython.core.display.HTML object>"
      ]
     },
     "metadata": {},
     "output_type": "display_data"
    },
    {
     "name": "stdout",
     "output_type": "stream",
     "text": [
      "20 KWS: {'grown man', 'toni morrison', 'morrison', 'man writing', 'main beneficiaries', 'wrath', 'desperate men', 'man', 'lifestyle enjoyed', 'activists', 'grown', 'toni', 'men hopping', 'artists', 'multi-millionaires', 'capitalism', 'writing', 'grapes', 'ridiculous', 'find work'}\n",
      "*********************************************\n",
      "227\n",
      "TABO words:  Stupid\n",
      "7    Stupid young dumb and full of cum.\n"
     ]
    },
    {
     "data": {
      "text/html": [
       "<span style='color:red;' >[stupid young]</span> <span style='color:red;' >[dumb]</span> and <span style='color:red;' >[full]</span> of <span style='color:red;' >[cum]</span>."
      ],
      "text/plain": [
       "<IPython.core.display.HTML object>"
      ]
     },
     "metadata": {},
     "output_type": "display_data"
    },
    {
     "name": "stdout",
     "output_type": "stream",
     "text": [
      "7 KWS: {'cum', 'stupid young', 'young', 'young dumb', 'full', 'stupid', 'dumb'}\n",
      "*********************************************\n",
      "228\n",
      "TABO words: \n",
      "61    The economy is stagnant and collapsing.  Who believes we are in a good economic condition? Only the brainwashed who believe the news.  We are about to enter the biggest collapse in human history with the impending death of the US dollar.  Why are people SO CLUELESS? Seriously! We're days away from a massive collapse, people think the economy is ok? WTF?\n"
     ]
    },
    {
     "data": {
      "text/html": [
       "The <span style='color:red;' >[economy]</span> is <span style='color:red;' >[stagnant]</span> and <span style='color:red;' >[collapsing]</span>.  Who believes we are in a <span style='color:red;' >[good]</span> <span style='color:red;' >[economic condition]</span>? Only the <span style='color:red;' >[brainwashed]</span> who believe the news.  We are about to <span style='color:red;' >[enter]</span> the <span style='color:red;' >[biggest]</span> <span style='color:red;' >[collapse]</span> in <span style='color:red;' >[human history]</span> with the <span style='color:red;' >[impending death]</span> of the US <span style='color:red;' >[dollar]</span>.  Why are <span style='color:red;' >[people]</span> SO <span style='color:red;' >[clueless]</span>? Seriously! We're days away from a massive <span style='color:red;' >[collapse]</span>, <span style='color:red;' >[people]</span> think the <span style='color:red;' >[economy]</span> is ok? <span style='color:red;' >[wtf]</span>?"
      ],
      "text/plain": [
       "<IPython.core.display.HTML object>"
      ]
     },
     "metadata": {},
     "output_type": "display_data"
    },
    {
     "name": "stdout",
     "output_type": "stream",
     "text": [
      "20 KWS: {'economic', 'biggest', 'human history', 'enter', 'good economic', 'collapsing', 'dollar', 'impending death', 'economic condition', 'wtf', 'massive collapse', 'stagnant', 'brainwashed', 'clueless', 'good', 'people', 'biggest collapse', 'condition', 'economy', 'collapse'}\n",
      "*********************************************\n",
      "229\n",
      "TABO words:  IDIOT\n",
      "6    You are the 'perfect' Democratic IDIOT.\n"
     ]
    },
    {
     "data": {
      "text/html": [
       "You are the 'perfect' <span style='color:red;' >[democratic idiot]</span>."
      ],
      "text/plain": [
       "<IPython.core.display.HTML object>"
      ]
     },
     "metadata": {},
     "output_type": "display_data"
    },
    {
     "name": "stdout",
     "output_type": "stream",
     "text": [
      "4 KWS: {'democratic idiot', 'idiot', 'perfect', 'democratic'}\n",
      "*********************************************\n",
      "230\n",
      "TABO words:  garbage\n",
      "48    My all time favorites are still Wyoming College (spend $20K per year on something slightly more legit than an online diploma mill and live in a trailer in rural Wyoming) and the now defunct Ave Maria College (come and hear Fr. Gruner's conspiracy theories and other schimatic garbage.)\n"
     ]
    },
    {
     "data": {
      "text/html": [
       "My all <span style='color:red;' >[time favorites]</span> are still <span style='color:red;' >[wyoming college]</span> (<span style='color:red;' >[spend]</span> $20K per <span style='color:red;' >[year]</span> on something <span style='color:red;' >[slightly]</span> more <span style='color:red;' >[legit]</span> than an <span style='color:red;' >[online diploma]</span> mill and live in a trailer in <span style='color:red;' >[rural wyoming]</span>) and the now defunct <span style='color:red;' >[ave]</span> <span style='color:red;' >[maria college]</span> (come and hear Fr. Gruner's conspiracy theories and other <span style='color:red;' >[schimatic garbage]</span>.)"
      ],
      "text/plain": [
       "<IPython.core.display.HTML object>"
      ]
     },
     "metadata": {},
     "output_type": "display_data"
    },
    {
     "name": "stdout",
     "output_type": "stream",
     "text": [
      "20 KWS: {'diploma mill', 'spend', 'maria', 'legit', 'online diploma', 'wyoming college', 'ave maria', 'ave', 'favorites', 'slightly', 'schimatic garbage', 'time favorites', 'maria college', 'defunct ave', 'wyoming', 'gruner conspiracy', 'year', 'rural wyoming', 'time', 'college'}\n",
      "*********************************************\n",
      "231\n",
      "TABO words:  Everytime I hear or see this I say THANK GOD I'M WHITE the stupidist\n",
      "179    Everytime I hear or see this I say THANK GOD I'M WHITE! I am terrified for my for my black relatives. I cannot imagine trying to raise black children in today's world. They are being killed over the stupidist reasons LEO can come up with! It breaks my brother's heart when his fellow LEO kill unarmed black people. He is LEO, we have many black relatives. This behavior is demoralizing. He dedicates his life to help people in the worst and most dangerous times of their life regardless of color and at the same time praying and hoping that his fellow LEO does the same for our relatives in other states knowing full well LEO is killing unarmed blacks every week! How is that right? What is LEO doing to heal our communities?? How can the black communities feel LEO is protecting not persecuting and shooting at the slightest real or imagined threat? \n",
      "\n",
      "If you see a weapon then SHOOT! Don't shoot until you see a weapon!! \n",
      "\n",
      "My family kneels. We are patriotic, LEO killing unarmed civilians is not.\n"
     ]
    },
    {
     "data": {
      "text/html": [
       "<span style='color:red;' >[everytime]</span> I <span style='color:red;' >[hear]</span> or see this I say THANK <span style='color:red;' >[god]</span> I'M <span style='color:red;' >[white]</span>! I am terrified for my for my <span style='color:red;' >[black]</span> <span style='color:red;' >[relatives]</span>. I cannot imagine trying to raise <span style='color:red;' >[black]</span> children in today's world. They are being killed over the stupidist reasons <span style='color:red;' >[leo]</span> can come up with! It breaks my brother's heart when his <span style='color:red;' >[fellow]</span> <span style='color:red;' >[leo]</span> kill <span style='color:red;' >[unarmed]</span> <span style='color:red;' >[black]</span> <span style='color:red;' >[people]</span>. He is <span style='color:red;' >[leo]</span>, we have many <span style='color:red;' >[black]</span> <span style='color:red;' >[relatives]</span>. This behavior is demoralizing. He dedicates his <span style='color:red;' >[life]</span> to help <span style='color:red;' >[people]</span> in the worst and most dangerous times of their <span style='color:red;' >[life]</span> regardless of color and at the same time praying and hoping that his <span style='color:red;' >[fellow]</span> <span style='color:red;' >[leo]</span> does the same for our <span style='color:red;' >[relatives]</span> in other states knowing full well <span style='color:red;' >[leo]</span> is <span style='color:red;' >[killing]</span> <span style='color:red;' >[unarmed]</span> blacks every week! How is that right? What is <span style='color:red;' >[leo]</span> doing to heal our communities?? How can the <span style='color:red;' >[black]</span> communities feel <span style='color:red;' >[leo]</span> is protecting not persecuting and shooting at the slightest real or imagined threat?   If you see a <span style='color:red;' >[weapon]</span> then <span style='color:red;' >[shoot]</span>! Don't <span style='color:red;' >[shoot]</span> until you see a <span style='color:red;' >[weapon]</span>!!   My family kneels. We are patriotic, <span style='color:red;' >[leo]</span> <span style='color:red;' >[killing]</span> <span style='color:red;' >[unarmed]</span> civilians is not."
      ],
      "text/plain": [
       "<IPython.core.display.HTML object>"
      ]
     },
     "metadata": {},
     "output_type": "display_data"
    },
    {
     "name": "stdout",
     "output_type": "stream",
     "text": [
      "20 KWS: {'hear', 'reasons leo', 'weapon', 'killing unarmed', 'leo killing', 'everytime', 'life', 'killing', 'black relatives', 'fellow', 'black', 'white', 'god', 'relatives', 'leo', 'shoot', 'unarmed', 'people', 'leo kill', 'fellow leo'}\n",
      "*********************************************\n",
      "232\n",
      "TABO words:  dead\n",
      "86    Human beings are and will always be very nasty creatures. You and I are members of that club. The point I have been trying to make, which evidently you do not want to acknowledge, is that they were significantly less nasty in southern Africa, than elsewhere. You keep throwing up numbers of dead people that obviously exceed the total populations in the geographical areas you identified and that were alive at the time. Kinda makes the epithet you accorded to me as more appropriate to yourself.\n"
     ]
    },
    {
     "data": {
      "text/html": [
       "<span style='color:red;' >[human]</span> beings are and will always be very <span style='color:red;' >[nasty creatures]</span>. You and I are <span style='color:red;' >[members]</span> of that <span style='color:red;' >[club]</span>. The <span style='color:red;' >[point]</span> I have been trying to <span style='color:red;' >[make]</span>, which <span style='color:red;' >[evidently]</span> you do not want to <span style='color:red;' >[acknowledge]</span>, is that they were <span style='color:red;' >[significantly]</span> less <span style='color:red;' >[nasty]</span> in <span style='color:red;' >[southern africa]</span>, than elsewhere. You keep throwing up numbers of <span style='color:red;' >[dead people]</span> that obviously exceed the <span style='color:red;' >[total populations]</span> in the <span style='color:red;' >[geographical areas]</span> you identified and that were alive at the <span style='color:red;' >[time]</span>. <span style='color:red;' >[kinda makes]</span> the epithet you accorded to me as more appropriate to yourself."
      ],
      "text/plain": [
       "<IPython.core.display.HTML object>"
      ]
     },
     "metadata": {},
     "output_type": "display_data"
    },
    {
     "name": "stdout",
     "output_type": "stream",
     "text": [
      "20 KWS: {'kinda makes', 'nasty', 'human', 'total populations', 'dead people', 'evidently', 'significantly', 'southern africa', 'club', 'makes', 'geographical areas', 'southern', 'africa', 'members', 'point', 'make', 'creatures', 'time', 'nasty creatures', 'acknowledge'}\n",
      "*********************************************\n",
      "233\n",
      "TABO words:  black ignorant\n",
      "39    Are you to believe that any black who acts to white is an Uncle Tom? Also  Do you think Clarance Thomas being excluded from the black history museum was a good thing? \n",
      "I know your ignorant but how ignorant!\n"
     ]
    },
    {
     "data": {
      "text/html": [
       "Are you to believe that any <span style='color:red;' >[black]</span> who <span style='color:red;' >[acts]</span> to <span style='color:red;' >[white]</span> is an <span style='color:red;' >[uncle tom]</span>? Also  Do you think <span style='color:red;' >[clarance thomas]</span> being <span style='color:red;' >[excluded]</span> from the <span style='color:red;' >[black]</span> <span style='color:red;' >[history museum]</span> was a <span style='color:red;' >[good thing]</span>?  I know your <span style='color:red;' >[ignorant]</span> but how <span style='color:red;' >[ignorant]</span>!"
      ],
      "text/plain": [
       "<IPython.core.display.HTML object>"
      ]
     },
     "metadata": {},
     "output_type": "display_data"
    },
    {
     "name": "stdout",
     "output_type": "stream",
     "text": [
      "18 KWS: {'uncle tom', 'uncle', 'thing', 'ignorant', 'black history', 'history', 'clarance thomas', 'black', 'white', 'excluded', 'tom', 'acts', 'museum', 'history museum', 'thomas', 'good', 'good thing', 'clarance'}\n",
      "*********************************************\n",
      "234\n",
      "TABO words:  Trump is a bully who isn't used to people pushing back He's going to get his substantial butt kicked\n",
      "19    Trump is a bully who isn't used to people pushing back.\n",
      "He's going to get his substantial butt kicked...\n"
     ]
    },
    {
     "data": {
      "text/html": [
       "<span style='color:red;' >[trump]</span> is a <span style='color:red;' >[bully]</span> who isn't used to <span style='color:red;' >[people]</span> <span style='color:red;' >[pushing back]</span>. He's going to get his <span style='color:red;' >[substantial]</span> <span style='color:red;' >[butt kicked]</span>..."
      ],
      "text/plain": [
       "<IPython.core.display.HTML object>"
      ]
     },
     "metadata": {},
     "output_type": "display_data"
    },
    {
     "name": "stdout",
     "output_type": "stream",
     "text": [
      "12 KWS: {'kicked', 'substantial butt', 'pushing back', 'bully', 'pushing', 'substantial', 'trump', 'butt kicked', 'butt', 'people', 'back', 'people pushing'}\n",
      "*********************************************\n",
      "235\n",
      "TABO words:  niggers fuck on your're a moron\n",
      "30    SAYS THE OLD WHITE LADY HER SELF outsider77 have to make it about so called oppressed niggers. and old people waiting to die? come the fuck on your're a moron\n"
     ]
    },
    {
     "data": {
      "text/html": [
       "SAYS THE OLD <span style='color:red;' >[white lady]</span> HER SELF outsider77 have to <span style='color:red;' >[make]</span> it about so <span style='color:red;' >[called oppressed]</span> niggers. and old <span style='color:red;' >[people waiting]</span> to <span style='color:red;' >[die]</span>? come the <span style='color:red;' >[fuck]</span> on your're a <span style='color:red;' >[moron]</span>"
      ],
      "text/plain": [
       "<IPython.core.display.HTML object>"
      ]
     },
     "metadata": {},
     "output_type": "display_data"
    },
    {
     "name": "stdout",
     "output_type": "stream",
     "text": [
      "15 KWS: {'fuck', 'moron', 'called', 'oppressed niggers.', 'die', 'white lady', 'niggers.', 'waiting', 'white', 'lady', 'people', 'called oppressed', 'make', 'oppressed', 'people waiting'}\n",
      "*********************************************\n",
      "236\n",
      "TABO words:  idiot\n",
      "10    One idiot so far and it happens to be you.\n"
     ]
    },
    {
     "data": {
      "text/html": [
       "One <span style='color:red;' >[idiot]</span> so far and it happens to be you."
      ],
      "text/plain": [
       "<IPython.core.display.HTML object>"
      ]
     },
     "metadata": {},
     "output_type": "display_data"
    },
    {
     "name": "stdout",
     "output_type": "stream",
     "text": [
      "1 KWS: {'idiot'}\n",
      "*********************************************\n",
      "237\n",
      "TABO words:  idiot\n",
      "43    They have the White House, the House, and the Senate and they can't govern themselves out of a paper bag.  But hey, keep ginning up the race baiting cause that'll get the twice removed judge into office.  Maybe that idiot will help you.\n"
     ]
    },
    {
     "data": {
      "text/html": [
       "They have the <span style='color:red;' >[white house]</span>, the <span style='color:red;' >[house]</span>, and the <span style='color:red;' >[senate]</span> and they can't <span style='color:red;' >[govern]</span> themselves out of a <span style='color:red;' >[paper bag]</span>.  But <span style='color:red;' >[hey]</span>, keep <span style='color:red;' >[ginning]</span> up the <span style='color:red;' >[race baiting]</span> cause that'll get the twice <span style='color:red;' >[removed judge]</span> into <span style='color:red;' >[office]</span>.  Maybe that <span style='color:red;' >[idiot]</span> will help you."
      ],
      "text/plain": [
       "<IPython.core.display.HTML object>"
      ]
     },
     "metadata": {},
     "output_type": "display_data"
    },
    {
     "name": "stdout",
     "output_type": "stream",
     "text": [
      "18 KWS: {'race baiting', 'idiot', 'hey', 'paper', 'white house', 'judge', 'removed judge', 'office', 'race', 'house', 'removed', 'white', 'govern', 'baiting', 'ginning', 'senate', 'bag', 'paper bag'}\n",
      "*********************************************\n",
      "238\n",
      "TABO words:  fools\n",
      "6    Anti-vaccine fools reap what you sow.\n"
     ]
    },
    {
     "data": {
      "text/html": [
       "<span style='color:red;' >[anti-vaccine fools]</span> <span style='color:red;' >[reap]</span> what you <span style='color:red;' >[sow]</span>."
      ],
      "text/plain": [
       "<IPython.core.display.HTML object>"
      ]
     },
     "metadata": {},
     "output_type": "display_data"
    },
    {
     "name": "stdout",
     "output_type": "stream",
     "text": [
      "6 KWS: {'fools', 'anti-vaccine fools', 'reap', 'sow', 'anti-vaccine', 'fools reap'}\n",
      "*********************************************\n",
      "239\n",
      "TABO words:  Idiot\n",
      "1    Idiot........\n"
     ]
    },
    {
     "data": {
      "text/html": [
       "<span style='color:red;' >[idiot]</span>........"
      ],
      "text/plain": [
       "<IPython.core.display.HTML object>"
      ]
     },
     "metadata": {},
     "output_type": "display_data"
    },
    {
     "name": "stdout",
     "output_type": "stream",
     "text": [
      "1 KWS: {'idiot'}\n",
      "*********************************************\n",
      "240\n",
      "TABO words:  seems crap crazy\n",
      "75    \"It seems almost everyone is falling for it.\"\n",
      "\n",
      "It's the same crap, different packaging. It drives me crazy that people fall for that just because of Politics.\n",
      "\n",
      "Russians also made the ref overturn the Sanders catch then they hashtagged it to anger Bronco fans even more. \n",
      "\n",
      "You can use Russia for any excuse these days. All the ills of America can be blamed on yet another entity. Weird. Could swear I've seen this movie already.\n"
     ]
    },
    {
     "data": {
      "text/html": [
       "\"It seems almost everyone is <span style='color:red;' >[falling]</span> for it.\"  It's the same <span style='color:red;' >[crap]</span>, different <span style='color:red;' >[packaging]</span>. It <span style='color:red;' >[drives]</span> me <span style='color:red;' >[crazy]</span> that <span style='color:red;' >[people fall]</span> for that just because of <span style='color:red;' >[politics]</span>.  <span style='color:red;' >[russians]</span> also made the <span style='color:red;' >[ref overturn]</span> the <span style='color:red;' >[sanders catch]</span> then they hashtagged it to <span style='color:red;' >[anger bronco]</span> fans even more.   You can use <span style='color:red;' >[russia]</span> for any excuse these <span style='color:red;' >[days]</span>. All the ills of <span style='color:red;' >[america]</span> can be blamed on yet another entity. <span style='color:red;' >[weird]</span>. Could swear I've seen this movie already."
      ],
      "text/plain": [
       "<IPython.core.display.HTML object>"
      ]
     },
     "metadata": {},
     "output_type": "display_data"
    },
    {
     "name": "stdout",
     "output_type": "stream",
     "text": [
      "20 KWS: {'fall', 'days', 'packaging', 'bronco', 'anger bronco', 'ref overturn', 'russians', 'crazy', 'falling', 'people fall', 'politics', 'crap', 'russia', 'america', 'bronco fans', 'sanders', 'weird', 'people', 'sanders catch', 'drives'}\n",
      "*********************************************\n",
      "241\n",
      "TABO words:  idiots\n",
      "20    Judith M - that is a complete load of BS, and you and your fake news trolling idiots know it.\n"
     ]
    },
    {
     "data": {
      "text/html": [
       "<span style='color:red;' >[judith]</span> M - that is a <span style='color:red;' >[complete load]</span> of BS, and you and your <span style='color:red;' >[fake]</span> news <span style='color:red;' >[trolling idiots]</span> know it."
      ],
      "text/plain": [
       "<IPython.core.display.HTML object>"
      ]
     },
     "metadata": {},
     "output_type": "display_data"
    },
    {
     "name": "stdout",
     "output_type": "stream",
     "text": [
      "8 KWS: {'complete load', 'judith', 'fake', 'trolling idiots', 'complete', 'load', 'idiots', 'trolling'}\n",
      "*********************************************\n",
      "242\n",
      "TABO words:  idiot\n",
      "6    Go away McCain, you're an idiot.\n"
     ]
    },
    {
     "data": {
      "text/html": [
       "Go away <span style='color:red;' >[mccain]</span>, you're an <span style='color:red;' >[idiot]</span>."
      ],
      "text/plain": [
       "<IPython.core.display.HTML object>"
      ]
     },
     "metadata": {},
     "output_type": "display_data"
    },
    {
     "name": "stdout",
     "output_type": "stream",
     "text": [
      "2 KWS: {'idiot', 'mccain'}\n",
      "*********************************************\n",
      "243\n",
      "TABO words:  pathetic\n",
      "22    You really shouldn't respond to your own comments under a different name. It makes you look... mentally unstable. Or very, very pathetic.\n"
     ]
    },
    {
     "data": {
      "text/html": [
       "You really shouldn't <span style='color:red;' >[respond]</span> to your own <span style='color:red;' >[comments]</span> under a different name. It <span style='color:red;' >[makes]</span> you look... <span style='color:red;' >[mentally unstable]</span>. Or very, very <span style='color:red;' >[pathetic]</span>."
      ],
      "text/plain": [
       "<IPython.core.display.HTML object>"
      ]
     },
     "metadata": {},
     "output_type": "display_data"
    },
    {
     "name": "stdout",
     "output_type": "stream",
     "text": [
      "7 KWS: {'comments', 'unstable', 'pathetic', 'mentally unstable', 'makes', 'mentally', 'respond'}\n",
      "*********************************************\n",
      "244\n",
      "TABO words:  kiss your butt\n",
      "43    Talkeetna has never had any problem with Marijuana. I say \"Open a pot shop the size of walmart and tell those soccer moms to kiss your butt.\" It's a free country and pot is legal. Hey soccer moms,go fight something serious like meth.\n"
     ]
    },
    {
     "data": {
      "text/html": [
       "<span style='color:red;' >[talkeetna]</span> has never had any <span style='color:red;' >[problem]</span> with <span style='color:red;' >[marijuana]</span>. I say \"<span style='color:red;' >[open]</span> a <span style='color:red;' >[pot]</span> <span style='color:red;' >[shop]</span> the <span style='color:red;' >[size]</span> of <span style='color:red;' >[walmart]</span> and tell those <span style='color:red;' >[soccer]</span> <span style='color:red;' >[moms]</span> to <span style='color:red;' >[kiss]</span> your <span style='color:red;' >[butt]</span>.\" It's a <span style='color:red;' >[free]</span> <span style='color:red;' >[country]</span> and <span style='color:red;' >[pot]</span> is <span style='color:red;' >[legal]</span>. <span style='color:red;' >[hey]</span> <span style='color:red;' >[soccer]</span> moms,go fight something serious like <span style='color:red;' >[meth]</span>."
      ],
      "text/plain": [
       "<IPython.core.display.HTML object>"
      ]
     },
     "metadata": {},
     "output_type": "display_data"
    },
    {
     "name": "stdout",
     "output_type": "stream",
     "text": [
      "20 KWS: {'soccer moms', 'problem', 'size', 'country', 'hey', 'walmart', 'pot shop', 'free', 'marijuana', 'soccer', 'legal', 'hey soccer', 'talkeetna', 'kiss', 'butt', 'open', 'shop', 'moms', 'meth', 'pot'}\n",
      "*********************************************\n",
      "245\n",
      "TABO words:  ignorant\n",
      "6    You are an ignorant A hole\n"
     ]
    },
    {
     "data": {
      "text/html": [
       "You are an <span style='color:red;' >[ignorant]</span> A <span style='color:red;' >[hole]</span>"
      ],
      "text/plain": [
       "<IPython.core.display.HTML object>"
      ]
     },
     "metadata": {},
     "output_type": "display_data"
    },
    {
     "name": "stdout",
     "output_type": "stream",
     "text": [
      "2 KWS: {'ignorant', 'hole'}\n",
      "*********************************************\n",
      "246\n",
      "TABO words:  ignorant\n",
      "17    with all the ignorant left wingers here perhaps we can get them some help with thier stupidity\n"
     ]
    },
    {
     "data": {
      "text/html": [
       "with all the <span style='color:red;' >[ignorant left]</span> <span style='color:red;' >[wingers]</span> here perhaps we can get them some help with <span style='color:red;' >[thier stupidity]</span>"
      ],
      "text/plain": [
       "<IPython.core.display.HTML object>"
      ]
     },
     "metadata": {},
     "output_type": "display_data"
    },
    {
     "name": "stdout",
     "output_type": "stream",
     "text": [
      "8 KWS: {'left', 'thier', 'ignorant', 'ignorant left', 'wingers', 'thier stupidity', 'left wingers', 'stupidity'}\n",
      "*********************************************\n",
      "247\n",
      "TABO words:  murdering kleptocrat dictator fool\n",
      "11    Putin is a murdering kleptocrat dictator, and you are a fool.\n"
     ]
    },
    {
     "data": {
      "text/html": [
       "<span style='color:red;' >[putin]</span> is a <span style='color:red;' >[murdering]</span> <span style='color:red;' >[kleptocrat dictator]</span>, and you are a <span style='color:red;' >[fool]</span>."
      ],
      "text/plain": [
       "<IPython.core.display.HTML object>"
      ]
     },
     "metadata": {},
     "output_type": "display_data"
    },
    {
     "name": "stdout",
     "output_type": "stream",
     "text": [
      "7 KWS: {'dictator', 'murdering', 'fool', 'murdering kleptocrat', 'kleptocrat', 'putin', 'kleptocrat dictator'}\n",
      "*********************************************\n",
      "248\n",
      "TABO words:  idiot\n",
      "18    Hopefully we still have NATO allies given the rhetoric of the idiot we have in the White House.\n"
     ]
    },
    {
     "data": {
      "text/html": [
       "Hopefully we still have <span style='color:red;' >[nato allies]</span> given the <span style='color:red;' >[rhetoric]</span> of the <span style='color:red;' >[idiot]</span> we have in the <span style='color:red;' >[white house]</span>."
      ],
      "text/plain": [
       "<IPython.core.display.HTML object>"
      ]
     },
     "metadata": {},
     "output_type": "display_data"
    },
    {
     "name": "stdout",
     "output_type": "stream",
     "text": [
      "8 KWS: {'idiot', 'white house', 'rhetoric', 'house', 'white', 'allies', 'nato', 'nato allies'}\n",
      "*********************************************\n",
      "249\n",
      "TABO words:  foolish troll\n",
      "14    907:  You are a foolish troll with absolutely no credibility.  Keep that in mind.\n"
     ]
    },
    {
     "data": {
      "text/html": [
       "907:  You are a <span style='color:red;' >[foolish troll]</span> with <span style='color:red;' >[absolutely]</span> no <span style='color:red;' >[credibility]</span>.  Keep that in <span style='color:red;' >[mind]</span>."
      ],
      "text/plain": [
       "<IPython.core.display.HTML object>"
      ]
     },
     "metadata": {},
     "output_type": "display_data"
    },
    {
     "name": "stdout",
     "output_type": "stream",
     "text": [
      "6 KWS: {'absolutely', 'troll', 'mind', 'foolish', 'foolish troll', 'credibility'}\n",
      "*********************************************\n",
      "250\n",
      "TABO words:  Republicans hypocrites\n",
      "8    Republicans are hypocrites, but you knew that already.\n"
     ]
    },
    {
     "data": {
      "text/html": [
       "<span style='color:red;' >[republicans]</span> are <span style='color:red;' >[hypocrites]</span>, but you <span style='color:red;' >[knew]</span> that already."
      ],
      "text/plain": [
       "<IPython.core.display.HTML object>"
      ]
     },
     "metadata": {},
     "output_type": "display_data"
    },
    {
     "name": "stdout",
     "output_type": "stream",
     "text": [
      "3 KWS: {'knew', 'hypocrites', 'republicans'}\n",
      "*********************************************\n",
      "251\n",
      "TABO words:  trolls crap\n",
      "22    You mean like all the other CONservative trolls or wrong-winger mentality that come on this site and try to peddle their crap?\n"
     ]
    },
    {
     "data": {
      "text/html": [
       "You mean like all the other <span style='color:red;' >[conservative trolls]</span> or <span style='color:red;' >[wrong-winger mentality]</span> that come on this <span style='color:red;' >[site]</span> and try to <span style='color:red;' >[peddle]</span> their <span style='color:red;' >[crap]</span>?"
      ],
      "text/plain": [
       "<IPython.core.display.HTML object>"
      ]
     },
     "metadata": {},
     "output_type": "display_data"
    },
    {
     "name": "stdout",
     "output_type": "stream",
     "text": [
      "9 KWS: {'conservative', 'trolls', 'mentality', 'site', 'crap', 'wrong-winger', 'conservative trolls', 'peddle', 'wrong-winger mentality'}\n",
      "*********************************************\n",
      "252\n",
      "TABO words:  insane\n",
      "10    I vote for #1 - he is ... observably insane.\n"
     ]
    },
    {
     "data": {
      "text/html": [
       "I <span style='color:red;' >[vote]</span> for #1 - he is ... <span style='color:red;' >[observably insane]</span>."
      ],
      "text/plain": [
       "<IPython.core.display.HTML object>"
      ]
     },
     "metadata": {},
     "output_type": "display_data"
    },
    {
     "name": "stdout",
     "output_type": "stream",
     "text": [
      "4 KWS: {'observably insane', 'observably', 'vote', 'insane'}\n",
      "*********************************************\n",
      "253\n",
      "TABO words:  Idiots idiots\n",
      "26    GOP Strategist: Trump's Antics Make Republicans Look Like 'A Band Of Idiots'\n",
      "\"A band of idiots\" should be on a t-shirt at gop dot com.\n",
      "\n",
      "http://crooksandliars.com/2017/09/gop-strategist-trumps-antics-make\n"
     ]
    },
    {
     "data": {
      "text/html": [
       "<span style='color:red;' >[gop strategist]</span>: Trump's <span style='color:red;' >[antics make]</span> <span style='color:red;' >[republicans]</span> Look Like 'A <span style='color:red;' >[band]</span> Of <span style='color:red;' >[idiots']</span> \"A <span style='color:red;' >[band]</span> of <span style='color:red;' >[idiots]</span>\" should be on a <span style='color:red;' >[t-shirt]</span> at <span style='color:red;' >[gop dot]</span> com.  "
      ],
      "text/plain": [
       "<IPython.core.display.HTML object>"
      ]
     },
     "metadata": {},
     "output_type": "display_data"
    },
    {
     "name": "stdout",
     "output_type": "stream",
     "text": [
      "16 KWS: {'trump antics', 'gop dot', 'band', 'make', 'trump', 't-shirt', 'idiots', 'strategist', \"idiots'\", 'antics', 'make republicans', 'republicans', 'gop strategist', 'dot', 'gop', 'antics make'}\n",
      "*********************************************\n",
      "254\n",
      "TABO words:  stupidity\n",
      "8    Never underestimate the stupidity of the American voter.\n"
     ]
    },
    {
     "data": {
      "text/html": [
       "Never <span style='color:red;' >[underestimate]</span> the <span style='color:red;' >[stupidity]</span> of the <span style='color:red;' >[american voter]</span>."
      ],
      "text/plain": [
       "<IPython.core.display.HTML object>"
      ]
     },
     "metadata": {},
     "output_type": "display_data"
    },
    {
     "name": "stdout",
     "output_type": "stream",
     "text": [
      "5 KWS: {'american voter', 'voter', 'american', 'underestimate', 'stupidity'}\n",
      "*********************************************\n",
      "255\n",
      "TABO words:  Where do you dig this crap up\n",
      "15    Where do you dig this crap up? And that is what it is without context.\n"
     ]
    },
    {
     "data": {
      "text/html": [
       "Where do you <span style='color:red;' >[dig]</span> this <span style='color:red;' >[crap]</span> up? And that is what it is without <span style='color:red;' >[context]</span>."
      ],
      "text/plain": [
       "<IPython.core.display.HTML object>"
      ]
     },
     "metadata": {},
     "output_type": "display_data"
    },
    {
     "name": "stdout",
     "output_type": "stream",
     "text": [
      "3 KWS: {'dig', 'crap', 'context'}\n",
      "*********************************************\n",
      "256\n",
      "TABO words:  stupid\n",
      "22    Her life is turned upside down and your best is calling her stupid? Please tell us where you graduated from med school.\n"
     ]
    },
    {
     "data": {
      "text/html": [
       "Her <span style='color:red;' >[life]</span> is <span style='color:red;' >[turned upside]</span> down and your best is <span style='color:red;' >[calling]</span> her <span style='color:red;' >[stupid]</span>? Please tell us where you <span style='color:red;' >[graduated]</span> from <span style='color:red;' >[med school]</span>."
      ],
      "text/plain": [
       "<IPython.core.display.HTML object>"
      ]
     },
     "metadata": {},
     "output_type": "display_data"
    },
    {
     "name": "stdout",
     "output_type": "stream",
     "text": [
      "10 KWS: {'school', 'upside', 'life', 'graduated', 'calling', 'med school', 'turned upside', 'med', 'stupid', 'turned'}\n",
      "*********************************************\n",
      "257\n",
      "TABO words: \n",
      "9    So many loser Sens fans with lip quiver! HAHAHA!\n"
     ]
    },
    {
     "data": {
      "text/html": [
       "So many <span style='color:red;' >[loser sens]</span> <span style='color:red;' >[fans]</span> with <span style='color:red;' >[lip quiver]</span>! <span style='color:red;' >[hahaha]</span>!"
      ],
      "text/plain": [
       "<IPython.core.display.HTML object>"
      ]
     },
     "metadata": {},
     "output_type": "display_data"
    },
    {
     "name": "stdout",
     "output_type": "stream",
     "text": [
      "9 KWS: {'loser', 'fans', 'sens fans', 'hahaha', 'lip', 'lip quiver', 'sens', 'quiver', 'loser sens'}\n",
      "*********************************************\n",
      "258\n",
      "TABO words:  is a sulky boy Putin is a vicious sociopath Putin will have your children killed\n",
      "30    No, the biggest difference is that Trump is a sulky boy while Putin is a vicious sociopath. Trump will sneer at you in tweets. Putin will have your children killed.\n"
     ]
    },
    {
     "data": {
      "text/html": [
       "No, the <span style='color:red;' >[biggest difference]</span> is that <span style='color:red;' >[trump]</span> is a <span style='color:red;' >[sulky boy]</span> while <span style='color:red;' >[putin]</span> is a <span style='color:red;' >[vicious sociopath]</span>. <span style='color:red;' >[trump]</span> will <span style='color:red;' >[sneer]</span> at you in <span style='color:red;' >[tweets]</span>. <span style='color:red;' >[putin]</span> will have your <span style='color:red;' >[children killed]</span>."
      ],
      "text/plain": [
       "<IPython.core.display.HTML object>"
      ]
     },
     "metadata": {},
     "output_type": "display_data"
    },
    {
     "name": "stdout",
     "output_type": "stream",
     "text": [
      "16 KWS: {'biggest', 'boy', 'vicious', 'tweets', 'children', 'trump', 'difference', 'killed', 'children killed', 'sneer', 'sociopath', 'biggest difference', 'putin', 'sulky boy', 'sulky', 'vicious sociopath'}\n",
      "*********************************************\n",
      "259\n",
      "TABO words:  stinkin, rotten, douchebag democrats\n",
      "15    Had no idea there were so many stinkin, rotten, douchebag democrats in our great state....wow....\n"
     ]
    },
    {
     "data": {
      "text/html": [
       "Had no <span style='color:red;' >[idea]</span> there were so many <span style='color:red;' >[stinkin]</span>, <span style='color:red;' >[rotten]</span>, <span style='color:red;' >[douchebag democrats]</span> in our <span style='color:red;' >[great]</span> state....wow...."
      ],
      "text/plain": [
       "<IPython.core.display.HTML object>"
      ]
     },
     "metadata": {},
     "output_type": "display_data"
    },
    {
     "name": "stdout",
     "output_type": "stream",
     "text": [
      "10 KWS: {'idea', 'great', 'wow', 'douchebag', 'stinkin', 'great state', 'douchebag democrats', 'democrats', 'state', 'rotten'}\n",
      "*********************************************\n",
      "260\n",
      "TABO words:  TRUMPTARDS HYPOCRITES HYPOCRITES LOSERS\n",
      "37    You TRUMPTARDS are such COMPLETE HYPOCRITES!!!!\n",
      "\n",
      "Every time I post \"TRUMP DEATH SQUADS™,\" you completely FREAK OUT!!!  \n",
      "\n",
      "But every time Palin spewed \"OBAMA DEATH SQUADS,\" you chanted it like ZOMBIES!!!\n",
      "\n",
      "LMAO!!! WHAT FRAUDS! WHAT TOTAL HYPOCRITES!!!! #LOSERS\n"
     ]
    },
    {
     "data": {
      "text/html": [
       "You <span style='color:red;' >[trumptards]</span> are such <span style='color:red;' >[complete hypocrites]</span>!!!!  Every <span style='color:red;' >[time]</span> I post \"<span style='color:red;' >[trump]</span> <span style='color:red;' >[death squads]</span>™,\" you <span style='color:red;' >[completely freak]</span> OUT!!!    But every <span style='color:red;' >[time palin]</span> spewed \"<span style='color:red;' >[obama]</span> <span style='color:red;' >[death squads]</span>,\" you chanted it like <span style='color:red;' >[zombies]</span>!!!  <span style='color:red;' >[lmao]</span>!!! WHAT FRAUDS! WHAT TOTAL <span style='color:red;' >[hypocrites]</span>!!!! #LOSERS"
      ],
      "text/plain": [
       "<IPython.core.display.HTML object>"
      ]
     },
     "metadata": {},
     "output_type": "display_data"
    },
    {
     "name": "stdout",
     "output_type": "stream",
     "text": [
      "20 KWS: {'trumptards', 'completely freak', 'zombies', 'trump death', 'death squads', 'complete', 'death', 'trump', 'losers', 'lmao', 'freak', 'obama death', 'complete hypocrites', 'total hypocrites', 'palin spewed', 'time palin', 'time', 'hypocrites', 'obama', 'squads'}\n",
      "*********************************************\n",
      "261\n",
      "TABO words:  rapist, murderers, thieves, and women beaters\n",
      "15    Now that looks like a fun concert....... full of rapist, murderers, thieves, and women beaters!!!!\n"
     ]
    },
    {
     "data": {
      "text/html": [
       "Now that looks like a <span style='color:red;' >[fun concert]</span>....... <span style='color:red;' >[full]</span> of <span style='color:red;' >[rapist]</span>, <span style='color:red;' >[murderers]</span>, <span style='color:red;' >[thieves]</span>, and <span style='color:red;' >[women beaters]</span>!!!!"
      ],
      "text/plain": [
       "<IPython.core.display.HTML object>"
      ]
     },
     "metadata": {},
     "output_type": "display_data"
    },
    {
     "name": "stdout",
     "output_type": "stream",
     "text": [
      "10 KWS: {'women', 'murderers', 'rapist', 'thieves', 'women beaters', 'fun concert', 'beaters', 'fun', 'full', 'concert'}\n",
      "*********************************************\n",
      "262\n",
      "TABO words:  hypocritical ridiculous\n",
      "30    Mark Hume has always been the stereotypical Vancouverite. Scream how logging must be stopped, while living in a house made of wood. It's so far past hypocritical to be ridiculous.\n"
     ]
    },
    {
     "data": {
      "text/html": [
       "<span style='color:red;' >[mark hume]</span> has always been the <span style='color:red;' >[stereotypical vancouverite]</span>. <span style='color:red;' >[scream]</span> how <span style='color:red;' >[logging]</span> must be <span style='color:red;' >[stopped]</span>, while <span style='color:red;' >[living]</span> in a <span style='color:red;' >[house made]</span> of <span style='color:red;' >[wood]</span>. It's so far <span style='color:red;' >[past hypocritical]</span> to be <span style='color:red;' >[ridiculous]</span>."
      ],
      "text/plain": [
       "<IPython.core.display.HTML object>"
      ]
     },
     "metadata": {},
     "output_type": "display_data"
    },
    {
     "name": "stdout",
     "output_type": "stream",
     "text": [
      "18 KWS: {'wood', 'stopped', 'house made', 'hypocritical', 'past hypocritical', 'past', 'living', 'house', 'scream', 'hume', 'made', 'stereotypical', 'ridiculous', 'logging', 'mark hume', 'stereotypical vancouverite', 'vancouverite', 'mark'}\n",
      "*********************************************\n",
      "263\n",
      "TABO words:  Muslims\n",
      "88    Every country that has 50% or over Muslims makes for other faiths or individuals very hard to live. Talking about being victim, how about thousands of Indian who were tortured and killed because they would not accept Islam. What about their identity. What about identity of countless Christians in Arabic countries : like Iraq, Syria, etc tortured and killed I totally horrific ways but Muslims what about their victimization, what about their rights. \n",
      "Those articles written about current situations in this newspaper are totally pathetic. It’s a joke.\n"
     ]
    },
    {
     "data": {
      "text/html": [
       "Every <span style='color:red;' >[country]</span> that has 50% or over <span style='color:red;' >[muslims makes]</span> for other <span style='color:red;' >[faiths]</span> or <span style='color:red;' >[individuals]</span> very <span style='color:red;' >[hard]</span> to <span style='color:red;' >[live]</span>. Talking about being victim, how about thousands of <span style='color:red;' >[indian]</span> who were <span style='color:red;' >[tortured]</span> and <span style='color:red;' >[killed]</span> because they would not <span style='color:red;' >[accept islam]</span>. What about their <span style='color:red;' >[identity]</span>. What about <span style='color:red;' >[identity]</span> of <span style='color:red;' >[countless christians]</span> in <span style='color:red;' >[arabic countries]</span> : like <span style='color:red;' >[iraq]</span>, <span style='color:red;' >[syria]</span>, etc <span style='color:red;' >[tortured]</span> and <span style='color:red;' >[killed]</span> I <span style='color:red;' >[totally]</span> horrific ways but <span style='color:red;' >[muslims]</span> what about their victimization, what about their rights.  Those articles written about current situations in this newspaper are <span style='color:red;' >[totally]</span> pathetic. It’s a joke."
      ],
      "text/plain": [
       "<IPython.core.display.HTML object>"
      ]
     },
     "metadata": {},
     "output_type": "display_data"
    },
    {
     "name": "stdout",
     "output_type": "stream",
     "text": [
      "20 KWS: {'christians', 'country', 'islam', 'muslims', 'totally', 'live', 'accept islam', 'countless christians', 'identity', 'indian', 'makes', 'faiths', 'arabic countries', 'killed', 'tortured', 'syria', 'muslims makes', 'iraq', 'hard', 'individuals'}\n",
      "*********************************************\n",
      "264\n",
      "TABO words:  hypocrites\n",
      "57    aa poor hating lefty loser, trump controls his message and your precious cnn is left out, keep crying bud!!! btw you hypocrites are pathetic ,that woman was vile, insulting and all around disgusting with her words on trump but thats ok for you lunatics on the left, since trump cant respond accordingly, but she gets the pass\n"
     ]
    },
    {
     "data": {
      "text/html": [
       "aa <span style='color:red;' >[poor hating]</span> <span style='color:red;' >[lefty loser]</span>, <span style='color:red;' >[trump controls]</span> his <span style='color:red;' >[message]</span> and your <span style='color:red;' >[precious cnn]</span> is <span style='color:red;' >[left]</span> out, keep <span style='color:red;' >[crying bud]</span>!!! <span style='color:red;' >[btw]</span> you hypocrites are <span style='color:red;' >[pathetic]</span> ,that woman was vile, insulting and all around disgusting with her words on <span style='color:red;' >[trump]</span> but thats ok for you lunatics on the <span style='color:red;' >[left]</span>, since <span style='color:red;' >[trump]</span> cant respond accordingly, but she gets the pass"
      ],
      "text/plain": [
       "<IPython.core.display.HTML object>"
      ]
     },
     "metadata": {},
     "output_type": "display_data"
    },
    {
     "name": "stdout",
     "output_type": "stream",
     "text": [
      "20 KWS: {'hating lefty', 'left', 'lefty loser', 'cnn', 'crying bud', 'precious cnn', 'loser', 'bud', 'controls', 'poor', 'pathetic', 'btw', 'trump', 'crying', 'precious', 'message', 'poor hating', 'trump controls', 'hating', 'lefty'}\n",
      "*********************************************\n",
      "265\n",
      "TABO words:  ignorant leftist\n",
      "9    No, that is your ignorant, leftist bias peeking through.\n"
     ]
    },
    {
     "data": {
      "text/html": [
       "No, that is your <span style='color:red;' >[ignorant]</span>, <span style='color:red;' >[leftist bias]</span> <span style='color:red;' >[peeking]</span> through."
      ],
      "text/plain": [
       "<IPython.core.display.HTML object>"
      ]
     },
     "metadata": {},
     "output_type": "display_data"
    },
    {
     "name": "stdout",
     "output_type": "stream",
     "text": [
      "6 KWS: {'ignorant', 'leftist bias', 'leftist', 'peeking', 'bias', 'bias peeking'}\n",
      "*********************************************\n",
      "266\n",
      "TABO words: \n",
      "50    if you \"complain\" nicely if you have a problem rather than being a jerk you will get more vouchers/ect. 99% of people are just mean and that will not help you. \n",
      "\n",
      "Invest in Boardroom, especially if you want a quiet break from the \"puplic\", loud kids, ect., Its worth it.\n"
     ]
    },
    {
     "data": {
      "text/html": [
       "if you \"<span style='color:red;' >[complain]</span>\" <span style='color:red;' >[nicely]</span> if you have a <span style='color:red;' >[problem]</span> rather than being a <span style='color:red;' >[jerk]</span> you will get more vouchers/ect. 99% of <span style='color:red;' >[people]</span> are just mean and that will not help you.   <span style='color:red;' >[invest]</span> in <span style='color:red;' >[boardroom]</span>, especially if you want a <span style='color:red;' >[quiet break]</span> from the \"<span style='color:red;' >[puplic]</span>\", <span style='color:red;' >[loud kids]</span>, <span style='color:red;' >[ect]</span>., Its <span style='color:red;' >[worth]</span> it."
      ],
      "text/plain": [
       "<IPython.core.display.HTML object>"
      ]
     },
     "metadata": {},
     "output_type": "display_data"
    },
    {
     "name": "stdout",
     "output_type": "stream",
     "text": [
      "18 KWS: {'problem', 'ect', 'jerk', 'break', 'invest', 'quiet', 'loud kids', 'vouchers', 'nicely', 'complain', 'boardroom', 'people', 'kids', 'puplic', 'loud', 'quiet break', 'ect.', 'worth'}\n",
      "*********************************************\n",
      "267\n",
      "TABO words:  suck eggs\n",
      "22    I think Americans believe their president should be free to speak to whoever he thinks best.\n",
      "\n",
      "So PRC can go suck eggs.\n"
     ]
    },
    {
     "data": {
      "text/html": [
       "I think <span style='color:red;' >[americans]</span> believe their <span style='color:red;' >[president]</span> should be <span style='color:red;' >[free]</span> to <span style='color:red;' >[speak]</span> to whoever he thinks best.  So <span style='color:red;' >[prc]</span> can go <span style='color:red;' >[suck eggs]</span>."
      ],
      "text/plain": [
       "<IPython.core.display.HTML object>"
      ]
     },
     "metadata": {},
     "output_type": "display_data"
    },
    {
     "name": "stdout",
     "output_type": "stream",
     "text": [
      "8 KWS: {'speak', 'suck', 'prc', 'americans', 'president', 'eggs', 'free', 'suck eggs'}\n",
      "*********************************************\n",
      "268\n",
      "TABO words:  fool\n",
      "25    You fool. The NEP had nothing to do with world oil  prices dropping to 5 bucks a barrel. \n",
      "You must have spent your Ralph bucks.\n"
     ]
    },
    {
     "data": {
      "text/html": [
       "You <span style='color:red;' >[fool]</span>. The <span style='color:red;' >[nep]</span> had nothing to do with <span style='color:red;' >[world oil]</span>  <span style='color:red;' >[prices dropping]</span> to 5 <span style='color:red;' >[bucks]</span> a <span style='color:red;' >[barrel]</span>.  You must have <span style='color:red;' >[spent]</span> your <span style='color:red;' >[ralph]</span> <span style='color:red;' >[bucks]</span>."
      ],
      "text/plain": [
       "<IPython.core.display.HTML object>"
      ]
     },
     "metadata": {},
     "output_type": "display_data"
    },
    {
     "name": "stdout",
     "output_type": "stream",
     "text": [
      "14 KWS: {'prices dropping', 'nep', 'dropping', 'spent', 'ralph', 'fool', 'world oil', 'ralph bucks', 'world', 'oil prices', 'oil', 'barrel', 'bucks', 'prices'}\n",
      "*********************************************\n",
      "269\n",
      "TABO words:  idiots\n",
      "47    A hell of a lot more than republicans have to show.  Hell the idiots couldn't even replace Obama care, something they have run against for the past 7 years.  When the economy crashes, it will be interesting to see just what the hell republicans will do?  Anything?\n"
     ]
    },
    {
     "data": {
      "text/html": [
       "A <span style='color:red;' >[hell]</span> of a <span style='color:red;' >[lot]</span> more than <span style='color:red;' >[republicans]</span> have to <span style='color:red;' >[show]</span>.  <span style='color:red;' >[hell]</span> the <span style='color:red;' >[idiots]</span> couldn't even <span style='color:red;' >[replace]</span> <span style='color:red;' >[obama care]</span>, something they have <span style='color:red;' >[run]</span> against for the <span style='color:red;' >[past]</span> 7 <span style='color:red;' >[years]</span>.  When the <span style='color:red;' >[economy crashes]</span>, it will be <span style='color:red;' >[interesting]</span> to see just what the <span style='color:red;' >[hell]</span> <span style='color:red;' >[republicans]</span> will do?  Anything?"
      ],
      "text/plain": [
       "<IPython.core.display.HTML object>"
      ]
     },
     "metadata": {},
     "output_type": "display_data"
    },
    {
     "name": "stdout",
     "output_type": "stream",
     "text": [
      "18 KWS: {'years', 'hell republicans', 'replace obama', 'care', 'past', 'crashes', 'run', 'economy', 'idiots', 'obama care', 'republicans', 'hell', 'replace', 'economy crashes', 'show', 'lot', 'obama', 'interesting'}\n",
      "*********************************************\n",
      "270\n",
      "TABO words:  stupid\n",
      "56    But did he have any attack chickens?\n",
      "Saw a pop up selling full auto assault chickens \n",
      "And there is no background check to own and can be easily concealed and are even allowed in schools.\n",
      "Meanwhile yesterday cell phones accounted for 63 deaths by distracted drivers.\n",
      "It's not the weapon stupid it's the person using it.\n"
     ]
    },
    {
     "data": {
      "text/html": [
       "But did he have any <span style='color:red;' >[attack chickens]</span>? Saw a <span style='color:red;' >[pop]</span> up <span style='color:red;' >[selling full]</span> <span style='color:red;' >[auto]</span> assault <span style='color:red;' >[chickens]</span>  And there is no <span style='color:red;' >[background check]</span> to own and can be <span style='color:red;' >[easily concealed]</span> and are even allowed in <span style='color:red;' >[schools]</span>. Meanwhile <span style='color:red;' >[yesterday cell]</span> <span style='color:red;' >[phones accounted]</span> for 63 <span style='color:red;' >[deaths]</span> by <span style='color:red;' >[distracted drivers]</span>. It's not the weapon stupid it's the person using it."
      ],
      "text/plain": [
       "<IPython.core.display.HTML object>"
      ]
     },
     "metadata": {},
     "output_type": "display_data"
    },
    {
     "name": "stdout",
     "output_type": "stream",
     "text": [
      "20 KWS: {'assault chickens', 'deaths', 'chickens', 'auto assault', 'cell phones', 'phones accounted', 'schools', 'full auto', 'auto', 'background check', 'attack chickens', 'drivers', 'pop', 'selling', 'attack', 'easily concealed', 'full', 'distracted drivers', 'yesterday cell', 'selling full'}\n",
      "*********************************************\n",
      "271\n",
      "TABO words:  buffoon Sad Weak\n",
      "28    Jenkins wishes he could be as big a buffoon as Trump.\n",
      "His best efforts were 30 years ago.\n",
      "He only achieved small mindedness, speciousness and sanctimony.\n",
      "Sad. Weak.\n"
     ]
    },
    {
     "data": {
      "text/html": [
       "<span style='color:red;' >[jenkins wishes]</span> he could be as <span style='color:red;' >[big]</span> a <span style='color:red;' >[buffoon]</span> as <span style='color:red;' >[trump]</span>. His best <span style='color:red;' >[efforts]</span> were 30 <span style='color:red;' >[years ago]</span>. He only <span style='color:red;' >[achieved]</span> <span style='color:red;' >[small mindedness]</span>, <span style='color:red;' >[speciousness]</span> and <span style='color:red;' >[sanctimony]</span>. <span style='color:red;' >[sad]</span>. <span style='color:red;' >[weak]</span>."
      ],
      "text/plain": [
       "<IPython.core.display.HTML object>"
      ]
     },
     "metadata": {},
     "output_type": "display_data"
    },
    {
     "name": "stdout",
     "output_type": "stream",
     "text": [
      "19 KWS: {'years', 'sad', 'efforts', 'weak', 'achieved small', 'buffoon', 'years ago', 'trump', 'small mindedness', 'sanctimony', 'small', 'big', 'wishes', 'jenkins wishes', 'mindedness', 'ago', 'achieved', 'speciousness', 'jenkins'}\n",
      "*********************************************\n",
      "272\n",
      "TABO words:  shut Suck\n",
      "27    And power consumption will only increase after marijuana is decriminalized.  Those plants is our basements would wilt if we shut the lights off.   Suck and blow Justin.\n"
     ]
    },
    {
     "data": {
      "text/html": [
       "And <span style='color:red;' >[power consumption]</span> will only <span style='color:red;' >[increase]</span> after <span style='color:red;' >[marijuana]</span> is <span style='color:red;' >[decriminalized]</span>.  Those <span style='color:red;' >[plants]</span> is our <span style='color:red;' >[basements]</span> would <span style='color:red;' >[wilt]</span> if we <span style='color:red;' >[shut]</span> the <span style='color:red;' >[lights]</span> off.   <span style='color:red;' >[suck]</span> and <span style='color:red;' >[blow justin]</span>."
      ],
      "text/plain": [
       "<IPython.core.display.HTML object>"
      ]
     },
     "metadata": {},
     "output_type": "display_data"
    },
    {
     "name": "stdout",
     "output_type": "stream",
     "text": [
      "15 KWS: {'consumption', 'wilt', 'increase', 'marijuana', 'plants', 'blow', 'decriminalized', 'suck', 'power consumption', 'blow justin', 'justin', 'lights', 'power', 'basements', 'shut'}\n",
      "*********************************************\n",
      "273\n",
      "TABO words:  lunatic stupidity lunatic\n",
      "81    the lunatic hating left wingers are out it force today, spewing thier utter stupidity that thinks comey did anything to trump when all he did was admit comey did a leak, still no evidence at all about any russia bs, no obstruction by his own admission, nada, not one thing anyone can attach a criminal statute too, , but the lunatic left living in thier complete stupidity still thinks trump is done, ha ha ha what a bunch of uneducated sheep\n"
     ]
    },
    {
     "data": {
      "text/html": [
       "the <span style='color:red;' >[lunatic hating]</span> <span style='color:red;' >[left wingers]</span> are out it <span style='color:red;' >[force today]</span>, <span style='color:red;' >[spewing thier]</span> <span style='color:red;' >[utter stupidity]</span> that thinks <span style='color:red;' >[comey]</span> did anything to trump when all he did was <span style='color:red;' >[admit comey]</span> did a leak, still no evidence at all about any russia bs, no obstruction by his own admission, <span style='color:red;' >[nada]</span>, not one thing anyone can attach a <span style='color:red;' >[criminal statute]</span> too, , but the <span style='color:red;' >[lunatic]</span> <span style='color:red;' >[left living]</span> in <span style='color:red;' >[thier complete]</span> <span style='color:red;' >[stupidity]</span> still thinks trump is done, ha ha ha what a bunch of <span style='color:red;' >[uneducated sheep]</span>"
      ],
      "text/plain": [
       "<IPython.core.display.HTML object>"
      ]
     },
     "metadata": {},
     "output_type": "display_data"
    },
    {
     "name": "stdout",
     "output_type": "stream",
     "text": [
      "20 KWS: {'hating left', 'left', 'lunatic left', 'spewing thier', 'complete stupidity', 'nada', 'thier complete', 'force today', 'admit comey', 'criminal statute', 'lunatic', 'uneducated sheep', 'left living', 'stupidity', 'left wingers', 'utter stupidity', 'comey', 'thier utter', 'lunatic hating', 'thier'}\n",
      "*********************************************\n",
      "274\n",
      "TABO words:  Sick bastards shot\n",
      "5    Sick bastards should be shot.\n"
     ]
    },
    {
     "data": {
      "text/html": [
       "<span style='color:red;' >[sick bastards]</span> should be <span style='color:red;' >[shot]</span>."
      ],
      "text/plain": [
       "<IPython.core.display.HTML object>"
      ]
     },
     "metadata": {},
     "output_type": "display_data"
    },
    {
     "name": "stdout",
     "output_type": "stream",
     "text": [
      "4 KWS: {'bastards', 'sick', 'sick bastards', 'shot'}\n",
      "*********************************************\n",
      "275\n",
      "TABO words:  You are a delusional fool uninformed, paranoid and incapable of original thought\n",
      "31    You are a delusional fool.  Not even an entertaining one.  Your are uninformed, paranoid and incapable of original thought.  In other words, a typical Trump supporter.  But come November, you lose.\n"
     ]
    },
    {
     "data": {
      "text/html": [
       "You are a <span style='color:red;' >[delusional fool]</span>.  Not even an <span style='color:red;' >[entertaining]</span> one.  Your are <span style='color:red;' >[uninformed]</span>, <span style='color:red;' >[paranoid]</span> and <span style='color:red;' >[incapable]</span> of <span style='color:red;' >[original thought]</span>.  In other <span style='color:red;' >[words]</span>, a <span style='color:red;' >[typical]</span> <span style='color:red;' >[trump supporter]</span>.  But come <span style='color:red;' >[november]</span>, you <span style='color:red;' >[lose]</span>."
      ],
      "text/plain": [
       "<IPython.core.display.HTML object>"
      ]
     },
     "metadata": {},
     "output_type": "display_data"
    },
    {
     "name": "stdout",
     "output_type": "stream",
     "text": [
      "18 KWS: {'words', 'paranoid', 'supporter', 'typical', 'trump supporter', 'delusional', 'fool', 'original thought', 'incapable', 'trump', 'original', 'delusional fool', 'uninformed', 'typical trump', 'entertaining', 'lose', 'november', 'thought'}\n",
      "*********************************************\n",
      "276\n",
      "TABO words:  Idiot\n",
      "1    Idiot\n"
     ]
    },
    {
     "data": {
      "text/html": [
       "<span style='color:red;' >[idiot]</span>"
      ],
      "text/plain": [
       "<IPython.core.display.HTML object>"
      ]
     },
     "metadata": {},
     "output_type": "display_data"
    },
    {
     "name": "stdout",
     "output_type": "stream",
     "text": [
      "1 KWS: {'idiot'}\n",
      "*********************************************\n",
      "277\n",
      "TABO words:  by2% dumb dumber\n",
      "28    Building rail to reduce traffic by2% = dumb.   Trusting HART and the city to build rail to Ala Moana, even with a 10 year GET extension = dumber.\n"
     ]
    },
    {
     "data": {
      "text/html": [
       "<span style='color:red;' >[building rail]</span> to <span style='color:red;' >[reduce traffic]</span> by2% = <span style='color:red;' >[dumb]</span>.   <span style='color:red;' >[trusting hart]</span> and the <span style='color:red;' >[city]</span> to <span style='color:red;' >[build rail]</span> to <span style='color:red;' >[ala moana]</span>, even with a 10 <span style='color:red;' >[year]</span> GET <span style='color:red;' >[extension]</span> = <span style='color:red;' >[dumber]</span>."
      ],
      "text/plain": [
       "<IPython.core.display.HTML object>"
      ]
     },
     "metadata": {},
     "output_type": "display_data"
    },
    {
     "name": "stdout",
     "output_type": "stream",
     "text": [
      "19 KWS: {'reduce traffic', 'traffic', 'build', 'trusting', 'dumber', 'rail', 'moana', 'building', 'building rail', 'hart', 'ala', 'trusting hart', 'build rail', 'reduce', 'extension', 'ala moana', 'city', 'year', 'dumb'}\n",
      "*********************************************\n",
      "278\n",
      "TABO words:  Stupid stupid stupid\n",
      "47    Stupid conspiracy tin-foil hat wearers everywhere unite. As if there aren't enough real, actual  problems to deal with. Evidently false and blatently stupid fake news conspiraccy tales are just further proof that Americans as a populace are way too stupid to be allowed out without adult supervision.\n"
     ]
    },
    {
     "data": {
      "text/html": [
       "<span style='color:red;' >[stupid]</span> <span style='color:red;' >[conspiracy tin-foil]</span> <span style='color:red;' >[hat wearers]</span> everywhere <span style='color:red;' >[unite]</span>. As if there aren't enough <span style='color:red;' >[real]</span>, <span style='color:red;' >[actual]</span>  problems to deal with. <span style='color:red;' >[evidently false]</span> and blatently <span style='color:red;' >[stupid]</span> fake news conspiraccy tales are just further proof that <span style='color:red;' >[americans]</span> as a populace are way too <span style='color:red;' >[stupid]</span> to be allowed out without <span style='color:red;' >[adult supervision]</span>."
      ],
      "text/plain": [
       "<IPython.core.display.HTML object>"
      ]
     },
     "metadata": {},
     "output_type": "display_data"
    },
    {
     "name": "stdout",
     "output_type": "stream",
     "text": [
      "20 KWS: {'blatently stupid', 'actual problems', 'stupid fake', 'evidently', 'conspiracy tin-foil', 'supervision', 'tin-foil hat', 'conspiracy', 'tin-foil', 'hat', 'wearers', 'americans', 'evidently false', 'actual', 'hat wearers', 'stupid', 'adult supervision', 'real', 'stupid conspiracy', 'unite'}\n",
      "*********************************************\n",
      "279\n",
      "TABO words:  stupid stupid\n",
      "79    Also Ervin is pointed out as black n the story. Why didnt they point out that he is also native american or jewish? Do native americans not deserve their race to b spotlighted?!  The guy looks hispanic to me! Let others decide the race not that it matters. If the  newspaper wants to make this event about race then they should include all the races and cultures! Its all so stupid. This journalist deserves the gold medal stupid award!\n"
     ]
    },
    {
     "data": {
      "text/html": [
       "Also <span style='color:red;' >[ervin]</span> is <span style='color:red;' >[pointed]</span> out as <span style='color:red;' >[black]</span> n the <span style='color:red;' >[story]</span>. Why <span style='color:red;' >[didnt]</span> they <span style='color:red;' >[point]</span> out that he is also <span style='color:red;' >[native]</span> <span style='color:red;' >[american]</span> or <span style='color:red;' >[jewish]</span>? Do <span style='color:red;' >[native]</span> <span style='color:red;' >[americans]</span> not <span style='color:red;' >[deserve]</span> their <span style='color:red;' >[race]</span> to b <span style='color:red;' >[spotlighted]</span>?!  The <span style='color:red;' >[guy]</span> looks hispanic to me! Let others decide the <span style='color:red;' >[race]</span> not that it <span style='color:red;' >[matters]</span>. If the  newspaper wants to make this event about <span style='color:red;' >[race]</span> then they should include all the <span style='color:red;' >[races]</span> and <span style='color:red;' >[cultures]</span>! Its all so <span style='color:red;' >[stupid]</span>. This journalist <span style='color:red;' >[deserves]</span> the gold medal <span style='color:red;' >[stupid]</span> award!"
      ],
      "text/plain": [
       "<IPython.core.display.HTML object>"
      ]
     },
     "metadata": {},
     "output_type": "display_data"
    },
    {
     "name": "stdout",
     "output_type": "stream",
     "text": [
      "20 KWS: {'cultures', 'matters', 'native', 'ervin', 'spotlighted', 'race', 'races', 'deserves', 'guy', 'black', 'story', 'americans', 'american', 'didnt', 'pointed', 'point', 'stupid', 'deserve', 'jewish', 'native american'}\n",
      "*********************************************\n",
      "280\n",
      "TABO words:  idiot\n",
      "8    Only a total idiot would vote for Clinton.\n"
     ]
    },
    {
     "data": {
      "text/html": [
       "Only a <span style='color:red;' >[total idiot]</span> would <span style='color:red;' >[vote]</span> for <span style='color:red;' >[clinton]</span>."
      ],
      "text/plain": [
       "<IPython.core.display.HTML object>"
      ]
     },
     "metadata": {},
     "output_type": "display_data"
    },
    {
     "name": "stdout",
     "output_type": "stream",
     "text": [
      "5 KWS: {'idiot', 'total idiot', 'vote', 'total', 'clinton'}\n",
      "*********************************************\n",
      "281\n",
      "TABO words:  SHOOT KILL FUCK\n",
      "16    Save a wild animal SHOOT A HUNTER IN THE HEAD SINGLE KILL SHOT!!!!!\n",
      "FUCK YOU ALASKA\n"
     ]
    },
    {
     "data": {
      "text/html": [
       "<span style='color:red;' >[save]</span> a <span style='color:red;' >[wild]</span> <span style='color:red;' >[animal shoot]</span> A <span style='color:red;' >[hunter]</span> IN THE <span style='color:red;' >[head single]</span> <span style='color:red;' >[kill shot]</span>!!!!! <span style='color:red;' >[fuck]</span> YOU <span style='color:red;' >[alaska]</span>"
      ],
      "text/plain": [
       "<IPython.core.display.HTML object>"
      ]
     },
     "metadata": {},
     "output_type": "display_data"
    },
    {
     "name": "stdout",
     "output_type": "stream",
     "text": [
      "16 KWS: {'wild animal', 'save', 'single kill', 'fuck', 'alaska', 'hunter', 'shot', 'kill', 'animal', 'wild', 'head', 'animal shoot', 'kill shot', 'shoot', 'single', 'head single'}\n",
      "*********************************************\n",
      "282\n",
      "TABO words:  hypocrisy\n",
      "86    Migawd, the hypocrisy of Liberals knows no bounds.  Scheer is elected leader, and the libs cry \"Harperite\".  Kenney announces he is running for the leadership race in Alberta, and the libs cry \"Harperite\".  Dianne Watts mulls running for the BC Liberal leadership position, and the libs cry \"Harperite\".\n",
      "\n",
      "Don't like anyone from the right side of the political spectrum, and they are all labelled \"Harperites\".   And yet if Trudeau does something that critics would have skewered Harper for doing, the lib commentators go silent. Just sayin'.\n"
     ]
    },
    {
     "data": {
      "text/html": [
       "<span style='color:red;' >[migawd]</span>, the <span style='color:red;' >[hypocrisy]</span> of <span style='color:red;' >[liberals]</span> knows no <span style='color:red;' >[bounds]</span>.  Scheer is <span style='color:red;' >[elected leader]</span>, and the <span style='color:red;' >[libs cry]</span> \"<span style='color:red;' >[harperite]</span>\".  Kenney announces he is <span style='color:red;' >[running]</span> for the <span style='color:red;' >[leadership]</span> race in <span style='color:red;' >[alberta]</span>, and the <span style='color:red;' >[libs cry]</span> \"<span style='color:red;' >[harperite]</span>\".  <span style='color:red;' >[dianne watts]</span> mulls <span style='color:red;' >[running]</span> for the BC <span style='color:red;' >[liberal leadership]</span> position, and the <span style='color:red;' >[libs cry]</span> \"<span style='color:red;' >[harperite]</span>\".  Don't like anyone from the right side of the political spectrum, and they are all labelled \"<span style='color:red;' >[harperites]</span>\".   And yet if Trudeau does something that critics would have <span style='color:red;' >[skewered harper]</span> for doing, the <span style='color:red;' >[lib commentators]</span> go silent. Just sayin'."
      ],
      "text/plain": [
       "<IPython.core.display.HTML object>"
      ]
     },
     "metadata": {},
     "output_type": "display_data"
    },
    {
     "name": "stdout",
     "output_type": "stream",
     "text": [
      "20 KWS: {'liberals', 'liberal', 'harperites', 'libs cry', 'liberal leadership', 'migawd', 'dianne watts', 'skewered harper', 'watts mulls', 'elected leader', 'cry', 'alberta', 'lib', 'bounds', 'hypocrisy', 'running', 'harperite', 'libs', 'leadership', 'lib commentators'}\n",
      "*********************************************\n",
      "283\n",
      "TABO words:  dumber\n",
      "89    This is what happens when people start to become so dependent on government that they won't even discipline their own kids. This is very similar to the 1950's and '60's fear of excessive television watching by children.  Thank goodness the neighborhood police spy network didn't have the cops kick in living room doors and arrest parents for allowing their children to watch BONANZA. If you will pay through the nose to let your preteen live online, your kid will probably grow up dumber than you... but not by much.\n"
     ]
    },
    {
     "data": {
      "text/html": [
       "This is what happens when <span style='color:red;' >[people start]</span> to become so <span style='color:red;' >[dependent]</span> on <span style='color:red;' >[government]</span> that they won't even <span style='color:red;' >[discipline]</span> their own kids. This is very similar to the 1950's and '60's <span style='color:red;' >[fear]</span> of <span style='color:red;' >[excessive television]</span> watching by <span style='color:red;' >[children]</span>.  Thank goodness the <span style='color:red;' >[neighborhood police]</span> <span style='color:red;' >[spy network]</span> didn't have the <span style='color:red;' >[cops kick]</span> in <span style='color:red;' >[living room]</span> doors and <span style='color:red;' >[arrest parents]</span> for allowing their <span style='color:red;' >[children]</span> to <span style='color:red;' >[watch bonanza]</span>. If you will pay through the nose to let your preteen <span style='color:red;' >[live online]</span>, your kid will probably grow up dumber than you... but not by much."
      ],
      "text/plain": [
       "<IPython.core.display.HTML object>"
      ]
     },
     "metadata": {},
     "output_type": "display_data"
    },
    {
     "name": "stdout",
     "output_type": "stream",
     "text": [
      "20 KWS: {'police spy', 'government', 'people start', 'start', 'cops kick', 'living room', 'room doors', 'arrest parents', 'spy network', 'children', 'watch bonanza', 'television watching', 'dependent', 'bonanza', 'excessive television', 'people', 'discipline', 'fear', 'neighborhood police', 'live online'}\n",
      "*********************************************\n",
      "284\n",
      "TABO words:  idiot\n",
      "31    My grandfather must have paraphrased this, he simply taught me, \"Never argue with an idiot, you'll never win.\" Sound words I use often. The main reason I never argue with myself.\n"
     ]
    },
    {
     "data": {
      "text/html": [
       "My <span style='color:red;' >[grandfather]</span> must have <span style='color:red;' >[paraphrased]</span> this, he <span style='color:red;' >[simply taught]</span> me, \"Never <span style='color:red;' >[argue]</span> with an <span style='color:red;' >[idiot]</span>, you'll never <span style='color:red;' >[win]</span>.\" <span style='color:red;' >[sound words]</span> I use often. The <span style='color:red;' >[main reason]</span> I never <span style='color:red;' >[argue]</span> with myself."
      ],
      "text/plain": [
       "<IPython.core.display.HTML object>"
      ]
     },
     "metadata": {},
     "output_type": "display_data"
    },
    {
     "name": "stdout",
     "output_type": "stream",
     "text": [
      "14 KWS: {'grandfather', 'idiot', 'sound words', 'reason', 'paraphrased', 'win', 'main reason', 'argue', 'simply taught', 'simply', 'main', 'taught', 'words', 'sound'}\n",
      "*********************************************\n",
      "285\n",
      "TABO words:  Ridiculous\n",
      "16    Yeah, what a joke. They can't confirm the gunshot wounds were inflicted by the police? Ridiculous.\n"
     ]
    },
    {
     "data": {
      "text/html": [
       "<span style='color:red;' >[yeah]</span>, what a <span style='color:red;' >[joke]</span>. They can't <span style='color:red;' >[confirm]</span> the <span style='color:red;' >[gunshot wounds]</span> were <span style='color:red;' >[inflicted]</span> by the <span style='color:red;' >[police]</span>? <span style='color:red;' >[ridiculous]</span>."
      ],
      "text/plain": [
       "<IPython.core.display.HTML object>"
      ]
     },
     "metadata": {},
     "output_type": "display_data"
    },
    {
     "name": "stdout",
     "output_type": "stream",
     "text": [
      "9 KWS: {'joke', 'confirm', 'gunshot wounds', 'wounds', 'yeah', 'gunshot', 'ridiculous', 'police', 'inflicted'}\n",
      "*********************************************\n",
      "286\n",
      "TABO words:  stupid\n",
      "28    the globe really has banal stupid people that have zero ability or interest in analysis as writers,  just spew out the same tired cliches no matter the situation.\n"
     ]
    },
    {
     "data": {
      "text/html": [
       "the <span style='color:red;' >[globe]</span> really has <span style='color:red;' >[banal stupid]</span> <span style='color:red;' >[people]</span> that have zero <span style='color:red;' >[ability]</span> or <span style='color:red;' >[interest]</span> in <span style='color:red;' >[analysis]</span> as <span style='color:red;' >[writers]</span>,  just <span style='color:red;' >[spew]</span> out the same <span style='color:red;' >[tired cliches]</span> no <span style='color:red;' >[matter]</span> the <span style='color:red;' >[situation]</span>."
      ],
      "text/plain": [
       "<IPython.core.display.HTML object>"
      ]
     },
     "metadata": {},
     "output_type": "display_data"
    },
    {
     "name": "stdout",
     "output_type": "stream",
     "text": [
      "16 KWS: {'ability', 'interest', 'tired cliches', 'matter', 'globe', 'banal', 'analysis', 'spew', 'stupid people', 'banal stupid', 'situation', 'people', 'stupid', 'tired', 'cliches', 'writers'}\n",
      "*********************************************\n",
      "287\n",
      "TABO words:  clown\n",
      "11    What was this clown doing out?  Who is responsible?  Fire them!\n"
     ]
    },
    {
     "data": {
      "text/html": [
       "What was this <span style='color:red;' >[clown]</span> doing out?  Who is <span style='color:red;' >[responsible]</span>?  <span style='color:red;' >[fire]</span> them!"
      ],
      "text/plain": [
       "<IPython.core.display.HTML object>"
      ]
     },
     "metadata": {},
     "output_type": "display_data"
    },
    {
     "name": "stdout",
     "output_type": "stream",
     "text": [
      "3 KWS: {'fire', 'clown', 'responsible'}\n",
      "*********************************************\n",
      "288\n",
      "TABO words:  Fuck off mandydewaal\n",
      "3    Fuck off mandydewaal.\n"
     ]
    },
    {
     "data": {
      "text/html": [
       "<span style='color:red;' >[fuck]</span> off <span style='color:red;' >[mandydewaal]</span>."
      ],
      "text/plain": [
       "<IPython.core.display.HTML object>"
      ]
     },
     "metadata": {},
     "output_type": "display_data"
    },
    {
     "name": "stdout",
     "output_type": "stream",
     "text": [
      "2 KWS: {'fuck', 'mandydewaal'}\n",
      "*********************************************\n",
      "289\n",
      "TABO words:  fool\n",
      "4    Just ignore the fool.\n"
     ]
    },
    {
     "data": {
      "text/html": [
       "Just <span style='color:red;' >[ignore]</span> the <span style='color:red;' >[fool]</span>."
      ],
      "text/plain": [
       "<IPython.core.display.HTML object>"
      ]
     },
     "metadata": {},
     "output_type": "display_data"
    },
    {
     "name": "stdout",
     "output_type": "stream",
     "text": [
      "2 KWS: {'ignore', 'fool'}\n",
      "*********************************************\n",
      "290\n",
      "TABO words:  Stella dumb\n",
      "31    Stella St Page, That's one of the cheapest dumb blogs ever. Anybody that donates their time to bettering something, anything is doing something more than the complainers. You should be ashamed.\n"
     ]
    },
    {
     "data": {
      "text/html": [
       "<span style='color:red;' >[stella]</span> St <span style='color:red;' >[page]</span>, That's one of the <span style='color:red;' >[cheapest dumb]</span> <span style='color:red;' >[blogs]</span> ever. Anybody that <span style='color:red;' >[donates]</span> their <span style='color:red;' >[time]</span> to <span style='color:red;' >[bettering]</span> something, anything is doing something more than the <span style='color:red;' >[complainers]</span>. You should be <span style='color:red;' >[ashamed]</span>."
      ],
      "text/plain": [
       "<IPython.core.display.HTML object>"
      ]
     },
     "metadata": {},
     "output_type": "display_data"
    },
    {
     "name": "stdout",
     "output_type": "stream",
     "text": [
      "12 KWS: {'page', 'cheapest dumb', 'stella', 'time', 'blogs', 'donates', 'complainers', 'dumb blogs', 'cheapest', 'ashamed', 'bettering', 'dumb'}\n",
      "*********************************************\n",
      "291\n",
      "TABO words:  nonsense\n",
      "4    You are spouting nonsense.\n"
     ]
    },
    {
     "data": {
      "text/html": [
       "You are <span style='color:red;' >[spouting nonsense]</span>."
      ],
      "text/plain": [
       "<IPython.core.display.HTML object>"
      ]
     },
     "metadata": {},
     "output_type": "display_data"
    },
    {
     "name": "stdout",
     "output_type": "stream",
     "text": [
      "3 KWS: {'spouting', 'nonsense', 'spouting nonsense'}\n",
      "*********************************************\n",
      "292\n",
      "TABO words:  Ignorant foolish\n",
      "18    Yep Randy, statistics and facts, but those don't get in your way, do they?  Ignorant and foolish indeed.\n"
     ]
    },
    {
     "data": {
      "text/html": [
       "<span style='color:red;' >[yep randy]</span>, <span style='color:red;' >[statistics]</span> and <span style='color:red;' >[facts]</span>, but those don't get in your way, do they?  <span style='color:red;' >[ignorant]</span> and <span style='color:red;' >[foolish]</span> indeed."
      ],
      "text/plain": [
       "<IPython.core.display.HTML object>"
      ]
     },
     "metadata": {},
     "output_type": "display_data"
    },
    {
     "name": "stdout",
     "output_type": "stream",
     "text": [
      "7 KWS: {'facts', 'statistics', 'ignorant', 'foolish', 'yep randy', 'randy', 'yep'}\n",
      "*********************************************\n",
      "293\n",
      "TABO words:  stuck stupid\n",
      "21    Such venom and hatred.  You probably have a picture of Kathy Griffin in your room.  No cure for stuck on stupid.\n"
     ]
    },
    {
     "data": {
      "text/html": [
       "Such <span style='color:red;' >[venom]</span> and <span style='color:red;' >[hatred]</span>.  You probably have a <span style='color:red;' >[picture]</span> of <span style='color:red;' >[kathy griffin]</span> in your <span style='color:red;' >[room]</span>.  No <span style='color:red;' >[cure]</span> for <span style='color:red;' >[stuck]</span> on <span style='color:red;' >[stupid]</span>."
      ],
      "text/plain": [
       "<IPython.core.display.HTML object>"
      ]
     },
     "metadata": {},
     "output_type": "display_data"
    },
    {
     "name": "stdout",
     "output_type": "stream",
     "text": [
      "10 KWS: {'room', 'kathy griffin', 'griffin', 'picture', 'cure', 'kathy', 'hatred', 'venom', 'stupid', 'stuck'}\n",
      "*********************************************\n",
      "294\n",
      "TABO words:  ignorant\n",
      "76    He is a joke.  He was handed this position on a silver 0latter.  Instead of worrying about climate change, how about doing something for the people of Hawaii.  Also, \"his not my president\" statement really showed what he thought about the millions of voters who elected Trump.  Its too bad that the people of Hawaii are so ignorant that he will be in office for the rest of his life.  Not much to look forward to.\n"
     ]
    },
    {
     "data": {
      "text/html": [
       "He is a <span style='color:red;' >[joke]</span>.  He was <span style='color:red;' >[handed]</span> this <span style='color:red;' >[position]</span> on a <span style='color:red;' >[silver]</span> 0latter.  Instead of <span style='color:red;' >[worrying]</span> about <span style='color:red;' >[climate change]</span>, how about doing something for the <span style='color:red;' >[people]</span> of <span style='color:red;' >[hawaii]</span>.  Also, \"his not my <span style='color:red;' >[president]</span>\" <span style='color:red;' >[statement]</span> really <span style='color:red;' >[showed]</span> what he <span style='color:red;' >[thought]</span> about the <span style='color:red;' >[millions]</span> of <span style='color:red;' >[voters]</span> who <span style='color:red;' >[elected trump]</span>.  Its too bad that the <span style='color:red;' >[people]</span> of <span style='color:red;' >[hawaii]</span> are so ignorant that he will be in office for the rest of his <span style='color:red;' >[life]</span>.  Not much to look forward to."
      ],
      "text/plain": [
       "<IPython.core.display.HTML object>"
      ]
     },
     "metadata": {},
     "output_type": "display_data"
    },
    {
     "name": "stdout",
     "output_type": "stream",
     "text": [
      "20 KWS: {'joke', 'handed', 'silver', 'climate', 'worrying', 'life', 'showed', 'change', 'millions', 'voters', 'position', 'elected', 'trump', 'hawaii', 'statement', 'elected trump', 'president', 'people', 'climate change', 'thought'}\n",
      "*********************************************\n",
      "295\n",
      "TABO words:  Corrupt fiscal morons that is\n",
      "5    Corrupt fiscal morons that is.\n"
     ]
    },
    {
     "data": {
      "text/html": [
       "<span style='color:red;' >[corrupt fiscal]</span> <span style='color:red;' >[morons]</span> that is."
      ],
      "text/plain": [
       "<IPython.core.display.HTML object>"
      ]
     },
     "metadata": {},
     "output_type": "display_data"
    },
    {
     "name": "stdout",
     "output_type": "stream",
     "text": [
      "5 KWS: {'fiscal', 'morons', 'fiscal morons', 'corrupt fiscal', 'corrupt'}\n",
      "*********************************************\n",
      "296\n",
      "TABO words:  shoot him to deat crazyasscrackalivesmatter\n",
      "20    Do what most police departments are willing to do when someone fails to obey orders: shoot him to death.\n",
      "\n",
      "#crazyasscrackalivesmatter\n"
     ]
    },
    {
     "data": {
      "text/html": [
       "Do what most <span style='color:red;' >[police departments]</span> are willing to do when someone <span style='color:red;' >[fails]</span> to <span style='color:red;' >[obey orders]</span>: <span style='color:red;' >[shoot]</span> him to <span style='color:red;' >[death]</span>.  #crazyasscrackalivesmatter"
      ],
      "text/plain": [
       "<IPython.core.display.HTML object>"
      ]
     },
     "metadata": {},
     "output_type": "display_data"
    },
    {
     "name": "stdout",
     "output_type": "stream",
     "text": [
      "10 KWS: {'obey orders', 'police departments', 'death', 'departments', 'obey', 'orders', 'fails', 'crazyasscrackalivesmatter', 'shoot', 'police'}\n",
      "*********************************************\n",
      "297\n",
      "TABO words:  So we should get behind a clueless moron because by golly, he's our clueless moron? Best option is find him mentally unfit to command, (which is obvious to all our enemies if not all his equally moronic supporters) and get someone with a SMIDGEN of sense in command. I'd take Pence any day, and I don't like his politics, but at least he isn't senile\n",
      "65    So we should get behind a clueless moron because by golly, he's our clueless moron? Best option is find him mentally unfit to command, (which is obvious to all our enemies if not all his equally moronic supporters) and get someone with a SMIDGEN of sense in command. I'd take Pence any day, and I don't like his politics, but at least he isn't senile.\n"
     ]
    },
    {
     "data": {
      "text/html": [
       "So we should get behind a <span style='color:red;' >[clueless moron]</span> because by <span style='color:red;' >[golly]</span>, he's our <span style='color:red;' >[clueless moron]</span>? Best <span style='color:red;' >[option]</span> is <span style='color:red;' >[find]</span> him <span style='color:red;' >[mentally unfit]</span> to <span style='color:red;' >[command]</span>, (which is <span style='color:red;' >[obvious]</span> to all our <span style='color:red;' >[enemies]</span> if not all his equally <span style='color:red;' >[moronic supporters]</span>) and get someone with a <span style='color:red;' >[smidgen]</span> of sense in <span style='color:red;' >[command]</span>. I'd take <span style='color:red;' >[pence]</span> any <span style='color:red;' >[day]</span>, and I don't like his <span style='color:red;' >[politics]</span>, but at least he isn't <span style='color:red;' >[senile]</span>."
      ],
      "text/plain": [
       "<IPython.core.display.HTML object>"
      ]
     },
     "metadata": {},
     "output_type": "display_data"
    },
    {
     "name": "stdout",
     "output_type": "stream",
     "text": [
      "20 KWS: {'moron', 'golly', 'moronic supporters', 'pence', 'supporters', 'option', 'mentally unfit', 'smidgen', 'find', 'mentally', 'enemies', 'politics', 'equally moronic', 'senile', 'clueless', 'day', 'command', 'obvious', 'unfit', 'clueless moron'}\n",
      "*********************************************\n",
      "298\n",
      "TABO words:  backing\n",
      "10    Glad he G&M is not backing down from this jerk.\n"
     ]
    },
    {
     "data": {
      "text/html": [
       "<span style='color:red;' >[glad]</span> he G&M is not <span style='color:red;' >[backing]</span> down from this <span style='color:red;' >[jerk]</span>."
      ],
      "text/plain": [
       "<IPython.core.display.HTML object>"
      ]
     },
     "metadata": {},
     "output_type": "display_data"
    },
    {
     "name": "stdout",
     "output_type": "stream",
     "text": [
      "3 KWS: {'glad', 'jerk', 'backing'}\n",
      "*********************************************\n",
      "299\n",
      "TABO words:  stupid You are sick\n",
      "78    The economy tanked before his inauguration. As Clinton said, \"It's the economy, stupid.\" Bush added 14.7 million to SNAP, Obama added 13.4 million and it declined after the economy picked up.   http://www.factcheck.org/2016/01/obamas-numbers-january-2016-update/\n",
      "You haven't changed, you are still lying constantly, and you still write truly nasty replies to me, thinking that I will see them before they are deleted. Then you talk Jesus Christ. You are sick, no two ways about it. Have a nice day. In hell.\n"
     ]
    },
    {
     "data": {
      "text/html": [
       "The <span style='color:red;' >[economy tanked]</span> before his <span style='color:red;' >[inauguration]</span>. As <span style='color:red;' >[clinton]</span> said, \"It's the <span style='color:red;' >[economy]</span>, <span style='color:red;' >[stupid]</span>.\" <span style='color:red;' >[bush]</span> <span style='color:red;' >[added]</span> 14.7 <span style='color:red;' >[million]</span> to <span style='color:red;' >[snap]</span>, <span style='color:red;' >[obama added]</span> 13.4 <span style='color:red;' >[million]</span> and it declined after the <span style='color:red;' >[economy]</span> picked up.   http://www.factcheck.org/2016/01/obamas-numbers-january-2016-update/ You haven't <span style='color:red;' >[changed]</span>, you are still <span style='color:red;' >[lying constantly]</span>, and you still write truly nasty replies to me, thinking that I will see them before they are deleted. Then you talk <span style='color:red;' >[jesus christ]</span>. You are sick, no two ways about it. Have a nice day. In hell."
      ],
      "text/plain": [
       "<IPython.core.display.HTML object>"
      ]
     },
     "metadata": {},
     "output_type": "display_data"
    },
    {
     "name": "stdout",
     "output_type": "stream",
     "text": [
      "20 KWS: {'inauguration', 'million', 'jesus', 'bush', 'economy picked', 'bush added', 'talk jesus', 'lying constantly', 'changed', 'tanked', 'snap', 'added', 'christ', 'jesus christ', 'stupid', 'clinton', 'economy tanked', 'economy', 'obama', 'obama added'}\n",
      "*********************************************\n",
      "300\n",
      "TABO words:  Nazi scum\n",
      "2    Nazi scum\n"
     ]
    },
    {
     "data": {
      "text/html": [
       "<span style='color:red;' >[nazi scum]</span>"
      ],
      "text/plain": [
       "<IPython.core.display.HTML object>"
      ]
     },
     "metadata": {},
     "output_type": "display_data"
    },
    {
     "name": "stdout",
     "output_type": "stream",
     "text": [
      "3 KWS: {'scum', 'nazi scum', 'nazi'}\n",
      "*********************************************\n",
      "301\n",
      "TABO words:  hought\n",
      "25    I never thought I'd say this, but I'd vote for Sarah Palin over Dan Sullivan. She's brain damaged but at least she has a pair.\n"
     ]
    },
    {
     "data": {
      "text/html": [
       "I never <span style='color:red;' >[thought]</span> I'd say this, but I'd <span style='color:red;' >[vote]</span> for <span style='color:red;' >[sarah palin]</span> over <span style='color:red;' >[dan sullivan]</span>. She's <span style='color:red;' >[brain damaged]</span> but at least she has a <span style='color:red;' >[pair]</span>."
      ],
      "text/plain": [
       "<IPython.core.display.HTML object>"
      ]
     },
     "metadata": {},
     "output_type": "display_data"
    },
    {
     "name": "stdout",
     "output_type": "stream",
     "text": [
      "12 KWS: {'sullivan', 'sarah', 'dan', 'damaged', 'pair', 'sarah palin', 'brain', 'palin', 'vote', 'brain damaged', 'dan sullivan', 'thought'}\n",
      "*********************************************\n",
      "302\n",
      "TABO words:  dumbest political pathetic\n",
      "44    Our politicians take the dumbest political stances and don't realize how pathetic it makes our state look. Chin and the judge are grossly misinterpreting the temporary ban according to their own ideologies. They are proclaiming FALSE NEWS and now our state looks so ignorant.\n"
     ]
    },
    {
     "data": {
      "text/html": [
       "Our <span style='color:red;' >[politicians]</span> take the <span style='color:red;' >[dumbest political]</span> <span style='color:red;' >[stances]</span> and don't <span style='color:red;' >[realize]</span> how <span style='color:red;' >[pathetic]</span> it <span style='color:red;' >[makes]</span> our <span style='color:red;' >[state]</span> look. <span style='color:red;' >[chin]</span> and the <span style='color:red;' >[judge]</span> are <span style='color:red;' >[grossly misinterpreting]</span> the <span style='color:red;' >[temporary ban]</span> according to their own <span style='color:red;' >[ideologies]</span>. They are <span style='color:red;' >[proclaiming false]</span> NEWS and now our <span style='color:red;' >[state]</span> looks so <span style='color:red;' >[ignorant]</span>."
      ],
      "text/plain": [
       "<IPython.core.display.HTML object>"
      ]
     },
     "metadata": {},
     "output_type": "display_data"
    },
    {
     "name": "stdout",
     "output_type": "stream",
     "text": [
      "20 KWS: {'grossly', 'judge', 'dumbest', 'pathetic', 'proclaiming false', 'grossly misinterpreting', 'chin', 'ideologies', 'ignorant', 'political', 'makes', 'political stances', 'misinterpreting', 'stances', 'realize', 'dumbest political', 'false', 'state', 'temporary ban', 'politicians'}\n",
      "*********************************************\n",
      "303\n",
      "TABO words:  pigs\n",
      "33    Only alien corporations are allowed to own property in the United States.  These imperialist pigs are abusing their power to not uphold their Oaths of Office and their salaries should not be paid.\n"
     ]
    },
    {
     "data": {
      "text/html": [
       "Only <span style='color:red;' >[alien corporations]</span> are <span style='color:red;' >[allowed]</span> to own <span style='color:red;' >[property]</span> in the <span style='color:red;' >[united states]</span>.  These <span style='color:red;' >[imperialist pigs]</span> are <span style='color:red;' >[abusing]</span> their <span style='color:red;' >[power]</span> to not <span style='color:red;' >[uphold]</span> their <span style='color:red;' >[oaths]</span> of <span style='color:red;' >[office]</span> and their <span style='color:red;' >[salaries]</span> should not be <span style='color:red;' >[paid]</span>."
      ],
      "text/plain": [
       "<IPython.core.display.HTML object>"
      ]
     },
     "metadata": {},
     "output_type": "display_data"
    },
    {
     "name": "stdout",
     "output_type": "stream",
     "text": [
      "18 KWS: {'imperialist', 'imperialist pigs', 'allowed', 'alien corporations', 'corporations', 'pigs', 'office', 'power', 'salaries', 'property', 'abusing', 'oaths', 'paid', 'uphold', 'united states', 'united', 'states', 'alien'}\n",
      "*********************************************\n",
      "304\n",
      "TABO words:  suckers\n",
      "12    And with it goes $1-Billion in taxpayer subsidies.  Canadians are such suckers!\n"
     ]
    },
    {
     "data": {
      "text/html": [
       "And with it goes $1-Billion in <span style='color:red;' >[taxpayer subsidies]</span>.  <span style='color:red;' >[canadians]</span> are such <span style='color:red;' >[suckers]</span>!"
      ],
      "text/plain": [
       "<IPython.core.display.HTML object>"
      ]
     },
     "metadata": {},
     "output_type": "display_data"
    },
    {
     "name": "stdout",
     "output_type": "stream",
     "text": [
      "5 KWS: {'taxpayer', 'canadians', 'subsidies', 'suckers', 'taxpayer subsidies'}\n",
      "*********************************************\n",
      "305\n",
      "TABO words:  nutshell pathetic\n",
      "41    there it is in a 'nutshell'.  \n",
      "fear, loathing, and hatred of  'liberals' is what drives these people.  \n",
      "they would vote for a slate of kangaroos provided that the kangaroos were portrayed as the opposition to the 'liberal agenda'.\n",
      "\n",
      "pathetic and mindless.\n"
     ]
    },
    {
     "data": {
      "text/html": [
       "there it is in a <span style='color:red;' >[nutshell]</span>'.   <span style='color:red;' >[fear]</span>, <span style='color:red;' >[loathing]</span>, and <span style='color:red;' >[hatred]</span> of  <span style='color:red;' >[liberals']</span> is what <span style='color:red;' >[drives]</span> these <span style='color:red;' >[people]</span>.   they would <span style='color:red;' >[vote]</span> for a <span style='color:red;' >[slate]</span> of <span style='color:red;' >[kangaroos]</span> <span style='color:red;' >[provided]</span> that the <span style='color:red;' >[kangaroos]</span> were <span style='color:red;' >[portrayed]</span> as the <span style='color:red;' >[opposition]</span> to the <span style='color:red;' >[liberal agenda]</span>'.  <span style='color:red;' >[pathetic]</span> and <span style='color:red;' >[mindless]</span>."
      ],
      "text/plain": [
       "<IPython.core.display.HTML object>"
      ]
     },
     "metadata": {},
     "output_type": "display_data"
    },
    {
     "name": "stdout",
     "output_type": "stream",
     "text": [
      "19 KWS: {'loathing', 'provided', 'liberal agenda', 'pathetic', 'agenda', 'mindless', 'slate', 'fear', \"liberals'\", 'hatred', 'people', 'kangaroos provided', 'kangaroos', 'vote', 'portrayed', 'nutshell', 'opposition', 'liberal', 'drives'}\n",
      "*********************************************\n",
      "306\n",
      "TABO words:  stupid\n",
      "13    If you're stupid enough to have a back yard in bear territory, yes.\n"
     ]
    },
    {
     "data": {
      "text/html": [
       "If you're <span style='color:red;' >[stupid]</span> enough to have a <span style='color:red;' >[back yard]</span> in <span style='color:red;' >[bear territory]</span>, yes."
      ],
      "text/plain": [
       "<IPython.core.display.HTML object>"
      ]
     },
     "metadata": {},
     "output_type": "display_data"
    },
    {
     "name": "stdout",
     "output_type": "stream",
     "text": [
      "7 KWS: {'back yard', 'yard', 'bear territory', 'bear', 'territory', 'stupid', 'back'}\n",
      "*********************************************\n",
      "307\n",
      "TABO words:  fool bastards\n",
      "41    Oh trust me, the first pockets he will be picking are yours lol! Your a fool if you don't get that. I'm pro not letting any of those bastards in this country but your barking up the wrong tree. Vote libertarian\n"
     ]
    },
    {
     "data": {
      "text/html": [
       "Oh <span style='color:red;' >[trust]</span> me, the first <span style='color:red;' >[pockets]</span> he will be <span style='color:red;' >[picking]</span> are yours <span style='color:red;' >[lol]</span>! Your a <span style='color:red;' >[fool]</span> if you don't get that. I'm <span style='color:red;' >[pro]</span> not <span style='color:red;' >[letting]</span> any of those <span style='color:red;' >[bastards]</span> in this <span style='color:red;' >[country]</span> but your <span style='color:red;' >[barking]</span> up the <span style='color:red;' >[wrong tree]</span>. <span style='color:red;' >[vote libertarian]</span>"
      ],
      "text/plain": [
       "<IPython.core.display.HTML object>"
      ]
     },
     "metadata": {},
     "output_type": "display_data"
    },
    {
     "name": "stdout",
     "output_type": "stream",
     "text": [
      "16 KWS: {'pockets', 'lol', 'vote libertarian', 'country', 'wrong', 'letting', 'fool', 'trust', 'tree', 'vote', 'bastards', 'libertarian', 'barking', 'wrong tree', 'picking', 'pro'}\n",
      "*********************************************\n",
      "308\n",
      "TABO words:  sleaze ball stink\n",
      "45    This sleaze ball has been lying about his investments and ripping off investors for years. It's good to see that they are finally going prosecute him.\n",
      "\n",
      "He's the type guy when you meet him and shake his hand you have to wipe off the stink.\n"
     ]
    },
    {
     "data": {
      "text/html": [
       "This <span style='color:red;' >[sleaze ball]</span> has been <span style='color:red;' >[lying]</span> about his <span style='color:red;' >[investments]</span> and <span style='color:red;' >[ripping]</span> off <span style='color:red;' >[investors]</span> for <span style='color:red;' >[years]</span>. It's <span style='color:red;' >[good]</span> to see that they are <span style='color:red;' >[finally]</span> going <span style='color:red;' >[prosecute]</span> him.  He's the <span style='color:red;' >[type guy]</span> when you <span style='color:red;' >[meet]</span> him and <span style='color:red;' >[shake]</span> his <span style='color:red;' >[hand]</span> you have to <span style='color:red;' >[wipe]</span> off the <span style='color:red;' >[stink]</span>."
      ],
      "text/plain": [
       "<IPython.core.display.HTML object>"
      ]
     },
     "metadata": {},
     "output_type": "display_data"
    },
    {
     "name": "stdout",
     "output_type": "stream",
     "text": [
      "19 KWS: {'type guy', 'stink', 'type', 'guy', 'shake', 'hand', 'investments', 'ripping', 'prosecute', 'sleaze', 'meet', 'wipe', 'ball', 'good', 'investors', 'years', 'finally', 'lying', 'sleaze ball'}\n",
      "*********************************************\n",
      "309\n",
      "TABO words:  stupid\n",
      "24    Hey Mateo, ever been to Texas? It's the second most diverse state. Lots of black and Hispanic police officers. What a stupid press release.\n"
     ]
    },
    {
     "data": {
      "text/html": [
       "<span style='color:red;' >[hey mateo]</span>, ever been to <span style='color:red;' >[texas]</span>? It's the second most <span style='color:red;' >[diverse]</span> <span style='color:red;' >[state]</span>. <span style='color:red;' >[lots]</span> of <span style='color:red;' >[black]</span> and <span style='color:red;' >[hispanic]</span> <span style='color:red;' >[police]</span> <span style='color:red;' >[officers]</span>. What a <span style='color:red;' >[stupid]</span> <span style='color:red;' >[press]</span> <span style='color:red;' >[release]</span>."
      ],
      "text/plain": [
       "<IPython.core.display.HTML object>"
      ]
     },
     "metadata": {},
     "output_type": "display_data"
    },
    {
     "name": "stdout",
     "output_type": "stream",
     "text": [
      "19 KWS: {'hey', 'diverse', 'texas', 'lots', 'officers', 'stupid press', 'police officers', 'hispanic police', 'black', 'press release', 'hispanic', 'mateo', 'release', 'diverse state', 'police', 'press', 'stupid', 'hey mateo', 'state'}\n",
      "*********************************************\n",
      "310\n",
      "TABO words:  ridicule hiney\n",
      "56    \"Homosexual men define their own masculinity.\"  \n",
      "\n",
      "It's BS statements like that that invite ridicule.  If you insist on entering the fray in that manner, don't complain when the truth kicks you right in the hiney.  Simply put, it is the antithesis of masculinity for a man to --- I'll remain polite --- have another man sexually.\n"
     ]
    },
    {
     "data": {
      "text/html": [
       "\"<span style='color:red;' >[homosexual men]</span> <span style='color:red;' >[define]</span> their own <span style='color:red;' >[masculinity]</span>.\"    It's BS <span style='color:red;' >[statements]</span> like that that <span style='color:red;' >[invite ridicule]</span>.  If you insist on entering the fray in that <span style='color:red;' >[manner]</span>, don't complain when the <span style='color:red;' >[truth kicks]</span> you right in the <span style='color:red;' >[hiney]</span>.  <span style='color:red;' >[simply put]</span>, it is the antithesis of <span style='color:red;' >[masculinity]</span> for a <span style='color:red;' >[man]</span> to --- I'll <span style='color:red;' >[remain polite]</span> --- have another <span style='color:red;' >[man]</span> sexually."
      ],
      "text/plain": [
       "<IPython.core.display.HTML object>"
      ]
     },
     "metadata": {},
     "output_type": "display_data"
    },
    {
     "name": "stdout",
     "output_type": "stream",
     "text": [
      "20 KWS: {'masculinity', 'remain polite', 'man sexually', 'homosexual', 'simply put', 'man', 'polite', 'hiney', 'homosexual men', 'ridicule', 'statements', 'invite ridicule', 'simply', 'define', 'manner', 'truth kicks', 'put', 'men define', 'invite', 'men'}\n",
      "*********************************************\n",
      "311\n",
      "TABO words:  Muslim terrorist\n",
      "35    And was the Oklahoma bombing, which was our worst albeit I neglected to mention it as killing 168 people, including little children, also wasn't the work of Muslim terrorists, but of our own homespun crazies.\n"
     ]
    },
    {
     "data": {
      "text/html": [
       "And was the <span style='color:red;' >[oklahoma bombing]</span>, which was our <span style='color:red;' >[worst albeit]</span> I <span style='color:red;' >[neglected]</span> to <span style='color:red;' >[mention]</span> it as <span style='color:red;' >[killing]</span> 168 <span style='color:red;' >[people]</span>, <span style='color:red;' >[including]</span> little <span style='color:red;' >[children]</span>, also wasn't the <span style='color:red;' >[work]</span> of <span style='color:red;' >[muslim terrorists]</span>, but of our own <span style='color:red;' >[homespun crazies]</span>."
      ],
      "text/plain": [
       "<IPython.core.display.HTML object>"
      ]
     },
     "metadata": {},
     "output_type": "display_data"
    },
    {
     "name": "stdout",
     "output_type": "stream",
     "text": [
      "19 KWS: {'bombing', 'terrorists', 'including', 'oklahoma', 'crazies', 'worst', 'mention', 'oklahoma bombing', 'muslim terrorists', 'homespun crazies', 'muslim', 'killing', 'children', 'homespun', 'worst albeit', 'work', 'people', 'albeit', 'neglected'}\n",
      "*********************************************\n",
      "312\n",
      "TABO words:  stupid\n",
      "43    Blackmailed is the title of his new book.  Although he probably would get blackmailed more for the things he's done past and present, hehe.  Besides why do you think most of the Republicans are still at his side, they can't be that stupid.\n"
     ]
    },
    {
     "data": {
      "text/html": [
       "<span style='color:red;' >[blackmailed]</span> is the <span style='color:red;' >[title]</span> of his new <span style='color:red;' >[book]</span>.  Although he probably would get <span style='color:red;' >[blackmailed]</span> more for the <span style='color:red;' >[things]</span> he's done <span style='color:red;' >[past]</span> and <span style='color:red;' >[present]</span>, <span style='color:red;' >[hehe]</span>.  Besides why do you think most of the <span style='color:red;' >[republicans]</span> are still at his <span style='color:red;' >[side]</span>, they can't be that <span style='color:red;' >[stupid]</span>."
      ],
      "text/plain": [
       "<IPython.core.display.HTML object>"
      ]
     },
     "metadata": {},
     "output_type": "display_data"
    },
    {
     "name": "stdout",
     "output_type": "stream",
     "text": [
      "10 KWS: {'book', 'past', 'present', 'things', 'side', 'blackmailed', 'republicans', 'stupid', 'hehe', 'title'}\n",
      "*********************************************\n",
      "313\n",
      "TABO words:  'The governme incompetent band of crooks\n",
      "174    ''The government has already sold about 30 per cent of the shares in Hydro One, and plans to sell another 30 per cent to raise billions of dollars to pay down debt and to fund public transit and infrastructure projects.'' \n",
      "Sure. That's what we want. Wynne and her incompetent band of crooks getting access to MORE money. They've already driven the Ontario economy over a cliff. Of course, they'll spend it on paying down the debt (which is Everest-sized, and costs 1 billion dollars each month to service - thanks, Kathy,) and funding infrastructure and transit. Bullfeathers. That cash will disappear into the same black hole as all the rest.They'll burn through that money faster than a wind-driven grass fire. Then, they'll come looking for more. It's what they do, and it's what they've done. A whole lot of their pals will get rich in the process, and the rest of us will be left holding an empty bag. How anyone could believe one word that these lying bunch of thieves says, is astounding.\n"
     ]
    },
    {
     "data": {
      "text/html": [
       "''The <span style='color:red;' >[government]</span> has already <span style='color:red;' >[sold]</span> about 30 per <span style='color:red;' >[cent]</span> of the <span style='color:red;' >[shares]</span> in <span style='color:red;' >[hydro]</span> One, and <span style='color:red;' >[plans]</span> to <span style='color:red;' >[sell]</span> another 30 per <span style='color:red;' >[cent]</span> to <span style='color:red;' >[raise billions]</span> of <span style='color:red;' >[dollars]</span> to <span style='color:red;' >[pay]</span> down <span style='color:red;' >[debt]</span> and to <span style='color:red;' >[fund public]</span> transit and infrastructure projects.''  Sure. That's what we want. Wynne and her incompetent band of crooks getting access to MORE money. They've already driven the <span style='color:red;' >[ontario economy]</span> over a cliff. Of course, they'll spend it on paying down the <span style='color:red;' >[debt]</span> (which is Everest-sized, and costs 1 <span style='color:red;' >[billion dollars]</span> each month to service - thanks, Kathy,) and funding infrastructure and transit. Bullfeathers. That cash will disappear into the same black hole as all the rest.They'll burn through that money faster than a wind-driven grass fire. Then, they'll come looking for more. It's what they do, and it's what they've done. A whole lot of their pals will get rich in the process, and the rest of us will be left holding an empty bag. How anyone could believe one word that these lying bunch of thieves says, is astounding."
      ],
      "text/plain": [
       "<IPython.core.display.HTML object>"
      ]
     },
     "metadata": {},
     "output_type": "display_data"
    },
    {
     "name": "stdout",
     "output_type": "stream",
     "text": [
      "20 KWS: {'government', 'billion dollars', 'projects.', 'ontario economy', 'cent', 'plans', 'fund', 'shares', 'dollars', 'raise', 'pay', 'public', 'debt', 'sell', 'fund public', 'infrastructure projects.', 'sold', 'raise billions', 'public transit', 'hydro'}\n",
      "*********************************************\n",
      "314\n",
      "TABO words:  stupidity\n",
      "45    What these two judges did is mindboggling.  They said that foreigners living in foreign countries have a Constitutional right to come to the U.S.  Yes, that is the effect of their ruling.  It is unprecedented and unconstitutional.  They should resign or be impeached for stupidity.\n"
     ]
    },
    {
     "data": {
      "text/html": [
       "What these two <span style='color:red;' >[judges]</span> did is <span style='color:red;' >[mindboggling]</span>.  They said that <span style='color:red;' >[foreigners living]</span> in <span style='color:red;' >[foreign countries]</span> have a <span style='color:red;' >[constitutional]</span> right to come to the U.S.  Yes, that is the <span style='color:red;' >[effect]</span> of their <span style='color:red;' >[ruling]</span>.  It is <span style='color:red;' >[unprecedented]</span> and <span style='color:red;' >[unconstitutional]</span>.  They should <span style='color:red;' >[resign]</span> or be <span style='color:red;' >[impeached]</span> for <span style='color:red;' >[stupidity]</span>."
      ],
      "text/plain": [
       "<IPython.core.display.HTML object>"
      ]
     },
     "metadata": {},
     "output_type": "display_data"
    },
    {
     "name": "stdout",
     "output_type": "stream",
     "text": [
      "16 KWS: {'foreign countries', 'foreigners', 'living', 'foreign', 'countries', 'mindboggling', 'foreigners living', 'constitutional', 'judges', 'effect', 'stupidity', 'ruling', 'unprecedented', 'impeached', 'resign', 'unconstitutional'}\n",
      "*********************************************\n",
      "315\n",
      "TABO words:  stupid foolish\n",
      "86    I'm all for peaceful protests. But just complaining about the way things are without trying to convey how things should be doesn't get you very far in my books. And being violent and belligerent is always stupid. You do nothing to bring people together that way - which is what I think the majority of successful protests are about.\n",
      "\n",
      "If you're someone who does see Trump as \"your president\" and think \"this is how everyone who disagrees with me is like\" then you're just as foolish.\n"
     ]
    },
    {
     "data": {
      "text/html": [
       "I'm all for <span style='color:red;' >[peaceful protests]</span>. But just <span style='color:red;' >[complaining]</span> about the way <span style='color:red;' >[things]</span> are without trying to <span style='color:red;' >[convey]</span> how <span style='color:red;' >[things]</span> should be doesn't get you very far in my <span style='color:red;' >[books]</span>. And being <span style='color:red;' >[violent]</span> and <span style='color:red;' >[belligerent]</span> is always <span style='color:red;' >[stupid]</span>. You do nothing to <span style='color:red;' >[bring people]</span> together that way - which is what I think the <span style='color:red;' >[majority]</span> of <span style='color:red;' >[successful]</span> <span style='color:red;' >[protests]</span> are about.  If you're someone who does see <span style='color:red;' >[trump]</span> as \"your <span style='color:red;' >[president]</span>\" and think \"this is how everyone who <span style='color:red;' >[disagrees]</span> with me is like\" then you're just as <span style='color:red;' >[foolish]</span>."
      ],
      "text/plain": [
       "<IPython.core.display.HTML object>"
      ]
     },
     "metadata": {},
     "output_type": "display_data"
    },
    {
     "name": "stdout",
     "output_type": "stream",
     "text": [
      "20 KWS: {'violent', 'books', 'protests', 'belligerent', 'things', 'peaceful', 'successful protests', 'trump', 'bring people', 'foolish', 'convey', 'president', 'people', 'successful', 'bring', 'stupid', 'disagrees', 'majority', 'peaceful protests', 'complaining'}\n",
      "*********************************************\n",
      "316\n",
      "TABO words:  man traitor\n",
      "91    This man is a bonified traitor, they should make an example of him to disuade others from taking such actions. They used to shoot traitors, now they just put them in military prisons for a while and then give them sex change surgery upon request, and we pay for it. The only thing we should be giving them is a last meal of their choice, and the option of a blind fold, a cigarette or any last words. Their actions are an affront to all who have served their country honorably.\n"
     ]
    },
    {
     "data": {
      "text/html": [
       "This <span style='color:red;' >[man]</span> is a <span style='color:red;' >[bonified traitor]</span>, they should <span style='color:red;' >[make]</span> an example of him to <span style='color:red;' >[disuade]</span> others from <span style='color:red;' >[taking]</span> such <span style='color:red;' >[actions]</span>. They used to <span style='color:red;' >[shoot traitors]</span>, now they just <span style='color:red;' >[put]</span> them in <span style='color:red;' >[military prisons]</span> for a while and then give them <span style='color:red;' >[sex change]</span> surgery upon <span style='color:red;' >[request]</span>, and we pay for it. The only thing we should be giving them is a last meal of their choice, and the option of a <span style='color:red;' >[blind fold]</span>, a cigarette or any last words. Their <span style='color:red;' >[actions]</span> are an affront to all who have served their <span style='color:red;' >[country honorably]</span>."
      ],
      "text/plain": [
       "<IPython.core.display.HTML object>"
      ]
     },
     "metadata": {},
     "output_type": "display_data"
    },
    {
     "name": "stdout",
     "output_type": "stream",
     "text": [
      "20 KWS: {'actions', 'military', 'military prisons', 'change surgery', 'prisons', 'man', 'traitors', 'traitor', 'request', 'bonified', 'bonified traitor', 'shoot traitors', 'put', 'country honorably', 'shoot', 'make', 'disuade', 'sex change', 'taking', 'blind fold'}\n",
      "*********************************************\n",
      "317\n",
      "TABO words:  fuck\n",
      "13    She was post-Beat Beat.  Literary yet fuck it all.  Like Neil Cassady, Kerouac.\n"
     ]
    },
    {
     "data": {
      "text/html": [
       "She was <span style='color:red;' >[post-beat beat]</span>.  <span style='color:red;' >[literary]</span> yet <span style='color:red;' >[fuck]</span> it all.  Like <span style='color:red;' >[neil cassady]</span>, <span style='color:red;' >[kerouac]</span>."
      ],
      "text/plain": [
       "<IPython.core.display.HTML object>"
      ]
     },
     "metadata": {},
     "output_type": "display_data"
    },
    {
     "name": "stdout",
     "output_type": "stream",
     "text": [
      "9 KWS: {'literary', 'fuck', 'post-beat', 'neil cassady', 'post-beat beat', 'kerouac', 'beat', 'neil', 'cassady'}\n",
      "*********************************************\n",
      "318\n",
      "TABO words:  Damn regardless\n",
      "4    Damn brilliant writer regardless.\n"
     ]
    },
    {
     "data": {
      "text/html": [
       "<span style='color:red;' >[damn brilliant]</span> <span style='color:red;' >[writer]</span> regardless."
      ],
      "text/plain": [
       "<IPython.core.display.HTML object>"
      ]
     },
     "metadata": {},
     "output_type": "display_data"
    },
    {
     "name": "stdout",
     "output_type": "stream",
     "text": [
      "5 KWS: {'damn brilliant', 'damn', 'brilliant writer', 'writer', 'brilliant'}\n",
      "*********************************************\n",
      "319\n",
      "TABO words: \n",
      "23    As \"Fingers\" McDoofus, an old 18C friend of mine (name changed to protect the stupid) told me, \"Pay attention when dealing with explosives\".\n"
     ]
    },
    {
     "data": {
      "text/html": [
       "As \"<span style='color:red;' >[fingers]</span>\" <span style='color:red;' >[mcdoofus]</span>, an old 18C <span style='color:red;' >[friend]</span> of <span style='color:red;' >[mine]</span> (name <span style='color:red;' >[changed]</span> to <span style='color:red;' >[protect]</span> the <span style='color:red;' >[stupid]</span>) <span style='color:red;' >[told]</span> me, \"<span style='color:red;' >[pay attention]</span> when <span style='color:red;' >[dealing]</span> with <span style='color:red;' >[explosives]</span>\"."
      ],
      "text/plain": [
       "<IPython.core.display.HTML object>"
      ]
     },
     "metadata": {},
     "output_type": "display_data"
    },
    {
     "name": "stdout",
     "output_type": "stream",
     "text": [
      "13 KWS: {'mcdoofus', 'mine', 'told', 'friend', 'protect', 'fingers', 'attention', 'pay', 'pay attention', 'explosives', 'stupid', 'changed', 'dealing'}\n",
      "*********************************************\n",
      "320\n",
      "TABO words:  A clueless fool and demagogue like tRump stupid\n",
      "87    A clueless fool and demagogue like tRump cannot bring it back? Shocker. \n",
      "\n",
      "\n",
      "Just like his foolish approach to things like trade and automation are likely to fail, too. \n",
      "\n",
      "\n",
      "Unfortunately, far too few of politicians - especially on the right, where late-stage capitalism is an article of faith - are looking at things systemically or even taking advice of experts that do. \n",
      "\n",
      "\n",
      "The conspiracy theories and scapegoating that is likely to occur under stupid leadership like Trump as we go through the coming changes are potentially quite dangerous.\n"
     ]
    },
    {
     "data": {
      "text/html": [
       "A <span style='color:red;' >[clueless fool]</span> and <span style='color:red;' >[demagogue]</span> like <span style='color:red;' >[trump]</span> cannot <span style='color:red;' >[bring]</span> it <span style='color:red;' >[back]</span>? <span style='color:red;' >[shocker]</span>.    Just like his <span style='color:red;' >[foolish approach]</span> to <span style='color:red;' >[things]</span> like <span style='color:red;' >[trade]</span> and automation are likely to <span style='color:red;' >[fail]</span>, too.    Unfortunately, far too few of <span style='color:red;' >[politicians]</span> - especially on the right, where <span style='color:red;' >[late-stage capitalism]</span> is an article of <span style='color:red;' >[faith]</span> - are looking at <span style='color:red;' >[things]</span> systemically or even <span style='color:red;' >[taking advice]</span> of experts that do.    The conspiracy theories and scapegoating that is likely to occur under stupid leadership like <span style='color:red;' >[trump]</span> as we go through the coming changes are potentially quite <span style='color:red;' >[dangerous]</span>."
      ],
      "text/plain": [
       "<IPython.core.display.HTML object>"
      ]
     },
     "metadata": {},
     "output_type": "display_data"
    },
    {
     "name": "stdout",
     "output_type": "stream",
     "text": [
      "20 KWS: {'politicians', 'clueless fool', 'dangerous', 'fail', 'faith', 'approach', 'things', 'fool', 'trump', 'late-stage capitalism', 'shocker', 'foolish', 'demagogue', 'clueless', 'things systemically', 'bring', 'taking advice', 'back', 'trade', 'foolish approach'}\n",
      "*********************************************\n",
      "321\n",
      "TABO words:  stupidity\n",
      "41    Really, we've endured at least 200 straight days of globe articles against trump and I'm sure your garbage replies are on at least 175 of those. Not sure who you are trying to kid miller. Once again your stupidity astounds me.\n"
     ]
    },
    {
     "data": {
      "text/html": [
       "Really, we've <span style='color:red;' >[endured]</span> at least 200 <span style='color:red;' >[straight days]</span> of <span style='color:red;' >[globe articles]</span> against <span style='color:red;' >[trump]</span> and I'm sure your <span style='color:red;' >[garbage replies]</span> are on at least 175 of those. Not sure who you are trying to <span style='color:red;' >[kid miller]</span>. Once again your <span style='color:red;' >[stupidity astounds]</span> me."
      ],
      "text/plain": [
       "<IPython.core.display.HTML object>"
      ]
     },
     "metadata": {},
     "output_type": "display_data"
    },
    {
     "name": "stdout",
     "output_type": "stream",
     "text": [
      "17 KWS: {'kid miller', 'endured', 'days', 'astounds', 'globe', 'straight days', 'kid', 'miller', 'articles', 'garbage replies', 'trump', 'garbage', 'stupidity astounds', 'replies', 'straight', 'globe articles', 'stupidity'}\n",
      "*********************************************\n",
      "322\n",
      "TABO words:  Stupid\n",
      "1    Stupid.\n"
     ]
    },
    {
     "data": {
      "text/html": [
       "<span style='color:red;' >[stupid]</span>."
      ],
      "text/plain": [
       "<IPython.core.display.HTML object>"
      ]
     },
     "metadata": {},
     "output_type": "display_data"
    },
    {
     "name": "stdout",
     "output_type": "stream",
     "text": [
      "1 KWS: {'stupid'}\n",
      "*********************************************\n",
      "323\n",
      "TABO words:  working\n",
      "24    She isn't charged so shit isn't working obviously, I know she isn't because she is my mom and I ate lunch with her today!\n"
     ]
    },
    {
     "data": {
      "text/html": [
       "She isn't <span style='color:red;' >[charged]</span> so <span style='color:red;' >[shit]</span> isn't <span style='color:red;' >[working]</span> obviously, I know she isn't because she is my <span style='color:red;' >[mom]</span> and I <span style='color:red;' >[ate lunch]</span> with her <span style='color:red;' >[today]</span>!"
      ],
      "text/plain": [
       "<IPython.core.display.HTML object>"
      ]
     },
     "metadata": {},
     "output_type": "display_data"
    },
    {
     "name": "stdout",
     "output_type": "stream",
     "text": [
      "8 KWS: {'shit', 'mom', 'lunch', 'today', 'ate lunch', 'working', 'charged', 'ate'}\n",
      "*********************************************\n",
      "324\n",
      "TABO words:  steal idiot\n",
      "179    Lol they all steal. We supported eu too. You think democrats don't enjoy it. Now explain why both sides disliked trump? Probably because he heartened to bring down there game. Thanks for pointing out that trump wasn't a thing during brexit. Once again couldn't figure out the point. People dislike the guise of refugees/ immigrants and the lovey dovey BS that goes along with it. I don't need a lesson on that and it was not even my point. Once again trump and farage and the next eu leaders are very relative to the point of immigration. My second point was the fact that all countries steal from there citizens and launder. We citizens get screwed from every country. You can say the we launder to the USA but it's politicians, republican and democrat. The USA launders to ME, Canada etc and the liberals and conservatives here are happy. They all seem to dislike trump which should be a big clue to his relativity in not only immigration but all policies. Once again I can clearly see the idiot.\n"
     ]
    },
    {
     "data": {
      "text/html": [
       "<span style='color:red;' >[lol]</span> they all <span style='color:red;' >[steal]</span>. We <span style='color:red;' >[supported]</span> eu too. You think <span style='color:red;' >[democrats]</span> don't <span style='color:red;' >[enjoy]</span> it. Now <span style='color:red;' >[explain]</span> why both sides disliked <span style='color:red;' >[trump]</span>? Probably because he heartened to bring down there <span style='color:red;' >[game]</span>. Thanks for pointing out that <span style='color:red;' >[trump]</span> wasn't a thing during brexit. Once again couldn't figure out the <span style='color:red;' >[point]</span>. People <span style='color:red;' >[dislike]</span> the guise of refugees/ immigrants and the lovey dovey BS that goes along with it. I don't need a lesson on that and it was not even my <span style='color:red;' >[point]</span>. Once again <span style='color:red;' >[trump]</span> and farage and the next eu leaders are very relative to the <span style='color:red;' >[point]</span> of <span style='color:red;' >[immigration]</span>. My second <span style='color:red;' >[point]</span> was the fact that all countries <span style='color:red;' >[steal]</span> from there <span style='color:red;' >[citizens]</span> and <span style='color:red;' >[launder]</span>. We <span style='color:red;' >[citizens]</span> get screwed from every country. You can say the we <span style='color:red;' >[launder]</span> to the <span style='color:red;' >[usa]</span> but it's politicians, republican and <span style='color:red;' >[democrat]</span>. The <span style='color:red;' >[usa]</span> <span style='color:red;' >[launders]</span> to ME, <span style='color:red;' >[canada]</span> etc and the liberals and conservatives here are happy. They all seem to <span style='color:red;' >[dislike]</span> <span style='color:red;' >[trump]</span> which should be a big clue to his relativity in not only <span style='color:red;' >[immigration]</span> but all policies. Once again I can clearly see the idiot."
      ],
      "text/plain": [
       "<IPython.core.display.HTML object>"
      ]
     },
     "metadata": {},
     "output_type": "display_data"
    },
    {
     "name": "stdout",
     "output_type": "stream",
     "text": [
      "20 KWS: {'steal', 'lol', 'immigration', 'disliked trump', 'explain', 'trump', 'sides disliked', 'enjoy', 'usa launders', 'citizens', 'democrat', 'point', 'launder', 'launders', 'dislike', 'game', 'supported', 'democrats', 'usa', 'canada'}\n",
      "*********************************************\n",
      "325\n",
      "TABO words:  buffoon\n",
      "5    Nah, he's a clueless buffoon.\n"
     ]
    },
    {
     "data": {
      "text/html": [
       "<span style='color:red;' >[nah]</span>, he's a <span style='color:red;' >[clueless buffoon]</span>."
      ],
      "text/plain": [
       "<IPython.core.display.HTML object>"
      ]
     },
     "metadata": {},
     "output_type": "display_data"
    },
    {
     "name": "stdout",
     "output_type": "stream",
     "text": [
      "4 KWS: {'nah', 'clueless buffoon', 'buffoon', 'clueless'}\n",
      "*********************************************\n",
      "326\n",
      "TABO words:  idiots\n",
      "125    How is it clueless. Humans are encroaching on every wild place. We put trails through the wilderness and by salmon streams and then idiots decide that that would be a great place to run or bike through. Where would you like them to go? All animals will report to the top of the peaks and not come down until we're done playing where you eat and sleep. Seriously, instead of making an idiotic remark to make someone mad, why not tell us all where the wild animals should go? We have surrounded them and cut through their homes. We are supposed to be the smartest animals on the planet but still we do these things. Wake up or move back to the lower 48 \"freeheels\"!\n"
     ]
    },
    {
     "data": {
      "text/html": [
       "How is it <span style='color:red;' >[clueless]</span>. <span style='color:red;' >[humans]</span> are <span style='color:red;' >[encroaching]</span> on every <span style='color:red;' >[wild]</span> <span style='color:red;' >[place]</span>. We <span style='color:red;' >[put trails]</span> through the <span style='color:red;' >[wilderness]</span> and by <span style='color:red;' >[salmon streams]</span> and then <span style='color:red;' >[idiots decide]</span> that that would be a great <span style='color:red;' >[place]</span> to run or bike through. Where would you like them to go? All <span style='color:red;' >[animals]</span> will report to the top of the peaks and not come down until we're done playing where you eat and sleep. Seriously, instead of making an idiotic remark to make someone mad, why not tell us all where the <span style='color:red;' >[wild]</span> <span style='color:red;' >[animals]</span> should go? We have surrounded them and cut through their homes. We are supposed to be the smartest <span style='color:red;' >[animals]</span> on the planet but still we do these things. Wake up or move back to the lower 48 \"freeheels\"!"
      ],
      "text/plain": [
       "<IPython.core.display.HTML object>"
      ]
     },
     "metadata": {},
     "output_type": "display_data"
    },
    {
     "name": "stdout",
     "output_type": "stream",
     "text": [
      "20 KWS: {'humans', 'salmon streams', 'great place', 'smartest animals', 'idiots decide', 'wild', 'put trails', 'encroaching', 'salmon', 'wild animals', 'streams', 'wild place', 'idiots', 'clueless', 'animals', 'wilderness', 'decide', 'put', 'trails', 'place'}\n",
      "*********************************************\n",
      "327\n",
      "TABO words:  stupid\n",
      "82    Of course there is no substance to this event, it shouldn't matter. But as the election nears the NDP and perhaps the Greens need every opportunity to discredit the Premier and the Liberals. Why, because their platforms are both very weak and are dependent on higher taxes. The economy is booming in BC and unemployment is low, what better way to derail that by voting in a tax and spend new government. As was once said so eloquently, it's the economy stupid.\n"
     ]
    },
    {
     "data": {
      "text/html": [
       "Of course there is no <span style='color:red;' >[substance]</span> to this <span style='color:red;' >[event]</span>, it shouldn't <span style='color:red;' >[matter]</span>. But as the <span style='color:red;' >[election]</span> nears the <span style='color:red;' >[ndp]</span> and perhaps the <span style='color:red;' >[greens]</span> need every <span style='color:red;' >[opportunity]</span> to <span style='color:red;' >[discredit]</span> the <span style='color:red;' >[premier]</span> and the <span style='color:red;' >[liberals]</span>. Why, because their <span style='color:red;' >[platforms]</span> are both very <span style='color:red;' >[weak]</span> and are <span style='color:red;' >[dependent]</span> on <span style='color:red;' >[higher taxes]</span>. The <span style='color:red;' >[economy]</span> is booming in BC and unemployment is <span style='color:red;' >[low]</span>, what better way to derail that by voting in a tax and spend new <span style='color:red;' >[government]</span>. As was once said so eloquently, it's the <span style='color:red;' >[economy]</span> stupid."
      ],
      "text/plain": [
       "<IPython.core.display.HTML object>"
      ]
     },
     "metadata": {},
     "output_type": "display_data"
    },
    {
     "name": "stdout",
     "output_type": "stream",
     "text": [
      "20 KWS: {'liberals', 'matter', 'discredit', 'government', 'platforms', 'higher', 'weak', 'event', 'election', 'higher taxes', 'economy stupid', 'greens', 'opportunity', 'dependent', 'taxes', 'substance', 'ndp', 'economy', 'premier', 'low'}\n",
      "*********************************************\n",
      "328\n",
      "TABO words: \n",
      "57    Wow, how times have changed! All hail the muslim. It wasn't so very long ago that Christians were told to remove all crosses from government properties in Hawaii and even some privately owned churches were heartily challenged. Now we have foreign born muslims on the front page and their \"right\" to be is heavily protected. Go figure.\n"
     ]
    },
    {
     "data": {
      "text/html": [
       "<span style='color:red;' >[wow]</span>, how <span style='color:red;' >[times]</span> have <span style='color:red;' >[changed]</span>! All <span style='color:red;' >[hail]</span> the muslim. It wasn't so very <span style='color:red;' >[long]</span> <span style='color:red;' >[ago]</span> that <span style='color:red;' >[christians]</span> were <span style='color:red;' >[told]</span> to <span style='color:red;' >[remove]</span> all <span style='color:red;' >[crosses]</span> from <span style='color:red;' >[government]</span> <span style='color:red;' >[properties]</span> in <span style='color:red;' >[hawaii]</span> and even some <span style='color:red;' >[privately]</span> <span style='color:red;' >[owned]</span> churches were <span style='color:red;' >[heartily challenged]</span>. Now we have foreign born muslims on the front page and their \"right\" to be is heavily <span style='color:red;' >[protected]</span>. Go <span style='color:red;' >[figure]</span>."
      ],
      "text/plain": [
       "<IPython.core.display.HTML object>"
      ]
     },
     "metadata": {},
     "output_type": "display_data"
    },
    {
     "name": "stdout",
     "output_type": "stream",
     "text": [
      "20 KWS: {'christians', 'crosses', 'government', 'remove', 'told', 'properties', 'figure', 'challenged', 'wow', 'privately', 'hail', 'hawaii', 'heartily challenged', 'protected', 'long', 'heavily protected', 'ago', 'changed', 'owned', 'times'}\n",
      "*********************************************\n",
      "329\n",
      "TABO words:  Stupid\n",
      "26    So if the state oil subsidy structure is so flawed why the heck are we electing oil guys to the legislature? Stupid is as stupid does.\n"
     ]
    },
    {
     "data": {
      "text/html": [
       "So if the <span style='color:red;' >[state oil]</span> <span style='color:red;' >[subsidy structure]</span> is so <span style='color:red;' >[flawed]</span> why the <span style='color:red;' >[heck]</span> are we <span style='color:red;' >[electing oil]</span> <span style='color:red;' >[guys]</span> to the <span style='color:red;' >[legislature]</span>? <span style='color:red;' >[stupid]</span> is as <span style='color:red;' >[stupid]</span> does."
      ],
      "text/plain": [
       "<IPython.core.display.HTML object>"
      ]
     },
     "metadata": {},
     "output_type": "display_data"
    },
    {
     "name": "stdout",
     "output_type": "stream",
     "text": [
      "15 KWS: {'state oil', 'subsidy structure', 'electing', 'heck', 'guys', 'subsidy', 'oil subsidy', 'electing oil', 'legislature', 'flawed', 'structure', 'oil', 'stupid', 'oil guys', 'state'}\n",
      "*********************************************\n",
      "330\n",
      "TABO words:  jackass\n",
      "24    Only the Mad King would invite and encourage lawsuits that are paid for with taxpayers dollars.  Who the h*ll voted for this bloated jackass!!\n"
     ]
    },
    {
     "data": {
      "text/html": [
       "Only the <span style='color:red;' >[mad king]</span> would <span style='color:red;' >[invite]</span> and <span style='color:red;' >[encourage lawsuits]</span> that are <span style='color:red;' >[paid]</span> for with <span style='color:red;' >[taxpayers dollars]</span>.  Who the h*ll <span style='color:red;' >[voted]</span> for this <span style='color:red;' >[bloated jackass]</span>!!"
      ],
      "text/plain": [
       "<IPython.core.display.HTML object>"
      ]
     },
     "metadata": {},
     "output_type": "display_data"
    },
    {
     "name": "stdout",
     "output_type": "stream",
     "text": [
      "15 KWS: {'voted', 'mad king', 'encourage lawsuits', 'taxpayers dollars', 'mad', 'encourage', 'lawsuits', 'king', 'jackass', 'bloated', 'paid', 'dollars', 'taxpayers', 'bloated jackass', 'invite'}\n",
      "*********************************************\n",
      "331\n",
      "TABO words:  Go f&ck moron\n",
      "21    Go f&ck yourself moron. Every American deserves the right to free speech and to protest in a way they see fit.\n"
     ]
    },
    {
     "data": {
      "text/html": [
       "Go f&ck yourself <span style='color:red;' >[moron]</span>. Every <span style='color:red;' >[american deserves]</span> the right to <span style='color:red;' >[free speech]</span> and to <span style='color:red;' >[protest]</span> in a way they see <span style='color:red;' >[fit]</span>."
      ],
      "text/plain": [
       "<IPython.core.display.HTML object>"
      ]
     },
     "metadata": {},
     "output_type": "display_data"
    },
    {
     "name": "stdout",
     "output_type": "stream",
     "text": [
      "9 KWS: {'moron', 'free speech', 'protest', 'deserves', 'speech', 'fit', 'american', 'american deserves', 'free'}\n",
      "*********************************************\n",
      "332\n",
      "TABO words:  nut ignorant\n",
      "33    your a nut job liberal troll of bs,, save it loser,, we laugh at the complete nonsense, blaming harris bs,, god you liberals never change, always consistently ignorant, lying and full of it..\n"
     ]
    },
    {
     "data": {
      "text/html": [
       "your a <span style='color:red;' >[nut job]</span> <span style='color:red;' >[liberal troll]</span> of bs,, <span style='color:red;' >[save]</span> it <span style='color:red;' >[loser]</span>,, we <span style='color:red;' >[laugh]</span> at the <span style='color:red;' >[complete nonsense]</span>, <span style='color:red;' >[blaming harris]</span> bs,, <span style='color:red;' >[god]</span> you liberals never <span style='color:red;' >[change]</span>, always <span style='color:red;' >[consistently ignorant]</span>, <span style='color:red;' >[lying]</span> and full of it.."
      ],
      "text/plain": [
       "<IPython.core.display.HTML object>"
      ]
     },
     "metadata": {},
     "output_type": "display_data"
    },
    {
     "name": "stdout",
     "output_type": "stream",
     "text": [
      "20 KWS: {'save', 'troll', 'loser', 'blaming harris', 'blaming', 'nut', 'ignorant', 'nonsense', 'job', 'job liberal', 'complete', 'complete nonsense', 'consistently ignorant', 'liberal troll', 'god', 'laugh', 'change', 'harris', 'lying', 'nut job'}\n",
      "*********************************************\n",
      "333\n",
      "TABO words:  gross stupidity\n",
      "88    \"Salazar said there was no “bad intent” on the part of DiStefano, George or MacIntyre, but rather “mistakes” were made.\"\n",
      "\n",
      "Huh! I learned a long time ago in the principle of CYA. When something like this happened in my area of responsibility, I was reaching out to legal and HR to make sure things were handled by the book . .  no looking away.\n",
      "\n",
      "No bad intent? Don't give me that . . . at best it was gross stupidity coupled with a severe case of willful blindness.\n"
     ]
    },
    {
     "data": {
      "text/html": [
       "\"<span style='color:red;' >[salazar]</span> said there was no “bad intent” on the <span style='color:red;' >[part]</span> of <span style='color:red;' >[distefano]</span>, <span style='color:red;' >[george]</span> or <span style='color:red;' >[macintyre]</span>, but rather “mistakes” were <span style='color:red;' >[made]</span>.\"  <span style='color:red;' >[huh]</span>! I <span style='color:red;' >[learned]</span> a <span style='color:red;' >[long time]</span> <span style='color:red;' >[ago]</span> in the principle of <span style='color:red;' >[cya]</span>. When something like this happened in my area of <span style='color:red;' >[responsibility]</span>, I was reaching out to legal and HR to make sure things were handled by the <span style='color:red;' >[book]</span> . .  no looking away.  No <span style='color:red;' >[bad intent]</span>? Don't give me that . . . at best it was gross stupidity coupled with a severe case of willful blindness."
      ],
      "text/plain": [
       "<IPython.core.display.HTML object>"
      ]
     },
     "metadata": {},
     "output_type": "display_data"
    },
    {
     "name": "stdout",
     "output_type": "stream",
     "text": [
      "20 KWS: {'book', 'learned', 'bad intent', 'intent', 'mistakes', 'cya', 'responsibility', 'long time', 'time', 'distefano', 'part', 'huh', 'time ago', 'macintyre', 'bad', 'made', 'ago', 'george', 'salazar', 'long'}\n",
      "*********************************************\n",
      "334\n",
      "TABO words:  stupid clumsy\n",
      "50    This is disgraceful. For the dems  to use this family as a prop and to bait Trump (who fell for it) is a new low. Their son was killed by Muslim extremists, not Trump. He was an American soldier. Trump's response was stupid and clumsy. There are no winners here.\n"
     ]
    },
    {
     "data": {
      "text/html": [
       "This is <span style='color:red;' >[disgraceful]</span>. For the <span style='color:red;' >[dems]</span>  to use this <span style='color:red;' >[family]</span> as a <span style='color:red;' >[prop]</span> and to <span style='color:red;' >[bait]</span> <span style='color:red;' >[trump]</span> (who <span style='color:red;' >[fell]</span> for it) is a new <span style='color:red;' >[low]</span>. Their <span style='color:red;' >[son]</span> was <span style='color:red;' >[killed]</span> by <span style='color:red;' >[muslim extremists]</span>, not <span style='color:red;' >[trump]</span>. He was an <span style='color:red;' >[american soldier]</span>. Trump's <span style='color:red;' >[response]</span> was stupid and <span style='color:red;' >[clumsy]</span>. There are no winners here."
      ],
      "text/plain": [
       "<IPython.core.display.HTML object>"
      ]
     },
     "metadata": {},
     "output_type": "display_data"
    },
    {
     "name": "stdout",
     "output_type": "stream",
     "text": [
      "20 KWS: {'son', 'trump response', 'family', 'bait', 'american soldier', 'muslim extremists', 'disgraceful', 'extremists', 'soldier', 'trump', 'prop', 'clumsy', 'response', 'bait trump', 'american', 'muslim', 'dems', 'killed', 'fell', 'low'}\n",
      "*********************************************\n",
      "335\n",
      "TABO words:  dumb\n",
      "25    Jon Stewart used to avoid referring to Bolling by name, instead describing him as the \"dumb one\" among FOX's talking heads. Now we know why.\n"
     ]
    },
    {
     "data": {
      "text/html": [
       "<span style='color:red;' >[jon stewart]</span> used to <span style='color:red;' >[avoid referring]</span> to <span style='color:red;' >[bolling]</span> by name, instead <span style='color:red;' >[describing]</span> him as the \"<span style='color:red;' >[dumb]</span> one\" among FOX's <span style='color:red;' >[talking heads]</span>. Now we know why."
      ],
      "text/plain": [
       "<IPython.core.display.HTML object>"
      ]
     },
     "metadata": {},
     "output_type": "display_data"
    },
    {
     "name": "stdout",
     "output_type": "stream",
     "text": [
      "14 KWS: {'stewart', 'fox talking', 'jon', 'bolling', 'heads', 'avoid', 'describing', 'referring', 'talking', 'talking heads', 'avoid referring', 'fox', 'jon stewart', 'dumb'}\n",
      "*********************************************\n",
      "336\n",
      "TABO words:  Lazy ass Lazy asses lazy\n",
      "161    And I assume the \"middle class\" includes the high income earning support industries for the oil companies? The racketeer-health care complex in Alaska? The out of state carpetbagging oil industry workers and CEO's and shareholders around the world profiting from our natural resources? \n",
      "\n",
      "Get the idea out of your head that people are paid what they're worth.\n",
      "\n",
      "The Koch brothers, who inherited their wealth, make 1000 times per hour more than what a nurse's aide does. Lazy ass nurse's aide!\n",
      "\n",
      "Because you live in the Bush, there may be no jobs. Lazy asses. \n",
      "\n",
      "Tough that your culture has been co-opted. All because you wanted to have a nice school in your community so your kids could be part of the dominant culture. Should have raised them stone-age style instead!\n",
      "\n",
      "I'm sure all the \"middle-class\" self-righteous types here invented Western culture and material wealth independently and by the aid of only their ingenious bootstraps. Why should they share with those lazy villagers?\n"
     ]
    },
    {
     "data": {
      "text/html": [
       "And I <span style='color:red;' >[assume]</span> the \"<span style='color:red;' >[middle class]</span>\" <span style='color:red;' >[includes]</span> the <span style='color:red;' >[high income]</span> <span style='color:red;' >[earning support]</span> <span style='color:red;' >[industries]</span> for the <span style='color:red;' >[oil companies]</span>? The racketeer-health care complex in Alaska? The out of state carpetbagging <span style='color:red;' >[oil]</span> industry workers and CEO's and shareholders around the world profiting from our natural resources?   Get the idea out of your head that people are paid what they're worth.  The Koch brothers, who inherited their wealth, make 1000 times per hour more than what a nurse's aide does. Lazy ass nurse's aide!  Because you live in the Bush, there may be no jobs. Lazy asses.   Tough that your culture has been co-opted. All because you wanted to have a nice school in your community so your kids could be part of the dominant culture. Should have raised them stone-age style instead!  I'm sure all the \"middle-class\" self-righteous types here invented Western culture and material wealth independently and by the aid of only their ingenious bootstraps. Why should they share with those lazy villagers?"
      ],
      "text/plain": [
       "<IPython.core.display.HTML object>"
      ]
     },
     "metadata": {},
     "output_type": "display_data"
    },
    {
     "name": "stdout",
     "output_type": "stream",
     "text": [
      "20 KWS: {'high income', 'nurse aide', 'support industries', 'assume', 'income earning', 'earning support', 'high', 'income', 'carpetbagging oil', 'oil industry', 'class', 'industries', 'middle', 'earning', 'support', 'includes', 'oil', 'middle class', 'oil companies', 'companies'}\n",
      "*********************************************\n",
      "337\n",
      "TABO words:  homosexuality\n",
      "45    Tell that to the Islamists who pray five times a day.  Tell that to the sex fiends who are teaching Grade 3 students homosexuality and gender identity  What kind of men and boys will these students be to women when they have no \"SELF CONTROL\".\n"
     ]
    },
    {
     "data": {
      "text/html": [
       "Tell that to the <span style='color:red;' >[islamists]</span> who <span style='color:red;' >[pray]</span> five <span style='color:red;' >[times]</span> a <span style='color:red;' >[day]</span>.  Tell that to the <span style='color:red;' >[sex fiends]</span> who are <span style='color:red;' >[teaching grade]</span> 3 <span style='color:red;' >[students]</span> <span style='color:red;' >[homosexuality]</span> and <span style='color:red;' >[gender identity]</span>  What <span style='color:red;' >[kind]</span> of <span style='color:red;' >[men]</span> and <span style='color:red;' >[boys]</span> will these <span style='color:red;' >[students]</span> be to women when they have no \"SELF <span style='color:red;' >[control]</span>\"."
      ],
      "text/plain": [
       "<IPython.core.display.HTML object>"
      ]
     },
     "metadata": {},
     "output_type": "display_data"
    },
    {
     "name": "stdout",
     "output_type": "stream",
     "text": [
      "20 KWS: {'gender', 'pray', 'kind', 'fiends', 'islamists', 'students', 'grade', 'control', 'teaching grade', 'gender identity', 'sex', 'teaching', 'day', 'homosexuality', 'men', 'sex fiends', 'identity', 'boys', 'students homosexuality', 'times'}\n",
      "*********************************************\n",
      "338\n",
      "TABO words:  idiotic\n",
      "7    Quit being a plethora of idiotic statements.\n"
     ]
    },
    {
     "data": {
      "text/html": [
       "<span style='color:red;' >[quit]</span> being a <span style='color:red;' >[plethora]</span> of <span style='color:red;' >[idiotic statements]</span>."
      ],
      "text/plain": [
       "<IPython.core.display.HTML object>"
      ]
     },
     "metadata": {},
     "output_type": "display_data"
    },
    {
     "name": "stdout",
     "output_type": "stream",
     "text": [
      "5 KWS: {'idiotic', 'quit', 'idiotic statements', 'statements', 'plethora'}\n",
      "*********************************************\n",
      "339\n",
      "TABO words:  clowns asses garbage\n",
      "109    These oil soaked clowns in the legislative majorities have drug this out for 5 months now and this is the best they can come up with. If I were Walker I'd plant their asses in Anchorage where the public can get to them for as long as it takes and for as many special sessions as it takes. They've already cost us millions and millions of dollars on garbage that we'll never see a dimes worth of return on, hold their feet to fire until they accomplish the one thing they are paid to do, that is to come up with a viable and sustainable budget FOR THE PEOPLE.\n"
     ]
    },
    {
     "data": {
      "text/html": [
       "These <span style='color:red;' >[oil soaked]</span> <span style='color:red;' >[clowns]</span> in the <span style='color:red;' >[legislative majorities]</span> have <span style='color:red;' >[drug]</span> this out for 5 <span style='color:red;' >[months]</span> now and this is the best they can come up with. If I were <span style='color:red;' >[walker]</span> I'd <span style='color:red;' >[plant]</span> their <span style='color:red;' >[asses]</span> in <span style='color:red;' >[anchorage]</span> where the <span style='color:red;' >[public]</span> can get to them for as long as it takes and for as many <span style='color:red;' >[special sessions]</span> as it takes. They've already cost us <span style='color:red;' >[millions]</span> and <span style='color:red;' >[millions]</span> of dollars on garbage that we'll never see a <span style='color:red;' >[dimes worth]</span> of return on, hold their feet to fire until they accomplish the one thing they are paid to do, that is to come up with a viable and <span style='color:red;' >[sustainable budget]</span> FOR THE <span style='color:red;' >[people]</span>."
      ],
      "text/plain": [
       "<IPython.core.display.HTML object>"
      ]
     },
     "metadata": {},
     "output_type": "display_data"
    },
    {
     "name": "stdout",
     "output_type": "stream",
     "text": [
      "20 KWS: {'legislative majorities', 'soaked clowns', 'drug', 'special sessions', 'soaked', 'anchorage', 'oil soaked', 'millions', 'sustainable budget', 'asses', 'public', 'legislative', 'oil', 'clowns', 'months', 'people', 'dimes worth', 'plant', 'majorities', 'walker'}\n",
      "*********************************************\n",
      "340\n",
      "TABO words:  idiotic ignorant\n",
      "19    The truth hurts so you have to resort to idiotic comments you just don't understand how ignorant you are.\n"
     ]
    },
    {
     "data": {
      "text/html": [
       "The <span style='color:red;' >[truth hurts]</span> so you have to <span style='color:red;' >[resort]</span> to <span style='color:red;' >[idiotic comments]</span> you just don't <span style='color:red;' >[understand]</span> how <span style='color:red;' >[ignorant]</span> you are."
      ],
      "text/plain": [
       "<IPython.core.display.HTML object>"
      ]
     },
     "metadata": {},
     "output_type": "display_data"
    },
    {
     "name": "stdout",
     "output_type": "stream",
     "text": [
      "9 KWS: {'comments', 'idiotic', 'ignorant', 'truth hurts', 'hurts', 'understand', 'truth', 'idiotic comments', 'resort'}\n",
      "*********************************************\n",
      "341\n",
      "TABO words: \n",
      "94    Nobody is falling for Trumps bait and switch anymore. His comments are pathetic and ignorant for a POTUS. His inability to grasp the importance of such an office is a stain on all Americans who voted for him. His constant lying is a burden on the democratic process. His own Party has given up and go in hiding every morning worried about what he has tweeted again at 3 am. There needs to be consequences applied to this type of behaviour. Impeach No. 45 for placing the national security of the USA in jeopardy.\n"
     ]
    },
    {
     "data": {
      "text/html": [
       "Nobody is <span style='color:red;' >[falling]</span> for <span style='color:red;' >[trumps bait]</span> and <span style='color:red;' >[switch anymore]</span>. His <span style='color:red;' >[comments]</span> are <span style='color:red;' >[pathetic]</span> and <span style='color:red;' >[ignorant]</span> for a <span style='color:red;' >[potus]</span>. His <span style='color:red;' >[inability]</span> to <span style='color:red;' >[grasp]</span> the importance of such an office is a stain on all <span style='color:red;' >[americans]</span> who voted for him. His <span style='color:red;' >[constant lying]</span> is a burden on the <span style='color:red;' >[democratic process]</span>. His own <span style='color:red;' >[party]</span> has given up and go in hiding every <span style='color:red;' >[morning worried]</span> about what he has tweeted again at 3 am. There needs to be consequences applied to this type of behaviour. Impeach No. 45 for placing the national security of the <span style='color:red;' >[usa]</span> in jeopardy."
      ],
      "text/plain": [
       "<IPython.core.display.HTML object>"
      ]
     },
     "metadata": {},
     "output_type": "display_data"
    },
    {
     "name": "stdout",
     "output_type": "stream",
     "text": [
      "20 KWS: {'anymore', 'comments', 'bait', 'pathetic', 'ignorant', 'switch', 'falling', 'trumps', 'trumps bait', 'potus', 'party', 'process', 'switch anymore', 'americans', 'democratic process', 'constant lying', 'morning worried', 'inability', 'usa', 'grasp'}\n",
      "*********************************************\n",
      "342\n",
      "TABO words:  morons\n",
      "19    I always knew they were a bunch of morons on the left coast, now this just proves my point.\n"
     ]
    },
    {
     "data": {
      "text/html": [
       "I always <span style='color:red;' >[knew]</span> they were a <span style='color:red;' >[bunch]</span> of <span style='color:red;' >[morons]</span> on the <span style='color:red;' >[left coast]</span>, now this just <span style='color:red;' >[proves]</span> my <span style='color:red;' >[point]</span>."
      ],
      "text/plain": [
       "<IPython.core.display.HTML object>"
      ]
     },
     "metadata": {},
     "output_type": "display_data"
    },
    {
     "name": "stdout",
     "output_type": "stream",
     "text": [
      "8 KWS: {'left', 'coast', 'proves', 'left coast', 'knew', 'morons', 'point', 'bunch'}\n",
      "*********************************************\n",
      "343\n",
      "TABO words:  stupid\n",
      "16    I remember when lying in politics was much more imaginative.\n",
      "Now they just say anything stupid.\n"
     ]
    },
    {
     "data": {
      "text/html": [
       "I <span style='color:red;' >[remember]</span> when <span style='color:red;' >[lying]</span> in <span style='color:red;' >[politics]</span> was much more <span style='color:red;' >[imaginative]</span>. Now they just say anything <span style='color:red;' >[stupid]</span>."
      ],
      "text/plain": [
       "<IPython.core.display.HTML object>"
      ]
     },
     "metadata": {},
     "output_type": "display_data"
    },
    {
     "name": "stdout",
     "output_type": "stream",
     "text": [
      "5 KWS: {'imaginative', 'politics', 'stupid', 'remember', 'lying'}\n",
      "*********************************************\n",
      "344\n",
      "TABO words:  Stupid idiotic\n",
      "20    Stupid argument, although I hesitate to even call it an argument.  Try addressing the issue, instead of making idiotic remarks.\n"
     ]
    },
    {
     "data": {
      "text/html": [
       "<span style='color:red;' >[stupid argument]</span>, although I <span style='color:red;' >[hesitate]</span> to even <span style='color:red;' >[call]</span> it an <span style='color:red;' >[argument]</span>.  Try <span style='color:red;' >[addressing]</span> the <span style='color:red;' >[issue]</span>, instead of <span style='color:red;' >[making]</span> <span style='color:red;' >[idiotic remarks]</span>."
      ],
      "text/plain": [
       "<IPython.core.display.HTML object>"
      ]
     },
     "metadata": {},
     "output_type": "display_data"
    },
    {
     "name": "stdout",
     "output_type": "stream",
     "text": [
      "12 KWS: {'making idiotic', 'remarks', 'idiotic remarks', 'issue', 'idiotic', 'argument', 'addressing', 'making', 'call', 'stupid', 'hesitate', 'stupid argument'}\n",
      "*********************************************\n",
      "345\n",
      "TABO words:  silly\n",
      "16    Hopefully no Habs d-man is silly enough to trip a guy going in full speed ;-)\n"
     ]
    },
    {
     "data": {
      "text/html": [
       "Hopefully no <span style='color:red;' >[habs d-man]</span> is <span style='color:red;' >[silly]</span> enough to <span style='color:red;' >[trip]</span> a <span style='color:red;' >[guy]</span> going in <span style='color:red;' >[full speed]</span> ;-)"
      ],
      "text/plain": [
       "<IPython.core.display.HTML object>"
      ]
     },
     "metadata": {},
     "output_type": "display_data"
    },
    {
     "name": "stdout",
     "output_type": "stream",
     "text": [
      "9 KWS: {'habs', 'd-man', 'habs d-man', 'silly', 'full', 'speed', 'full speed', 'trip', 'guy'}\n",
      "*********************************************\n",
      "346\n",
      "TABO words:  idiotic\n",
      "41    Lets just coddle these idiotic standoff perps and let them have their way. Next thing you know bank robbers will be given getaway cars for their timely escape. We dont want these criminals to be late to the next hillary rally.\n"
     ]
    },
    {
     "data": {
      "text/html": [
       "Lets just <span style='color:red;' >[coddle]</span> these <span style='color:red;' >[idiotic standoff]</span> <span style='color:red;' >[perps]</span> and let them have their way. Next <span style='color:red;' >[thing]</span> you know <span style='color:red;' >[bank robbers]</span> will be given <span style='color:red;' >[getaway cars]</span> for their <span style='color:red;' >[timely escape]</span>. We <span style='color:red;' >[dont]</span> want these <span style='color:red;' >[criminals]</span> to be late to the next <span style='color:red;' >[hillary rally]</span>."
      ],
      "text/plain": [
       "<IPython.core.display.HTML object>"
      ]
     },
     "metadata": {},
     "output_type": "display_data"
    },
    {
     "name": "stdout",
     "output_type": "stream",
     "text": [
      "20 KWS: {'timely escape', 'cars', 'thing', 'getaway cars', 'idiotic', 'robbers', 'rally', 'hillary rally', 'bank', 'getaway', 'standoff perps', 'standoff', 'dont', 'criminals', 'escape', 'idiotic standoff', 'perps', 'bank robbers', 'timely', 'coddle'}\n",
      "*********************************************\n",
      "347\n",
      "TABO words:  Monsef is an idiot and should be turfed from the Cabinet ....but Comrade Sunny Days is too enamoured with her\n",
      "20    Monsef is an idiot and should be turfed from the Cabinet ....but Comrade Sunny Days is too enamoured with her....\n"
     ]
    },
    {
     "data": {
      "text/html": [
       "<span style='color:red;' >[monsef]</span> is an <span style='color:red;' >[idiot]</span> and should be <span style='color:red;' >[turfed]</span> from the <span style='color:red;' >[cabinet]</span> ....but <span style='color:red;' >[comrade sunny]</span> <span style='color:red;' >[days]</span> is too <span style='color:red;' >[enamoured]</span> with her...."
      ],
      "text/plain": [
       "<IPython.core.display.HTML object>"
      ]
     },
     "metadata": {},
     "output_type": "display_data"
    },
    {
     "name": "stdout",
     "output_type": "stream",
     "text": [
      "10 KWS: {'idiot', 'days', 'sunny days', 'monsef', 'comrade', 'turfed', 'cabinet', 'enamoured', 'sunny', 'comrade sunny'}\n",
      "*********************************************\n",
      "348\n",
      "TABO words:  BAD\n",
      "10    Democrat message: TRUMP IS A BAD GUY. . ..Elect us!\n"
     ]
    },
    {
     "data": {
      "text/html": [
       "<span style='color:red;' >[democrat message]</span>: <span style='color:red;' >[trump]</span> IS A <span style='color:red;' >[bad guy]</span>. . ..Elect us!"
      ],
      "text/plain": [
       "<IPython.core.display.HTML object>"
      ]
     },
     "metadata": {},
     "output_type": "display_data"
    },
    {
     "name": "stdout",
     "output_type": "stream",
     "text": [
      "8 KWS: {'bad guy', 'trump', 'democrat message', 'message', 'elect', 'democrat', 'bad', 'guy'}\n",
      "*********************************************\n",
      "349\n",
      "TABO words:  stupid\n",
      "15    had this happened, had that happened.... so what - how stupid.  He'll never catch Gretzky\n"
     ]
    },
    {
     "data": {
      "text/html": [
       "had this <span style='color:red;' >[happened]</span>, had that <span style='color:red;' >[happened]</span>.... so what - how <span style='color:red;' >[stupid]</span>.  He'll never <span style='color:red;' >[catch gretzky]</span>"
      ],
      "text/plain": [
       "<IPython.core.display.HTML object>"
      ]
     },
     "metadata": {},
     "output_type": "display_data"
    },
    {
     "name": "stdout",
     "output_type": "stream",
     "text": [
      "5 KWS: {'happened', 'catch', 'gretzky', 'stupid', 'catch gretzky'}\n",
      "*********************************************\n",
      "350\n",
      "TABO words: \n",
      "20    Never uttered or wrote that crap. You're a liar stuck in a pig fight with yourself. Don't forget the lipstick.\n"
     ]
    },
    {
     "data": {
      "text/html": [
       "Never <span style='color:red;' >[uttered]</span> or <span style='color:red;' >[wrote]</span> that <span style='color:red;' >[crap]</span>. You're a <span style='color:red;' >[liar stuck]</span> in a <span style='color:red;' >[pig fight]</span> with yourself. Don't <span style='color:red;' >[forget]</span> the <span style='color:red;' >[lipstick]</span>."
      ],
      "text/plain": [
       "<IPython.core.display.HTML object>"
      ]
     },
     "metadata": {},
     "output_type": "display_data"
    },
    {
     "name": "stdout",
     "output_type": "stream",
     "text": [
      "11 KWS: {'uttered', 'forget', 'liar stuck', 'wrote', 'pig', 'liar', 'crap', 'lipstick', 'fight', 'pig fight', 'stuck'}\n",
      "*********************************************\n",
      "351\n",
      "TABO words:  Trump is the biggest hypocrite\n",
      "24    Trump is the biggest hypocrite and pathological liar the Republicans have produced yet, and conservatives lap up his lies like the sheep they are.\n"
     ]
    },
    {
     "data": {
      "text/html": [
       "<span style='color:red;' >[trump]</span> is the <span style='color:red;' >[biggest hypocrite]</span> and <span style='color:red;' >[pathological liar]</span> the <span style='color:red;' >[republicans]</span> have <span style='color:red;' >[produced]</span> yet, and <span style='color:red;' >[conservatives lap]</span> up his <span style='color:red;' >[lies]</span> like the <span style='color:red;' >[sheep]</span> they are."
      ],
      "text/plain": [
       "<IPython.core.display.HTML object>"
      ]
     },
     "metadata": {},
     "output_type": "display_data"
    },
    {
     "name": "stdout",
     "output_type": "stream",
     "text": [
      "14 KWS: {'biggest', 'lap', 'conservatives', 'pathological', 'hypocrite', 'biggest hypocrite', 'lies', 'liar', 'sheep', 'trump', 'produced', 'conservatives lap', 'pathological liar', 'republicans'}\n",
      "*********************************************\n",
      "352\n",
      "TABO words:  fukcin stupid\n",
      "15    Like they've never seen a fukcin goat before. This planets people are stupid beyond belief.\n"
     ]
    },
    {
     "data": {
      "text/html": [
       "Like they've never seen a <span style='color:red;' >[fukcin goat]</span> before. This <span style='color:red;' >[planets]</span> <span style='color:red;' >[people]</span> are <span style='color:red;' >[stupid]</span> beyond <span style='color:red;' >[belief]</span>."
      ],
      "text/plain": [
       "<IPython.core.display.HTML object>"
      ]
     },
     "metadata": {},
     "output_type": "display_data"
    },
    {
     "name": "stdout",
     "output_type": "stream",
     "text": [
      "8 KWS: {'fukcin', 'fukcin goat', 'belief', 'planets people', 'planets', 'people', 'stupid', 'goat'}\n",
      "*********************************************\n",
      "353\n",
      "TABO words:  COKE\n",
      "25    \" This will change his life in very difficult ways \"  ???? \n",
      "\n",
      "SNORTING COKE AND HAVING SEX WITH A TEEN WAS HIS #!&*# CHOICE !!!\n"
     ]
    },
    {
     "data": {
      "text/html": [
       "\" This will <span style='color:red;' >[change]</span> his <span style='color:red;' >[life]</span> in very <span style='color:red;' >[difficult]</span> ways \"  ????   <span style='color:red;' >[snorting coke]</span> AND HAVING <span style='color:red;' >[sex]</span> WITH A <span style='color:red;' >[teen]</span> WAS HIS #!&*# <span style='color:red;' >[choice]</span> !!!"
      ],
      "text/plain": [
       "<IPython.core.display.HTML object>"
      ]
     },
     "metadata": {},
     "output_type": "display_data"
    },
    {
     "name": "stdout",
     "output_type": "stream",
     "text": [
      "9 KWS: {'life', 'difficult', 'choice', 'snorting coke', 'coke', 'teen', 'sex', 'change', 'snorting'}\n",
      "*********************************************\n",
      "354\n",
      "TABO words:  money off the anti this and anti that crap government\n",
      "89    The water is just fine, as is the air.  Those that work in the oil industry drink the same water and breath the same air, as do their families.  Don't fall for the hype by those who make money off the anti this and anti that crap.  Lawyers will keep us safe, as those harmed by industries will sue the hell out of the alleged offenders.  It's all good.  Calm down.  We don't need a colossal sized government with government officials that know nothing about the areas they regulate.\n"
     ]
    },
    {
     "data": {
      "text/html": [
       "The <span style='color:red;' >[water]</span> is just <span style='color:red;' >[fine]</span>, as is the <span style='color:red;' >[air]</span>.  Those that <span style='color:red;' >[work]</span> in the <span style='color:red;' >[oil industry]</span> <span style='color:red;' >[drink]</span> the same <span style='color:red;' >[water]</span> and <span style='color:red;' >[breath]</span> the same <span style='color:red;' >[air]</span>, as do their <span style='color:red;' >[families]</span>.  Don't <span style='color:red;' >[fall]</span> for the <span style='color:red;' >[hype]</span> by those who <span style='color:red;' >[make money]</span> off the <span style='color:red;' >[anti]</span> this and <span style='color:red;' >[anti]</span> that <span style='color:red;' >[crap]</span>.  Lawyers will keep us safe, as those harmed by industries will sue the hell out of the <span style='color:red;' >[alleged offenders]</span>.  It's all good.  Calm down.  We don't need a colossal sized <span style='color:red;' >[government]</span> with <span style='color:red;' >[government]</span> officials that know nothing about the areas they regulate."
      ],
      "text/plain": [
       "<IPython.core.display.HTML object>"
      ]
     },
     "metadata": {},
     "output_type": "display_data"
    },
    {
     "name": "stdout",
     "output_type": "stream",
     "text": [
      "20 KWS: {'alleged offenders', 'government', 'industry', 'fall', 'breath', 'hype', 'oil industry', 'water', 'government officials', 'anti', 'make money', 'crap', 'industry drink', 'oil', 'fine', 'drink', 'work', 'families', 'sized government', 'air'}\n",
      "*********************************************\n",
      "355\n",
      "TABO words:  the writer of this piece of shit the jackass pathetic virtue signal you little bitch you're white the damn film don't review society you virtue signaling cunt\n",
      "87    I don't think the writer of this piece of shit knows what a \"white savior complex\" is if the jackass did know what it meant he would realize he used it incorrectly, also asians are pretty damn white so using a pathetic virtue signal like that is doesn't apply here, stop cowtowing to the Far Left you little bitch you're white stop self hating just because people have told you to. If you review a film review the damn film don't review society you virtue signaling cunt.\n"
     ]
    },
    {
     "data": {
      "text/html": [
       "I don't think the <span style='color:red;' >[writer]</span> of this piece of shit knows what a \"<span style='color:red;' >[white]</span> <span style='color:red;' >[savior complex]</span>\" is if the jackass did know what it meant he would realize he used it <span style='color:red;' >[incorrectly]</span>, also asians are <span style='color:red;' >[pretty damn]</span> <span style='color:red;' >[white]</span> so using a <span style='color:red;' >[pathetic virtue]</span> signal like that is doesn't apply here, <span style='color:red;' >[stop cowtowing]</span> to the Far <span style='color:red;' >[left]</span> you little bitch you're <span style='color:red;' >[white stop]</span> self hating just because people have told you to. If you <span style='color:red;' >[review]</span> a film <span style='color:red;' >[review]</span> the <span style='color:red;' >[damn film]</span> don't <span style='color:red;' >[review]</span> society you <span style='color:red;' >[virtue signaling]</span> cunt."
      ],
      "text/plain": [
       "<IPython.core.display.HTML object>"
      ]
     },
     "metadata": {},
     "output_type": "display_data"
    },
    {
     "name": "stdout",
     "output_type": "stream",
     "text": [
      "20 KWS: {'left', 'savior complex', 'incorrectly', 'white stop', 'white savior', 'signaling cunt', 'pretty damn', 'damn white', 'virtue signal', 'complex', 'damn', 'white', 'virtue', 'pathetic virtue', 'stop', 'virtue signaling', 'writer', 'damn film', 'stop cowtowing', 'review'}\n",
      "*********************************************\n",
      "356\n",
      "TABO words:  An Islam plant..last of the garbage\n",
      "9    What a disaster!!! An Islam plant..last of the garbage.\n"
     ]
    },
    {
     "data": {
      "text/html": [
       "What a <span style='color:red;' >[disaster]</span>!!! An <span style='color:red;' >[islam]</span> plant..last of the <span style='color:red;' >[garbage]</span>."
      ],
      "text/plain": [
       "<IPython.core.display.HTML object>"
      ]
     },
     "metadata": {},
     "output_type": "display_data"
    },
    {
     "name": "stdout",
     "output_type": "stream",
     "text": [
      "5 KWS: {'islam plant.', 'islam', 'disaster', 'garbage', 'plant.'}\n",
      "*********************************************\n",
      "357\n",
      "TABO words:  stupidity f*cking idiots\n",
      "26    oh! wait! you already burned down to a crisp in fort mac by your own stupidity, already. Stay the hell away from BC, you f*cking idiots.\n"
     ]
    },
    {
     "data": {
      "text/html": [
       "oh! <span style='color:red;' >[wait]</span>! you already <span style='color:red;' >[burned]</span> down to a <span style='color:red;' >[crisp]</span> in <span style='color:red;' >[fort mac]</span> by your own <span style='color:red;' >[stupidity]</span>, already. <span style='color:red;' >[stay]</span> the <span style='color:red;' >[hell]</span> away from BC, you f*cking <span style='color:red;' >[idiots]</span>."
      ],
      "text/plain": [
       "<IPython.core.display.HTML object>"
      ]
     },
     "metadata": {},
     "output_type": "display_data"
    },
    {
     "name": "stdout",
     "output_type": "stream",
     "text": [
      "12 KWS: {'mac', 'stay', 'crisp', 'burned', 'wait', 'idiots', 'fort', 'fort mac', 'cking idiots', 'hell', 'cking', 'stupidity'}\n",
      "*********************************************\n",
      "358\n",
      "TABO words:  White privilege\n",
      "63    \" White privilege\" is not much different from how Jews had  always been depicted as  snivelling rich bankers drinking baby blood, who exploit  poor people with usury and cheat. Privilege is just another version of Shylock aimed at white people. It is the haters who are doing the hating, as depicted in  the Elders of Zion, or Mien Kampf: old hate, new hated.\n"
     ]
    },
    {
     "data": {
      "text/html": [
       "\" <span style='color:red;' >[white privilege]</span>\" is not much different from how <span style='color:red;' >[jews]</span> had  always been depicted as  <span style='color:red;' >[snivelling rich]</span> <span style='color:red;' >[bankers drinking]</span> <span style='color:red;' >[baby blood]</span>, who exploit  <span style='color:red;' >[poor people]</span> with usury and <span style='color:red;' >[cheat]</span>. <span style='color:red;' >[privilege]</span> is just another version of <span style='color:red;' >[shylock aimed]</span> at <span style='color:red;' >[white people]</span>. It is the haters who are doing the hating, as depicted in  the Elders of Zion, or <span style='color:red;' >[mien kampf]</span>: old hate, new hated."
      ],
      "text/plain": [
       "<IPython.core.display.HTML object>"
      ]
     },
     "metadata": {},
     "output_type": "display_data"
    },
    {
     "name": "stdout",
     "output_type": "stream",
     "text": [
      "20 KWS: {'snivelling', 'baby blood', 'poor people', 'cheat', 'drinking baby', 'blood', 'rich', 'bankers', 'mien kampf', 'white', 'rich bankers', 'bankers drinking', 'privilege', 'white people', 'jews', 'white privilege', 'people', 'exploit poor', 'shylock aimed', 'snivelling rich'}\n",
      "*********************************************\n",
      "359\n",
      "TABO words:  white trash\n",
      "2    white trash!!!!!\n"
     ]
    },
    {
     "data": {
      "text/html": [
       "<span style='color:red;' >[white trash]</span>!!!!!"
      ],
      "text/plain": [
       "<IPython.core.display.HTML object>"
      ]
     },
     "metadata": {},
     "output_type": "display_data"
    },
    {
     "name": "stdout",
     "output_type": "stream",
     "text": [
      "3 KWS: {'white', 'white trash', 'trash'}\n",
      "*********************************************\n",
      "360\n",
      "TABO words:  stupidity idiots\n",
      "27    It's fun to point out the abuse and stupidity of local bureaucrats but ultimately it is the spineless voters who election after election vote idiots into office.\n"
     ]
    },
    {
     "data": {
      "text/html": [
       "It's <span style='color:red;' >[fun]</span> to <span style='color:red;' >[point]</span> out the <span style='color:red;' >[abuse]</span> and <span style='color:red;' >[stupidity]</span> of <span style='color:red;' >[local bureaucrats]</span> but <span style='color:red;' >[ultimately]</span> it is the <span style='color:red;' >[spineless voters]</span> who <span style='color:red;' >[election]</span> after <span style='color:red;' >[election]</span> <span style='color:red;' >[vote idiots]</span> into <span style='color:red;' >[office]</span>."
      ],
      "text/plain": [
       "<IPython.core.display.HTML object>"
      ]
     },
     "metadata": {},
     "output_type": "display_data"
    },
    {
     "name": "stdout",
     "output_type": "stream",
     "text": [
      "17 KWS: {'office', 'election', 'abuse', 'local', 'voters', 'vote idiots', 'idiots', 'bureaucrats', 'fun', 'vote', 'spineless', 'spineless voters', 'point', 'election vote', 'ultimately', 'local bureaucrats', 'stupidity'}\n",
      "*********************************************\n",
      "361\n",
      "TABO words:  idiots\n",
      "18    \"OUTSIDE TELlURIDE\"  yeah sure, Are you people complete idiots - not only not near it is another county.\n"
     ]
    },
    {
     "data": {
      "text/html": [
       "\"OUTSIDE <span style='color:red;' >[telluride]</span>\"  <span style='color:red;' >[yeah]</span> sure, Are you <span style='color:red;' >[people]</span> <span style='color:red;' >[complete idiots]</span> - not only not near it is another <span style='color:red;' >[county]</span>."
      ],
      "text/plain": [
       "<IPython.core.display.HTML object>"
      ]
     },
     "metadata": {},
     "output_type": "display_data"
    },
    {
     "name": "stdout",
     "output_type": "stream",
     "text": [
      "8 KWS: {'complete idiots', 'complete', 'county', 'idiots', 'yeah', 'people', 'people complete', 'telluride'}\n",
      "*********************************************\n",
      "362\n",
      "TABO words:  Trudeau\n",
      "41    That's Justin Trudeau for you, just another hollow suit. Empty of sincerity, disingenuous and hypocritical to the bone - ANYTHING to get elected.,\n",
      "Fonda  is getting little glimpses of what Electoral FRAUD in Canada is like and Trudeau demonstrated it perfectly.\n"
     ]
    },
    {
     "data": {
      "text/html": [
       "That's <span style='color:red;' >[justin trudeau]</span> for you, just another <span style='color:red;' >[hollow suit]</span>. <span style='color:red;' >[empty]</span> of <span style='color:red;' >[sincerity]</span>, <span style='color:red;' >[disingenuous]</span> and <span style='color:red;' >[hypocritical]</span> to the <span style='color:red;' >[bone]</span> - ANYTHING to get <span style='color:red;' >[elected]</span>., <span style='color:red;' >[fonda]</span>  is getting little <span style='color:red;' >[glimpses]</span> of what <span style='color:red;' >[electoral fraud]</span> in <span style='color:red;' >[canada]</span> is like and <span style='color:red;' >[trudeau]</span> demonstrated it <span style='color:red;' >[perfectly]</span>."
      ],
      "text/plain": [
       "<IPython.core.display.HTML object>"
      ]
     },
     "metadata": {},
     "output_type": "display_data"
    },
    {
     "name": "stdout",
     "output_type": "stream",
     "text": [
      "20 KWS: {'electoral fraud', 'hollow suit', 'suit', 'hypocritical', 'electoral', 'trudeau', 'bone', 'sincerity', 'justin trudeau', 'hollow', 'disingenuous', 'elected', 'fonda', 'justin', 'glimpses', 'fraud', 'trudeau demonstrated', 'perfectly', 'canada', 'empty'}\n",
      "*********************************************\n",
      "363\n",
      "TABO words:  stupid\n",
      "4    You can't fix stupid\n"
     ]
    },
    {
     "data": {
      "text/html": [
       "You can't <span style='color:red;' >[fix stupid]</span>"
      ],
      "text/plain": [
       "<IPython.core.display.HTML object>"
      ]
     },
     "metadata": {},
     "output_type": "display_data"
    },
    {
     "name": "stdout",
     "output_type": "stream",
     "text": [
      "3 KWS: {'stupid', 'fix', 'fix stupid'}\n",
      "*********************************************\n",
      "364\n",
      "TABO words:  idiot\n",
      "11    Are you on Earth? a bernie supporter is not \"Liberal\" idiot\n"
     ]
    },
    {
     "data": {
      "text/html": [
       "Are you on <span style='color:red;' >[earth]</span>? a <span style='color:red;' >[bernie]</span> <span style='color:red;' >[supporter]</span> is not \"<span style='color:red;' >[liberal]</span>\" <span style='color:red;' >[idiot]</span>"
      ],
      "text/plain": [
       "<IPython.core.display.HTML object>"
      ]
     },
     "metadata": {},
     "output_type": "display_data"
    },
    {
     "name": "stdout",
     "output_type": "stream",
     "text": [
      "6 KWS: {'bernie', 'idiot', 'bernie supporter', 'supporter', 'liberal', 'earth'}\n",
      "*********************************************\n",
      "365\n",
      "TABO words:  silly\n",
      "11    Exactly like they solved Chicago crime rates \n",
      "What a silly girl.\n"
     ]
    },
    {
     "data": {
      "text/html": [
       "Exactly like they <span style='color:red;' >[solved chicago]</span> <span style='color:red;' >[crime rates]</span>  What a <span style='color:red;' >[silly girl]</span>."
      ],
      "text/plain": [
       "<IPython.core.display.HTML object>"
      ]
     },
     "metadata": {},
     "output_type": "display_data"
    },
    {
     "name": "stdout",
     "output_type": "stream",
     "text": [
      "10 KWS: {'solved chicago', 'rates', 'crime', 'chicago crime', 'silly', 'silly girl', 'chicago', 'solved', 'crime rates', 'girl'}\n",
      "*********************************************\n",
      "366\n",
      "TABO words:  plagiarist hypocrite\n",
      "10    Flake is a plagiarist and a hypocrite. Ask Brett Bozell\n"
     ]
    },
    {
     "data": {
      "text/html": [
       "<span style='color:red;' >[flake]</span> is a <span style='color:red;' >[plagiarist]</span> and a <span style='color:red;' >[hypocrite]</span>. Ask <span style='color:red;' >[brett bozell]</span>"
      ],
      "text/plain": [
       "<IPython.core.display.HTML object>"
      ]
     },
     "metadata": {},
     "output_type": "display_data"
    },
    {
     "name": "stdout",
     "output_type": "stream",
     "text": [
      "6 KWS: {'flake', 'hypocrite', 'brett', 'bozell', 'brett bozell', 'plagiarist'}\n",
      "*********************************************\n",
      "367\n",
      "TABO words:  stupid\n",
      "14    Not much to be proud of Sousa, but then again you can't fix stupid\n"
     ]
    },
    {
     "data": {
      "text/html": [
       "Not much to be <span style='color:red;' >[proud]</span> of <span style='color:red;' >[sousa]</span>, but then again you can't <span style='color:red;' >[fix stupid]</span>"
      ],
      "text/plain": [
       "<IPython.core.display.HTML object>"
      ]
     },
     "metadata": {},
     "output_type": "display_data"
    },
    {
     "name": "stdout",
     "output_type": "stream",
     "text": [
      "5 KWS: {'fix', 'sousa', 'proud', 'fix stupid', 'stupid'}\n",
      "*********************************************\n",
      "368\n",
      "TABO words:  ass's mouth\n",
      "65    Trump makes it clear: Trumpcare is all about the tax cuts to the rich.\n",
      "\n",
      "\n",
      "That part he's crystal clear on, he's not confused or crazy-sounding. \n",
      "\n",
      "\n",
      "\n",
      "\n",
      "     He's got this part down pat—taking health care away from millions is going to be a huge boon to the wealthy, \n",
      "\n",
      "\n",
      "\n",
      "\n",
      "      \"tremendous savings\" in taxes.\n",
      "\n",
      "\n",
      "\n",
      "\n",
      "      That's all this has ever been about—now we've got it straight from the ass's mouth.\n"
     ]
    },
    {
     "data": {
      "text/html": [
       "<span style='color:red;' >[trump makes]</span> it <span style='color:red;' >[clear]</span>: <span style='color:red;' >[trumpcare]</span> is all about the <span style='color:red;' >[tax cuts]</span> to the <span style='color:red;' >[rich]</span>.   That <span style='color:red;' >[part]</span> he's <span style='color:red;' >[crystal clear]</span> on, he's not <span style='color:red;' >[confused]</span> or <span style='color:red;' >[crazy-sounding]</span>.           He's got this <span style='color:red;' >[part]</span> down pat—taking <span style='color:red;' >[health care]</span> away from millions is going to be a <span style='color:red;' >[huge boon]</span> to the wealthy,            \"<span style='color:red;' >[tremendous savings]</span>\" in taxes.           That's all this has ever been about—now we've got it straight from the ass's mouth."
      ],
      "text/plain": [
       "<IPython.core.display.HTML object>"
      ]
     },
     "metadata": {},
     "output_type": "display_data"
    },
    {
     "name": "stdout",
     "output_type": "stream",
     "text": [
      "20 KWS: {'cuts', 'crystal', 'taking health', 'ass mouth', 'crazy-sounding', 'rich', 'clear', 'makes', 'trump', 'part', 'tax', 'tremendous savings', 'pat', 'trumpcare', 'huge boon', 'crystal clear', 'health care', 'confused', 'trump makes', 'tax cuts'}\n",
      "*********************************************\n",
      "369\n",
      "TABO words:  hypocrites\n",
      "17    now if Harper was the PM all of you two faced hypocrites would be screaming like hell.\n"
     ]
    },
    {
     "data": {
      "text/html": [
       "now if <span style='color:red;' >[harper]</span> was the PM all of you two <span style='color:red;' >[faced hypocrites]</span> would be <span style='color:red;' >[screaming]</span> like <span style='color:red;' >[hell]</span>."
      ],
      "text/plain": [
       "<IPython.core.display.HTML object>"
      ]
     },
     "metadata": {},
     "output_type": "display_data"
    },
    {
     "name": "stdout",
     "output_type": "stream",
     "text": [
      "6 KWS: {'screaming', 'faced hypocrites', 'faced', 'hell', 'harper', 'hypocrites'}\n",
      "*********************************************\n",
      "370\n",
      "TABO words:  racist loser\n",
      "15    Trump emboldened this racist loser.  Expect more of the same because, you know... white people.\n"
     ]
    },
    {
     "data": {
      "text/html": [
       "<span style='color:red;' >[trump emboldened]</span> this <span style='color:red;' >[racist loser]</span>.  <span style='color:red;' >[expect]</span> more of the same because, you know... <span style='color:red;' >[white people]</span>."
      ],
      "text/plain": [
       "<IPython.core.display.HTML object>"
      ]
     },
     "metadata": {},
     "output_type": "display_data"
    },
    {
     "name": "stdout",
     "output_type": "stream",
     "text": [
      "10 KWS: {'emboldened', 'loser', 'expect', 'trump', 'white', 'trump emboldened', 'white people', 'people', 'racist loser', 'racist'}\n",
      "*********************************************\n",
      "371\n",
      "TABO words:  bahble can rape the little girls\n",
      "16    Iff'n y'all are a conservative and read the bahble the y'all can rape the little girls.\n"
     ]
    },
    {
     "data": {
      "text/html": [
       "<span style='color:red;' >[iff'n y'all]</span> are a <span style='color:red;' >[conservative]</span> and <span style='color:red;' >[read]</span> the <span style='color:red;' >[bahble]</span> the <span style='color:red;' >[y'all]</span> can <span style='color:red;' >[rape]</span> the little <span style='color:red;' >[girls]</span>."
      ],
      "text/plain": [
       "<IPython.core.display.HTML object>"
      ]
     },
     "metadata": {},
     "output_type": "display_data"
    },
    {
     "name": "stdout",
     "output_type": "stream",
     "text": [
      "8 KWS: {\"y'all\", 'conservative', 'rape', 'bahble', 'girls', 'read', \"iff'n\", \"iff'n y'all\"}\n",
      "*********************************************\n",
      "372\n",
      "TABO words:  damn\n",
      "16    Run the damn rioters into the jail.  PEACEFUL protest is the right, riot is the wrong.\n"
     ]
    },
    {
     "data": {
      "text/html": [
       "<span style='color:red;' >[run]</span> the <span style='color:red;' >[damn rioters]</span> into the <span style='color:red;' >[jail]</span>.  <span style='color:red;' >[peaceful protest]</span> is the right, <span style='color:red;' >[riot]</span> is the <span style='color:red;' >[wrong]</span>."
      ],
      "text/plain": [
       "<IPython.core.display.HTML object>"
      ]
     },
     "metadata": {},
     "output_type": "display_data"
    },
    {
     "name": "stdout",
     "output_type": "stream",
     "text": [
      "10 KWS: {'wrong', 'protest', 'damn rioters', 'jail', 'run', 'rioters', 'peaceful', 'damn', 'peaceful protest', 'riot'}\n",
      "*********************************************\n",
      "373\n",
      "TABO words:  ridiculous\n",
      "31    She should cut and run. It is ridiculous for her to be carrying that mortgage at this stage - especially when she wants to retire early. She doesn't need the house.\n"
     ]
    },
    {
     "data": {
      "text/html": [
       "She should <span style='color:red;' >[cut]</span> and <span style='color:red;' >[run]</span>. It is <span style='color:red;' >[ridiculous]</span> for her to be <span style='color:red;' >[carrying]</span> that <span style='color:red;' >[mortgage]</span> at this <span style='color:red;' >[stage]</span> - especially when she wants to <span style='color:red;' >[retire early]</span>. She doesn't need the <span style='color:red;' >[house]</span>."
      ],
      "text/plain": [
       "<IPython.core.display.HTML object>"
      ]
     },
     "metadata": {},
     "output_type": "display_data"
    },
    {
     "name": "stdout",
     "output_type": "stream",
     "text": [
      "10 KWS: {'mortgage', 'retire', 'early', 'cut', 'run', 'house', 'retire early', 'ridiculous', 'carrying', 'stage'}\n",
      "*********************************************\n",
      "374\n",
      "TABO words:  You gotta hit the Americans where it hurts\n",
      "8    You gotta hit the Americans where it hurts.\n"
     ]
    },
    {
     "data": {
      "text/html": [
       "You <span style='color:red;' >[gotta hit]</span> the <span style='color:red;' >[americans]</span> where it <span style='color:red;' >[hurts]</span>."
      ],
      "text/plain": [
       "<IPython.core.display.HTML object>"
      ]
     },
     "metadata": {},
     "output_type": "display_data"
    },
    {
     "name": "stdout",
     "output_type": "stream",
     "text": [
      "5 KWS: {'gotta', 'hurts', 'americans', 'gotta hit', 'hit'}\n",
      "*********************************************\n",
      "375\n",
      "TABO words:  lazy\n",
      "7    don't be so lazy and pay attention\n"
     ]
    },
    {
     "data": {
      "text/html": [
       "don't be so <span style='color:red;' >[lazy]</span> and <span style='color:red;' >[pay attention]</span>"
      ],
      "text/plain": [
       "<IPython.core.display.HTML object>"
      ]
     },
     "metadata": {},
     "output_type": "display_data"
    },
    {
     "name": "stdout",
     "output_type": "stream",
     "text": [
      "4 KWS: {'pay', 'pay attention', 'lazy', 'attention'}\n",
      "*********************************************\n",
      "376\n",
      "TABO words:  He would be dead if he was black\n",
      "8    He would be dead if he was black\n"
     ]
    },
    {
     "data": {
      "text/html": [
       "He would be <span style='color:red;' >[dead]</span> if he was <span style='color:red;' >[black]</span>"
      ],
      "text/plain": [
       "<IPython.core.display.HTML object>"
      ]
     },
     "metadata": {},
     "output_type": "display_data"
    },
    {
     "name": "stdout",
     "output_type": "stream",
     "text": [
      "2 KWS: {'black', 'dead'}\n",
      "*********************************************\n",
      "377\n",
      "TABO words:  stupid\n",
      "29    look, if there is a witness to any action, would not the investigators first talk to the witness?  why, no mention of the witness?  believe you are being stupid.\n"
     ]
    },
    {
     "data": {
      "text/html": [
       "look, if there is a <span style='color:red;' >[witness]</span> to any <span style='color:red;' >[action]</span>, would not the <span style='color:red;' >[investigators]</span> first <span style='color:red;' >[talk]</span> to the <span style='color:red;' >[witness]</span>?  why, no <span style='color:red;' >[mention]</span> of the <span style='color:red;' >[witness]</span>?  believe you are being <span style='color:red;' >[stupid]</span>."
      ],
      "text/plain": [
       "<IPython.core.display.HTML object>"
      ]
     },
     "metadata": {},
     "output_type": "display_data"
    },
    {
     "name": "stdout",
     "output_type": "stream",
     "text": [
      "6 KWS: {'mention', 'talk', 'action', 'investigators', 'stupid', 'witness'}\n",
      "*********************************************\n",
      "378\n",
      "TABO words:  this clown refuse to follow orders and pull out guns\n",
      "24    Obviously any child can tell this clown is guilty. Once again these dingdongs refuse to follow orders and pull out guns. Guilty. Case closed.\n"
     ]
    },
    {
     "data": {
      "text/html": [
       "Obviously any <span style='color:red;' >[child]</span> can tell this <span style='color:red;' >[clown]</span> is <span style='color:red;' >[guilty]</span>. Once again these <span style='color:red;' >[dingdongs refuse]</span> to <span style='color:red;' >[follow orders]</span> and <span style='color:red;' >[pull]</span> out <span style='color:red;' >[guns]</span>. <span style='color:red;' >[guilty]</span>. <span style='color:red;' >[case closed]</span>."
      ],
      "text/plain": [
       "<IPython.core.display.HTML object>"
      ]
     },
     "metadata": {},
     "output_type": "display_data"
    },
    {
     "name": "stdout",
     "output_type": "stream",
     "text": [
      "14 KWS: {'case', 'guilty', 'clown', 'refuse', 'follow', 'orders', 'dingdongs refuse', 'follow orders', 'case closed', 'child', 'closed', 'dingdongs', 'guns', 'pull'}\n",
      "*********************************************\n",
      "379\n",
      "TABO words: \n",
      "40    Yes Randy you are right!!! Why does this make front page news??? I lived in McGrath during the 80's and -50 was a common thing.  Thank goodness the weather has changed or these pansy ass journalists would freeze to death!!!\n"
     ]
    },
    {
     "data": {
      "text/html": [
       "Yes <span style='color:red;' >[randy]</span> you are right!!! Why does this <span style='color:red;' >[make front]</span> <span style='color:red;' >[page]</span> news??? I <span style='color:red;' >[lived]</span> in <span style='color:red;' >[mcgrath]</span> during the 80's and -50 was a <span style='color:red;' >[common thing]</span>.  Thank <span style='color:red;' >[goodness]</span> the <span style='color:red;' >[weather]</span> has <span style='color:red;' >[changed]</span> or these <span style='color:red;' >[pansy]</span> <span style='color:red;' >[ass]</span> <span style='color:red;' >[journalists]</span> would <span style='color:red;' >[freeze]</span> to <span style='color:red;' >[death]</span>!!!"
      ],
      "text/plain": [
       "<IPython.core.display.HTML object>"
      ]
     },
     "metadata": {},
     "output_type": "display_data"
    },
    {
     "name": "stdout",
     "output_type": "stream",
     "text": [
      "20 KWS: {'page', 'lived', 'make front', 'goodness', 'ass', 'thing', 'pansy', 'freeze', 'common thing', 'journalists', 'death', 'front', 'mcgrath', 'common', 'weather', 'front page', 'randy', 'pansy ass', 'make', 'changed'}\n",
      "*********************************************\n",
      "380\n",
      "TABO words:  Sick Truly sick\n",
      "11    Sick.  Truly sick.  No doubt you have case citations for us?\n"
     ]
    },
    {
     "data": {
      "text/html": [
       "<span style='color:red;' >[sick]</span>.  Truly <span style='color:red;' >[sick]</span>.  No <span style='color:red;' >[doubt]</span> you have <span style='color:red;' >[case]</span> <span style='color:red;' >[citations]</span> for us?"
      ],
      "text/plain": [
       "<IPython.core.display.HTML object>"
      ]
     },
     "metadata": {},
     "output_type": "display_data"
    },
    {
     "name": "stdout",
     "output_type": "stream",
     "text": [
      "5 KWS: {'case', 'case citations', 'sick', 'citations', 'doubt'}\n",
      "*********************************************\n",
      "381\n",
      "TABO words:  idiotic\n",
      "55    As most people can see, there are the same 4 or 5 people on here who back up Trump no matter what idiotic thing he says or does. When Trump said he could \"stand in the middle of 5th Avenue and shoot somebody, and still not lose votes\", these are those people. It's truly sad.\n"
     ]
    },
    {
     "data": {
      "text/html": [
       "As most <span style='color:red;' >[people]</span> can see, there are the same 4 or 5 <span style='color:red;' >[people]</span> on here who <span style='color:red;' >[back]</span> up <span style='color:red;' >[trump]</span> no <span style='color:red;' >[matter]</span> what <span style='color:red;' >[idiotic thing]</span> he says or does. When <span style='color:red;' >[trump]</span> said he could \"<span style='color:red;' >[stand]</span> in the <span style='color:red;' >[middle]</span> of 5th <span style='color:red;' >[avenue]</span> and <span style='color:red;' >[shoot]</span> somebody, and still not <span style='color:red;' >[lose votes]</span>\", these are those <span style='color:red;' >[people]</span>. It's truly <span style='color:red;' >[sad]</span>."
      ],
      "text/plain": [
       "<IPython.core.display.HTML object>"
      ]
     },
     "metadata": {},
     "output_type": "display_data"
    },
    {
     "name": "stdout",
     "output_type": "stream",
     "text": [
      "15 KWS: {'stand', 'matter', 'sad', 'thing', 'idiotic', 'votes', 'idiotic thing', 'trump', 'middle', 'avenue', 'lose votes', 'shoot', 'people', 'back', 'lose'}\n",
      "*********************************************\n",
      "382\n",
      "TABO words:  force Angry white men often make terrible decisions\n",
      "18    This will just force Canada to set up alternative trading arrangements. Angry white men often make terrible decisions.\n"
     ]
    },
    {
     "data": {
      "text/html": [
       "This will just <span style='color:red;' >[force canada]</span> to <span style='color:red;' >[set]</span> up <span style='color:red;' >[alternative]</span> <span style='color:red;' >[trading arrangements]</span>. <span style='color:red;' >[angry white]</span> <span style='color:red;' >[men]</span> often <span style='color:red;' >[make]</span> <span style='color:red;' >[terrible decisions]</span>."
      ],
      "text/plain": [
       "<IPython.core.display.HTML object>"
      ]
     },
     "metadata": {},
     "output_type": "display_data"
    },
    {
     "name": "stdout",
     "output_type": "stream",
     "text": [
      "19 KWS: {'trading arrangements', 'angry white', 'white men', 'trading', 'arrangements', 'force', 'men', 'alternative', 'white', 'set', 'alternative trading', 'terrible decisions', 'decisions', 'force canada', 'make', 'terrible', 'make terrible', 'canada', 'angry'}\n",
      "*********************************************\n",
      "383\n",
      "TABO words:  stupid\n",
      "30    \"I have pretty much decided that the account \"Always There\" is managed by a Russian provocateur.\" -- JimJohnson\n",
      "\n",
      "I doubt it. His posts are too stupid to be a Russian's.\n"
     ]
    },
    {
     "data": {
      "text/html": [
       "\"I have <span style='color:red;' >[pretty]</span> much <span style='color:red;' >[decided]</span> that the <span style='color:red;' >[account]</span> \"Always There\" is <span style='color:red;' >[managed]</span> by a <span style='color:red;' >[russian provocateur]</span>.\" -- <span style='color:red;' >[jimjohnson]</span>  I <span style='color:red;' >[doubt]</span> it. His <span style='color:red;' >[posts]</span> are too <span style='color:red;' >[stupid]</span> to be a Russian's."
      ],
      "text/plain": [
       "<IPython.core.display.HTML object>"
      ]
     },
     "metadata": {},
     "output_type": "display_data"
    },
    {
     "name": "stdout",
     "output_type": "stream",
     "text": [
      "11 KWS: {'jimjohnson', 'managed', 'decided', 'russian', 'posts', 'pretty', 'provocateur', 'russian provocateur', 'stupid', 'doubt', 'account'}\n",
      "*********************************************\n",
      "384\n",
      "TABO words:  STUPID\n",
      "20    Adding more environmental disasters ADDS MORE TOXINS YOU STUPID, STUPID, STUPID PEOPLE.\n",
      "\n",
      "IT WILL NOT BE BUILT YOU CORRUPT IDIOTS.\n"
     ]
    },
    {
     "data": {
      "text/html": [
       "<span style='color:red;' >[adding]</span> more <span style='color:red;' >[environmental]</span> <span style='color:red;' >[disasters adds]</span> MORE <span style='color:red;' >[toxins]</span> YOU <span style='color:red;' >[stupid]</span>, <span style='color:red;' >[stupid]</span>, <span style='color:red;' >[stupid people]</span>.  IT WILL NOT BE <span style='color:red;' >[built]</span> YOU <span style='color:red;' >[corrupt idiots]</span>."
      ],
      "text/plain": [
       "<IPython.core.display.HTML object>"
      ]
     },
     "metadata": {},
     "output_type": "display_data"
    },
    {
     "name": "stdout",
     "output_type": "stream",
     "text": [
      "14 KWS: {'adds', 'environmental', 'environmental disasters', 'toxins', 'adding', 'disasters', 'stupid people', 'idiots', 'corrupt idiots', 'people', 'stupid', 'corrupt', 'disasters adds', 'built'}\n",
      "*********************************************\n",
      "385\n",
      "TABO words:  moron\n",
      "13    A childish display between a bufoon and a moron in a playground fight.\n"
     ]
    },
    {
     "data": {
      "text/html": [
       "A <span style='color:red;' >[childish display]</span> between a <span style='color:red;' >[bufoon]</span> and a <span style='color:red;' >[moron]</span> in a <span style='color:red;' >[playground fight]</span>."
      ],
      "text/plain": [
       "<IPython.core.display.HTML object>"
      ]
     },
     "metadata": {},
     "output_type": "display_data"
    },
    {
     "name": "stdout",
     "output_type": "stream",
     "text": [
      "8 KWS: {'moron', 'childish', 'bufoon', 'childish display', 'playground fight', 'playground', 'display', 'fight'}\n",
      "*********************************************\n",
      "386\n",
      "TABO words:  crap shoot lottery idiocy\n",
      "168    So, we create a crap shoot lottery to fund education? Along with closing 1-2 Pioneer Homes (to save money) and throwing seniors out on the street, if I as I suspect many have no place else to go? All to protect the wealthy from paying into a balanced an progressive tax plan?  Is this truly the kind of state we as a collective wish to create? How much lower can our Republican lead Senate drop to? \n",
      "\n",
      "I have no kids to educate nor do I have any family or anyone I know living in a Pioneer Home (so I have no stake in this), but I do know that I am willing to pay into a progressive income and/or sales tax within a balanced plan to insure that seniors are housed and that your kids are educated. \n",
      "\n",
      "This is about creating a common sense, responsible, balanced, and compassionate Alaskan society for all, not an everyone for themselves, statewide dystopia. \n",
      "\n",
      "This is not fiscal responsibility; this is fiscal idiocy.\n"
     ]
    },
    {
     "data": {
      "text/html": [
       "So, we <span style='color:red;' >[create]</span> a <span style='color:red;' >[crap shoot]</span> <span style='color:red;' >[lottery]</span> to <span style='color:red;' >[fund education]</span>? Along with closing 1-2 <span style='color:red;' >[pioneer homes]</span> (to <span style='color:red;' >[save money]</span>) and <span style='color:red;' >[throwing seniors]</span> out on the street, if I as I suspect many have no place else to go? All to protect the wealthy from paying into a <span style='color:red;' >[balanced]</span> an <span style='color:red;' >[progressive]</span> <span style='color:red;' >[tax]</span> <span style='color:red;' >[plan]</span>?  Is this truly the kind of state we as a collective wish to <span style='color:red;' >[create]</span>? How much lower can our Republican lead Senate drop to?   I have no kids to educate nor do I have any family or anyone I know living in a <span style='color:red;' >[pioneer]</span> <span style='color:red;' >[home]</span> (so I have no stake in this), but I do know that I am willing to pay into a <span style='color:red;' >[progressive]</span> income and/or sales <span style='color:red;' >[tax]</span> within a <span style='color:red;' >[balanced]</span> <span style='color:red;' >[plan]</span> to insure that <span style='color:red;' >[seniors]</span> are housed and that your kids are educated.   This is about creating a common sense, responsible, <span style='color:red;' >[balanced]</span>, and compassionate Alaskan society for all, not an everyone for themselves, statewide dystopia.   This is not fiscal responsibility; this is fiscal idiocy."
      ],
      "text/plain": [
       "<IPython.core.display.HTML object>"
      ]
     },
     "metadata": {},
     "output_type": "display_data"
    },
    {
     "name": "stdout",
     "output_type": "stream",
     "text": [
      "20 KWS: {'fund education', 'pioneer homes', 'education', 'crap shoot', 'lottery', 'home', 'create', 'pioneer', 'fund', 'seniors', 'plan', 'tax', 'crap', 'shoot lottery', 'throwing seniors', 'shoot', 'save money', 'homes', 'progressive', 'balanced'}\n",
      "*********************************************\n",
      "387\n",
      "TABO words:  slap GEA\n",
      "18    The King and Queen of Coal Mines, a slap in the face to the GEA, Butts, Telford LOL.\n"
     ]
    },
    {
     "data": {
      "text/html": [
       "The <span style='color:red;' >[king]</span> and <span style='color:red;' >[queen]</span> of <span style='color:red;' >[coal mines]</span>, a <span style='color:red;' >[slap]</span> in the <span style='color:red;' >[face]</span> to the <span style='color:red;' >[gea]</span>, <span style='color:red;' >[butts]</span>, <span style='color:red;' >[telford lol]</span>."
      ],
      "text/plain": [
       "<IPython.core.display.HTML object>"
      ]
     },
     "metadata": {},
     "output_type": "display_data"
    },
    {
     "name": "stdout",
     "output_type": "stream",
     "text": [
      "12 KWS: {'mines', 'lol', 'telford', 'coal', 'coal mines', 'queen', 'king', 'telford lol', 'butts', 'gea', 'face', 'slap'}\n",
      "*********************************************\n",
      "388\n",
      "TABO words:  What the Hells\n",
      "7    What the Hells wrong with you dude...\n"
     ]
    },
    {
     "data": {
      "text/html": [
       "What the <span style='color:red;' >[hells wrong]</span> with you <span style='color:red;' >[dude]</span>..."
      ],
      "text/plain": [
       "<IPython.core.display.HTML object>"
      ]
     },
     "metadata": {},
     "output_type": "display_data"
    },
    {
     "name": "stdout",
     "output_type": "stream",
     "text": [
      "4 KWS: {'dude', 'wrong', 'hells wrong', 'hells'}\n",
      "*********************************************\n",
      "389\n",
      "TABO words:  jerk\n",
      "11    Why does such a talented player have to  be a jerk?\n"
     ]
    },
    {
     "data": {
      "text/html": [
       "Why does such a <span style='color:red;' >[talented player]</span> have to  be a <span style='color:red;' >[jerk]</span>?"
      ],
      "text/plain": [
       "<IPython.core.display.HTML object>"
      ]
     },
     "metadata": {},
     "output_type": "display_data"
    },
    {
     "name": "stdout",
     "output_type": "stream",
     "text": [
      "4 KWS: {'talented player', 'player', 'jerk', 'talented'}\n",
      "*********************************************\n",
      "390\n",
      "TABO words:  stupid choose kill them stupid herd\n",
      "45    Wes Bascom.  Only the weak and stupid choose to ingest substances that will kill them. The weak and the stupid do not get to evolve.  They are eventually replaced by organisms not as weak and not as stupid.  It's nature's way of protecting the herd.\n"
     ]
    },
    {
     "data": {
      "text/html": [
       "<span style='color:red;' >[wes bascom]</span>.  Only the <span style='color:red;' >[weak]</span> and <span style='color:red;' >[stupid]</span> <span style='color:red;' >[choose]</span> to <span style='color:red;' >[ingest substances]</span> that will <span style='color:red;' >[kill]</span> them. The <span style='color:red;' >[weak]</span> and the <span style='color:red;' >[stupid]</span> do not get to <span style='color:red;' >[evolve]</span>.  They are <span style='color:red;' >[eventually]</span> <span style='color:red;' >[replaced]</span> by <span style='color:red;' >[organisms]</span> not as <span style='color:red;' >[weak]</span> and not as <span style='color:red;' >[stupid]</span>.  It's nature's way of <span style='color:red;' >[protecting]</span> the <span style='color:red;' >[herd]</span>."
      ],
      "text/plain": [
       "<IPython.core.display.HTML object>"
      ]
     },
     "metadata": {},
     "output_type": "display_data"
    },
    {
     "name": "stdout",
     "output_type": "stream",
     "text": [
      "19 KWS: {'eventually replaced', 'replaced', 'choose', 'weak', 'substances', 'wes bascom', 'herd', 'kill', 'nature', 'bascom', 'organisms', 'ingest', 'stupid choose', 'wes', 'eventually', 'stupid', 'protecting', 'ingest substances', 'evolve'}\n",
      "*********************************************\n",
      "391\n",
      "TABO words:  ridiculous\n",
      "3    Don’t be ridiculous.\n"
     ]
    },
    {
     "data": {
      "text/html": [
       "Don’t be <span style='color:red;' >[ridiculous]</span>."
      ],
      "text/plain": [
       "<IPython.core.display.HTML object>"
      ]
     },
     "metadata": {},
     "output_type": "display_data"
    },
    {
     "name": "stdout",
     "output_type": "stream",
     "text": [
      "2 KWS: {'n’t', 'ridiculous'}\n",
      "*********************************************\n",
      "392\n",
      "TABO words:  Catholic pathetic\n",
      "70    You prove my point that it is a matter of personal judgement, you don't think that 'certain' person is a troll, I do think he is. I'll grant you he is ostensibly civil but his aim is to pour scorn on and subtly abuse orthodox Catholic posters. Yet for all that I do not flag him nor do I mute him just because I think his comments are generally pathetic.\n"
     ]
    },
    {
     "data": {
      "text/html": [
       "You <span style='color:red;' >[prove]</span> my <span style='color:red;' >[point]</span> that it is a <span style='color:red;' >[matter]</span> of <span style='color:red;' >[personal judgement]</span>, you don't think that 'certain' <span style='color:red;' >[person]</span> is a <span style='color:red;' >[troll]</span>, I do think he is. I'll <span style='color:red;' >[grant]</span> you he is <span style='color:red;' >[ostensibly civil]</span> but his aim is to <span style='color:red;' >[pour scorn]</span> on and <span style='color:red;' >[subtly abuse]</span> orthodox <span style='color:red;' >[catholic posters]</span>. Yet for all that I do not flag him nor do I mute him just because I think his comments are <span style='color:red;' >[generally pathetic]</span>."
      ],
      "text/plain": [
       "<IPython.core.display.HTML object>"
      ]
     },
     "metadata": {},
     "output_type": "display_data"
    },
    {
     "name": "stdout",
     "output_type": "stream",
     "text": [
      "20 KWS: {'matter', 'catholic', 'troll', 'judgement', 'grant', 'ostensibly', 'subtly abuse', 'personal judgement', 'abuse orthodox', 'prove', 'catholic posters', 'civil', 'generally pathetic', 'orthodox catholic', 'point', 'pour scorn', 'person', 'posters', 'personal', 'ostensibly civil'}\n",
      "*********************************************\n",
      "393\n",
      "TABO words:  He should have killer\n",
      "18    He should have died in Afghanistan and be with Satan now--but we are stuck with this deviant killer.\n"
     ]
    },
    {
     "data": {
      "text/html": [
       "He should have <span style='color:red;' >[died]</span> in <span style='color:red;' >[afghanistan]</span> and be with <span style='color:red;' >[satan]</span> now--but we are <span style='color:red;' >[stuck]</span> with this <span style='color:red;' >[deviant killer]</span>."
      ],
      "text/plain": [
       "<IPython.core.display.HTML object>"
      ]
     },
     "metadata": {},
     "output_type": "display_data"
    },
    {
     "name": "stdout",
     "output_type": "stream",
     "text": [
      "7 KWS: {'deviant', 'afghanistan', 'deviant killer', 'died', 'killer', 'satan', 'stuck'}\n",
      "*********************************************\n",
      "394\n",
      "TABO words:  moron\n",
      "40    Laughable.   The great negotiator  can't keep employees and has backtracked on his promises repeatedly. His negotiating skills are all based on bullying .Hows that working in congress?  We need to unite against the moron and save our country. \n",
      "Bigly Sad\n"
     ]
    },
    {
     "data": {
      "text/html": [
       "<span style='color:red;' >[laughable]</span>.   The <span style='color:red;' >[great negotiator]</span>  can't keep <span style='color:red;' >[employees]</span> and has <span style='color:red;' >[backtracked]</span> on his <span style='color:red;' >[promises repeatedly]</span>. His <span style='color:red;' >[negotiating skills]</span> are all <span style='color:red;' >[based]</span> on <span style='color:red;' >[bullying]</span> .Hows that <span style='color:red;' >[working]</span> in <span style='color:red;' >[congress]</span>?  We need to unite against the moron and save our <span style='color:red;' >[country]</span>.  <span style='color:red;' >[bigly sad]</span>"
      ],
      "text/plain": [
       "<IPython.core.display.HTML object>"
      ]
     },
     "metadata": {},
     "output_type": "display_data"
    },
    {
     "name": "stdout",
     "output_type": "stream",
     "text": [
      "20 KWS: {'bigly sad', 'bullying', 'country', 'laughable', 'sad', 'negotiator', 'bigly', 'based', 'great', 'promises', 'great negotiator', 'skills', 'negotiating skills', 'negotiating', 'employees', 'backtracked', 'congress', 'working', 'promises repeatedly', 'repeatedly'}\n",
      "*********************************************\n",
      "395\n",
      "TABO words:  ludicrous\n",
      "9    rr,I dsagree with you proposal as being ludicrous.  okay?\n"
     ]
    },
    {
     "data": {
      "text/html": [
       "<span style='color:red;' >[rr,i dsagree]</span> with you <span style='color:red;' >[proposal]</span> as being <span style='color:red;' >[ludicrous]</span>.  okay?"
      ],
      "text/plain": [
       "<IPython.core.display.HTML object>"
      ]
     },
     "metadata": {},
     "output_type": "display_data"
    },
    {
     "name": "stdout",
     "output_type": "stream",
     "text": [
      "5 KWS: {'dsagree', 'ludicrous', 'proposal', 'rr,i dsagree', 'rr,i'}\n",
      "*********************************************\n",
      "396\n",
      "TABO words:  mentally ill incompetence\n",
      "48    The president is obviously mentally ill.  This is not how a 71 year old man acts - ever.  Even his worshipers are finally - at long last - beginning to understand the depths of his multiple personality defects and his cartoon-like incompetence.\n",
      "\n",
      "Trump must be removed from office.\n"
     ]
    },
    {
     "data": {
      "text/html": [
       "The <span style='color:red;' >[president]</span> is obviously <span style='color:red;' >[mentally ill]</span>.  This is not how a 71 <span style='color:red;' >[year]</span> old <span style='color:red;' >[man acts]</span> - ever.  Even his <span style='color:red;' >[worshipers]</span> are <span style='color:red;' >[finally]</span> - at <span style='color:red;' >[long]</span> last - <span style='color:red;' >[beginning]</span> to <span style='color:red;' >[understand]</span> the <span style='color:red;' >[depths]</span> of his <span style='color:red;' >[multiple personality]</span> defects and his <span style='color:red;' >[cartoon-like incompetence]</span>.  <span style='color:red;' >[trump]</span> must be removed from <span style='color:red;' >[office]</span>."
      ],
      "text/plain": [
       "<IPython.core.display.HTML object>"
      ]
     },
     "metadata": {},
     "output_type": "display_data"
    },
    {
     "name": "stdout",
     "output_type": "stream",
     "text": [
      "20 KWS: {'cartoon-like incompetence', 'worshipers', 'multiple personality', 'mentally ill', 'depths', 'man', 'office', 'incompetence', 'mentally', 'trump', 'understand', 'personality defects', 'president', 'acts', 'long', 'beginning', 'finally', 'year', 'ill', 'man acts'}\n",
      "*********************************************\n",
      "397\n",
      "TABO words:  liberal idiot\n",
      "33    Dear Brad Sherman liberal idiot. \n",
      "\n",
      "I have printed out your \"articles of impeachment\" ,, WHICH I AM NOW USING TO WIPE MY DIARRHETIC ARSE.  That's what I think  of YOU and your \"articles\".\n"
     ]
    },
    {
     "data": {
      "text/html": [
       "<span style='color:red;' >[dear]</span> <span style='color:red;' >[brad sherman]</span> <span style='color:red;' >[liberal idiot]</span>.   I have <span style='color:red;' >[printed]</span> out your \"<span style='color:red;' >[articles]</span> of <span style='color:red;' >[impeachment]</span>\" ,, WHICH I AM NOW USING TO <span style='color:red;' >[wipe]</span> MY <span style='color:red;' >[diarrhetic arse]</span>.  That's what I think  of YOU and your \"<span style='color:red;' >[articles]</span>\"."
      ],
      "text/plain": [
       "<IPython.core.display.HTML object>"
      ]
     },
     "metadata": {},
     "output_type": "display_data"
    },
    {
     "name": "stdout",
     "output_type": "stream",
     "text": [
      "16 KWS: {'idiot', 'brad', 'impeachment', 'articles', 'diarrhetic', 'printed', 'dear', 'dear brad', 'arse', 'diarrhetic arse', 'wipe', 'brad sherman', 'sherman liberal', 'liberal idiot', 'liberal', 'sherman'}\n",
      "*********************************************\n",
      "398\n",
      "TABO words:  mainstream\n",
      "9    Whoever wrote this article is a mainstream media jerk.\n"
     ]
    },
    {
     "data": {
      "text/html": [
       "Whoever <span style='color:red;' >[wrote]</span> this <span style='color:red;' >[article]</span> is a <span style='color:red;' >[mainstream]</span> <span style='color:red;' >[media jerk]</span>."
      ],
      "text/plain": [
       "<IPython.core.display.HTML object>"
      ]
     },
     "metadata": {},
     "output_type": "display_data"
    },
    {
     "name": "stdout",
     "output_type": "stream",
     "text": [
      "7 KWS: {'mainstream', 'jerk', 'mainstream media', 'wrote', 'media', 'media jerk', 'article'}\n",
      "*********************************************\n",
      "399\n",
      "TABO words:  ignorant and hateful\n",
      "86    Griffin's behavior was disgusting, and I beg my fellow liberals never  again to sink to this low level of behavior as we struggle to prevent the further degradation of society by the ignorant and hateful.  We need to keep to the high road to have a chance of winning but we sometimes fail.\n",
      "In fact, I remember there was a particularly sickening young guy who used to skate around Eugene with a mask of President Bush's head on a platter-- such jerks are NOT our allies.\n"
     ]
    },
    {
     "data": {
      "text/html": [
       "Griffin's <span style='color:red;' >[behavior]</span> was <span style='color:red;' >[disgusting]</span>, and I <span style='color:red;' >[beg]</span> my <span style='color:red;' >[fellow liberals]</span> never  again to <span style='color:red;' >[sink]</span> to this <span style='color:red;' >[low level]</span> of <span style='color:red;' >[behavior]</span> as we <span style='color:red;' >[struggle]</span> to <span style='color:red;' >[prevent]</span> the further <span style='color:red;' >[degradation]</span> of <span style='color:red;' >[society]</span> by the ignorant and <span style='color:red;' >[hateful]</span>.  We need to keep to the <span style='color:red;' >[high road]</span> to have a chance of winning but we sometimes fail. In fact, I remember there was a particularly sickening young guy who used to skate around Eugene with a mask of President Bush's head on a platter-- such jerks are NOT our allies."
      ],
      "text/plain": [
       "<IPython.core.display.HTML object>"
      ]
     },
     "metadata": {},
     "output_type": "display_data"
    },
    {
     "name": "stdout",
     "output_type": "stream",
     "text": [
      "20 KWS: {'high road', 'liberals', 'level', 'disgusting', 'griffin behavior', 'griffin', 'sink', 'struggle', 'fellow liberals', 'bush head', 'fellow', 'society', 'president bush', 'hateful', 'degradation', 'beg', 'low level', 'prevent', 'behavior', 'low'}\n",
      "*********************************************\n",
      "400\n",
      "TABO words:  ignorant\n",
      "4    What an ignorant statement.\n"
     ]
    },
    {
     "data": {
      "text/html": [
       "What an <span style='color:red;' >[ignorant statement]</span>."
      ],
      "text/plain": [
       "<IPython.core.display.HTML object>"
      ]
     },
     "metadata": {},
     "output_type": "display_data"
    },
    {
     "name": "stdout",
     "output_type": "stream",
     "text": [
      "3 KWS: {'ignorant statement', 'statement', 'ignorant'}\n",
      "*********************************************\n",
      "401\n",
      "TABO words:  idiotic\n",
      "26    I don't believe you can justify your two statements. The first is plainly untrue, even idiotic. The second is also untrue to the point of idiocy.\n"
     ]
    },
    {
     "data": {
      "text/html": [
       "I don't believe you can <span style='color:red;' >[justify]</span> your two <span style='color:red;' >[statements]</span>. The first is <span style='color:red;' >[plainly]</span> <span style='color:red;' >[untrue]</span>, even <span style='color:red;' >[idiotic]</span>. The second is also <span style='color:red;' >[untrue]</span> to the <span style='color:red;' >[point]</span> of <span style='color:red;' >[idiocy]</span>."
      ],
      "text/plain": [
       "<IPython.core.display.HTML object>"
      ]
     },
     "metadata": {},
     "output_type": "display_data"
    },
    {
     "name": "stdout",
     "output_type": "stream",
     "text": [
      "8 KWS: {'idiocy', 'idiotic', 'plainly', 'plainly untrue', 'statements', 'untrue', 'point', 'justify'}\n",
      "*********************************************\n",
      "402\n",
      "TABO words:  stupid gnorant and unintelligent\n",
      "29    And he is so surprisingly stupid.  Trump is both ignorant and unintelligent.  But he continues to think and act as though he is the smartest guy in the room.\n"
     ]
    },
    {
     "data": {
      "text/html": [
       "And he is so <span style='color:red;' >[surprisingly stupid]</span>.  <span style='color:red;' >[trump]</span> is both <span style='color:red;' >[ignorant]</span> and <span style='color:red;' >[unintelligent]</span>.  But he <span style='color:red;' >[continues]</span> to think and <span style='color:red;' >[act]</span> as though he is the <span style='color:red;' >[smartest guy]</span> in the <span style='color:red;' >[room]</span>."
      ],
      "text/plain": [
       "<IPython.core.display.HTML object>"
      ]
     },
     "metadata": {},
     "output_type": "display_data"
    },
    {
     "name": "stdout",
     "output_type": "stream",
     "text": [
      "12 KWS: {'smartest', 'surprisingly', 'room', 'smartest guy', 'surprisingly stupid', 'unintelligent', 'guy', 'ignorant', 'continues', 'trump', 'stupid', 'act'}\n",
      "*********************************************\n",
      "403\n",
      "TABO words:  fools\n",
      "20    Did none of you fools that strategically voted Trudeau a majority government not foresee this kind of incompetence happening?  Unbelievable.\n"
     ]
    },
    {
     "data": {
      "text/html": [
       "Did none of you <span style='color:red;' >[fools]</span> that <span style='color:red;' >[strategically]</span> <span style='color:red;' >[voted trudeau]</span> a <span style='color:red;' >[majority government]</span> not <span style='color:red;' >[foresee]</span> this <span style='color:red;' >[kind]</span> of <span style='color:red;' >[incompetence happening]</span>?  <span style='color:red;' >[unbelievable]</span>."
      ],
      "text/plain": [
       "<IPython.core.display.HTML object>"
      ]
     },
     "metadata": {},
     "output_type": "display_data"
    },
    {
     "name": "stdout",
     "output_type": "stream",
     "text": [
      "15 KWS: {'strategically', 'government', 'foresee', 'unbelievable', 'majority government', 'incompetence happening', 'voted trudeau', 'voted', 'trudeau', 'fools', 'happening', 'strategically voted', 'kind', 'majority', 'incompetence'}\n",
      "*********************************************\n",
      "404\n",
      "TABO words:  lunatics Dylann\n",
      "9    There are lunatics like Dylann Roof on every corner...!\n"
     ]
    },
    {
     "data": {
      "text/html": [
       "There are <span style='color:red;' >[lunatics]</span> like <span style='color:red;' >[dylann roof]</span> on every <span style='color:red;' >[corner]</span>...!"
      ],
      "text/plain": [
       "<IPython.core.display.HTML object>"
      ]
     },
     "metadata": {},
     "output_type": "display_data"
    },
    {
     "name": "stdout",
     "output_type": "stream",
     "text": [
      "5 KWS: {'dylann roof', 'dylann', 'roof', 'lunatics', 'corner'}\n",
      "*********************************************\n",
      "405\n",
      "TABO words:  harm\n",
      "36    What harm?  Have you EVER heard of someone getting attacked by a bear while taking a dump in the woods?  Please.  Does just owning a gun make someone paranoid and a pu55y at the same time?\n"
     ]
    },
    {
     "data": {
      "text/html": [
       "What <span style='color:red;' >[harm]</span>?  Have you EVER <span style='color:red;' >[heard]</span> of someone getting <span style='color:red;' >[attacked]</span> by a <span style='color:red;' >[bear]</span> while <span style='color:red;' >[taking]</span> a <span style='color:red;' >[dump]</span> in the <span style='color:red;' >[woods]</span>?  Please.  Does just <span style='color:red;' >[owning]</span> a <span style='color:red;' >[gun make]</span> someone <span style='color:red;' >[paranoid]</span> and a pu55y at the same <span style='color:red;' >[time]</span>?"
      ],
      "text/plain": [
       "<IPython.core.display.HTML object>"
      ]
     },
     "metadata": {},
     "output_type": "display_data"
    },
    {
     "name": "stdout",
     "output_type": "stream",
     "text": [
      "13 KWS: {'paranoid', 'attacked', 'heard', 'owning', 'woods', 'gun make', 'bear', 'dump', 'make', 'time', 'taking', 'harm', 'gun'}\n",
      "*********************************************\n",
      "406\n",
      "TABO words:  Black males are disproportionately shot by police\n",
      "59    \"Black males are disproportionately shot by police.\" Go on... what else is disproportionate about black male behavior? You're so close but just won't put your finger on it, will you Washington Post? Honestly, committing 50% of violent crime and only being 25% of those shot by police sounds like it would be evidence of police bias in their favor...\n"
     ]
    },
    {
     "data": {
      "text/html": [
       "\"<span style='color:red;' >[black]</span> <span style='color:red;' >[males]</span> are <span style='color:red;' >[disproportionately shot]</span> by <span style='color:red;' >[police]</span>.\" Go on... what else is <span style='color:red;' >[disproportionate]</span> about <span style='color:red;' >[black]</span> <span style='color:red;' >[male behavior]</span>? You're so <span style='color:red;' >[close]</span> but just won't <span style='color:red;' >[put]</span> your <span style='color:red;' >[finger]</span> on it, will you <span style='color:red;' >[washington post]</span>? <span style='color:red;' >[honestly]</span>, <span style='color:red;' >[committing]</span> 50% of violent crime and only being 25% of those <span style='color:red;' >[shot]</span> by <span style='color:red;' >[police]</span> sounds like it would be evidence of <span style='color:red;' >[police]</span> bias in their <span style='color:red;' >[favor]</span>..."
      ],
      "text/plain": [
       "<IPython.core.display.HTML object>"
      ]
     },
     "metadata": {},
     "output_type": "display_data"
    },
    {
     "name": "stdout",
     "output_type": "stream",
     "text": [
      "20 KWS: {'washington post', 'close', 'shot', 'washington', 'disproportionate', 'black', 'post', 'disproportionately shot', 'males', 'honestly', 'black males', 'committing', 'put', 'police', 'male behavior', 'disproportionately', 'favor', 'finger', 'behavior', 'male'}\n",
      "*********************************************\n",
      "407\n",
      "TABO words:  Hang this guy and his pilau wife\n",
      "7    Hang this guy and his pilau wife.\n"
     ]
    },
    {
     "data": {
      "text/html": [
       "<span style='color:red;' >[hang]</span> this <span style='color:red;' >[guy]</span> and his <span style='color:red;' >[pilau wife]</span>."
      ],
      "text/plain": [
       "<IPython.core.display.HTML object>"
      ]
     },
     "metadata": {},
     "output_type": "display_data"
    },
    {
     "name": "stdout",
     "output_type": "stream",
     "text": [
      "5 KWS: {'pilau', 'wife', 'guy', 'hang', 'pilau wife'}\n",
      "*********************************************\n",
      "408\n",
      "TABO words:  Sluts sluts\n",
      "34    Sluts come in both male and female.  \n",
      "\n",
      "When two sluts fornicate without simple, cheap, readily available contraception (supposedly from Planned Parenthood) unwanted children are often the result.\n",
      "\n",
      "Dilatation and curettage.\n",
      "\n",
      "Stir.  Repeat.  \n",
      "\n",
      "Stir. Repeat.\n"
     ]
    },
    {
     "data": {
      "text/html": [
       "<span style='color:red;' >[sluts]</span> come in both <span style='color:red;' >[male]</span> and <span style='color:red;' >[female]</span>.    When two <span style='color:red;' >[sluts]</span> <span style='color:red;' >[fornicate]</span> without <span style='color:red;' >[simple]</span>, <span style='color:red;' >[cheap]</span>, <span style='color:red;' >[readily]</span> available <span style='color:red;' >[contraception]</span> (<span style='color:red;' >[supposedly]</span> from <span style='color:red;' >[planned parenthood]</span>) <span style='color:red;' >[unwanted children]</span> are often the <span style='color:red;' >[result]</span>.  <span style='color:red;' >[dilatation]</span> and <span style='color:red;' >[curettage]</span>.  <span style='color:red;' >[stir]</span>.  <span style='color:red;' >[repeat]</span>.    <span style='color:red;' >[stir]</span>. <span style='color:red;' >[repeat]</span>."
      ],
      "text/plain": [
       "<IPython.core.display.HTML object>"
      ]
     },
     "metadata": {},
     "output_type": "display_data"
    },
    {
     "name": "stdout",
     "output_type": "stream",
     "text": [
      "20 KWS: {'result', 'contraception', 'unwanted children', 'dilatation', 'stir', 'planned parenthood', 'planned', 'simple', 'parenthood', 'sluts', 'female', 'supposedly', 'repeat', 'sluts fornicate', 'readily', 'unwanted', 'curettage', 'fornicate', 'cheap', 'male'}\n",
      "*********************************************\n",
      "409\n",
      "TABO words:  idiot\n",
      "29    The idiot violated bedrock firearm safety. Including likely alcohol and/or drug use. He should do time. \n",
      "\n",
      "No one who is using booze or drugs should go near a firearm.\n"
     ]
    },
    {
     "data": {
      "text/html": [
       "The <span style='color:red;' >[idiot violated]</span> <span style='color:red;' >[bedrock]</span> <span style='color:red;' >[firearm safety]</span>. <span style='color:red;' >[including]</span> likely <span style='color:red;' >[alcohol]</span> and/or <span style='color:red;' >[drug]</span> use. He should do <span style='color:red;' >[time]</span>.   No one who is using <span style='color:red;' >[booze]</span> or <span style='color:red;' >[drugs]</span> should go near a <span style='color:red;' >[firearm]</span>."
      ],
      "text/plain": [
       "<IPython.core.display.HTML object>"
      ]
     },
     "metadata": {},
     "output_type": "display_data"
    },
    {
     "name": "stdout",
     "output_type": "stream",
     "text": [
      "15 KWS: {'bedrock', 'safety', 'idiot', 'including', 'drug', 'firearm safety', 'bedrock firearm', 'alcohol', 'drugs', 'violated bedrock', 'idiot violated', 'booze', 'time', 'violated', 'firearm'}\n",
      "*********************************************\n",
      "410\n",
      "TABO words:  idiot\n",
      "4    you sir an idiot\n"
     ]
    },
    {
     "data": {
      "text/html": [
       "you <span style='color:red;' >[sir]</span> an <span style='color:red;' >[idiot]</span>"
      ],
      "text/plain": [
       "<IPython.core.display.HTML object>"
      ]
     },
     "metadata": {},
     "output_type": "display_data"
    },
    {
     "name": "stdout",
     "output_type": "stream",
     "text": [
      "2 KWS: {'idiot', 'sir'}\n",
      "*********************************************\n",
      "411\n",
      "TABO words:  stupid\n",
      "149    There is another thing about the American tourist, other than mostly great guests of the State.  Somehow, they forgot to pack their common sense and most of their brains at home in their own State.  Keeping you and your children safe in paradise only takes a few minutes of your time reinforcing the rules of safety when visiting a strange place.   Even locals drown, fall off mountainsides, and yes, they even get lost when they deviate off the trails in the dense mountainous vegetation.  Why does the tourist feel the host people can keep tourists safe in every situation where a naive decision was made to do something you have never chanced to do in your own world at home?  If you indulge in drinking heavily off shore until you're whacked out of your mind....  say no more!   It is plain stupid choices, and made at your own risk!\n"
     ]
    },
    {
     "data": {
      "text/html": [
       "There is another <span style='color:red;' >[thing]</span> about the <span style='color:red;' >[american tourist]</span>, other than mostly <span style='color:red;' >[great guests]</span> of the <span style='color:red;' >[state]</span>.  Somehow, they <span style='color:red;' >[forgot]</span> to pack their <span style='color:red;' >[common sense]</span> and most of their brains at <span style='color:red;' >[home]</span> in their own <span style='color:red;' >[state]</span>.  Keeping you and your children <span style='color:red;' >[safe]</span> in paradise only takes a few minutes of your <span style='color:red;' >[time reinforcing]</span> the rules of safety when visiting a <span style='color:red;' >[strange place]</span>.   Even <span style='color:red;' >[locals drown]</span>, fall off mountainsides, and yes, they even get lost when they deviate off the trails in the dense <span style='color:red;' >[mountainous vegetation]</span>.  Why does the <span style='color:red;' >[tourist]</span> feel the host people can keep tourists <span style='color:red;' >[safe]</span> in every situation where a naive decision was <span style='color:red;' >[made]</span> to do something you have never chanced to do in your own world at <span style='color:red;' >[home]</span>?  If you indulge in drinking heavily off shore until you're whacked out of your mind....  say no more!   It is plain stupid choices, and <span style='color:red;' >[made]</span> at your own risk!"
      ],
      "text/plain": [
       "<IPython.core.display.HTML object>"
      ]
     },
     "metadata": {},
     "output_type": "display_data"
    },
    {
     "name": "stdout",
     "output_type": "stream",
     "text": [
      "20 KWS: {'forgot', 'thing', 'home', 'locals drown', 'american tourist', 'great', 'safe', 'time reinforcing', 'common sense', 'great guests', 'tourist', 'children safe', 'american', 'guests', 'mountainous vegetation', 'made', 'tourist feel', 'tourists safe', 'strange place', 'state'}\n",
      "*********************************************\n",
      "412\n",
      "TABO words:  guy killing women and children you're sick\n",
      "26    Wow. youre that guy then? the ones that think killing women and children is fine as long as they aren't YOUR women and children.. you're sick\n"
     ]
    },
    {
     "data": {
      "text/html": [
       "<span style='color:red;' >[wow]</span>. <span style='color:red;' >[youre]</span> that <span style='color:red;' >[guy]</span> then? the ones that think <span style='color:red;' >[killing]</span> <span style='color:red;' >[women]</span> and <span style='color:red;' >[children]</span> is <span style='color:red;' >[fine]</span> as <span style='color:red;' >[long]</span> as they aren't YOUR <span style='color:red;' >[women]</span> and <span style='color:red;' >[children]</span>.. you're <span style='color:red;' >[sick]</span>"
      ],
      "text/plain": [
       "<IPython.core.display.HTML object>"
      ]
     },
     "metadata": {},
     "output_type": "display_data"
    },
    {
     "name": "stdout",
     "output_type": "stream",
     "text": [
      "11 KWS: {'women', 'sick', 'children.', 'killing', 'children', 'wow', 'youre', 'guy', 'killing women', 'fine', 'long'}\n",
      "*********************************************\n",
      "413\n",
      "TABO words: \n",
      "6    This dude is a bad ass.\n"
     ]
    },
    {
     "data": {
      "text/html": [
       "This <span style='color:red;' >[dude]</span> is a <span style='color:red;' >[bad ass]</span>."
      ],
      "text/plain": [
       "<IPython.core.display.HTML object>"
      ]
     },
     "metadata": {},
     "output_type": "display_data"
    },
    {
     "name": "stdout",
     "output_type": "stream",
     "text": [
      "4 KWS: {'ass', 'dude', 'bad ass', 'bad'}\n",
      "*********************************************\n",
      "414\n",
      "TABO words:  racism loser\n",
      "25    Maybe it's time to deport Ezra.  After all his lies, propaganda and racism, he has no place in this great country.  Such a sad, loser.\n"
     ]
    },
    {
     "data": {
      "text/html": [
       "Maybe it's <span style='color:red;' >[time]</span> to <span style='color:red;' >[deport ezra]</span>.  After all his <span style='color:red;' >[lies]</span>, <span style='color:red;' >[propaganda]</span> and <span style='color:red;' >[racism]</span>, he has no <span style='color:red;' >[place]</span> in this <span style='color:red;' >[great]</span> <span style='color:red;' >[country]</span>.  Such a <span style='color:red;' >[sad]</span>, <span style='color:red;' >[loser]</span>."
      ],
      "text/plain": [
       "<IPython.core.display.HTML object>"
      ]
     },
     "metadata": {},
     "output_type": "display_data"
    },
    {
     "name": "stdout",
     "output_type": "stream",
     "text": [
      "13 KWS: {'country', 'sad', 'loser', 'lies', 'great', 'propaganda', 'racism', 'ezra', 'deport', 'deport ezra', 'place', 'time', 'great country'}\n",
      "*********************************************\n",
      "415\n",
      "TABO words:  lost jerk Christians\n",
      "145    Agreed. You can't reach the lost by being a judgmental jerk who makes kids cry. Christ calls real Christians to be compassionate and come along side people in there darkest days, not yell at them to repent as they come out of the bar. There's a time to talk about the consequences of sin but if you don't be compassionate first, nobody will care about what you have to say. Plus, a position of judgment is the worst place to preach from about sin. Paul constantly used his past to lovingly show that he understood where they were right then and he accepted them. When you can say \"look, I've been where you are and have felt what you feel\", you will have much more of an impact. When people act like this, it makes the world think this is Christianity. Just my 2 cents.\n"
     ]
    },
    {
     "data": {
      "text/html": [
       "<span style='color:red;' >[agreed]</span>. You can't <span style='color:red;' >[reach]</span> the <span style='color:red;' >[lost]</span> by being a <span style='color:red;' >[judgmental jerk]</span> who <span style='color:red;' >[makes]</span> <span style='color:red;' >[kids cry]</span>. <span style='color:red;' >[christ calls]</span> <span style='color:red;' >[real christians]</span> to be <span style='color:red;' >[compassionate]</span> and come along side <span style='color:red;' >[people]</span> in there <span style='color:red;' >[darkest days]</span>, not yell at them to repent as they come out of the bar. There's a time to talk about the consequences of <span style='color:red;' >[sin]</span> but if you don't be <span style='color:red;' >[compassionate]</span> first, nobody will care about what you have to say. Plus, a position of judgment is the worst place to preach from about <span style='color:red;' >[sin]</span>. Paul constantly used his past to lovingly show that he understood where they were right then and he accepted them. When you can say \"look, I've been where you are and have felt what you feel\", you will have much more of an impact. When <span style='color:red;' >[people]</span> act like this, it <span style='color:red;' >[makes]</span> the world think this is <span style='color:red;' >[christianity]</span>. Just my 2 cents."
      ],
      "text/plain": [
       "<IPython.core.display.HTML object>"
      ]
     },
     "metadata": {},
     "output_type": "display_data"
    },
    {
     "name": "stdout",
     "output_type": "stream",
     "text": [
      "20 KWS: {'christians', 'agreed', 'jerk', 'sin', 'calls real', 'reach', 'judgmental', 'real christians', 'christianity', 'makes', 'cry', 'side people', 'judgmental jerk', 'darkest days', 'kids cry', 'lost', 'people', 'makes kids', 'compassionate', 'christ calls'}\n",
      "*********************************************\n",
      "416\n",
      "TABO words:  anal narcism\n",
      "15    now could the good doctor anal yse justin for his narcism and petty bully traits\n"
     ]
    },
    {
     "data": {
      "text/html": [
       "now could the <span style='color:red;' >[good doctor]</span> <span style='color:red;' >[anal yse]</span> <span style='color:red;' >[justin]</span> for his <span style='color:red;' >[narcism]</span> and <span style='color:red;' >[petty]</span> <span style='color:red;' >[bully traits]</span>"
      ],
      "text/plain": [
       "<IPython.core.display.HTML object>"
      ]
     },
     "metadata": {},
     "output_type": "display_data"
    },
    {
     "name": "stdout",
     "output_type": "stream",
     "text": [
      "15 KWS: {'good doctor', 'yse', 'doctor', 'doctor anal', 'bully', 'bully traits', 'narcism', 'petty bully', 'traits', 'petty', 'anal', 'justin', 'good', 'yse justin', 'anal yse'}\n",
      "*********************************************\n",
      "417\n",
      "TABO words:  lazy\n",
      "39    Who is this clown? A lazy bum who sits allday writing jiberish - he's doing americans a favour -you can tell he is a half wit - all half wits bring up racism because they can;t think for themselves....\n"
     ]
    },
    {
     "data": {
      "text/html": [
       "Who is this <span style='color:red;' >[clown]</span>? A <span style='color:red;' >[lazy bum]</span> who <span style='color:red;' >[sits allday]</span> <span style='color:red;' >[writing jiberish]</span> - he's doing <span style='color:red;' >[americans]</span> a <span style='color:red;' >[favour]</span> -you can tell he is a <span style='color:red;' >[half]</span> <span style='color:red;' >[wit]</span> - all <span style='color:red;' >[half]</span> <span style='color:red;' >[wits bring]</span> up racism because they can;t think for themselves...."
      ],
      "text/plain": [
       "<IPython.core.display.HTML object>"
      ]
     },
     "metadata": {},
     "output_type": "display_data"
    },
    {
     "name": "stdout",
     "output_type": "stream",
     "text": [
      "20 KWS: {'half wits', 'lazy bum', 'wit', 'lazy', 'sits', 'half wit', 'writing jiberish', 'favour', 'clown', 'allday', 'wits', 'writing', 'jiberish', 'americans', 'sits allday', 'bring', 'bum', 'half', 'wits bring', 'allday writing'}\n",
      "*********************************************\n",
      "418\n",
      "TABO words:  little worm\n",
      "31    Is there anyone who CARES what Schatz thinks ???  He needs to return to being the non-entity that he always has been. BACK to your hole, little worm, and PLEASE....be quiet.\n"
     ]
    },
    {
     "data": {
      "text/html": [
       "Is there anyone who <span style='color:red;' >[cares]</span> what <span style='color:red;' >[schatz]</span> thinks ???  He needs to <span style='color:red;' >[return]</span> to being the <span style='color:red;' >[non-entity]</span> that he always has been. <span style='color:red;' >[back]</span> to your <span style='color:red;' >[hole]</span>, little <span style='color:red;' >[worm]</span>, and PLEASE....be <span style='color:red;' >[quiet]</span>."
      ],
      "text/plain": [
       "<IPython.core.display.HTML object>"
      ]
     },
     "metadata": {},
     "output_type": "display_data"
    },
    {
     "name": "stdout",
     "output_type": "stream",
     "text": [
      "8 KWS: {'cares', 'hole', 'worm', 'quiet', 'non-entity', 'return', 'back', 'schatz'}\n",
      "*********************************************\n",
      "419\n",
      "TABO words:  idiot\n",
      "29    You mean the 15 million worthless, lazy, entitled, idiot scumbags who will drop their insurance and force hospitals and other caregivers stick their bill to the rest of us?\n"
     ]
    },
    {
     "data": {
      "text/html": [
       "You mean the 15 <span style='color:red;' >[million worthless]</span>, <span style='color:red;' >[lazy]</span>, <span style='color:red;' >[entitled]</span>, <span style='color:red;' >[idiot scumbags]</span> who will <span style='color:red;' >[drop]</span> their <span style='color:red;' >[insurance]</span> and <span style='color:red;' >[force hospitals]</span> and other <span style='color:red;' >[caregivers stick]</span> their <span style='color:red;' >[bill]</span> to the <span style='color:red;' >[rest]</span> of us?"
      ],
      "text/plain": [
       "<IPython.core.display.HTML object>"
      ]
     },
     "metadata": {},
     "output_type": "display_data"
    },
    {
     "name": "stdout",
     "output_type": "stream",
     "text": [
      "18 KWS: {'million worthless', 'force hospitals', 'idiot', 'million', 'hospitals', 'rest', 'drop', 'caregivers stick', 'worthless', 'force', 'caregivers', 'bill', 'insurance', 'stick', 'entitled', 'idiot scumbags', 'scumbags', 'lazy'}\n",
      "*********************************************\n",
      "420\n",
      "TABO words:  indecent/ignorant\n",
      "104    As one poster here Sid after the election 'If you didn't see it coming (Trump's victory), you were probably part ot eh reason he was elected'. Now that Trump is President, Liberal/left/progressives are clinging to the narrative that he was elected by indecent/ignorant people. They keep digging themselves in further with their belief in their moral superiority although it simply offers more offence to those who they demean. The fact is that Liberal/left/progressive dogma has lost a great deal of credibility with a significant number of Americans (and Canadians) and self-righteously indignant rants by the die-hards simply confirm the validity of the choice made.\n"
     ]
    },
    {
     "data": {
      "text/html": [
       "As one <span style='color:red;' >[poster]</span> here <span style='color:red;' >[sid]</span> after the <span style='color:red;' >[election]</span> 'If you didn't see it <span style='color:red;' >[coming]</span> (Trump's <span style='color:red;' >[victory]</span>), you were probably <span style='color:red;' >[part]</span> ot eh <span style='color:red;' >[reason]</span> he was <span style='color:red;' >[elected]</span>'. Now that <span style='color:red;' >[trump]</span> is <span style='color:red;' >[president]</span>, Liberal/left/progressives are clinging to the narrative that he was <span style='color:red;' >[elected]</span> by indecent/ignorant people. They keep digging themselves in further with their belief in their <span style='color:red;' >[moral superiority]</span> although it <span style='color:red;' >[simply]</span> offers more offence to those who they demean. The fact is that Liberal/left/progressive dogma has lost a great deal of credibility with a significant number of <span style='color:red;' >[americans]</span> (and <span style='color:red;' >[canadians]</span>) and self-righteously indignant rants by the die-hards <span style='color:red;' >[simply]</span> confirm the validity of the choice made."
      ],
      "text/plain": [
       "<IPython.core.display.HTML object>"
      ]
     },
     "metadata": {},
     "output_type": "display_data"
    },
    {
     "name": "stdout",
     "output_type": "stream",
     "text": [
      "20 KWS: {'left', 'progressive dogma', 'simply offers', 'reason', 'canadians', 'election', 'elected', 'trump', 'poster', 'part', 'victory', 'ignorant people', 'simply', 'president', 'americans', 'moral superiority', 'trump victory', 'coming', 'liberal', 'sid'}\n",
      "*********************************************\n",
      "421\n",
      "TABO words:  stupid\n",
      "7    your posts shows you are stupid period\n"
     ]
    },
    {
     "data": {
      "text/html": [
       "your <span style='color:red;' >[posts shows]</span> you are <span style='color:red;' >[stupid period]</span>"
      ],
      "text/plain": [
       "<IPython.core.display.HTML object>"
      ]
     },
     "metadata": {},
     "output_type": "display_data"
    },
    {
     "name": "stdout",
     "output_type": "stream",
     "text": [
      "6 KWS: {'posts', 'posts shows', 'shows', 'stupid', 'stupid period', 'period'}\n",
      "*********************************************\n",
      "422\n",
      "TABO words: \n",
      "3    Ignorant uneducated fool\n"
     ]
    },
    {
     "data": {
      "text/html": [
       "<span style='color:red;' >[ignorant uneducated]</span> <span style='color:red;' >[fool]</span>"
      ],
      "text/plain": [
       "<IPython.core.display.HTML object>"
      ]
     },
     "metadata": {},
     "output_type": "display_data"
    },
    {
     "name": "stdout",
     "output_type": "stream",
     "text": [
      "5 KWS: {'uneducated', 'ignorant', 'fool', 'ignorant uneducated', 'uneducated fool'}\n",
      "*********************************************\n",
      "423\n",
      "TABO words:  Idiots\n",
      "13    Idiots, you HAVE a job!!! Resign and go sell apples at the station.\n"
     ]
    },
    {
     "data": {
      "text/html": [
       "<span style='color:red;' >[idiots]</span>, you HAVE a <span style='color:red;' >[job]</span>!!! <span style='color:red;' >[resign]</span> and go <span style='color:red;' >[sell]</span> <span style='color:red;' >[apples]</span> at the <span style='color:red;' >[station]</span>."
      ],
      "text/plain": [
       "<IPython.core.display.HTML object>"
      ]
     },
     "metadata": {},
     "output_type": "display_data"
    },
    {
     "name": "stdout",
     "output_type": "stream",
     "text": [
      "7 KWS: {'station', 'job', 'idiots', 'sell', 'apples', 'sell apples', 'resign'}\n",
      "*********************************************\n",
      "424\n",
      "TABO words:  claw stupid\n",
      "24    Get outta here claw.  You got that stupid story from a CONservative site.  But  go right ahead and keep trolling the CONservative stink holes.\n"
     ]
    },
    {
     "data": {
      "text/html": [
       "Get <span style='color:red;' >[outta]</span> here <span style='color:red;' >[claw]</span>.  You got that <span style='color:red;' >[stupid story]</span> from a <span style='color:red;' >[conservative]</span> <span style='color:red;' >[site]</span>.  But  go right <span style='color:red;' >[ahead]</span> and keep <span style='color:red;' >[trolling]</span> the <span style='color:red;' >[conservative]</span> <span style='color:red;' >[stink holes]</span>."
      ],
      "text/plain": [
       "<IPython.core.display.HTML object>"
      ]
     },
     "metadata": {},
     "output_type": "display_data"
    },
    {
     "name": "stdout",
     "output_type": "stream",
     "text": [
      "14 KWS: {'conservative', 'outta', 'stink', 'conservative site', 'stink holes', 'site', 'holes', 'story', 'conservative stink', 'ahead', 'trolling', 'stupid', 'stupid story', 'claw'}\n",
      "*********************************************\n",
      "425\n",
      "TABO words:  idiots\n",
      "13    It always amazes us, that the world \n",
      "has idiots who helieve this drivel.\n"
     ]
    },
    {
     "data": {
      "text/html": [
       "It always <span style='color:red;' >[amazes]</span> us, that the <span style='color:red;' >[world]</span>  has <span style='color:red;' >[idiots]</span> who <span style='color:red;' >[helieve]</span> this <span style='color:red;' >[drivel]</span>."
      ],
      "text/plain": [
       "<IPython.core.display.HTML object>"
      ]
     },
     "metadata": {},
     "output_type": "display_data"
    },
    {
     "name": "stdout",
     "output_type": "stream",
     "text": [
      "5 KWS: {'amazes', 'idiots', 'world', 'helieve', 'drivel'}\n",
      "*********************************************\n",
      "426\n",
      "TABO words:  idiots\n",
      "3    Dems are idiots.\n"
     ]
    },
    {
     "data": {
      "text/html": [
       "<span style='color:red;' >[dems]</span> are <span style='color:red;' >[idiots]</span>."
      ],
      "text/plain": [
       "<IPython.core.display.HTML object>"
      ]
     },
     "metadata": {},
     "output_type": "display_data"
    },
    {
     "name": "stdout",
     "output_type": "stream",
     "text": [
      "2 KWS: {'idiots', 'dems'}\n",
      "*********************************************\n",
      "427\n",
      "TABO words:  white women are raped\n",
      "177    The Anchorage Crime report this year said white women are raped in most cases by white men, not minority men.  \n",
      "This is for you From Lisa Bloom. Lisa Bloom is a Legal analyst for NBC News and Avvo, attorney and bestselling author.\n",
      "\n",
      "\"In our nation’s history, so many of the sickest most appalling crimes have been committed by whites. Yet no matter how sadistic the crime, no matter how young the victims, no matter how much fear is engendered in a community, no matter how much media attention and public discussion the crimes of whites engender, the race itself is never sullied.\" \n",
      "\n",
      "Lisa Bloom also says white men are at the top of the list for gaining foreign visas to have sex with children. 85-percent in Latin America, she says.\n",
      "\n",
      "Lisa Bloom also adds the most prolific serial killers in this country (America) are white men. And last, white women are known for killing their children. Any studies to back your gossip?\n",
      "\n",
      "I am aware of truth. I'm an old cops and crime reporter from way back.\n"
     ]
    },
    {
     "data": {
      "text/html": [
       "The <span style='color:red;' >[anchorage crime]</span> <span style='color:red;' >[report]</span> this <span style='color:red;' >[year]</span> said <span style='color:red;' >[white]</span> women are <span style='color:red;' >[raped]</span> in most cases by <span style='color:red;' >[white]</span> <span style='color:red;' >[men]</span>, not minority <span style='color:red;' >[men]</span>.   This is for you From <span style='color:red;' >[lisa bloom]</span>. <span style='color:red;' >[lisa bloom]</span> is a <span style='color:red;' >[legal analyst]</span> for NBC News and Avvo, attorney and bestselling author.  \"In our nation’s history, so many of the sickest most appalling <span style='color:red;' >[crimes]</span> have been committed by whites. Yet no <span style='color:red;' >[matter]</span> how sadistic the <span style='color:red;' >[crime]</span>, no <span style='color:red;' >[matter]</span> how young the victims, no <span style='color:red;' >[matter]</span> how much fear is engendered in a community, no <span style='color:red;' >[matter]</span> how much media attention and public discussion the <span style='color:red;' >[crimes]</span> of whites engender, the race itself is never sullied.\"   <span style='color:red;' >[lisa bloom]</span> also says <span style='color:red;' >[white]</span> <span style='color:red;' >[men]</span> are at the top of the list for gaining foreign visas to have sex with children. 85-percent in <span style='color:red;' >[latin america]</span>, she says.  <span style='color:red;' >[lisa bloom]</span> also adds the most prolific serial killers in this country (<span style='color:red;' >[america]</span>) are <span style='color:red;' >[white]</span> <span style='color:red;' >[men]</span>. And last, <span style='color:red;' >[white]</span> women are known for killing their children. Any studies to back your gossip?  I am aware of truth. I'm an old cops and <span style='color:red;' >[crime]</span> reporter from way back."
      ],
      "text/plain": [
       "<IPython.core.display.HTML object>"
      ]
     },
     "metadata": {},
     "output_type": "display_data"
    },
    {
     "name": "stdout",
     "output_type": "stream",
     "text": [
      "20 KWS: {'lisa bloom', 'lisa', 'anchorage', 'matter', 'white men', 'latin america', 'crime report', 'white women', 'crimes', 'crime', 'legal analyst', 'raped', 'report', 'white', 'minority men', 'america', 'anchorage crime', 'bloom', 'year', 'men'}\n",
      "*********************************************\n",
      "428\n",
      "TABO words:  stupid\n",
      "28    obviously the woman has not seen the video of hillarys lies, its about 20 minutes long on youtube. anybody voting for her after watching it is pure stupid.\n"
     ]
    },
    {
     "data": {
      "text/html": [
       "obviously the <span style='color:red;' >[woman]</span> has not seen the <span style='color:red;' >[video]</span> of <span style='color:red;' >[hillarys lies]</span>, its about 20 <span style='color:red;' >[minutes long]</span> on <span style='color:red;' >[youtube]</span>. anybody <span style='color:red;' >[voting]</span> for her after <span style='color:red;' >[watching]</span> it is <span style='color:red;' >[pure stupid]</span>."
      ],
      "text/plain": [
       "<IPython.core.display.HTML object>"
      ]
     },
     "metadata": {},
     "output_type": "display_data"
    },
    {
     "name": "stdout",
     "output_type": "stream",
     "text": [
      "14 KWS: {'hillarys lies', 'lies', 'hillarys', 'woman', 'video', 'pure stupid', 'voting', 'pure', 'watching', 'minutes long', 'minutes', 'stupid', 'youtube', 'long'}\n",
      "*********************************************\n",
      "429\n",
      "TABO words:  jerks morons\n",
      "69    Just stop.  The people who did that with Obama were jerks and morons, not representing the \"right\".  Same with this trashy mess.  I know many liberal types who are disgusted by the ever-annoying Ms. Griffin.  \n",
      "\n",
      "Not everything breaks out along party lines and every sane person better hope we never get to that point. If we do, we lose our moral compass and any concept of right vs wrong.\n"
     ]
    },
    {
     "data": {
      "text/html": [
       "Just <span style='color:red;' >[stop]</span>.  The <span style='color:red;' >[people]</span> who did that with <span style='color:red;' >[obama]</span> were <span style='color:red;' >[jerks]</span> and <span style='color:red;' >[morons]</span>, not <span style='color:red;' >[representing]</span> the \"right\".  Same with this <span style='color:red;' >[trashy mess]</span>.  I know many <span style='color:red;' >[liberal types]</span> who are <span style='color:red;' >[disgusted]</span> by the <span style='color:red;' >[ever-annoying]</span> Ms. <span style='color:red;' >[griffin]</span>.    Not everything <span style='color:red;' >[breaks]</span> out along <span style='color:red;' >[party]</span> <span style='color:red;' >[lines]</span> and every sane person better hope we never get to that <span style='color:red;' >[point]</span>. If we do, we lose our moral compass and any concept of right vs <span style='color:red;' >[wrong]</span>."
      ],
      "text/plain": [
       "<IPython.core.display.HTML object>"
      ]
     },
     "metadata": {},
     "output_type": "display_data"
    },
    {
     "name": "stdout",
     "output_type": "stream",
     "text": [
      "20 KWS: {'liberal', 'wrong', 'representing', 'griffin', 'trashy', 'ever-annoying', 'breaks', 'morons', 'lines', 'party', 'trashy mess', 'stop', 'liberal types', 'jerks', 'point', 'people', 'disgusted', 'types', 'mess', 'obama'}\n",
      "*********************************************\n",
      "430\n",
      "TABO words:  put him and family to\n",
      "death\n",
      "31    Kim doesn't have what it takes to fire a missile\n",
      "at the US. Now pile on more sanctions until his\n",
      "people turn on him and put him and family to\n",
      "death.\n"
     ]
    },
    {
     "data": {
      "text/html": [
       "<span style='color:red;' >[kim]</span> doesn't have what it takes to <span style='color:red;' >[fire]</span> a <span style='color:red;' >[missile]</span> at the US. Now <span style='color:red;' >[pile]</span> on more <span style='color:red;' >[sanctions]</span> until his <span style='color:red;' >[people turn]</span> on him and <span style='color:red;' >[put]</span> him and <span style='color:red;' >[family]</span> to <span style='color:red;' >[death]</span>."
      ],
      "text/plain": [
       "<IPython.core.display.HTML object>"
      ]
     },
     "metadata": {},
     "output_type": "display_data"
    },
    {
     "name": "stdout",
     "output_type": "stream",
     "text": [
      "11 KWS: {'family', 'people turn', 'sanctions', 'death', 'pile', 'kim', 'fire', 'missile', 'turn', 'people', 'put'}\n",
      "*********************************************\n",
      "431\n",
      "TABO words:  STUPID\n",
      "28    YEAH.   HE'S JUST LIKE  THOSE TEENAGERS WHO ALWAYS SEEM TO SHOUT IN THEIR INANE POSTS  BY USING CAPS ALL THE TIME. HOW IMMATURE AND STUPID IS THAT? AMIRITE?\n"
     ]
    },
    {
     "data": {
      "text/html": [
       "<span style='color:red;' >[yeah]</span>.   HE'S JUST LIKE  THOSE <span style='color:red;' >[teenagers]</span> WHO ALWAYS SEEM TO <span style='color:red;' >[shout]</span> IN THEIR <span style='color:red;' >[inane posts]</span>  BY USING <span style='color:red;' >[caps]</span> ALL THE <span style='color:red;' >[time]</span>. HOW <span style='color:red;' >[immature]</span> AND <span style='color:red;' >[stupid]</span> IS THAT? <span style='color:red;' >[amirite]</span>?"
      ],
      "text/plain": [
       "<IPython.core.display.HTML object>"
      ]
     },
     "metadata": {},
     "output_type": "display_data"
    },
    {
     "name": "stdout",
     "output_type": "stream",
     "text": [
      "11 KWS: {'immature', 'caps', 'teenagers', 'stupid', 'yeah', 'inane posts', 'posts', 'inane', 'amirite', 'time', 'shout'}\n",
      "*********************************************\n",
      "432\n",
      "TABO words:  terrorist\n",
      "7    It is Trump who is the terrorist.\n"
     ]
    },
    {
     "data": {
      "text/html": [
       "It is <span style='color:red;' >[trump]</span> who is the <span style='color:red;' >[terrorist]</span>."
      ],
      "text/plain": [
       "<IPython.core.display.HTML object>"
      ]
     },
     "metadata": {},
     "output_type": "display_data"
    },
    {
     "name": "stdout",
     "output_type": "stream",
     "text": [
      "2 KWS: {'terrorist', 'trump'}\n",
      "*********************************************\n",
      "433\n",
      "TABO words:  iraq jerk\n",
      "10    and iraq has wmds...this is just another liberal circle jerk.\n"
     ]
    },
    {
     "data": {
      "text/html": [
       "and <span style='color:red;' >[iraq]</span> has wmds...this is just another <span style='color:red;' >[liberal]</span> <span style='color:red;' >[circle jerk]</span>."
      ],
      "text/plain": [
       "<IPython.core.display.HTML object>"
      ]
     },
     "metadata": {},
     "output_type": "display_data"
    },
    {
     "name": "stdout",
     "output_type": "stream",
     "text": [
      "7 KWS: {'circle jerk', 'jerk', 'liberal circle', 'iraq', 'circle', 'wmds', 'liberal'}\n",
      "*********************************************\n",
      "434\n",
      "TABO words:  corrupt and inept\n",
      "21    This stooge did more to push the opioid crisis than any street drug dealer.  Trump is absoltutely corrupt and inept himself.\n"
     ]
    },
    {
     "data": {
      "text/html": [
       "This <span style='color:red;' >[stooge]</span> did more to <span style='color:red;' >[push]</span> the <span style='color:red;' >[opioid crisis]</span> than any <span style='color:red;' >[street]</span> <span style='color:red;' >[drug dealer]</span>.  <span style='color:red;' >[trump]</span> is <span style='color:red;' >[absoltutely]</span> <span style='color:red;' >[corrupt]</span> and <span style='color:red;' >[inept]</span> himself."
      ],
      "text/plain": [
       "<IPython.core.display.HTML object>"
      ]
     },
     "metadata": {},
     "output_type": "display_data"
    },
    {
     "name": "stdout",
     "output_type": "stream",
     "text": [
      "15 KWS: {'stooge', 'drug', 'dealer', 'push', 'street', 'trump', 'street drug', 'drug dealer', 'opioid crisis', 'crisis', 'absoltutely', 'absoltutely corrupt', 'opioid', 'inept', 'corrupt'}\n",
      "*********************************************\n",
      "435\n",
      "TABO words:  traitor\n",
      "27    The Trump barrage of lies continues to defend one lie after another.  Nothing this traitor tweets or says has any truth; never has.  Time for a Revolution.\n"
     ]
    },
    {
     "data": {
      "text/html": [
       "The <span style='color:red;' >[trump barrage]</span> of <span style='color:red;' >[lies continues]</span> to <span style='color:red;' >[defend]</span> one <span style='color:red;' >[lie]</span> after another.  Nothing this <span style='color:red;' >[traitor tweets]</span> or says has any <span style='color:red;' >[truth]</span>; never has.  <span style='color:red;' >[time]</span> for a <span style='color:red;' >[revolution]</span>."
      ],
      "text/plain": [
       "<IPython.core.display.HTML object>"
      ]
     },
     "metadata": {},
     "output_type": "display_data"
    },
    {
     "name": "stdout",
     "output_type": "stream",
     "text": [
      "14 KWS: {'lies', 'trump barrage', 'barrage', 'traitor', 'continues', 'traitor tweets', 'trump', 'tweets', 'defend', 'revolution', 'lie', 'truth', 'time', 'lies continues'}\n",
      "*********************************************\n",
      "436\n",
      "TABO words:  idiotic\n",
      "162    Lol really. No offence but that’s an idiotic statement. I’m not looking for likes from the douches on the left/ right political side of things. You can’t honestly think this though. Our government federally and provincially across Canada works exactly like this. The more money in the more money spent. It is always, and will always be spent with little oversight, common sense, little efficiency. That’s it. You see provinces with hst taxing more that have massive debts. Obviously more money didn’t make them better money managers, quite the opposite actually. They post phony  surpluses but debts are ever increasing. The problem is the way money is spent. That’s it. Bloated public sectors that’s sole obligation is to become more bloated. What bloats more then more money. Don’t be naive to think less equalization would magically turn these inept politicians to manage money any better. That includes cons, libs, and dippers. They have zero sense of money management and probably never will.\n"
     ]
    },
    {
     "data": {
      "text/html": [
       "<span style='color:red;' >[lol]</span> really. No <span style='color:red;' >[offence]</span> but that’s an <span style='color:red;' >[idiotic statement]</span>. I’m not looking for likes from the <span style='color:red;' >[douches]</span> on the left/ right <span style='color:red;' >[political side]</span> of <span style='color:red;' >[things]</span>. You can’t <span style='color:red;' >[honestly]</span> think this though. Our government federally and provincially across <span style='color:red;' >[canada works]</span> exactly like this. The more <span style='color:red;' >[money]</span> in the more <span style='color:red;' >[money]</span> <span style='color:red;' >[spent]</span>. It is always, and will always be <span style='color:red;' >[spent]</span> with little oversight, common <span style='color:red;' >[sense]</span>, little efficiency. That’s it. You see provinces with hst taxing more that have massive <span style='color:red;' >[debts]</span>. Obviously more <span style='color:red;' >[money]</span> didn’t make them better <span style='color:red;' >[money]</span> managers, quite the opposite actually. They post phony  surpluses but <span style='color:red;' >[debts]</span> are ever increasing. The problem is the way <span style='color:red;' >[money]</span> is <span style='color:red;' >[spent]</span>. That’s it. <span style='color:red;' >[bloated]</span> public sectors that’s sole obligation is to become more <span style='color:red;' >[bloated]</span>. What bloats more then more <span style='color:red;' >[money]</span>. Don’t be naive to think less equalization would magically turn these inept politicians to manage <span style='color:red;' >[money]</span> any better. That includes cons, libs, and dippers. They have zero <span style='color:red;' >[sense]</span> of <span style='color:red;' >[money]</span> management and probably never will."
      ],
      "text/plain": [
       "<IPython.core.display.HTML object>"
      ]
     },
     "metadata": {},
     "output_type": "display_data"
    },
    {
     "name": "stdout",
     "output_type": "stream",
     "text": [
      "20 KWS: {'left', 'lol', 'debts', 'money', 'spent', 'idiotic statement', 'offence', 'idiotic', 'things', 'political', 'bloated', 'side', 'statement', 'canada works', 'sense', 'n’t', 'political side', 'douches', 'honestly', 'canada'}\n",
      "*********************************************\n",
      "437\n",
      "TABO words:  stupidity\n",
      "6    That's it, boast about your stupidity.\n"
     ]
    },
    {
     "data": {
      "text/html": [
       "That's it, <span style='color:red;' >[boast]</span> about your <span style='color:red;' >[stupidity]</span>."
      ],
      "text/plain": [
       "<IPython.core.display.HTML object>"
      ]
     },
     "metadata": {},
     "output_type": "display_data"
    },
    {
     "name": "stdout",
     "output_type": "stream",
     "text": [
      "2 KWS: {'stupidity', 'boast'}\n",
      "*********************************************\n",
      "438\n",
      "TABO words:  anal\n",
      "7    So many anal people on this site.\n"
     ]
    },
    {
     "data": {
      "text/html": [
       "So many <span style='color:red;' >[anal people]</span> on this <span style='color:red;' >[site]</span>."
      ],
      "text/plain": [
       "<IPython.core.display.HTML object>"
      ]
     },
     "metadata": {},
     "output_type": "display_data"
    },
    {
     "name": "stdout",
     "output_type": "stream",
     "text": [
      "4 KWS: {'anal people', 'anal', 'people', 'site'}\n",
      "*********************************************\n",
      "439\n",
      "TABO words:  stupidity\n",
      "5    Can you test for stupidity?\n"
     ]
    },
    {
     "data": {
      "text/html": [
       "Can you <span style='color:red;' >[test]</span> for <span style='color:red;' >[stupidity]</span>?"
      ],
      "text/plain": [
       "<IPython.core.display.HTML object>"
      ]
     },
     "metadata": {},
     "output_type": "display_data"
    },
    {
     "name": "stdout",
     "output_type": "stream",
     "text": [
      "2 KWS: {'test', 'stupidity'}\n",
      "*********************************************\n",
      "440\n",
      "TABO words:  clown\n",
      "20    My wages are doing great.  Have been since the 1980's, regardless what clown was in office, inclusive of this one.\n"
     ]
    },
    {
     "data": {
      "text/html": [
       "My <span style='color:red;' >[wages]</span> are doing <span style='color:red;' >[great]</span>.  Have been since the 1980's, regardless what <span style='color:red;' >[clown]</span> was in <span style='color:red;' >[office]</span>, <span style='color:red;' >[inclusive]</span> of this one."
      ],
      "text/plain": [
       "<IPython.core.display.HTML object>"
      ]
     },
     "metadata": {},
     "output_type": "display_data"
    },
    {
     "name": "stdout",
     "output_type": "stream",
     "text": [
      "5 KWS: {'inclusive', 'office', 'great', 'clown', 'wages'}\n",
      "*********************************************\n",
      "441\n",
      "TABO words:  idiots just killed tourism\n",
      "26    Attention all refugees!!\n",
      "Montreal wants you.\n",
      "Those idiots just killed tourism\n",
      "My kid was just told to choose a university in another part of the country\n"
     ]
    },
    {
     "data": {
      "text/html": [
       "<span style='color:red;' >[attention]</span> all <span style='color:red;' >[refugees]</span>!! <span style='color:red;' >[montreal]</span> wants you. Those <span style='color:red;' >[idiots]</span> just <span style='color:red;' >[killed tourism]</span> My <span style='color:red;' >[kid]</span> was just <span style='color:red;' >[told]</span> to <span style='color:red;' >[choose]</span> a <span style='color:red;' >[university]</span> in another <span style='color:red;' >[part]</span> of the <span style='color:red;' >[country]</span>"
      ],
      "text/plain": [
       "<IPython.core.display.HTML object>"
      ]
     },
     "metadata": {},
     "output_type": "display_data"
    },
    {
     "name": "stdout",
     "output_type": "stream",
     "text": [
      "13 KWS: {'refugees', 'country', 'choose', 'told', 'tourism', 'kid', 'attention', 'idiots', 'montreal', 'part', 'killed tourism', 'university', 'killed'}\n",
      "*********************************************\n",
      "442\n",
      "TABO words:  stupidity\n",
      "68    The result of people who believe the government ( The United States of America ) owes them a better life. When In actuality it is the essence of stupidity. If you want to be a part of,America, Life, Liberty and Pursuit of Happiness. you have to work at it. If this was the result of students from any school in America that school should be ashamed of itself.\n"
     ]
    },
    {
     "data": {
      "text/html": [
       "The <span style='color:red;' >[result]</span> of <span style='color:red;' >[people]</span> who believe the <span style='color:red;' >[government]</span> ( The <span style='color:red;' >[united states]</span> of <span style='color:red;' >[america]</span> ) <span style='color:red;' >[owes]</span> them a better <span style='color:red;' >[life]</span>. When In <span style='color:red;' >[actuality]</span> it is the <span style='color:red;' >[essence]</span> of <span style='color:red;' >[stupidity]</span>. If you want to be a <span style='color:red;' >[part of,america]</span>, <span style='color:red;' >[life]</span>, <span style='color:red;' >[liberty]</span> and <span style='color:red;' >[pursuit]</span> of <span style='color:red;' >[happiness]</span>. you have to <span style='color:red;' >[work]</span> at it. If this was the <span style='color:red;' >[result]</span> of students from any <span style='color:red;' >[school]</span> in <span style='color:red;' >[america]</span> that <span style='color:red;' >[school]</span> should be ashamed of itself."
      ],
      "text/plain": [
       "<IPython.core.display.HTML object>"
      ]
     },
     "metadata": {},
     "output_type": "display_data"
    },
    {
     "name": "stdout",
     "output_type": "stream",
     "text": [
      "20 KWS: {'government', 'school', 'result', 'life', 'liberty', 'pursuit', 'actuality', 'of,america', 'essence', 'work', 'happiness', 'america', 'part', 'owes', 'people', 'united states', 'united', 'states', 'part of,america', 'stupidity'}\n",
      "*********************************************\n",
      "443\n",
      "TABO words:  Trump buffoon disgusting\n",
      "16    Trump is a buffoon.\n",
      "And a traitor.\n",
      "He has absolutely no redeeming qualities whatsoever.\n",
      "He's disgusting.\n"
     ]
    },
    {
     "data": {
      "text/html": [
       "<span style='color:red;' >[trump]</span> is a <span style='color:red;' >[buffoon]</span>. And a <span style='color:red;' >[traitor]</span>. He has <span style='color:red;' >[absolutely]</span> no <span style='color:red;' >[redeeming]</span> <span style='color:red;' >[qualities whatsoever]</span>. He's <span style='color:red;' >[disgusting]</span>."
      ],
      "text/plain": [
       "<IPython.core.display.HTML object>"
      ]
     },
     "metadata": {},
     "output_type": "display_data"
    },
    {
     "name": "stdout",
     "output_type": "stream",
     "text": [
      "10 KWS: {'absolutely', 'disgusting', 'whatsoever', 'qualities whatsoever', 'redeeming qualities', 'traitor', 'redeeming', 'buffoon', 'trump', 'qualities'}\n",
      "*********************************************\n",
      "444\n",
      "TABO words:  understaning fool\n",
      "13    Your not understaning grammer, fool. Your a Leftie poster with no comon senze.\n"
     ]
    },
    {
     "data": {
      "text/html": [
       "Your not <span style='color:red;' >[understaning grammer]</span>, <span style='color:red;' >[fool]</span>. Your a <span style='color:red;' >[leftie poster]</span> with no <span style='color:red;' >[comon senze]</span>."
      ],
      "text/plain": [
       "<IPython.core.display.HTML object>"
      ]
     },
     "metadata": {},
     "output_type": "display_data"
    },
    {
     "name": "stdout",
     "output_type": "stream",
     "text": [
      "10 KWS: {'fool', 'senze', 'poster', 'leftie poster', 'understaning grammer', 'comon', 'comon senze', 'understaning', 'leftie', 'grammer'}\n",
      "*********************************************\n",
      "445\n",
      "TABO words:  ignorant buffoon ignorant\n",
      "104    Thanks to Donald Trump and his equally clueless Republican politicians for helping bring this amazing convention to Denver! I feel sorry for the folks of Utah who are against Trump's ignorant policies, but if it takes situations like this for the country to realize what a buffoon Donald Trump and some of his fellow Republicans are, then maybe the country will step up the efforts to get Trump impeached. He is completely unfit to run our country, and this is just one of his amazingly ignorant decisions. He's mentally unfit and everything he does is to pad his own bank account. What a joke!\n"
     ]
    },
    {
     "data": {
      "text/html": [
       "Thanks to <span style='color:red;' >[donald trump]</span> and his <span style='color:red;' >[equally]</span> <span style='color:red;' >[clueless republican]</span> <span style='color:red;' >[politicians]</span> for <span style='color:red;' >[helping bring]</span> this <span style='color:red;' >[amazing convention]</span> to <span style='color:red;' >[denver]</span>! I feel sorry for the folks of Utah who are against Trump's ignorant policies, but if it takes situations like this for the <span style='color:red;' >[country]</span> to realize what a buffoon <span style='color:red;' >[donald trump]</span> and some of his <span style='color:red;' >[fellow republicans]</span> are, then maybe the <span style='color:red;' >[country]</span> will step up the efforts to get <span style='color:red;' >[trump]</span> impeached. He is completely unfit to run our <span style='color:red;' >[country]</span>, and this is just one of his amazingly ignorant decisions. He's mentally unfit and everything he does is to pad his own bank account. What a joke!"
      ],
      "text/plain": [
       "<IPython.core.display.HTML object>"
      ]
     },
     "metadata": {},
     "output_type": "display_data"
    },
    {
     "name": "stdout",
     "output_type": "stream",
     "text": [
      "20 KWS: {'amazing convention', 'country', 'republican politicians', 'donald', 'republican', 'trump ignorant', 'equally', 'helping', 'donald trump', 'fellow republicans', 'trump impeached', 'trump', 'buffoon donald', 'clueless', 'helping bring', 'bring', 'denver', 'equally clueless', 'clueless republican', 'politicians'}\n",
      "*********************************************\n",
      "446\n",
      "TABO words:  stupid\n",
      "54    LMAO I just heard a delusional Snowflake make the most stupid remark. \"Expressing their 1st Amendment rights with a Violent Protest\" HUH! 1st amendment is a Peaceful Demonstration. A Violent Protest is a RIOT...FYI Pelosi is Senile,CA keeps voting her in and the Democrats in the House keep voting her Minority Leader enuf said...\n"
     ]
    },
    {
     "data": {
      "text/html": [
       "<span style='color:red;' >[lmao]</span> I just <span style='color:red;' >[heard]</span> a <span style='color:red;' >[delusional snowflake]</span> <span style='color:red;' >[make]</span> the most <span style='color:red;' >[stupid remark]</span>. \"<span style='color:red;' >[expressing]</span> their 1st <span style='color:red;' >[amendment]</span> rights with a <span style='color:red;' >[violent protest]</span>\" <span style='color:red;' >[huh]</span>! 1st <span style='color:red;' >[amendment]</span> is a <span style='color:red;' >[peaceful demonstration]</span>. A <span style='color:red;' >[violent protest]</span> is a RIOT...FYI Pelosi is Senile,CA keeps <span style='color:red;' >[voting]</span> her in and the Democrats in the House keep <span style='color:red;' >[voting]</span> her <span style='color:red;' >[minority leader]</span> enuf said..."
      ],
      "text/plain": [
       "<IPython.core.display.HTML object>"
      ]
     },
     "metadata": {},
     "output_type": "display_data"
    },
    {
     "name": "stdout",
     "output_type": "stream",
     "text": [
      "20 KWS: {'stupid remark', 'peaceful demonstration', 'violent', 'fyi pelosi', 'protest', 'snowflake', 'amendment', 'heard', 'delusional', 'delusional snowflake', 'huh', 'stupid', 'voting', 'violent protest', 'expressing', 'snowflake make', 'make', 'minority leader', 'remark', 'lmao'}\n",
      "*********************************************\n",
      "447\n",
      "TABO words: \n",
      "12    The US is one sick crazy hell of a place.   UNBELIEVABLE !!\n"
     ]
    },
    {
     "data": {
      "text/html": [
       "The US is one <span style='color:red;' >[sick crazy]</span> <span style='color:red;' >[hell]</span> of a <span style='color:red;' >[place]</span>.   <span style='color:red;' >[unbelievable]</span> !!"
      ],
      "text/plain": [
       "<IPython.core.display.HTML object>"
      ]
     },
     "metadata": {},
     "output_type": "display_data"
    },
    {
     "name": "stdout",
     "output_type": "stream",
     "text": [
      "7 KWS: {'crazy hell', 'unbelievable', 'sick', 'hell', 'crazy', 'place', 'sick crazy'}\n",
      "*********************************************\n",
      "448\n",
      "TABO words: \n",
      "5    Incompetent moronic children? Please explain...\n"
     ]
    },
    {
     "data": {
      "text/html": [
       "<span style='color:red;' >[incompetent moronic]</span> <span style='color:red;' >[children]</span>? Please <span style='color:red;' >[explain]</span>..."
      ],
      "text/plain": [
       "<IPython.core.display.HTML object>"
      ]
     },
     "metadata": {},
     "output_type": "display_data"
    },
    {
     "name": "stdout",
     "output_type": "stream",
     "text": [
      "6 KWS: {'moronic children', 'incompetent', 'children', 'explain', 'moronic', 'incompetent moronic'}\n",
      "*********************************************\n",
      "449\n",
      "TABO words:  Selfish Liars You are the selfish liar\n",
      "173    Lets see, you say BCers are \"Selfish Liars\" and need to learn to \"compromise\".\n",
      "So your idea of compromise is:\n",
      "\n",
      "1) Alberta gets it's pipeline\n",
      "2) Alberta gets to pipe toxic sludge into BC where all of it gets shipped out of the country\n",
      "3) Alberta corporations get rich\n",
      "4) BC gets a seven fold increase in tanker traffic\n",
      "5) BC gets virtually all the risk when (not if since it WILL occur sooner or later) a pipeline breaks\n",
      "6) BC gets to deal with destruction of the coastline when (again not if) a tanker leaks/breaks (with \"some\" help from the federal government but not as much as would be needed. It never is.). \n",
      "7) BC gets all the responsibility, work, and blame to clean up and restore fragile coastline ecosystems\n",
      "8) BC gets to have it's major industries (tourism, coastal tours, whale watching, parkland vacationers, etc..) ruined with the damage and destruction of the coast\n",
      "\n",
      "You can take your \"compromise\" and stuff it in your tar(sands) hole. You are the selfish liar.\n"
     ]
    },
    {
     "data": {
      "text/html": [
       "Lets see, you say <span style='color:red;' >[bcers]</span> are \"<span style='color:red;' >[selfish liars]</span>\" and need to <span style='color:red;' >[learn]</span> to \"<span style='color:red;' >[compromise]</span>\". So your idea of <span style='color:red;' >[compromise]</span> is:  1) <span style='color:red;' >[alberta]</span> gets it's <span style='color:red;' >[pipeline]</span> 2) <span style='color:red;' >[alberta]</span> gets to <span style='color:red;' >[pipe toxic]</span> sludge into BC where all of it gets shipped out of the country 3) <span style='color:red;' >[alberta]</span> corporations get rich 4) BC gets a seven <span style='color:red;' >[fold increase]</span> in <span style='color:red;' >[tanker traffic]</span> 5) BC gets virtually all the risk when (not if since it WILL <span style='color:red;' >[occur sooner]</span> or later) a <span style='color:red;' >[pipeline breaks]</span> 6) BC gets to deal with <span style='color:red;' >[destruction]</span> of the <span style='color:red;' >[coastline]</span> when (again not if) a <span style='color:red;' >[tanker]</span> leaks/breaks (with \"some\" help from the <span style='color:red;' >[federal government]</span> but not as much as would be needed. It never is.).  7) BC gets all the responsibility, work, and blame to clean up and restore fragile <span style='color:red;' >[coastline]</span> ecosystems 8) BC gets to have it's major industries (tourism, coastal tours, whale watching, parkland vacationers, etc..) ruined with the damage and <span style='color:red;' >[destruction]</span> of the coast  You can take your \"<span style='color:red;' >[compromise]</span>\" and stuff it in your tar(sands) hole. You are the <span style='color:red;' >[selfish]</span> liar."
      ],
      "text/plain": [
       "<IPython.core.display.HTML object>"
      ]
     },
     "metadata": {},
     "output_type": "display_data"
    },
    {
     "name": "stdout",
     "output_type": "stream",
     "text": [
      "20 KWS: {'tanker traffic', 'tanker', 'bcers', 'breaks', 'learn', 'occur sooner', 'federal government', 'coastline', 'selfish liars', 'alberta', 'pipeline', 'selfish', 'alberta corporations', 'fold increase', 'pipeline breaks', 'pipe toxic', 'destruction', 'tanker leaks', 'toxic sludge', 'compromise'}\n",
      "*********************************************\n",
      "450\n",
      "TABO words:  scum\n",
      "25    Im pretty sure wage growth is statistical for gentrification. Politics?!? Really people need to stop fantasizing about their popularity contests and realize politicians are scum.\n"
     ]
    },
    {
     "data": {
      "text/html": [
       "Im <span style='color:red;' >[pretty]</span> sure <span style='color:red;' >[wage growth]</span> is <span style='color:red;' >[statistical]</span> for <span style='color:red;' >[gentrification]</span>. <span style='color:red;' >[politics]</span>?!? Really <span style='color:red;' >[people]</span> need to <span style='color:red;' >[stop]</span> <span style='color:red;' >[fantasizing]</span> about their <span style='color:red;' >[popularity]</span> <span style='color:red;' >[contests]</span> and <span style='color:red;' >[realize]</span> <span style='color:red;' >[politicians]</span> are <span style='color:red;' >[scum]</span>."
      ],
      "text/plain": [
       "<IPython.core.display.HTML object>"
      ]
     },
     "metadata": {},
     "output_type": "display_data"
    },
    {
     "name": "stdout",
     "output_type": "stream",
     "text": [
      "18 KWS: {'stop fantasizing', 'popularity contests', 'realize politicians', 'statistical', 'popularity', 'contests', 'politics', 'wage', 'scum', 'stop', 'pretty', 'realize', 'people', 'fantasizing', 'wage growth', 'growth', 'gentrification', 'politicians'}\n",
      "*********************************************\n",
      "451\n",
      "TABO words:  Idiots\n",
      "42    Clinton \"Queen of the Useful Idiots\" is a serial woman berater, misogynist, woman abuser, and enforcer for her sick convenience marriage dolt so called husband.  And yet these libbernuts yap about feminism!  What a world, What a world, said the wicked witch!\n"
     ]
    },
    {
     "data": {
      "text/html": [
       "<span style='color:red;' >[clinton]</span> \"<span style='color:red;' >[queen]</span> of the Useful <span style='color:red;' >[idiots]</span>\" is a <span style='color:red;' >[serial]</span> <span style='color:red;' >[woman berater]</span>, <span style='color:red;' >[misogynist]</span>, <span style='color:red;' >[woman abuser]</span>, and <span style='color:red;' >[enforcer]</span> for her <span style='color:red;' >[sick convenience]</span> <span style='color:red;' >[marriage dolt]</span> so <span style='color:red;' >[called husband]</span>.  And yet these libbernuts yap about feminism!  What a <span style='color:red;' >[world]</span>, What a <span style='color:red;' >[world]</span>, said the wicked witch!"
      ],
      "text/plain": [
       "<IPython.core.display.HTML object>"
      ]
     },
     "metadata": {},
     "output_type": "display_data"
    },
    {
     "name": "stdout",
     "output_type": "stream",
     "text": [
      "20 KWS: {'serial', 'abuser', 'convenience marriage', 'enforcer', 'woman abuser', 'sick', 'convenience', 'woman', 'woman berater', 'queen', 'idiots', 'misogynist', 'berater', 'world', 'marriage dolt', 'sick convenience', 'called husband', 'serial woman', 'clinton', 'husband'}\n",
      "*********************************************\n",
      "452\n",
      "TABO words:  dishonest scum scum\n",
      "27    Shawn Spicer is dishonest scum.\n",
      "\n",
      "He spent months trying but failing at defending the indefensible.\n",
      "\n",
      "He doesn't come out the other side of that clean.\n",
      "\n",
      "He's scum.\n"
     ]
    },
    {
     "data": {
      "text/html": [
       "<span style='color:red;' >[shawn spicer]</span> is <span style='color:red;' >[dishonest scum]</span>.  He <span style='color:red;' >[spent months]</span> trying but <span style='color:red;' >[failing]</span> at <span style='color:red;' >[defending]</span> the <span style='color:red;' >[indefensible]</span>.  He doesn't come out the other <span style='color:red;' >[side]</span> of that <span style='color:red;' >[clean]</span>.  He's <span style='color:red;' >[scum]</span>."
      ],
      "text/plain": [
       "<IPython.core.display.HTML object>"
      ]
     },
     "metadata": {},
     "output_type": "display_data"
    },
    {
     "name": "stdout",
     "output_type": "stream",
     "text": [
      "14 KWS: {'defending', 'spent', 'clean', 'failing', 'shawn spicer', 'dishonest', 'side', 'shawn', 'spent months', 'dishonest scum', 'months', 'spicer', 'scum', 'indefensible'}\n",
      "*********************************************\n",
      "453\n",
      "TABO words:  Blm ass\n",
      "40    This mo-fo be black! How he be aress? Blm need to get they ass over there an be protess this injustis agains they own! How dare this bro be arres?\n",
      "\n",
      "Pardon the vernacular here, but, hey, he be a rapper!\n"
     ]
    },
    {
     "data": {
      "text/html": [
       "This <span style='color:red;' >[mo-fo]</span> be <span style='color:red;' >[black]</span>! How he be <span style='color:red;' >[aress]</span>? <span style='color:red;' >[blm]</span> need to get they <span style='color:red;' >[ass]</span> over there an be <span style='color:red;' >[protess]</span> this <span style='color:red;' >[injustis]</span> agains they own! How <span style='color:red;' >[dare]</span> this <span style='color:red;' >[bro]</span> be <span style='color:red;' >[arres]</span>?  <span style='color:red;' >[pardon]</span> the <span style='color:red;' >[vernacular]</span> here, but, <span style='color:red;' >[hey]</span>, he be a <span style='color:red;' >[rapper]</span>!"
      ],
      "text/plain": [
       "<IPython.core.display.HTML object>"
      ]
     },
     "metadata": {},
     "output_type": "display_data"
    },
    {
     "name": "stdout",
     "output_type": "stream",
     "text": [
      "14 KWS: {'hey', 'ass', 'protess', 'injustis', 'blm', 'pardon', 'black', 'dare', 'rapper', 'aress', 'arres', 'mo-fo', 'bro', 'vernacular'}\n",
      "*********************************************\n",
      "454\n",
      "TABO words:  I didn’t mean to mock your false god\n",
      "22    No it doesn’t.  Talking about superstition RP, you still believe in Hillary Clinton.  Sorry, I didn’t mean to mock your false god.\n"
     ]
    },
    {
     "data": {
      "text/html": [
       "No it doesn’t.  <span style='color:red;' >[talking]</span> about <span style='color:red;' >[superstition]</span> RP, you still believe in <span style='color:red;' >[hillary clinton]</span>.  Sorry, I didn’t mean to <span style='color:red;' >[mock]</span> your <span style='color:red;' >[false god]</span>."
      ],
      "text/plain": [
       "<IPython.core.display.HTML object>"
      ]
     },
     "metadata": {},
     "output_type": "display_data"
    },
    {
     "name": "stdout",
     "output_type": "stream",
     "text": [
      "10 KWS: {'hillary clinton', 'mock', 'talking', 'false god', 'hillary', 'god', 'n’t', 'superstition', 'false', 'clinton'}\n",
      "*********************************************\n",
      "455\n",
      "TABO words:  right wing idiot\n",
      "13    What has your body odor to do with anything you right wing idiot.\n"
     ]
    },
    {
     "data": {
      "text/html": [
       "What has your <span style='color:red;' >[body odor]</span> to do with anything you right <span style='color:red;' >[wing idiot]</span>."
      ],
      "text/plain": [
       "<IPython.core.display.HTML object>"
      ]
     },
     "metadata": {},
     "output_type": "display_data"
    },
    {
     "name": "stdout",
     "output_type": "stream",
     "text": [
      "6 KWS: {'idiot', 'body', 'wing', 'wing idiot', 'body odor', 'odor'}\n",
      "*********************************************\n",
      "456\n",
      "TABO words:  sucks\n",
      "3    Bob Dylan sucks.\n"
     ]
    },
    {
     "data": {
      "text/html": [
       "<span style='color:red;' >[bob dylan]</span> <span style='color:red;' >[sucks]</span>."
      ],
      "text/plain": [
       "<IPython.core.display.HTML object>"
      ]
     },
     "metadata": {},
     "output_type": "display_data"
    },
    {
     "name": "stdout",
     "output_type": "stream",
     "text": [
      "5 KWS: {'dylan', 'bob', 'dylan sucks', 'bob dylan', 'sucks'}\n",
      "*********************************************\n",
      "457\n",
      "TABO words:  Stupid idiots\n",
      "43    At Orbitz and Expedia it still is HNL. I prefer it that way. Inouye must be irritated. He didn't like being a show off. Stupid time-wasting ideas by idiots who have nothing better to do. Just like Cayetano and his tunnel renaming idea.\n"
     ]
    },
    {
     "data": {
      "text/html": [
       "At <span style='color:red;' >[orbitz]</span> and <span style='color:red;' >[expedia]</span> it still is <span style='color:red;' >[hnl]</span>. I <span style='color:red;' >[prefer]</span> it that way. <span style='color:red;' >[inouye]</span> must be <span style='color:red;' >[irritated]</span>. He didn't like being a <span style='color:red;' >[show]</span> off. <span style='color:red;' >[stupid]</span> <span style='color:red;' >[time-wasting]</span> <span style='color:red;' >[ideas]</span> by <span style='color:red;' >[idiots]</span> who have nothing better to do. Just like <span style='color:red;' >[cayetano]</span> and his <span style='color:red;' >[tunnel]</span> <span style='color:red;' >[renaming]</span> <span style='color:red;' >[idea]</span>."
      ],
      "text/plain": [
       "<IPython.core.display.HTML object>"
      ]
     },
     "metadata": {},
     "output_type": "display_data"
    },
    {
     "name": "stdout",
     "output_type": "stream",
     "text": [
      "19 KWS: {'renaming idea', 'tunnel renaming', 'irritated', 'orbitz', 'time-wasting ideas', 'renaming', 'hnl', 'time-wasting', 'expedia', 'idiots', 'ideas', 'prefer', 'tunnel', 'stupid time-wasting', 'cayetano', 'stupid', 'inouye', 'show', 'idea'}\n",
      "*********************************************\n",
      "458\n",
      "TABO words:  kook\n",
      "13    Good ol Doug Chinn,  busy on the campaign trail.  somebody deport this kook!\n"
     ]
    },
    {
     "data": {
      "text/html": [
       "<span style='color:red;' >[good]</span> ol <span style='color:red;' >[doug chinn]</span>,  <span style='color:red;' >[busy]</span> on the <span style='color:red;' >[campaign trail]</span>.  somebody <span style='color:red;' >[deport]</span> this <span style='color:red;' >[kook]</span>!"
      ],
      "text/plain": [
       "<IPython.core.display.HTML object>"
      ]
     },
     "metadata": {},
     "output_type": "display_data"
    },
    {
     "name": "stdout",
     "output_type": "stream",
     "text": [
      "10 KWS: {'doug', 'doug chinn', 'campaign', 'kook', 'trail', 'chinn', 'deport', 'busy', 'good', 'campaign trail'}\n",
      "*********************************************\n",
      "459\n",
      "TABO words:  foolish\n",
      "53    So people who in the past used US airports as hubs due to the lower cost of flying with US airlines will now opt to pay more to fly - you must be referring to Canadian socialists as only they are foolish enough and have more money than brains to demonstrate economic illiteracy.\n"
     ]
    },
    {
     "data": {
      "text/html": [
       "So <span style='color:red;' >[people]</span> who in the <span style='color:red;' >[past]</span> used US <span style='color:red;' >[airports]</span> as <span style='color:red;' >[hubs due]</span> to the <span style='color:red;' >[lower cost]</span> of <span style='color:red;' >[flying]</span> with US <span style='color:red;' >[airlines]</span> will now <span style='color:red;' >[opt]</span> to <span style='color:red;' >[pay]</span> more to <span style='color:red;' >[fly]</span> - you must be <span style='color:red;' >[referring]</span> to <span style='color:red;' >[canadian socialists]</span> as only they are foolish enough and have more money than brains to demonstrate <span style='color:red;' >[economic illiteracy]</span>."
      ],
      "text/plain": [
       "<IPython.core.display.HTML object>"
      ]
     },
     "metadata": {},
     "output_type": "display_data"
    },
    {
     "name": "stdout",
     "output_type": "stream",
     "text": [
      "20 KWS: {'cost', 'canadian socialists', 'airports', 'hubs due', 'past', 'economic illiteracy', 'canadian', 'referring', 'opt', 'demonstrate economic', 'fly', 'flying', 'lower', 'pay', 'airlines', 'people', 'lower cost', 'illiteracy', 'due', 'hubs'}\n",
      "*********************************************\n",
      "460\n",
      "TABO words:  dull-witted dull-witted\n",
      "19    Oh, I get it, Mike5.  JC12345 repeats his dull-witted lies and a couple of dull-witted supporters agree with him.\n"
     ]
    },
    {
     "data": {
      "text/html": [
       "Oh, I get it, Mike5.  JC12345 <span style='color:red;' >[repeats]</span> his <span style='color:red;' >[dull-witted]</span> <span style='color:red;' >[lies]</span> and a <span style='color:red;' >[couple]</span> of <span style='color:red;' >[dull-witted]</span> <span style='color:red;' >[supporters agree]</span> with him."
      ],
      "text/plain": [
       "<IPython.core.display.HTML object>"
      ]
     },
     "metadata": {},
     "output_type": "display_data"
    },
    {
     "name": "stdout",
     "output_type": "stream",
     "text": [
      "9 KWS: {'dull-witted', 'lies', 'supporters agree', 'supporters', 'dull-witted supporters', 'repeats', 'dull-witted lies', 'couple', 'agree'}\n",
      "*********************************************\n",
      "461\n",
      "TABO words:  idiot\n",
      "22    Hopefully the results of these hearings will prevent this idiot from public service in the future. A jail term would be nice.\n"
     ]
    },
    {
     "data": {
      "text/html": [
       "Hopefully the <span style='color:red;' >[results]</span> of these <span style='color:red;' >[hearings]</span> will <span style='color:red;' >[prevent]</span> this <span style='color:red;' >[idiot]</span> from <span style='color:red;' >[public service]</span> in the <span style='color:red;' >[future]</span>. A <span style='color:red;' >[jail term]</span> would be <span style='color:red;' >[nice]</span>."
      ],
      "text/plain": [
       "<IPython.core.display.HTML object>"
      ]
     },
     "metadata": {},
     "output_type": "display_data"
    },
    {
     "name": "stdout",
     "output_type": "stream",
     "text": [
      "12 KWS: {'nice', 'idiot', 'public service', 'service', 'future', 'results', 'jail', 'term', 'public', 'jail term', 'prevent', 'hearings'}\n",
      "*********************************************\n",
      "462\n",
      "TABO words:  fool\n",
      "71    What a crock, AT. Now you are implying that every Muslim is dedicated to killing \"unbelievers\". Do you believe that? Such a belief can, and has been used to commit violence against Muslims, including murder of peaceful neighbors.\n",
      "\n",
      "You have talked yourself into a corner, becoming more radical and hateful with each post. You are ranting. I think you just like to hear yourself talk. Your words make you a fool.\n"
     ]
    },
    {
     "data": {
      "text/html": [
       "What a <span style='color:red;' >[crock]</span>, AT. Now you are <span style='color:red;' >[implying]</span> that every <span style='color:red;' >[muslim]</span> is <span style='color:red;' >[dedicated]</span> to <span style='color:red;' >[killing]</span> \"<span style='color:red;' >[unbelievers]</span>\". Do you believe that? Such a <span style='color:red;' >[belief]</span> can, and has been used to <span style='color:red;' >[commit violence]</span> against <span style='color:red;' >[muslims]</span>, <span style='color:red;' >[including murder]</span> of <span style='color:red;' >[peaceful neighbors]</span>.  You have talked yourself into a <span style='color:red;' >[corner]</span>, becoming more radical and hateful with each <span style='color:red;' >[post]</span>. You are <span style='color:red;' >[ranting]</span>. I think you just like to hear yourself talk. Your words make you a fool."
      ],
      "text/plain": [
       "<IPython.core.display.HTML object>"
      ]
     },
     "metadata": {},
     "output_type": "display_data"
    },
    {
     "name": "stdout",
     "output_type": "stream",
     "text": [
      "20 KWS: {'ranting', 'commit violence', 'implying', 'including', 'muslims', 'unbelievers', 'peaceful neighbors', 'dedicated', 'killing', 'belief', 'crock', 'peaceful', 'post', 'including murder', 'murder', 'violence', 'muslim', 'commit', 'neighbors', 'corner'}\n",
      "*********************************************\n",
      "463\n",
      "TABO words: \n",
      "8    You are both pig ignorant and a liar.\n"
     ]
    },
    {
     "data": {
      "text/html": [
       "You are both <span style='color:red;' >[pig ignorant]</span> and a <span style='color:red;' >[liar]</span>."
      ],
      "text/plain": [
       "<IPython.core.display.HTML object>"
      ]
     },
     "metadata": {},
     "output_type": "display_data"
    },
    {
     "name": "stdout",
     "output_type": "stream",
     "text": [
      "4 KWS: {'ignorant', 'liar', 'pig ignorant', 'pig'}\n",
      "*********************************************\n",
      "464\n",
      "TABO words:  malignant narcissist and mentally deranged sociopath\n",
      "11    Let the malignant narcissist and mentally deranged sociopath Trump sink himself.\n"
     ]
    },
    {
     "data": {
      "text/html": [
       "Let the <span style='color:red;' >[malignant narcissist]</span> and <span style='color:red;' >[mentally deranged]</span> <span style='color:red;' >[sociopath trump]</span> <span style='color:red;' >[sink]</span> himself."
      ],
      "text/plain": [
       "<IPython.core.display.HTML object>"
      ]
     },
     "metadata": {},
     "output_type": "display_data"
    },
    {
     "name": "stdout",
     "output_type": "stream",
     "text": [
      "12 KWS: {'deranged', 'narcissist', 'sink', 'trump sink', 'deranged sociopath', 'trump', 'mentally', 'malignant', 'mentally deranged', 'sociopath', 'malignant narcissist', 'sociopath trump'}\n",
      "*********************************************\n",
      "465\n",
      "TABO words:  dumb\n",
      "62    14 Ak Senators with good cause have earned being fired.\n",
      "Because they can't count, double crossed 644,000 PFD recipients,\n",
      "and are too dumb to understand the meaning of the word No.\n",
      "They must, therefore, lean the meaning of the 5 letter word F-i-r-e-d.\n",
      "Starting with Sen. Majority leader John Coghill.\n",
      "Flush John is has real meaning and keeps the bathroom from stinking.\n"
     ]
    },
    {
     "data": {
      "text/html": [
       "14 Ak <span style='color:red;' >[senators]</span> with <span style='color:red;' >[good]</span> cause have <span style='color:red;' >[earned]</span> being <span style='color:red;' >[fired]</span>. Because they can't <span style='color:red;' >[count]</span>, <span style='color:red;' >[double crossed]</span> 644,000 <span style='color:red;' >[pfd recipients]</span>, and are too dumb to understand the <span style='color:red;' >[meaning]</span> of the <span style='color:red;' >[word]</span> No. They must, therefore, lean the <span style='color:red;' >[meaning]</span> of the 5 <span style='color:red;' >[letter word]</span> F-i-r-e-d. Starting with <span style='color:red;' >[sen]</span>. Majority leader <span style='color:red;' >[john coghill]</span>. Flush <span style='color:red;' >[john]</span> is has real <span style='color:red;' >[meaning]</span> and keeps the bathroom from stinking."
      ],
      "text/plain": [
       "<IPython.core.display.HTML object>"
      ]
     },
     "metadata": {},
     "output_type": "display_data"
    },
    {
     "name": "stdout",
     "output_type": "stream",
     "text": [
      "20 KWS: {'letter word', 'senators', 'john coghill', 'fired', 'double crossed', 'earned', 'pfd', 'flush john', 'pfd recipients', 'john', 'coghill', 'sen', 'real meaning', 'word', 'good', 'leader john', 'count', 'double', 'crossed', 'meaning'}\n",
      "*********************************************\n",
      "466\n",
      "TABO words:  rediculous\n",
      "4    I agree totally rediculous?\n"
     ]
    },
    {
     "data": {
      "text/html": [
       "I <span style='color:red;' >[agree]</span> <span style='color:red;' >[totally rediculous]</span>?"
      ],
      "text/plain": [
       "<IPython.core.display.HTML object>"
      ]
     },
     "metadata": {},
     "output_type": "display_data"
    },
    {
     "name": "stdout",
     "output_type": "stream",
     "text": [
      "5 KWS: {'agree totally', 'totally rediculous', 'totally', 'agree', 'rediculous'}\n",
      "*********************************************\n",
      "467\n",
      "TABO words: \n",
      "21    I didn't think she could actually talk.  The silent one.  Too bad the doofus husband can't keep his stupid mouth shut.\n"
     ]
    },
    {
     "data": {
      "text/html": [
       "I didn't think she could actually <span style='color:red;' >[talk]</span>.  The <span style='color:red;' >[silent]</span> one.  Too <span style='color:red;' >[bad]</span> the <span style='color:red;' >[doofus husband]</span> can't keep his <span style='color:red;' >[stupid]</span> <span style='color:red;' >[mouth shut]</span>."
      ],
      "text/plain": [
       "<IPython.core.display.HTML object>"
      ]
     },
     "metadata": {},
     "output_type": "display_data"
    },
    {
     "name": "stdout",
     "output_type": "stream",
     "text": [
      "11 KWS: {'silent', 'doofus husband', 'talk', 'doofus', 'stupid mouth', 'mouth', 'mouth shut', 'bad', 'husband', 'stupid', 'shut'}\n",
      "*********************************************\n",
      "468\n",
      "TABO words:  lunatic scumbag\n",
      "13    The media really should stop giving attention to this lunatic, self-serving criminal scumbag.\n"
     ]
    },
    {
     "data": {
      "text/html": [
       "The <span style='color:red;' >[media]</span> really should <span style='color:red;' >[stop giving]</span> <span style='color:red;' >[attention]</span> to this <span style='color:red;' >[lunatic]</span>, <span style='color:red;' >[self-serving criminal]</span> <span style='color:red;' >[scumbag]</span>."
      ],
      "text/plain": [
       "<IPython.core.display.HTML object>"
      ]
     },
     "metadata": {},
     "output_type": "display_data"
    },
    {
     "name": "stdout",
     "output_type": "stream",
     "text": [
      "12 KWS: {'scumbag', 'giving', 'giving attention', 'stop giving', 'self-serving', 'media', 'lunatic', 'attention', 'criminal', 'stop', 'criminal scumbag', 'self-serving criminal'}\n",
      "*********************************************\n",
      "469\n",
      "TABO words:  Go to hell\n",
      "10    Go to hell. you and George Soros and the Antifa!\n"
     ]
    },
    {
     "data": {
      "text/html": [
       "Go to <span style='color:red;' >[hell]</span>. you and <span style='color:red;' >[george soros]</span> and the <span style='color:red;' >[antifa]</span>!"
      ],
      "text/plain": [
       "<IPython.core.display.HTML object>"
      ]
     },
     "metadata": {},
     "output_type": "display_data"
    },
    {
     "name": "stdout",
     "output_type": "stream",
     "text": [
      "5 KWS: {'antifa', 'soros', 'george soros', 'hell', 'george'}\n",
      "*********************************************\n",
      "470\n",
      "TABO words:  ignorant pathetic\n",
      "17    She's a Grifter, a liar, ignorant by choice, a truly pathetic parent, a Quitter, and a hypocrite.\n"
     ]
    },
    {
     "data": {
      "text/html": [
       "She's a <span style='color:red;' >[grifter]</span>, a <span style='color:red;' >[liar]</span>, <span style='color:red;' >[ignorant]</span> by <span style='color:red;' >[choice]</span>, a truly <span style='color:red;' >[pathetic parent]</span>, a <span style='color:red;' >[quitter]</span>, and a <span style='color:red;' >[hypocrite]</span>."
      ],
      "text/plain": [
       "<IPython.core.display.HTML object>"
      ]
     },
     "metadata": {},
     "output_type": "display_data"
    },
    {
     "name": "stdout",
     "output_type": "stream",
     "text": [
      "9 KWS: {'pathetic parent', 'grifter', 'pathetic', 'hypocrite', 'parent', 'ignorant', 'liar', 'choice', 'quitter'}\n",
      "*********************************************\n",
      "471\n",
      "TABO words:  You should stop your ceaseless postings before you really embarrass yourself Look\n",
      "39    Roy, you are the textbook definition of a sore loser. You should stop your ceaseless postings before you really embarrass yourself. Look, we have had enough of the dems, its time for a change. Embrace it and move on.\n"
     ]
    },
    {
     "data": {
      "text/html": [
       "<span style='color:red;' >[roy]</span>, you are the <span style='color:red;' >[textbook definition]</span> of a <span style='color:red;' >[sore loser]</span>. You should <span style='color:red;' >[stop]</span> your <span style='color:red;' >[ceaseless postings]</span> before you really <span style='color:red;' >[embarrass]</span> yourself. Look, we have had enough of the <span style='color:red;' >[dems]</span>, its <span style='color:red;' >[time]</span> for a <span style='color:red;' >[change]</span>. <span style='color:red;' >[embrace]</span> it and <span style='color:red;' >[move]</span> on."
      ],
      "text/plain": [
       "<IPython.core.display.HTML object>"
      ]
     },
     "metadata": {},
     "output_type": "display_data"
    },
    {
     "name": "stdout",
     "output_type": "stream",
     "text": [
      "17 KWS: {'sore', 'loser', 'ceaseless postings', 'definition', 'roy', 'postings', 'textbook definition', 'embrace', 'stop', 'move', 'embarrass', 'ceaseless', 'change', 'textbook', 'dems', 'sore loser', 'time'}\n",
      "*********************************************\n",
      "472\n",
      "TABO words:  Trump's Fascist message\n",
      "66    Trump's Fascist message is the last thing we need in Canada. What we need to do is offer to the world an alternative message, one of reason and tolerance, of decency and peace. The world does indeed need more Canada and for Leitch to suggest otherwise shows she knows nothing at all about what it means to be Canadian. Shame on her for this appalling statement.\n"
     ]
    },
    {
     "data": {
      "text/html": [
       "Trump's <span style='color:red;' >[fascist message]</span> is the last <span style='color:red;' >[thing]</span> we need in <span style='color:red;' >[canada]</span>. What we need to do is <span style='color:red;' >[offer]</span> to the <span style='color:red;' >[world]</span> an <span style='color:red;' >[alternative]</span> <span style='color:red;' >[message]</span>, one of <span style='color:red;' >[reason]</span> and <span style='color:red;' >[tolerance]</span>, of <span style='color:red;' >[decency]</span> and <span style='color:red;' >[peace]</span>. The <span style='color:red;' >[world]</span> does indeed need more <span style='color:red;' >[canada]</span> and for <span style='color:red;' >[leitch]</span> to suggest otherwise shows she knows nothing at all about what it means to be <span style='color:red;' >[canadian]</span>. <span style='color:red;' >[shame]</span> on her for this <span style='color:red;' >[appalling statement]</span>."
      ],
      "text/plain": [
       "<IPython.core.display.HTML object>"
      ]
     },
     "metadata": {},
     "output_type": "display_data"
    },
    {
     "name": "stdout",
     "output_type": "stream",
     "text": [
      "20 KWS: {'tolerance', 'reason', 'fascist', 'thing', 'shame', 'canadian', 'trump', 'fascist message', 'leitch', 'peace', 'message', 'world', 'alternative message', 'appalling statement', 'trump fascist', 'offer', 'alternative', 'decency', 'statement', 'canada'}\n",
      "*********************************************\n",
      "473\n",
      "TABO words:  Darn it\n",
      "5    Darn it. (edited) ---- Bingo!\n"
     ]
    },
    {
     "data": {
      "text/html": [
       "<span style='color:red;' >[darn]</span> it. (<span style='color:red;' >[edited]</span>) ---- <span style='color:red;' >[bingo]</span>!"
      ],
      "text/plain": [
       "<IPython.core.display.HTML object>"
      ]
     },
     "metadata": {},
     "output_type": "display_data"
    },
    {
     "name": "stdout",
     "output_type": "stream",
     "text": [
      "3 KWS: {'bingo', 'darn', 'edited'}\n",
      "*********************************************\n",
      "474\n",
      "TABO words:  idiot\n",
      "5    An idiot named Hillary happened\n"
     ]
    },
    {
     "data": {
      "text/html": [
       "An <span style='color:red;' >[idiot]</span> <span style='color:red;' >[named]</span> <span style='color:red;' >[hillary happened]</span>"
      ],
      "text/plain": [
       "<IPython.core.display.HTML object>"
      ]
     },
     "metadata": {},
     "output_type": "display_data"
    },
    {
     "name": "stdout",
     "output_type": "stream",
     "text": [
      "7 KWS: {'happened', 'idiot', 'named hillary', 'hillary', 'idiot named', 'named', 'hillary happened'}\n",
      "*********************************************\n",
      "475\n",
      "TABO words:  post nonsense\n",
      "22    Is there a reason you post nonsense?  Or are you truly so out of it that you believe what you are posting.\n"
     ]
    },
    {
     "data": {
      "text/html": [
       "Is there a <span style='color:red;' >[reason]</span> you <span style='color:red;' >[post nonsense]</span>?  Or are you truly so out of it that you believe what you are <span style='color:red;' >[posting]</span>."
      ],
      "text/plain": [
       "<IPython.core.display.HTML object>"
      ]
     },
     "metadata": {},
     "output_type": "display_data"
    },
    {
     "name": "stdout",
     "output_type": "stream",
     "text": [
      "5 KWS: {'reason', 'nonsense', 'post', 'posting', 'post nonsense'}\n",
      "*********************************************\n",
      "476\n",
      "TABO words:  moron idiot\n",
      "37    Liberal logic: November 9, 2016 -\"Comey cost us the election! He should be fired!\" May 9, 2017 \"Trump fired Comey to cover up Russia! What a baboon, moron, idiot...blah blah blah.\" Special kind of people you are.\n"
     ]
    },
    {
     "data": {
      "text/html": [
       "<span style='color:red;' >[liberal logic]</span>: <span style='color:red;' >[november]</span> 9, 2016 -\"<span style='color:red;' >[comey cost]</span> us the <span style='color:red;' >[election]</span>! He should be <span style='color:red;' >[fired]</span>!\" May 9, 2017 \"<span style='color:red;' >[trump fired]</span> <span style='color:red;' >[comey]</span> to <span style='color:red;' >[cover]</span> up <span style='color:red;' >[russia]</span>! What a <span style='color:red;' >[baboon]</span>, <span style='color:red;' >[moron]</span>, idiot...blah <span style='color:red;' >[blah]</span> <span style='color:red;' >[blah]</span>.\" <span style='color:red;' >[special]</span> kind of people you are."
      ],
      "text/plain": [
       "<IPython.core.display.HTML object>"
      ]
     },
     "metadata": {},
     "output_type": "display_data"
    },
    {
     "name": "stdout",
     "output_type": "stream",
     "text": [
      "20 KWS: {'cost', 'moron', 'idiot', 'comey cost', 'logic', 'blah', 'special', 'fired', 'election', 'baboon', 'fired comey', 'trump', 'cover', 'russia', 'trump fired', 'liberal logic', 'comey', 'november', 'blah blah', 'liberal'}\n",
      "*********************************************\n",
      "477\n",
      "TABO words:  F..ing bastards\n",
      "25    By disappearing you are F..ing your country how can we trust these bastards to be loyal to us? no more muslim terrorist in our country\n"
     ]
    },
    {
     "data": {
      "text/html": [
       "By <span style='color:red;' >[disappearing]</span> you are F..ing your <span style='color:red;' >[country]</span> how can we <span style='color:red;' >[trust]</span> these <span style='color:red;' >[bastards]</span> to be <span style='color:red;' >[loyal]</span> to us? no more <span style='color:red;' >[muslim terrorist]</span> in our <span style='color:red;' >[country]</span>"
      ],
      "text/plain": [
       "<IPython.core.display.HTML object>"
      ]
     },
     "metadata": {},
     "output_type": "display_data"
    },
    {
     "name": "stdout",
     "output_type": "stream",
     "text": [
      "9 KWS: {'country', 'disappearing', 'terrorist', 'trust', 'muslim terrorist', 'bastards', 'muslim', 'loyal', 'ing'}\n",
      "*********************************************\n",
      "478\n",
      "TABO words:  devil\n",
      "8    idk the devil makes some damn fine salad....\n"
     ]
    },
    {
     "data": {
      "text/html": [
       "<span style='color:red;' >[idk]</span> the <span style='color:red;' >[devil makes]</span> some <span style='color:red;' >[damn]</span> <span style='color:red;' >[fine salad]</span>...."
      ],
      "text/plain": [
       "<IPython.core.display.HTML object>"
      ]
     },
     "metadata": {},
     "output_type": "display_data"
    },
    {
     "name": "stdout",
     "output_type": "stream",
     "text": [
      "9 KWS: {'idk', 'devil makes', 'fine salad', 'makes', 'damn', 'damn fine', 'salad', 'fine', 'devil'}\n",
      "*********************************************\n",
      "479\n",
      "TABO words:  Dumb\n",
      "1    Dumb!\n"
     ]
    },
    {
     "data": {
      "text/html": [
       "<span style='color:red;' >[dumb]</span>!"
      ],
      "text/plain": [
       "<IPython.core.display.HTML object>"
      ]
     },
     "metadata": {},
     "output_type": "display_data"
    },
    {
     "name": "stdout",
     "output_type": "stream",
     "text": [
      "1 KWS: {'dumb'}\n",
      "*********************************************\n",
      "480\n",
      "TABO words:  flaming hypocrites\n",
      "71    It will be interesting to see how the right deals with (or doesn't) with O'Lielly. We've already seen that the LEFT is consistent in their values when it comes to Weinstein - they've condemned and cut ties to him, etc.\n",
      "\n",
      "\n",
      "How much time do you think the right will spend on O'Lielly's predation? Even 1/10th the time they spent on Weinstein? Or will they, once again, be flaming hypocrites on this?\n"
     ]
    },
    {
     "data": {
      "text/html": [
       "It will be <span style='color:red;' >[interesting]</span> to see how the right <span style='color:red;' >[deals]</span> with (or doesn't) with <span style='color:red;' >[o'lielly]</span>. We've already seen that the <span style='color:red;' >[left]</span> is <span style='color:red;' >[consistent]</span> in their values when it comes to <span style='color:red;' >[weinstein]</span> - they've <span style='color:red;' >[condemned]</span> and <span style='color:red;' >[cut ties]</span> to him, etc.   How much <span style='color:red;' >[time]</span> do you think the right will <span style='color:red;' >[spend]</span> on O'Lielly's <span style='color:red;' >[predation]</span>? Even 1/10th the <span style='color:red;' >[time]</span> they <span style='color:red;' >[spent]</span> on <span style='color:red;' >[weinstein]</span>? Or will they, once again, be <span style='color:red;' >[flaming]</span> <span style='color:red;' >[hypocrites]</span> on this?"
      ],
      "text/plain": [
       "<IPython.core.display.HTML object>"
      ]
     },
     "metadata": {},
     "output_type": "display_data"
    },
    {
     "name": "stdout",
     "output_type": "stream",
     "text": [
      "17 KWS: {'left', 'spend', 'condemned', 'flaming', 'consistent', 'ties', 'flaming hypocrites', 'spent', 'cut', 'weinstein', 'deals', \"o'lielly\", 'predation', 'cut ties', 'hypocrites', 'time', 'interesting'}\n",
      "*********************************************\n",
      "481\n",
      "TABO words:  idiots\n",
      "11    Dion one of the four idiots overseeing the destruction of Canada\n"
     ]
    },
    {
     "data": {
      "text/html": [
       "<span style='color:red;' >[dion]</span> one of the four <span style='color:red;' >[idiots overseeing]</span> the <span style='color:red;' >[destruction]</span> of <span style='color:red;' >[canada]</span>"
      ],
      "text/plain": [
       "<IPython.core.display.HTML object>"
      ]
     },
     "metadata": {},
     "output_type": "display_data"
    },
    {
     "name": "stdout",
     "output_type": "stream",
     "text": [
      "6 KWS: {'idiots overseeing', 'dion', 'idiots', 'destruction', 'overseeing', 'canada'}\n",
      "*********************************************\n",
      "482\n",
      "TABO words:  Lame and stupid\n",
      "6    Lame and stupid attempt at humor.\n"
     ]
    },
    {
     "data": {
      "text/html": [
       "<span style='color:red;' >[lame]</span> and <span style='color:red;' >[stupid attempt]</span> at <span style='color:red;' >[humor]</span>."
      ],
      "text/plain": [
       "<IPython.core.display.HTML object>"
      ]
     },
     "metadata": {},
     "output_type": "display_data"
    },
    {
     "name": "stdout",
     "output_type": "stream",
     "text": [
      "5 KWS: {'humor', 'stupid attempt', 'attempt', 'lame', 'stupid'}\n",
      "*********************************************\n",
      "483\n",
      "TABO words:  Your a disgrace\n",
      "9    They need to vote you out!!!! Your a disgrace.\n"
     ]
    },
    {
     "data": {
      "text/html": [
       "They need to <span style='color:red;' >[vote]</span> you out!!!! Your a <span style='color:red;' >[disgrace]</span>."
      ],
      "text/plain": [
       "<IPython.core.display.HTML object>"
      ]
     },
     "metadata": {},
     "output_type": "display_data"
    },
    {
     "name": "stdout",
     "output_type": "stream",
     "text": [
      "2 KWS: {'vote', 'disgrace'}\n",
      "*********************************************\n",
      "484\n",
      "TABO words:  VACUOUS BUFFOON asn't sur morons buffoons\n",
      "126    We have people who use the handle \"TRUMP IS SIMPLY A VACUOUS BUFFOON And a petty con man. And a traitor\", and THIS is considered acceptable and meeting the \"civility\" standard but the following is not????\n",
      "\n",
      "\"This is another Trump game ... sort of like tweeting \"COFEFE\". He was playing with Comey so that Comey wasn't sure how far he could carry any lies. Trump has probably been enjoying watching the liberal media twisting themselves in knots over yet another innocent comment (he never said any tapes were made, only that Comey better hope there weren't any)!! Good on ya' Mr. President ... keep playing with these liberal media morons until the world finally sees the buffoons they are!!!\"\n",
      "\n",
      "Really??????????\n",
      "\n",
      "The \"civility\" standards are a joke!!!!\n"
     ]
    },
    {
     "data": {
      "text/html": [
       "We have <span style='color:red;' >[people]</span> who use the <span style='color:red;' >[handle]</span> \"<span style='color:red;' >[trump]</span> IS <span style='color:red;' >[simply]</span> A <span style='color:red;' >[vacuous buffoon]</span> And a <span style='color:red;' >[petty]</span> <span style='color:red;' >[con man]</span>. And a traitor\", and THIS is <span style='color:red;' >[considered acceptable]</span> and meeting the \"<span style='color:red;' >[civility]</span>\" standard but the following is not????  \"This is another <span style='color:red;' >[trump]</span> game ... sort of like tweeting \"<span style='color:red;' >[cofefe]</span>\". He was <span style='color:red;' >[playing]</span> with <span style='color:red;' >[comey]</span> so that <span style='color:red;' >[comey]</span> wasn't sure how far he could carry any lies. <span style='color:red;' >[trump]</span> has probably been enjoying watching the <span style='color:red;' >[liberal media]</span> twisting themselves in knots over yet another innocent comment (he never said any tapes were made, only that <span style='color:red;' >[comey]</span> better hope there weren't any)!! Good on ya' Mr. President ... keep <span style='color:red;' >[playing]</span> with these <span style='color:red;' >[liberal media]</span> morons until the world finally sees the buffoons they are!!!\"  Really??????????  The \"<span style='color:red;' >[civility]</span>\" standards are a joke!!!!"
      ],
      "text/plain": [
       "<IPython.core.display.HTML object>"
      ]
     },
     "metadata": {},
     "output_type": "display_data"
    },
    {
     "name": "stdout",
     "output_type": "stream",
     "text": [
      "20 KWS: {'cofefe', 'trump game', 'man', 'con', 'con man', 'trump', 'media', 'petty con', 'vacuous buffoon', 'handle', 'simply', 'vacuous', 'civility', 'petty', 'people', 'considered acceptable', 'comey', 'playing', 'liberal', 'liberal media'}\n",
      "*********************************************\n",
      "485\n",
      "TABO words:  Stupid is as stupid does\n",
      "133    Thank you FBI, President Obama and others for your caution and sense of fair play; however, what good does it do us to do nothing until we obtain evidence worthy of impressing a judge or jury in a United States court of law where you will never find the Russian Government standing trial?  The Russians don't play by our domestic rules of law.   I suppose you would have given Messrs. Hitler and Tojo the same consideration until a foreign Army was standing our our shores proving beyond a reasonable doubt to you that there was indeed   \"foreign intervention in the internal affairs of the United States\". There is a reason to listen carefully to an agency that operates in  the world beyond Pennsylvania Avenue.   To quote Forest Gump: \"Stupid is as stupid does.\"\n"
     ]
    },
    {
     "data": {
      "text/html": [
       "Thank you <span style='color:red;' >[fbi]</span>, <span style='color:red;' >[president obama]</span> and others for your caution and sense of <span style='color:red;' >[fair play]</span>; however, what good does it do us to do nothing until we <span style='color:red;' >[obtain evidence]</span> worthy of impressing a judge or jury in a <span style='color:red;' >[united states]</span> court of <span style='color:red;' >[law]</span> where you will never find the <span style='color:red;' >[russian government]</span> <span style='color:red;' >[standing trial]</span>?  The <span style='color:red;' >[russians]</span> don't play by our domestic rules of <span style='color:red;' >[law]</span>.   I suppose you would have given Messrs. Hitler and Tojo the same consideration until a foreign Army was standing our our shores proving beyond a reasonable doubt to you that there was indeed   \"foreign intervention in the internal affairs of the <span style='color:red;' >[united states]</span>\". There is a reason to listen carefully to an agency that operates in  the world beyond <span style='color:red;' >[pennsylvania avenue]</span>.   To quote Forest Gump: \"Stupid is as stupid does.\""
      ],
      "text/plain": [
       "<IPython.core.display.HTML object>"
      ]
     },
     "metadata": {},
     "output_type": "display_data"
    },
    {
     "name": "stdout",
     "output_type": "stream",
     "text": [
      "20 KWS: {'russian government', 'government standing', 'obama', 'government', 'trial', 'fair play', 'fbi', 'law', 'russians', 'russian', 'pennsylvania avenue', 'standing trial', 'obtain evidence', 'president', 'united states', 'united', 'states', 'president obama', 'states court', 'evidence worthy'}\n",
      "*********************************************\n",
      "486\n",
      "TABO words:  idiotic\n",
      "19    What an idiotic post. I suppose Doctors and nurses are paid with puppy dogs and unicorns, not taxpayer money.\n"
     ]
    },
    {
     "data": {
      "text/html": [
       "What an <span style='color:red;' >[idiotic post]</span>. I <span style='color:red;' >[suppose doctors]</span> and <span style='color:red;' >[nurses]</span> are <span style='color:red;' >[paid]</span> with <span style='color:red;' >[puppy dogs]</span> and <span style='color:red;' >[unicorns]</span>, not <span style='color:red;' >[taxpayer money]</span>."
      ],
      "text/plain": [
       "<IPython.core.display.HTML object>"
      ]
     },
     "metadata": {},
     "output_type": "display_data"
    },
    {
     "name": "stdout",
     "output_type": "stream",
     "text": [
      "15 KWS: {'taxpayer', 'nurses', 'taxpayer money', 'dogs', 'money', 'idiotic', 'suppose', 'idiotic post', 'suppose doctors', 'post', 'puppy dogs', 'unicorns', 'paid', 'puppy', 'doctors'}\n",
      "*********************************************\n",
      "487\n",
      "TABO words:  stupid stupid\n",
      "17    You know the opposite of something stupid is something equally stupid and you're demonstrating that right now.\n"
     ]
    },
    {
     "data": {
      "text/html": [
       "You know the <span style='color:red;' >[opposite]</span> of something <span style='color:red;' >[stupid]</span> is something <span style='color:red;' >[equally stupid]</span> and you're <span style='color:red;' >[demonstrating]</span> that right now."
      ],
      "text/plain": [
       "<IPython.core.display.HTML object>"
      ]
     },
     "metadata": {},
     "output_type": "display_data"
    },
    {
     "name": "stdout",
     "output_type": "stream",
     "text": [
      "5 KWS: {'equally', 'equally stupid', 'opposite', 'demonstrating', 'stupid'}\n",
      "*********************************************\n",
      "488\n",
      "TABO words:  The NIGER RACE was ONCE USED as LABOR but the WHITE SCUM ELEVATED the NIGER to HUMAN LEVEL---\n",
      "TIME to RETURN the NIGER RACE BACK to the GHETTO in HELL\n",
      "PROGRESSIVE NIGER LOVERS GET IT FIRST\n",
      "36    The NIGER RACE was ONCE USED as LABOR but the WHITE SCUM ELEVATED the NIGER to HUMAN LEVEL---\n",
      "TIME to RETURN the NIGER RACE BACK to the GHETTO in HELL\n",
      "PROGRESSIVE NIGER LOVERS GET IT FIRST---\n"
     ]
    },
    {
     "data": {
      "text/html": [
       "The <span style='color:red;' >[niger race]</span> was ONCE USED as <span style='color:red;' >[labor]</span> but the <span style='color:red;' >[white scum]</span> <span style='color:red;' >[elevated]</span> the <span style='color:red;' >[niger]</span> to <span style='color:red;' >[human]</span> LEVEL--- <span style='color:red;' >[time]</span> to <span style='color:red;' >[return]</span> the <span style='color:red;' >[niger race]</span> <span style='color:red;' >[back]</span> to the <span style='color:red;' >[ghetto]</span> in <span style='color:red;' >[hell]</span> PROGRESSIVE <span style='color:red;' >[niger]</span> LOVERS GET IT FIRST---"
      ],
      "text/plain": [
       "<IPython.core.display.HTML object>"
      ]
     },
     "metadata": {},
     "output_type": "display_data"
    },
    {
     "name": "stdout",
     "output_type": "stream",
     "text": [
      "20 KWS: {'progressive niger', 'niger', 'level', 'white scum', 'niger race', 'human', 'elevated', 'race', 'human level', 'scum elevated', 'labor', 'niger lovers', 'race back', 'white', 'return', 'hell', 'ghetto', 'back', 'time', 'scum'}\n",
      "*********************************************\n",
      "489\n",
      "TABO words:  silly\n",
      "15    backwards culture now they have a backwards leader. good for them! shoot each other silly\n"
     ]
    },
    {
     "data": {
      "text/html": [
       "<span style='color:red;' >[backwards culture]</span> now they have a <span style='color:red;' >[backwards leader]</span>. <span style='color:red;' >[good]</span> for them! <span style='color:red;' >[shoot]</span> each other <span style='color:red;' >[silly]</span>"
      ],
      "text/plain": [
       "<IPython.core.display.HTML object>"
      ]
     },
     "metadata": {},
     "output_type": "display_data"
    },
    {
     "name": "stdout",
     "output_type": "stream",
     "text": [
      "8 KWS: {'backwards', 'leader', 'backwards leader', 'silly', 'shoot', 'backwards culture', 'culture', 'good'}\n",
      "*********************************************\n",
      "490\n",
      "TABO words:  AirMiles used to be good, but now it pretty much sucks anyway\n",
      "12    AirMiles used to be good, but now it pretty much sucks anyway.\n"
     ]
    },
    {
     "data": {
      "text/html": [
       "<span style='color:red;' >[airmiles]</span> used to be <span style='color:red;' >[good]</span>, but now it <span style='color:red;' >[pretty]</span> much <span style='color:red;' >[sucks]</span> anyway."
      ],
      "text/plain": [
       "<IPython.core.display.HTML object>"
      ]
     },
     "metadata": {},
     "output_type": "display_data"
    },
    {
     "name": "stdout",
     "output_type": "stream",
     "text": [
      "4 KWS: {'airmiles', 'sucks', 'pretty', 'good'}\n",
      "*********************************************\n",
      "491\n",
      "TABO words:  ignorant\n",
      "128    Wow! You are one venom-filled zealot.\n",
      "\n",
      "Let me just ask one very simple question: Have you ever met Ron and had a conversation with him and his wife, Janet?\n",
      "\n",
      "If you had any integrity, you would own your comments attacking a very decent, modest individual, by posting under your real name.\n",
      "\n",
      "But you are sick with your irrational fanaticism and afraid to come out of your \"spider hole.\" You've made clear from past posts that you haven't the foggiest idea of the actual facts regarding the community or the radical zone change. But you have some weird delusion that you know best about what's good for society, and yet you are pathetically ignorant and without any evidence of empathy or human compassion.\n",
      "\n",
      "Please, get some counseling.\n",
      "\n",
      "-- Paul\n"
     ]
    },
    {
     "data": {
      "text/html": [
       "<span style='color:red;' >[wow]</span>! You are one <span style='color:red;' >[venom-filled zealot]</span>.  Let me just ask one very <span style='color:red;' >[simple question]</span>: Have you ever <span style='color:red;' >[met ron]</span> and had a conversation with him and his wife, <span style='color:red;' >[janet]</span>?  If you had any integrity, you would own your <span style='color:red;' >[comments attacking]</span> a very decent, <span style='color:red;' >[modest individual]</span>, by posting under your real name.  But you are sick with your <span style='color:red;' >[irrational fanaticism]</span> and afraid to come out of your \"<span style='color:red;' >[spider hole]</span>.\" You've <span style='color:red;' >[made clear]</span> from <span style='color:red;' >[past posts]</span> that you haven't the <span style='color:red;' >[foggiest idea]</span> of the <span style='color:red;' >[actual facts]</span> regarding the community or the radical <span style='color:red;' >[zone change]</span>. But you have some weird delusion that you know best about what's good for society, and yet you are pathetically ignorant and without any evidence of empathy or <span style='color:red;' >[human compassion]</span>.  Please, get some counseling.  -- <span style='color:red;' >[paul]</span>"
      ],
      "text/plain": [
       "<IPython.core.display.HTML object>"
      ]
     },
     "metadata": {},
     "output_type": "display_data"
    },
    {
     "name": "stdout",
     "output_type": "stream",
     "text": [
      "20 KWS: {'met ron', 'paul', 'venom-filled zealot', 'modest individual', 'spider hole', 'human compassion', 'made clear', 'radical zone', 'actual facts', 'simple question', 'wow', 'comments attacking', 'zone change', 'foggiest idea', 'janet', 'zealot', 'ron', 'irrational fanaticism', 'venom-filled', 'past posts'}\n",
      "*********************************************\n",
      "492\n",
      "TABO words:  idiot\n",
      "6    In reality Wyatt is an idiot.\n"
     ]
    },
    {
     "data": {
      "text/html": [
       "In <span style='color:red;' >[reality wyatt]</span> is an <span style='color:red;' >[idiot]</span>."
      ],
      "text/plain": [
       "<IPython.core.display.HTML object>"
      ]
     },
     "metadata": {},
     "output_type": "display_data"
    },
    {
     "name": "stdout",
     "output_type": "stream",
     "text": [
      "4 KWS: {'idiot', 'wyatt', 'reality wyatt', 'reality'}\n",
      "*********************************************\n",
      "493\n",
      "TABO words:  fools\n",
      "2    Rkightous fools\n"
     ]
    },
    {
     "data": {
      "text/html": [
       "<span style='color:red;' >[rkightous fools]</span>"
      ],
      "text/plain": [
       "<IPython.core.display.HTML object>"
      ]
     },
     "metadata": {},
     "output_type": "display_data"
    },
    {
     "name": "stdout",
     "output_type": "stream",
     "text": [
      "3 KWS: {'fools', 'rkightous fools', 'rkightous'}\n",
      "*********************************************\n",
      "494\n",
      "TABO words:  coward\n",
      "13    Another coward in Alaska Be real put your name where your mouth is.\n"
     ]
    },
    {
     "data": {
      "text/html": [
       "Another <span style='color:red;' >[coward]</span> in <span style='color:red;' >[alaska]</span> Be <span style='color:red;' >[real put]</span> your name where your <span style='color:red;' >[mouth]</span> is."
      ],
      "text/plain": [
       "<IPython.core.display.HTML object>"
      ]
     },
     "metadata": {},
     "output_type": "display_data"
    },
    {
     "name": "stdout",
     "output_type": "stream",
     "text": [
      "6 KWS: {'real put', 'coward', 'alaska', 'mouth', 'real', 'put'}\n",
      "*********************************************\n",
      "495\n",
      "TABO words:  idiot\n",
      "17    Heck, I remember when you couldn't leave your horse tied up outside without some idiot stealing it.\n"
     ]
    },
    {
     "data": {
      "text/html": [
       "<span style='color:red;' >[heck]</span>, I <span style='color:red;' >[remember]</span> when you couldn't <span style='color:red;' >[leave]</span> your <span style='color:red;' >[horse tied]</span> up outside without some <span style='color:red;' >[idiot stealing]</span> it."
      ],
      "text/plain": [
       "<IPython.core.display.HTML object>"
      ]
     },
     "metadata": {},
     "output_type": "display_data"
    },
    {
     "name": "stdout",
     "output_type": "stream",
     "text": [
      "9 KWS: {'idiot', 'stealing', 'tied', 'heck', 'horse tied', 'idiot stealing', 'horse', 'remember', 'leave'}\n",
      "*********************************************\n",
      "496\n",
      "TABO words:  idiots morons\n",
      "49    The grainy photos they release to the public are not the ones They use to find these idiots. Those photos that you see are not for your assistance. They have clear pictures and use that to confuse not only you but the morons who are in the \"grainy\" picture.\n"
     ]
    },
    {
     "data": {
      "text/html": [
       "The <span style='color:red;' >[grainy photos]</span> they <span style='color:red;' >[release]</span> to the <span style='color:red;' >[public]</span> are not the ones They use to <span style='color:red;' >[find]</span> these <span style='color:red;' >[idiots]</span>. Those <span style='color:red;' >[photos]</span> that you see are not for your <span style='color:red;' >[assistance]</span>. They have <span style='color:red;' >[clear pictures]</span> and use that to <span style='color:red;' >[confuse]</span> not only you but the <span style='color:red;' >[morons]</span> who are in the \"<span style='color:red;' >[grainy]</span>\" <span style='color:red;' >[picture]</span>."
      ],
      "text/plain": [
       "<IPython.core.display.HTML object>"
      ]
     },
     "metadata": {},
     "output_type": "display_data"
    },
    {
     "name": "stdout",
     "output_type": "stream",
     "text": [
      "14 KWS: {'grainy', 'assistance', 'photos', 'picture', 'clear', 'morons', 'find', 'confuse', 'idiots', 'public', 'release', 'grainy photos', 'clear pictures', 'pictures'}\n",
      "*********************************************\n",
      "497\n",
      "TABO words:  balls\n",
      "14    Isn't it a shame we lack the balls to do the same thing here?\n"
     ]
    },
    {
     "data": {
      "text/html": [
       "Isn't it a <span style='color:red;' >[shame]</span> we <span style='color:red;' >[lack]</span> the <span style='color:red;' >[balls]</span> to do the same <span style='color:red;' >[thing]</span> here?"
      ],
      "text/plain": [
       "<IPython.core.display.HTML object>"
      ]
     },
     "metadata": {},
     "output_type": "display_data"
    },
    {
     "name": "stdout",
     "output_type": "stream",
     "text": [
      "4 KWS: {'lack', 'balls', 'shame', 'thing'}\n",
      "*********************************************\n",
      "498\n",
      "TABO words:  stupid\n",
      "37    Only the terminally stupid could believe Assad is a benevolent dictator who has not purposefully gassed his own people in the past and therefore would not hesitate to do it again no matter the timing or circumstance.\n"
     ]
    },
    {
     "data": {
      "text/html": [
       "Only the <span style='color:red;' >[terminally stupid]</span> could believe <span style='color:red;' >[assad]</span> is a <span style='color:red;' >[benevolent dictator]</span> who has not <span style='color:red;' >[purposefully gassed]</span> his own <span style='color:red;' >[people]</span> in the <span style='color:red;' >[past]</span> and therefore would not <span style='color:red;' >[hesitate]</span> to do it again no <span style='color:red;' >[matter]</span> the <span style='color:red;' >[timing]</span> or <span style='color:red;' >[circumstance]</span>."
      ],
      "text/plain": [
       "<IPython.core.display.HTML object>"
      ]
     },
     "metadata": {},
     "output_type": "display_data"
    },
    {
     "name": "stdout",
     "output_type": "stream",
     "text": [
      "16 KWS: {'purposefully gassed', 'terminally stupid', 'matter', 'benevolent dictator', 'timing', 'assad', 'benevolent', 'past', 'dictator', 'gassed', 'people', 'stupid', 'hesitate', 'purposefully', 'terminally', 'circumstance'}\n",
      "*********************************************\n",
      "499\n",
      "TABO words:  moron\n",
      "29    Your a moron. Those laws are for burying caskets not an urn. You can bury that anywhere on your property. I swear commonsense escapes so many people these days\n"
     ]
    },
    {
     "data": {
      "text/html": [
       "Your a <span style='color:red;' >[moron]</span>. Those <span style='color:red;' >[laws]</span> are for <span style='color:red;' >[burying caskets]</span> not an <span style='color:red;' >[urn]</span>. You can <span style='color:red;' >[bury]</span> that anywhere on your <span style='color:red;' >[property]</span>. I <span style='color:red;' >[swear]</span> <span style='color:red;' >[commonsense]</span> <span style='color:red;' >[escapes]</span> so many <span style='color:red;' >[people]</span> these <span style='color:red;' >[days]</span>"
      ],
      "text/plain": [
       "<IPython.core.display.HTML object>"
      ]
     },
     "metadata": {},
     "output_type": "display_data"
    },
    {
     "name": "stdout",
     "output_type": "stream",
     "text": [
      "15 KWS: {'bury', 'burying caskets', 'moron', 'burying', 'days', 'urn', 'commonsense', 'commonsense escapes', 'swear', 'laws', 'swear commonsense', 'escapes', 'property', 'people', 'caskets'}\n",
      "*********************************************\n",
      "500\n",
      "TABO words:  idiotic\n",
      "118    re: Everyone who owns a house has benefited from idiotic rises in housing prices.\n",
      "\n",
      "No, only people who have sold (and not re-bought, or re-bought, but in a cheaper geographical market than they sold) have benefitted. People that think they benefitted, by taking out equity to reno or do other things with, but have not sold, or have sold and \"upgraded\" will not have benefitted as a portion of their \"equity\" will disappear over the next couple of years with rate increases and probably will not return for a very long time (decade or so). Everybody else who just live in their homes and didn't borrow anything against them as they skyrocketed in value, how have they benefitted?\n"
     ]
    },
    {
     "data": {
      "text/html": [
       "re: Everyone who owns a <span style='color:red;' >[house]</span> has <span style='color:red;' >[benefited]</span> from <span style='color:red;' >[idiotic rises]</span> in <span style='color:red;' >[housing prices]</span>.  No, only <span style='color:red;' >[people]</span> who have <span style='color:red;' >[sold]</span> (and not <span style='color:red;' >[re-bought]</span>, or <span style='color:red;' >[re-bought]</span>, but in a <span style='color:red;' >[cheaper geographical]</span> market than they <span style='color:red;' >[sold]</span>) have <span style='color:red;' >[benefitted]</span>. <span style='color:red;' >[people]</span> that think they <span style='color:red;' >[benefitted]</span>, by taking out <span style='color:red;' >[equity]</span> to reno or do other things with, but have not <span style='color:red;' >[sold]</span>, or have <span style='color:red;' >[sold]</span> and \"<span style='color:red;' >[upgraded]</span>\" will not have <span style='color:red;' >[benefitted]</span> as a portion of their \"<span style='color:red;' >[equity]</span>\" will disappear over the next couple of years with <span style='color:red;' >[rate increases]</span> and probably will not return for a very <span style='color:red;' >[long time]</span> (decade or so). Everybody else who just live in their homes and didn't borrow anything against them as they skyrocketed in value, how have they <span style='color:red;' >[benefitted]</span>?"
      ],
      "text/plain": [
       "<IPython.core.display.HTML object>"
      ]
     },
     "metadata": {},
     "output_type": "display_data"
    },
    {
     "name": "stdout",
     "output_type": "stream",
     "text": [
      "20 KWS: {'rate increases', 'housing', 're-bought', 'cheaper geographical', 'idiotic', 'geographical market', 'long time', 'cheaper', 'housing prices', 'house', 'benefited', 'rises', 'idiotic rises', 'benefitted', 'equity', 'people', 'prices', 'geographical', 'sold', 'upgraded'}\n",
      "*********************************************\n",
      "501\n",
      "TABO words:  horseshit\n",
      "24    What the fuck is with this 'civil comments' horseshit? We don't have ENOUGH censorship from these communist fuckwits at ADN?!!\n",
      "\n",
      "ADN CAN FUCKING CHOKE.\n"
     ]
    },
    {
     "data": {
      "text/html": [
       "What the <span style='color:red;' >[fuck]</span> is with this <span style='color:red;' >[civil comments']</span> <span style='color:red;' >[horseshit]</span>? We don't have ENOUGH <span style='color:red;' >[censorship]</span> from these <span style='color:red;' >[communist fuckwits]</span> at <span style='color:red;' >[adn]</span>?!!  <span style='color:red;' >[adn]</span> CAN <span style='color:red;' >[fucking choke]</span>."
      ],
      "text/plain": [
       "<IPython.core.display.HTML object>"
      ]
     },
     "metadata": {},
     "output_type": "display_data"
    },
    {
     "name": "stdout",
     "output_type": "stream",
     "text": [
      "14 KWS: {'fuck', 'censorship', 'horseshit', \"comments'\", 'fuckwits', 'choke', 'communist', 'civil', 'fucking choke', 'communist fuckwits', 'fucking', 'adn', \"comments' horseshit\", \"civil comments'\"}\n",
      "*********************************************\n",
      "502\n",
      "TABO words:  idiot\n",
      "12    The idiot should be fired..... I personally would not tolerate his behavior......\n"
     ]
    },
    {
     "data": {
      "text/html": [
       "The <span style='color:red;' >[idiot]</span> should be <span style='color:red;' >[fired]</span>..... I <span style='color:red;' >[personally]</span> would not <span style='color:red;' >[tolerate]</span> his <span style='color:red;' >[behavior]</span>......"
      ],
      "text/plain": [
       "<IPython.core.display.HTML object>"
      ]
     },
     "metadata": {},
     "output_type": "display_data"
    },
    {
     "name": "stdout",
     "output_type": "stream",
     "text": [
      "5 KWS: {'idiot', 'fired', 'tolerate', 'personally', 'behavior'}\n",
      "*********************************************\n",
      "503\n",
      "TABO words:  idiot\n",
      "10    Trudeau is a complete idiot just like his old man.\n"
     ]
    },
    {
     "data": {
      "text/html": [
       "<span style='color:red;' >[trudeau]</span> is a <span style='color:red;' >[complete idiot]</span> just like his old <span style='color:red;' >[man]</span>."
      ],
      "text/plain": [
       "<IPython.core.display.HTML object>"
      ]
     },
     "metadata": {},
     "output_type": "display_data"
    },
    {
     "name": "stdout",
     "output_type": "stream",
     "text": [
      "5 KWS: {'idiot', 'man', 'complete', 'trudeau', 'complete idiot'}\n",
      "*********************************************\n",
      "504\n",
      "TABO words:  chumps\n",
      "16    Bunch of entitled whiners and beggars...but once again, our inherent politeness makes us doormats and chumps.\n"
     ]
    },
    {
     "data": {
      "text/html": [
       "<span style='color:red;' >[bunch]</span> of <span style='color:red;' >[entitled whiners]</span> and beggars...but once again, our <span style='color:red;' >[inherent politeness]</span> <span style='color:red;' >[makes]</span> us <span style='color:red;' >[doormats]</span> and <span style='color:red;' >[chumps]</span>."
      ],
      "text/plain": [
       "<IPython.core.display.HTML object>"
      ]
     },
     "metadata": {},
     "output_type": "display_data"
    },
    {
     "name": "stdout",
     "output_type": "stream",
     "text": [
      "12 KWS: {'entitled whiners', 'beggars', 'whiners', 'politeness', 'makes', 'doormats', 'inherent politeness', 'chumps', 'bunch', 'inherent', 'entitled', 'politeness makes'}\n",
      "*********************************************\n",
      "505\n",
      "TABO words:  dumb\n",
      "29    Pence managed the transition.\n",
      "There is no way that he could have avoided knowing everything about Flynn's activities.\n",
      "He plays a good 'dumb' with those droopy, puppy-dog, poor-me eyebrows.\n"
     ]
    },
    {
     "data": {
      "text/html": [
       "<span style='color:red;' >[pence managed]</span> the <span style='color:red;' >[transition]</span>. There is no way that he could have <span style='color:red;' >[avoided knowing]</span> everything about Flynn's <span style='color:red;' >[activities]</span>. He <span style='color:red;' >[plays]</span> a <span style='color:red;' >[good]</span> 'dumb' with those <span style='color:red;' >[droopy]</span>, <span style='color:red;' >[puppy-dog]</span>, <span style='color:red;' >[poor-me eyebrows]</span>."
      ],
      "text/plain": [
       "<IPython.core.display.HTML object>"
      ]
     },
     "metadata": {},
     "output_type": "display_data"
    },
    {
     "name": "stdout",
     "output_type": "stream",
     "text": [
      "18 KWS: {'knowing', 'avoided knowing', 'pence', 'activities', 'managed', 'puppy-dog', 'poor-me', 'flynn', 'avoided', 'plays', 'poor-me eyebrows', 'droopy', 'good', 'transition', 'eyebrows', 'pence managed', 'flynn activities', 'dumb'}\n",
      "*********************************************\n",
      "506\n",
      "TABO words:  stupidity\n",
      "25    Good: perhaps Dunleavy should be expelled from the Senate for religious intolerance and stupidity in general: the little man is dangerous to himself and others!\n"
     ]
    },
    {
     "data": {
      "text/html": [
       "<span style='color:red;' >[good]</span>: perhaps <span style='color:red;' >[dunleavy]</span> should be <span style='color:red;' >[expelled]</span> from the <span style='color:red;' >[senate]</span> for <span style='color:red;' >[religious intolerance]</span> and <span style='color:red;' >[stupidity]</span> in <span style='color:red;' >[general]</span>: the little <span style='color:red;' >[man]</span> is <span style='color:red;' >[dangerous]</span> to himself and others!"
      ],
      "text/plain": [
       "<IPython.core.display.HTML object>"
      ]
     },
     "metadata": {},
     "output_type": "display_data"
    },
    {
     "name": "stdout",
     "output_type": "stream",
     "text": [
      "11 KWS: {'dangerous', 'expelled', 'man', 'religious intolerance', 'dunleavy', 'general', 'senate', 'good', 'religious', 'intolerance', 'stupidity'}\n",
      "*********************************************\n",
      "507\n",
      "TABO words:  I am glad this low life will rot in prison\n",
      "10    I am glad this low life will rot in prison\n"
     ]
    },
    {
     "data": {
      "text/html": [
       "I am <span style='color:red;' >[glad]</span> this <span style='color:red;' >[low life]</span> will <span style='color:red;' >[rot]</span> in <span style='color:red;' >[prison]</span>"
      ],
      "text/plain": [
       "<IPython.core.display.HTML object>"
      ]
     },
     "metadata": {},
     "output_type": "display_data"
    },
    {
     "name": "stdout",
     "output_type": "stream",
     "text": [
      "6 KWS: {'rot', 'life', 'prison', 'glad', 'low life', 'low'}\n",
      "*********************************************\n",
      "508\n",
      "TABO words:  Crazy\n",
      "20    Crazy goes all the way to the bone, Bussell.  Better get your meds checked.  Classy President Obama thanks you too.\n"
     ]
    },
    {
     "data": {
      "text/html": [
       "<span style='color:red;' >[crazy]</span> goes all the way to the <span style='color:red;' >[bone]</span>, <span style='color:red;' >[bussell]</span>.  Better get your <span style='color:red;' >[meds checked]</span>.  <span style='color:red;' >[classy]</span> <span style='color:red;' >[president obama]</span> thanks you too."
      ],
      "text/plain": [
       "<IPython.core.display.HTML object>"
      ]
     },
     "metadata": {},
     "output_type": "display_data"
    },
    {
     "name": "stdout",
     "output_type": "stream",
     "text": [
      "11 KWS: {'classy', 'checked', 'classy president', 'bussell', 'bone', 'meds', 'meds checked', 'president', 'president obama', 'crazy', 'obama'}\n",
      "*********************************************\n",
      "509\n",
      "TABO words:  Fool but\n",
      "19    Fools and their money are easily parted; but fools with other people's money are even easier to be parted!\n"
     ]
    },
    {
     "data": {
      "text/html": [
       "<span style='color:red;' >[fools]</span> and their <span style='color:red;' >[money]</span> are <span style='color:red;' >[easily parted]</span>; but <span style='color:red;' >[fools]</span> with other people's <span style='color:red;' >[money]</span> are even <span style='color:red;' >[easier]</span> to be <span style='color:red;' >[parted]</span>!"
      ],
      "text/plain": [
       "<IPython.core.display.HTML object>"
      ]
     },
     "metadata": {},
     "output_type": "display_data"
    },
    {
     "name": "stdout",
     "output_type": "stream",
     "text": [
      "8 KWS: {'parted', 'easily', 'easier', 'people money', 'money', 'fools', 'people', 'easily parted'}\n",
      "*********************************************\n",
      "510\n",
      "TABO words:  F * * K\n",
      "24    They ought to FIRE non attenders. Sends the message that they don't give a flying F * * K about the People of HNL!\n"
     ]
    },
    {
     "data": {
      "text/html": [
       "They ought to <span style='color:red;' >[fire]</span> non <span style='color:red;' >[attenders]</span>. <span style='color:red;' >[sends]</span> the <span style='color:red;' >[message]</span> that they don't <span style='color:red;' >[give]</span> a <span style='color:red;' >[flying]</span> F * * K about the <span style='color:red;' >[people]</span> of <span style='color:red;' >[hnl]</span>!"
      ],
      "text/plain": [
       "<IPython.core.display.HTML object>"
      ]
     },
     "metadata": {},
     "output_type": "display_data"
    },
    {
     "name": "stdout",
     "output_type": "stream",
     "text": [
      "8 KWS: {'sends', 'hnl', 'flying', 'message', 'fire', 'attenders', 'people', 'give'}\n",
      "*********************************************\n",
      "511\n",
      "TABO words:  garbage\n",
      "24    This is utterly useless garbage.  What is the 'emerging market'?  Which one?  All of them?  Some of them?  Rosenberg is a fat overrated ....\n"
     ]
    },
    {
     "data": {
      "text/html": [
       "This is <span style='color:red;' >[utterly]</span> <span style='color:red;' >[useless garbage]</span>.  What is the <span style='color:red;' >[emerging market]</span>'?  Which one?  All of them?  Some of them?  <span style='color:red;' >[rosenberg]</span> is a <span style='color:red;' >[fat overrated]</span> ...."
      ],
      "text/plain": [
       "<IPython.core.display.HTML object>"
      ]
     },
     "metadata": {},
     "output_type": "display_data"
    },
    {
     "name": "stdout",
     "output_type": "stream",
     "text": [
      "12 KWS: {'emerging market', 'utterly useless', 'fat', 'fat overrated', 'garbage', 'useless garbage', 'rosenberg', 'overrated', 'emerging', 'useless', 'utterly', 'market'}\n",
      "*********************************************\n",
      "512\n",
      "TABO words:  imbecile Nazi sympathizer\n",
      "12    Trump is a complete imbecile.  Plus a Nazi sympathizer.  There's that too.\n"
     ]
    },
    {
     "data": {
      "text/html": [
       "<span style='color:red;' >[trump]</span> is a <span style='color:red;' >[complete imbecile]</span>.  Plus a <span style='color:red;' >[nazi sympathizer]</span>.  There's that too."
      ],
      "text/plain": [
       "<IPython.core.display.HTML object>"
      ]
     },
     "metadata": {},
     "output_type": "display_data"
    },
    {
     "name": "stdout",
     "output_type": "stream",
     "text": [
      "7 KWS: {'complete', 'trump', 'complete imbecile', 'nazi sympathizer', 'sympathizer', 'nazi', 'imbecile'}\n",
      "*********************************************\n",
      "513\n",
      "TABO words:  idiots pathetic\n",
      "59    Just think, we could have sane government right now but for the idiots who backed the narcissistic, war-mongering, corrupt, pathologically lying, sociopathic, fraudulent creep currently in the Whine House. He makes my skin crawl too.  \n",
      "Trump supporters and the GOP have forever lost any credibility they once had. \n",
      "\n",
      "Truly pathetic. \n",
      "\n",
      "Time for a revolution (with a nod to Wolf).\n"
     ]
    },
    {
     "data": {
      "text/html": [
       "Just think, we could have <span style='color:red;' >[sane government]</span> right now but for the <span style='color:red;' >[idiots]</span> who <span style='color:red;' >[backed]</span> the <span style='color:red;' >[narcissistic]</span>, <span style='color:red;' >[war-mongering]</span>, <span style='color:red;' >[corrupt]</span>, <span style='color:red;' >[pathologically lying]</span>, <span style='color:red;' >[sociopathic]</span>, <span style='color:red;' >[fraudulent creep]</span> currently in the <span style='color:red;' >[whine house]</span>. He makes my <span style='color:red;' >[skin crawl]</span> too.   <span style='color:red;' >[trump supporters]</span> and the GOP have forever lost any credibility they once had.   Truly pathetic.   Time for a revolution (with a nod to Wolf)."
      ],
      "text/plain": [
       "<IPython.core.display.HTML object>"
      ]
     },
     "metadata": {},
     "output_type": "display_data"
    },
    {
     "name": "stdout",
     "output_type": "stream",
     "text": [
      "20 KWS: {'whine', 'government', 'backed', 'creep', 'narcissistic', 'pathologically', 'trump supporters', 'house', 'sane', 'idiots', 'whine house', 'sane government', 'fraudulent creep', 'war-mongering', 'sociopathic', 'fraudulent', 'skin crawl', 'lying', 'corrupt', 'pathologically lying'}\n",
      "*********************************************\n",
      "514\n",
      "TABO words:  blow job\n",
      "6    blow harder. what a blow job\n"
     ]
    },
    {
     "data": {
      "text/html": [
       "<span style='color:red;' >[blow harder]</span>. what a <span style='color:red;' >[blow]</span> <span style='color:red;' >[job]</span>"
      ],
      "text/plain": [
       "<IPython.core.display.HTML object>"
      ]
     },
     "metadata": {},
     "output_type": "display_data"
    },
    {
     "name": "stdout",
     "output_type": "stream",
     "text": [
      "5 KWS: {'blow harder', 'blow', 'job', 'harder', 'blow job'}\n",
      "*********************************************\n",
      "515\n",
      "TABO words:  stupid\n",
      "33    Pierre giving Albertans the finger, then the shaft (national energy program). years later Liberal Scott Reid saying Alberta Can _low me.  And Liberals have the gall to think people in Alberta are stupid\n"
     ]
    },
    {
     "data": {
      "text/html": [
       "<span style='color:red;' >[pierre]</span> <span style='color:red;' >[giving albertans]</span> the <span style='color:red;' >[finger]</span>, then the <span style='color:red;' >[shaft]</span> (<span style='color:red;' >[national energy]</span> <span style='color:red;' >[program]</span>). <span style='color:red;' >[years]</span> later <span style='color:red;' >[liberal]</span> <span style='color:red;' >[scott reid]</span> saying <span style='color:red;' >[alberta]</span> Can _low me.  And <span style='color:red;' >[liberals]</span> have the gall to think people in <span style='color:red;' >[alberta]</span> are stupid"
      ],
      "text/plain": [
       "<IPython.core.display.HTML object>"
      ]
     },
     "metadata": {},
     "output_type": "display_data"
    },
    {
     "name": "stdout",
     "output_type": "stream",
     "text": [
      "20 KWS: {'liberal', 'giving albertans', 'liberal scott', 'pierre', 'national', 'giving', 'energy', 'reid', 'national energy', 'pierre giving', 'liberals', 'alberta', 'albertans', 'scott', 'shaft', 'energy program', 'scott reid', 'program', 'years', 'finger'}\n",
      "*********************************************\n",
      "516\n",
      "TABO words:  American police kill you moron\n",
      "39    Oh shut the hell up. American police kill more Americans than any so called 'terrorist' has, and the only killers running around Iraq and Syria are wearing American flags or using American weapons you moron. What's wrong with you?\n"
     ]
    },
    {
     "data": {
      "text/html": [
       "Oh <span style='color:red;' >[shut]</span> the <span style='color:red;' >[hell]</span> up. <span style='color:red;' >[american]</span> <span style='color:red;' >[police kill]</span> more <span style='color:red;' >[americans]</span> than any so <span style='color:red;' >[called]</span> 'terrorist' has, and the only <span style='color:red;' >[killers running]</span> around <span style='color:red;' >[iraq]</span> and <span style='color:red;' >[syria]</span> are <span style='color:red;' >[wearing]</span> <span style='color:red;' >[american]</span> flags or using <span style='color:red;' >[american]</span> weapons you <span style='color:red;' >[moron]</span>. What's wrong with you?"
      ],
      "text/plain": [
       "<IPython.core.display.HTML object>"
      ]
     },
     "metadata": {},
     "output_type": "display_data"
    },
    {
     "name": "stdout",
     "output_type": "stream",
     "text": [
      "20 KWS: {'moron', 'american weapons', 'called', 'wearing', 'hell', 'kill', 'police kill', 'iraq', 'syria', 'american police', 'wearing american', 'american', 'americans', 'american flags', 'police', 'killers running', 'killers', 'terrorist', 'running', 'shut'}\n",
      "*********************************************\n",
      "517\n",
      "TABO words:  trolls morons idiocy\n",
      "33    They are either trolls or morons with a collective IQ of 50. They make claims with made up evidence and should take their lumps when they try and pass their idiocy as fact.\n"
     ]
    },
    {
     "data": {
      "text/html": [
       "They are either <span style='color:red;' >[trolls]</span> or <span style='color:red;' >[morons]</span> with a <span style='color:red;' >[collective]</span> IQ of 50. They <span style='color:red;' >[make claims]</span> with <span style='color:red;' >[made]</span> up <span style='color:red;' >[evidence]</span> and should take their <span style='color:red;' >[lumps]</span> when they try and <span style='color:red;' >[pass]</span> their <span style='color:red;' >[idiocy]</span> as <span style='color:red;' >[fact]</span>."
      ],
      "text/plain": [
       "<IPython.core.display.HTML object>"
      ]
     },
     "metadata": {},
     "output_type": "display_data"
    },
    {
     "name": "stdout",
     "output_type": "stream",
     "text": [
      "12 KWS: {'evidence', 'lumps', 'make claims', 'idiocy', 'claims', 'morons', 'trolls', 'collective', 'fact', 'pass', 'made', 'make'}\n",
      "*********************************************\n",
      "518\n",
      "TABO words:  spanked butt\n",
      "7    Butts butted in and spanked Justin's butt.\n"
     ]
    },
    {
     "data": {
      "text/html": [
       "<span style='color:red;' >[butts butted]</span> in and <span style='color:red;' >[spanked]</span> Justin's <span style='color:red;' >[butt]</span>."
      ],
      "text/plain": [
       "<IPython.core.display.HTML object>"
      ]
     },
     "metadata": {},
     "output_type": "display_data"
    },
    {
     "name": "stdout",
     "output_type": "stream",
     "text": [
      "8 KWS: {'butts butted', 'spanked', 'butts', 'butted', 'justin', 'butt', 'justin butt', 'spanked justin'}\n",
      "*********************************************\n",
      "519\n",
      "TABO words:  hemorrhoids asshole\n",
      "22    Regarding Justin Trudeau getting an award at the Houston Environmental Conference. \n",
      "\n",
      "Awards are like hemorrhoids sooner or later every asshole gets one.\n"
     ]
    },
    {
     "data": {
      "text/html": [
       "Regarding <span style='color:red;' >[justin trudeau]</span> getting an <span style='color:red;' >[award]</span> at the <span style='color:red;' >[houston]</span> <span style='color:red;' >[environmental conference]</span>.   <span style='color:red;' >[awards]</span> are like <span style='color:red;' >[hemorrhoids sooner]</span> or later every <span style='color:red;' >[asshole]</span> gets one."
      ],
      "text/plain": [
       "<IPython.core.display.HTML object>"
      ]
     },
     "metadata": {},
     "output_type": "display_data"
    },
    {
     "name": "stdout",
     "output_type": "stream",
     "text": [
      "14 KWS: {'conference', 'environmental', 'trudeau', 'environmental conference', 'award', 'justin trudeau', 'hemorrhoids', 'sooner', 'houston', 'hemorrhoids sooner', 'justin', 'awards', 'asshole', 'houston environmental'}\n",
      "*********************************************\n",
      "520\n",
      "TABO words:  ass\n",
      "36    This bill is a tax cut disguised as a health care bill. People will die if this bill passes. To deny this fact is to bury your head even farther up Trumps ass. Makes me sick.\n"
     ]
    },
    {
     "data": {
      "text/html": [
       "This <span style='color:red;' >[bill]</span> is a <span style='color:red;' >[tax cut]</span> <span style='color:red;' >[disguised]</span> as a <span style='color:red;' >[health care]</span> <span style='color:red;' >[bill]</span>. <span style='color:red;' >[people]</span> will <span style='color:red;' >[die]</span> if this <span style='color:red;' >[bill]</span> <span style='color:red;' >[passes]</span>. To <span style='color:red;' >[deny]</span> this fact is to bury your head even farther up <span style='color:red;' >[trumps ass]</span>. <span style='color:red;' >[makes]</span> me <span style='color:red;' >[sick]</span>."
      ],
      "text/plain": [
       "<IPython.core.display.HTML object>"
      ]
     },
     "metadata": {},
     "output_type": "display_data"
    },
    {
     "name": "stdout",
     "output_type": "stream",
     "text": [
      "20 KWS: {'ass', 'sick', 'care', 'disguised', 'cut', 'tax cut', 'die', 'makes', 'trumps', 'trumps ass', 'tax', 'cut disguised', 'bill', 'bill passes', 'health', 'care bill', 'people', 'passes', 'deny', 'health care'}\n",
      "*********************************************\n",
      "521\n",
      "TABO words: \n",
      "27    Sorry, but that has to be one of the most ignorant statements I've read.  Because you may not favor gender neutral bathrooms, you support rapist?  Good grief.\n"
     ]
    },
    {
     "data": {
      "text/html": [
       "Sorry, but that has to be one of the most <span style='color:red;' >[ignorant statements]</span> I've <span style='color:red;' >[read]</span>.  Because you may not <span style='color:red;' >[favor gender]</span> <span style='color:red;' >[neutral bathrooms]</span>, you <span style='color:red;' >[support rapist]</span>?  <span style='color:red;' >[good grief]</span>."
      ],
      "text/plain": [
       "<IPython.core.display.HTML object>"
      ]
     },
     "metadata": {},
     "output_type": "display_data"
    },
    {
     "name": "stdout",
     "output_type": "stream",
     "text": [
      "17 KWS: {'gender', 'support rapist', 'good grief', 'rapist', 'ignorant statements', 'ignorant', 'statements', 'support', 'favor gender', 'read', 'good', 'neutral', 'neutral bathrooms', 'bathrooms', 'grief', 'favor', 'gender neutral'}\n",
      "*********************************************\n",
      "522\n",
      "TABO words:  idiotic\n",
      "51    What in the heck are you talking about?  This has absolutely nothing to do with the government or Obama.  This is entirely a result of TSA's inability to adjust to modern spending habits.  Look how many Amazon boxes show up in your neighborhood everyday.  Your prejudice is unmistakeable and completely idiotic.\n"
     ]
    },
    {
     "data": {
      "text/html": [
       "What in the <span style='color:red;' >[heck]</span> are you <span style='color:red;' >[talking]</span> about?  This has <span style='color:red;' >[absolutely]</span> nothing to do with the <span style='color:red;' >[government]</span> or <span style='color:red;' >[obama]</span>.  This is entirely a <span style='color:red;' >[result]</span> of TSA's <span style='color:red;' >[inability]</span> to <span style='color:red;' >[adjust]</span> to modern <span style='color:red;' >[spending habits]</span>.  Look how many <span style='color:red;' >[amazon boxes]</span> show up in your <span style='color:red;' >[neighborhood everyday]</span>.  Your prejudice is unmistakeable and <span style='color:red;' >[completely idiotic]</span>."
      ],
      "text/plain": [
       "<IPython.core.display.HTML object>"
      ]
     },
     "metadata": {},
     "output_type": "display_data"
    },
    {
     "name": "stdout",
     "output_type": "stream",
     "text": [
      "20 KWS: {'adjust', 'tsa inability', 'absolutely', 'government', 'result', 'modern spending', 'amazon', 'habits', 'heck', 'idiotic', 'everyday', 'talking', 'boxes show', 'inability', 'neighborhood everyday', 'completely idiotic', 'amazon boxes', 'tsa', 'obama', 'spending habits'}\n",
      "*********************************************\n",
      "523\n",
      "TABO words:  pathetic\n",
      "13    Ummm...why are you so obsessed with Johann? You seem insecure. Kinda pathetic dude.\n"
     ]
    },
    {
     "data": {
      "text/html": [
       "Ummm...why are you so <span style='color:red;' >[obsessed]</span> with <span style='color:red;' >[johann]</span>? You seem <span style='color:red;' >[insecure]</span>. <span style='color:red;' >[kinda pathetic]</span> <span style='color:red;' >[dude]</span>."
      ],
      "text/plain": [
       "<IPython.core.display.HTML object>"
      ]
     },
     "metadata": {},
     "output_type": "display_data"
    },
    {
     "name": "stdout",
     "output_type": "stream",
     "text": [
      "9 KWS: {'dude', 'kinda', 'kinda pathetic', 'pathetic', 'pathetic dude', 'obsessed', 'insecure', 'ummm', 'johann'}\n",
      "*********************************************\n",
      "524\n",
      "TABO words:  idiot\n",
      "5    You, sir, are an idiot.\n"
     ]
    },
    {
     "data": {
      "text/html": [
       "You, <span style='color:red;' >[sir]</span>, are an <span style='color:red;' >[idiot]</span>."
      ],
      "text/plain": [
       "<IPython.core.display.HTML object>"
      ]
     },
     "metadata": {},
     "output_type": "display_data"
    },
    {
     "name": "stdout",
     "output_type": "stream",
     "text": [
      "2 KWS: {'sir', 'idiot'}\n",
      "*********************************************\n",
      "525\n",
      "TABO words:  Damn\n",
      "5    Save it. Damn the developers.\n"
     ]
    },
    {
     "data": {
      "text/html": [
       "<span style='color:red;' >[save]</span> it. <span style='color:red;' >[damn]</span> the <span style='color:red;' >[developers]</span>."
      ],
      "text/plain": [
       "<IPython.core.display.HTML object>"
      ]
     },
     "metadata": {},
     "output_type": "display_data"
    },
    {
     "name": "stdout",
     "output_type": "stream",
     "text": [
      "3 KWS: {'damn', 'save', 'developers'}\n",
      "*********************************************\n",
      "526\n",
      "TABO words:  wanker\n",
      "7    Well we know he is a wanker\n"
     ]
    },
    {
     "data": {
      "text/html": [
       "Well we know he is a <span style='color:red;' >[wanker]</span>"
      ],
      "text/plain": [
       "<IPython.core.display.HTML object>"
      ]
     },
     "metadata": {},
     "output_type": "display_data"
    },
    {
     "name": "stdout",
     "output_type": "stream",
     "text": [
      "1 KWS: {'wanker'}\n",
      "*********************************************\n",
      "527\n",
      "TABO words:  idiot\n",
      "4    Look: the village idiot!\n"
     ]
    },
    {
     "data": {
      "text/html": [
       "Look: the <span style='color:red;' >[village idiot]</span>!"
      ],
      "text/plain": [
       "<IPython.core.display.HTML object>"
      ]
     },
     "metadata": {},
     "output_type": "display_data"
    },
    {
     "name": "stdout",
     "output_type": "stream",
     "text": [
      "3 KWS: {'village idiot', 'idiot', 'village'}\n",
      "*********************************************\n",
      "528\n",
      "TABO words:  stupid\n",
      "22    It can also be used satirically, to poke fun at the stupid and ignorant. I like to do that now and then.\n"
     ]
    },
    {
     "data": {
      "text/html": [
       "It can also be used <span style='color:red;' >[satirically]</span>, to <span style='color:red;' >[poke fun]</span> at the <span style='color:red;' >[stupid]</span> and <span style='color:red;' >[ignorant]</span>. I like to do that now and then."
      ],
      "text/plain": [
       "<IPython.core.display.HTML object>"
      ]
     },
     "metadata": {},
     "output_type": "display_data"
    },
    {
     "name": "stdout",
     "output_type": "stream",
     "text": [
      "6 KWS: {'poke', 'satirically', 'ignorant', 'fun', 'stupid', 'poke fun'}\n",
      "*********************************************\n",
      "529\n",
      "TABO words:  sexual predator kill them\n",
      "57    This is what's dreadfully wrong with our so-called judicial system; criminals can do harm and get away with it.  I don't  care if the spouse went along to get along with her husband.  Children were sexually abused and didn't even know that the sexual predator was planning to kill them.  The spouse deserves a minimum of 10-years.\n"
     ]
    },
    {
     "data": {
      "text/html": [
       "This is what's <span style='color:red;' >[dreadfully wrong]</span> with our <span style='color:red;' >[so-called]</span> <span style='color:red;' >[judicial system]</span>; <span style='color:red;' >[criminals]</span> can do <span style='color:red;' >[harm]</span> and get away with it.  I don't  <span style='color:red;' >[care]</span> if the <span style='color:red;' >[spouse]</span> went along to get along with her <span style='color:red;' >[husband]</span>.  <span style='color:red;' >[children]</span> were <span style='color:red;' >[sexually abused]</span> and didn't even know that the <span style='color:red;' >[sexual predator]</span> was planning to kill them.  The <span style='color:red;' >[spouse]</span> deserves a minimum of 10-years."
      ],
      "text/plain": [
       "<IPython.core.display.HTML object>"
      ]
     },
     "metadata": {},
     "output_type": "display_data"
    },
    {
     "name": "stdout",
     "output_type": "stream",
     "text": [
      "20 KWS: {'judicial', 'wrong', 'spouse', 'judicial system', 'sexual', 'so-called', 'sexual predator', 'care', 'spouse deserves', 'children', 'abused', 'criminals', 'so-called judicial', 'dreadfully', 'harm', 'sexually', 'sexually abused', 'system', 'dreadfully wrong', 'husband'}\n",
      "*********************************************\n",
      "530\n",
      "TABO words:  sexist pig\n",
      "36    Trump is a sexist pig?? The women who attended the rally hate Trump I am sure, but I am also sure that they worship Bill Clinton, who is a proven sexist pig.  Hypocrisy at its finest\n"
     ]
    },
    {
     "data": {
      "text/html": [
       "<span style='color:red;' >[trump]</span> is a <span style='color:red;' >[sexist pig]</span>?? The <span style='color:red;' >[women]</span> who <span style='color:red;' >[attended]</span> the <span style='color:red;' >[rally]</span> <span style='color:red;' >[hate]</span> <span style='color:red;' >[trump]</span> I am sure, but I am also sure that they <span style='color:red;' >[worship]</span> <span style='color:red;' >[bill clinton]</span>, who is a <span style='color:red;' >[proven]</span> <span style='color:red;' >[sexist pig]</span>.  <span style='color:red;' >[hypocrisy]</span> at its <span style='color:red;' >[finest]</span>"
      ],
      "text/plain": [
       "<IPython.core.display.HTML object>"
      ]
     },
     "metadata": {},
     "output_type": "display_data"
    },
    {
     "name": "stdout",
     "output_type": "stream",
     "text": [
      "19 KWS: {'proven sexist', 'worship bill', 'women', 'proven', 'bill clinton', 'pig', 'sexist', 'rally hate', 'rally', 'worship', 'trump', 'sexist pig', 'bill', 'hypocrisy', 'finest', 'attended', 'hate', 'clinton', 'hate trump'}\n",
      "*********************************************\n",
      "531\n",
      "TABO words:  pussies\n",
      "22    Tina that is a poor excuse and he if he was grabbing pussies I doubt you were in the pool of choices.\n"
     ]
    },
    {
     "data": {
      "text/html": [
       "<span style='color:red;' >[tina]</span> that is a <span style='color:red;' >[poor excuse]</span> and he if he was <span style='color:red;' >[grabbing pussies]</span> I <span style='color:red;' >[doubt]</span> you were in the <span style='color:red;' >[pool]</span> of <span style='color:red;' >[choices]</span>."
      ],
      "text/plain": [
       "<IPython.core.display.HTML object>"
      ]
     },
     "metadata": {},
     "output_type": "display_data"
    },
    {
     "name": "stdout",
     "output_type": "stream",
     "text": [
      "10 KWS: {'grabbing', 'grabbing pussies', 'poor', 'excuse', 'pool', 'tina', 'pussies', 'doubt', 'choices', 'poor excuse'}\n",
      "*********************************************\n",
      "532\n",
      "TABO words:  freaking snowflakes\n",
      "70    These freaking snowflakes simply cannot accept reality. ELECTIONS HAVE CONSEQUENCES! It's time to step aside & allow the will of the people to be done! If the libs want to control policies, do it by winning elections.  It's time for the Trump admin to ferret out the leakers and prosecute to the fullest extent of the law, drive the liberals out of the administration & start keeping his campaign promises!!\n"
     ]
    },
    {
     "data": {
      "text/html": [
       "These <span style='color:red;' >[freaking snowflakes]</span> <span style='color:red;' >[simply]</span> cannot <span style='color:red;' >[accept reality]</span>. <span style='color:red;' >[elections]</span> HAVE <span style='color:red;' >[consequences]</span>! It's <span style='color:red;' >[time]</span> to <span style='color:red;' >[step]</span> aside & allow the will of the <span style='color:red;' >[people]</span> to be done! If the libs want to <span style='color:red;' >[control policies]</span>, do it by winning <span style='color:red;' >[elections]</span>.  It's <span style='color:red;' >[time]</span> for the <span style='color:red;' >[trump admin]</span> to ferret out the leakers and prosecute to the <span style='color:red;' >[fullest extent]</span> of the law, drive the liberals out of the administration & <span style='color:red;' >[start keeping]</span> his <span style='color:red;' >[campaign promises]</span>!!"
      ],
      "text/plain": [
       "<IPython.core.display.HTML object>"
      ]
     },
     "metadata": {},
     "output_type": "display_data"
    },
    {
     "name": "stdout",
     "output_type": "stream",
     "text": [
      "20 KWS: {'reality', 'freaking snowflakes', 'consequences', 'step', 'fullest extent', 'accept', 'elections', 'trump', 'snowflakes', 'winning elections', 'trump admin', 'campaign promises', 'snowflakes simply', 'simply', 'start keeping', 'people', 'accept reality', 'time', 'freaking', 'control policies'}\n",
      "*********************************************\n",
      "533\n",
      "TABO words:  a bumbling fool\n",
      "50    I thought that Austen Ivereigh's analysis was quite good and it was telling that Burke's fingers were all over this and that he was the one who was urging Festing to overreact.  I am glad that Pope Francis has been blessed with such a bumbling fool as his main opponent.\n"
     ]
    },
    {
     "data": {
      "text/html": [
       "I <span style='color:red;' >[thought]</span> that <span style='color:red;' >[austen]</span> Ivereigh's <span style='color:red;' >[analysis]</span> was quite <span style='color:red;' >[good]</span> and it was <span style='color:red;' >[telling]</span> that Burke's <span style='color:red;' >[fingers]</span> were all over this and that he was the one who was <span style='color:red;' >[urging festing]</span> to <span style='color:red;' >[overreact]</span>.  I am glad that <span style='color:red;' >[pope francis]</span> has been blessed with such a <span style='color:red;' >[bumbling fool]</span> as his <span style='color:red;' >[main opponent]</span>."
      ],
      "text/plain": [
       "<IPython.core.display.HTML object>"
      ]
     },
     "metadata": {},
     "output_type": "display_data"
    },
    {
     "name": "stdout",
     "output_type": "stream",
     "text": [
      "20 KWS: {'pope', 'festing', 'francis', 'burke', 'analysis', 'bumbling fool', 'urging', 'urging festing', 'burke fingers', 'ivereigh', 'overreact', 'fingers', 'telling', 'main opponent', 'good', 'ivereigh analysis', 'austen', 'austen ivereigh', 'pope francis', 'thought'}\n",
      "*********************************************\n",
      "534\n",
      "TABO words:  jews\n",
      "15    Close the MSM down, get rid of the jews that run them..they are the problem\n"
     ]
    },
    {
     "data": {
      "text/html": [
       "<span style='color:red;' >[close]</span> the <span style='color:red;' >[msm]</span> down, get <span style='color:red;' >[rid]</span> of the <span style='color:red;' >[jews]</span> that <span style='color:red;' >[run]</span> them..they are the <span style='color:red;' >[problem]</span>"
      ],
      "text/plain": [
       "<IPython.core.display.HTML object>"
      ]
     },
     "metadata": {},
     "output_type": "display_data"
    },
    {
     "name": "stdout",
     "output_type": "stream",
     "text": [
      "8 KWS: {'problem', 'rid', 'close', 'run them.', 'them.', 'run', 'jews', 'msm'}\n",
      "*********************************************\n",
      "535\n",
      "TABO words:  stupid\n",
      "2    That's stupid.\n"
     ]
    },
    {
     "data": {
      "text/html": [
       "That's <span style='color:red;' >[stupid]</span>."
      ],
      "text/plain": [
       "<IPython.core.display.HTML object>"
      ]
     },
     "metadata": {},
     "output_type": "display_data"
    },
    {
     "name": "stdout",
     "output_type": "stream",
     "text": [
      "1 KWS: {'stupid'}\n",
      "*********************************************\n",
      "536\n",
      "TABO words:  big bad Idiotic idiotic\n",
      "69    you mean NOT Russia?\n",
      "\n",
      "you know since Trump was elected  and even before he made a commitment to take on Islamic State even if that meant working with the big bad Russian's doing it. Flynn took a hit  talking to them, Trump was supposed to have revealed state secrets doing it. But now the existential threat rears its ugly head and Russia is not  it. \n",
      "\n",
      "Idiotic newspaper, idiotic democrats.\n"
     ]
    },
    {
     "data": {
      "text/html": [
       "you mean NOT <span style='color:red;' >[russia]</span>?  you know since <span style='color:red;' >[trump]</span> was <span style='color:red;' >[elected]</span>  and even before he <span style='color:red;' >[made]</span> a <span style='color:red;' >[commitment]</span> to take on <span style='color:red;' >[islamic state]</span> even if that <span style='color:red;' >[meant working]</span> with the <span style='color:red;' >[big bad]</span> Russian's doing it. <span style='color:red;' >[flynn]</span> took a hit  talking to them, <span style='color:red;' >[trump]</span> was supposed to have revealed <span style='color:red;' >[state]</span> secrets doing it. But now the existential threat rears its ugly head and <span style='color:red;' >[russia]</span> is not  it.   <span style='color:red;' >[idiotic]</span> newspaper, <span style='color:red;' >[idiotic]</span> democrats."
      ],
      "text/plain": [
       "<IPython.core.display.HTML object>"
      ]
     },
     "metadata": {},
     "output_type": "display_data"
    },
    {
     "name": "stdout",
     "output_type": "stream",
     "text": [
      "20 KWS: {'meant working', 'meant', 'big bad', 'idiotic', 'idiotic democrats', 'idiotic newspaper', 'trump', 'russian', 'bad russian', 'flynn', 'elected', 'commitment', 'russia', 'revealed state', 'islamic state', 'islamic', 'working', 'made', 'state secrets', 'state'}\n",
      "*********************************************\n",
      "537\n",
      "TABO words:  transgender gay\n",
      "21    That's not good enough for the left. They want to change the name to gender neutral transgender gay and lesbian guides.\n"
     ]
    },
    {
     "data": {
      "text/html": [
       "That's not <span style='color:red;' >[good]</span> enough for the <span style='color:red;' >[left]</span>. They want to <span style='color:red;' >[change]</span> the name to <span style='color:red;' >[gender neutral]</span> <span style='color:red;' >[transgender gay]</span> and <span style='color:red;' >[lesbian guides]</span>."
      ],
      "text/plain": [
       "<IPython.core.display.HTML object>"
      ]
     },
     "metadata": {},
     "output_type": "display_data"
    },
    {
     "name": "stdout",
     "output_type": "stream",
     "text": [
      "13 KWS: {'left', 'gender', 'transgender', 'lesbian guides', 'lesbian', 'gay', 'transgender gay', 'neutral', 'neutral transgender', 'good', 'change', 'guides', 'gender neutral'}\n",
      "*********************************************\n",
      "538\n",
      "TABO words:  DRUNK\n",
      "21    Sorry old man....I knew you were a DRUNK!\n",
      "During  the 5 years in Alaska we have grossed 1.5 million dollars\n",
      "www.thehealingcentermedicalclinic.org\n"
     ]
    },
    {
     "data": {
      "text/html": [
       "Sorry old man....I <span style='color:red;' >[knew]</span> you were a <span style='color:red;' >[drunk]</span>! During  the 5 <span style='color:red;' >[years]</span> in <span style='color:red;' >[alaska]</span> we have <span style='color:red;' >[grossed]</span> 1.5 <span style='color:red;' >[million dollars]</span> www.thehealingcentermedicalclinic.org"
      ],
      "text/plain": [
       "<IPython.core.display.HTML object>"
      ]
     },
     "metadata": {},
     "output_type": "display_data"
    },
    {
     "name": "stdout",
     "output_type": "stream",
     "text": [
      "9 KWS: {'million', 'alaska', 'man', 'knew', 'grossed', 'drunk', 'years', 'dollars', 'million dollars'}\n",
      "*********************************************\n",
      "539\n",
      "TABO words:  skilled\n",
      "173    As a general rule: nearly all assisted living homes are a (legal) scam. As an EMT, I go to these horrible places on the daily.  The rules and regulations are thin, the medical care received is suspect, and the money commanded by these glorified halfway houses for the elderly is laughable. \n",
      " Where I work, there is one on nearly every suburban street. There are so many, even if the regulators were doing their job, they have far too few to tackle this epidemic. This is why things like this happen. I assure you that this is not an isolated case of fraud.\n",
      " What is worse, however, is the neglect and abuse that our older generations are suffering. It's disgusting. We allow people with minimal qualification take care of very ill people. And we're surprised when they start stealing from the vulnerable?!?!?!\n",
      " I have been to jail and the living in THE VAST MAJORITY of these homes and skilled nursing facilities IS NO DIFFERENT.  CONGRATULATIONS! You're old! Now go to old people jail. Disgusting.\n"
     ]
    },
    {
     "data": {
      "text/html": [
       "As a <span style='color:red;' >[general rule]</span>: nearly all <span style='color:red;' >[assisted living]</span> <span style='color:red;' >[homes]</span> are a (<span style='color:red;' >[legal]</span>) <span style='color:red;' >[scam]</span>. As an <span style='color:red;' >[emt]</span>, I go to these <span style='color:red;' >[horrible places]</span> on the daily.  The <span style='color:red;' >[rules]</span> and regulations are thin, the medical <span style='color:red;' >[care]</span> received is suspect, and the <span style='color:red;' >[money commanded]</span> by these <span style='color:red;' >[glorified halfway]</span> houses for the elderly is laughable.   Where I work, there is one on nearly every suburban street. There are so many, even if the regulators were doing their job, they have far too few to tackle this epidemic. This is why things like this happen. I assure you that this is not an isolated case of fraud.  What is worse, however, is the neglect and abuse that our older generations are suffering. It's <span style='color:red;' >[disgusting]</span>. We allow <span style='color:red;' >[people]</span> with minimal qualification take <span style='color:red;' >[care]</span> of very ill <span style='color:red;' >[people]</span>. And we're surprised when they start stealing from the vulnerable?!?!?!  I have been to <span style='color:red;' >[jail]</span> and the <span style='color:red;' >[living]</span> in THE <span style='color:red;' >[vast majority]</span> of these <span style='color:red;' >[homes]</span> and skilled nursing facilities IS NO DIFFERENT.  CONGRATULATIONS! You're old! Now go to old <span style='color:red;' >[people]</span> <span style='color:red;' >[jail]</span>. <span style='color:red;' >[disgusting]</span>."
      ],
      "text/plain": [
       "<IPython.core.display.HTML object>"
      ]
     },
     "metadata": {},
     "output_type": "display_data"
    },
    {
     "name": "stdout",
     "output_type": "stream",
     "text": [
      "20 KWS: {'assisted living', 'vast majority', 'rule', 'rules', 'disgusting', 'general rule', 'money commanded', 'assisted', 'care', 'horrible places', 'jail', 'living', 'legal', 'general', 'emt', 'halfway houses', 'people', 'homes', 'scam', 'glorified halfway'}\n",
      "*********************************************\n",
      "540\n",
      "TABO words:  Attack supremacist neoNazis Islamic attack\n",
      "28    Hey G&M, re Barcelona...\"Van Attack\"? Few days back you called white supremacist, neoNazis, why is this not an Islamic attack? Get your act together b4 its too late.\n"
     ]
    },
    {
     "data": {
      "text/html": [
       "<span style='color:red;' >[hey]</span> G&M, re Barcelona...\"Van <span style='color:red;' >[attack]</span>\"? Few <span style='color:red;' >[days back]</span> you <span style='color:red;' >[called]</span> <span style='color:red;' >[white supremacist]</span>, <span style='color:red;' >[neonazis]</span>, why is this not an <span style='color:red;' >[islamic attack]</span>? Get your <span style='color:red;' >[act]</span> together b4 its too <span style='color:red;' >[late]</span>."
      ],
      "text/plain": [
       "<IPython.core.display.HTML object>"
      ]
     },
     "metadata": {},
     "output_type": "display_data"
    },
    {
     "name": "stdout",
     "output_type": "stream",
     "text": [
      "18 KWS: {'islamic attack', 'supremacist', 'hey', 'days', 'barcelona', 'called', 'act', 'days back', 'white supremacist', 'van', 'white', 'late', 'attack', 'islamic', 'back', 'called white', 'van attack', 'neonazis'}\n",
      "*********************************************\n",
      "541\n",
      "TABO words:  ignorant\n",
      "20    During confirmation hearings, over a dozen of Trump cabinet appointees have testified under oath that Trump is wrong and ignorant.\n"
     ]
    },
    {
     "data": {
      "text/html": [
       "During <span style='color:red;' >[confirmation hearings]</span>, over a <span style='color:red;' >[dozen]</span> of <span style='color:red;' >[trump cabinet]</span> <span style='color:red;' >[appointees]</span> have <span style='color:red;' >[testified]</span> under <span style='color:red;' >[oath]</span> that <span style='color:red;' >[trump]</span> is <span style='color:red;' >[wrong]</span> and <span style='color:red;' >[ignorant]</span>."
      ],
      "text/plain": [
       "<IPython.core.display.HTML object>"
      ]
     },
     "metadata": {},
     "output_type": "display_data"
    },
    {
     "name": "stdout",
     "output_type": "stream",
     "text": [
      "13 KWS: {'wrong', 'dozen', 'testified', 'ignorant', 'confirmation', 'appointees', 'trump cabinet', 'trump', 'confirmation hearings', 'cabinet', 'cabinet appointees', 'oath', 'hearings'}\n",
      "*********************************************\n",
      "542\n",
      "TABO words:  disgusting pig\n",
      "12    Trump is a disgusting pig. I am ashamed that he is president.\n"
     ]
    },
    {
     "data": {
      "text/html": [
       "<span style='color:red;' >[trump]</span> is a <span style='color:red;' >[disgusting pig]</span>. I am <span style='color:red;' >[ashamed]</span> that he is <span style='color:red;' >[president]</span>."
      ],
      "text/plain": [
       "<IPython.core.display.HTML object>"
      ]
     },
     "metadata": {},
     "output_type": "display_data"
    },
    {
     "name": "stdout",
     "output_type": "stream",
     "text": [
      "6 KWS: {'disgusting', 'pig', 'disgusting pig', 'trump', 'president', 'ashamed'}\n",
      "*********************************************\n",
      "543\n",
      "TABO words:  nigggers\n",
      "6    Kill all the nigggers and pedophiles!\n"
     ]
    },
    {
     "data": {
      "text/html": [
       "<span style='color:red;' >[kill]</span> all the <span style='color:red;' >[nigggers]</span> and <span style='color:red;' >[pedophiles]</span>!"
      ],
      "text/plain": [
       "<IPython.core.display.HTML object>"
      ]
     },
     "metadata": {},
     "output_type": "display_data"
    },
    {
     "name": "stdout",
     "output_type": "stream",
     "text": [
      "3 KWS: {'nigggers', 'kill', 'pedophiles'}\n",
      "*********************************************\n",
      "544\n",
      "TABO words:  stupid idiots\n",
      "98    If the pedestrians are too stupid, too arrogant, too self-absorbed in themselves or their cell phones or their companions to use the devices designed to keep them alive with minimal effort, I don't have any sympathy for them whatsoever.\n",
      "\n",
      "I will have sympathy for the person who couldn't avoid them, just like the young man who couldn't avoid the 'impaired' guy on the bicycle after dark with no lights.  The first driver missed him, the second couldn't.  \n",
      "\n",
      "The driver in this instance deserves sympathy; the bicyclist....\n",
      "\n",
      "Your idiots who can't push a little button.....the same as the bicyclist.\n"
     ]
    },
    {
     "data": {
      "text/html": [
       "If the <span style='color:red;' >[pedestrians]</span> are too <span style='color:red;' >[stupid]</span>, too <span style='color:red;' >[arrogant]</span>, too <span style='color:red;' >[self-absorbed]</span> in themselves or their <span style='color:red;' >[cell phones]</span> or their <span style='color:red;' >[companions]</span> to use the <span style='color:red;' >[devices designed]</span> to keep them <span style='color:red;' >[alive]</span> with <span style='color:red;' >[minimal effort]</span>, I don't have any <span style='color:red;' >[sympathy]</span> for them <span style='color:red;' >[whatsoever]</span>.  I will have <span style='color:red;' >[sympathy]</span> for the person who couldn't <span style='color:red;' >[avoid]</span> them, just like the <span style='color:red;' >[young man]</span> who couldn't <span style='color:red;' >[avoid]</span> the 'impaired' guy on the bicycle after dark with no lights.  The first driver missed him, the second couldn't.    The driver in this instance deserves <span style='color:red;' >[sympathy]</span>; the bicyclist....  Your idiots who can't push a little button.....the same as the bicyclist."
      ],
      "text/plain": [
       "<IPython.core.display.HTML object>"
      ]
     },
     "metadata": {},
     "output_type": "display_data"
    },
    {
     "name": "stdout",
     "output_type": "stream",
     "text": [
      "20 KWS: {'avoid', 'arrogant', 'effort', 'devices designed', 'deserves sympathy', 'whatsoever', 'cell phones', 'sympathy', 'self-absorbed', 'companions', 'devices', 'minimal', 'young man', 'pedestrians', 'cell', 'alive', 'designed', 'stupid', 'minimal effort', 'phones'}\n",
      "*********************************************\n",
      "545\n",
      "TABO words:  jerk\n",
      "61    You actually think this will last? I've been around enough to know when they start bringing it up, changes will be made. Those changes will not benefit the taxpayer. You either work for the government as a schill or haven't been around long enough to know. Judging by every one of your usual liberal circle jerk comments my guess is schill.\n"
     ]
    },
    {
     "data": {
      "text/html": [
       "You actually think this will last? I've been around enough to know when they <span style='color:red;' >[start bringing]</span> it up, changes will be <span style='color:red;' >[made]</span>. Those changes will not <span style='color:red;' >[benefit]</span> the <span style='color:red;' >[taxpayer]</span>. You either <span style='color:red;' >[work]</span> for the <span style='color:red;' >[government]</span> as a <span style='color:red;' >[schill]</span> or haven't been around <span style='color:red;' >[long]</span> enough to know. <span style='color:red;' >[judging]</span> by every one of your <span style='color:red;' >[usual]</span> <span style='color:red;' >[liberal]</span> <span style='color:red;' >[circle]</span> <span style='color:red;' >[jerk]</span> <span style='color:red;' >[comments]</span> my <span style='color:red;' >[guess]</span> is <span style='color:red;' >[schill]</span>."
      ],
      "text/plain": [
       "<IPython.core.display.HTML object>"
      ]
     },
     "metadata": {},
     "output_type": "display_data"
    },
    {
     "name": "stdout",
     "output_type": "stream",
     "text": [
      "20 KWS: {'start bringing', 'taxpayer', 'start', 'benefit', 'government', 'jerk', 'comments', 'circle jerk', 'guess', 'bringing', 'liberal circle', 'schill', 'judging', 'usual liberal', 'usual', 'circle', 'work', 'made', 'liberal', 'long'}\n",
      "*********************************************\n",
      "546\n",
      "TABO words:  Dumb pig White\n",
      "32    Dumb enough to be in the terrible mess that he is in. Throw the book at this a puka so he squeals like a stuck pig and brings the White House down.\n"
     ]
    },
    {
     "data": {
      "text/html": [
       "<span style='color:red;' >[dumb]</span> enough to be in the <span style='color:red;' >[terrible mess]</span> that he is in. <span style='color:red;' >[throw]</span> the <span style='color:red;' >[book]</span> at this a <span style='color:red;' >[puka]</span> so he <span style='color:red;' >[squeals]</span> like a <span style='color:red;' >[stuck pig]</span> and <span style='color:red;' >[brings]</span> the <span style='color:red;' >[white house]</span> down."
      ],
      "text/plain": [
       "<IPython.core.display.HTML object>"
      ]
     },
     "metadata": {},
     "output_type": "display_data"
    },
    {
     "name": "stdout",
     "output_type": "stream",
     "text": [
      "15 KWS: {'book', 'puka', 'brings', 'white house', 'pig', 'stuck', 'house', 'terrible mess', 'throw', 'white', 'terrible', 'squeals', 'stuck pig', 'mess', 'dumb'}\n",
      "*********************************************\n",
      "547\n",
      "TABO words:  idiot stupid\n",
      "95    The man is an idiot and I this we would be doing a disservice to prisoners everywhere to suggest that they would admire this jackass.  He was a felon in community custody driving around with drugs and GUNS. He is also a gutless wonder. If he wanted to die he had plenty of heroin and bullets to take care of it without involving the police. He should be charged with a count of  attempted murder for every bullet he fired after he was traffic stopped.  He doesn't look smug to me, he looks stupid .\n"
     ]
    },
    {
     "data": {
      "text/html": [
       "The <span style='color:red;' >[man]</span> is an <span style='color:red;' >[idiot]</span> and I this we would be doing a <span style='color:red;' >[disservice]</span> to <span style='color:red;' >[prisoners]</span> everywhere to <span style='color:red;' >[suggest]</span> that they would <span style='color:red;' >[admire]</span> this <span style='color:red;' >[jackass]</span>.  He was a <span style='color:red;' >[felon]</span> in <span style='color:red;' >[community custody]</span> <span style='color:red;' >[driving]</span> around with <span style='color:red;' >[drugs]</span> and <span style='color:red;' >[guns]</span>. He is also a <span style='color:red;' >[gutless]</span> wonder. If he wanted to die he had plenty of heroin and <span style='color:red;' >[bullets]</span> to take care of it without involving the police. He should be charged with a count of  <span style='color:red;' >[attempted murder]</span> for every <span style='color:red;' >[bullet]</span> he fired after he was <span style='color:red;' >[traffic stopped]</span>.  He doesn't look smug to me, he looks stupid ."
      ],
      "text/plain": [
       "<IPython.core.display.HTML object>"
      ]
     },
     "metadata": {},
     "output_type": "display_data"
    },
    {
     "name": "stdout",
     "output_type": "stream",
     "text": [
      "20 KWS: {'community custody', 'idiot', 'bullet', 'bullets', 'man', 'admire', 'jackass', 'community', 'gutless', 'drugs', 'attempted murder', 'felon', 'traffic stopped', 'prisoners', 'driving', 'guns', 'custody driving', 'suggest', 'custody', 'disservice'}\n",
      "*********************************************\n",
      "548\n",
      "TABO words:  weak useless\n",
      "10    She is weak and useless, time to run her off\n"
     ]
    },
    {
     "data": {
      "text/html": [
       "She is <span style='color:red;' >[weak]</span> and <span style='color:red;' >[useless]</span>, <span style='color:red;' >[time]</span> to <span style='color:red;' >[run]</span> her off"
      ],
      "text/plain": [
       "<IPython.core.display.HTML object>"
      ]
     },
     "metadata": {},
     "output_type": "display_data"
    },
    {
     "name": "stdout",
     "output_type": "stream",
     "text": [
      "4 KWS: {'useless', 'run', 'time', 'weak'}\n",
      "*********************************************\n",
      "549\n",
      "TABO words:  freaking\n",
      "16    Not to mention, it ain't any of the freaking busimywho does and doesn't go to communion.\n"
     ]
    },
    {
     "data": {
      "text/html": [
       "Not to <span style='color:red;' >[mention]</span>, it ain't any of the <span style='color:red;' >[freaking busimywho]</span> does and doesn't go to <span style='color:red;' >[communion]</span>."
      ],
      "text/plain": [
       "<IPython.core.display.HTML object>"
      ]
     },
     "metadata": {},
     "output_type": "display_data"
    },
    {
     "name": "stdout",
     "output_type": "stream",
     "text": [
      "5 KWS: {'freaking busimywho', 'mention', 'busimywho', 'freaking', 'communion'}\n",
      "*********************************************\n",
      "550\n",
      "TABO words:  dumb\n",
      "36    ... the millions of North Koreans that have died and been tortured for decades should be reason alone ... the dumb@$$ who tried thieving a propaganda poster while visiting is simply a Darwin award database addition.\n"
     ]
    },
    {
     "data": {
      "text/html": [
       "... the <span style='color:red;' >[millions]</span> of <span style='color:red;' >[north koreans]</span> that have <span style='color:red;' >[died]</span> and been <span style='color:red;' >[tortured]</span> for <span style='color:red;' >[decades]</span> should be <span style='color:red;' >[reason]</span> alone ... the dumb@$$ who tried <span style='color:red;' >[thieving]</span> a <span style='color:red;' >[propaganda poster]</span> while <span style='color:red;' >[visiting]</span> is <span style='color:red;' >[simply]</span> a <span style='color:red;' >[darwin award]</span> <span style='color:red;' >[database addition]</span>."
      ],
      "text/plain": [
       "<IPython.core.display.HTML object>"
      ]
     },
     "metadata": {},
     "output_type": "display_data"
    },
    {
     "name": "stdout",
     "output_type": "stream",
     "text": [
      "20 KWS: {'koreans', 'darwin', 'addition', 'reason', 'millions', 'thieving', 'propaganda', 'poster', 'database addition', 'died', 'north', 'tortured', 'decades', 'propaganda poster', 'north koreans', 'award database', 'visiting', 'simply', 'darwin award', 'dumb'}\n",
      "*********************************************\n",
      "551\n",
      "TABO words:  dumb\n",
      "25    The dumb one? At Fox? The intellectual equivalent of Dante's Seventh Circle of the Inferno. Not quite the bottom, but close enough for government work.\n"
     ]
    },
    {
     "data": {
      "text/html": [
       "The <span style='color:red;' >[dumb]</span> one? At <span style='color:red;' >[fox]</span>? The <span style='color:red;' >[intellectual equivalent]</span> of Dante's <span style='color:red;' >[seventh circle]</span> of the <span style='color:red;' >[inferno]</span>. Not quite the <span style='color:red;' >[bottom]</span>, but <span style='color:red;' >[close]</span> enough for <span style='color:red;' >[government work]</span>."
      ],
      "text/plain": [
       "<IPython.core.display.HTML object>"
      ]
     },
     "metadata": {},
     "output_type": "display_data"
    },
    {
     "name": "stdout",
     "output_type": "stream",
     "text": [
      "16 KWS: {'inferno', 'government', 'intellectual', 'dante', 'close', 'seventh', 'dante seventh', 'seventh circle', 'equivalent', 'fox', 'circle', 'bottom', 'work', 'government work', 'intellectual equivalent', 'dumb'}\n",
      "*********************************************\n",
      "552\n",
      "TABO words:  IDIOTS\n",
      "123    NO.  Give us back OUR money and STOP TAKING our money for a USELESS program that has does not work.\n",
      "Paying  $1.50 a month for some B$ program that has NOT WORKED is Insane.  You Donkeys are IDIOTS.  \n",
      "\n",
      "Stop taxing us to death.  Remove this Green Fee and work on getting rooftop solar on homes.  HECO is full of cr@p and they have much more solar that can be added.  How can they put up solar farms but can't have home owners get solar on their roofs ?  \n",
      "\n",
      "The leadership in this state is nonexistence and the people are SICK of all the fess and taxes.  When are people going to wake up and realize these elected and appointed officials are IDIOTS ?\n"
     ]
    },
    {
     "data": {
      "text/html": [
       "NO.  <span style='color:red;' >[give]</span> us back OUR <span style='color:red;' >[money]</span> and <span style='color:red;' >[stop taking]</span> our <span style='color:red;' >[money]</span> for a <span style='color:red;' >[useless program]</span> that has does not <span style='color:red;' >[work]</span>. Paying  $1.50 a month for some B$ <span style='color:red;' >[program]</span> that has NOT <span style='color:red;' >[worked]</span> is <span style='color:red;' >[insane]</span>.  You <span style='color:red;' >[donkeys]</span> are <span style='color:red;' >[idiots]</span>.    <span style='color:red;' >[stop]</span> taxing us to death.  Remove this <span style='color:red;' >[green fee]</span> and <span style='color:red;' >[work]</span> on getting rooftop <span style='color:red;' >[solar]</span> on homes.  <span style='color:red;' >[heco]</span> is full of cr@p and they have much more <span style='color:red;' >[solar]</span> that can be added.  How can they put up <span style='color:red;' >[solar]</span> farms but can't have home owners get <span style='color:red;' >[solar]</span> on their roofs ?    The leadership in this state is nonexistence and the <span style='color:red;' >[people]</span> are <span style='color:red;' >[sick]</span> of all the fess and taxes.  When are <span style='color:red;' >[people]</span> going to wake up and realize these elected and appointed officials are <span style='color:red;' >[idiots]</span> ?"
      ],
      "text/plain": [
       "<IPython.core.display.HTML object>"
      ]
     },
     "metadata": {},
     "output_type": "display_data"
    },
    {
     "name": "stdout",
     "output_type": "stream",
     "text": [
      "20 KWS: {'insane', 'sick', 'money', 'donkeys', 'fee', 'green fee', 'useless program', 'idiots', 'heco', 'solar', 'stop', 'green', 'stop taking', 'program', 'work', 'useless', 'people', 'worked', 'give', 'taking'}\n",
      "*********************************************\n",
      "553\n",
      "TABO words:  poor canadian crooks\n",
      "3    poor canadian crooks.\n"
     ]
    },
    {
     "data": {
      "text/html": [
       "<span style='color:red;' >[poor canadian]</span> <span style='color:red;' >[crooks]</span>."
      ],
      "text/plain": [
       "<IPython.core.display.HTML object>"
      ]
     },
     "metadata": {},
     "output_type": "display_data"
    },
    {
     "name": "stdout",
     "output_type": "stream",
     "text": [
      "5 KWS: {'canadian crooks', 'poor canadian', 'crooks', 'poor', 'canadian'}\n",
      "*********************************************\n",
      "554\n",
      "TABO words:  mad\n",
      "7    Please don't go away mad....just go away!\n"
     ]
    },
    {
     "data": {
      "text/html": [
       "Please don't go away mad....just go away!"
      ],
      "text/plain": [
       "<IPython.core.display.HTML object>"
      ]
     },
     "metadata": {},
     "output_type": "display_data"
    },
    {
     "name": "stdout",
     "output_type": "stream",
     "text": [
      "1 KWS: {'mad'}\n",
      "*********************************************\n",
      "555\n",
      "TABO words:  stupidest\n",
      "9    You win, The stupidest comment of the year .\n"
     ]
    },
    {
     "data": {
      "text/html": [
       "You <span style='color:red;' >[win]</span>, The <span style='color:red;' >[stupidest comment]</span> of the <span style='color:red;' >[year]</span> ."
      ],
      "text/plain": [
       "<IPython.core.display.HTML object>"
      ]
     },
     "metadata": {},
     "output_type": "display_data"
    },
    {
     "name": "stdout",
     "output_type": "stream",
     "text": [
      "5 KWS: {'comment', 'stupidest comment', 'win', 'stupidest', 'year'}\n",
      "*********************************************\n",
      "556\n",
      "TABO words:  stupid because they are Russians\n",
      "52    Yeah, pretty stupid black&white picture of the world, it's characteristic for autistic children. \"We are good and very smart... because we are western people. Russians are evil and blind.... because they are Russians\". Your imagination is the only fakes of the Western media - you live in a dream world.\n",
      "Wake up.\n"
     ]
    },
    {
     "data": {
      "text/html": [
       "<span style='color:red;' >[yeah]</span>, <span style='color:red;' >[pretty stupid]</span> black&white <span style='color:red;' >[picture]</span> of the <span style='color:red;' >[world]</span>, it's <span style='color:red;' >[characteristic]</span> for <span style='color:red;' >[autistic children]</span>. \"We are good and very <span style='color:red;' >[smart]</span>... because we are <span style='color:red;' >[western]</span> people. <span style='color:red;' >[russians]</span> are evil and blind.... because they are <span style='color:red;' >[russians]</span>\". Your imagination is the only fakes of the <span style='color:red;' >[western]</span> media - you live in a dream <span style='color:red;' >[world]</span>. Wake up."
      ],
      "text/plain": [
       "<IPython.core.display.HTML object>"
      ]
     },
     "metadata": {},
     "output_type": "display_data"
    },
    {
     "name": "stdout",
     "output_type": "stream",
     "text": [
      "20 KWS: {'western media', 'pretty stupid', 'autistic', 'western people', 'dream world', 'russians', 'children', 'picture', 'stupid black', 'black', 'western', 'smart', 'white', 'world', 'autistic children', 'yeah', 'pretty', 'stupid', 'white picture', 'characteristic'}\n",
      "*********************************************\n",
      "557\n",
      "TABO words:  stupidity\n",
      "74    Seems like your'e the one always bitching about the results of a hurtful Gmt.  Seems like only yesterday you said.\n",
      "\n",
      "\"public office seats who created the homeless problem in the '60s and decade after decade have ignored their mess at best and actually made it far worse. now we have the epitome of stupidity in completely criminalizing those suffering from this corruption.\"\n",
      "\n",
      "Sure is bizarre but don't let that stop you it never has.\n"
     ]
    },
    {
     "data": {
      "text/html": [
       "Seems like <span style='color:red;' >[your'e]</span> the one always <span style='color:red;' >[bitching]</span> about the <span style='color:red;' >[results]</span> of a <span style='color:red;' >[hurtful gmt]</span>.  Seems like only <span style='color:red;' >[yesterday]</span> you said. <span style='color:red;' >[public]</span> \"<span style='color:red;' >[public office]</span> <span style='color:red;' >[seats]</span> who <span style='color:red;' >[created]</span> the <span style='color:red;' >[homeless problem]</span> in the '60s and <span style='color:red;' >[decade]</span> after <span style='color:red;' >[decade]</span> have ignored their mess at best and actually made it far <span style='color:red;' >[worse]</span>. now we have the epitome of stupidity in <span style='color:red;' >[completely criminalizing]</span> those suffering from this <span style='color:red;' >[corruption]</span>.\"  Sure is bizarre but don't let that stop you it never has."
      ],
      "text/plain": [
       "<IPython.core.display.HTML object>"
      ]
     },
     "metadata": {},
     "output_type": "display_data"
    },
    {
     "name": "stdout",
     "output_type": "stream",
     "text": [
      "20 KWS: {'problem', 'decade', 'yesterday', 'created', 'completely criminalizing', 'worse', 'results', 'bitching', 'corruption', 'hurtful', 'office', 'homeless problem', 'public', 'homeless', \"your'e\", 'public office', 'hurtful gmt', 'seats', 'office seats', 'gmt'}\n",
      "*********************************************\n",
      "558\n",
      "TABO words:  illegitimate useless b*stards\n",
      "51    I'd make this fantastic woman president tomorrow. Or Lindiwe Sisulu for that matter.\n",
      "\n",
      "And when she says \"They said they are going ahead with charging me, irrespective of the fact that they are illegitimate\" all I would add is that yes, that's true they are a total bunch of useless b*stards.....\n"
     ]
    },
    {
     "data": {
      "text/html": [
       "I'd <span style='color:red;' >[make]</span> this <span style='color:red;' >[fantastic woman]</span> <span style='color:red;' >[president tomorrow]</span>. Or <span style='color:red;' >[lindiwe sisulu]</span> for that <span style='color:red;' >[matter]</span>.  And when she says \"They said they are going <span style='color:red;' >[ahead]</span> with <span style='color:red;' >[charging]</span> me, <span style='color:red;' >[irrespective]</span> of the <span style='color:red;' >[fact]</span> that they are <span style='color:red;' >[illegitimate]</span>\" all I would <span style='color:red;' >[add]</span> is that yes, that's true they are a <span style='color:red;' >[total bunch]</span> of useless b*stards....."
      ],
      "text/plain": [
       "<IPython.core.display.HTML object>"
      ]
     },
     "metadata": {},
     "output_type": "display_data"
    },
    {
     "name": "stdout",
     "output_type": "stream",
     "text": [
      "20 KWS: {'stards', 'matter', 'tomorrow', 'woman president', 'woman', 'charging', 'sisulu', 'irrespective', 'total bunch', 'illegitimate', 'fantastic woman', 'president tomorrow', 'fact', 'president', 'ahead', 'fantastic', 'add', 'make', 'lindiwe sisulu', 'lindiwe'}\n",
      "*********************************************\n",
      "559\n",
      "TABO words:  stupid stupid\n",
      "21    why don't you hold onto your rocks until the final votes are tallied? ya, go mayhem. stupid is as stupid does.\n"
     ]
    },
    {
     "data": {
      "text/html": [
       "why don't you <span style='color:red;' >[hold]</span> onto your <span style='color:red;' >[rocks]</span> until the <span style='color:red;' >[final votes]</span> are <span style='color:red;' >[tallied]</span>? ya, go <span style='color:red;' >[mayhem]</span>. <span style='color:red;' >[stupid]</span> is as <span style='color:red;' >[stupid]</span> does."
      ],
      "text/plain": [
       "<IPython.core.display.HTML object>"
      ]
     },
     "metadata": {},
     "output_type": "display_data"
    },
    {
     "name": "stdout",
     "output_type": "stream",
     "text": [
      "8 KWS: {'mayhem', 'tallied', 'votes', 'hold', 'rocks', 'final', 'stupid', 'final votes'}\n",
      "*********************************************\n",
      "560\n",
      "TABO words:  I can only imagine its idiot\n",
      "103    Funny how the rot at SAA seems to be largely Gupta free (or have I missed it?) I can only imagine its because there is less cash floating around than say Eskom or Transnet, or the idiot enabler (Dudu) didnt do a good enough job and things were nipped in the bud (the aircraft lease and loan enablers fee spring to mind). \n",
      "\n",
      "The paragraph that really sticks in my mind is Same Sole's comment about what the NPA and Hawks should have done from day 1. It proves beyond a doubt that SA is but one drunken step away from a  banana republic.\n"
     ]
    },
    {
     "data": {
      "text/html": [
       "<span style='color:red;' >[funny]</span> how the <span style='color:red;' >[rot]</span> at <span style='color:red;' >[saa]</span> seems to be <span style='color:red;' >[largely]</span> <span style='color:red;' >[gupta free]</span> (or have I <span style='color:red;' >[missed]</span> it?) I can only imagine its because there is less <span style='color:red;' >[cash floating]</span> around than say <span style='color:red;' >[eskom]</span> or <span style='color:red;' >[transnet]</span>, or the <span style='color:red;' >[idiot enabler]</span> (<span style='color:red;' >[dudu]</span>) didnt do a good enough job and things were nipped in the bud (the <span style='color:red;' >[aircraft lease]</span> and <span style='color:red;' >[loan enablers]</span> <span style='color:red;' >[fee spring]</span> to <span style='color:red;' >[mind]</span>).   The paragraph that really sticks in my <span style='color:red;' >[mind]</span> is Same Sole's comment about what the NPA and Hawks should have done from day 1. It proves beyond a doubt that SA is but one drunken step away from a  banana republic."
      ],
      "text/plain": [
       "<IPython.core.display.HTML object>"
      ]
     },
     "metadata": {},
     "output_type": "display_data"
    },
    {
     "name": "stdout",
     "output_type": "stream",
     "text": [
      "20 KWS: {'largely', 'eskom', 'rot', 'fee spring', 'idiot enabler', 'gupta free', 'dudu', 'transnet', 'mind', 'aircraft lease', 'loan enablers', 'missed', 'gupta', 'saa', 'funny', 'free', 'largely gupta', 'sole comment', 'cash floating', 'enablers fee'}\n",
      "*********************************************\n",
      "561\n",
      "TABO words:  idiots\n",
      "21    Amarcas, this guys where cut loose by somebody else, why don't you go after that/those idiots and leave this guy alone?\n"
     ]
    },
    {
     "data": {
      "text/html": [
       "<span style='color:red;' >[amarcas]</span>, this <span style='color:red;' >[guys]</span> where <span style='color:red;' >[cut loose]</span> by somebody else, why don't you go after that/those <span style='color:red;' >[idiots]</span> and <span style='color:red;' >[leave]</span> this <span style='color:red;' >[guy]</span> alone?"
      ],
      "text/plain": [
       "<IPython.core.display.HTML object>"
      ]
     },
     "metadata": {},
     "output_type": "display_data"
    },
    {
     "name": "stdout",
     "output_type": "stream",
     "text": [
      "8 KWS: {'cut', 'amarcas', 'loose', 'guys', 'idiots', 'cut loose', 'guy', 'leave'}\n",
      "*********************************************\n",
      "562\n",
      "TABO words:  stupid\n",
      "22    Roll a vehicle in a neighborhood = drunk, stupid or both. He's one lucky guy. Kudos to the citizens who helped out.\n"
     ]
    },
    {
     "data": {
      "text/html": [
       "<span style='color:red;' >[roll]</span> a <span style='color:red;' >[vehicle]</span> in a <span style='color:red;' >[neighborhood]</span> = <span style='color:red;' >[drunk]</span>, <span style='color:red;' >[stupid]</span> or both. He's one <span style='color:red;' >[lucky guy]</span>. <span style='color:red;' >[kudos]</span> to the <span style='color:red;' >[citizens]</span> who <span style='color:red;' >[helped]</span> out."
      ],
      "text/plain": [
       "<IPython.core.display.HTML object>"
      ]
     },
     "metadata": {},
     "output_type": "display_data"
    },
    {
     "name": "stdout",
     "output_type": "stream",
     "text": [
      "11 KWS: {'lucky guy', 'lucky', 'guy', 'helped', 'vehicle', 'citizens', 'drunk', 'roll', 'neighborhood', 'stupid', 'kudos'}\n",
      "*********************************************\n",
      "563\n",
      "TABO words:  idiot idiots\n",
      "10    ...another idiot quoting idiots in history. You made the day.\n"
     ]
    },
    {
     "data": {
      "text/html": [
       "...another <span style='color:red;' >[idiot quoting]</span> <span style='color:red;' >[idiots]</span> in <span style='color:red;' >[history]</span>. You <span style='color:red;' >[made]</span> the <span style='color:red;' >[day]</span>."
      ],
      "text/plain": [
       "<IPython.core.display.HTML object>"
      ]
     },
     "metadata": {},
     "output_type": "display_data"
    },
    {
     "name": "stdout",
     "output_type": "stream",
     "text": [
      "8 KWS: {'idiot', 'quoting', 'history', 'quoting idiots', 'idiots', 'idiot quoting', 'day', 'made'}\n",
      "*********************************************\n",
      "564\n",
      "TABO words:  idiot\n",
      "32    No \n",
      "............ he is just trying to keep Putin and 'associates' from calling his loans.\n",
      ".\n",
      "Just connect the dots.\n",
      "Who would lend money to a spoiled idiot after 4 bankruptcies ?\n"
     ]
    },
    {
     "data": {
      "text/html": [
       "No  ............ he is just trying to keep <span style='color:red;' >[putin]</span> and <span style='color:red;' >[associates']</span> from <span style='color:red;' >[calling]</span> his <span style='color:red;' >[loans]</span>. . Just <span style='color:red;' >[connect]</span> the <span style='color:red;' >[dots]</span>. Who would <span style='color:red;' >[lend]</span> <span style='color:red;' >[money]</span> to a <span style='color:red;' >[spoiled]</span> <span style='color:red;' >[idiot]</span> after 4 <span style='color:red;' >[bankruptcies]</span> ?"
      ],
      "text/plain": [
       "<IPython.core.display.HTML object>"
      ]
     },
     "metadata": {},
     "output_type": "display_data"
    },
    {
     "name": "stdout",
     "output_type": "stream",
     "text": [
      "13 KWS: {'bankruptcies', 'idiot', 'spoiled idiot', \"associates'\", 'calling', 'money', 'spoiled', 'loans', 'lend', 'putin', 'lend money', 'dots', 'connect'}\n",
      "*********************************************\n",
      "565\n",
      "TABO words:  Fuck you\n",
      "23    Fuck you Loudermilk. The citizens of The United States should have rights to concealed carry. Otherwise, good luck with your weaponless defense strategy.\n"
     ]
    },
    {
     "data": {
      "text/html": [
       "<span style='color:red;' >[fuck]</span> you <span style='color:red;' >[loudermilk]</span>. The <span style='color:red;' >[citizens]</span> of The <span style='color:red;' >[united states]</span> should have rights to <span style='color:red;' >[concealed carry]</span>. Otherwise, <span style='color:red;' >[good luck]</span> with your <span style='color:red;' >[weaponless]</span> <span style='color:red;' >[defense strategy]</span>."
      ],
      "text/plain": [
       "<IPython.core.display.HTML object>"
      ]
     },
     "metadata": {},
     "output_type": "display_data"
    },
    {
     "name": "stdout",
     "output_type": "stream",
     "text": [
      "17 KWS: {'fuck', 'defense strategy', 'carry', 'strategy', 'concealed', 'weaponless defense', 'luck', 'weaponless', 'loudermilk', 'defense', 'citizens', 'good luck', 'good', 'united states', 'united', 'states', 'concealed carry'}\n",
      "*********************************************\n",
      "566\n",
      "TABO words:  RACIST PIG\n",
      "5    HE IS A RACIST PIG\n"
     ]
    },
    {
     "data": {
      "text/html": [
       "HE IS A <span style='color:red;' >[racist pig]</span>"
      ],
      "text/plain": [
       "<IPython.core.display.HTML object>"
      ]
     },
     "metadata": {},
     "output_type": "display_data"
    },
    {
     "name": "stdout",
     "output_type": "stream",
     "text": [
      "3 KWS: {'racist', 'racist pig', 'pig'}\n",
      "*********************************************\n",
      "567\n",
      "TABO words:  lunatic\n",
      "21    is there a single alt left lunatic of hate out there that  isnt posting the usual ignorant hate of trump ,!!\n"
     ]
    },
    {
     "data": {
      "text/html": [
       "is there a <span style='color:red;' >[single alt]</span> <span style='color:red;' >[left lunatic]</span> of <span style='color:red;' >[hate]</span> out there that  <span style='color:red;' >[isnt posting]</span> the <span style='color:red;' >[usual ignorant]</span> <span style='color:red;' >[hate]</span> of <span style='color:red;' >[trump]</span> ,!!"
      ],
      "text/plain": [
       "<IPython.core.display.HTML object>"
      ]
     },
     "metadata": {},
     "output_type": "display_data"
    },
    {
     "name": "stdout",
     "output_type": "stream",
     "text": [
      "16 KWS: {'left', 'alt', 'ignorant', 'trump', 'lunatic', 'posting', 'usual', 'isnt', 'alt left', 'hate', 'single alt', 'isnt posting', 'ignorant hate', 'usual ignorant', 'single', 'left lunatic'}\n",
      "*********************************************\n",
      "568\n",
      "TABO words:  morons\n",
      "32    crisis?  sure\n",
      "\n",
      "but this is also about free choice....so the government has to step in to stop morons for taking chinese fentenyl?\n",
      "\n",
      "so people in BC are extra stupid?  sounds like it\n"
     ]
    },
    {
     "data": {
      "text/html": [
       "<span style='color:red;' >[crisis]</span>?  sure  but this is also about <span style='color:red;' >[free]</span> choice....so the <span style='color:red;' >[government]</span> has to <span style='color:red;' >[step]</span> in to <span style='color:red;' >[stop morons]</span> for <span style='color:red;' >[taking]</span> <span style='color:red;' >[chinese fentenyl]</span>?  so <span style='color:red;' >[people]</span> in BC are <span style='color:red;' >[extra stupid]</span>?  <span style='color:red;' >[sounds]</span> like it"
      ],
      "text/plain": [
       "<IPython.core.display.HTML object>"
      ]
     },
     "metadata": {},
     "output_type": "display_data"
    },
    {
     "name": "stdout",
     "output_type": "stream",
     "text": [
      "19 KWS: {'government', 'stop morons', 'chinese', 'fentenyl', 'free', 'sounds', 'morons', 'choice', 'extra', 'crisis', 'extra stupid', 'chinese fentenyl', 'stop', 'people', 'free choice', 'taking chinese', 'stupid', 'taking', 'step'}\n",
      "*********************************************\n",
      "569\n",
      "TABO words:  stupid\n",
      "22    and a lefty loser makes a stupid point since the pres has the secret service, while the rest of us do not\n"
     ]
    },
    {
     "data": {
      "text/html": [
       "and a <span style='color:red;' >[lefty loser]</span> <span style='color:red;' >[makes]</span> a <span style='color:red;' >[stupid point]</span> since the <span style='color:red;' >[pres]</span> has the <span style='color:red;' >[secret service]</span>, while the <span style='color:red;' >[rest]</span> of us do not"
      ],
      "text/plain": [
       "<IPython.core.display.HTML object>"
      ]
     },
     "metadata": {},
     "output_type": "display_data"
    },
    {
     "name": "stdout",
     "output_type": "stream",
     "text": [
      "13 KWS: {'stupid point', 'secret', 'lefty loser', 'loser makes', 'loser', 'rest', 'service', 'pres', 'makes', 'secret service', 'point', 'stupid', 'lefty'}\n",
      "*********************************************\n",
      "570\n",
      "TABO words:  jerk jerk deliver true justice\n",
      "39    This isn't the last we'll hear of this jerk. Remember, there are still contraband charges out there. Plus, you all know this jerk will act up in prison and da local braddahs will deliver true justice. TRUE . JUSTICE.\n"
     ]
    },
    {
     "data": {
      "text/html": [
       "This isn't the last we'll <span style='color:red;' >[hear]</span> of this <span style='color:red;' >[jerk]</span>. <span style='color:red;' >[remember]</span>, there are still <span style='color:red;' >[contraband charges]</span> out there. Plus, you all know this <span style='color:red;' >[jerk]</span> will <span style='color:red;' >[act]</span> up in <span style='color:red;' >[prison]</span> and da <span style='color:red;' >[local braddahs]</span> will <span style='color:red;' >[deliver]</span> <span style='color:red;' >[true]</span> <span style='color:red;' >[justice]</span>. <span style='color:red;' >[true]</span> . <span style='color:red;' >[justice]</span>."
      ],
      "text/plain": [
       "<IPython.core.display.HTML object>"
      ]
     },
     "metadata": {},
     "output_type": "display_data"
    },
    {
     "name": "stdout",
     "output_type": "stream",
     "text": [
      "16 KWS: {'hear', 'deliver true', 'true', 'braddahs', 'jerk', 'true justice', 'prison', 'local braddahs', 'contraband charges', 'local', 'contraband', 'justice', 'deliver', 'remember', 'charges', 'act'}\n",
      "*********************************************\n",
      "571\n",
      "TABO words:  ridiculous Idiots\n",
      "41    Instead of notifying the public through the Star Advertiser with a days notice of upcoming hearings, why not include in the ridiculous  news letter that is part of the monthly bill.  Wouldn't that be more Fair?  Nah, that's  too easy!  Idiots!\n"
     ]
    },
    {
     "data": {
      "text/html": [
       "Instead of <span style='color:red;' >[notifying]</span> the <span style='color:red;' >[public]</span> through the <span style='color:red;' >[star advertiser]</span> with a <span style='color:red;' >[days notice]</span> of <span style='color:red;' >[upcoming hearings]</span>, why not <span style='color:red;' >[include]</span> in the <span style='color:red;' >[ridiculous]</span>  news <span style='color:red;' >[letter]</span> that is <span style='color:red;' >[part]</span> of the <span style='color:red;' >[monthly bill]</span>.  Wouldn't that be more <span style='color:red;' >[fair]</span>?  <span style='color:red;' >[nah]</span>, that's  too easy!  Idiots!"
      ],
      "text/plain": [
       "<IPython.core.display.HTML object>"
      ]
     },
     "metadata": {},
     "output_type": "display_data"
    },
    {
     "name": "stdout",
     "output_type": "stream",
     "text": [
      "20 KWS: {'days', 'notice', 'nah', 'monthly', 'upcoming hearings', 'notifying', 'part', 'public', 'star', 'monthly bill', 'star advertiser', 'bill', 'upcoming', 'ridiculous', 'fair', 'letter', 'include', 'days notice', 'advertiser', 'hearings'}\n",
      "*********************************************\n",
      "572\n",
      "TABO words:  morons attempting\n",
      "21    People are morons, this is the media attempting, along with whom I said above, to discredit Trump, this is VERY predictable.\n"
     ]
    },
    {
     "data": {
      "text/html": [
       "<span style='color:red;' >[people]</span> are <span style='color:red;' >[morons]</span>, this is the <span style='color:red;' >[media attempting]</span>, along with whom I said above, to <span style='color:red;' >[discredit trump]</span>, this is VERY <span style='color:red;' >[predictable]</span>."
      ],
      "text/plain": [
       "<IPython.core.display.HTML object>"
      ]
     },
     "metadata": {},
     "output_type": "display_data"
    },
    {
     "name": "stdout",
     "output_type": "stream",
     "text": [
      "9 KWS: {'discredit', 'discredit trump', 'morons', 'trump', 'predictable', 'attempting', 'media', 'people', 'media attempting'}\n",
      "*********************************************\n",
      "573\n",
      "TABO words:  hypocrites\n",
      "30    Speaking of lucrative business involving Russia, how much did Clinton get for selling America's strategic uranium to Russia?  Gosh, those darn facts always show libs are a bunch of hypocrites.\n"
     ]
    },
    {
     "data": {
      "text/html": [
       "<span style='color:red;' >[speaking]</span> of <span style='color:red;' >[lucrative business]</span> <span style='color:red;' >[involving russia]</span>, how much did <span style='color:red;' >[clinton]</span> get for <span style='color:red;' >[selling]</span> America's <span style='color:red;' >[strategic uranium]</span> to <span style='color:red;' >[russia]</span>?  <span style='color:red;' >[gosh]</span>, those <span style='color:red;' >[darn facts]</span> always <span style='color:red;' >[show libs]</span> are a bunch of <span style='color:red;' >[hypocrites]</span>."
      ],
      "text/plain": [
       "<IPython.core.display.HTML object>"
      ]
     },
     "metadata": {},
     "output_type": "display_data"
    },
    {
     "name": "stdout",
     "output_type": "stream",
     "text": [
      "20 KWS: {'speaking', 'business', 'lucrative', 'business involving', 'selling america', 'america strategic', 'uranium', 'gosh', 'involving', 'america', 'darn facts', 'russia', 'selling', 'strategic', 'show libs', 'involving russia', 'strategic uranium', 'lucrative business', 'clinton', 'hypocrites'}\n",
      "*********************************************\n",
      "574\n",
      "TABO words:  ignorant stupidity nonsense\n",
      "48    my god you ignorant left wingers will live in complete stupidity every day with such nonsense.  it was obama that didnt care for people only his legacy when he made insurance so unafordable those millions he added could never use the insurance given the out of site deductables\n"
     ]
    },
    {
     "data": {
      "text/html": [
       "my <span style='color:red;' >[god]</span> you <span style='color:red;' >[ignorant left]</span> <span style='color:red;' >[wingers]</span> will <span style='color:red;' >[live]</span> in <span style='color:red;' >[complete stupidity]</span> every <span style='color:red;' >[day]</span> with such <span style='color:red;' >[nonsense]</span>.  it was <span style='color:red;' >[obama]</span> that <span style='color:red;' >[didnt care]</span> for people only his legacy when he made <span style='color:red;' >[insurance]</span> so unafordable those millions he added could never use the <span style='color:red;' >[insurance]</span> given the out of <span style='color:red;' >[site deductables]</span>"
      ],
      "text/plain": [
       "<IPython.core.display.HTML object>"
      ]
     },
     "metadata": {},
     "output_type": "display_data"
    },
    {
     "name": "stdout",
     "output_type": "stream",
     "text": [
      "20 KWS: {'left', 'didnt care', 'site deductables', 'live', 'care', 'ignorant', 'nonsense', 'complete', 'made insurance', 'ignorant left', 'god', 'wingers', 'deductables', 'left wingers', 'complete stupidity', 'insurance', 'didnt', 'day', 'obama', 'stupidity'}\n",
      "*********************************************\n",
      "575\n",
      "TABO words: \n",
      "12    So bad mouthing minorities now , eh?\n",
      "You dems are such hypocrites.\n"
     ]
    },
    {
     "data": {
      "text/html": [
       "So <span style='color:red;' >[bad mouthing]</span> <span style='color:red;' >[minorities]</span> now , eh? You <span style='color:red;' >[dems]</span> are such <span style='color:red;' >[hypocrites]</span>."
      ],
      "text/plain": [
       "<IPython.core.display.HTML object>"
      ]
     },
     "metadata": {},
     "output_type": "display_data"
    },
    {
     "name": "stdout",
     "output_type": "stream",
     "text": [
      "7 KWS: {'mouthing minorities', 'dems', 'mouthing', 'bad', 'hypocrites', 'bad mouthing', 'minorities'}\n",
      "*********************************************\n",
      "576\n",
      "TABO words:  coward\n",
      "56    You are well aware that 90% of Catalans voted for Independence.\n",
      "\n",
      "If you didn’t vote, it’s your own fault and no one cares what you think because you are a coward.\n",
      "\n",
      "Suspect if 99.9% had voted for Independence, you would still be asking, “What about the 0.1%?”\n",
      "\n",
      "Congrats to the Free and Independent Republic of Catalonia\n"
     ]
    },
    {
     "data": {
      "text/html": [
       "You are well <span style='color:red;' >[aware]</span> that 90% of <span style='color:red;' >[catalans voted]</span> for <span style='color:red;' >[independence]</span>.  If you didn’t <span style='color:red;' >[vote]</span>, it’s your own <span style='color:red;' >[fault]</span> and no one <span style='color:red;' >[cares]</span> what you think because you are a <span style='color:red;' >[coward]</span>.  <span style='color:red;' >[suspect]</span> if 99.9% had <span style='color:red;' >[voted]</span> for <span style='color:red;' >[independence]</span>, you would still be asking, “What about the 0.1%?”  <span style='color:red;' >[congrats]</span> to the <span style='color:red;' >[free]</span> and <span style='color:red;' >[independent republic]</span> of <span style='color:red;' >[catalonia]</span>"
      ],
      "text/plain": [
       "<IPython.core.display.HTML object>"
      ]
     },
     "metadata": {},
     "output_type": "display_data"
    },
    {
     "name": "stdout",
     "output_type": "stream",
     "text": [
      "18 KWS: {'coward', 'cares', 'catalans', 'republic', 'voted', 'independent republic', 'free', 'catalans voted', 'fault', 'suspect', 'congrats', 'catalonia', 'n’t vote', 'vote', 'n’t', 'independence', 'aware', 'independent'}\n",
      "*********************************************\n",
      "577\n",
      "TABO words:  moron\n",
      "7    They are Dem's moron.  So is Walker.\n"
     ]
    },
    {
     "data": {
      "text/html": [
       "They are Dem's <span style='color:red;' >[moron]</span>.  So is <span style='color:red;' >[walker]</span>."
      ],
      "text/plain": [
       "<IPython.core.display.HTML object>"
      ]
     },
     "metadata": {},
     "output_type": "display_data"
    },
    {
     "name": "stdout",
     "output_type": "stream",
     "text": [
      "4 KWS: {'dem', 'moron', 'dem moron', 'walker'}\n",
      "*********************************************\n",
      "578\n",
      "TABO words:  terrible the thug and racist in chief Obama\n",
      "31    Great choice.  Trump has assembled a team of all-stars.  America is in for a great eight years after these terrible last eight led by the thug and racist in chief Obama.\n"
     ]
    },
    {
     "data": {
      "text/html": [
       "<span style='color:red;' >[great choice]</span>.  <span style='color:red;' >[trump]</span> has <span style='color:red;' >[assembled]</span> a <span style='color:red;' >[team]</span> of <span style='color:red;' >[all-stars]</span>.  <span style='color:red;' >[america]</span> is in for a <span style='color:red;' >[great]</span> eight <span style='color:red;' >[years]</span> after these <span style='color:red;' >[terrible]</span> last eight <span style='color:red;' >[led]</span> by the <span style='color:red;' >[thug]</span> and <span style='color:red;' >[racist]</span> in <span style='color:red;' >[chief obama]</span>."
      ],
      "text/plain": [
       "<IPython.core.display.HTML object>"
      ]
     },
     "metadata": {},
     "output_type": "display_data"
    },
    {
     "name": "stdout",
     "output_type": "stream",
     "text": [
      "16 KWS: {'chief', 'great choice', 'assembled', 'team', 'great', 'chief obama', 'choice', 'trump', 'thug', 'america', 'all-stars', 'terrible', 'years', 'racist', 'led', 'obama'}\n",
      "*********************************************\n",
      "579\n",
      "TABO words:  damn it's time to kill\n",
      "34    a person can only take so much, and when irresponsible neighbors let their damn cats run lose destroying your property, it's time to kill the cat before you kill the puke for a neighbor/\n"
     ]
    },
    {
     "data": {
      "text/html": [
       "a <span style='color:red;' >[person]</span> can only take so much, and when <span style='color:red;' >[irresponsible neighbors]</span> let their <span style='color:red;' >[damn cats]</span> <span style='color:red;' >[run lose]</span> <span style='color:red;' >[destroying]</span> your <span style='color:red;' >[property]</span>, it's <span style='color:red;' >[time]</span> to <span style='color:red;' >[kill]</span> the <span style='color:red;' >[cat]</span> before you <span style='color:red;' >[kill]</span> the <span style='color:red;' >[puke]</span> for a neighbor/"
      ],
      "text/plain": [
       "<IPython.core.display.HTML object>"
      ]
     },
     "metadata": {},
     "output_type": "display_data"
    },
    {
     "name": "stdout",
     "output_type": "stream",
     "text": [
      "19 KWS: {'puke', 'neighbors', 'cats', 'lose', 'kill', 'run', 'irresponsible', 'destroying', 'property', 'damn', 'damn cats', 'lose destroying', 'irresponsible neighbors', 'cats run', 'neighbor', 'person', 'run lose', 'cat', 'time'}\n",
      "*********************************************\n",
      "580\n",
      "TABO words:  Stupid\n",
      "7    Stupid outsiders. Stay out of the woods!\n"
     ]
    },
    {
     "data": {
      "text/html": [
       "<span style='color:red;' >[stupid outsiders]</span>. <span style='color:red;' >[stay]</span> out of the <span style='color:red;' >[woods]</span>!"
      ],
      "text/plain": [
       "<IPython.core.display.HTML object>"
      ]
     },
     "metadata": {},
     "output_type": "display_data"
    },
    {
     "name": "stdout",
     "output_type": "stream",
     "text": [
      "5 KWS: {'stay', 'woods', 'outsiders', 'stupid outsiders', 'stupid'}\n",
      "*********************************************\n",
      "581\n",
      "TABO words:  troll\n",
      "8    Block this troll. Had enough of this poser\n"
     ]
    },
    {
     "data": {
      "text/html": [
       "<span style='color:red;' >[block]</span> this <span style='color:red;' >[troll]</span>. Had enough of this <span style='color:red;' >[poser]</span>"
      ],
      "text/plain": [
       "<IPython.core.display.HTML object>"
      ]
     },
     "metadata": {},
     "output_type": "display_data"
    },
    {
     "name": "stdout",
     "output_type": "stream",
     "text": [
      "3 KWS: {'troll', 'poser', 'block'}\n",
      "*********************************************\n",
      "582\n",
      "TABO words:  stupid\n",
      "11    Conservatives only. . .stop having kids. Wouldn't want any more orange-is-the-new-stupid.\n"
     ]
    },
    {
     "data": {
      "text/html": [
       "<span style='color:red;' >[conservatives]</span> only. <span style='color:red;' >[stop]</span>.<span style='color:red;' >[stop]</span> .<span style='color:red;' >[stop]</span> having <span style='color:red;' >[kids]</span>. Wouldn't want any more orange-is-the-new-stupid."
      ],
      "text/plain": [
       "<IPython.core.display.HTML object>"
      ]
     },
     "metadata": {},
     "output_type": "display_data"
    },
    {
     "name": "stdout",
     "output_type": "stream",
     "text": [
      "3 KWS: {'conservatives', 'stop', 'kids'}\n",
      "*********************************************\n",
      "583\n",
      "TABO words:  patsy\n",
      "38    If I was in the press corp I would ask Trump if he felt that he was being treated like a patsy by the Russians. He has never given a plausible reason for being so fauning towards them.\n"
     ]
    },
    {
     "data": {
      "text/html": [
       "If I was in the <span style='color:red;' >[press corp]</span> I would ask <span style='color:red;' >[trump]</span> if he <span style='color:red;' >[felt]</span> that he was being <span style='color:red;' >[treated]</span> like a <span style='color:red;' >[patsy]</span> by the <span style='color:red;' >[russians]</span>. He has never given a <span style='color:red;' >[plausible reason]</span> for being so <span style='color:red;' >[fauning]</span> towards them."
      ],
      "text/plain": [
       "<IPython.core.display.HTML object>"
      ]
     },
     "metadata": {},
     "output_type": "display_data"
    },
    {
     "name": "stdout",
     "output_type": "stream",
     "text": [
      "12 KWS: {'corp', 'reason', 'press corp', 'plausible reason', 'russians', 'trump', 'fauning', 'felt', 'treated', 'press', 'plausible', 'patsy'}\n",
      "*********************************************\n",
      "584\n",
      "TABO words:  malignant narcissist stupidity\n",
      "50    The only \"vile enemy\" the country has to be concerned with is Trump, a malignant narcissist who, in his delusional \"infinite wisdom\", acts as if stupidity is a virtue. If we want to prevent him turning this country into Trumpistan, get him out of office and Make America Great Again.\n"
     ]
    },
    {
     "data": {
      "text/html": [
       "The only \"<span style='color:red;' >[vile enemy]</span>\" the <span style='color:red;' >[country]</span> has to be <span style='color:red;' >[concerned]</span> with is <span style='color:red;' >[trump]</span>, a <span style='color:red;' >[malignant narcissist]</span> who, in his <span style='color:red;' >[delusional]</span> \"<span style='color:red;' >[infinite wisdom]</span>\", <span style='color:red;' >[acts]</span> as if <span style='color:red;' >[stupidity]</span> is a <span style='color:red;' >[virtue]</span>. If we want to prevent him turning this <span style='color:red;' >[country]</span> into <span style='color:red;' >[trumpistan]</span>, get him out of office and <span style='color:red;' >[make america]</span> Great Again."
      ],
      "text/plain": [
       "<IPython.core.display.HTML object>"
      ]
     },
     "metadata": {},
     "output_type": "display_data"
    },
    {
     "name": "stdout",
     "output_type": "stream",
     "text": [
      "20 KWS: {'trumpistan', 'country', 'narcissist', 'make america', 'vile', 'delusional', 'concerned', 'infinite', 'trump', 'virtue', 'enemy', 'malignant', 'infinite wisdom', 'malignant narcissist', 'wisdom', 'acts', 'make', 'america great', 'vile enemy', 'stupidity'}\n",
      "*********************************************\n",
      "585\n",
      "TABO words:  True to form, a real clown show full of buffoons\n",
      "61    Right after Trump blamed Schumer, White House press secretary Sarah Huckabee Sanders said that Donald Trump had not personally blamed Sen. Chuck Schumer (D-NY) for the terrorist attack Tuesday in New York City.\n",
      "\n",
      "Trump does it, his press people say he didn't, then he will come back and do it again.\n",
      "\n",
      "True to form, a real clown show full of buffoons.\n"
     ]
    },
    {
     "data": {
      "text/html": [
       "Right after Trump <span style='color:red;' >[blamed schumer]</span>, <span style='color:red;' >[white house]</span> press secretary <span style='color:red;' >[sarah huckabee]</span> <span style='color:red;' >[sanders]</span> said that <span style='color:red;' >[donald trump]</span> had not personally <span style='color:red;' >[blamed sen]</span>. <span style='color:red;' >[chuck schumer]</span> (D-NY) for the terrorist attack Tuesday in New <span style='color:red;' >[york city]</span>.  Trump does it, his press people say he didn't, then he will come back and do it again.  True to form, a real clown show full of buffoons."
      ],
      "text/plain": [
       "<IPython.core.display.HTML object>"
      ]
     },
     "metadata": {},
     "output_type": "display_data"
    },
    {
     "name": "stdout",
     "output_type": "stream",
     "text": [
      "20 KWS: {'sarah', 'donald', 'trump blamed', 'white house', 'donald trump', 'sarah huckabee', 'blamed schumer', 'huckabee', 'house', 'white', 'personally blamed', 'schumer', 'secretary sarah', 'blamed sen', 'york city', 'sen', 'sanders', 'huckabee sanders', 'house press', 'chuck schumer'}\n",
      "*********************************************\n",
      "586\n",
      "TABO words:  partner's sexuality ridiculous\n",
      "21    Her or her partner's sexuality has absolutely nothing to do with this issue. Neither does gay marriage. Don't be so ridiculous.\n"
     ]
    },
    {
     "data": {
      "text/html": [
       "Her or her partner's <span style='color:red;' >[sexuality]</span> has <span style='color:red;' >[absolutely]</span> nothing to do with this <span style='color:red;' >[issue]</span>. Neither does <span style='color:red;' >[gay marriage]</span>. Don't be so <span style='color:red;' >[ridiculous]</span>."
      ],
      "text/plain": [
       "<IPython.core.display.HTML object>"
      ]
     },
     "metadata": {},
     "output_type": "display_data"
    },
    {
     "name": "stdout",
     "output_type": "stream",
     "text": [
      "9 KWS: {'absolutely', 'partner', 'marriage', 'issue', 'gay marriage', 'gay', 'ridiculous', 'partner sexuality', 'sexuality'}\n",
      "*********************************************\n",
      "587\n",
      "TABO words:  idiot\n",
      "14    Lisa always has been an idiot. Dont forget that Daddy gave her the job.\n"
     ]
    },
    {
     "data": {
      "text/html": [
       "<span style='color:red;' >[lisa]</span> always has been an <span style='color:red;' >[idiot]</span>. <span style='color:red;' >[dont forget]</span> that <span style='color:red;' >[daddy gave]</span> her the <span style='color:red;' >[job]</span>."
      ],
      "text/plain": [
       "<IPython.core.display.HTML object>"
      ]
     },
     "metadata": {},
     "output_type": "display_data"
    },
    {
     "name": "stdout",
     "output_type": "stream",
     "text": [
      "9 KWS: {'lisa', 'idiot', 'forget', 'daddy gave', 'dont forget', 'job', 'dont', 'gave', 'daddy'}\n",
      "*********************************************\n",
      "588\n",
      "TABO words:  idiot\n",
      "4    You are an idiot.\n"
     ]
    },
    {
     "data": {
      "text/html": [
       "You are an <span style='color:red;' >[idiot]</span>."
      ],
      "text/plain": [
       "<IPython.core.display.HTML object>"
      ]
     },
     "metadata": {},
     "output_type": "display_data"
    },
    {
     "name": "stdout",
     "output_type": "stream",
     "text": [
      "1 KWS: {'idiot'}\n",
      "*********************************************\n",
      "589\n",
      "TABO words:  stupid\n",
      "25    Your just a special kind of stupid aren't you , or subtly making fun of the Trump turnips . If it's the latter please continue\n"
     ]
    },
    {
     "data": {
      "text/html": [
       "Your just a <span style='color:red;' >[special kind]</span> of <span style='color:red;' >[stupid]</span> aren't you , or <span style='color:red;' >[subtly making]</span> <span style='color:red;' >[fun]</span> of the <span style='color:red;' >[trump turnips]</span> . If it's the latter please <span style='color:red;' >[continue]</span>"
      ],
      "text/plain": [
       "<IPython.core.display.HTML object>"
      ]
     },
     "metadata": {},
     "output_type": "display_data"
    },
    {
     "name": "stdout",
     "output_type": "stream",
     "text": [
      "13 KWS: {'special', 'subtly making', 'making fun', 'subtly', 'trump', 'special kind', 'making', 'fun', 'kind', 'trump turnips', 'continue', 'turnips', 'stupid'}\n",
      "*********************************************\n",
      "590\n",
      "TABO words: \n",
      "21    you are as ignorant as usual, its the PRICE you idiot, and electric is always much more costly to heat with\n"
     ]
    },
    {
     "data": {
      "text/html": [
       "you are as <span style='color:red;' >[ignorant]</span> as <span style='color:red;' >[usual]</span>, its the <span style='color:red;' >[price]</span> you <span style='color:red;' >[idiot]</span>, and <span style='color:red;' >[electric]</span> is always much more <span style='color:red;' >[costly]</span> to <span style='color:red;' >[heat]</span> with"
      ],
      "text/plain": [
       "<IPython.core.display.HTML object>"
      ]
     },
     "metadata": {},
     "output_type": "display_data"
    },
    {
     "name": "stdout",
     "output_type": "stream",
     "text": [
      "7 KWS: {'idiot', 'ignorant', 'usual', 'heat', 'costly', 'price', 'electric'}\n",
      "*********************************************\n",
      "591\n",
      "TABO words:  crap idiot\n",
      "29    der trumpf initiated this crap.....now he turns around as if he had nothing to do with it.....except criticize a program that helps people......time for this insane idiot to go!\n"
     ]
    },
    {
     "data": {
      "text/html": [
       "<span style='color:red;' >[der trumpf]</span> <span style='color:red;' >[initiated]</span> this crap.....now he <span style='color:red;' >[turns]</span> around as if he had nothing to do with it.....except <span style='color:red;' >[criticize]</span> a <span style='color:red;' >[program]</span> that helps people......time for this <span style='color:red;' >[insane idiot]</span> to go!"
      ],
      "text/plain": [
       "<IPython.core.display.HTML object>"
      ]
     },
     "metadata": {},
     "output_type": "display_data"
    },
    {
     "name": "stdout",
     "output_type": "stream",
     "text": [
      "14 KWS: {'idiot', 'initiated', 'der trumpf', 'criticize', 'insane', 'trumpf', 'crap', 'turns', 'der', 'program', 'people', 'trumpf initiated', 'insane idiot', 'time'}\n",
      "*********************************************\n",
      "592\n",
      "TABO words:  hypocrite racist\n",
      "19    Says the hypocrite who STILL refuses to denounce a disgusting racist, or the Dems who reelected him 8 times.\n"
     ]
    },
    {
     "data": {
      "text/html": [
       "Says the <span style='color:red;' >[hypocrite]</span> who STILL <span style='color:red;' >[refuses]</span> to <span style='color:red;' >[denounce]</span> a <span style='color:red;' >[disgusting racist]</span>, or the <span style='color:red;' >[dems]</span> who <span style='color:red;' >[reelected]</span> him 8 <span style='color:red;' >[times]</span>."
      ],
      "text/plain": [
       "<IPython.core.display.HTML object>"
      ]
     },
     "metadata": {},
     "output_type": "display_data"
    },
    {
     "name": "stdout",
     "output_type": "stream",
     "text": [
      "9 KWS: {'disgusting', 'hypocrite', 'disgusting racist', 'denounce', 'refuses', 'reelected', 'racist', 'dems', 'times'}\n",
      "*********************************************\n",
      "593\n",
      "TABO words:  stupid\n",
      "88    I have a theory why people are so stupid in these days. For about 30 years the government instructed people to cut out fat from our diet. Replace it with Carbs. Sugar. The population has gotten sicker and fatter. But also more stupid.\n",
      "So here it is. The brain is basically fat and protein. Exacly what most people don't eat anymore. So if they don't eat what the brain needs it can not develop.\n",
      "There it is I got the problem figured out. Eat more Moose and Salmon.\n"
     ]
    },
    {
     "data": {
      "text/html": [
       "I have a <span style='color:red;' >[theory]</span> why <span style='color:red;' >[people]</span> are so <span style='color:red;' >[stupid]</span> in these <span style='color:red;' >[days]</span>. For about 30 <span style='color:red;' >[years]</span> the <span style='color:red;' >[government]</span> <span style='color:red;' >[instructed]</span> <span style='color:red;' >[people]</span> to <span style='color:red;' >[cut]</span> out <span style='color:red;' >[fat]</span> from our <span style='color:red;' >[diet]</span>. <span style='color:red;' >[replace]</span> it with <span style='color:red;' >[carbs]</span>. <span style='color:red;' >[sugar]</span>. The population has gotten sicker and <span style='color:red;' >[fatter]</span>. But also more <span style='color:red;' >[stupid]</span>. So here it is. The <span style='color:red;' >[brain]</span> is basically <span style='color:red;' >[fat]</span> and protein. Exacly what most <span style='color:red;' >[people]</span> don't <span style='color:red;' >[eat]</span> anymore. So if they don't <span style='color:red;' >[eat]</span> what the <span style='color:red;' >[brain]</span> needs it can not develop. There it is I got the problem figured out. <span style='color:red;' >[eat]</span> more <span style='color:red;' >[moose]</span> and <span style='color:red;' >[salmon]</span>."
      ],
      "text/plain": [
       "<IPython.core.display.HTML object>"
      ]
     },
     "metadata": {},
     "output_type": "display_data"
    },
    {
     "name": "stdout",
     "output_type": "stream",
     "text": [
      "20 KWS: {'government', 'moose', 'carbs', 'days', 'instructed', 'replace', 'sugar', 'cut', 'instructed people', 'fat', 'government instructed', 'brain', 'salmon', 'years', 'people', 'stupid', 'diet', 'eat', 'theory', 'fatter'}\n",
      "*********************************************\n",
      "594\n",
      "TABO words:  white people hypocrite\n",
      "13    Had to toss in your racist viewpoint by saying \"white people,\" thou hypocrite.\n"
     ]
    },
    {
     "data": {
      "text/html": [
       "Had to <span style='color:red;' >[toss]</span> in your <span style='color:red;' >[racist viewpoint]</span> by saying \"<span style='color:red;' >[white people]</span>,\" <span style='color:red;' >[thou hypocrite]</span>."
      ],
      "text/plain": [
       "<IPython.core.display.HTML object>"
      ]
     },
     "metadata": {},
     "output_type": "display_data"
    },
    {
     "name": "stdout",
     "output_type": "stream",
     "text": [
      "10 KWS: {'racist viewpoint', 'hypocrite', 'thou hypocrite', 'white', 'toss', 'white people', 'people', 'racist', 'viewpoint', 'thou'}\n",
      "*********************************************\n",
      "595\n",
      "TABO words:  Trumpnut bullshit\n",
      "20    If that was only the case. Instead, like a typical Trumpnut, all you injected into the conversation was meaningless bullshit.\n"
     ]
    },
    {
     "data": {
      "text/html": [
       "If that was only the <span style='color:red;' >[case]</span>. Instead, like a <span style='color:red;' >[typical trumpnut]</span>, all you <span style='color:red;' >[injected]</span> into the <span style='color:red;' >[conversation]</span> was <span style='color:red;' >[meaningless bullshit]</span>."
      ],
      "text/plain": [
       "<IPython.core.display.HTML object>"
      ]
     },
     "metadata": {},
     "output_type": "display_data"
    },
    {
     "name": "stdout",
     "output_type": "stream",
     "text": [
      "9 KWS: {'injected', 'case', 'meaningless bullshit', 'conversation', 'typical', 'typical trumpnut', 'meaningless', 'trumpnut', 'bullshit'}\n",
      "*********************************************\n",
      "596\n",
      "TABO words:  idiotic\n",
      "15    Exactly. In 2008, and again in 2012, America's voters could not have been more idiotic.\n"
     ]
    },
    {
     "data": {
      "text/html": [
       "Exactly. In 2008, and again in 2012, America's <span style='color:red;' >[voters]</span> could not have been more <span style='color:red;' >[idiotic]</span>."
      ],
      "text/plain": [
       "<IPython.core.display.HTML object>"
      ]
     },
     "metadata": {},
     "output_type": "display_data"
    },
    {
     "name": "stdout",
     "output_type": "stream",
     "text": [
      "4 KWS: {'america', 'voters', 'idiotic', 'america voters'}\n",
      "*********************************************\n",
      "597\n",
      "TABO words:  fools\n",
      "27    Oh no, Kabooby, it's not the Dems that are \"making us all look like fools\", it's the Trumpnuts who voted for this clown to head our country.\n"
     ]
    },
    {
     "data": {
      "text/html": [
       "Oh no, <span style='color:red;' >[kabooby]</span>, it's not the <span style='color:red;' >[dems]</span> that are \"<span style='color:red;' >[making]</span> us all look like <span style='color:red;' >[fools]</span>\", it's the <span style='color:red;' >[trumpnuts]</span> who <span style='color:red;' >[voted]</span> for this <span style='color:red;' >[clown]</span> to <span style='color:red;' >[head]</span> our <span style='color:red;' >[country]</span>."
      ],
      "text/plain": [
       "<IPython.core.display.HTML object>"
      ]
     },
     "metadata": {},
     "output_type": "display_data"
    },
    {
     "name": "stdout",
     "output_type": "stream",
     "text": [
      "9 KWS: {'country', 'trumpnuts', 'voted', 'clown', 'fools', 'head', 'making', 'dems', 'kabooby'}\n",
      "*********************************************\n",
      "598\n",
      "TABO words:  idiot\n",
      "3    You're an idiot...\n"
     ]
    },
    {
     "data": {
      "text/html": [
       "You're an <span style='color:red;' >[idiot]</span>..."
      ],
      "text/plain": [
       "<IPython.core.display.HTML object>"
      ]
     },
     "metadata": {},
     "output_type": "display_data"
    },
    {
     "name": "stdout",
     "output_type": "stream",
     "text": [
      "1 KWS: {'idiot'}\n",
      "*********************************************\n",
      "599\n",
      "TABO words:  crap\n",
      "60    It will likely be 53K for Justin and Kathleen, actually.  But no matter.   Beats the crap out of the 2500 they will get from CPP........\n",
      "\n",
      "The other thing is that the balance in investments can still grow even as you draw down.\n",
      "\n",
      "And yes, there is a minimum withdrawl each year.  But I think it kicks in at about 71.\n"
     ]
    },
    {
     "data": {
      "text/html": [
       "It will likely be 53K for <span style='color:red;' >[justin]</span> and <span style='color:red;' >[kathleen]</span>, actually.  But no <span style='color:red;' >[matter]</span>.   <span style='color:red;' >[beats]</span> the <span style='color:red;' >[crap]</span> out of the 2500 they will get from <span style='color:red;' >[cpp]</span>........  The other <span style='color:red;' >[thing]</span> is that the <span style='color:red;' >[balance]</span> in <span style='color:red;' >[investments]</span> can still <span style='color:red;' >[grow]</span> even as you <span style='color:red;' >[draw]</span> down.  And yes, there is a <span style='color:red;' >[minimum withdrawl]</span> each <span style='color:red;' >[year]</span>.  But I think it <span style='color:red;' >[kicks]</span> in at about 71."
      ],
      "text/plain": [
       "<IPython.core.display.HTML object>"
      ]
     },
     "metadata": {},
     "output_type": "display_data"
    },
    {
     "name": "stdout",
     "output_type": "stream",
     "text": [
      "16 KWS: {'matter', 'beats', 'thing', 'investments', 'kicks', 'withdrawl', 'minimum withdrawl', 'minimum', 'kathleen', 'justin', 'crap', 'grow', 'draw', 'balance', 'year', 'cpp'}\n",
      "*********************************************\n"
     ]
    }
   ],
   "source": [
    "for i in range(0, 600):\n",
    "    print(i)\n",
    "    displayer(test_texts, test_taboo ,max_ngram_size=2, index=i)\n",
    "    print(\"*********************************************\")"
   ]
  },
  {
   "cell_type": "code",
   "execution_count": 60,
   "metadata": {
    "scrolled": true
   },
   "outputs": [
    {
     "name": "stdout",
     "output_type": "stream",
     "text": [
      "TABO words: Nazi little dirty cowardly\n"
     ]
    },
    {
     "data": {
      "text/html": [
       "When was <span style='color:red;' >nazi</span> <span style='color:red;' >germany</span> <span style='color:red;' >part</span> of <span style='color:red;' >canada</span> <span style='color:red;' >brissy</span>?  The <span style='color:red;' >sad</span> little <span style='color:red;' >fact</span> is that sometimes, sometimes, <span style='color:red;' >evil</span> needs to be <span style='color:red;' >met</span> on its own <span style='color:red;' >turf</span>.  <span style='color:red;' >luckily</span> for some, other <span style='color:red;' >courageous</span> <span style='color:red;' >people</span> often <span style='color:red;' >offer</span> to do the <span style='color:red;' >dirty</span> <span style='color:red;' >work</span> for the <span style='color:red;' >cowardly</span>."
      ],
      "text/plain": [
       "<IPython.core.display.HTML object>"
      ]
     },
     "metadata": {},
     "output_type": "display_data"
    },
    {
     "name": "stdout",
     "output_type": "stream",
     "text": [
      "Keywords: 17\n",
      "[('brissy', 0.05899937629682816), ('nazi', 0.08010561870176523), ('germany', 0.08010561870176523), ('canada', 0.08010561870176523), ('part', 0.16383273847958243), ('evil', 0.3033846052649951), ('turf', 0.3033846052649951), ('luckily', 0.3881970960906714), ('cowardly', 0.3881970960906714), ('sad', 0.4049347717850166), ('fact', 0.4049347717850166), ('met', 0.4049347717850166), ('courageous', 0.49784754196738834), ('people', 0.49784754196738834), ('offer', 0.49784754196738834), ('dirty', 0.49784754196738834), ('work', 0.49784754196738834)]\n",
      "*********************************************\n",
      "TABO words: Stupid idiotic\n"
     ]
    },
    {
     "data": {
      "text/html": [
       "<span style='color:red;' >stupid</span> <span style='color:red;' >idiotic</span> <span style='color:red;' >environmental</span> <span style='color:red;' >alarmist</span>.  News to you obviously.  One of <span style='color:red;' >hundreds</span> of <span style='color:red;' >posts</span>.    http://www.salon.com/2006/03/22/peakoil/"
      ],
      "text/plain": [
       "<IPython.core.display.HTML object>"
      ]
     },
     "metadata": {},
     "output_type": "display_data"
    },
    {
     "name": "stdout",
     "output_type": "stream",
     "text": [
      "Keywords: 6\n",
      "[('stupid', 0.1447773057422032), ('alarmist', 0.1447773057422032), ('idiotic', 0.23133275159292982), ('environmental', 0.23133275159292982), ('posts', 0.4613789858464135), ('hundreds', 0.6036200563782421)]\n",
      "*********************************************\n",
      "TABO words: sucker shooting sucker\n"
     ]
    },
    {
     "data": {
      "text/html": [
       "Less than six <span style='color:red;' >months</span> into his <span style='color:red;' >presidency</span>, it's <span style='color:red;' >clear</span> that <span style='color:red;' >trump</span> is <span style='color:red;' >unfit</span> for <span style='color:red;' >office</span>.  “There is a <span style='color:red;' >sucker</span> <span style='color:red;' >born</span> every <span style='color:red;' >minute</span> Each <span style='color:red;' >time</span> the second <span style='color:red;' >hand</span> <span style='color:red;' >sweeps</span> to the <span style='color:red;' >top</span> Like <span style='color:red;' >dandelions</span> up they <span style='color:red;' >pop</span>, Their ears so <span style='color:red;' >big</span>, their eyes so <span style='color:red;' >wide</span>. And though I <span style='color:red;' >feed</span> ‘em bona fide <span style='color:red;' >baloney</span> With no truth in it Why you can bet I’ll find some rube to buy my <span style='color:red;' >corn</span>. ‘Cause there’s a sure-as-shooting <span style='color:red;' >sucker</span> <span style='color:red;' >born</span> a <span style='color:red;' >minute</span>, And I’m referrin’ to the <span style='color:red;' >minute</span> you were born.”"
      ],
      "text/plain": [
       "<IPython.core.display.HTML object>"
      ]
     },
     "metadata": {},
     "output_type": "display_data"
    },
    {
     "name": "stdout",
     "output_type": "stream",
     "text": [
      "Keywords: 20\n",
      "[('trump', 0.09936180736656985), ('presidency', 0.1925103556156578), ('office', 0.1925103556156578), ('born', 0.24907427840330404), ('minute', 0.26302846382113854), ('months', 0.2714075057135261), ('clear', 0.2714075057135261), ('unfit', 0.2714075057135261), ('sucker', 0.3332164156244735), ('top', 0.5467610694316292), ('pop', 0.5965097227075004), ('big', 0.6279191292736396), ('wide', 0.6279191292736396), ('feed', 0.649839209793397), ('baloney', 0.649839209793397), ('time', 0.6533686241658118), ('hand', 0.6533686241658118), ('sweeps', 0.6533686241658118), ('corn', 0.6788928768092619), ('dandelions', 0.697881554624961)]\n",
      "*********************************************\n",
      "TABO words: idiot\n"
     ]
    },
    {
     "data": {
      "text/html": [
       "Mr. <span style='color:red;' >keller</span>:  <span style='color:red;' >excellent</span> <span style='color:red;' >sir</span>, its <span style='color:red;' >called</span> <span style='color:red;' >keeping</span> your <span style='color:red;' >powder</span> <span style='color:red;' >dry</span>.   PS: <span style='color:red;' >mulcair</span>, is an <span style='color:red;' >idiot</span>."
      ],
      "text/plain": [
       "<IPython.core.display.HTML object>"
      ]
     },
     "metadata": {},
     "output_type": "display_data"
    },
    {
     "name": "stdout",
     "output_type": "stream",
     "text": [
      "Keywords: 9\n",
      "[('keller', 0.09705179139403544), ('excellent', 0.09705179139403544), ('sir', 0.09705179139403544), ('dry', 0.09705179139403544), ('mulcair', 0.11555589791117535), ('powder', 0.15831692877998726), ('called', 0.36073110501666333), ('keeping', 0.36073110501666333), ('idiot', 0.46553351027698087)]\n",
      "*********************************************\n",
      "TABO words: to hate the poor rascal\n"
     ]
    },
    {
     "data": {
      "text/html": [
       "I <span style='color:red;' >love</span> <span style='color:red;' >edith</span> and \"<span style='color:red;' >love</span> to <span style='color:red;' >hate</span>\" <span style='color:red;' >archie</span>, even if I'm not able to <span style='color:red;' >hate</span> the <span style='color:red;' >poor</span> <span style='color:red;' >rascal</span>."
      ],
      "text/plain": [
       "<IPython.core.display.HTML object>"
      ]
     },
     "metadata": {},
     "output_type": "display_data"
    },
    {
     "name": "stdout",
     "output_type": "stream",
     "text": [
      "Keywords: 6\n",
      "[('archie', 0.035514607549195436), ('edith', 0.09571595561806069), ('hate', 0.10901343189444501), ('rascal', 0.11984314898676356), ('love', 0.14323823713631006), ('poor', 0.19488865479360015)]\n",
      "*********************************************\n",
      "TABO words: clueless\n"
     ]
    },
    {
     "data": {
      "text/html": [
       "More <span style='color:red;' >headline-grabbing</span> <span style='color:red;' >non-action</span> without <span style='color:red;' >substance</span> by the <span style='color:red;' >clueless</span> one."
      ],
      "text/plain": [
       "<IPython.core.display.HTML object>"
      ]
     },
     "metadata": {},
     "output_type": "display_data"
    },
    {
     "name": "stdout",
     "output_type": "stream",
     "text": [
      "Keywords: 4\n",
      "[('headline-grabbing', 0.29736558256021506), ('non-action', 0.29736558256021506), ('substance', 0.29736558256021506), ('clueless', 0.29736558256021506)]\n",
      "*********************************************\n",
      "TABO words: Gays restraint\n"
     ]
    },
    {
     "data": {
      "text/html": [
       "<span style='color:red;' >true</span>, but <span style='color:red;' >gays</span> and <span style='color:red;' >lesbians</span> should <span style='color:red;' >show</span> a little <span style='color:red;' >restraint</span> in their <span style='color:red;' >behavior</span>.  <span style='color:red;' >kissing</span> and <span style='color:red;' >making</span> out in <span style='color:red;' >front</span> of <span style='color:red;' >children</span> is <span style='color:red;' >taking</span> it too far.  I <span style='color:red;' >read</span> that this is what <span style='color:red;' >happened</span> in <span style='color:red;' >front</span> of the shooter's little 3 <span style='color:red;' >year</span> old <span style='color:red;' >boy</span> and that is what <span style='color:red;' >set</span> him off.  That <span style='color:red;' >kind</span> of <span style='color:red;' >behavior</span> by <span style='color:red;' >gays</span> is <span style='color:red;' >extremism</span>."
      ],
      "text/plain": [
       "<IPython.core.display.HTML object>"
      ]
     },
     "metadata": {},
     "output_type": "display_data"
    },
    {
     "name": "stdout",
     "output_type": "stream",
     "text": [
      "Keywords: 19\n",
      "[('lesbians', 0.08081542909776958), ('true', 0.09396830123780457), ('gays', 0.14053886524978448), ('front', 0.16808269917453236), ('show', 0.18920463062711493), ('restraint', 0.18920463062711493), ('behavior', 0.2368788699061348), ('kissing', 0.360131816783471), ('making', 0.4476552593565138), ('children', 0.4476552593565138), ('taking', 0.4476552593565138), ('year', 0.45054796871930103), ('extremism', 0.5012234342256503), ('read', 0.541451191733481), ('happened', 0.541451191733481), ('shooter', 0.541451191733481), ('boy', 0.541451191733481), ('set', 0.541451191733481), ('kind', 0.5913470628042234)]\n",
      "*********************************************\n",
      "TABO words: idiotic\n"
     ]
    },
    {
     "data": {
      "text/html": [
       "The billion+ <span style='color:red;' >citizens</span> of <span style='color:red;' >emerging</span> <span style='color:red;' >ecomomies</span> like <span style='color:red;' >china</span> and <span style='color:red;' >india</span> have a <span style='color:red;' >thirst</span> for our <span style='color:red;' >conveneiences</span> but can't <span style='color:red;' >afford</span> <span style='color:red;' >electric</span> <span style='color:red;' >cars</span>.  They will <span style='color:red;' >easily</span> <span style='color:red;' >fill</span> the <span style='color:red;' >void</span> of anyone who's <span style='color:red;' >foolish</span> enough to <span style='color:red;' >buy</span> an <span style='color:red;' >electric</span> <span style='color:red;' >car</span> once we <span style='color:red;' >run</span> out of <span style='color:red;' >money</span> subsidizing the 1%er's who already could <span style='color:red;' >afford</span> these hyper-expensive vehicles even without these idiotic <span style='color:red;' >subsidies</span>."
      ],
      "text/plain": [
       "<IPython.core.display.HTML object>"
      ]
     },
     "metadata": {},
     "output_type": "display_data"
    },
    {
     "name": "stdout",
     "output_type": "stream",
     "text": [
      "Keywords: 20\n",
      "[('china', 0.084015496580853), ('india', 0.084015496580853), ('billion', 0.12396293875868201), ('citizens', 0.12396293875868201), ('electric', 0.1380605243631371), ('afford', 0.1708774576970768), ('emerging', 0.18106647954565827), ('ecomomies', 0.18106647954565827), ('thirst', 0.18106647954565827), ('conveneiences', 0.18106647954565827), ('cars', 0.2761210487262742), ('car', 0.2761210487262742), ('subsidies', 0.32951308093160464), ('easily', 0.4343558507435888), ('fill', 0.4343558507435888), ('void', 0.4343558507435888), ('foolish', 0.4343558507435888), ('buy', 0.4343558507435888), ('run', 0.4343558507435888), ('money', 0.4343558507435888)]\n",
      "*********************************************\n",
      "TABO words: stupid\n"
     ]
    },
    {
     "data": {
      "text/html": [
       "<span style='color:red;' >berkie</span> and the <span style='color:red;' >dead</span> <span style='color:red;' >beats</span> get <span style='color:red;' >paid</span> to do <span style='color:red;' >stupid</span> <span style='color:red;' >stuff</span>."
      ],
      "text/plain": [
       "<IPython.core.display.HTML object>"
      ]
     },
     "metadata": {},
     "output_type": "display_data"
    },
    {
     "name": "stdout",
     "output_type": "stream",
     "text": [
      "Keywords: 6\n",
      "[('berkie', 0.15831692877998726), ('stuff', 0.15831692877998726), ('dead', 0.29736558256021506), ('beats', 0.29736558256021506), ('paid', 0.29736558256021506), ('stupid', 0.29736558256021506)]\n",
      "*********************************************\n",
      "TABO words: dumb\n"
     ]
    },
    {
     "data": {
      "text/html": [
       "<span style='color:red;' >yeah</span>, it gets so <span style='color:red;' >dumb</span> it almost <span style='color:red;' >reaches</span> the far right."
      ],
      "text/plain": [
       "<IPython.core.display.HTML object>"
      ]
     },
     "metadata": {},
     "output_type": "display_data"
    },
    {
     "name": "stdout",
     "output_type": "stream",
     "text": [
      "Keywords: 3\n",
      "[('yeah', 0.04491197687864554), ('dumb', 0.15831692877998726), ('reaches', 0.15831692877998726)]\n",
      "*********************************************\n",
      "TABO words: bitch pussy\n"
     ]
    },
    {
     "data": {
      "text/html": [
       "<span style='color:red;' >gay</span> probably <span style='color:red;' >poor</span> also otherwise he could of <span style='color:red;' >moved</span> on her like a <span style='color:red;' >bitch</span> and <span style='color:red;' >grabbed</span> her by the <span style='color:red;' >pussy</span>"
      ],
      "text/plain": [
       "<IPython.core.display.HTML object>"
      ]
     },
     "metadata": {},
     "output_type": "display_data"
    },
    {
     "name": "stdout",
     "output_type": "stream",
     "text": [
      "Keywords: 6\n",
      "[('gay', 0.09568045026443411), ('pussy', 0.09568045026443411), ('poor', 0.15831692877998726), ('moved', 0.15831692877998726), ('bitch', 0.15831692877998726), ('grabbed', 0.15831692877998726)]\n",
      "*********************************************\n",
      "TABO words: Typical liberal\n"
     ]
    },
    {
     "data": {
      "text/html": [
       "Same old <span style='color:red;' >crap</span> <span style='color:red;' >yell</span> <span style='color:red;' >racism</span> when he is <span style='color:red;' >losing</span> the <span style='color:red;' >argument</span>. <span style='color:red;' >typical</span> <span style='color:red;' >liberal</span>."
      ],
      "text/plain": [
       "<IPython.core.display.HTML object>"
      ]
     },
     "metadata": {},
     "output_type": "display_data"
    },
    {
     "name": "stdout",
     "output_type": "stream",
     "text": [
      "Keywords: 7\n",
      "[('argument', 0.2005079697193566), ('crap', 0.36073110501666333), ('yell', 0.36073110501666333), ('racism', 0.36073110501666333), ('losing', 0.36073110501666333), ('typical', 0.46553351027698087), ('liberal', 0.46553351027698087)]\n",
      "*********************************************\n",
      "TABO words: liar hypocrite Hypocrites\n"
     ]
    },
    {
     "data": {
      "text/html": [
       "<span style='color:red;' >amy</span> <span style='color:red;' >demboski</span> is a <span style='color:red;' >liar</span> and a <span style='color:red;' >hypocrite</span>. She was on <span style='color:red;' >welfare</span> as a <span style='color:red;' >single</span> <span style='color:red;' >mom</span> (<span style='color:red;' >denali</span> <span style='color:red;' >kid</span> <span style='color:red;' >care</span>), and now <span style='color:red;' >condemns</span> the <span style='color:red;' >practice</span> as \"<span style='color:red;' >socialism</span>\". I am all for social <span style='color:red;' >programs</span> to help those in need; It keeps people off the <span style='color:red;' >streets</span>, <span style='color:red;' >reduces</span> criminal <span style='color:red;' >activity</span>, and keeps me safer and with a much better community <span style='color:red;' >outlook</span>. Remove these <span style='color:red;' >programs</span> and EVERYONE'S lives suffer. I have worked hard all my life, have a  great job with a good income, and I am <span style='color:red;' >happy</span> to pay taxes to support these <span style='color:red;' >programs</span>. <span style='color:red;' >hypocrites</span> like <span style='color:red;' >demboski</span> are working for their own advancement and are putting your lifestyle in jeapordy."
      ],
      "text/plain": [
       "<IPython.core.display.HTML object>"
      ]
     },
     "metadata": {},
     "output_type": "display_data"
    },
    {
     "name": "stdout",
     "output_type": "stream",
     "text": [
      "Keywords: 20\n",
      "[('amy', 0.1257445758005587), ('programs', 0.1336043497465434), ('demboski', 0.13491817374083753), ('liar', 0.15400168346450593), ('denali', 0.17603438719706793), ('socialism', 0.27664899022981787), ('mom', 0.3331255635334552), ('care', 0.3331255635334552), ('happy', 0.3396315087858887), ('welfare', 0.3873378768966563), ('single', 0.3873378768966563), ('kid', 0.3873378768966563), ('condemns', 0.3873378768966563), ('practice', 0.3873378768966563), ('streets', 0.4212248835883752), ('reduces', 0.4212248835883752), ('activity', 0.4212248835883752), ('outlook', 0.4212248835883752), ('hypocrite', 0.4353983846664622), ('hypocrites', 0.4353983846664622)]\n",
      "*********************************************\n",
      "TABO words: moron stupid\n"
     ]
    },
    {
     "data": {
      "text/html": [
       "<span style='color:red;' >honestly</span> <span style='color:red;' >gary</span> you are a <span style='color:red;' >moron</span>. Is <span style='color:red;' >trudeau</span> with his <span style='color:red;' >bloodline</span> somehow <span style='color:red;' >inherently</span> more <span style='color:red;' >qualified</span>? <span style='color:red;' >gary</span>, you are the definition of exactly what the entire US <span style='color:red;' >media</span>, <span style='color:red;' >bowing</span> to <span style='color:red;' >hillary</span> and actually working for her while pretending to be <span style='color:red;' >impartial</span>, is also clearly true of the <span style='color:red;' >canadian</span> <span style='color:red;' >media</span>. <span style='color:red;' >grow</span> up, <span style='color:red;' >stop</span> being a completely out of <span style='color:red;' >touch</span> <span style='color:red;' >elitist</span>. There is a <span style='color:red;' >canadian</span> running to be a head of a party that cares about the future of this country and who has made it in this world creating jobs and employing <span style='color:red;' >people</span> - that does not <span style='color:red;' >make</span> him <span style='color:red;' >inherently</span> stupid, out of <span style='color:red;' >touch</span>, and <span style='color:red;' >trump</span> like - it <span style='color:red;' >makes</span> him a caring <span style='color:red;' >canadian</span> that wants to help. I seriously can't stand <span style='color:red;' >people</span> like yourself that offer nothing but hot air."
      ],
      "text/plain": [
       "<IPython.core.display.HTML object>"
      ]
     },
     "metadata": {},
     "output_type": "display_data"
    },
    {
     "name": "stdout",
     "output_type": "stream",
     "text": [
      "Keywords: 20\n",
      "[('canadian', 0.1057273028343987), ('gary', 0.13169620538718546), ('honestly', 0.1415191150470712), ('moron', 0.1415191150470712), ('media', 0.18948532014426211), ('trudeau', 0.2158235429562756), ('touch', 0.2379765763721044), ('inherently', 0.2441228051660064), ('people', 0.2780767363145015), ('hillary', 0.2862151511429332), ('trump', 0.3593629709728734), ('qualified', 0.364081654103577), ('bloodline', 0.4278498315683437), ('bowing', 0.45478464689528425), ('impartial', 0.45478464689528425), ('grow', 0.5054982320445115), ('stop', 0.5054982320445115), ('elitist', 0.5054982320445115), ('make', 0.5193288948369592), ('makes', 0.5193288948369592)]\n",
      "*********************************************\n",
      "TABO words: shut up\n"
     ]
    },
    {
     "data": {
      "text/html": [
       "Let us know when you actually have any <span style='color:red;' >evidence</span>.  We've been <span style='color:red;' >waiting</span> for over a <span style='color:red;' >year</span> now.  <span style='color:red;' >put</span> up or <span style='color:red;' >shut</span> up."
      ],
      "text/plain": [
       "<IPython.core.display.HTML object>"
      ]
     },
     "metadata": {},
     "output_type": "display_data"
    },
    {
     "name": "stdout",
     "output_type": "stream",
     "text": [
      "Keywords: 5\n",
      "[('evidence', 0.13696809108329627), ('put', 0.44538603402402266), ('waiting', 0.4949246952252326), ('year', 0.4949246952252326), ('shut', 0.5880798524606783)]\n",
      "*********************************************\n",
      "TABO words: hypocrites\n"
     ]
    },
    {
     "data": {
      "text/html": [
       "You are so <span style='color:red;' >correct</span> <span style='color:red;' >skl</span> - the <span style='color:red;' >left</span> <span style='color:red;' >makes</span> such a <span style='color:red;' >big</span> <span style='color:red;' >deal</span> about so <span style='color:red;' >called</span> \"<span style='color:red;' >bullying</span>\" yet it's <span style='color:red;' >perfectly</span> <span style='color:red;' >fine</span> if they do it.  They're such <span style='color:red;' >disgraceful</span> <span style='color:red;' >hypocrites</span>."
      ],
      "text/plain": [
       "<IPython.core.display.HTML object>"
      ]
     },
     "metadata": {},
     "output_type": "display_data"
    },
    {
     "name": "stdout",
     "output_type": "stream",
     "text": [
      "Keywords: 12\n",
      "[('bullying', 0.05899937629682816), ('skl', 0.06588837669267192), ('called', 0.12363091320521931), ('correct', 0.2005079697193566), ('left', 0.2005079697193566), ('makes', 0.2005079697193566), ('big', 0.2005079697193566), ('deal', 0.2005079697193566), ('perfectly', 0.2005079697193566), ('fine', 0.2005079697193566), ('hypocrites', 0.32883716426354986), ('disgraceful', 0.46553351027698087)]\n",
      "*********************************************\n",
      "TABO words: stupid\n"
     ]
    },
    {
     "data": {
      "text/html": [
       "I am a <span style='color:red;' >firm</span> <span style='color:red;' >believer</span> that <span style='color:red;' >stupid</span> <span style='color:red;' >individuals</span> cause much more <span style='color:red;' >harm</span> than <span style='color:red;' >malicious</span> <span style='color:red;' >individuals</span>.  This has very <span style='color:red;' >strong</span> <span style='color:red;' >support</span> in <span style='color:red;' >academic</span> <span style='color:red;' >research</span>. See the following <span style='color:red;' >paper</span>:  _The <span style='color:red;' >basic</span> <span style='color:red;' >laws</span> of <span style='color:red;' >human</span> Stupidity_ at  https://trusttheneighbors.files.wordpress.com/2016/05/blhs.pdf  -- <span style='color:red;' >paul</span>"
      ],
      "text/plain": [
       "<IPython.core.display.HTML object>"
      ]
     },
     "metadata": {},
     "output_type": "display_data"
    },
    {
     "name": "stdout",
     "output_type": "stream",
     "text": [
      "Keywords: 16\n",
      "[('individuals', 0.15529589685701148), ('paul', 0.18431255680651712), ('firm', 0.25379714896785677), ('believer', 0.25379714896785677), ('stupid', 0.25379714896785677), ('harm', 0.25379714896785677), ('malicious', 0.25379714896785677), ('stupidity', 0.29121537805549563), ('basic', 0.37997839310940895), ('laws', 0.37997839310940895), ('human', 0.37997839310940895), ('research', 0.3992026065895332), ('paper', 0.49188732620590503), ('strong', 0.5415478383200538), ('support', 0.5415478383200538), ('academic', 0.5415478383200538)]\n",
      "*********************************************\n",
      "TABO words: stupidest\n"
     ]
    },
    {
     "data": {
      "text/html": [
       "151 <span style='color:red;' >years</span> <span style='color:red;' >ago</span> <span style='color:red;' >economist</span>, <span style='color:red;' >philosopher</span> and <span style='color:red;' >liberal</span> <span style='color:red;' >member</span> of <span style='color:red;' >parliament</span> <span style='color:red;' >john</span> <span style='color:red;' >stuart</span> <span style='color:red;' >mill</span> <span style='color:red;' >famously</span> <span style='color:red;' >referred</span> to the (<span style='color:red;' >british</span>) <span style='color:red;' >conservative</span> <span style='color:red;' >party</span> as \"the <span style='color:red;' >stupidest</span> <span style='color:red;' >party</span>\".  And for almost that <span style='color:red;' >long</span> <span style='color:red;' >conservative</span> <span style='color:red;' >parties</span> around the <span style='color:red;' >world</span> have <span style='color:red;' >strived</span> to prove him right."
      ],
      "text/plain": [
       "<IPython.core.display.HTML object>"
      ]
     },
     "metadata": {},
     "output_type": "display_data"
    },
    {
     "name": "stdout",
     "output_type": "stream",
     "text": [
      "Keywords: 20\n",
      "[('british', 0.04054602715245258), ('party', 0.06665233969851701), ('liberal', 0.08284529549462873), ('member', 0.08284529549462873), ('parliament', 0.08284529549462873), ('john', 0.08284529549462873), ('stuart', 0.08284529549462873), ('mill', 0.08284529549462873), ('years', 0.12005345163377214), ('economist', 0.12005345163377214), ('philosopher', 0.12005345163377214), ('conservative', 0.12133274780491966), ('ago', 0.17571731612679403), ('famously', 0.17571731612679403), ('referred', 0.17571731612679403), ('stupidest', 0.17571731612679403), ('long', 0.42541096826386726), ('parties', 0.42541096826386726), ('world', 0.42541096826386726), ('strived', 0.42541096826386726)]\n",
      "*********************************************\n",
      "TABO words: sucks\n"
     ]
    },
    {
     "data": {
      "text/html": [
       "<span style='color:red;' >avoiding</span> \"<span style='color:red;' >iffy</span>\" <span style='color:red;' >weather</span> is not a <span style='color:red;' >solution</span>.  <span style='color:red;' >weather</span> changes <span style='color:red;' >fast</span>.  <span style='color:red;' >pilots</span> must be <span style='color:red;' >equipped</span> and <span style='color:red;' >possess</span> the <span style='color:red;' >skills</span> to <span style='color:red;' >deal</span> with it.  <span style='color:red;' >regulators</span> would do well to <span style='color:red;' >acknowledge</span> this and <span style='color:red;' >stop</span> with all the <span style='color:red;' >cowboy</span> vs <span style='color:red;' >choir-boy</span> <span style='color:red;' >talk</span>.  And <span style='color:red;' >giving</span> <span style='color:red;' >medallion</span> more <span style='color:red;' >money</span> is not going to help either, because <span style='color:red;' >medallion</span> <span style='color:red;' >sucks</span>."
      ],
      "text/plain": [
       "<IPython.core.display.HTML object>"
      ]
     },
     "metadata": {},
     "output_type": "display_data"
    },
    {
     "name": "stdout",
     "output_type": "stream",
     "text": [
      "Keywords: 20\n",
      "[('avoiding', 0.09327055355042535), ('iffy', 0.09327055355042535), ('weather', 0.1275135805410037), ('solution', 0.15459911568017057), ('medallion', 0.2262697700234111), ('fast', 0.38842490364694154), ('pilots', 0.4806090411553281), ('regulators', 0.5313956191456346), ('talk', 0.5313956191456346), ('sucks', 0.5641703829744179), ('equipped', 0.5911410317879205), ('possess', 0.5911410317879205), ('skills', 0.5911410317879205), ('deal', 0.5911410317879205), ('acknowledge', 0.6392326119978096), ('stop', 0.6392326119978096), ('cowboy', 0.6392326119978096), ('choir-boy', 0.6392326119978096), ('giving', 0.6691608204527364), ('money', 0.6691608204527364)]\n",
      "*********************************************\n",
      "TABO words: \n"
     ]
    },
    {
     "data": {
      "text/html": [
       "<span style='color:red;' >insured</span> through <span style='color:red;' >eskom</span> , will <span style='color:red;' >honour</span> anything for that <span style='color:red;' >corrupt</span> <span style='color:red;' >fucker</span> ."
      ],
      "text/plain": [
       "<IPython.core.display.HTML object>"
      ]
     },
     "metadata": {},
     "output_type": "display_data"
    },
    {
     "name": "stdout",
     "output_type": "stream",
     "text": [
      "Keywords: 5\n",
      "[('eskom', 0.08596317751626563), ('insured', 0.15831692877998726), ('fucker', 0.15831692877998726), ('honour', 0.29736558256021506), ('corrupt', 0.29736558256021506)]\n",
      "*********************************************\n",
      "TABO words: And guess what Dick the pervert Weinstein is the face of your pathetic party\n"
     ]
    },
    {
     "data": {
      "text/html": [
       "The <span style='color:red;' >people</span> \"in on this <span style='color:red;' >big</span> <span style='color:red;' >conspiracy</span>\" are Weinstein's <span style='color:red;' >actual</span> <span style='color:red;' >victims</span>, whose <span style='color:red;' >cries</span> over the last several <span style='color:red;' >decades</span> are now <span style='color:red;' >finally</span> being <span style='color:red;' >addressed</span>.  And <span style='color:red;' >guess</span> what <span style='color:red;' >dick</span>, it's <span style='color:red;' >liberals</span> who have been exposing the \"<span style='color:red;' >big</span> conspiracy\"- https://www.thewrap.com/media-enablers-harvey-weinstein-new-york-times/amp/ https://www.newyorker.com/news/news-desk/from-aggressive-overtures-to-sexual-assault-harvey-weinsteins-accusers-tell-their-stories  It's predictable though that you would continue to try and deflect this blockbuster <span style='color:red;' >dem</span> scandal- from <span style='color:red;' >weinstein</span> being a huge <span style='color:red;' >dem</span> <span style='color:red;' >fundraiser</span>, to the leftists in <span style='color:red;' >hollywood</span> and the media covering and enabling the pervert- and twist this into being a <span style='color:red;' >republican</span> <span style='color:red;' >problem</span>.  <span style='color:red;' >weinstein</span> is the face of your pathetic party.  Own him."
      ],
      "text/plain": [
       "<IPython.core.display.HTML object>"
      ]
     },
     "metadata": {},
     "output_type": "display_data"
    },
    {
     "name": "stdout",
     "output_type": "stream",
     "text": [
      "Keywords: 20\n",
      "[('weinstein', 0.06738515824799773), ('conspiracy', 0.07080419142748605), ('dem', 0.09609091122049937), ('big', 0.10246937982295189), ('people', 0.12103069833662769), ('victims', 0.12103069833662769), ('addressed', 0.12103069833662769), ('actual', 0.14840833091353722), ('cries', 0.14840833091353722), ('decades', 0.14840833091353722), ('finally', 0.14840833091353722), ('dick', 0.173313500669551), ('hollywood', 0.1986736846003892), ('republican', 0.1986736846003892), ('scandal', 0.3235142681744307), ('fundraiser', 0.3235142681744307), ('pervert', 0.3235142681744307), ('problem', 0.3235142681744307), ('guess', 0.37704680272586905), ('liberals', 0.37704680272586905)]\n",
      "*********************************************\n",
      "TABO words: garbage\n"
     ]
    },
    {
     "data": {
      "text/html": [
       "<span style='color:red;' >utter</span> <span style='color:red;' >garbage</span>. <span style='color:red;' >oil</span> <span style='color:red;' >companies</span> AREN'T <span style='color:red;' >subsidized</span>, and the <span style='color:red;' >taxes</span> <span style='color:red;' >collected</span> keep <span style='color:red;' >quebec</span> <span style='color:red;' >solvent</span>. <span style='color:red;' >stop</span> <span style='color:red;' >lying</span>, and <span style='color:red;' >whining</span>."
      ],
      "text/plain": [
       "<IPython.core.display.HTML object>"
      ]
     },
     "metadata": {},
     "output_type": "display_data"
    },
    {
     "name": "stdout",
     "output_type": "stream",
     "text": [
      "Keywords: 12\n",
      "[('utter', 0.13696809108329627), ('garbage', 0.13696809108329627), ('quebec', 0.2815891253011357), ('oil', 0.3553358554145339), ('subsidized', 0.3553358554145339), ('solvent', 0.3553358554145339), ('stop', 0.44538603402402266), ('lying', 0.44538603402402266), ('whining', 0.44538603402402266), ('companies', 0.4949246952252326), ('taxes', 0.4949246952252326), ('collected', 0.4949246952252326)]\n",
      "*********************************************\n",
      "TABO words: fool\n"
     ]
    },
    {
     "data": {
      "text/html": [
       "Never <span style='color:red;' >argue</span> with a <span style='color:red;' >fool</span>. <span style='color:red;' >onlookers</span> may not be able to tell the <span style='color:red;' >difference</span>!  <span style='color:red;' >mark</span> <span style='color:red;' >twain</span>"
      ],
      "text/plain": [
       "<IPython.core.display.HTML object>"
      ]
     },
     "metadata": {},
     "output_type": "display_data"
    },
    {
     "name": "stdout",
     "output_type": "stream",
     "text": [
      "Keywords: 6\n",
      "[('fool', 0.2200560909321288), ('twain', 0.36348788044697095), ('argue', 0.38831292435681075), ('onlookers', 0.4949246952252326), ('difference', 0.4949246952252326), ('mark', 0.5880798524606783)]\n",
      "*********************************************\n",
      "TABO words: bait trolls\n"
     ]
    },
    {
     "data": {
      "text/html": [
       "Oh <span style='color:red;' >willy</span>!!  You took his <span style='color:red;' >bait</span>!  <span style='color:red;' >ignore</span> <span style='color:red;' >trolls</span> like that."
      ],
      "text/plain": [
       "<IPython.core.display.HTML object>"
      ]
     },
     "metadata": {},
     "output_type": "display_data"
    },
    {
     "name": "stdout",
     "output_type": "stream",
     "text": [
      "Keywords: 4\n",
      "[('willy', 0.10141226884569679), ('bait', 0.4949246952252326), ('ignore', 0.5880798524606783), ('trolls', 0.7625957055371981)]\n",
      "*********************************************\n",
      "TABO words: Idiot\n"
     ]
    },
    {
     "data": {
      "text/html": [
       "<span style='color:red;' >idiot</span>!"
      ],
      "text/plain": [
       "<IPython.core.display.HTML object>"
      ]
     },
     "metadata": {},
     "output_type": "display_data"
    },
    {
     "name": "stdout",
     "output_type": "stream",
     "text": [
      "Keywords: 1\n",
      "[('idiot', 0.04491197687864554)]\n",
      "*********************************************\n",
      "TABO words: Black men\n"
     ]
    },
    {
     "data": {
      "text/html": [
       "\"<span style='color:red;' >black</span> <span style='color:red;' >men</span> are <span style='color:red;' >primarily</span> <span style='color:red;' >responsible</span> for that.\" This <span style='color:red;' >part</span> of your <span style='color:red;' >statement</span> is <span style='color:red;' >true</span>. This <span style='color:red;' >country</span> would not <span style='color:red;' >exist</span> were it not for <span style='color:red;' >millions</span> of <span style='color:red;' >black</span> <span style='color:red;' >slaves</span>. The colonies from <span style='color:red;' >maryland</span> south would never have joined the \"<span style='color:red;' >revolution</span>\" without protections for <span style='color:red;' >race</span> <span style='color:red;' >based</span> <span style='color:red;' >slavery</span>. We would be more like <span style='color:red;' >canada</span> without <span style='color:red;' >race</span> <span style='color:red;' >based</span> <span style='color:red;' >slavery</span>.  In 1860, 80% of the wealth of the nation was from <span style='color:red;' >slaves</span>, <span style='color:red;' >slave</span> <span style='color:red;' >labor</span>, and the <span style='color:red;' >products</span> that <span style='color:red;' >labor</span> produced. The violence today is a product of our history. The rest of your <span style='color:red;' >statement</span> is just fake news."
      ],
      "text/plain": [
       "<IPython.core.display.HTML object>"
      ]
     },
     "metadata": {},
     "output_type": "display_data"
    },
    {
     "name": "stdout",
     "output_type": "stream",
     "text": [
      "Keywords: 20\n",
      "[('black', 0.13015861962758926), ('men', 0.18566398001921022), ('primarily', 0.18566398001921022), ('responsible', 0.18566398001921022), ('slavery', 0.18757782600165), ('based', 0.2158896290448079), ('statement', 0.22328966770687575), ('race', 0.2420184058938753), ('revolution', 0.2574726954343278), ('slaves', 0.2647877587862497), ('labor', 0.2966960160350243), ('maryland', 0.32884452680190096), ('canada', 0.35868901650511764), ('true', 0.38486170378965034), ('part', 0.44191419608701105), ('slave', 0.5295755175724994), ('country', 0.5356738221673722), ('exist', 0.5356738221673722), ('millions', 0.5356738221673722), ('products', 0.5794156304162456)]\n",
      "*********************************************\n",
      "TABO words: Ridiculous\n"
     ]
    },
    {
     "data": {
      "text/html": [
       "<span style='color:red;' >ridiculous</span>.  And this is a <span style='color:red;' >grown</span> <span style='color:red;' >man</span> <span style='color:red;' >writing</span>.  <span style='color:red;' >toni</span> <span style='color:red;' >morrison</span> and most of the other \"well known <span style='color:red;' >artists</span>\" are <span style='color:red;' >multi-millionaires</span>, among the 1%, the <span style='color:red;' >main</span> <span style='color:red;' >beneficiaries</span> of <span style='color:red;' >capitalism</span>.  The <span style='color:red;' >dirty</span> 1930s saw desperate men hopping on trains trying to find <span style='color:red;' >work</span> and were chronicled in <span style='color:red;' >works</span> of art like The <span style='color:red;' >grapes</span> of <span style='color:red;' >wrath</span> - zero parallel with the lifestyle enjoyed by today's \"<span style='color:red;' >activists</span>\".  <span style='color:red;' >caplan</span> is not a <span style='color:red;' >millennial</span>, he would have learned the history of that time so he should know better."
      ],
      "text/plain": [
       "<IPython.core.display.HTML object>"
      ]
     },
     "metadata": {},
     "output_type": "display_data"
    },
    {
     "name": "stdout",
     "output_type": "stream",
     "text": [
      "Keywords: 20\n",
      "[('ridiculous', 0.08350999761171467), ('morrison', 0.2533940990549372), ('wrath', 0.2593802275766614), ('writing', 0.2924562462570404), ('grapes', 0.2937498752333259), ('grown', 0.34345879033165344), ('man', 0.34345879033165344), ('activists', 0.36103809206789983), ('toni', 0.37586204395332456), ('artists', 0.37586204395332456), ('multi-millionaires', 0.37586204395332456), ('capitalism', 0.37586204395332456), ('dirty', 0.4246291512874877), ('today', 0.4246291512874877), ('main', 0.4325184669474107), ('beneficiaries', 0.4325184669474107), ('work', 0.435823062165818), ('works', 0.435823062165818), ('caplan', 0.4572442785511892), ('millennial', 0.4572442785511892)]\n",
      "*********************************************\n",
      "TABO words: Stupid\n"
     ]
    },
    {
     "data": {
      "text/html": [
       "<span style='color:red;' >stupid</span> <span style='color:red;' >young</span> <span style='color:red;' >dumb</span> and <span style='color:red;' >full</span> of <span style='color:red;' >cum</span>."
      ],
      "text/plain": [
       "<IPython.core.display.HTML object>"
      ]
     },
     "metadata": {},
     "output_type": "display_data"
    },
    {
     "name": "stdout",
     "output_type": "stream",
     "text": [
      "Keywords: 5\n",
      "[('stupid', 0.15831692877998726), ('cum', 0.15831692877998726), ('young', 0.29736558256021506), ('dumb', 0.29736558256021506), ('full', 0.29736558256021506)]\n",
      "*********************************************\n",
      "TABO words: \n"
     ]
    },
    {
     "data": {
      "text/html": [
       "The <span style='color:red;' >economy</span> is <span style='color:red;' >stagnant</span> and <span style='color:red;' >collapsing</span>.  Who believes we are in a <span style='color:red;' >good</span> <span style='color:red;' >economic</span> <span style='color:red;' >condition</span>? Only the <span style='color:red;' >brainwashed</span> who believe the news.  We are about to <span style='color:red;' >enter</span> the <span style='color:red;' >biggest</span> <span style='color:red;' >collapse</span> in <span style='color:red;' >human</span> <span style='color:red;' >history</span> with the <span style='color:red;' >impending</span> <span style='color:red;' >death</span> of the US <span style='color:red;' >dollar</span>.  Why are <span style='color:red;' >people</span> SO <span style='color:red;' >clueless</span>? Seriously! We're <span style='color:red;' >days</span> away from a <span style='color:red;' >massive</span> <span style='color:red;' >collapse</span>, <span style='color:red;' >people</span> think the <span style='color:red;' >economy</span> is ok? <span style='color:red;' >wtf</span>?"
      ],
      "text/plain": [
       "<IPython.core.display.HTML object>"
      ]
     },
     "metadata": {},
     "output_type": "display_data"
    },
    {
     "name": "stdout",
     "output_type": "stream",
     "text": [
      "Keywords: 20\n",
      "[('collapsing', 0.13478290668219803), ('stagnant', 0.16468848688963614), ('economy', 0.18969092949045852), ('collapse', 0.26155894891951414), ('people', 0.26704327446347037), ('clueless', 0.3104424764010301), ('wtf', 0.3180209205950555), ('condition', 0.35108407267945624), ('good', 0.4064377348146439), ('economic', 0.4064377348146439), ('dollar', 0.49135295411793856), ('brainwashed', 0.49940594218549256), ('enter', 0.5500751753560151), ('biggest', 0.5500751753560151), ('human', 0.5500751753560151), ('history', 0.5500751753560151), ('impending', 0.5500751753560151), ('death', 0.5500751753560151), ('days', 0.6226763451479171), ('massive', 0.6226763451479171)]\n",
      "*********************************************\n",
      "TABO words: IDIOT\n"
     ]
    },
    {
     "data": {
      "text/html": [
       "You are the 'perfect' <span style='color:red;' >democratic</span> <span style='color:red;' >idiot</span>."
      ],
      "text/plain": [
       "<IPython.core.display.HTML object>"
      ]
     },
     "metadata": {},
     "output_type": "display_data"
    },
    {
     "name": "stdout",
     "output_type": "stream",
     "text": [
      "Keywords: 3\n",
      "[('perfect', 0.04491197687864554), ('democratic', 0.08596317751626563), ('idiot', 0.08596317751626563)]\n",
      "*********************************************\n",
      "TABO words: garbage\n"
     ]
    },
    {
     "data": {
      "text/html": [
       "My all <span style='color:red;' >time</span> <span style='color:red;' >favorites</span> are still <span style='color:red;' >wyoming</span> <span style='color:red;' >college</span> (<span style='color:red;' >spend</span> $20K per <span style='color:red;' >year</span> on something <span style='color:red;' >slightly</span> more <span style='color:red;' >legit</span> than an <span style='color:red;' >online</span> <span style='color:red;' >diploma</span> <span style='color:red;' >mill</span> and <span style='color:red;' >live</span> in a <span style='color:red;' >trailer</span> in <span style='color:red;' >rural</span> <span style='color:red;' >wyoming</span>) and the now <span style='color:red;' >defunct</span> <span style='color:red;' >ave</span> <span style='color:red;' >maria</span> <span style='color:red;' >college</span> (come and <span style='color:red;' >hear</span> Fr. Gruner's conspiracy theories and other schimatic <span style='color:red;' >garbage</span>.)"
      ],
      "text/plain": [
       "<IPython.core.display.HTML object>"
      ]
     },
     "metadata": {},
     "output_type": "display_data"
    },
    {
     "name": "stdout",
     "output_type": "stream",
     "text": [
      "Keywords: 20\n",
      "[('college', 0.026756318866012443), ('wyoming', 0.03993921452454567), ('spend', 0.07073956283945361), ('ave', 0.07180310381201782), ('maria', 0.07180310381201782), ('time', 0.14623340726105694), ('favorites', 0.14623340726105694), ('year', 0.14623340726105694), ('slightly', 0.14623340726105694), ('legit', 0.14623340726105694), ('online', 0.14623340726105694), ('diploma', 0.14623340726105694), ('mill', 0.14623340726105694), ('live', 0.14623340726105694), ('trailer', 0.14623340726105694), ('rural', 0.14623340726105694), ('defunct', 0.14623340726105694), ('hear', 0.14623340726105694), ('gruner', 0.2923372953262933), ('garbage', 0.2923372953262933)]\n",
      "*********************************************\n",
      "TABO words: Everytime I hear or see this I say THANK GOD I'M WHITE the stupidist\n"
     ]
    },
    {
     "data": {
      "text/html": [
       "<span style='color:red;' >everytime</span> I <span style='color:red;' >hear</span> or see this I say THANK <span style='color:red;' >god</span> I'M <span style='color:red;' >white</span>! I am <span style='color:red;' >terrified</span> for my for my <span style='color:red;' >black</span> <span style='color:red;' >relatives</span>. I cannot <span style='color:red;' >imagine</span> trying to <span style='color:red;' >raise</span> <span style='color:red;' >black</span> children in today's <span style='color:red;' >world</span>. They are being killed over the stupidist reasons <span style='color:red;' >leo</span> can come up with! It breaks my brother's heart when his <span style='color:red;' >fellow</span> <span style='color:red;' >leo</span> kill <span style='color:red;' >unarmed</span> <span style='color:red;' >black</span> <span style='color:red;' >people</span>. He is <span style='color:red;' >leo</span>, we have many <span style='color:red;' >black</span> <span style='color:red;' >relatives</span>. This behavior is demoralizing. He dedicates his <span style='color:red;' >life</span> to help <span style='color:red;' >people</span> in the worst and most dangerous times of their <span style='color:red;' >life</span> regardless of color and at the same time praying and hoping that his <span style='color:red;' >fellow</span> <span style='color:red;' >leo</span> does the same for our <span style='color:red;' >relatives</span> in other states knowing full well <span style='color:red;' >leo</span> is <span style='color:red;' >killing</span> <span style='color:red;' >unarmed</span> <span style='color:red;' >blacks</span> every week! How is that right? What is <span style='color:red;' >leo</span> doing to heal our <span style='color:red;' >communities</span>?? How can the <span style='color:red;' >black</span> <span style='color:red;' >communities</span> feel <span style='color:red;' >leo</span> is protecting not persecuting and shooting at the slightest real or imagined threat?   If you see a <span style='color:red;' >weapon</span> then <span style='color:red;' >shoot</span>! Don't <span style='color:red;' >shoot</span> until you see a <span style='color:red;' >weapon</span>!!   My family kneels. We are patriotic, <span style='color:red;' >leo</span> <span style='color:red;' >killing</span> <span style='color:red;' >unarmed</span> civilians is not."
      ],
      "text/plain": [
       "<IPython.core.display.HTML object>"
      ]
     },
     "metadata": {},
     "output_type": "display_data"
    },
    {
     "name": "stdout",
     "output_type": "stream",
     "text": [
      "Keywords: 20\n",
      "[('leo', 0.043982951122695825), ('white', 0.07055143308938093), ('god', 0.07986189129107055), ('black', 0.11431131200353185), ('unarmed', 0.1951185277123249), ('relatives', 0.19751751193533518), ('everytime', 0.21174773536024522), ('hear', 0.24904698717182625), ('shoot', 0.27766728718860667), ('fellow', 0.28645901250368466), ('people', 0.32945153898332213), ('killing', 0.3355645756363605), ('weapon', 0.3386311928862265), ('life', 0.3480157820348536), ('communities', 0.35085321189301244), ('terrified', 0.5352753269612801), ('blacks', 0.5715565600176593), ('world', 0.5761406724781146), ('imagine', 0.6266030679271145), ('raise', 0.6266030679271145)]\n",
      "*********************************************\n",
      "TABO words: dead\n"
     ]
    },
    {
     "data": {
      "text/html": [
       "<span style='color:red;' >human</span> beings are and will always be very <span style='color:red;' >nasty</span> <span style='color:red;' >creatures</span>. You and I are <span style='color:red;' >members</span> of that <span style='color:red;' >club</span>. The <span style='color:red;' >point</span> I have been trying to <span style='color:red;' >make</span>, which <span style='color:red;' >evidently</span> you do not want to <span style='color:red;' >acknowledge</span>, is that they were <span style='color:red;' >significantly</span> less <span style='color:red;' >nasty</span> in <span style='color:red;' >southern</span> <span style='color:red;' >africa</span>, than elsewhere. You keep <span style='color:red;' >throwing</span> up <span style='color:red;' >numbers</span> of <span style='color:red;' >dead</span> <span style='color:red;' >people</span> that obviously <span style='color:red;' >exceed</span> the total populations in the geographical areas you identified and that were alive at the <span style='color:red;' >time</span>. <span style='color:red;' >kinda</span> <span style='color:red;' >makes</span> the epithet you accorded to me as more appropriate to yourself."
      ],
      "text/plain": [
       "<IPython.core.display.HTML object>"
      ]
     },
     "metadata": {},
     "output_type": "display_data"
    },
    {
     "name": "stdout",
     "output_type": "stream",
     "text": [
      "Keywords: 20\n",
      "[('human', 0.12494000707005593), ('creatures', 0.12494000707005593), ('nasty', 0.17904794672871993), ('africa', 0.24182200007294652), ('club', 0.3314972154679057), ('members', 0.4029665003256892), ('acknowledge', 0.419436751403907), ('time', 0.4696036948422725), ('point', 0.4958039365681903), ('evidently', 0.4958039365681903), ('significantly', 0.4958039365681903), ('southern', 0.4958039365681903), ('make', 0.49901192616063256), ('makes', 0.49901192616063256), ('kinda', 0.5026553931336882), ('throwing', 0.5465066880009687), ('numbers', 0.5465066880009687), ('dead', 0.5465066880009687), ('people', 0.5465066880009687), ('exceed', 0.5465066880009687)]\n",
      "*********************************************\n",
      "TABO words: black ignorant\n"
     ]
    },
    {
     "data": {
      "text/html": [
       "Are you to believe that any <span style='color:red;' >black</span> who <span style='color:red;' >acts</span> to <span style='color:red;' >white</span> is an <span style='color:red;' >uncle</span> <span style='color:red;' >tom</span>? Also  Do you think <span style='color:red;' >clarance</span> <span style='color:red;' >thomas</span> being <span style='color:red;' >excluded</span> from the <span style='color:red;' >black</span> <span style='color:red;' >history</span> <span style='color:red;' >museum</span> was a <span style='color:red;' >good</span> <span style='color:red;' >thing</span>?  I know your <span style='color:red;' >ignorant</span> but how <span style='color:red;' >ignorant</span>!"
      ],
      "text/plain": [
       "<IPython.core.display.HTML object>"
      ]
     },
     "metadata": {},
     "output_type": "display_data"
    },
    {
     "name": "stdout",
     "output_type": "stream",
     "text": [
      "Keywords: 13\n",
      "[('tom', 0.07822367740881389), ('uncle', 0.11163793874940045), ('black', 0.2525563262246536), ('acts', 0.2746434526640536), ('white', 0.2746434526640536), ('clarance', 0.3038394600139936), ('thomas', 0.3038394600139936), ('ignorant', 0.36071704772380786), ('thing', 0.42518689425940503), ('excluded', 0.5680373417722209), ('history', 0.5680373417722209), ('museum', 0.5680373417722209), ('good', 0.5680373417722209)]\n",
      "*********************************************\n",
      "TABO words: Trump is a bully who isn't used to people pushing back He's going to get his substantial butt kicked\n"
     ]
    },
    {
     "data": {
      "text/html": [
       "<span style='color:red;' >trump</span> is a <span style='color:red;' >bully</span> who isn't used to <span style='color:red;' >people</span> <span style='color:red;' >pushing</span> <span style='color:red;' >back</span>. He's going to get his <span style='color:red;' >substantial</span> <span style='color:red;' >butt</span> <span style='color:red;' >kicked</span>..."
      ],
      "text/plain": [
       "<IPython.core.display.HTML object>"
      ]
     },
     "metadata": {},
     "output_type": "display_data"
    },
    {
     "name": "stdout",
     "output_type": "stream",
     "text": [
      "Keywords: 8\n",
      "[('trump', 0.12363091320521931), ('back', 0.12363091320521931), ('bully', 0.2005079697193566), ('people', 0.2005079697193566), ('pushing', 0.2005079697193566), ('kicked', 0.32883716426354986), ('substantial', 0.46553351027698087), ('butt', 0.46553351027698087)]\n",
      "*********************************************\n",
      "TABO words: niggers fuck on your're a moron\n"
     ]
    },
    {
     "data": {
      "text/html": [
       "SAYS THE OLD <span style='color:red;' >white</span> <span style='color:red;' >lady</span> HER SELF outsider77 have to <span style='color:red;' >make</span> it about so <span style='color:red;' >called</span> <span style='color:red;' >oppressed</span> niggers. and old <span style='color:red;' >people</span> <span style='color:red;' >waiting</span> to <span style='color:red;' >die</span>? come the <span style='color:red;' >fuck</span> on your're a <span style='color:red;' >moron</span>"
      ],
      "text/plain": [
       "<IPython.core.display.HTML object>"
      ]
     },
     "metadata": {},
     "output_type": "display_data"
    },
    {
     "name": "stdout",
     "output_type": "stream",
     "text": [
      "Keywords: 11\n",
      "[('white', 0.09705179139403544), ('lady', 0.09705179139403544), ('die', 0.12363091320521931), ('make', 0.2005079697193566), ('called', 0.2005079697193566), ('oppressed', 0.2005079697193566), ('niggers.', 0.2005079697193566), ('people', 0.2005079697193566), ('waiting', 0.2005079697193566), ('moron', 0.32883716426354986), ('fuck', 0.46553351027698087)]\n",
      "*********************************************\n",
      "TABO words: idiot\n"
     ]
    },
    {
     "data": {
      "text/html": [
       "One <span style='color:red;' >idiot</span> so far and it happens to be you."
      ],
      "text/plain": [
       "<IPython.core.display.HTML object>"
      ]
     },
     "metadata": {},
     "output_type": "display_data"
    },
    {
     "name": "stdout",
     "output_type": "stream",
     "text": [
      "Keywords: 1\n",
      "[('idiot', 0.29736558256021506)]\n",
      "*********************************************\n",
      "TABO words: idiot\n"
     ]
    },
    {
     "data": {
      "text/html": [
       "They have the <span style='color:red;' >white</span> <span style='color:red;' >house</span>, the <span style='color:red;' >house</span>, and the <span style='color:red;' >senate</span> and they can't <span style='color:red;' >govern</span> themselves out of a <span style='color:red;' >paper</span> <span style='color:red;' >bag</span>.  But <span style='color:red;' >hey</span>, keep <span style='color:red;' >ginning</span> up the <span style='color:red;' >race</span> <span style='color:red;' >baiting</span> cause that'll get the twice <span style='color:red;' >removed</span> <span style='color:red;' >judge</span> into <span style='color:red;' >office</span>.  Maybe that <span style='color:red;' >idiot</span> will help you."
      ],
      "text/plain": [
       "<IPython.core.display.HTML object>"
      ]
     },
     "metadata": {},
     "output_type": "display_data"
    },
    {
     "name": "stdout",
     "output_type": "stream",
     "text": [
      "Keywords: 14\n",
      "[('house', 0.02507042010238455), ('white', 0.06903547611611469), ('senate', 0.06903547611611469), ('bag', 0.11089584887165917), ('govern', 0.14512974642150178), ('paper', 0.14512974642150178), ('hey', 0.30225444524040984), ('office', 0.30225444524040984), ('ginning', 0.37091721938602207), ('race', 0.37091721938602207), ('baiting', 0.37091721938602207), ('removed', 0.37091721938602207), ('judge', 0.37091721938602207), ('idiot', 0.4620857202244552)]\n",
      "*********************************************\n",
      "TABO words: fools\n"
     ]
    },
    {
     "data": {
      "text/html": [
       "<span style='color:red;' >anti-vaccine</span> <span style='color:red;' >fools</span> <span style='color:red;' >reap</span> what you <span style='color:red;' >sow</span>."
      ],
      "text/plain": [
       "<IPython.core.display.HTML object>"
      ]
     },
     "metadata": {},
     "output_type": "display_data"
    },
    {
     "name": "stdout",
     "output_type": "stream",
     "text": [
      "Keywords: 4\n",
      "[('anti-vaccine', 0.15831692877998726), ('sow', 0.15831692877998726), ('fools', 0.29736558256021506), ('reap', 0.29736558256021506)]\n",
      "*********************************************\n",
      "TABO words: Idiot\n"
     ]
    },
    {
     "data": {
      "text/html": [
       "<span style='color:red;' >idiot</span>........"
      ],
      "text/plain": [
       "<IPython.core.display.HTML object>"
      ]
     },
     "metadata": {},
     "output_type": "display_data"
    },
    {
     "name": "stdout",
     "output_type": "stream",
     "text": [
      "Keywords: 1\n",
      "[('idiot', 0.04491197687864554)]\n",
      "*********************************************\n",
      "TABO words: seems crap crazy\n"
     ]
    },
    {
     "data": {
      "text/html": [
       "\"It seems almost everyone is <span style='color:red;' >falling</span> for it.\"  It's the same <span style='color:red;' >crap</span>, different <span style='color:red;' >packaging</span>. It <span style='color:red;' >drives</span> me <span style='color:red;' >crazy</span> that <span style='color:red;' >people</span> <span style='color:red;' >fall</span> for that just because of <span style='color:red;' >politics</span>.  <span style='color:red;' >russians</span> also <span style='color:red;' >made</span> the <span style='color:red;' >ref</span> <span style='color:red;' >overturn</span> the <span style='color:red;' >sanders</span> <span style='color:red;' >catch</span> then they hashtagged it to anger <span style='color:red;' >bronco</span> fans even more.   You can use <span style='color:red;' >russia</span> for any excuse these <span style='color:red;' >days</span>. All the ills of <span style='color:red;' >america</span> can be blamed on yet another <span style='color:red;' >entity</span>. <span style='color:red;' >weird</span>. Could swear I've seen this movie already."
      ],
      "text/plain": [
       "<IPython.core.display.HTML object>"
      ]
     },
     "metadata": {},
     "output_type": "display_data"
    },
    {
     "name": "stdout",
     "output_type": "stream",
     "text": [
      "Keywords: 20\n",
      "[('falling', 0.14078438231419763), ('politics', 0.2276451591266412), ('crap', 0.2948270607118151), ('packaging', 0.2948270607118151), ('sanders', 0.31162676484262425), ('bronco', 0.31162676484262425), ('russia', 0.34070188041326605), ('america', 0.36236001224536873), ('weird', 0.4116708833620828), ('russians', 0.4274241643904338), ('drives', 0.45328226244175845), ('crazy', 0.45328226244175845), ('people', 0.45328226244175845), ('fall', 0.45328226244175845), ('days', 0.4600823077913033), ('entity', 0.4837609764968867), ('made', 0.5039831778490236), ('ref', 0.5039831778490236), ('overturn', 0.5039831778490236), ('catch', 0.5039831778490236)]\n",
      "*********************************************\n",
      "TABO words: idiots\n"
     ]
    },
    {
     "data": {
      "text/html": [
       "<span style='color:red;' >judith</span> M - that is a <span style='color:red;' >complete</span> <span style='color:red;' >load</span> of BS, and you and your <span style='color:red;' >fake</span> news <span style='color:red;' >trolling</span> <span style='color:red;' >idiots</span> know it."
      ],
      "text/plain": [
       "<IPython.core.display.HTML object>"
      ]
     },
     "metadata": {},
     "output_type": "display_data"
    },
    {
     "name": "stdout",
     "output_type": "stream",
     "text": [
      "Keywords: 6\n",
      "[('judith', 0.09568045026443411), ('complete', 0.15831692877998726), ('load', 0.15831692877998726), ('fake', 0.15831692877998726), ('trolling', 0.15831692877998726), ('idiots', 0.15831692877998726)]\n",
      "*********************************************\n",
      "TABO words: idiot\n"
     ]
    },
    {
     "data": {
      "text/html": [
       "Go away <span style='color:red;' >mccain</span>, you're an <span style='color:red;' >idiot</span>."
      ],
      "text/plain": [
       "<IPython.core.display.HTML object>"
      ]
     },
     "metadata": {},
     "output_type": "display_data"
    },
    {
     "name": "stdout",
     "output_type": "stream",
     "text": [
      "Keywords: 2\n",
      "[('mccain', 0.15831692877998726), ('idiot', 0.15831692877998726)]\n",
      "*********************************************\n",
      "TABO words: pathetic\n"
     ]
    },
    {
     "data": {
      "text/html": [
       "You really shouldn't <span style='color:red;' >respond</span> to your own <span style='color:red;' >comments</span> under a different name. It <span style='color:red;' >makes</span> you look... <span style='color:red;' >mentally</span> <span style='color:red;' >unstable</span>. Or very, very <span style='color:red;' >pathetic</span>."
      ],
      "text/plain": [
       "<IPython.core.display.HTML object>"
      ]
     },
     "metadata": {},
     "output_type": "display_data"
    },
    {
     "name": "stdout",
     "output_type": "stream",
     "text": [
      "Keywords: 6\n",
      "[('respond', 0.23133275159292982), ('comments', 0.23133275159292982), ('mentally', 0.4613789858464135), ('unstable', 0.4613789858464135), ('makes', 0.5110573480904945), ('pathetic', 0.5121371841744414)]\n",
      "*********************************************\n",
      "TABO words: kiss your butt\n"
     ]
    },
    {
     "data": {
      "text/html": [
       "<span style='color:red;' >talkeetna</span> has never had any <span style='color:red;' >problem</span> with <span style='color:red;' >marijuana</span>. I say \"<span style='color:red;' >open</span> a <span style='color:red;' >pot</span> <span style='color:red;' >shop</span> the <span style='color:red;' >size</span> of <span style='color:red;' >walmart</span> and tell those <span style='color:red;' >soccer</span> <span style='color:red;' >moms</span> to <span style='color:red;' >kiss</span> your <span style='color:red;' >butt</span>.\" It's a <span style='color:red;' >free</span> <span style='color:red;' >country</span> and <span style='color:red;' >pot</span> is <span style='color:red;' >legal</span>. <span style='color:red;' >hey</span> <span style='color:red;' >soccer</span> <span style='color:red;' >moms,go</span> <span style='color:red;' >fight</span> something serious like <span style='color:red;' >meth</span>."
      ],
      "text/plain": [
       "<IPython.core.display.HTML object>"
      ]
     },
     "metadata": {},
     "output_type": "display_data"
    },
    {
     "name": "stdout",
     "output_type": "stream",
     "text": [
      "Keywords: 19\n",
      "[('marijuana', 0.07926135743112074), ('talkeetna', 0.1809006351039637), ('open', 0.23016356006181377), ('problem', 0.2819330146465614), ('pot', 0.3285946501883551), ('soccer', 0.3454427600532562), ('butt', 0.43408098144208557), ('legal', 0.5277502699097213), ('shop', 0.5769204738419826), ('size', 0.5769204738419826), ('walmart', 0.5769204738419826), ('moms', 0.5769204738419826), ('kiss', 0.5769204738419826), ('hey', 0.577974969127779), ('meth', 0.577974969127779), ('free', 0.6651832965145221), ('country', 0.6651832965145221), ('moms,go', 0.7088551056933529), ('fight', 0.7088551056933529)]\n",
      "*********************************************\n",
      "TABO words: ignorant\n"
     ]
    },
    {
     "data": {
      "text/html": [
       "You are an <span style='color:red;' >ignorant</span> A <span style='color:red;' >hole</span>"
      ],
      "text/plain": [
       "<IPython.core.display.HTML object>"
      ]
     },
     "metadata": {},
     "output_type": "display_data"
    },
    {
     "name": "stdout",
     "output_type": "stream",
     "text": [
      "Keywords: 2\n",
      "[('hole', 0.15831692877998726), ('ignorant', 0.29736558256021506)]\n",
      "*********************************************\n",
      "TABO words: ignorant\n"
     ]
    },
    {
     "data": {
      "text/html": [
       "with all the <span style='color:red;' >ignorant</span> <span style='color:red;' >left</span> <span style='color:red;' >wingers</span> here perhaps we can get them some help with <span style='color:red;' >thier</span> <span style='color:red;' >stupidity</span>"
      ],
      "text/plain": [
       "<IPython.core.display.HTML object>"
      ]
     },
     "metadata": {},
     "output_type": "display_data"
    },
    {
     "name": "stdout",
     "output_type": "stream",
     "text": [
      "Keywords: 5\n",
      "[('stupidity', 0.09568045026443411), ('ignorant', 0.15831692877998726), ('left', 0.15831692877998726), ('wingers', 0.15831692877998726), ('thier', 0.15831692877998726)]\n",
      "*********************************************\n",
      "TABO words: murdering kleptocrat dictator fool\n"
     ]
    },
    {
     "data": {
      "text/html": [
       "<span style='color:red;' >putin</span> is a <span style='color:red;' >murdering</span> <span style='color:red;' >kleptocrat</span> <span style='color:red;' >dictator</span>, and you are a <span style='color:red;' >fool</span>."
      ],
      "text/plain": [
       "<IPython.core.display.HTML object>"
      ]
     },
     "metadata": {},
     "output_type": "display_data"
    },
    {
     "name": "stdout",
     "output_type": "stream",
     "text": [
      "Keywords: 5\n",
      "[('putin', 0.09568045026443411), ('dictator', 0.09568045026443411), ('fool', 0.09568045026443411), ('murdering', 0.15831692877998726), ('kleptocrat', 0.15831692877998726)]\n",
      "*********************************************\n",
      "TABO words: idiot\n"
     ]
    },
    {
     "data": {
      "text/html": [
       "Hopefully we still have <span style='color:red;' >nato</span> <span style='color:red;' >allies</span> given the <span style='color:red;' >rhetoric</span> of the <span style='color:red;' >idiot</span> we have in the <span style='color:red;' >white</span> <span style='color:red;' >house</span>."
      ],
      "text/plain": [
       "<IPython.core.display.HTML object>"
      ]
     },
     "metadata": {},
     "output_type": "display_data"
    },
    {
     "name": "stdout",
     "output_type": "stream",
     "text": [
      "Keywords: 6\n",
      "[('house', 0.04776309965539685), ('nato', 0.06650965107397505), ('white', 0.06650965107397505), ('allies', 0.1155310835876123), ('rhetoric', 0.1155310835876123), ('idiot', 0.1155310835876123)]\n",
      "*********************************************\n",
      "TABO words: foolish troll\n"
     ]
    },
    {
     "data": {
      "text/html": [
       "907:  You are a <span style='color:red;' >foolish</span> <span style='color:red;' >troll</span> with <span style='color:red;' >absolutely</span> no <span style='color:red;' >credibility</span>.  Keep that in <span style='color:red;' >mind</span>."
      ],
      "text/plain": [
       "<IPython.core.display.HTML object>"
      ]
     },
     "metadata": {},
     "output_type": "display_data"
    },
    {
     "name": "stdout",
     "output_type": "stream",
     "text": [
      "Keywords: 5\n",
      "[('credibility', 0.2005079697193566), ('foolish', 0.36073110501666333), ('troll', 0.36073110501666333), ('absolutely', 0.36073110501666333), ('mind', 0.46553351027698087)]\n",
      "*********************************************\n",
      "TABO words: Republicans hypocrites\n"
     ]
    },
    {
     "data": {
      "text/html": [
       "<span style='color:red;' >republicans</span> are <span style='color:red;' >hypocrites</span>, but you <span style='color:red;' >knew</span> that already."
      ],
      "text/plain": [
       "<IPython.core.display.HTML object>"
      ]
     },
     "metadata": {},
     "output_type": "display_data"
    },
    {
     "name": "stdout",
     "output_type": "stream",
     "text": [
      "Keywords: 3\n",
      "[('republicans', 0.15831692877998726), ('hypocrites', 0.15831692877998726), ('knew', 0.29736558256021506)]\n",
      "*********************************************\n",
      "TABO words: trolls crap\n"
     ]
    },
    {
     "data": {
      "text/html": [
       "You mean like all the other <span style='color:red;' >conservative</span> <span style='color:red;' >trolls</span> or <span style='color:red;' >wrong-winger</span> <span style='color:red;' >mentality</span> that come on this <span style='color:red;' >site</span> and try to <span style='color:red;' >peddle</span> their <span style='color:red;' >crap</span>?"
      ],
      "text/plain": [
       "<IPython.core.display.HTML object>"
      ]
     },
     "metadata": {},
     "output_type": "display_data"
    },
    {
     "name": "stdout",
     "output_type": "stream",
     "text": [
      "Keywords: 7\n",
      "[('crap', 0.15831692877998726), ('conservative', 0.29736558256021506), ('trolls', 0.29736558256021506), ('wrong-winger', 0.29736558256021506), ('mentality', 0.29736558256021506), ('site', 0.29736558256021506), ('peddle', 0.29736558256021506)]\n",
      "*********************************************\n",
      "TABO words: insane\n"
     ]
    },
    {
     "data": {
      "text/html": [
       "I <span style='color:red;' >vote</span> for #1 - he is ... <span style='color:red;' >observably</span> <span style='color:red;' >insane</span>."
      ],
      "text/plain": [
       "<IPython.core.display.HTML object>"
      ]
     },
     "metadata": {},
     "output_type": "display_data"
    },
    {
     "name": "stdout",
     "output_type": "stream",
     "text": [
      "Keywords: 3\n",
      "[('vote', 0.36073110501666333), ('observably', 0.46553351027698087), ('insane', 0.46553351027698087)]\n",
      "*********************************************\n",
      "TABO words: Idiots idiots\n"
     ]
    },
    {
     "data": {
      "text/html": [
       "<span style='color:red;' >gop</span> <span style='color:red;' >strategist</span>: Trump's <span style='color:red;' >antics</span> <span style='color:red;' >make</span> <span style='color:red;' >republicans</span> Look Like 'A <span style='color:red;' >band</span> Of <span style='color:red;' >idiots'</span> \"A <span style='color:red;' >band</span> of <span style='color:red;' >idiots</span>\" should be on a <span style='color:red;' >t-shirt</span> at <span style='color:red;' >gop</span> <span style='color:red;' >dot</span> com.  http://crooksandliars.com/2017/09/gop-strategist-trumps-antics-make"
      ],
      "text/plain": [
       "<IPython.core.display.HTML object>"
      ]
     },
     "metadata": {},
     "output_type": "display_data"
    },
    {
     "name": "stdout",
     "output_type": "stream",
     "text": [
      "Keywords: 11\n",
      "[('band', 0.04289919871779394), ('strategist', 0.0630891548728466), ('trump', 0.0630891548728466), (\"idiots'\", 0.0630891548728466), ('gop', 0.06939321330592463), ('antics', 0.08488733163983551), ('make', 0.08488733163983551), ('republicans', 0.08488733163983551), ('idiots', 0.12696931063105557), ('t-shirt', 0.18516501832552387), ('dot', 0.18516501832552387)]\n",
      "*********************************************\n",
      "TABO words: stupidity\n"
     ]
    },
    {
     "data": {
      "text/html": [
       "Never <span style='color:red;' >underestimate</span> the <span style='color:red;' >stupidity</span> of the <span style='color:red;' >american</span> <span style='color:red;' >voter</span>."
      ],
      "text/plain": [
       "<IPython.core.display.HTML object>"
      ]
     },
     "metadata": {},
     "output_type": "display_data"
    },
    {
     "name": "stdout",
     "output_type": "stream",
     "text": [
      "Keywords: 4\n",
      "[('american', 0.08596317751626563), ('voter', 0.09568045026443411), ('underestimate', 0.15831692877998726), ('stupidity', 0.15831692877998726)]\n",
      "*********************************************\n",
      "TABO words: Where do you dig this crap up\n"
     ]
    },
    {
     "data": {
      "text/html": [
       "Where do you <span style='color:red;' >dig</span> this <span style='color:red;' >crap</span> up? And that is what it is without <span style='color:red;' >context</span>."
      ],
      "text/plain": [
       "<IPython.core.display.HTML object>"
      ]
     },
     "metadata": {},
     "output_type": "display_data"
    },
    {
     "name": "stdout",
     "output_type": "stream",
     "text": [
      "Keywords: 3\n",
      "[('dig', 0.2005079697193566), ('crap', 0.2005079697193566), ('context', 0.32883716426354986)]\n",
      "*********************************************\n",
      "TABO words: stupid\n"
     ]
    },
    {
     "data": {
      "text/html": [
       "Her <span style='color:red;' >life</span> is <span style='color:red;' >turned</span> <span style='color:red;' >upside</span> down and your best is <span style='color:red;' >calling</span> her <span style='color:red;' >stupid</span>? Please tell us where you <span style='color:red;' >graduated</span> from <span style='color:red;' >med</span> <span style='color:red;' >school</span>."
      ],
      "text/plain": [
       "<IPython.core.display.HTML object>"
      ]
     },
     "metadata": {},
     "output_type": "display_data"
    },
    {
     "name": "stdout",
     "output_type": "stream",
     "text": [
      "Keywords: 8\n",
      "[('stupid', 0.12363091320521931), ('life', 0.2005079697193566), ('turned', 0.2005079697193566), ('upside', 0.2005079697193566), ('calling', 0.2005079697193566), ('school', 0.32883716426354986), ('graduated', 0.46553351027698087), ('med', 0.46553351027698087)]\n",
      "*********************************************\n",
      "TABO words: \n"
     ]
    },
    {
     "data": {
      "text/html": [
       "So many <span style='color:red;' >loser</span> <span style='color:red;' >sens</span> <span style='color:red;' >fans</span> with <span style='color:red;' >lip</span> <span style='color:red;' >quiver</span>! <span style='color:red;' >hahaha</span>!"
      ],
      "text/plain": [
       "<IPython.core.display.HTML object>"
      ]
     },
     "metadata": {},
     "output_type": "display_data"
    },
    {
     "name": "stdout",
     "output_type": "stream",
     "text": [
      "Keywords: 6\n",
      "[('hahaha', 0.11555589791117535), ('sens', 0.15831692877998726), ('quiver', 0.2005079697193566), ('loser', 0.36073110501666333), ('fans', 0.36073110501666333), ('lip', 0.36073110501666333)]\n",
      "*********************************************\n",
      "TABO words: is a sulky boy Putin is a vicious sociopath Putin will have your children killed\n"
     ]
    },
    {
     "data": {
      "text/html": [
       "No, the <span style='color:red;' >biggest</span> <span style='color:red;' >difference</span> is that <span style='color:red;' >trump</span> is a <span style='color:red;' >sulky</span> <span style='color:red;' >boy</span> while <span style='color:red;' >putin</span> is a <span style='color:red;' >vicious</span> <span style='color:red;' >sociopath</span>. <span style='color:red;' >trump</span> will <span style='color:red;' >sneer</span> at you in <span style='color:red;' >tweets</span>. <span style='color:red;' >putin</span> will have your <span style='color:red;' >children</span> <span style='color:red;' >killed</span>."
      ],
      "text/plain": [
       "<IPython.core.display.HTML object>"
      ]
     },
     "metadata": {},
     "output_type": "display_data"
    },
    {
     "name": "stdout",
     "output_type": "stream",
     "text": [
      "Keywords: 12\n",
      "[('trump', 0.1342080604193443), ('sociopath', 0.14536815511045806), ('putin', 0.1735859628617571), ('biggest', 0.2099686893006317), ('difference', 0.2099686893006317), ('sulky', 0.2099686893006317), ('boy', 0.2099686893006317), ('vicious', 0.2099686893006317), ('tweets', 0.3713654090552335), ('killed', 0.4625630698930061), ('sneer', 0.4799915552528215), ('children', 0.5735276476815263)]\n",
      "*********************************************\n",
      "TABO words: stinkin, rotten, douchebag democrats\n"
     ]
    },
    {
     "data": {
      "text/html": [
       "Had no <span style='color:red;' >idea</span> there were so many <span style='color:red;' >stinkin</span>, <span style='color:red;' >rotten</span>, <span style='color:red;' >douchebag</span> <span style='color:red;' >democrats</span> in our <span style='color:red;' >great</span> state....wow...."
      ],
      "text/plain": [
       "<IPython.core.display.HTML object>"
      ]
     },
     "metadata": {},
     "output_type": "display_data"
    },
    {
     "name": "stdout",
     "output_type": "stream",
     "text": [
      "Keywords: 8\n",
      "[('rotten', 0.04491197687864554), ('wow', 0.04491197687864554), ('stinkin', 0.15831692877998726), ('douchebag', 0.15831692877998726), ('state', 0.15831692877998726), ('idea', 0.29736558256021506), ('democrats', 0.29736558256021506), ('great', 0.29736558256021506)]\n",
      "*********************************************\n",
      "TABO words: TRUMPTARDS HYPOCRITES HYPOCRITES LOSERS\n"
     ]
    },
    {
     "data": {
      "text/html": [
       "You <span style='color:red;' >trumptards</span> are such <span style='color:red;' >complete</span> <span style='color:red;' >hypocrites</span>!!!!  Every <span style='color:red;' >time</span> I <span style='color:red;' >post</span> \"<span style='color:red;' >trump</span> <span style='color:red;' >death</span> <span style='color:red;' >squads</span>™,\" you <span style='color:red;' >completely</span> <span style='color:red;' >freak</span> OUT!!!    But every <span style='color:red;' >time</span> <span style='color:red;' >palin</span> <span style='color:red;' >spewed</span> \"<span style='color:red;' >obama</span> <span style='color:red;' >death</span> <span style='color:red;' >squads</span>,\" you <span style='color:red;' >chanted</span> it like <span style='color:red;' >zombies</span>!!!  <span style='color:red;' >lmao</span>!!! WHAT <span style='color:red;' >frauds</span>! WHAT <span style='color:red;' >total</span> <span style='color:red;' >hypocrites</span>!!!! #LOSERS"
      ],
      "text/plain": [
       "<IPython.core.display.HTML object>"
      ]
     },
     "metadata": {},
     "output_type": "display_data"
    },
    {
     "name": "stdout",
     "output_type": "stream",
     "text": [
      "Keywords: 19\n",
      "[('squads', 0.09492412738350385), ('trumptards', 0.0971624071152177), ('complete', 0.0971624071152177), ('death', 0.14797611745387143), ('hypocrites', 0.14900340318509106), ('trump', 0.21709072193360998), ('lmao', 0.24880225819927962), ('time', 0.2588028729533623), ('freak', 0.27207481544348205), ('obama', 0.2877439714951286), ('zombies', 0.2877439714951286), ('losers', 0.30894388509590276), ('palin', 0.35256439635387526), ('frauds', 0.36108485623535497), ('post', 0.43285865065175844), ('total', 0.45585375213938834), ('spewed', 0.5265095711447718), ('completely', 0.5439090414128018), ('chanted', 0.6346980063910478)]\n",
      "*********************************************\n",
      "TABO words: rapist, murderers, thieves, and women beaters\n"
     ]
    },
    {
     "data": {
      "text/html": [
       "Now that looks like a <span style='color:red;' >fun</span> <span style='color:red;' >concert</span>....... <span style='color:red;' >full</span> of <span style='color:red;' >rapist</span>, <span style='color:red;' >murderers</span>, <span style='color:red;' >thieves</span>, and <span style='color:red;' >women</span> <span style='color:red;' >beaters</span>!!!!"
      ],
      "text/plain": [
       "<IPython.core.display.HTML object>"
      ]
     },
     "metadata": {},
     "output_type": "display_data"
    },
    {
     "name": "stdout",
     "output_type": "stream",
     "text": [
      "Keywords: 8\n",
      "[('murderers', 0.17881754828257995), ('thieves', 0.17881754828257995), ('concert', 0.2005079697193566), ('fun', 0.36073110501666333), ('full', 0.46553351027698087), ('rapist', 0.46553351027698087), ('beaters', 0.46553351027698087), ('women', 0.6621399683957523)]\n",
      "*********************************************\n",
      "TABO words: hypocritical ridiculous\n"
     ]
    },
    {
     "data": {
      "text/html": [
       "<span style='color:red;' >mark</span> <span style='color:red;' >hume</span> has always been the <span style='color:red;' >stereotypical</span> <span style='color:red;' >vancouverite</span>. <span style='color:red;' >scream</span> how <span style='color:red;' >logging</span> must be <span style='color:red;' >stopped</span>, while <span style='color:red;' >living</span> in a <span style='color:red;' >house</span> <span style='color:red;' >made</span> of <span style='color:red;' >wood</span>. It's so far <span style='color:red;' >past</span> <span style='color:red;' >hypocritical</span> to be <span style='color:red;' >ridiculous</span>."
      ],
      "text/plain": [
       "<IPython.core.display.HTML object>"
      ]
     },
     "metadata": {},
     "output_type": "display_data"
    },
    {
     "name": "stdout",
     "output_type": "stream",
     "text": [
      "Keywords: 14\n",
      "[('vancouverite', 0.06949481646017519), ('hume', 0.10141226884569679), ('mark', 0.13696809108329627), ('stereotypical', 0.2200560909321288), ('scream', 0.3553358554145339), ('stopped', 0.3553358554145339), ('wood', 0.3553358554145339), ('ridiculous', 0.44538603402402266), ('logging', 0.4949246952252326), ('living', 0.4949246952252326), ('house', 0.4949246952252326), ('made', 0.4949246952252326), ('past', 0.5880798524606783), ('hypocritical', 0.5880798524606783)]\n",
      "*********************************************\n",
      "TABO words: Muslims\n"
     ]
    },
    {
     "data": {
      "text/html": [
       "Every <span style='color:red;' >country</span> that has 50% or over <span style='color:red;' >muslims</span> <span style='color:red;' >makes</span> for other <span style='color:red;' >faiths</span> or <span style='color:red;' >individuals</span> very <span style='color:red;' >hard</span> to <span style='color:red;' >live</span>. <span style='color:red;' >talking</span> about being <span style='color:red;' >victim</span>, how about <span style='color:red;' >thousands</span> of <span style='color:red;' >indian</span> who were <span style='color:red;' >tortured</span> and <span style='color:red;' >killed</span> because they would not accept <span style='color:red;' >islam</span>. What about their <span style='color:red;' >identity</span>. What about <span style='color:red;' >identity</span> of countless <span style='color:red;' >christians</span> in <span style='color:red;' >arabic</span> countries : like <span style='color:red;' >iraq</span>, <span style='color:red;' >syria</span>, etc <span style='color:red;' >tortured</span> and <span style='color:red;' >killed</span> I <span style='color:red;' >totally</span> horrific ways but <span style='color:red;' >muslims</span> what about their victimization, what about their rights.  Those articles written about current situations in this newspaper are <span style='color:red;' >totally</span> pathetic. It’s a joke."
      ],
      "text/plain": [
       "<IPython.core.display.HTML object>"
      ]
     },
     "metadata": {},
     "output_type": "display_data"
    },
    {
     "name": "stdout",
     "output_type": "stream",
     "text": [
      "Keywords: 20\n",
      "[('muslims', 0.11165078515211965), ('live', 0.12961910298902607), ('country', 0.1585889479696035), ('makes', 0.1585889479696035), ('faiths', 0.1585889479696035), ('individuals', 0.1585889479696035), ('hard', 0.1585889479696035), ('islam', 0.17818126349516597), ('tortured', 0.18527966036847232), ('killed', 0.18527966036847232), ('indian', 0.20371439802287672), ('identity', 0.2219844408902189), ('totally', 0.24205465357615766), ('syria', 0.24218743596822984), ('iraq', 0.2790794008078018), ('christians', 0.31355461760424247), ('arabic', 0.31355461760424247), ('talking', 0.3408984158910156), ('victim', 0.3408984158910156), ('thousands', 0.3956252404001662)]\n",
      "*********************************************\n",
      "TABO words: hypocrites\n"
     ]
    },
    {
     "data": {
      "text/html": [
       "aa <span style='color:red;' >poor</span> <span style='color:red;' >hating</span> <span style='color:red;' >lefty</span> <span style='color:red;' >loser</span>, <span style='color:red;' >trump</span> <span style='color:red;' >controls</span> his <span style='color:red;' >message</span> and your <span style='color:red;' >precious</span> <span style='color:red;' >cnn</span> is <span style='color:red;' >left</span> out, keep <span style='color:red;' >crying</span> <span style='color:red;' >bud</span>!!! <span style='color:red;' >btw</span> you <span style='color:red;' >hypocrites</span> are <span style='color:red;' >pathetic</span> ,that <span style='color:red;' >woman</span> was <span style='color:red;' >vile</span>, <span style='color:red;' >insulting</span> and all around <span style='color:red;' >disgusting</span> with her words on <span style='color:red;' >trump</span> but thats ok for you lunatics on the <span style='color:red;' >left</span>, since <span style='color:red;' >trump</span> cant respond accordingly, but she gets the <span style='color:red;' >pass</span>"
      ],
      "text/plain": [
       "<IPython.core.display.HTML object>"
      ]
     },
     "metadata": {},
     "output_type": "display_data"
    },
    {
     "name": "stdout",
     "output_type": "stream",
     "text": [
      "Keywords: 20\n",
      "[('loser', 0.12852528974813643), ('bud', 0.12852528974813643), ('trump', 0.1371524585020948), ('left', 0.17556010090900848), ('poor', 0.1872811830535284), ('hating', 0.1872811830535284), ('lefty', 0.1872811830535284), ('controls', 0.1872811830535284), ('message', 0.1872811830535284), ('precious', 0.1872811830535284), ('cnn', 0.1872811830535284), ('crying', 0.1872811830535284), ('btw', 0.3387155216845848), ('pathetic', 0.3387155216845848), ('vile', 0.3387155216845848), ('insulting', 0.3387155216845848), ('pass', 0.3387155216845848), ('hypocrites', 0.4445449694373475), ('woman', 0.4445449694373475), ('disgusting', 0.4445449694373475)]\n",
      "*********************************************\n",
      "TABO words: ignorant leftist\n"
     ]
    },
    {
     "data": {
      "text/html": [
       "No, that is your <span style='color:red;' >ignorant</span>, <span style='color:red;' >leftist</span> <span style='color:red;' >bias</span> <span style='color:red;' >peeking</span> through."
      ],
      "text/plain": [
       "<IPython.core.display.HTML object>"
      ]
     },
     "metadata": {},
     "output_type": "display_data"
    },
    {
     "name": "stdout",
     "output_type": "stream",
     "text": [
      "Keywords: 4\n",
      "[('ignorant', 0.15831692877998726), ('leftist', 0.15831692877998726), ('bias', 0.29736558256021506), ('peeking', 0.29736558256021506)]\n",
      "*********************************************\n",
      "TABO words: \n"
     ]
    },
    {
     "data": {
      "text/html": [
       "if you \"<span style='color:red;' >complain</span>\" <span style='color:red;' >nicely</span> if you have a <span style='color:red;' >problem</span> rather than being a <span style='color:red;' >jerk</span> you will get more vouchers/ect. 99% of <span style='color:red;' >people</span> are just mean and that will not help you.   <span style='color:red;' >invest</span> in <span style='color:red;' >boardroom</span>, especially if you want a <span style='color:red;' >quiet</span> <span style='color:red;' >break</span> from the \"<span style='color:red;' >puplic</span>\", <span style='color:red;' >loud</span> <span style='color:red;' >kids</span>, <span style='color:red;' >ect</span>., Its <span style='color:red;' >worth</span> it."
      ],
      "text/plain": [
       "<IPython.core.display.HTML object>"
      ]
     },
     "metadata": {},
     "output_type": "display_data"
    },
    {
     "name": "stdout",
     "output_type": "stream",
     "text": [
      "Keywords: 16\n",
      "[('complain', 0.06588837669267192), ('ect', 0.06588837669267192), ('nicely', 0.09220612519689587), ('vouchers', 0.09220612519689587), ('problem', 0.12145861573270843), ('jerk', 0.12145861573270843), ('boardroom', 0.21291019331330654), ('puplic', 0.26303348124903125), ('ect.', 0.26303348124903125), ('people', 0.3243938762255281), ('invest', 0.3394787329105206), ('loud', 0.3394787329105206), ('kids', 0.3394787329105206), ('quiet', 0.41160928182721285), ('break', 0.41160928182721285), ('worth', 0.41160928182721285)]\n",
      "*********************************************\n",
      "TABO words: suck eggs\n"
     ]
    },
    {
     "data": {
      "text/html": [
       "I think <span style='color:red;' >americans</span> believe their <span style='color:red;' >president</span> should be <span style='color:red;' >free</span> to <span style='color:red;' >speak</span> to whoever he thinks best.  So <span style='color:red;' >prc</span> can go <span style='color:red;' >suck</span> <span style='color:red;' >eggs</span>."
      ],
      "text/plain": [
       "<IPython.core.display.HTML object>"
      ]
     },
     "metadata": {},
     "output_type": "display_data"
    },
    {
     "name": "stdout",
     "output_type": "stream",
     "text": [
      "Keywords: 7\n",
      "[('americans', 0.09705179139403544), ('president', 0.2005079697193566), ('free', 0.2005079697193566), ('speak', 0.2005079697193566), ('prc', 0.2718250226855089), ('eggs', 0.32883716426354986), ('suck', 0.46553351027698087)]\n",
      "*********************************************\n",
      "TABO words: fool\n"
     ]
    },
    {
     "data": {
      "text/html": [
       "You <span style='color:red;' >fool</span>. The <span style='color:red;' >nep</span> had nothing to do with <span style='color:red;' >world</span> <span style='color:red;' >oil</span>  <span style='color:red;' >prices</span> <span style='color:red;' >dropping</span> to 5 <span style='color:red;' >bucks</span> a <span style='color:red;' >barrel</span>.  You must have <span style='color:red;' >spent</span> your <span style='color:red;' >ralph</span> <span style='color:red;' >bucks</span>."
      ],
      "text/plain": [
       "<IPython.core.display.HTML object>"
      ]
     },
     "metadata": {},
     "output_type": "display_data"
    },
    {
     "name": "stdout",
     "output_type": "stream",
     "text": [
      "Keywords: 10\n",
      "[('fool', 0.1680456893904008), ('nep', 0.30006665210149525), ('bucks', 0.31840087839888004), ('ralph', 0.38446351050064803), ('barrel', 0.4122906395087072), ('world', 0.5549916791128103), ('oil', 0.5549916791128103), ('prices', 0.5549916791128103), ('dropping', 0.5549916791128103), ('spent', 0.6450143698288692)]\n",
      "*********************************************\n",
      "TABO words: idiots\n"
     ]
    },
    {
     "data": {
      "text/html": [
       "A <span style='color:red;' >hell</span> of a <span style='color:red;' >lot</span> more than <span style='color:red;' >republicans</span> have to <span style='color:red;' >show</span>.  <span style='color:red;' >hell</span> the <span style='color:red;' >idiots</span> couldn't even <span style='color:red;' >replace</span> <span style='color:red;' >obama</span> <span style='color:red;' >care</span>, something they have <span style='color:red;' >run</span> against for the <span style='color:red;' >past</span> 7 <span style='color:red;' >years</span>.  When the <span style='color:red;' >economy</span> <span style='color:red;' >crashes</span>, it will be <span style='color:red;' >interesting</span> to see just what the <span style='color:red;' >hell</span> <span style='color:red;' >republicans</span> will do?  Anything?"
      ],
      "text/plain": [
       "<IPython.core.display.HTML object>"
      ]
     },
     "metadata": {},
     "output_type": "display_data"
    },
    {
     "name": "stdout",
     "output_type": "stream",
     "text": [
      "Keywords: 14\n",
      "[('hell', 0.151748564726513), ('show', 0.15287634202956388), ('lot', 0.20626724452053258), ('republicans', 0.22257091116446837), ('obama', 0.24102212869901596), ('years', 0.2862909484102854), ('care', 0.38528399000632757), ('past', 0.38528399000632757), ('idiots', 0.47438829154625256), ('replace', 0.47438829154625256), ('run', 0.47438829154625256), ('crashes', 0.47730446985045605), ('economy', 0.5680252091963145), ('interesting', 0.5680252091963145)]\n",
      "*********************************************\n",
      "TABO words: stupid\n"
     ]
    },
    {
     "data": {
      "text/html": [
       "But did he have any <span style='color:red;' >attack</span> <span style='color:red;' >chickens</span>? Saw a <span style='color:red;' >pop</span> up <span style='color:red;' >selling</span> <span style='color:red;' >full</span> <span style='color:red;' >auto</span> <span style='color:red;' >assault</span> <span style='color:red;' >chickens</span>  And there is no <span style='color:red;' >background</span> <span style='color:red;' >check</span> to own and can be <span style='color:red;' >easily</span> <span style='color:red;' >concealed</span> and are even <span style='color:red;' >allowed</span> in <span style='color:red;' >schools</span>. Meanwhile <span style='color:red;' >yesterday</span> <span style='color:red;' >cell</span> <span style='color:red;' >phones</span> <span style='color:red;' >accounted</span> for 63 <span style='color:red;' >deaths</span> by <span style='color:red;' >distracted</span> <span style='color:red;' >drivers</span>. It's not the weapon stupid it's the person using it."
      ],
      "text/plain": [
       "<IPython.core.display.HTML object>"
      ]
     },
     "metadata": {},
     "output_type": "display_data"
    },
    {
     "name": "stdout",
     "output_type": "stream",
     "text": [
      "Keywords: 20\n",
      "[('chickens', 0.18420818455012847), ('attack', 0.19898155996007139), ('schools', 0.35573563332328545), ('deaths', 0.44581706193449877), ('drivers', 0.44581706193449877), ('pop', 0.4631583433540077), ('selling', 0.4631583433540077), ('full', 0.4631583433540077), ('auto', 0.4631583433540077), ('assault', 0.4631583433540077), ('background', 0.4631583433540077), ('check', 0.4631583433540077), ('easily', 0.4631583433540077), ('concealed', 0.4631583433540077), ('allowed', 0.4631583433540077), ('yesterday', 0.5569273257335275), ('cell', 0.5569273257335275), ('phones', 0.5569273257335275), ('accounted', 0.5569273257335275), ('distracted', 0.5569273257335275)]\n",
      "*********************************************\n",
      "TABO words: buffoon Sad Weak\n"
     ]
    },
    {
     "data": {
      "text/html": [
       "<span style='color:red;' >jenkins</span> <span style='color:red;' >wishes</span> he could be as <span style='color:red;' >big</span> a <span style='color:red;' >buffoon</span> as <span style='color:red;' >trump</span>. His best <span style='color:red;' >efforts</span> were 30 <span style='color:red;' >years</span> <span style='color:red;' >ago</span>. He only <span style='color:red;' >achieved</span> <span style='color:red;' >small</span> <span style='color:red;' >mindedness</span>, <span style='color:red;' >speciousness</span> and <span style='color:red;' >sanctimony</span>. <span style='color:red;' >sad</span>. <span style='color:red;' >weak</span>."
      ],
      "text/plain": [
       "<IPython.core.display.HTML object>"
      ]
     },
     "metadata": {},
     "output_type": "display_data"
    },
    {
     "name": "stdout",
     "output_type": "stream",
     "text": [
      "Keywords: 15\n",
      "[('trump', 0.0726772423782132), ('jenkins', 0.149905405948569), ('wishes', 0.2386710978348089), ('big', 0.2386710978348089), ('buffoon', 0.2386710978348089), ('sad', 0.32705176562700716), ('weak', 0.3568200533666425), ('years', 0.3798215915560938), ('ago', 0.3798215915560938), ('mindedness', 0.4715382012123803), ('speciousness', 0.4715382012123803), ('sanctimony', 0.4715382012123803), ('efforts', 0.5212518383364516), ('achieved', 0.6133447588150343), ('small', 0.6133447588150343)]\n",
      "*********************************************\n",
      "TABO words: shut Suck\n"
     ]
    },
    {
     "data": {
      "text/html": [
       "And <span style='color:red;' >power</span> <span style='color:red;' >consumption</span> will only <span style='color:red;' >increase</span> after <span style='color:red;' >marijuana</span> is <span style='color:red;' >decriminalized</span>.  Those <span style='color:red;' >plants</span> is our <span style='color:red;' >basements</span> would <span style='color:red;' >wilt</span> if we <span style='color:red;' >shut</span> the <span style='color:red;' >lights</span> off.   <span style='color:red;' >suck</span> and <span style='color:red;' >blow</span> <span style='color:red;' >justin</span>."
      ],
      "text/plain": [
       "<IPython.core.display.HTML object>"
      ]
     },
     "metadata": {},
     "output_type": "display_data"
    },
    {
     "name": "stdout",
     "output_type": "stream",
     "text": [
      "Keywords: 13\n",
      "[('decriminalized', 0.13696809108329627), ('power', 0.2200560909321288), ('consumption', 0.2200560909321288), ('increase', 0.2200560909321288), ('marijuana', 0.2200560909321288), ('justin', 0.2742624966594226), ('suck', 0.44538603402402266), ('plants', 0.4949246952252326), ('basements', 0.4949246952252326), ('wilt', 0.4949246952252326), ('shut', 0.4949246952252326), ('lights', 0.4949246952252326), ('blow', 0.5880798524606783)]\n",
      "*********************************************\n",
      "TABO words: lunatic stupidity lunatic\n"
     ]
    },
    {
     "data": {
      "text/html": [
       "the <span style='color:red;' >lunatic</span> <span style='color:red;' >hating</span> <span style='color:red;' >left</span> <span style='color:red;' >wingers</span> are out it <span style='color:red;' >force</span> <span style='color:red;' >today</span>, <span style='color:red;' >spewing</span> <span style='color:red;' >thier</span> <span style='color:red;' >utter</span> <span style='color:red;' >stupidity</span> that thinks <span style='color:red;' >comey</span> did anything to <span style='color:red;' >trump</span> when all he did was <span style='color:red;' >admit</span> <span style='color:red;' >comey</span> did a <span style='color:red;' >leak</span>, still no <span style='color:red;' >evidence</span> at all about any <span style='color:red;' >russia</span> bs, no <span style='color:red;' >obstruction</span> by his own <span style='color:red;' >admission</span>, <span style='color:red;' >nada</span>, not one thing anyone can attach a criminal statute too, , but the <span style='color:red;' >lunatic</span> <span style='color:red;' >left</span> living in <span style='color:red;' >thier</span> complete <span style='color:red;' >stupidity</span> still thinks <span style='color:red;' >trump</span> is done, ha ha ha what a bunch of uneducated <span style='color:red;' >sheep</span>"
      ],
      "text/plain": [
       "<IPython.core.display.HTML object>"
      ]
     },
     "metadata": {},
     "output_type": "display_data"
    },
    {
     "name": "stdout",
     "output_type": "stream",
     "text": [
      "Keywords: 20\n",
      "[('nada', 0.055012255605756503), ('lunatic', 0.07214318191126844), ('comey', 0.07214318191126844), ('left', 0.09333197253767118), ('thier', 0.09333197253767118), ('stupidity', 0.09333197253767118), ('trump', 0.09333197253767118), ('today', 0.0937866855411403), ('spewing', 0.0937866855411403), ('leak', 0.0937866855411403), ('admission', 0.0937866855411403), ('sheep', 0.0937866855411403), ('hating', 0.13919828894679062), ('wingers', 0.13919828894679062), ('force', 0.13919828894679062), ('utter', 0.13919828894679062), ('admit', 0.13919828894679062), ('evidence', 0.13919828894679062), ('russia', 0.13919828894679062), ('obstruction', 0.13919828894679062)]\n",
      "*********************************************\n",
      "TABO words: Sick bastards shot\n"
     ]
    },
    {
     "data": {
      "text/html": [
       "<span style='color:red;' >sick</span> <span style='color:red;' >bastards</span> should be <span style='color:red;' >shot</span>."
      ],
      "text/plain": [
       "<IPython.core.display.HTML object>"
      ]
     },
     "metadata": {},
     "output_type": "display_data"
    },
    {
     "name": "stdout",
     "output_type": "stream",
     "text": [
      "Keywords: 3\n",
      "[('sick', 0.15831692877998726), ('shot', 0.15831692877998726), ('bastards', 0.29736558256021506)]\n",
      "*********************************************\n",
      "TABO words: You are a delusional fool uninformed, paranoid and incapable of original thought\n"
     ]
    },
    {
     "data": {
      "text/html": [
       "You are a <span style='color:red;' >delusional</span> <span style='color:red;' >fool</span>.  Not even an <span style='color:red;' >entertaining</span> one.  Your are <span style='color:red;' >uninformed</span>, <span style='color:red;' >paranoid</span> and <span style='color:red;' >incapable</span> of <span style='color:red;' >original</span> <span style='color:red;' >thought</span>.  In other <span style='color:red;' >words</span>, a <span style='color:red;' >typical</span> <span style='color:red;' >trump</span> <span style='color:red;' >supporter</span>.  But come <span style='color:red;' >november</span>, you <span style='color:red;' >lose</span>."
      ],
      "text/plain": [
       "<IPython.core.display.HTML object>"
      ]
     },
     "metadata": {},
     "output_type": "display_data"
    },
    {
     "name": "stdout",
     "output_type": "stream",
     "text": [
      "Keywords: 14\n",
      "[('fool', 0.149905405948569), ('delusional', 0.2386710978348089), ('november', 0.3568200533666425), ('trump', 0.42163019807883656), ('uninformed', 0.4715382012123803), ('paranoid', 0.4715382012123803), ('thought', 0.4715382012123803), ('entertaining', 0.5212518383364516), ('words', 0.5223302035298336), ('supporter', 0.5223302035298336), ('lose', 0.5552083007126032), ('incapable', 0.6133447588150343), ('original', 0.6133447588150343), ('typical', 0.6603253488343742)]\n",
      "*********************************************\n",
      "TABO words: Idiot\n"
     ]
    },
    {
     "data": {
      "text/html": [
       "<span style='color:red;' >idiot</span>"
      ],
      "text/plain": [
       "<IPython.core.display.HTML object>"
      ]
     },
     "metadata": {},
     "output_type": "display_data"
    },
    {
     "name": "stdout",
     "output_type": "stream",
     "text": [
      "Keywords: 1\n",
      "[('idiot', 0.04491197687864554)]\n",
      "*********************************************\n",
      "TABO words: by2% dumb dumber\n"
     ]
    },
    {
     "data": {
      "text/html": [
       "<span style='color:red;' >building</span> <span style='color:red;' >rail</span> to <span style='color:red;' >reduce</span> <span style='color:red;' >traffic</span> by2% = <span style='color:red;' >dumb</span>.   <span style='color:red;' >trusting</span> <span style='color:red;' >hart</span> and the <span style='color:red;' >city</span> to <span style='color:red;' >build</span> <span style='color:red;' >rail</span> to <span style='color:red;' >ala</span> <span style='color:red;' >moana</span>, even with a 10 <span style='color:red;' >year</span> GET <span style='color:red;' >extension</span> = <span style='color:red;' >dumber</span>."
      ],
      "text/plain": [
       "<IPython.core.display.HTML object>"
      ]
     },
     "metadata": {},
     "output_type": "display_data"
    },
    {
     "name": "stdout",
     "output_type": "stream",
     "text": [
      "Keywords: 14\n",
      "[('dumb', 0.06946630911415047), ('building', 0.11716529569858515), ('traffic', 0.11716529569858515), ('rail', 0.1317446175541598), ('reduce', 0.17175141526611762), ('moana', 0.18295968277397556), ('dumber', 0.205890188530506), ('hart', 0.23666276309579923), ('ala', 0.23666276309579923), ('trusting', 0.3155033075714363), ('year', 0.3155033075714363), ('extension', 0.3155033075714363), ('city', 0.41867195128317747), ('build', 0.41867195128317747)]\n",
      "*********************************************\n",
      "TABO words: Stupid stupid stupid\n"
     ]
    },
    {
     "data": {
      "text/html": [
       "<span style='color:red;' >stupid</span> <span style='color:red;' >conspiracy</span> <span style='color:red;' >tin-foil</span> <span style='color:red;' >hat</span> <span style='color:red;' >wearers</span> everywhere <span style='color:red;' >unite</span>. As if there aren't enough <span style='color:red;' >real</span>, <span style='color:red;' >actual</span>  <span style='color:red;' >problems</span> to <span style='color:red;' >deal</span> with. <span style='color:red;' >evidently</span> <span style='color:red;' >false</span> and <span style='color:red;' >blatently</span> <span style='color:red;' >stupid</span> <span style='color:red;' >fake</span> news conspiraccy <span style='color:red;' >tales</span> are just further <span style='color:red;' >proof</span> that <span style='color:red;' >americans</span> as a <span style='color:red;' >populace</span> are way too <span style='color:red;' >stupid</span> to be <span style='color:red;' >allowed</span> out without adult <span style='color:red;' >supervision</span>."
      ],
      "text/plain": [
       "<IPython.core.display.HTML object>"
      ]
     },
     "metadata": {},
     "output_type": "display_data"
    },
    {
     "name": "stdout",
     "output_type": "stream",
     "text": [
      "Keywords: 20\n",
      "[('unite', 0.14365455273064157), ('stupid', 0.17509471009161395), ('conspiracy', 0.20767862490696945), ('tin-foil', 0.20767862490696945), ('hat', 0.20767862490696945), ('wearers', 0.20767862490696945), ('americans', 0.33169885944661187), ('real', 0.36813529893993713), ('actual', 0.36813529893993713), ('evidently', 0.45911905977094336), ('supervision', 0.45911905977094336), ('problems', 0.4765328398925893), ('deal', 0.4765328398925893), ('false', 0.5701339016525728), ('blatently', 0.5701339016525728), ('fake', 0.5701339016525728), ('tales', 0.5701339016525728), ('proof', 0.5701339016525728), ('populace', 0.5701339016525728), ('allowed', 0.5701339016525728)]\n",
      "*********************************************\n",
      "TABO words: stupid stupid\n"
     ]
    },
    {
     "data": {
      "text/html": [
       "Also <span style='color:red;' >ervin</span> is <span style='color:red;' >pointed</span> out as <span style='color:red;' >black</span> n the <span style='color:red;' >story</span>. Why <span style='color:red;' >didnt</span> they <span style='color:red;' >point</span> out that he is also <span style='color:red;' >native</span> <span style='color:red;' >american</span> or <span style='color:red;' >jewish</span>? Do <span style='color:red;' >native</span> <span style='color:red;' >americans</span> not <span style='color:red;' >deserve</span> their <span style='color:red;' >race</span> to b <span style='color:red;' >spotlighted</span>?!  The <span style='color:red;' >guy</span> looks <span style='color:red;' >hispanic</span> to me! Let others decide the <span style='color:red;' >race</span> not that it <span style='color:red;' >matters</span>. If the  newspaper wants to make this event about <span style='color:red;' >race</span> then they should include all the <span style='color:red;' >races</span> and <span style='color:red;' >cultures</span>! Its all so <span style='color:red;' >stupid</span>. This journalist <span style='color:red;' >deserves</span> the gold medal <span style='color:red;' >stupid</span> award!"
      ],
      "text/plain": [
       "<IPython.core.display.HTML object>"
      ]
     },
     "metadata": {},
     "output_type": "display_data"
    },
    {
     "name": "stdout",
     "output_type": "stream",
     "text": [
      "Keywords: 20\n",
      "[('ervin', 0.07792768182414629), ('story', 0.1655989169605215), ('race', 0.1866847010876946), ('pointed', 0.20585684930735373), ('black', 0.20585684930735373), ('native', 0.20793391288459076), ('stupid', 0.3180114127069997), ('jewish', 0.40803178103116805), ('american', 0.4158678257691815), ('americans', 0.4158678257691815), ('didnt', 0.47376284716831596), ('point', 0.47376284716831596), ('spotlighted', 0.5010568137869946), ('races', 0.5600541032630838), ('matters', 0.5841747193036426), ('deserve', 0.6013634898221781), ('deserves', 0.6013634898221781), ('cultures', 0.6070591870270934), ('guy', 0.6164815622888322), ('hispanic', 0.6164815622888322)]\n",
      "*********************************************\n",
      "TABO words: idiot\n"
     ]
    },
    {
     "data": {
      "text/html": [
       "Only a <span style='color:red;' >total</span> <span style='color:red;' >idiot</span> would <span style='color:red;' >vote</span> for <span style='color:red;' >clinton</span>."
      ],
      "text/plain": [
       "<IPython.core.display.HTML object>"
      ]
     },
     "metadata": {},
     "output_type": "display_data"
    },
    {
     "name": "stdout",
     "output_type": "stream",
     "text": [
      "Keywords: 4\n",
      "[('clinton', 0.08596317751626563), ('total', 0.29736558256021506), ('idiot', 0.29736558256021506), ('vote', 0.29736558256021506)]\n",
      "*********************************************\n",
      "TABO words: SHOOT KILL FUCK\n"
     ]
    },
    {
     "data": {
      "text/html": [
       "<span style='color:red;' >save</span> a <span style='color:red;' >wild</span> <span style='color:red;' >animal</span> <span style='color:red;' >shoot</span> A <span style='color:red;' >hunter</span> IN THE <span style='color:red;' >head</span> <span style='color:red;' >single</span> <span style='color:red;' >kill</span> <span style='color:red;' >shot</span>!!!!! <span style='color:red;' >fuck</span> YOU <span style='color:red;' >alaska</span>"
      ],
      "text/plain": [
       "<IPython.core.display.HTML object>"
      ]
     },
     "metadata": {},
     "output_type": "display_data"
    },
    {
     "name": "stdout",
     "output_type": "stream",
     "text": [
      "Keywords: 11\n",
      "[('shot', 0.06588837669267192), ('shoot', 0.09705179139403544), ('hunter', 0.09705179139403544), ('head', 0.09705179139403544), ('single', 0.09705179139403544), ('kill', 0.09705179139403544), ('save', 0.12363091320521931), ('fuck', 0.19677146788549632), ('alaska', 0.19677146788549632), ('wild', 0.2005079697193566), ('animal', 0.2005079697193566)]\n",
      "*********************************************\n",
      "TABO words: hypocrisy\n"
     ]
    },
    {
     "data": {
      "text/html": [
       "<span style='color:red;' >migawd</span>, the <span style='color:red;' >hypocrisy</span> of <span style='color:red;' >liberals</span> knows no <span style='color:red;' >bounds</span>.  <span style='color:red;' >scheer</span> is <span style='color:red;' >elected</span> <span style='color:red;' >leader</span>, and the <span style='color:red;' >libs</span> <span style='color:red;' >cry</span> \"<span style='color:red;' >harperite</span>\".  <span style='color:red;' >kenney</span> announces he is <span style='color:red;' >running</span> for the <span style='color:red;' >leadership</span> race in <span style='color:red;' >alberta</span>, and the <span style='color:red;' >libs</span> <span style='color:red;' >cry</span> \"<span style='color:red;' >harperite</span>\".  Dianne <span style='color:red;' >watts</span> mulls <span style='color:red;' >running</span> for the BC <span style='color:red;' >liberal</span> <span style='color:red;' >leadership</span> position, and the <span style='color:red;' >libs</span> <span style='color:red;' >cry</span> \"<span style='color:red;' >harperite</span>\".  Don't like anyone from the right side of the political spectrum, and they are all labelled \"<span style='color:red;' >harperites</span>\".   And yet if <span style='color:red;' >trudeau</span> does something that critics would have skewered <span style='color:red;' >harper</span> for doing, the <span style='color:red;' >lib</span> commentators go silent. Just sayin'."
      ],
      "text/plain": [
       "<IPython.core.display.HTML object>"
      ]
     },
     "metadata": {},
     "output_type": "display_data"
    },
    {
     "name": "stdout",
     "output_type": "stream",
     "text": [
      "Keywords: 20\n",
      "[('harperite', 0.03851839914870318), ('cry', 0.08185936877839492), ('libs', 0.09422388148137552), ('harperites', 0.11555519744610954), ('migawd', 0.1351912189281775), ('bounds', 0.1617726817069403), ('hypocrisy', 0.189313535614059), ('running', 0.2203772459370367), ('liberals', 0.22643260982696298), ('liberal', 0.22643260982696298), ('leadership', 0.24025305057419163), ('alberta', 0.25541340347778435), ('lib', 0.28267164444412657), ('watts', 0.3232598357829332), ('trudeau', 0.37485564499168955), ('harper', 0.37485564499168955), ('scheer', 0.4012980301693033), ('leader', 0.4012980301693033), ('elected', 0.44783076010978834), ('kenney', 0.4940691744738179)]\n",
      "*********************************************\n",
      "TABO words: dumber\n"
     ]
    },
    {
     "data": {
      "text/html": [
       "This is what happens when <span style='color:red;' >people</span> <span style='color:red;' >start</span> to become so <span style='color:red;' >dependent</span> on <span style='color:red;' >government</span> that they won't even <span style='color:red;' >discipline</span> their own <span style='color:red;' >kids</span>. This is very <span style='color:red;' >similar</span> to the 1950's and '60's <span style='color:red;' >fear</span> of <span style='color:red;' >excessive</span> <span style='color:red;' >television</span> <span style='color:red;' >watching</span> by <span style='color:red;' >children</span>.  Thank <span style='color:red;' >goodness</span> the <span style='color:red;' >neighborhood</span> <span style='color:red;' >police</span> <span style='color:red;' >spy</span> <span style='color:red;' >network</span> didn't have the cops kick in living room doors and arrest parents for allowing their <span style='color:red;' >children</span> to watch <span style='color:red;' >bonanza</span>. If you will pay through the nose to let your preteen live <span style='color:red;' >online</span>, your <span style='color:red;' >kid</span> will probably grow up dumber than you... but not by much."
      ],
      "text/plain": [
       "<IPython.core.display.HTML object>"
      ]
     },
     "metadata": {},
     "output_type": "display_data"
    },
    {
     "name": "stdout",
     "output_type": "stream",
     "text": [
      "Keywords: 20\n",
      "[('people', 0.1782337956364603), ('start', 0.1782337956364603), ('dependent', 0.1782337956364603), ('government', 0.1782337956364603), ('discipline', 0.1782337956364603), ('children', 0.22777894787085984), ('bonanza', 0.25042697537010866), ('fear', 0.34344820284948585), ('similar', 0.4296394912068667), ('excessive', 0.4296394912068667), ('television', 0.4296394912068667), ('watching', 0.4296394912068667), ('kids', 0.4555578957417197), ('kid', 0.4555578957417197), ('online', 0.48293676226502574), ('goodness', 0.5232364942090229), ('neighborhood', 0.5232364942090229), ('police', 0.5232364942090229), ('spy', 0.5232364942090229), ('network', 0.5232364942090229)]\n",
      "*********************************************\n",
      "TABO words: idiot\n"
     ]
    },
    {
     "data": {
      "text/html": [
       "My <span style='color:red;' >grandfather</span> must have <span style='color:red;' >paraphrased</span> this, he <span style='color:red;' >simply</span> <span style='color:red;' >taught</span> me, \"Never <span style='color:red;' >argue</span> with an <span style='color:red;' >idiot</span>, you'll never <span style='color:red;' >win</span>.\" <span style='color:red;' >sound</span> <span style='color:red;' >words</span> I use often. The <span style='color:red;' >main</span> <span style='color:red;' >reason</span> I never <span style='color:red;' >argue</span> with myself."
      ],
      "text/plain": [
       "<IPython.core.display.HTML object>"
      ]
     },
     "metadata": {},
     "output_type": "display_data"
    },
    {
     "name": "stdout",
     "output_type": "stream",
     "text": [
      "Keywords: 11\n",
      "[('idiot', 0.13637374349370654), ('win', 0.13637374349370654), ('argue', 0.14997212690402148), ('grandfather', 0.1979028044224809), ('paraphrased', 0.1979028044224809), ('simply', 0.1979028044224809), ('taught', 0.1979028044224809), ('sound', 0.354182816688575), ('words', 0.46147248688455594), ('main', 0.5552531748646843), ('reason', 0.5552531748646843)]\n",
      "*********************************************\n",
      "TABO words: Ridiculous\n"
     ]
    },
    {
     "data": {
      "text/html": [
       "<span style='color:red;' >yeah</span>, what a <span style='color:red;' >joke</span>. They can't <span style='color:red;' >confirm</span> the <span style='color:red;' >gunshot</span> <span style='color:red;' >wounds</span> were <span style='color:red;' >inflicted</span> by the <span style='color:red;' >police</span>? <span style='color:red;' >ridiculous</span>."
      ],
      "text/plain": [
       "<IPython.core.display.HTML object>"
      ]
     },
     "metadata": {},
     "output_type": "display_data"
    },
    {
     "name": "stdout",
     "output_type": "stream",
     "text": [
      "Keywords: 8\n",
      "[('yeah', 0.06588837669267192), ('joke', 0.13696809108329627), ('ridiculous', 0.26303348124903125), ('police', 0.3553358554145339), ('confirm', 0.4949246952252326), ('gunshot', 0.4949246952252326), ('wounds', 0.4949246952252326), ('inflicted', 0.4949246952252326)]\n",
      "*********************************************\n",
      "TABO words: stupid\n"
     ]
    },
    {
     "data": {
      "text/html": [
       "the <span style='color:red;' >globe</span> really has <span style='color:red;' >banal</span> <span style='color:red;' >stupid</span> <span style='color:red;' >people</span> that have zero <span style='color:red;' >ability</span> or <span style='color:red;' >interest</span> in <span style='color:red;' >analysis</span> as <span style='color:red;' >writers</span>,  just <span style='color:red;' >spew</span> out the same <span style='color:red;' >tired</span> <span style='color:red;' >cliches</span> no <span style='color:red;' >matter</span> the <span style='color:red;' >situation</span>."
      ],
      "text/plain": [
       "<IPython.core.display.HTML object>"
      ]
     },
     "metadata": {},
     "output_type": "display_data"
    },
    {
     "name": "stdout",
     "output_type": "stream",
     "text": [
      "Keywords: 13\n",
      "[('writers', 0.0771485953923296), ('situation', 0.0771485953923296), ('globe', 0.1155310835876123), ('banal', 0.1155310835876123), ('stupid', 0.1155310835876123), ('people', 0.1155310835876123), ('ability', 0.1155310835876123), ('interest', 0.1155310835876123), ('analysis', 0.1155310835876123), ('spew', 0.1155310835876123), ('tired', 0.1155310835876123), ('cliches', 0.1155310835876123), ('matter', 0.1155310835876123)]\n",
      "*********************************************\n",
      "TABO words: clown\n"
     ]
    },
    {
     "data": {
      "text/html": [
       "What was this <span style='color:red;' >clown</span> doing out?  Who is <span style='color:red;' >responsible</span>?  <span style='color:red;' >fire</span> them!"
      ],
      "text/plain": [
       "<IPython.core.display.HTML object>"
      ]
     },
     "metadata": {},
     "output_type": "display_data"
    },
    {
     "name": "stdout",
     "output_type": "stream",
     "text": [
      "Keywords: 3\n",
      "[('clown', 0.38831292435681075), ('responsible', 0.4949246952252326), ('fire', 0.5880798524606783)]\n",
      "*********************************************\n",
      "TABO words: Fuck off mandydewaal\n"
     ]
    },
    {
     "data": {
      "text/html": [
       "<span style='color:red;' >fuck</span> off <span style='color:red;' >mandydewaal</span>."
      ],
      "text/plain": [
       "<IPython.core.display.HTML object>"
      ]
     },
     "metadata": {},
     "output_type": "display_data"
    },
    {
     "name": "stdout",
     "output_type": "stream",
     "text": [
      "Keywords: 2\n",
      "[('fuck', 0.15831692877998726), ('mandydewaal', 0.15831692877998726)]\n",
      "*********************************************\n",
      "TABO words: fool\n"
     ]
    },
    {
     "data": {
      "text/html": [
       "Just <span style='color:red;' >ignore</span> the <span style='color:red;' >fool</span>."
      ],
      "text/plain": [
       "<IPython.core.display.HTML object>"
      ]
     },
     "metadata": {},
     "output_type": "display_data"
    },
    {
     "name": "stdout",
     "output_type": "stream",
     "text": [
      "Keywords: 2\n",
      "[('fool', 0.15831692877998726), ('ignore', 0.29736558256021506)]\n",
      "*********************************************\n",
      "TABO words: Stella dumb\n"
     ]
    },
    {
     "data": {
      "text/html": [
       "<span style='color:red;' >stella</span> St <span style='color:red;' >page</span>, That's one of the <span style='color:red;' >cheapest</span> <span style='color:red;' >dumb</span> <span style='color:red;' >blogs</span> ever. Anybody that <span style='color:red;' >donates</span> their <span style='color:red;' >time</span> to <span style='color:red;' >bettering</span> something, anything is doing something more than the <span style='color:red;' >complainers</span>. You should be <span style='color:red;' >ashamed</span>."
      ],
      "text/plain": [
       "<IPython.core.display.HTML object>"
      ]
     },
     "metadata": {},
     "output_type": "display_data"
    },
    {
     "name": "stdout",
     "output_type": "stream",
     "text": [
      "Keywords: 10\n",
      "[('page', 0.06949481646017519), ('stella', 0.13696809108329627), ('cheapest', 0.2200560909321288), ('dumb', 0.2200560909321288), ('blogs', 0.2200560909321288), ('complainers', 0.3553358554145339), ('ashamed', 0.44538603402402266), ('donates', 0.4949246952252326), ('time', 0.4949246952252326), ('bettering', 0.4949246952252326)]\n",
      "*********************************************\n",
      "TABO words: nonsense\n"
     ]
    },
    {
     "data": {
      "text/html": [
       "You are <span style='color:red;' >spouting</span> <span style='color:red;' >nonsense</span>."
      ],
      "text/plain": [
       "<IPython.core.display.HTML object>"
      ]
     },
     "metadata": {},
     "output_type": "display_data"
    },
    {
     "name": "stdout",
     "output_type": "stream",
     "text": [
      "Keywords: 2\n",
      "[('nonsense', 0.15831692877998726), ('spouting', 0.29736558256021506)]\n",
      "*********************************************\n",
      "TABO words: Ignorant foolish\n"
     ]
    },
    {
     "data": {
      "text/html": [
       "<span style='color:red;' >yep</span> <span style='color:red;' >randy</span>, <span style='color:red;' >statistics</span> and <span style='color:red;' >facts</span>, but those don't get in your way, do they?  <span style='color:red;' >ignorant</span> and <span style='color:red;' >foolish</span> indeed."
      ],
      "text/plain": [
       "<IPython.core.display.HTML object>"
      ]
     },
     "metadata": {},
     "output_type": "display_data"
    },
    {
     "name": "stdout",
     "output_type": "stream",
     "text": [
      "Keywords: 6\n",
      "[('randy', 0.06588837669267192), ('yep', 0.12363091320521931), ('statistics', 0.12363091320521931), ('facts', 0.12363091320521931), ('ignorant', 0.32883716426354986), ('foolish', 0.46553351027698087)]\n",
      "*********************************************\n",
      "TABO words: stuck stupid\n"
     ]
    },
    {
     "data": {
      "text/html": [
       "Such <span style='color:red;' >venom</span> and <span style='color:red;' >hatred</span>.  You probably have a <span style='color:red;' >picture</span> of <span style='color:red;' >kathy</span> <span style='color:red;' >griffin</span> in your <span style='color:red;' >room</span>.  No <span style='color:red;' >cure</span> for <span style='color:red;' >stuck</span> on <span style='color:red;' >stupid</span>."
      ],
      "text/plain": [
       "<IPython.core.display.HTML object>"
      ]
     },
     "metadata": {},
     "output_type": "display_data"
    },
    {
     "name": "stdout",
     "output_type": "stream",
     "text": [
      "Keywords: 9\n",
      "[('hatred', 0.2200560909321288), ('venom', 0.38831292435681075), ('kathy', 0.4041924234618373), ('griffin', 0.4041924234618373), ('room', 0.4949246952252326), ('stupid', 0.5880798524606783), ('picture', 0.68796622281612), ('cure', 0.7625957055371981), ('stuck', 0.7625957055371981)]\n",
      "*********************************************\n",
      "TABO words: ignorant\n"
     ]
    },
    {
     "data": {
      "text/html": [
       "He is a <span style='color:red;' >joke</span>.  He was <span style='color:red;' >handed</span> this <span style='color:red;' >position</span> on a <span style='color:red;' >silver</span> 0latter.  Instead of <span style='color:red;' >worrying</span> about <span style='color:red;' >climate</span> <span style='color:red;' >change</span>, how about doing something for the <span style='color:red;' >people</span> of <span style='color:red;' >hawaii</span>.  Also, \"his not my <span style='color:red;' >president</span>\" <span style='color:red;' >statement</span> really <span style='color:red;' >showed</span> what he <span style='color:red;' >thought</span> about the <span style='color:red;' >millions</span> of <span style='color:red;' >voters</span> who <span style='color:red;' >elected</span> <span style='color:red;' >trump</span>.  Its too <span style='color:red;' >bad</span> that the <span style='color:red;' >people</span> of <span style='color:red;' >hawaii</span> are so <span style='color:red;' >ignorant</span> that he will be in office for the rest of his <span style='color:red;' >life</span>.  Not much to look forward to."
      ],
      "text/plain": [
       "<IPython.core.display.HTML object>"
      ]
     },
     "metadata": {},
     "output_type": "display_data"
    },
    {
     "name": "stdout",
     "output_type": "stream",
     "text": [
      "Keywords: 20\n",
      "[('joke', 0.1305285988432465), ('hawaii', 0.14391112498174036), ('people', 0.19391825773203558), ('trump', 0.28546179793534215), ('silver', 0.3427066748088755), ('handed', 0.4150920661931919), ('position', 0.4150920661931919), ('change', 0.43169956229290823), ('president', 0.48211521884223996), ('statement', 0.48211521884223996), ('worrying', 0.5083444826127571), ('climate', 0.5083444826127571), ('life', 0.5151921597294297), ('showed', 0.5589080718695237), ('thought', 0.5589080718695237), ('millions', 0.5589080718695237), ('voters', 0.5589080718695237), ('elected', 0.5589080718695237), ('bad', 0.5912387602084456), ('ignorant', 0.5912387602084456)]\n",
      "*********************************************\n",
      "TABO words: Corrupt fiscal morons that is\n"
     ]
    },
    {
     "data": {
      "text/html": [
       "<span style='color:red;' >corrupt</span> <span style='color:red;' >fiscal</span> <span style='color:red;' >morons</span> that is."
      ],
      "text/plain": [
       "<IPython.core.display.HTML object>"
      ]
     },
     "metadata": {},
     "output_type": "display_data"
    },
    {
     "name": "stdout",
     "output_type": "stream",
     "text": [
      "Keywords: 3\n",
      "[('corrupt', 0.15831692877998726), ('fiscal', 0.29736558256021506), ('morons', 0.29736558256021506)]\n",
      "*********************************************\n",
      "TABO words: shoot him to deat crazyasscrackalivesmatter\n"
     ]
    },
    {
     "data": {
      "text/html": [
       "Do what most <span style='color:red;' >police</span> <span style='color:red;' >departments</span> are willing to do when someone <span style='color:red;' >fails</span> to <span style='color:red;' >obey</span> <span style='color:red;' >orders</span>: <span style='color:red;' >shoot</span> him to <span style='color:red;' >death</span>.  #crazyasscrackalivesmatter"
      ],
      "text/plain": [
       "<IPython.core.display.HTML object>"
      ]
     },
     "metadata": {},
     "output_type": "display_data"
    },
    {
     "name": "stdout",
     "output_type": "stream",
     "text": [
      "Keywords: 8\n",
      "[('orders', 0.10028582371075691), ('shoot', 0.10028582371075691), ('death', 0.10028582371075691), ('police', 0.14832923246533666), ('departments', 0.14832923246533666), ('fails', 0.14832923246533666), ('obey', 0.14832923246533666), ('crazyasscrackalivesmatter', 0.17881754828257995)]\n",
      "*********************************************\n",
      "TABO words: So we should get behind a clueless moron because by golly, he's our clueless moron? Best option is find him mentally unfit to command, (which is obvious to all our enemies if not all his equally moronic supporters) and get someone with a SMIDGEN of sense in command. I'd take Pence any day, and I don't like his politics, but at least he isn't senile\n"
     ]
    },
    {
     "data": {
      "text/html": [
       "So we should get behind a <span style='color:red;' >clueless</span> <span style='color:red;' >moron</span> because by <span style='color:red;' >golly</span>, he's our <span style='color:red;' >clueless</span> <span style='color:red;' >moron</span>? Best <span style='color:red;' >option</span> is <span style='color:red;' >find</span> him <span style='color:red;' >mentally</span> <span style='color:red;' >unfit</span> to <span style='color:red;' >command</span>, (which is <span style='color:red;' >obvious</span> to all our <span style='color:red;' >enemies</span> if not all his <span style='color:red;' >equally</span> <span style='color:red;' >moronic</span> <span style='color:red;' >supporters</span>) and get someone with a <span style='color:red;' >smidgen</span> of <span style='color:red;' >sense</span> in <span style='color:red;' >command</span>. I'd take <span style='color:red;' >pence</span> any <span style='color:red;' >day</span>, and I don't like his <span style='color:red;' >politics</span>, but at least he isn't <span style='color:red;' >senile</span>."
      ],
      "text/plain": [
       "<IPython.core.display.HTML object>"
      ]
     },
     "metadata": {},
     "output_type": "display_data"
    },
    {
     "name": "stdout",
     "output_type": "stream",
     "text": [
      "Keywords: 19\n",
      "[('clueless', 0.092972985067517), ('moron', 0.092972985067517), ('golly', 0.14446738052871477), ('command', 0.17760951550896426), ('smidgen', 0.2545701154046923), ('pence', 0.3322447910612219), ('supporters', 0.3696699796494677), ('day', 0.46075645250941355), ('politics', 0.46075645250941355), ('senile', 0.46075645250941355), ('option', 0.4781774322706169), ('find', 0.4781774322706169), ('mentally', 0.4781774322706169), ('unfit', 0.4781774322706169), ('obvious', 0.4781774322706169), ('enemies', 0.4781774322706169), ('equally', 0.4781774322706169), ('moronic', 0.4781774322706169), ('sense', 0.4781774322706169)]\n",
      "*********************************************\n",
      "TABO words: backing\n"
     ]
    },
    {
     "data": {
      "text/html": [
       "<span style='color:red;' >glad</span> he G&M is not <span style='color:red;' >backing</span> down from this <span style='color:red;' >jerk</span>."
      ],
      "text/plain": [
       "<IPython.core.display.HTML object>"
      ]
     },
     "metadata": {},
     "output_type": "display_data"
    },
    {
     "name": "stdout",
     "output_type": "stream",
     "text": [
      "Keywords: 3\n",
      "[('glad', 0.15831692877998726), ('jerk', 0.15831692877998726), ('backing', 0.29736558256021506)]\n",
      "*********************************************\n",
      "TABO words: stupid You are sick\n"
     ]
    },
    {
     "data": {
      "text/html": [
       "The <span style='color:red;' >economy</span> <span style='color:red;' >tanked</span> before his <span style='color:red;' >inauguration</span>. As <span style='color:red;' >clinton</span> said, \"It's the <span style='color:red;' >economy</span>, <span style='color:red;' >stupid</span>.\" <span style='color:red;' >bush</span> <span style='color:red;' >added</span> 14.7 <span style='color:red;' >million</span> to <span style='color:red;' >snap</span>, <span style='color:red;' >obama</span> <span style='color:red;' >added</span> 13.4 <span style='color:red;' >million</span> and it <span style='color:red;' >declined</span> after the <span style='color:red;' >economy</span> <span style='color:red;' >picked</span> up.   http://www.factcheck.org/2016/01/obamas-numbers-january-2016-update/ You haven't <span style='color:red;' >changed</span>, you are still lying <span style='color:red;' >constantly</span>, and you still write truly nasty replies to me, <span style='color:red;' >thinking</span> that I will see them before they are <span style='color:red;' >deleted</span>. Then you talk <span style='color:red;' >jesus</span> <span style='color:red;' >christ</span>. You are <span style='color:red;' >sick</span>, no two ways about it. Have a nice <span style='color:red;' >day</span>. In hell."
      ],
      "text/plain": [
       "<IPython.core.display.HTML object>"
      ]
     },
     "metadata": {},
     "output_type": "display_data"
    },
    {
     "name": "stdout",
     "output_type": "stream",
     "text": [
      "Keywords: 20\n",
      "[('economy', 0.1051111119940833), ('inauguration', 0.15024799064041097), ('tanked', 0.19397960934708838), ('added', 0.19933508314603474), ('million', 0.19933508314603474), ('clinton', 0.22814343399981973), ('snap', 0.2584756547329529), ('obama', 0.2584756547329529), ('stupid', 0.2989583885753683), ('christ', 0.32778974200418853), ('jesus', 0.3759483465145562), ('bush', 0.47220752850065295), ('changed', 0.5230002759225273), ('constantly', 0.5230002759225273), ('thinking', 0.5230002759225273), ('deleted', 0.5230002759225273), ('declined', 0.5490954886084805), ('picked', 0.5490954886084805), ('sick', 0.5791915336704309), ('day', 0.5967677219148697)]\n",
      "*********************************************\n"
     ]
    }
   ],
   "source": [
    "for i in range(200, 300):\n",
    "    displayer(test_texts, test_taboo , index=i)\n",
    "    print(\"*********************************************\")"
   ]
  },
  {
   "cell_type": "markdown",
   "metadata": {},
   "source": [
    "# For Modeling"
   ]
  },
  {
   "cell_type": "code",
   "execution_count": 179,
   "metadata": {},
   "outputs": [],
   "source": [
    "import yake \n",
    "import re\n",
    "\n",
    "def kw_extractor(text, max_ngram_size=2, th=0):\n",
    "    text = re.sub(r'^https?:\\/\\/.*[\\r\\n]*', '', text, flags=re.MULTILINE)\n",
    "    kw_extractor = yake.KeywordExtractor(n=max_ngram_size)\n",
    "    keywords = kw_extractor.extract_keywords(text)\n",
    "    keywords = [kw for kw in keywords if kw[1] >= th]\n",
    "    #print(\"Keywords:\", len(keywords))\n",
    "    return [kw[0] for kw in keywords]"
   ]
  },
  {
   "cell_type": "code",
   "execution_count": 193,
   "metadata": {},
   "outputs": [],
   "source": [
    "import pke\n",
    "\n",
    "def kw_extractor(text, max_ngram_size=2, n=20):\n",
    "    extractor = pke.unsupervised.TopicRank()\n",
    "    extractor.load_document(text, language='en')\n",
    "    extractor.candidate_selection()\n",
    "    extractor.candidate_weighting()\n",
    "    keyphrases = extractor.get_n_best(n=n)\n",
    "    return [kw[0] for kw in keyphrases]"
   ]
  },
  {
   "cell_type": "code",
   "execution_count": 194,
   "metadata": {},
   "outputs": [],
   "source": [
    "import itertools\n",
    "\n",
    "F = lambda x:[word for word in ''.join(['<TABO>'+x[0][x[1][i]] if x[1][i-1] + 1 != x[1][i] else x[0][x[1][i]] \n",
    "             for i in range(len(x[1]))]).split(\"<TABO>\") if word != '']\n",
    "\n",
    "def contiguous_ranges(span_list):\n",
    "    \"\"\"Extracts continguous runs [1, 2, 3, 5, 6, 7] -> [(1,3), (5,7)].\"\"\"\n",
    "    output = []\n",
    "    for _, span in itertools.groupby(\n",
    "        enumerate(span_list), lambda p: p[1] - p[0]):\n",
    "        span = list(span)\n",
    "        output.append((span[0][1], span[-1][1]))\n",
    "    return output"
   ]
  },
  {
   "cell_type": "code",
   "execution_count": 201,
   "metadata": {
    "scrolled": false
   },
   "outputs": [
    {
     "name": "stdout",
     "output_type": "stream",
     "text": [
      "Because he's a moron and a bigot. It's not any more complicated than that.\n",
      "----------------------------------------------------\n",
      "0 \t ['moron', 'bigot'] \t [(15, 19), (27, 31)]\n",
      "----------------------------------------------------\n",
      "CLEAN TOXID: moron bigot\n",
      "----------------------------------------------------\n",
      "KW size: 3 Word sizes: 14\n",
      "toxic\t 1.0 \t bigot\n",
      "toxic\t 1.0 \t moron\n",
      "normal\t complicated\n",
      "********************************************************************\n",
      "what is too pathetic is the lie you just fell for, no one will loose health care loser, there is to be a national fund to ensure that,,, \n",
      "You are the far nut job lunatic left fringe of stupidity\n",
      "----------------------------------------------------\n",
      "50 \t ['stupidity'] \t [(185, 193)]\n",
      "----------------------------------------------------\n",
      "CLEAN TOXID: stupidity\n",
      "----------------------------------------------------\n",
      "KW size: 6 Word sizes: 39\n",
      "normal\t health care loser\n",
      "normal\t one\n",
      "normal\t lie\n",
      "normal\t pathetic\n",
      "normal\t national fund\n",
      "toxic\t 1.0 \t stupidity\n",
      "********************************************************************\n",
      "Trump troll!\n",
      "----------------------------------------------------\n",
      "100 \t ['troll'] \t [(6, 10)]\n",
      "----------------------------------------------------\n",
      "CLEAN TOXID: troll\n",
      "----------------------------------------------------\n",
      "KW size: 1 Word sizes: 2\n",
      "normal\t trump troll\n",
      "********************************************************************\n",
      "\"I fly all the time around the world.\"\n",
      "\n",
      "No, you do not. You're not an independently wealthy jet setter, and you're not a pilot. You're a retired garbage man.\n",
      "----------------------------------------------------\n",
      "150 \t [] \t []\n",
      "----------------------------------------------------\n",
      "CLEAN TOXID: \n",
      "----------------------------------------------------\n",
      "KW size: 5 Word sizes: 30\n",
      "normal\t world\n",
      "normal\t time\n",
      "normal\t pilot\n",
      "normal\t retired garbage man\n",
      "normal\t wealthy jet setter\n",
      "********************************************************************\n",
      "When was Nazi Germany part of Canada Brissy?\n",
      "\n",
      "The sad little fact is that sometimes, sometimes, evil needs to be met on its own turf.\n",
      "\n",
      "Luckily for some, other courageous people often offer to do the dirty work for the cowardly.\n",
      "----------------------------------------------------\n",
      "200 \t ['Nazi', 'little', 'dirty', 'cowardly'] \t [(9, 12), (54, 59), (199, 203), (218, 225)]\n",
      "----------------------------------------------------\n",
      "CLEAN TOXID: nazi little dirty cowardly\n",
      "----------------------------------------------------\n",
      "KW size: 6 Word sizes: 41\n",
      "normal\t canada brissy\n",
      "normal\t nazi germany part\n",
      "normal\t sad little fact\n",
      "toxic\t 0.5555555555555556 \t dirty work\n",
      "toxic\t 1.0 \t cowardly\n",
      "toxic\t 0.6 \t evil\n",
      "********************************************************************\n",
      "Republicans are hypocrites, but you knew that already.\n",
      "----------------------------------------------------\n",
      "250 \t ['Republicans', 'hypocrites'] \t [(0, 10), (16, 25)]\n",
      "----------------------------------------------------\n",
      "CLEAN TOXID: republicans hypocrites\n",
      "----------------------------------------------------\n",
      "KW size: 2 Word sizes: 8\n",
      "toxic\t 1.0 \t hypocrites\n",
      "toxic\t 1.0 \t republicans\n",
      "********************************************************************\n",
      "Nazi scum\n",
      "----------------------------------------------------\n",
      "300 \t ['Nazi scum'] \t [(0, 8)]\n",
      "----------------------------------------------------\n",
      "CLEAN TOXID: nazi scum\n",
      "----------------------------------------------------\n",
      "KW size: 1 Word sizes: 2\n",
      "normal\t nazi scum\n",
      "********************************************************************\n",
      "Never uttered or wrote that crap. You're a liar stuck in a pig fight with yourself. Don't forget the lipstick.\n",
      "----------------------------------------------------\n",
      "350 \t [] \t []\n",
      "----------------------------------------------------\n",
      "CLEAN TOXID: \n",
      "----------------------------------------------------\n",
      "KW size: 4 Word sizes: 20\n",
      "normal\t liar\n",
      "normal\t pig fight\n",
      "normal\t crap\n",
      "normal\t lipstick\n",
      "********************************************************************\n",
      "What an ignorant statement.\n",
      "----------------------------------------------------\n",
      "400 \t ['ignorant'] \t [(8, 15)]\n",
      "----------------------------------------------------\n",
      "CLEAN TOXID: ignorant\n",
      "----------------------------------------------------\n",
      "KW size: 1 Word sizes: 4\n",
      "toxic\t 0.6363636363636364 \t ignorant statement\n",
      "********************************************************************\n",
      "Im pretty sure wage growth is statistical for gentrification. Politics?!? Really people need to stop fantasizing about their popularity contests and realize politicians are scum.\n",
      "----------------------------------------------------\n",
      "450 \t ['scum'] \t [(173, 176)]\n",
      "----------------------------------------------------\n",
      "CLEAN TOXID: scum\n",
      "----------------------------------------------------\n",
      "KW size: 8 Word sizes: 25\n",
      "normal\t gentrification\n",
      "normal\t statistical\n",
      "normal\t politics\n",
      "normal\t politicians\n",
      "normal\t sure wage growth\n",
      "toxic\t 1.0 \t scum\n",
      "normal\t popularity contests\n",
      "normal\t people\n",
      "********************************************************************\n",
      "re: Everyone who owns a house has benefited from idiotic rises in housing prices.\n",
      "\n",
      "No, only people who have sold (and not re-bought, or re-bought, but in a cheaper geographical market than they sold) have benefitted. People that think they benefitted, by taking out equity to reno or do other things with, but have not sold, or have sold and \"upgraded\" will not have benefitted as a portion of their \"equity\" will disappear over the next couple of years with rate increases and probably will not return for a very long time (decade or so). Everybody else who just live in their homes and didn't borrow anything against them as they skyrocketed in value, how have they benefitted?\n",
      "----------------------------------------------------\n",
      "500 \t ['idiotic'] \t [(49, 55)]\n",
      "----------------------------------------------------\n",
      "CLEAN TOXID: idiotic\n",
      "----------------------------------------------------\n",
      "KW size: 14 Word sizes: 120\n",
      "normal\t years\n",
      "normal\t equity\n",
      "normal\t next couple\n",
      "normal\t rate increases\n",
      "normal\t house\n",
      "normal\t long time\n",
      "normal\t decade\n",
      "toxic\t 0.5555555555555556 \t idiotic rises\n",
      "normal\t portion\n",
      "normal\t upgraded\n",
      "normal\t people\n",
      "normal\t homes\n",
      "normal\t cheaper geographical market\n",
      "normal\t value\n",
      "********************************************************************\n",
      "... the millions of North Koreans that have died and been tortured for decades should be reason alone ... the dumb@$$ who tried thieving a propaganda poster while visiting is simply a Darwin award database addition.\n",
      "----------------------------------------------------\n",
      "550 \t ['dumb'] \t [(110, 113)]\n",
      "----------------------------------------------------\n",
      "CLEAN TOXID: dumb\n",
      "----------------------------------------------------\n",
      "KW size: 6 Word sizes: 34\n",
      "normal\t north koreans\n",
      "normal\t millions\n",
      "normal\t decades\n",
      "normal\t reason\n",
      "normal\t propaganda poster\n",
      "normal\t darwin award database addition\n",
      "********************************************************************\n",
      "Which of the two is it that you do not know to make such a ridiculous statement?\n",
      "----------------------------------------------------\n",
      "600 \t ['ridiculous', 'statement'] \t [(59, 68), (70, 78)]\n",
      "----------------------------------------------------\n",
      "CLEAN TOXID: ridiculous statement\n",
      "----------------------------------------------------\n",
      "KW size: 1 Word sizes: 17\n",
      "toxic\t 0.5714285714285714 \t ridiculous statement\n",
      "********************************************************************\n",
      "Amen Brother Richard ... what the heck is WRRROOOOONNNNGGG as Cheetolini would say with these whacked out hillbilly Republicans that voted for this MONSTER ...\n",
      "----------------------------------------------------\n",
      "650 \t ['hillbilly Republicans'] \t [(106, 126)]\n",
      "----------------------------------------------------\n",
      "CLEAN TOXID: hillbilly republicans\n",
      "----------------------------------------------------\n",
      "KW size: 6 Word sizes: 23\n",
      "normal\t wrrrooooonnnnggg\n",
      "normal\t heck\n",
      "normal\t cheetolini\n",
      "normal\t brother richard\n",
      "toxic\t 1.0 \t republicans\n",
      "normal\t monster\n",
      "********************************************************************\n"
     ]
    }
   ],
   "source": [
    "import string\n",
    "import distance\n",
    "\n",
    "for i in range(0, 690, 50):\n",
    "    index = i\n",
    "    print(test_texts[index])\n",
    "    print('----------------------------------------------------')\n",
    "\n",
    "    toxic_words = F([test_texts[index], y_test[index]])\n",
    "    cnr = contiguous_ranges(y_test[index])\n",
    "\n",
    "    print(index, '\\t', toxic_words, '\\t', cnr)\n",
    "    print('----------------------------------------------------')\n",
    "    print(\"CLEAN TOXID:\", re.sub(r\"[,.;@#?!&$-]+\", ' ', ' '.join(toxic_words).lower()))\n",
    "    text = re.sub(r\"[,.;@#?!&$-]+\", ' ', test_texts[index].lower())\n",
    "    print('----------------------------------------------------')\n",
    "    kws = kw_extractor(test_texts[index], max_ngram_size=2)\n",
    "    print(\"KW size:\", len(kws), \"Word sizes:\", len(text.split()))\n",
    "    #print(' '.join(toxic_words).lower())\n",
    "    toxics = re.sub(r\"[,.;@#?!&$-]+\", ' ', ' '.join(toxic_words).lower()).split()\n",
    "    for kw in kws:\n",
    "        flag = True\n",
    "        for tox in toxics:\n",
    "            if 1-distance.jaccard(tox, kw) > 0.5:\n",
    "                print(\"toxic\\t\",1-distance.jaccard(tox, kw),'\\t', kw)\n",
    "                flag = False\n",
    "                break\n",
    "        if flag:\n",
    "            print(\"normal\\t\", kw)\n",
    "        #if kw in toxics:\n",
    "        #    print(\"toxic\\t\", kw)\n",
    "        #else:\n",
    "        #    print(\"normal\\t\", kw)\n",
    "\n",
    "    #print(\"KWS:\\t\", kws)\n",
    "    print(\"********************************************************************\")"
   ]
  },
  {
   "cell_type": "code",
   "execution_count": 140,
   "metadata": {},
   "outputs": [
    {
     "name": "stdout",
     "output_type": "stream",
     "text": [
      "This is an example of string with punctuation\n"
     ]
    }
   ],
   "source": [
    "import string\n",
    "input_str = \"This &is [an] example? {of} string. with.? punctuation!!!!\" # Sample string\n",
    "result = input_str.translate(str.maketrans(\"\",\"\", string.punctuation))\n",
    "print(result)"
   ]
  },
  {
   "cell_type": "code",
   "execution_count": null,
   "metadata": {},
   "outputs": [],
   "source": []
  },
  {
   "cell_type": "code",
   "execution_count": null,
   "metadata": {},
   "outputs": [],
   "source": []
  },
  {
   "cell_type": "code",
   "execution_count": null,
   "metadata": {},
   "outputs": [],
   "source": []
  },
  {
   "cell_type": "code",
   "execution_count": null,
   "metadata": {},
   "outputs": [],
   "source": []
  },
  {
   "cell_type": "code",
   "execution_count": 71,
   "metadata": {},
   "outputs": [
    {
     "name": "stdout",
     "output_type": "stream",
     "text": [
      "0  ,  ['moron', 'bigot']\n",
      "TABO words:  moron bigot\n",
      "14    Because he's a moron and a bigot. It's not any more complicated than that.\n"
     ]
    },
    {
     "data": {
      "text/html": [
       "Because he's a <span style='color:red;' >[moron]</span> and a <span style='color:red;' >[bigot]</span>. It's not any more <span style='color:red;' >[complicated]</span> than that."
      ],
      "text/plain": [
       "<IPython.core.display.HTML object>"
      ]
     },
     "metadata": {},
     "output_type": "display_data"
    },
    {
     "name": "stdout",
     "output_type": "stream",
     "text": [
      "3 KWS: {'moron', 'complicated', 'bigot'}\n",
      "*********************************************\n",
      "50  ,  ['stupidity']\n",
      "TABO words:  stupidity\n",
      "39    what is too pathetic is the lie you just fell for, no one will loose health care loser, there is to be a national fund to ensure that,,, \n",
      "You are the far nut job lunatic left fringe of stupidity\n"
     ]
    },
    {
     "data": {
      "text/html": [
       "what is too <span style='color:red;' >[pathetic]</span> is the <span style='color:red;' >[lie]</span> you just <span style='color:red;' >[fell]</span> for, no one will <span style='color:red;' >[loose]</span> <span style='color:red;' >[health]</span> <span style='color:red;' >[care]</span> <span style='color:red;' >[loser]</span>, there is to be a <span style='color:red;' >[national]</span> <span style='color:red;' >[fund]</span> to <span style='color:red;' >[ensure]</span> that,,,  You are the far <span style='color:red;' >[nut]</span> <span style='color:red;' >[job]</span> <span style='color:red;' >[lunatic]</span> <span style='color:red;' >[left]</span> <span style='color:red;' >[fringe]</span> of <span style='color:red;' >[stupidity]</span>"
      ],
      "text/plain": [
       "<IPython.core.display.HTML object>"
      ]
     },
     "metadata": {},
     "output_type": "display_data"
    },
    {
     "name": "stdout",
     "output_type": "stream",
     "text": [
      "16 KWS: {'left', 'national', 'pathetic', 'loser', 'care', 'nut', 'loose', 'job', 'fund', 'lunatic', 'fringe', 'lie', 'health', 'ensure', 'fell', 'stupidity'}\n",
      "*********************************************\n",
      "100  ,  ['troll']\n",
      "TABO words:  troll\n",
      "2    Trump troll!\n"
     ]
    },
    {
     "data": {
      "text/html": [
       "<span style='color:red;' >[trump]</span> <span style='color:red;' >[troll]</span>!"
      ],
      "text/plain": [
       "<IPython.core.display.HTML object>"
      ]
     },
     "metadata": {},
     "output_type": "display_data"
    },
    {
     "name": "stdout",
     "output_type": "stream",
     "text": [
      "2 KWS: {'troll', 'trump'}\n",
      "*********************************************\n",
      "150  ,  []\n",
      "TABO words: \n",
      "29    \"I fly all the time around the world.\"\n",
      "\n",
      "No, you do not. You're not an independently wealthy jet setter, and you're not a pilot. You're a retired garbage man.\n"
     ]
    },
    {
     "data": {
      "text/html": [
       "\"I <span style='color:red;' >[fly]</span> all the <span style='color:red;' >[time]</span> around the <span style='color:red;' >[world]</span>.\"  No, you do not. You're not an <span style='color:red;' >[independently]</span> <span style='color:red;' >[wealthy]</span> <span style='color:red;' >[jet]</span> <span style='color:red;' >[setter]</span>, and you're not a <span style='color:red;' >[pilot]</span>. You're a <span style='color:red;' >[retired]</span> <span style='color:red;' >[garbage]</span> <span style='color:red;' >[man]</span>."
      ],
      "text/plain": [
       "<IPython.core.display.HTML object>"
      ]
     },
     "metadata": {},
     "output_type": "display_data"
    },
    {
     "name": "stdout",
     "output_type": "stream",
     "text": [
      "11 KWS: {'setter', 'man', 'retired', 'garbage', 'fly', 'world', 'pilot', 'wealthy', 'jet', 'independently', 'time'}\n",
      "*********************************************\n",
      "200  ,  ['Nazi', 'little', 'dirty', 'cowardly']\n",
      "TABO words:  Nazi little dirty cowardly\n",
      "41    When was Nazi Germany part of Canada Brissy?\n",
      "\n",
      "The sad little fact is that sometimes, sometimes, evil needs to be met on its own turf.\n",
      "\n",
      "Luckily for some, other courageous people often offer to do the dirty work for the cowardly.\n"
     ]
    },
    {
     "data": {
      "text/html": [
       "When was <span style='color:red;' >[nazi]</span> <span style='color:red;' >[germany]</span> <span style='color:red;' >[part]</span> of <span style='color:red;' >[canada]</span> <span style='color:red;' >[brissy]</span>?  The <span style='color:red;' >[sad]</span> little <span style='color:red;' >[fact]</span> is that sometimes, sometimes, <span style='color:red;' >[evil]</span> needs to be <span style='color:red;' >[met]</span> on its own <span style='color:red;' >[turf]</span>.  <span style='color:red;' >[luckily]</span> for some, other <span style='color:red;' >[courageous]</span> <span style='color:red;' >[people]</span> often <span style='color:red;' >[offer]</span> to do the <span style='color:red;' >[dirty]</span> <span style='color:red;' >[work]</span> for the <span style='color:red;' >[cowardly]</span>."
      ],
      "text/plain": [
       "<IPython.core.display.HTML object>"
      ]
     },
     "metadata": {},
     "output_type": "display_data"
    },
    {
     "name": "stdout",
     "output_type": "stream",
     "text": [
      "17 KWS: {'sad', 'brissy', 'luckily', 'evil', 'work', 'part', 'offer', 'nazi', 'germany', 'cowardly', 'turf', 'fact', 'people', 'courageous', 'dirty', 'canada', 'met'}\n",
      "*********************************************\n",
      "250  ,  ['Republicans', 'hypocrites']\n",
      "TABO words:  Republicans hypocrites\n",
      "8    Republicans are hypocrites, but you knew that already.\n"
     ]
    },
    {
     "data": {
      "text/html": [
       "<span style='color:red;' >[republicans]</span> are <span style='color:red;' >[hypocrites]</span>, but you <span style='color:red;' >[knew]</span> that already."
      ],
      "text/plain": [
       "<IPython.core.display.HTML object>"
      ]
     },
     "metadata": {},
     "output_type": "display_data"
    },
    {
     "name": "stdout",
     "output_type": "stream",
     "text": [
      "3 KWS: {'knew', 'hypocrites', 'republicans'}\n",
      "*********************************************\n",
      "300  ,  ['Nazi scum']\n",
      "TABO words:  Nazi scum\n",
      "2    Nazi scum\n"
     ]
    },
    {
     "data": {
      "text/html": [
       "<span style='color:red;' >[nazi]</span> <span style='color:red;' >[scum]</span>"
      ],
      "text/plain": [
       "<IPython.core.display.HTML object>"
      ]
     },
     "metadata": {},
     "output_type": "display_data"
    },
    {
     "name": "stdout",
     "output_type": "stream",
     "text": [
      "2 KWS: {'scum', 'nazi'}\n",
      "*********************************************\n",
      "350  ,  []\n",
      "TABO words: \n",
      "20    Never uttered or wrote that crap. You're a liar stuck in a pig fight with yourself. Don't forget the lipstick.\n"
     ]
    },
    {
     "data": {
      "text/html": [
       "Never <span style='color:red;' >[uttered]</span> or <span style='color:red;' >[wrote]</span> that <span style='color:red;' >[crap]</span>. You're a <span style='color:red;' >[liar]</span> <span style='color:red;' >[stuck]</span> in a <span style='color:red;' >[pig]</span> <span style='color:red;' >[fight]</span> with yourself. Don't <span style='color:red;' >[forget]</span> the <span style='color:red;' >[lipstick]</span>."
      ],
      "text/plain": [
       "<IPython.core.display.HTML object>"
      ]
     },
     "metadata": {},
     "output_type": "display_data"
    },
    {
     "name": "stdout",
     "output_type": "stream",
     "text": [
      "9 KWS: {'uttered', 'forget', 'wrote', 'pig', 'liar', 'crap', 'lipstick', 'fight', 'stuck'}\n",
      "*********************************************\n",
      "400  ,  ['ignorant']\n",
      "TABO words:  ignorant\n",
      "4    What an ignorant statement.\n"
     ]
    },
    {
     "data": {
      "text/html": [
       "What an <span style='color:red;' >[ignorant]</span> <span style='color:red;' >[statement]</span>."
      ],
      "text/plain": [
       "<IPython.core.display.HTML object>"
      ]
     },
     "metadata": {},
     "output_type": "display_data"
    },
    {
     "name": "stdout",
     "output_type": "stream",
     "text": [
      "2 KWS: {'ignorant', 'statement'}\n",
      "*********************************************\n",
      "450  ,  ['scum']\n",
      "TABO words:  scum\n",
      "25    Im pretty sure wage growth is statistical for gentrification. Politics?!? Really people need to stop fantasizing about their popularity contests and realize politicians are scum.\n"
     ]
    },
    {
     "data": {
      "text/html": [
       "Im <span style='color:red;' >[pretty]</span> sure <span style='color:red;' >[wage]</span> <span style='color:red;' >[growth]</span> is <span style='color:red;' >[statistical]</span> for <span style='color:red;' >[gentrification]</span>. <span style='color:red;' >[politics]</span>?!? Really <span style='color:red;' >[people]</span> need to <span style='color:red;' >[stop]</span> <span style='color:red;' >[fantasizing]</span> about their <span style='color:red;' >[popularity]</span> <span style='color:red;' >[contests]</span> and <span style='color:red;' >[realize]</span> <span style='color:red;' >[politicians]</span> are <span style='color:red;' >[scum]</span>."
      ],
      "text/plain": [
       "<IPython.core.display.HTML object>"
      ]
     },
     "metadata": {},
     "output_type": "display_data"
    },
    {
     "name": "stdout",
     "output_type": "stream",
     "text": [
      "14 KWS: {'statistical', 'popularity', 'contests', 'politics', 'wage', 'scum', 'stop', 'pretty', 'realize', 'people', 'fantasizing', 'growth', 'gentrification', 'politicians'}\n",
      "*********************************************\n",
      "500  ,  ['idiotic']\n",
      "TABO words:  idiotic\n",
      "118    re: Everyone who owns a house has benefited from idiotic rises in housing prices.\n",
      "\n",
      "No, only people who have sold (and not re-bought, or re-bought, but in a cheaper geographical market than they sold) have benefitted. People that think they benefitted, by taking out equity to reno or do other things with, but have not sold, or have sold and \"upgraded\" will not have benefitted as a portion of their \"equity\" will disappear over the next couple of years with rate increases and probably will not return for a very long time (decade or so). Everybody else who just live in their homes and didn't borrow anything against them as they skyrocketed in value, how have they benefitted?\n"
     ]
    },
    {
     "data": {
      "text/html": [
       "re: Everyone who owns a <span style='color:red;' >[house]</span> has <span style='color:red;' >[benefited]</span> from <span style='color:red;' >[idiotic]</span> <span style='color:red;' >[rises]</span> in <span style='color:red;' >[housing]</span> <span style='color:red;' >[prices]</span>.  No, only <span style='color:red;' >[people]</span> who have <span style='color:red;' >[sold]</span> (and not <span style='color:red;' >[re-bought]</span>, or <span style='color:red;' >[re-bought]</span>, but in a <span style='color:red;' >[cheaper]</span> <span style='color:red;' >[geographical]</span> <span style='color:red;' >[market]</span> than they <span style='color:red;' >[sold]</span>) have <span style='color:red;' >[benefitted]</span>. <span style='color:red;' >[people]</span> that think they <span style='color:red;' >[benefitted]</span>, by <span style='color:red;' >[taking]</span> out <span style='color:red;' >[equity]</span> to <span style='color:red;' >[reno]</span> or do other <span style='color:red;' >[things]</span> with, but have not <span style='color:red;' >[sold]</span>, or have <span style='color:red;' >[sold]</span> and \"<span style='color:red;' >[upgraded]</span>\" will not have <span style='color:red;' >[benefitted]</span> as a portion of their \"<span style='color:red;' >[equity]</span>\" will disappear over the next couple of years with rate increases and probably will not return for a very long <span style='color:red;' >[time]</span> (<span style='color:red;' >[decade]</span> or so). Everybody else who just live in their homes and didn't borrow anything against them as they skyrocketed in value, how have they <span style='color:red;' >[benefitted]</span>?"
      ],
      "text/plain": [
       "<IPython.core.display.HTML object>"
      ]
     },
     "metadata": {},
     "output_type": "display_data"
    },
    {
     "name": "stdout",
     "output_type": "stream",
     "text": [
      "20 KWS: {'decade', 'housing', 're-bought', 'market', 'time', 'idiotic', 'cheaper', 'taking', 'things', 'benefited', 'house', 'rises', 'benefitted', 'equity', 'people', 'reno', 'prices', 'geographical', 'sold', 'upgraded'}\n",
      "*********************************************\n",
      "550  ,  ['dumb']\n",
      "TABO words:  dumb\n",
      "36    ... the millions of North Koreans that have died and been tortured for decades should be reason alone ... the dumb@$$ who tried thieving a propaganda poster while visiting is simply a Darwin award database addition.\n"
     ]
    },
    {
     "data": {
      "text/html": [
       "... the <span style='color:red;' >[millions]</span> of <span style='color:red;' >[north]</span> <span style='color:red;' >[koreans]</span> that have <span style='color:red;' >[died]</span> and been <span style='color:red;' >[tortured]</span> for <span style='color:red;' >[decades]</span> should be <span style='color:red;' >[reason]</span> alone ... the dumb@$$ who tried <span style='color:red;' >[thieving]</span> a <span style='color:red;' >[propaganda]</span> <span style='color:red;' >[poster]</span> while <span style='color:red;' >[visiting]</span> is <span style='color:red;' >[simply]</span> a <span style='color:red;' >[darwin]</span> <span style='color:red;' >[award]</span> <span style='color:red;' >[database]</span> <span style='color:red;' >[addition]</span>."
      ],
      "text/plain": [
       "<IPython.core.display.HTML object>"
      ]
     },
     "metadata": {},
     "output_type": "display_data"
    },
    {
     "name": "stdout",
     "output_type": "stream",
     "text": [
      "17 KWS: {'koreans', 'addition', 'darwin', 'reason', 'millions', 'thieving', 'propaganda', 'poster', 'award', 'database', 'died', 'north', 'decades', 'simply', 'visiting', 'tortured', 'dumb'}\n",
      "*********************************************\n",
      "600  ,  ['ridiculous', 'statement']\n",
      "TABO words:  ridiculous statement\n",
      "17    Which of the two is it that you do not know to make such a ridiculous statement?\n"
     ]
    },
    {
     "data": {
      "text/html": [
       "Which of the two is it that you do not know to <span style='color:red;' >[make]</span> such a <span style='color:red;' >[ridiculous]</span> <span style='color:red;' >[statement]</span>?"
      ],
      "text/plain": [
       "<IPython.core.display.HTML object>"
      ]
     },
     "metadata": {},
     "output_type": "display_data"
    },
    {
     "name": "stdout",
     "output_type": "stream",
     "text": [
      "3 KWS: {'make', 'statement', 'ridiculous'}\n",
      "*********************************************\n",
      "650  ,  ['hillbilly Republicans']\n",
      "TABO words:  hillbilly Republicans\n",
      "25    Amen Brother Richard ... what the heck is WRRROOOOONNNNGGG as Cheetolini would say with these whacked out hillbilly Republicans that voted for this MONSTER ...\n"
     ]
    },
    {
     "data": {
      "text/html": [
       "<span style='color:red;' >[amen]</span> <span style='color:red;' >[brother]</span> <span style='color:red;' >[richard]</span> ... what the <span style='color:red;' >[heck]</span> is <span style='color:red;' >[wrrrooooonnnnggg]</span> as <span style='color:red;' >[cheetolini]</span> would say with these <span style='color:red;' >[whacked]</span> out <span style='color:red;' >[hillbilly]</span> <span style='color:red;' >[republicans]</span> that <span style='color:red;' >[voted]</span> for this <span style='color:red;' >[monster]</span> ..."
      ],
      "text/plain": [
       "<IPython.core.display.HTML object>"
      ]
     },
     "metadata": {},
     "output_type": "display_data"
    },
    {
     "name": "stdout",
     "output_type": "stream",
     "text": [
      "11 KWS: {'whacked', 'voted', 'amen', 'heck', 'richard', 'monster', 'wrrrooooonnnnggg', 'republicans', 'cheetolini', 'brother', 'hillbilly'}\n",
      "*********************************************\n"
     ]
    }
   ],
   "source": [
    "#X_test, y_test , test_taboo, test_texts\n",
    "for i in range(0, 690, 50):\n",
    "    index = i\n",
    "\n",
    "    print(index, ' , ' , F([test_texts[index], y_test[index]]))\n",
    "    displayer(test_texts, test_taboo , index=index)\n",
    "    print(\"*********************************************\")"
   ]
  },
  {
   "cell_type": "code",
   "execution_count": null,
   "metadata": {},
   "outputs": [],
   "source": []
  }
 ],
 "metadata": {
  "kernelspec": {
   "display_name": "Python 3",
   "language": "python",
   "name": "python3"
  },
  "language_info": {
   "codemirror_mode": {
    "name": "ipython",
    "version": 3
   },
   "file_extension": ".py",
   "mimetype": "text/x-python",
   "name": "python",
   "nbconvert_exporter": "python",
   "pygments_lexer": "ipython3",
   "version": "3.6.9"
  }
 },
 "nbformat": 4,
 "nbformat_minor": 2
}
