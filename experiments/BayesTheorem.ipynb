{
 "cells": [
  {
   "cell_type": "markdown",
   "metadata": {},
   "source": [
    "# Expermenting with Conditional Random Field Model\n",
    "-------------"
   ]
  },
  {
   "cell_type": "markdown",
   "metadata": {},
   "source": [
    "Loading data and models for CRF cross validations"
   ]
  },
  {
   "cell_type": "code",
   "execution_count": 1,
   "metadata": {},
   "outputs": [
    {
     "name": "stderr",
     "output_type": "stream",
     "text": [
      "/home/hb/.local/lib/python3.6/site-packages/spacy/util.py:275: UserWarning: [W031] Model 'en_core_web_sm' (2.2.5) requires spaCy v2.2 and is incompatible with the current spaCy version (2.3.2). This may lead to unexpected results or runtime errors. To resolve this, download a newer compatible model or retrain your custom model with the current spaCy version. For more details and available updates, run: python -m spacy validate\n",
      "  warnings.warn(warn_msg)\n"
     ]
    },
    {
     "data": {
      "text/html": [
       "<div>\n",
       "<style scoped>\n",
       "    .dataframe tbody tr th:only-of-type {\n",
       "        vertical-align: middle;\n",
       "    }\n",
       "\n",
       "    .dataframe tbody tr th {\n",
       "        vertical-align: top;\n",
       "    }\n",
       "\n",
       "    .dataframe thead th {\n",
       "        text-align: right;\n",
       "    }\n",
       "</style>\n",
       "<table border=\"1\" class=\"dataframe\">\n",
       "  <thead>\n",
       "    <tr style=\"text-align: right;\">\n",
       "      <th></th>\n",
       "      <th>spans</th>\n",
       "      <th>text</th>\n",
       "    </tr>\n",
       "  </thead>\n",
       "  <tbody>\n",
       "    <tr>\n",
       "      <th>0</th>\n",
       "      <td>[15, 16, 17, 18, 19, 27, 28, 29, 30, 31]</td>\n",
       "      <td>Because he's a moron and a bigot. It's not any...</td>\n",
       "    </tr>\n",
       "    <tr>\n",
       "      <th>1</th>\n",
       "      <td>[29, 30, 31, 32, 33, 34]</td>\n",
       "      <td>How about we stop protecting idiots and let na...</td>\n",
       "    </tr>\n",
       "    <tr>\n",
       "      <th>2</th>\n",
       "      <td>[166, 167, 168, 169, 170, 171]</td>\n",
       "      <td>If people  were  smart, they would  Boycott th...</td>\n",
       "    </tr>\n",
       "  </tbody>\n",
       "</table>\n",
       "</div>"
      ],
      "text/plain": [
       "                                      spans  \\\n",
       "0  [15, 16, 17, 18, 19, 27, 28, 29, 30, 31]   \n",
       "1                  [29, 30, 31, 32, 33, 34]   \n",
       "2            [166, 167, 168, 169, 170, 171]   \n",
       "\n",
       "                                                text  \n",
       "0  Because he's a moron and a bigot. It's not any...  \n",
       "1  How about we stop protecting idiots and let na...  \n",
       "2  If people  were  smart, they would  Boycott th...  "
      ]
     },
     "metadata": {},
     "output_type": "display_data"
    },
    {
     "data": {
      "text/html": [
       "<div>\n",
       "<style scoped>\n",
       "    .dataframe tbody tr th:only-of-type {\n",
       "        vertical-align: middle;\n",
       "    }\n",
       "\n",
       "    .dataframe tbody tr th {\n",
       "        vertical-align: top;\n",
       "    }\n",
       "\n",
       "    .dataframe thead th {\n",
       "        text-align: right;\n",
       "    }\n",
       "</style>\n",
       "<table border=\"1\" class=\"dataframe\">\n",
       "  <thead>\n",
       "    <tr style=\"text-align: right;\">\n",
       "      <th></th>\n",
       "      <th>spans</th>\n",
       "      <th>text</th>\n",
       "    </tr>\n",
       "  </thead>\n",
       "  <tbody>\n",
       "    <tr>\n",
       "      <th>0</th>\n",
       "      <td>[8, 9, 10, 11, 12, 13, 14, 15, 16, 17, 18, 19,...</td>\n",
       "      <td>Another violent and aggressive immigrant killi...</td>\n",
       "    </tr>\n",
       "    <tr>\n",
       "      <th>1</th>\n",
       "      <td>[33, 34, 35, 36, 37, 38, 39]</td>\n",
       "      <td>I am 56 years old, I am not your fucking junio...</td>\n",
       "    </tr>\n",
       "    <tr>\n",
       "      <th>2</th>\n",
       "      <td>[0, 1, 2, 3]</td>\n",
       "      <td>Damn, a whole family. Sad indeed.</td>\n",
       "    </tr>\n",
       "  </tbody>\n",
       "</table>\n",
       "</div>"
      ],
      "text/plain": [
       "                                               spans  \\\n",
       "0  [8, 9, 10, 11, 12, 13, 14, 15, 16, 17, 18, 19,...   \n",
       "1                       [33, 34, 35, 36, 37, 38, 39]   \n",
       "2                                       [0, 1, 2, 3]   \n",
       "\n",
       "                                                text  \n",
       "0  Another violent and aggressive immigrant killi...  \n",
       "1  I am 56 years old, I am not your fucking junio...  \n",
       "2                  Damn, a whole family. Sad indeed.  "
      ]
     },
     "metadata": {},
     "output_type": "display_data"
    }
   ],
   "source": [
    "import __init__\n",
    "import models.crf as crf\n",
    "import models.cross_validator as cross_validator\n",
    "import models.datahandler as datahandler\n",
    "from models.datamodel import DataModel\n",
    "import models.outputmaker as outputmaker\n",
    "import evaluator.metrics as metrics\n",
    "\n",
    "trial = datahandler.load_train('../data/dataset/tsd_trial.csv', verbose=True)\n",
    "train = datahandler.load_train('../data/dataset/tsd_train.csv', verbose=True)"
   ]
  },
  {
   "cell_type": "markdown",
   "metadata": {},
   "source": [
    "Initialize `CRF Model` Methods"
   ]
  },
  {
   "cell_type": "code",
   "execution_count": 2,
   "metadata": {},
   "outputs": [],
   "source": [
    "datamodel = DataModel(model='crf')\n",
    "\n",
    "output_maker = outputmaker.crf_output\n",
    "\n",
    "evaluator = metrics"
   ]
  },
  {
   "cell_type": "code",
   "execution_count": 3,
   "metadata": {},
   "outputs": [
    {
     "name": "stderr",
     "output_type": "stream",
     "text": [
      "100%|██████████| 7939/7939 [08:49<00:00, 14.99it/s]\n",
      "100%|██████████| 690/690 [00:50<00:00, 13.66it/s]\n"
     ]
    }
   ],
   "source": [
    "X_train, y_train , train_taboo_words, train_texts = cross_validator.load_data(train, [i for i in range(train.shape[0])], \n",
    "                                                    datamodel, logger=True)\n",
    "\n",
    "X_test, y_test , test_taboo_words, test_texts = cross_validator.load_data(trial, [i for i in range(trial.shape[0])], \n",
    "                                                           datamodel, logger=True)"
   ]
  },
  {
   "cell_type": "code",
   "execution_count": 5,
   "metadata": {},
   "outputs": [
    {
     "data": {
      "text/plain": [
       "[('Because', 'IN', 'normal', [0, 1, 2, 3, 4, 5, 6]),\n",
       " ('he', 'PRP', 'normal', [8, 9]),\n",
       " ('a', 'DT', 'normal', [13]),\n",
       " ('moron', 'NN', 'toxic', [15, 16, 17, 18, 19]),\n",
       " ('and', 'CC', 'normal', [21, 22, 23]),\n",
       " ('a', 'DT', 'normal', [25]),\n",
       " ('bigot', 'NNP', 'toxic', [27, 28, 29, 30, 31]),\n",
       " ('It', 'PRP', 'normal', [34, 35]),\n",
       " ('not', 'RB', 'normal', [39, 40, 41]),\n",
       " ('any', 'DT', 'normal', [43, 44, 45]),\n",
       " ('more', 'RBR', 'normal', [47, 48, 49, 50]),\n",
       " ('complicated', 'JJ', 'normal', [52, 53, 54, 55, 56, 57, 58, 59, 60, 61, 62]),\n",
       " ('than', 'IN', 'normal', [64, 65, 66, 67]),\n",
       " ('that', 'DT', 'normal', [69, 70, 71, 72])]"
      ]
     },
     "execution_count": 5,
     "metadata": {},
     "output_type": "execute_result"
    }
   ],
   "source": [
    "X_test[0]"
   ]
  },
  {
   "cell_type": "code",
   "execution_count": 6,
   "metadata": {},
   "outputs": [],
   "source": [
    "from tqdm import tqdm \n",
    "from nltk.stem.porter import *\n",
    "stemmer = PorterStemmer()\n",
    "\n",
    "\n",
    "special_chars = ['O', '4', '͞', 'ü', '😞', '»', '”', '\\x7f', '\"', '7', '*', '8', ')',\n",
    "      '😂', '💀', '{', '0', 'ʻ', '💨', '•', '#', '_', '😊', '😜', 'ó', '😅', \n",
    "      '¬', '☠', '🙄', '😉', '😆', '―','(', '.', '?', '😵', '💥', ':', '🆘',\n",
    "      '$', '=', '+', ';', '🔥', '😁','`', 'ï', '2', 'ê', 'é', '3', '-', '🤥',\n",
    "      '⚽', 'É', '️', '!', '5', '✭', '9', '😈', 'ˈ', '😬', '@', '«', '/', '▀', '’',\n",
    "      '😡', '1', '%', ',', '&', '6', '\\\\', ']', \"'\", '[', '^', '}', '⚾', '\\u200b',\n",
    "       '☭', '☹', '<', 'l', '™', '👎']\n",
    "\n",
    "\n",
    "F_cleaner = lambda x: ''.join([w for w in x if w not in special_chars ]).lower()\n",
    "\n",
    "     \n",
    "def cleaning(X):\n",
    "    cleaned_x = []\n",
    "    for words in tqdm(X):\n",
    "        cleaned_words = []\n",
    "        for word in words :\n",
    "            w, pos, tag, span = word\n",
    "            cleaned_w = F_cleaner(w)\n",
    "            if len(cleaned_w) != 0:\n",
    "                #cleaned_words.append((cleaned_w, pos, tag, span))\n",
    "                cleaned_words.append((stemmer.stem(cleaned_w), pos, tag, span) )\n",
    "        cleaned_x.append(cleaned_words)\n",
    "    return cleaned_x"
   ]
  },
  {
   "cell_type": "code",
   "execution_count": 7,
   "metadata": {},
   "outputs": [
    {
     "name": "stderr",
     "output_type": "stream",
     "text": [
      "100%|██████████| 7939/7939 [00:06<00:00, 1159.30it/s]\n",
      "100%|██████████| 690/690 [00:00<00:00, 1220.79it/s]\n"
     ]
    }
   ],
   "source": [
    "X_train_clean = cleaning(X_train)\n",
    "X_test_clean = cleaning(X_test)"
   ]
  },
  {
   "cell_type": "code",
   "execution_count": 8,
   "metadata": {},
   "outputs": [
    {
     "data": {
      "text/plain": [
       "[('becaus', 'IN', 'normal', [0, 1, 2, 3, 4, 5, 6]),\n",
       " ('he', 'PRP', 'normal', [8, 9]),\n",
       " ('a', 'DT', 'normal', [13]),\n",
       " ('moron', 'NN', 'toxic', [15, 16, 17, 18, 19]),\n",
       " ('and', 'CC', 'normal', [21, 22, 23]),\n",
       " ('a', 'DT', 'normal', [25]),\n",
       " ('bigot', 'NNP', 'toxic', [27, 28, 29, 30, 31]),\n",
       " ('it', 'PRP', 'normal', [34, 35]),\n",
       " ('not', 'RB', 'normal', [39, 40, 41]),\n",
       " ('ani', 'DT', 'normal', [43, 44, 45]),\n",
       " ('more', 'RBR', 'normal', [47, 48, 49, 50]),\n",
       " ('compic', 'JJ', 'normal', [52, 53, 54, 55, 56, 57, 58, 59, 60, 61, 62]),\n",
       " ('than', 'IN', 'normal', [64, 65, 66, 67]),\n",
       " ('that', 'DT', 'normal', [69, 70, 71, 72])]"
      ]
     },
     "execution_count": 8,
     "metadata": {},
     "output_type": "execute_result"
    }
   ],
   "source": [
    "X_test_clean[0]"
   ]
  },
  {
   "cell_type": "code",
   "execution_count": null,
   "metadata": {},
   "outputs": [],
   "source": []
  },
  {
   "cell_type": "markdown",
   "metadata": {},
   "source": [
    "# Bayes Theorem\n",
    "<img src=\"images/bayes-theorem.webp\" style=\"width:400px;height:150px;\">\n",
    "\n",
    "* P(A|B) – the probability of event A occurring, given event B has occurred\n",
    "* P(B|A) – the probability of event B occurring, given event A has occurred\n",
    "* P(A) – the probability of event A\n",
    "* P(B) – the probability of event B\n",
    "\n",
    "<img src=\"images/bayes-theorem2.webp\" style=\"width:500px;height:150px;\">\n",
    "\n",
    "* P(B|A–) – the probability of event B occurring given that event A– has occurred\n",
    "* P(B|A+) – the probability of event B occurring given that event A+ has occurred\n",
    "\n",
    "\n",
    "`In the special case above, events A– and A+ are mutually exclusive outcomes of event A.`"
   ]
  },
  {
   "cell_type": "code",
   "execution_count": null,
   "metadata": {},
   "outputs": [],
   "source": [
    "word_matrix = set()\n",
    "word2index = {}\n",
    "index2word = {}"
   ]
  },
  {
   "cell_type": "code",
   "execution_count": null,
   "metadata": {},
   "outputs": [],
   "source": []
  },
  {
   "cell_type": "code",
   "execution_count": null,
   "metadata": {},
   "outputs": [],
   "source": []
  }
 ],
 "metadata": {
  "kernelspec": {
   "display_name": "Python 3",
   "language": "python",
   "name": "python3"
  },
  "language_info": {
   "codemirror_mode": {
    "name": "ipython",
    "version": 3
   },
   "file_extension": ".py",
   "mimetype": "text/x-python",
   "name": "python",
   "nbconvert_exporter": "python",
   "pygments_lexer": "ipython3",
   "version": "3.6.9"
  }
 },
 "nbformat": 4,
 "nbformat_minor": 2
}
