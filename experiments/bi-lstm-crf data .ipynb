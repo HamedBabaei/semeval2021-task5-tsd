{
 "cells": [
  {
   "cell_type": "code",
   "execution_count": 29,
   "metadata": {},
   "outputs": [
    {
     "name": "stdout",
     "output_type": "stream",
     "text": [
      "train-token-df.csv  \u001b[0m\u001b[01;31mtrain-trail-tokens.zip\u001b[0m  trial-token-df.csv\r\n"
     ]
    }
   ],
   "source": [
    "ls ../data/dataset-v2"
   ]
  },
  {
   "cell_type": "code",
   "execution_count": 30,
   "metadata": {},
   "outputs": [],
   "source": [
    "import pandas as pd\n",
    "\n",
    "train_tokens = pd.read_csv(\"../data/dataset-v2/train-token-df.csv\")\n",
    "trial_tokens = pd.read_csv(\"../data/dataset-v2/trial-token-df.csv\")"
   ]
  },
  {
   "cell_type": "code",
   "execution_count": 31,
   "metadata": {},
   "outputs": [
    {
     "data": {
      "text/html": [
       "<div>\n",
       "<style scoped>\n",
       "    .dataframe tbody tr th:only-of-type {\n",
       "        vertical-align: middle;\n",
       "    }\n",
       "\n",
       "    .dataframe tbody tr th {\n",
       "        vertical-align: top;\n",
       "    }\n",
       "\n",
       "    .dataframe thead th {\n",
       "        text-align: right;\n",
       "    }\n",
       "</style>\n",
       "<table border=\"1\" class=\"dataframe\">\n",
       "  <thead>\n",
       "    <tr style=\"text-align: right;\">\n",
       "      <th></th>\n",
       "      <th>index</th>\n",
       "      <th>text</th>\n",
       "      <th>grand-truth</th>\n",
       "      <th>taboo-words</th>\n",
       "      <th>token</th>\n",
       "      <th>token-tag</th>\n",
       "      <th>token-iob</th>\n",
       "      <th>token-span</th>\n",
       "      <th>class</th>\n",
       "    </tr>\n",
       "  </thead>\n",
       "  <tbody>\n",
       "    <tr>\n",
       "      <th>0</th>\n",
       "      <td>0</td>\n",
       "      <td>Another violent and aggressive immigrant killi...</td>\n",
       "      <td>[8, 9, 10, 11, 12, 13, 14, 15, 16, 17, 18, 19,...</td>\n",
       "      <td>['violent and aggressive immigrant']</td>\n",
       "      <td>Another</td>\n",
       "      <td>DT</td>\n",
       "      <td>O</td>\n",
       "      <td>[0, 1, 2, 3, 4, 5, 6]</td>\n",
       "      <td>normal</td>\n",
       "    </tr>\n",
       "    <tr>\n",
       "      <th>1</th>\n",
       "      <td>0</td>\n",
       "      <td>Another violent and aggressive immigrant killi...</td>\n",
       "      <td>[8, 9, 10, 11, 12, 13, 14, 15, 16, 17, 18, 19,...</td>\n",
       "      <td>['violent and aggressive immigrant']</td>\n",
       "      <td>violent</td>\n",
       "      <td>JJ</td>\n",
       "      <td>O</td>\n",
       "      <td>[8, 9, 10, 11, 12, 13, 14]</td>\n",
       "      <td>toxic</td>\n",
       "    </tr>\n",
       "  </tbody>\n",
       "</table>\n",
       "</div>"
      ],
      "text/plain": [
       "   index                                               text  \\\n",
       "0      0  Another violent and aggressive immigrant killi...   \n",
       "1      0  Another violent and aggressive immigrant killi...   \n",
       "\n",
       "                                         grand-truth  \\\n",
       "0  [8, 9, 10, 11, 12, 13, 14, 15, 16, 17, 18, 19,...   \n",
       "1  [8, 9, 10, 11, 12, 13, 14, 15, 16, 17, 18, 19,...   \n",
       "\n",
       "                            taboo-words    token token-tag token-iob  \\\n",
       "0  ['violent and aggressive immigrant']  Another        DT         O   \n",
       "1  ['violent and aggressive immigrant']  violent        JJ         O   \n",
       "\n",
       "                   token-span   class  \n",
       "0       [0, 1, 2, 3, 4, 5, 6]  normal  \n",
       "1  [8, 9, 10, 11, 12, 13, 14]   toxic  "
      ]
     },
     "execution_count": 31,
     "metadata": {},
     "output_type": "execute_result"
    }
   ],
   "source": [
    "train_tokens.head(2)"
   ]
  },
  {
   "cell_type": "code",
   "execution_count": 35,
   "metadata": {},
   "outputs": [],
   "source": [
    "size = 100\n",
    "\n",
    "train = \"\"\n",
    "groups = train_tokens.groupby('index')\n",
    "for i in range(size):\n",
    "    df = groups.get_group(i)\n",
    "    tokens, classes = df['token'].tolist(), df['class'].tolist()\n",
    "    for j, token in enumerate(tokens):\n",
    "        train += (token + \"\\t\" + classes[j] + \"\\n\")\n",
    "    if i - 1 != size:\n",
    "        train += \"\\n\"\n",
    "\n",
    "trial = \"\"\n",
    "groups = trial_tokens.groupby('index')\n",
    "for i in range(size):\n",
    "    df = groups.get_group(i)\n",
    "    tokens, classes = df['token'].tolist(), df['class'].tolist()\n",
    "    for j, token in enumerate(tokens):\n",
    "        trial += (token + \"\\t\" + classes[j] + \"\\n\")\n",
    "    if i - 1 != size:\n",
    "        trial += \"\\n\"\n"
   ]
  },
  {
   "cell_type": "code",
   "execution_count": 36,
   "metadata": {},
   "outputs": [],
   "source": [
    "with open(\"../data/dataset-v2/train100.txt\",'w' ,encoding='utf-8') as f:\n",
    "    f.write(train)\n",
    "    \n",
    "with open(\"../data/dataset-v2/trial100.txt\",'w' ,encoding='utf-8') as f:\n",
    "    f.write(trial)"
   ]
  },
  {
   "cell_type": "code",
   "execution_count": 37,
   "metadata": {},
   "outputs": [],
   "source": [
    "\n",
    "with open(\"BiLSTM-CRF/data/train.txt\",'w' ,encoding='utf-8') as f:\n",
    "    f.write(train)\n",
    "    \n",
    "with open(\"BiLSTM-CRF/data/test.txt\",'w' ,encoding='utf-8') as f:\n",
    "    f.write(trial)"
   ]
  },
  {
   "cell_type": "code",
   "execution_count": null,
   "metadata": {},
   "outputs": [],
   "source": []
  }
 ],
 "metadata": {
  "kernelspec": {
   "display_name": "Python 3",
   "language": "python",
   "name": "python3"
  },
  "language_info": {
   "codemirror_mode": {
    "name": "ipython",
    "version": 3
   },
   "file_extension": ".py",
   "mimetype": "text/x-python",
   "name": "python",
   "nbconvert_exporter": "python",
   "pygments_lexer": "ipython3",
   "version": "3.6.9"
  }
 },
 "nbformat": 4,
 "nbformat_minor": 2
}
